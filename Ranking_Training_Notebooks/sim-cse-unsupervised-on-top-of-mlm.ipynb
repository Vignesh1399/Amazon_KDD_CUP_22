{
 "cells": [
  {
   "cell_type": "code",
   "execution_count": 1,
   "id": "5f150db1",
   "metadata": {
    "_cell_guid": "b1076dfc-b9ad-4769-8c92-a6c4dae69d19",
    "_uuid": "8f2839f25d086af736a60e9eeb907d3b93b6e0e5",
    "execution": {
     "iopub.execute_input": "2022-06-26T03:23:37.448714Z",
     "iopub.status.busy": "2022-06-26T03:23:37.447406Z",
     "iopub.status.idle": "2022-06-26T03:23:37.489772Z",
     "shell.execute_reply": "2022-06-26T03:23:37.488820Z"
    },
    "papermill": {
     "duration": 0.055461,
     "end_time": "2022-06-26T03:23:37.492377",
     "exception": false,
     "start_time": "2022-06-26T03:23:37.436916",
     "status": "completed"
    },
    "tags": []
   },
   "outputs": [
    {
     "name": "stdout",
     "output_type": "stream",
     "text": [
      "/kaggle/input/product-catalogue/data/processed/public/task_1_query-product_ranking/product_catalogue-v0.2.csv\n",
      "/kaggle/input/distilbertlm/checkpoint-309354/config.json\n",
      "/kaggle/input/distilbertlm/checkpoint-309354/trainer_state.json\n",
      "/kaggle/input/distilbertlm/checkpoint-309354/training_args.bin\n",
      "/kaggle/input/distilbertlm/checkpoint-309354/tokenizer.json\n",
      "/kaggle/input/distilbertlm/checkpoint-309354/tokenizer_config.json\n",
      "/kaggle/input/distilbertlm/checkpoint-309354/pytorch_model.bin\n",
      "/kaggle/input/distilbertlm/checkpoint-309354/scaler.pt\n",
      "/kaggle/input/distilbertlm/checkpoint-309354/scheduler.pt\n",
      "/kaggle/input/distilbertlm/checkpoint-309354/special_tokens_map.json\n",
      "/kaggle/input/distilbertlm/checkpoint-309354/optimizer.pt\n",
      "/kaggle/input/distilbertlm/checkpoint-309354/vocab.txt\n",
      "/kaggle/input/distilbertlm/checkpoint-309354/rng_state.pth\n",
      "/kaggle/input/distilbertlm/checkpoint-154677/config.json\n",
      "/kaggle/input/distilbertlm/checkpoint-154677/trainer_state.json\n",
      "/kaggle/input/distilbertlm/checkpoint-154677/training_args.bin\n",
      "/kaggle/input/distilbertlm/checkpoint-154677/tokenizer.json\n",
      "/kaggle/input/distilbertlm/checkpoint-154677/tokenizer_config.json\n",
      "/kaggle/input/distilbertlm/checkpoint-154677/pytorch_model.bin\n",
      "/kaggle/input/distilbertlm/checkpoint-154677/scaler.pt\n",
      "/kaggle/input/distilbertlm/checkpoint-154677/scheduler.pt\n",
      "/kaggle/input/distilbertlm/checkpoint-154677/special_tokens_map.json\n",
      "/kaggle/input/distilbertlm/checkpoint-154677/optimizer.pt\n",
      "/kaggle/input/distilbertlm/checkpoint-154677/vocab.txt\n",
      "/kaggle/input/distilbertlm/checkpoint-154677/rng_state.pth\n"
     ]
    }
   ],
   "source": [
    "# This Python 3 environment comes with many helpful analytics libraries installed\n",
    "# It is defined by the kaggle/python Docker image: https://github.com/kaggle/docker-python\n",
    "# For example, here's several helpful packages to load\n",
    "\n",
    "import numpy as np # linear algebra\n",
    "import pandas as pd # data processing, CSV file I/O (e.g. pd.read_csv)\n",
    "\n",
    "# Input data files are available in the read-only \"../input/\" directory\n",
    "# For example, running this (by clicking run or pressing Shift+Enter) will list all files under the input directory\n",
    "\n",
    "import os\n",
    "for dirname, _, filenames in os.walk('/kaggle/input'):\n",
    "    for filename in filenames:\n",
    "        print(os.path.join(dirname, filename))\n",
    "\n",
    "# You can write up to 20GB to the current directory (/kaggle/working/) that gets preserved as output when you create a version using \"Save & Run All\" \n",
    "# You can also write temporary files to /kaggle/temp/, but they won't be saved outside of the current session"
   ]
  },
  {
   "cell_type": "code",
   "execution_count": 2,
   "id": "bc0963e9",
   "metadata": {
    "execution": {
     "iopub.execute_input": "2022-06-26T03:23:37.506374Z",
     "iopub.status.busy": "2022-06-26T03:23:37.505512Z",
     "iopub.status.idle": "2022-06-26T03:23:37.510306Z",
     "shell.execute_reply": "2022-06-26T03:23:37.509471Z"
    },
    "papermill": {
     "duration": 0.013606,
     "end_time": "2022-06-26T03:23:37.512228",
     "exception": false,
     "start_time": "2022-06-26T03:23:37.498622",
     "status": "completed"
    },
    "tags": []
   },
   "outputs": [],
   "source": [
    "pd.set_option('display.max_colwidth', None)\n",
    "pd.set_option('display.max_rows', 10)"
   ]
  },
  {
   "cell_type": "code",
   "execution_count": 3,
   "id": "56fa6a42",
   "metadata": {
    "execution": {
     "iopub.execute_input": "2022-06-26T03:23:37.525247Z",
     "iopub.status.busy": "2022-06-26T03:23:37.524721Z",
     "iopub.status.idle": "2022-06-26T03:23:51.258510Z",
     "shell.execute_reply": "2022-06-26T03:23:51.257397Z"
    },
    "papermill": {
     "duration": 13.743606,
     "end_time": "2022-06-26T03:23:51.261731",
     "exception": false,
     "start_time": "2022-06-26T03:23:37.518125",
     "status": "completed"
    },
    "tags": []
   },
   "outputs": [
    {
     "name": "stdout",
     "output_type": "stream",
     "text": [
      "Collecting sentence-transformers\r\n"
     ]
    },
    {
     "name": "stdout",
     "output_type": "stream",
     "text": [
      "  Downloading sentence-transformers-2.2.1.tar.gz (84 kB)\r\n",
      "\u001b[?25l     \u001b[90m━━━━━━━━━━━━━━━━━━━━━━━━━━━━━━━━━━━━━━━━\u001b[0m \u001b[32m0.0/84.0 kB\u001b[0m \u001b[31m?\u001b[0m eta \u001b[36m-:--:--\u001b[0m\r\n",
      "\u001b[2K     \u001b[91m━━━━━━━━━━━━━━━━━━━\u001b[0m\u001b[90m╺\u001b[0m\u001b[90m━━━━━━━━━━━━━━━━━━━━\u001b[0m \u001b[32m41.0/84.0 kB\u001b[0m \u001b[31m1.8 MB/s\u001b[0m eta \u001b[36m0:00:01\u001b[0m"
     ]
    },
    {
     "name": "stdout",
     "output_type": "stream",
     "text": [
      "\r\n",
      "\u001b[2K     \u001b[91m━━━━━━━━━━━━━━━━━━━━━━━━━━━━━━━━━━━━━━\u001b[0m\u001b[91m╸\u001b[0m\u001b[90m━\u001b[0m \u001b[32m81.9/84.0 kB\u001b[0m \u001b[31m1.1 MB/s\u001b[0m eta \u001b[36m0:00:01\u001b[0m\r\n",
      "\u001b[2K     \u001b[90m━━━━━━━━━━━━━━━━━━━━━━━━━━━━━━━━━━━━━━━\u001b[0m \u001b[32m84.0/84.0 kB\u001b[0m \u001b[31m850.0 kB/s\u001b[0m eta \u001b[36m0:00:00\u001b[0m\r\n",
      "\u001b[?25h"
     ]
    },
    {
     "name": "stdout",
     "output_type": "stream",
     "text": [
      "  Preparing metadata (setup.py) ... \u001b[?25l-"
     ]
    },
    {
     "name": "stdout",
     "output_type": "stream",
     "text": [
      "\b \bdone\r\n",
      "\u001b[?25hRequirement already satisfied: transformers<5.0.0,>=4.6.0 in /opt/conda/lib/python3.7/site-packages (from sentence-transformers) (4.18.0)\r\n",
      "Requirement already satisfied: tqdm in /opt/conda/lib/python3.7/site-packages (from sentence-transformers) (4.64.0)\r\n",
      "Requirement already satisfied: torch>=1.6.0 in /opt/conda/lib/python3.7/site-packages (from sentence-transformers) (1.11.0)\r\n",
      "Requirement already satisfied: torchvision in /opt/conda/lib/python3.7/site-packages (from sentence-transformers) (0.12.0)\r\n",
      "Requirement already satisfied: numpy in /opt/conda/lib/python3.7/site-packages (from sentence-transformers) (1.21.6)\r\n",
      "Requirement already satisfied: scikit-learn in /opt/conda/lib/python3.7/site-packages (from sentence-transformers) (1.0.2)\r\n",
      "Requirement already satisfied: scipy in /opt/conda/lib/python3.7/site-packages (from sentence-transformers) (1.7.3)\r\n",
      "Requirement already satisfied: nltk in /opt/conda/lib/python3.7/site-packages (from sentence-transformers) (3.2.4)\r\n",
      "Requirement already satisfied: sentencepiece in /opt/conda/lib/python3.7/site-packages (from sentence-transformers) (0.1.96)\r\n"
     ]
    },
    {
     "name": "stdout",
     "output_type": "stream",
     "text": [
      "Collecting huggingface-hub>=0.8.1\r\n"
     ]
    },
    {
     "name": "stdout",
     "output_type": "stream",
     "text": [
      "  Downloading huggingface_hub-0.8.1-py3-none-any.whl (101 kB)\r\n",
      "\u001b[?25l     \u001b[90m━━━━━━━━━━━━━━━━━━━━━━━━━━━━━━━━━━━━━━━━\u001b[0m \u001b[32m0.0/101.5 kB\u001b[0m \u001b[31m?\u001b[0m eta \u001b[36m-:--:--\u001b[0m\r\n",
      "\u001b[2K     \u001b[90m━━━━━━━━━━━━━━━━━━━━━━━━━━━━━━━━━━━━━━━\u001b[0m \u001b[32m101.5/101.5 kB\u001b[0m \u001b[31m2.9 MB/s\u001b[0m eta \u001b[36m0:00:00\u001b[0m\r\n",
      "\u001b[?25h"
     ]
    },
    {
     "name": "stdout",
     "output_type": "stream",
     "text": [
      "Requirement already satisfied: pyyaml>=5.1 in /opt/conda/lib/python3.7/site-packages (from huggingface-hub>=0.8.1->sentence-transformers) (6.0)\r\n",
      "Requirement already satisfied: packaging>=20.9 in /opt/conda/lib/python3.7/site-packages (from huggingface-hub>=0.8.1->sentence-transformers) (21.3)\r\n",
      "Requirement already satisfied: requests in /opt/conda/lib/python3.7/site-packages (from huggingface-hub>=0.8.1->sentence-transformers) (2.27.1)\r\n",
      "Requirement already satisfied: filelock in /opt/conda/lib/python3.7/site-packages (from huggingface-hub>=0.8.1->sentence-transformers) (3.6.0)\r\n",
      "Requirement already satisfied: typing-extensions>=3.7.4.3 in /opt/conda/lib/python3.7/site-packages (from huggingface-hub>=0.8.1->sentence-transformers) (4.1.1)\r\n",
      "Requirement already satisfied: importlib-metadata in /opt/conda/lib/python3.7/site-packages (from huggingface-hub>=0.8.1->sentence-transformers) (4.11.4)\r\n"
     ]
    },
    {
     "name": "stdout",
     "output_type": "stream",
     "text": [
      "Requirement already satisfied: sacremoses in /opt/conda/lib/python3.7/site-packages (from transformers<5.0.0,>=4.6.0->sentence-transformers) (0.0.53)\r\n",
      "Requirement already satisfied: regex!=2019.12.17 in /opt/conda/lib/python3.7/site-packages (from transformers<5.0.0,>=4.6.0->sentence-transformers) (2021.11.10)\r\n",
      "Requirement already satisfied: tokenizers!=0.11.3,<0.13,>=0.11.1 in /opt/conda/lib/python3.7/site-packages (from transformers<5.0.0,>=4.6.0->sentence-transformers) (0.12.1)\r\n"
     ]
    },
    {
     "name": "stdout",
     "output_type": "stream",
     "text": [
      "Requirement already satisfied: six in /opt/conda/lib/python3.7/site-packages (from nltk->sentence-transformers) (1.16.0)\r\n",
      "Requirement already satisfied: threadpoolctl>=2.0.0 in /opt/conda/lib/python3.7/site-packages (from scikit-learn->sentence-transformers) (3.1.0)\r\n",
      "Requirement already satisfied: joblib>=0.11 in /opt/conda/lib/python3.7/site-packages (from scikit-learn->sentence-transformers) (1.1.0)\r\n"
     ]
    },
    {
     "name": "stdout",
     "output_type": "stream",
     "text": [
      "Requirement already satisfied: pillow!=8.3.*,>=5.3.0 in /opt/conda/lib/python3.7/site-packages (from torchvision->sentence-transformers) (9.1.1)\r\n",
      "Requirement already satisfied: pyparsing!=3.0.5,>=2.0.2 in /opt/conda/lib/python3.7/site-packages (from packaging>=20.9->huggingface-hub>=0.8.1->sentence-transformers) (3.0.9)\r\n"
     ]
    },
    {
     "name": "stdout",
     "output_type": "stream",
     "text": [
      "Requirement already satisfied: zipp>=0.5 in /opt/conda/lib/python3.7/site-packages (from importlib-metadata->huggingface-hub>=0.8.1->sentence-transformers) (3.8.0)\r\n"
     ]
    },
    {
     "name": "stdout",
     "output_type": "stream",
     "text": [
      "Requirement already satisfied: idna<4,>=2.5 in /opt/conda/lib/python3.7/site-packages (from requests->huggingface-hub>=0.8.1->sentence-transformers) (3.3)\r\n",
      "Requirement already satisfied: certifi>=2017.4.17 in /opt/conda/lib/python3.7/site-packages (from requests->huggingface-hub>=0.8.1->sentence-transformers) (2022.6.15)\r\n",
      "Requirement already satisfied: charset-normalizer~=2.0.0 in /opt/conda/lib/python3.7/site-packages (from requests->huggingface-hub>=0.8.1->sentence-transformers) (2.0.12)\r\n",
      "Requirement already satisfied: urllib3<1.27,>=1.21.1 in /opt/conda/lib/python3.7/site-packages (from requests->huggingface-hub>=0.8.1->sentence-transformers) (1.26.9)\r\n",
      "Requirement already satisfied: click in /opt/conda/lib/python3.7/site-packages (from sacremoses->transformers<5.0.0,>=4.6.0->sentence-transformers) (8.0.4)\r\n"
     ]
    },
    {
     "name": "stdout",
     "output_type": "stream",
     "text": [
      "Building wheels for collected packages: sentence-transformers\r\n"
     ]
    },
    {
     "name": "stdout",
     "output_type": "stream",
     "text": [
      "  Building wheel for sentence-transformers (setup.py) ... \u001b[?25l-"
     ]
    },
    {
     "name": "stdout",
     "output_type": "stream",
     "text": [
      "\b \b\\"
     ]
    },
    {
     "name": "stdout",
     "output_type": "stream",
     "text": [
      "\b \b|\b \bdone\r\n"
     ]
    },
    {
     "name": "stdout",
     "output_type": "stream",
     "text": [
      "\u001b[?25h  Created wheel for sentence-transformers: filename=sentence_transformers-2.2.1-py3-none-any.whl size=125774 sha256=8019923b34df3095fa82e64f16a75b9dd44ecb0531d1d7b3829cda45b2dc0fae\r\n",
      "  Stored in directory: /root/.cache/pip/wheels/58/27/2f/708b4f002c226e57b6243769da345c650633175c7634f93365\r\n",
      "Successfully built sentence-transformers\r\n"
     ]
    },
    {
     "name": "stdout",
     "output_type": "stream",
     "text": [
      "Installing collected packages: huggingface-hub, sentence-transformers\r\n",
      "  Attempting uninstall: huggingface-hub\r\n",
      "    Found existing installation: huggingface-hub 0.7.0\r\n",
      "    Uninstalling huggingface-hub-0.7.0:\r\n"
     ]
    },
    {
     "name": "stdout",
     "output_type": "stream",
     "text": [
      "      Successfully uninstalled huggingface-hub-0.7.0\r\n"
     ]
    },
    {
     "name": "stdout",
     "output_type": "stream",
     "text": [
      "\u001b[31mERROR: pip's dependency resolver does not currently take into account all the packages that are installed. This behaviour is the source of the following dependency conflicts.\r\n",
      "cached-path 1.1.3 requires huggingface-hub<0.8.0,>=0.0.12, but you have huggingface-hub 0.8.1 which is incompatible.\u001b[0m\u001b[31m\r\n",
      "\u001b[0mSuccessfully installed huggingface-hub-0.8.1 sentence-transformers-2.2.1\r\n",
      "\u001b[33mWARNING: Running pip as the 'root' user can result in broken permissions and conflicting behaviour with the system package manager. It is recommended to use a virtual environment instead: https://pip.pypa.io/warnings/venv\u001b[0m\u001b[33m\r\n",
      "\u001b[0m"
     ]
    }
   ],
   "source": [
    "!pip install sentence-transformers"
   ]
  },
  {
   "cell_type": "code",
   "execution_count": 4,
   "id": "c16e0af3",
   "metadata": {
    "execution": {
     "iopub.execute_input": "2022-06-26T03:23:51.278213Z",
     "iopub.status.busy": "2022-06-26T03:23:51.277831Z",
     "iopub.status.idle": "2022-06-26T03:23:54.565689Z",
     "shell.execute_reply": "2022-06-26T03:23:54.564702Z"
    },
    "papermill": {
     "duration": 3.298759,
     "end_time": "2022-06-26T03:23:54.568248",
     "exception": false,
     "start_time": "2022-06-26T03:23:51.269489",
     "status": "completed"
    },
    "tags": []
   },
   "outputs": [],
   "source": [
    "from torch.utils.data import DataLoader\n",
    "import math\n",
    "from sentence_transformers import models, losses\n",
    "from sentence_transformers import LoggingHandler, SentenceTransformer, util, InputExample\n",
    "from sentence_transformers.evaluation import EmbeddingSimilarityEvaluator\n",
    "import logging\n",
    "from datetime import datetime"
   ]
  },
  {
   "cell_type": "code",
   "execution_count": 5,
   "id": "4b1fba14",
   "metadata": {
    "execution": {
     "iopub.execute_input": "2022-06-26T03:23:54.585733Z",
     "iopub.status.busy": "2022-06-26T03:23:54.583906Z",
     "iopub.status.idle": "2022-06-26T03:23:54.589748Z",
     "shell.execute_reply": "2022-06-26T03:23:54.588874Z"
    },
    "papermill": {
     "duration": 0.015808,
     "end_time": "2022-06-26T03:23:54.591610",
     "exception": false,
     "start_time": "2022-06-26T03:23:54.575802",
     "status": "completed"
    },
    "tags": []
   },
   "outputs": [],
   "source": [
    "logging.basicConfig(format='%(asctime)s - %(message)s',\n",
    "                    datefmt='%Y-%m-%d %H:%M:%S',\n",
    "                    level=logging.INFO,\n",
    "                    handlers=[LoggingHandler()])"
   ]
  },
  {
   "cell_type": "code",
   "execution_count": 6,
   "id": "1a4891ea",
   "metadata": {
    "execution": {
     "iopub.execute_input": "2022-06-26T03:23:54.606872Z",
     "iopub.status.busy": "2022-06-26T03:23:54.606614Z",
     "iopub.status.idle": "2022-06-26T03:24:02.638181Z",
     "shell.execute_reply": "2022-06-26T03:24:02.637212Z"
    },
    "papermill": {
     "duration": 8.041803,
     "end_time": "2022-06-26T03:24:02.640495",
     "exception": false,
     "start_time": "2022-06-26T03:23:54.598692",
     "status": "completed"
    },
    "tags": []
   },
   "outputs": [
    {
     "name": "stderr",
     "output_type": "stream",
     "text": [
      "Some weights of the model checkpoint at ../input/distilbertlm/checkpoint-309354 were not used when initializing DistilBertModel: ['vocab_transform.weight', 'vocab_projector.bias', 'vocab_layer_norm.weight', 'vocab_projector.weight', 'vocab_transform.bias', 'vocab_layer_norm.bias']\n",
      "- This IS expected if you are initializing DistilBertModel from the checkpoint of a model trained on another task or with another architecture (e.g. initializing a BertForSequenceClassification model from a BertForPreTraining model).\n",
      "- This IS NOT expected if you are initializing DistilBertModel from the checkpoint of a model that you expect to be exactly identical (initializing a BertForSequenceClassification model from a BertForSequenceClassification model).\n"
     ]
    }
   ],
   "source": [
    "model_name = '../input/distilbertlm/checkpoint-309354'\n",
    "word_embedding_model = models.Transformer(model_name, max_seq_length=128)\n",
    "\n",
    "# Apply mean pooling to get one fixed sized sentence vector\n",
    "pooling_model = models.Pooling(word_embedding_model.get_word_embedding_dimension())\n",
    "model = SentenceTransformer(modules=[word_embedding_model, pooling_model])"
   ]
  },
  {
   "cell_type": "code",
   "execution_count": 7,
   "id": "c7ee92e6",
   "metadata": {
    "execution": {
     "iopub.execute_input": "2022-06-26T03:24:02.657132Z",
     "iopub.status.busy": "2022-06-26T03:24:02.656209Z",
     "iopub.status.idle": "2022-06-26T03:24:27.049943Z",
     "shell.execute_reply": "2022-06-26T03:24:27.048976Z"
    },
    "papermill": {
     "duration": 24.404608,
     "end_time": "2022-06-26T03:24:27.052600",
     "exception": false,
     "start_time": "2022-06-26T03:24:02.647992",
     "status": "completed"
    },
    "tags": []
   },
   "outputs": [],
   "source": [
    "prod_cat = pd.read_csv('../input/product-catalogue/data/processed/public/task_1_query-product_ranking/product_catalogue-v0.2.csv')"
   ]
  },
  {
   "cell_type": "code",
   "execution_count": 8,
   "id": "d248725a",
   "metadata": {
    "execution": {
     "iopub.execute_input": "2022-06-26T03:24:27.069113Z",
     "iopub.status.busy": "2022-06-26T03:24:27.068796Z",
     "iopub.status.idle": "2022-06-26T03:24:27.088642Z",
     "shell.execute_reply": "2022-06-26T03:24:27.087623Z"
    },
    "papermill": {
     "duration": 0.031939,
     "end_time": "2022-06-26T03:24:27.092107",
     "exception": false,
     "start_time": "2022-06-26T03:24:27.060168",
     "status": "completed"
    },
    "tags": []
   },
   "outputs": [
    {
     "data": {
      "text/html": [
       "<div>\n",
       "<style scoped>\n",
       "    .dataframe tbody tr th:only-of-type {\n",
       "        vertical-align: middle;\n",
       "    }\n",
       "\n",
       "    .dataframe tbody tr th {\n",
       "        vertical-align: top;\n",
       "    }\n",
       "\n",
       "    .dataframe thead th {\n",
       "        text-align: right;\n",
       "    }\n",
       "</style>\n",
       "<table border=\"1\" class=\"dataframe\">\n",
       "  <thead>\n",
       "    <tr style=\"text-align: right;\">\n",
       "      <th></th>\n",
       "      <th>product_id</th>\n",
       "      <th>product_title</th>\n",
       "      <th>product_description</th>\n",
       "      <th>product_bullet_point</th>\n",
       "      <th>product_brand</th>\n",
       "      <th>product_color_name</th>\n",
       "      <th>product_locale</th>\n",
       "    </tr>\n",
       "  </thead>\n",
       "  <tbody>\n",
       "    <tr>\n",
       "      <th>0</th>\n",
       "      <td>B0188A3QRM</td>\n",
       "      <td>Amazon Basics Woodcased #2 Pencils, Unsharpened, HB Lead - Box of 144, Bulk Box</td>\n",
       "      <td>NaN</td>\n",
       "      <td>144 woodcase #2 HB pencils made from high-quality wood for clean, easy sharpening\\nStrong medium-soft lead produces long-lasting, smooth, readable strokes\\nRounded hexagonal shape with satin-smooth finish for a secure, comfortable grip\\nSoft, smudge-free, latex-free eraser secured to the end for conveniently wiping away mistakes</td>\n",
       "      <td>Amazon Basics</td>\n",
       "      <td>Yellow</td>\n",
       "      <td>us</td>\n",
       "    </tr>\n",
       "    <tr>\n",
       "      <th>1</th>\n",
       "      <td>B075VXJ9VG</td>\n",
       "      <td>BAZIC Pencil #2 HB Pencils, Latex Free Eraser, Wood Free Yellow Unsharpened Pencils for Exam School Office (12/Pack), 1-Pack</td>\n",
       "      <td>&lt;p&gt;&lt;strong&gt;BACK TO BAZIC&lt;/strong&gt;&lt;/p&gt;&lt;p&gt;Our goal is to provide each customer with long-lasting supplies at an affordable cost. Since 1998, we’ve delivered on this promise and will only continue to improve every year. We’ve built our brand on integrity and quality, so customers know exactly what to expect.&lt;/p&gt; &lt;p&gt;&lt;strong&gt;COMMITTED TO VALUES&lt;/strong&gt;&lt;/p&gt;&lt;p&gt;We are a value-driven company, guided by the principles of excellence through strong product design at low cost. Our commitment to these values is reflected in our dedication to improving current products and developing new exciting products for our consumers.&lt;/p&gt; &lt;p&gt;&lt;strong&gt;FOCUSED ON OUR MISSION&lt;/strong&gt;&lt;/p&gt;&lt;p&gt;Our currency is ideas. We thrive on imagination, passion and leadership. We have great products and will to continue to rise with our customer expectations.&lt;/p&gt; &lt;p&gt;&lt;strong&gt;SUCCESS BASED ON SATISFACTION&lt;/strong&gt;&lt;/p&gt;&lt;p&gt;Each and every product we send out, we expect our 100% customer satisfaction. While our supplies are sourced from all across the world, our success stems from individual consumer fulfillment. We create products that people want to recommend to others.&lt;/p&gt;</td>\n",
       "      <td>&amp;#11088; UN-SHARPENED #2 PREMIUM PENCILS. Each pack comes with 12 un-sharpened pencils. Unlike most others out there, these allow kids the simple joy of sharpening a brand new pencil for the very 1st time!\\n&amp;#11088; CLASSIC BARREL. Made from premium-quality wood pencil is bonded with a break-resistant number two core for smooth writing as easily erased. Hexagonal shape prevents rolling and comfortable to hold.\\n&amp;#11088; QUALITY. Pencils are #2 HB for general writing, drawing and sketching. Pencils glide smoothly over paper and is highly break resistant. Pencils include a smudge-resistant eraser top for convenience.\\n&amp;#11088; LATEX-FREE ERASER. The smudge-less eraser is latex-free, which provides enough toughness for heavy erasures. These smudge-free erasers wipe the page clean, making corrections easy and fast.\\n&amp;#11088; WIDE APPLICATION. Suitable for all general writing applications such as notes, letters, and you can use it for office, classroom, home and other occasions.</td>\n",
       "      <td>BAZIC Products</td>\n",
       "      <td>12-count</td>\n",
       "      <td>us</td>\n",
       "    </tr>\n",
       "    <tr>\n",
       "      <th>2</th>\n",
       "      <td>B07G7F6JZ6</td>\n",
       "      <td>Emraw Pre Sharpened Round Primary Size No 2 Jumbo Pencils for Preschoolers, Elementary Kids - Pack of 8 Premium Fat Pencils</td>\n",
       "      <td>&lt;p&gt;&lt;b&gt;Emraw Pre-Sharpened #2 HB Wood Pencils - Pack of 8 Pre-Schoolers Pencils&lt;/b&gt;&lt;/p&gt;&lt;p&gt;Looking for pencils for kid, office or every day general purpose repetitive use? Tired of pencils that do not sharpen well? Disappointed having broken leads repeatedly? Or, looking for pencils that require less sharpening and lasts longer?&lt;/p&gt;&lt;p&gt;Search no further, Emraw num 2 jumbo pencils pack have you covered. You just found the best deal. You will love them. Just the right size for pre-kindergarten toddlers. Perfect for elderly hands having difficulty grasping smaller items. Each pencil is pre-sharpened so you can literally pick straight from the box and start using. HB (no2) hardness grading with thicker leads make them perfect for most types of writing or sketching.&lt;/p&gt;&lt;p&gt;Made of high quality non-toxic cedar wood so they sharpen nicely with any quality dual-holed hand sharpener or adjustable electric sharpener, (not compatible with standard pencil sharpener). Rounded circular shape offers an effortless, fatigue-free writing experience.&lt;/p&gt;&lt;p&gt;Big ultra-smooth graphite core does not break easily, helps kids to grip securely, write smoothly and build language and motor skills. Applying normal pressure kids can wipe away mistaken strokes without a lot of effort. The soft, non-smudge rubbers are effective to erase completely and will not leave any pink residue behind after erasing unwanted marks. The eraser on top is held strongly with a ferrule and will not loosen easily, that keeps an eraser always in hand throughout its lifespan.&lt;/p&gt;&lt;p&gt;Use or gift these pencils to use in the classroom, work, or home for anything from keeping lists, making notes, sketch first drafts, brainstorm campaign ideas, filling in answers on an exam, coloring books as a highlighter, quick sketches of diy carpentry projects, solving sudoku or crossword puzzles.&lt;/p&gt;&lt;p&gt;&lt;b&gt;Best N.2 Woodcase Pencils Supplies for You, Your Children, Students, Family, or Workmates, Order Now!!!&lt;/b&gt;&lt;/p&gt;</td>\n",
       "      <td>✓ PACK OF 8 NUMBER 2 PRESHARPENED BEGINNERS PENCILS: Emraw round sharpened pencils set contains 2 packs of 4 general no.2 hb pencils with latex-free rubber erasers top, total 8 primary size yellow preschool pencils, good for little hands\\n✓ SUPERIOR NATURAL GRIP AND FEEL: Rounded triangular wooden casing blends ergonomic design for kids small hands in mind that allows your beginner writer a firm grip to comfortably hold and practice to write, scribble or tracing for hours\\n✓ CLASSIC YELLOW BARREL WOOD-CASED PENCILS: Premium pencils made from high-quality wood for easy clean sharpening, 3.25 mm thick break-resistant graphite lead requires less sharpening, produces dark long-lasting, readable, consistent strokes\\n✓ EASILY ERASABLE - MAKES DO-OVERS A BREEZE: Unwanted marks are easy to erase, offers clean corrections without tearing the paper. Soft, non-smudge rubbers are effective to erase marks completely and will not leave any residue behind\\n✓ VERSATILE WIDE APPLICATION: Suitable for kids, boys girls, teens, adults. Perfect for students in kindergarten school exam or college, teacher in classroom and general use: workshops, corporate office, meeting, sketching, writing, drawing</td>\n",
       "      <td>Emraw</td>\n",
       "      <td>Yellow</td>\n",
       "      <td>us</td>\n",
       "    </tr>\n",
       "    <tr>\n",
       "      <th>3</th>\n",
       "      <td>B07JZJLHCF</td>\n",
       "      <td>Emraw Pre Sharpened Triangular Primary Size No 2 Jumbo Pencils for Preschoolers, Elementary Kids - Pack of 6 Fat Pencils with Bonus Sharpener</td>\n",
       "      <td>&lt;p&gt;&lt;b&gt;Emraw Pre-Sharpened #2 HB Wood Pencils - Pack of 6 Pre-Schoolers Pencils&lt;/b&gt;&lt;/p&gt;&lt;p&gt;Looking for pencils for kid, office or every day general purpose repetitive use? Tired of pencils that do not sharpen well? Disappointed having broken leads repeatedly? Or, looking for pencils that require less sharpening and lasts longer?&lt;/p&gt;&lt;p&gt;Search no further, Emraw num 2 jumbo pencils pack have you covered. You just found the best deal. You will just love them. Just the right size for pre-kindergarten toddlers. Perfect for elderly hands having difficulty grasping smaller items. Each pencil is pre-sharpened so you can literally pick straight from the box and start using. HB (no2) hardness grading with thicker leads make them perfect for most types of writing or sketching.&lt;/p&gt;&lt;p&gt;Made of high quality non-toxic cedar wood so they sharpen nicely with any quality dual-holed hand sharpener or adjustable electric sharpener (1 Sharpener Included). Rounded triangular shape offers an effortless, fatigue-free writing experience and won't roll off inclined desks or tables.&lt;/p&gt;&lt;p&gt;Big ultra-smooth graphite core does not break easily, helps kids to grip securely, write smoothly and build language and motor skills. Applying normal pressure kids can wipe away mistaken strokes without a lot of effort. The soft, non-smudge rubbers are effective to erase completely and will not leave any pink residue behind after erasing unwanted marks. The eraser on top is held strongly with a ferrule and will not loosen easily, that keeps an eraser always in hand throughout its lifespan.&lt;/p&gt;&lt;p&gt;Use the or gift these pencils to use in the classroom, work, or home for anything from keeping lists, making notes, sketch first drafts, brainstorm campaign ideas, filling in answers on an exam, coloring books as a highlighter, quick sketches of diy carpentry projects, solving sudoku or crossword puzzles.&lt;/p&gt;&lt;p&gt;&lt;b&gt;Best N.2 Woodcase Pencils Supplies for You, Your Students, Family, or Workmates, Order Now!!!&lt;/b&gt;&lt;/p&gt;</td>\n",
       "      <td>✓ PACK OF 6 NUMBER 2 PRESHARPENED BEGINNERS PENCILS: Emraw triangle sharpened pencils set contains 2 packs of 3 general no.2 hb pencils with latex-free rubber erasers top, total 6 primary size yellow preschool pencils, good for little hands\\n✓ SUPERIOR NATURAL GRIP AND FEEL: Rounded triangular wooden casing blends ergonomic design for kids small hands in mind that allows your beginner writer a firm grip and comfortably hold and practice to write, scribble or tracing for hours\\n✓ CLASSIC YELLOW BARREL WOOD-CASED PENCILS: Made from high-quality wood for easy clean sharpening, 3.25 mm thick break-resistant graphite lead requires less sharpening and produces dark long-lasting, readable, consistent strokes\\n✓ EASILY ERASABLE - MAKES DO-OVERS A BREEZE: Unwanted marks are easy to erase, offers clean corrections without tearing the paper. Soft, non-smudge rubbers are effective to erase marks completely and will not leave any residue behind\\n✓ VERSATILE WIDE APPLICATION: Suitable for kids, boys girls, teens, adults. Perfect for students in kindergarten school or college exam, teacher in classroom and general use: workshops, corporate office, meeting, sketching, writing, drawing</td>\n",
       "      <td>Emraw</td>\n",
       "      <td>Yellow</td>\n",
       "      <td>us</td>\n",
       "    </tr>\n",
       "    <tr>\n",
       "      <th>4</th>\n",
       "      <td>B07MGKC3DD</td>\n",
       "      <td>BIC Evolution Cased Pencil, #2 Lead, Gray Barrel, 24-Count (PGEBP241-BLK)</td>\n",
       "      <td>NaN</td>\n",
       "      <td>Premium #2 HB lead pencils with break-resistant lead and splinter-free barrels\\nDurable, long-lasting leads and erasers\\nLatex-free erasers easily erase stray marks\\nTrendy and modern gray barrels\\nPack of 24 certified non-toxic pencils ideal for home or classroom</td>\n",
       "      <td>Design House</td>\n",
       "      <td>Gray</td>\n",
       "      <td>us</td>\n",
       "    </tr>\n",
       "  </tbody>\n",
       "</table>\n",
       "</div>"
      ],
      "text/plain": [
       "   product_id  \\\n",
       "0  B0188A3QRM   \n",
       "1  B075VXJ9VG   \n",
       "2  B07G7F6JZ6   \n",
       "3  B07JZJLHCF   \n",
       "4  B07MGKC3DD   \n",
       "\n",
       "                                                                                                                                   product_title  \\\n",
       "0                                                                Amazon Basics Woodcased #2 Pencils, Unsharpened, HB Lead - Box of 144, Bulk Box   \n",
       "1                   BAZIC Pencil #2 HB Pencils, Latex Free Eraser, Wood Free Yellow Unsharpened Pencils for Exam School Office (12/Pack), 1-Pack   \n",
       "2                    Emraw Pre Sharpened Round Primary Size No 2 Jumbo Pencils for Preschoolers, Elementary Kids - Pack of 8 Premium Fat Pencils   \n",
       "3  Emraw Pre Sharpened Triangular Primary Size No 2 Jumbo Pencils for Preschoolers, Elementary Kids - Pack of 6 Fat Pencils with Bonus Sharpener   \n",
       "4                                                                      BIC Evolution Cased Pencil, #2 Lead, Gray Barrel, 24-Count (PGEBP241-BLK)   \n",
       "\n",
       "                                                                                                                                                                                                                                                                                                                                                                                                                                                                                                                                                                                                                                                                                                                                                                                                                                                                                                                                                                                                                                                                                                                                                                                                                                                                                                                                                                                                                                                                                                                                                                                                                                                                                                                                                                                                                                                                                                                                                                                                                                                          product_description  \\\n",
       "0                                                                                                                                                                                                                                                                                                                                                                                                                                                                                                                                                                                                                                                                                                                                                                                                                                                                                                                                                                                                                                                                                                                                                                                                                                                                                                                                                                                                                                                                                                                                                                                                                                                                                                                                                                                                                                                                                                                                                                                                                                                                         NaN   \n",
       "1                                                                                                                                                                                                                                                                                                                                                                                                                                                                                                                                                                                                                                                                                                                                                                                                                                                                                     <p><strong>BACK TO BAZIC</strong></p><p>Our goal is to provide each customer with long-lasting supplies at an affordable cost. Since 1998, we’ve delivered on this promise and will only continue to improve every year. We’ve built our brand on integrity and quality, so customers know exactly what to expect.</p> <p><strong>COMMITTED TO VALUES</strong></p><p>We are a value-driven company, guided by the principles of excellence through strong product design at low cost. Our commitment to these values is reflected in our dedication to improving current products and developing new exciting products for our consumers.</p> <p><strong>FOCUSED ON OUR MISSION</strong></p><p>Our currency is ideas. We thrive on imagination, passion and leadership. We have great products and will to continue to rise with our customer expectations.</p> <p><strong>SUCCESS BASED ON SATISFACTION</strong></p><p>Each and every product we send out, we expect our 100% customer satisfaction. While our supplies are sourced from all across the world, our success stems from individual consumer fulfillment. We create products that people want to recommend to others.</p>   \n",
       "2                     <p><b>Emraw Pre-Sharpened #2 HB Wood Pencils - Pack of 8 Pre-Schoolers Pencils</b></p><p>Looking for pencils for kid, office or every day general purpose repetitive use? Tired of pencils that do not sharpen well? Disappointed having broken leads repeatedly? Or, looking for pencils that require less sharpening and lasts longer?</p><p>Search no further, Emraw num 2 jumbo pencils pack have you covered. You just found the best deal. You will love them. Just the right size for pre-kindergarten toddlers. Perfect for elderly hands having difficulty grasping smaller items. Each pencil is pre-sharpened so you can literally pick straight from the box and start using. HB (no2) hardness grading with thicker leads make them perfect for most types of writing or sketching.</p><p>Made of high quality non-toxic cedar wood so they sharpen nicely with any quality dual-holed hand sharpener or adjustable electric sharpener, (not compatible with standard pencil sharpener). Rounded circular shape offers an effortless, fatigue-free writing experience.</p><p>Big ultra-smooth graphite core does not break easily, helps kids to grip securely, write smoothly and build language and motor skills. Applying normal pressure kids can wipe away mistaken strokes without a lot of effort. The soft, non-smudge rubbers are effective to erase completely and will not leave any pink residue behind after erasing unwanted marks. The eraser on top is held strongly with a ferrule and will not loosen easily, that keeps an eraser always in hand throughout its lifespan.</p><p>Use or gift these pencils to use in the classroom, work, or home for anything from keeping lists, making notes, sketch first drafts, brainstorm campaign ideas, filling in answers on an exam, coloring books as a highlighter, quick sketches of diy carpentry projects, solving sudoku or crossword puzzles.</p><p><b>Best N.2 Woodcase Pencils Supplies for You, Your Children, Students, Family, or Workmates, Order Now!!!</b></p>   \n",
       "3  <p><b>Emraw Pre-Sharpened #2 HB Wood Pencils - Pack of 6 Pre-Schoolers Pencils</b></p><p>Looking for pencils for kid, office or every day general purpose repetitive use? Tired of pencils that do not sharpen well? Disappointed having broken leads repeatedly? Or, looking for pencils that require less sharpening and lasts longer?</p><p>Search no further, Emraw num 2 jumbo pencils pack have you covered. You just found the best deal. You will just love them. Just the right size for pre-kindergarten toddlers. Perfect for elderly hands having difficulty grasping smaller items. Each pencil is pre-sharpened so you can literally pick straight from the box and start using. HB (no2) hardness grading with thicker leads make them perfect for most types of writing or sketching.</p><p>Made of high quality non-toxic cedar wood so they sharpen nicely with any quality dual-holed hand sharpener or adjustable electric sharpener (1 Sharpener Included). Rounded triangular shape offers an effortless, fatigue-free writing experience and won't roll off inclined desks or tables.</p><p>Big ultra-smooth graphite core does not break easily, helps kids to grip securely, write smoothly and build language and motor skills. Applying normal pressure kids can wipe away mistaken strokes without a lot of effort. The soft, non-smudge rubbers are effective to erase completely and will not leave any pink residue behind after erasing unwanted marks. The eraser on top is held strongly with a ferrule and will not loosen easily, that keeps an eraser always in hand throughout its lifespan.</p><p>Use the or gift these pencils to use in the classroom, work, or home for anything from keeping lists, making notes, sketch first drafts, brainstorm campaign ideas, filling in answers on an exam, coloring books as a highlighter, quick sketches of diy carpentry projects, solving sudoku or crossword puzzles.</p><p><b>Best N.2 Woodcase Pencils Supplies for You, Your Students, Family, or Workmates, Order Now!!!</b></p>   \n",
       "4                                                                                                                                                                                                                                                                                                                                                                                                                                                                                                                                                                                                                                                                                                                                                                                                                                                                                                                                                                                                                                                                                                                                                                                                                                                                                                                                                                                                                                                                                                                                                                                                                                                                                                                                                                                                                                                                                                                                                                                                                                                                         NaN   \n",
       "\n",
       "                                                                                                                                                                                                                                                                                                                                                                                                                                                                                                                                                                                                                                                                                                                                                                                                                                                                                                                                                                                                                                                                                                                                                                                                                           product_bullet_point  \\\n",
       "0                                                                                                                                                                                                                                                                                                                                                                                                                                                                                                                                                                                                                                                                                                                                                                                                                                                                                                    144 woodcase #2 HB pencils made from high-quality wood for clean, easy sharpening\\nStrong medium-soft lead produces long-lasting, smooth, readable strokes\\nRounded hexagonal shape with satin-smooth finish for a secure, comfortable grip\\nSoft, smudge-free, latex-free eraser secured to the end for conveniently wiping away mistakes   \n",
       "1                                                                                                                                                                                                                  &#11088; UN-SHARPENED #2 PREMIUM PENCILS. Each pack comes with 12 un-sharpened pencils. Unlike most others out there, these allow kids the simple joy of sharpening a brand new pencil for the very 1st time!\\n&#11088; CLASSIC BARREL. Made from premium-quality wood pencil is bonded with a break-resistant number two core for smooth writing as easily erased. Hexagonal shape prevents rolling and comfortable to hold.\\n&#11088; QUALITY. Pencils are #2 HB for general writing, drawing and sketching. Pencils glide smoothly over paper and is highly break resistant. Pencils include a smudge-resistant eraser top for convenience.\\n&#11088; LATEX-FREE ERASER. The smudge-less eraser is latex-free, which provides enough toughness for heavy erasures. These smudge-free erasers wipe the page clean, making corrections easy and fast.\\n&#11088; WIDE APPLICATION. Suitable for all general writing applications such as notes, letters, and you can use it for office, classroom, home and other occasions.   \n",
       "2  ✓ PACK OF 8 NUMBER 2 PRESHARPENED BEGINNERS PENCILS: Emraw round sharpened pencils set contains 2 packs of 4 general no.2 hb pencils with latex-free rubber erasers top, total 8 primary size yellow preschool pencils, good for little hands\\n✓ SUPERIOR NATURAL GRIP AND FEEL: Rounded triangular wooden casing blends ergonomic design for kids small hands in mind that allows your beginner writer a firm grip to comfortably hold and practice to write, scribble or tracing for hours\\n✓ CLASSIC YELLOW BARREL WOOD-CASED PENCILS: Premium pencils made from high-quality wood for easy clean sharpening, 3.25 mm thick break-resistant graphite lead requires less sharpening, produces dark long-lasting, readable, consistent strokes\\n✓ EASILY ERASABLE - MAKES DO-OVERS A BREEZE: Unwanted marks are easy to erase, offers clean corrections without tearing the paper. Soft, non-smudge rubbers are effective to erase marks completely and will not leave any residue behind\\n✓ VERSATILE WIDE APPLICATION: Suitable for kids, boys girls, teens, adults. Perfect for students in kindergarten school exam or college, teacher in classroom and general use: workshops, corporate office, meeting, sketching, writing, drawing   \n",
       "3           ✓ PACK OF 6 NUMBER 2 PRESHARPENED BEGINNERS PENCILS: Emraw triangle sharpened pencils set contains 2 packs of 3 general no.2 hb pencils with latex-free rubber erasers top, total 6 primary size yellow preschool pencils, good for little hands\\n✓ SUPERIOR NATURAL GRIP AND FEEL: Rounded triangular wooden casing blends ergonomic design for kids small hands in mind that allows your beginner writer a firm grip and comfortably hold and practice to write, scribble or tracing for hours\\n✓ CLASSIC YELLOW BARREL WOOD-CASED PENCILS: Made from high-quality wood for easy clean sharpening, 3.25 mm thick break-resistant graphite lead requires less sharpening and produces dark long-lasting, readable, consistent strokes\\n✓ EASILY ERASABLE - MAKES DO-OVERS A BREEZE: Unwanted marks are easy to erase, offers clean corrections without tearing the paper. Soft, non-smudge rubbers are effective to erase marks completely and will not leave any residue behind\\n✓ VERSATILE WIDE APPLICATION: Suitable for kids, boys girls, teens, adults. Perfect for students in kindergarten school or college exam, teacher in classroom and general use: workshops, corporate office, meeting, sketching, writing, drawing   \n",
       "4                                                                                                                                                                                                                                                                                                                                                                                                                                                                                                                                                                                                                                                                                                                                                                                                                                                                                                                                                                      Premium #2 HB lead pencils with break-resistant lead and splinter-free barrels\\nDurable, long-lasting leads and erasers\\nLatex-free erasers easily erase stray marks\\nTrendy and modern gray barrels\\nPack of 24 certified non-toxic pencils ideal for home or classroom   \n",
       "\n",
       "    product_brand product_color_name product_locale  \n",
       "0   Amazon Basics             Yellow             us  \n",
       "1  BAZIC Products           12-count             us  \n",
       "2           Emraw             Yellow             us  \n",
       "3           Emraw             Yellow             us  \n",
       "4    Design House               Gray             us  "
      ]
     },
     "execution_count": 8,
     "metadata": {},
     "output_type": "execute_result"
    }
   ],
   "source": [
    "prod_cat.head()"
   ]
  },
  {
   "cell_type": "code",
   "execution_count": 9,
   "id": "f3f92324",
   "metadata": {
    "execution": {
     "iopub.execute_input": "2022-06-26T03:24:27.108875Z",
     "iopub.status.busy": "2022-06-26T03:24:27.108619Z",
     "iopub.status.idle": "2022-06-26T03:24:27.590453Z",
     "shell.execute_reply": "2022-06-26T03:24:27.589436Z"
    },
    "papermill": {
     "duration": 0.493145,
     "end_time": "2022-06-26T03:24:27.593112",
     "exception": false,
     "start_time": "2022-06-26T03:24:27.099967",
     "status": "completed"
    },
    "tags": []
   },
   "outputs": [
    {
     "name": "stdout",
     "output_type": "stream",
     "text": [
      "es True\n",
      "jp True\n",
      "us True\n"
     ]
    }
   ],
   "source": [
    "for locale, _df in prod_cat.groupby(['product_locale']):\n",
    "    print(locale, _df.product_id.is_unique)\n",
    "    assert _df.product_id.is_unique"
   ]
  },
  {
   "cell_type": "code",
   "execution_count": 10,
   "id": "839c3735",
   "metadata": {
    "execution": {
     "iopub.execute_input": "2022-06-26T03:24:27.610517Z",
     "iopub.status.busy": "2022-06-26T03:24:27.610195Z",
     "iopub.status.idle": "2022-06-26T03:24:27.616640Z",
     "shell.execute_reply": "2022-06-26T03:24:27.615666Z"
    },
    "papermill": {
     "duration": 0.017661,
     "end_time": "2022-06-26T03:24:27.618869",
     "exception": false,
     "start_time": "2022-06-26T03:24:27.601208",
     "status": "completed"
    },
    "tags": []
   },
   "outputs": [],
   "source": [
    "def get_product_input(row):\n",
    "    product_columns = ['product_title', 'product_locale', 'product_description', 'product_bullet_point']\n",
    "    product_info = ''\n",
    "    for col in product_columns:\n",
    "        product_info += str(row.get(col, '')) + ' '\n",
    "    return product_info.strip()\n",
    "\n",
    "d = {'product_title': 'hi hello', 'product_locale': 'en', 'product_description': 'nike', 'product_bullet_point': 'shoes'}\n",
    "assert get_product_input(d) == 'hi hello en nike shoes'"
   ]
  },
  {
   "cell_type": "code",
   "execution_count": 11,
   "id": "1d08de6f",
   "metadata": {
    "execution": {
     "iopub.execute_input": "2022-06-26T03:24:27.635604Z",
     "iopub.status.busy": "2022-06-26T03:24:27.635311Z",
     "iopub.status.idle": "2022-06-26T03:24:55.154103Z",
     "shell.execute_reply": "2022-06-26T03:24:55.153096Z"
    },
    "papermill": {
     "duration": 27.530027,
     "end_time": "2022-06-26T03:24:55.156632",
     "exception": false,
     "start_time": "2022-06-26T03:24:27.626605",
     "status": "completed"
    },
    "tags": []
   },
   "outputs": [],
   "source": [
    "prod_cat.fillna('', inplace=True)\n",
    "prod_cat['product_input'] = prod_cat.apply(lambda row: get_product_input(row), axis=1)"
   ]
  },
  {
   "cell_type": "code",
   "execution_count": 12,
   "id": "f9c3d854",
   "metadata": {
    "execution": {
     "iopub.execute_input": "2022-06-26T03:24:55.175505Z",
     "iopub.status.busy": "2022-06-26T03:24:55.174927Z",
     "iopub.status.idle": "2022-06-26T03:24:55.192458Z",
     "shell.execute_reply": "2022-06-26T03:24:55.191615Z"
    },
    "papermill": {
     "duration": 0.028753,
     "end_time": "2022-06-26T03:24:55.194349",
     "exception": false,
     "start_time": "2022-06-26T03:24:55.165596",
     "status": "completed"
    },
    "tags": []
   },
   "outputs": [
    {
     "data": {
      "text/html": [
       "<div>\n",
       "<style scoped>\n",
       "    .dataframe tbody tr th:only-of-type {\n",
       "        vertical-align: middle;\n",
       "    }\n",
       "\n",
       "    .dataframe tbody tr th {\n",
       "        vertical-align: top;\n",
       "    }\n",
       "\n",
       "    .dataframe thead th {\n",
       "        text-align: right;\n",
       "    }\n",
       "</style>\n",
       "<table border=\"1\" class=\"dataframe\">\n",
       "  <thead>\n",
       "    <tr style=\"text-align: right;\">\n",
       "      <th></th>\n",
       "      <th>product_id</th>\n",
       "      <th>product_title</th>\n",
       "      <th>product_description</th>\n",
       "      <th>product_bullet_point</th>\n",
       "      <th>product_brand</th>\n",
       "      <th>product_color_name</th>\n",
       "      <th>product_locale</th>\n",
       "      <th>product_input</th>\n",
       "    </tr>\n",
       "  </thead>\n",
       "  <tbody>\n",
       "    <tr>\n",
       "      <th>0</th>\n",
       "      <td>B0188A3QRM</td>\n",
       "      <td>Amazon Basics Woodcased #2 Pencils, Unsharpened, HB Lead - Box of 144, Bulk Box</td>\n",
       "      <td></td>\n",
       "      <td>144 woodcase #2 HB pencils made from high-quality wood for clean, easy sharpening\\nStrong medium-soft lead produces long-lasting, smooth, readable strokes\\nRounded hexagonal shape with satin-smooth finish for a secure, comfortable grip\\nSoft, smudge-free, latex-free eraser secured to the end for conveniently wiping away mistakes</td>\n",
       "      <td>Amazon Basics</td>\n",
       "      <td>Yellow</td>\n",
       "      <td>us</td>\n",
       "      <td>Amazon Basics Woodcased #2 Pencils, Unsharpened, HB Lead - Box of 144, Bulk Box us  144 woodcase #2 HB pencils made from high-quality wood for clean, easy sharpening\\nStrong medium-soft lead produces long-lasting, smooth, readable strokes\\nRounded hexagonal shape with satin-smooth finish for a secure, comfortable grip\\nSoft, smudge-free, latex-free eraser secured to the end for conveniently wiping away mistakes</td>\n",
       "    </tr>\n",
       "    <tr>\n",
       "      <th>1</th>\n",
       "      <td>B075VXJ9VG</td>\n",
       "      <td>BAZIC Pencil #2 HB Pencils, Latex Free Eraser, Wood Free Yellow Unsharpened Pencils for Exam School Office (12/Pack), 1-Pack</td>\n",
       "      <td>&lt;p&gt;&lt;strong&gt;BACK TO BAZIC&lt;/strong&gt;&lt;/p&gt;&lt;p&gt;Our goal is to provide each customer with long-lasting supplies at an affordable cost. Since 1998, we’ve delivered on this promise and will only continue to improve every year. We’ve built our brand on integrity and quality, so customers know exactly what to expect.&lt;/p&gt; &lt;p&gt;&lt;strong&gt;COMMITTED TO VALUES&lt;/strong&gt;&lt;/p&gt;&lt;p&gt;We are a value-driven company, guided by the principles of excellence through strong product design at low cost. Our commitment to these values is reflected in our dedication to improving current products and developing new exciting products for our consumers.&lt;/p&gt; &lt;p&gt;&lt;strong&gt;FOCUSED ON OUR MISSION&lt;/strong&gt;&lt;/p&gt;&lt;p&gt;Our currency is ideas. We thrive on imagination, passion and leadership. We have great products and will to continue to rise with our customer expectations.&lt;/p&gt; &lt;p&gt;&lt;strong&gt;SUCCESS BASED ON SATISFACTION&lt;/strong&gt;&lt;/p&gt;&lt;p&gt;Each and every product we send out, we expect our 100% customer satisfaction. While our supplies are sourced from all across the world, our success stems from individual consumer fulfillment. We create products that people want to recommend to others.&lt;/p&gt;</td>\n",
       "      <td>&amp;#11088; UN-SHARPENED #2 PREMIUM PENCILS. Each pack comes with 12 un-sharpened pencils. Unlike most others out there, these allow kids the simple joy of sharpening a brand new pencil for the very 1st time!\\n&amp;#11088; CLASSIC BARREL. Made from premium-quality wood pencil is bonded with a break-resistant number two core for smooth writing as easily erased. Hexagonal shape prevents rolling and comfortable to hold.\\n&amp;#11088; QUALITY. Pencils are #2 HB for general writing, drawing and sketching. Pencils glide smoothly over paper and is highly break resistant. Pencils include a smudge-resistant eraser top for convenience.\\n&amp;#11088; LATEX-FREE ERASER. The smudge-less eraser is latex-free, which provides enough toughness for heavy erasures. These smudge-free erasers wipe the page clean, making corrections easy and fast.\\n&amp;#11088; WIDE APPLICATION. Suitable for all general writing applications such as notes, letters, and you can use it for office, classroom, home and other occasions.</td>\n",
       "      <td>BAZIC Products</td>\n",
       "      <td>12-count</td>\n",
       "      <td>us</td>\n",
       "      <td>BAZIC Pencil #2 HB Pencils, Latex Free Eraser, Wood Free Yellow Unsharpened Pencils for Exam School Office (12/Pack), 1-Pack us &lt;p&gt;&lt;strong&gt;BACK TO BAZIC&lt;/strong&gt;&lt;/p&gt;&lt;p&gt;Our goal is to provide each customer with long-lasting supplies at an affordable cost. Since 1998, we’ve delivered on this promise and will only continue to improve every year. We’ve built our brand on integrity and quality, so customers know exactly what to expect.&lt;/p&gt; &lt;p&gt;&lt;strong&gt;COMMITTED TO VALUES&lt;/strong&gt;&lt;/p&gt;&lt;p&gt;We are a value-driven company, guided by the principles of excellence through strong product design at low cost. Our commitment to these values is reflected in our dedication to improving current products and developing new exciting products for our consumers.&lt;/p&gt; &lt;p&gt;&lt;strong&gt;FOCUSED ON OUR MISSION&lt;/strong&gt;&lt;/p&gt;&lt;p&gt;Our currency is ideas. We thrive on imagination, passion and leadership. We have great products and will to continue to rise with our customer expectations.&lt;/p&gt; &lt;p&gt;&lt;strong&gt;SUCCESS BASED ON SATISFACTION&lt;/strong&gt;&lt;/p&gt;&lt;p&gt;Each and every product we send out, we expect our 100% customer satisfaction. While our supplies are sourced from all across the world, our success stems from individual consumer fulfillment. We create products that people want to recommend to others.&lt;/p&gt; &amp;#11088; UN-SHARPENED #2 PREMIUM PENCILS. Each pack comes with 12 un-sharpened pencils. Unlike most others out there, these allow kids the simple joy of sharpening a brand new pencil for the very 1st time!\\n&amp;#11088; CLASSIC BARREL. Made from premium-quality wood pencil is bonded with a break-resistant number two core for smooth writing as easily erased. Hexagonal shape prevents rolling and comfortable to hold.\\n&amp;#11088; QUALITY. Pencils are #2 HB for general writing, drawing and sketching. Pencils glide smoothly over paper and is highly break resistant. Pencils include a smudge-resistant eraser top for convenience.\\n&amp;#11088; LATEX-FREE ERASER. The smudge-less eraser is latex-free, which provides enough toughness for heavy erasures. These smudge-free erasers wipe the page clean, making corrections easy and fast.\\n&amp;#11088; WIDE APPLICATION. Suitable for all general writing applications such as notes, letters, and you can use it for office, classroom, home and other occasions.</td>\n",
       "    </tr>\n",
       "    <tr>\n",
       "      <th>2</th>\n",
       "      <td>B07G7F6JZ6</td>\n",
       "      <td>Emraw Pre Sharpened Round Primary Size No 2 Jumbo Pencils for Preschoolers, Elementary Kids - Pack of 8 Premium Fat Pencils</td>\n",
       "      <td>&lt;p&gt;&lt;b&gt;Emraw Pre-Sharpened #2 HB Wood Pencils - Pack of 8 Pre-Schoolers Pencils&lt;/b&gt;&lt;/p&gt;&lt;p&gt;Looking for pencils for kid, office or every day general purpose repetitive use? Tired of pencils that do not sharpen well? Disappointed having broken leads repeatedly? Or, looking for pencils that require less sharpening and lasts longer?&lt;/p&gt;&lt;p&gt;Search no further, Emraw num 2 jumbo pencils pack have you covered. You just found the best deal. You will love them. Just the right size for pre-kindergarten toddlers. Perfect for elderly hands having difficulty grasping smaller items. Each pencil is pre-sharpened so you can literally pick straight from the box and start using. HB (no2) hardness grading with thicker leads make them perfect for most types of writing or sketching.&lt;/p&gt;&lt;p&gt;Made of high quality non-toxic cedar wood so they sharpen nicely with any quality dual-holed hand sharpener or adjustable electric sharpener, (not compatible with standard pencil sharpener). Rounded circular shape offers an effortless, fatigue-free writing experience.&lt;/p&gt;&lt;p&gt;Big ultra-smooth graphite core does not break easily, helps kids to grip securely, write smoothly and build language and motor skills. Applying normal pressure kids can wipe away mistaken strokes without a lot of effort. The soft, non-smudge rubbers are effective to erase completely and will not leave any pink residue behind after erasing unwanted marks. The eraser on top is held strongly with a ferrule and will not loosen easily, that keeps an eraser always in hand throughout its lifespan.&lt;/p&gt;&lt;p&gt;Use or gift these pencils to use in the classroom, work, or home for anything from keeping lists, making notes, sketch first drafts, brainstorm campaign ideas, filling in answers on an exam, coloring books as a highlighter, quick sketches of diy carpentry projects, solving sudoku or crossword puzzles.&lt;/p&gt;&lt;p&gt;&lt;b&gt;Best N.2 Woodcase Pencils Supplies for You, Your Children, Students, Family, or Workmates, Order Now!!!&lt;/b&gt;&lt;/p&gt;</td>\n",
       "      <td>✓ PACK OF 8 NUMBER 2 PRESHARPENED BEGINNERS PENCILS: Emraw round sharpened pencils set contains 2 packs of 4 general no.2 hb pencils with latex-free rubber erasers top, total 8 primary size yellow preschool pencils, good for little hands\\n✓ SUPERIOR NATURAL GRIP AND FEEL: Rounded triangular wooden casing blends ergonomic design for kids small hands in mind that allows your beginner writer a firm grip to comfortably hold and practice to write, scribble or tracing for hours\\n✓ CLASSIC YELLOW BARREL WOOD-CASED PENCILS: Premium pencils made from high-quality wood for easy clean sharpening, 3.25 mm thick break-resistant graphite lead requires less sharpening, produces dark long-lasting, readable, consistent strokes\\n✓ EASILY ERASABLE - MAKES DO-OVERS A BREEZE: Unwanted marks are easy to erase, offers clean corrections without tearing the paper. Soft, non-smudge rubbers are effective to erase marks completely and will not leave any residue behind\\n✓ VERSATILE WIDE APPLICATION: Suitable for kids, boys girls, teens, adults. Perfect for students in kindergarten school exam or college, teacher in classroom and general use: workshops, corporate office, meeting, sketching, writing, drawing</td>\n",
       "      <td>Emraw</td>\n",
       "      <td>Yellow</td>\n",
       "      <td>us</td>\n",
       "      <td>Emraw Pre Sharpened Round Primary Size No 2 Jumbo Pencils for Preschoolers, Elementary Kids - Pack of 8 Premium Fat Pencils us &lt;p&gt;&lt;b&gt;Emraw Pre-Sharpened #2 HB Wood Pencils - Pack of 8 Pre-Schoolers Pencils&lt;/b&gt;&lt;/p&gt;&lt;p&gt;Looking for pencils for kid, office or every day general purpose repetitive use? Tired of pencils that do not sharpen well? Disappointed having broken leads repeatedly? Or, looking for pencils that require less sharpening and lasts longer?&lt;/p&gt;&lt;p&gt;Search no further, Emraw num 2 jumbo pencils pack have you covered. You just found the best deal. You will love them. Just the right size for pre-kindergarten toddlers. Perfect for elderly hands having difficulty grasping smaller items. Each pencil is pre-sharpened so you can literally pick straight from the box and start using. HB (no2) hardness grading with thicker leads make them perfect for most types of writing or sketching.&lt;/p&gt;&lt;p&gt;Made of high quality non-toxic cedar wood so they sharpen nicely with any quality dual-holed hand sharpener or adjustable electric sharpener, (not compatible with standard pencil sharpener). Rounded circular shape offers an effortless, fatigue-free writing experience.&lt;/p&gt;&lt;p&gt;Big ultra-smooth graphite core does not break easily, helps kids to grip securely, write smoothly and build language and motor skills. Applying normal pressure kids can wipe away mistaken strokes without a lot of effort. The soft, non-smudge rubbers are effective to erase completely and will not leave any pink residue behind after erasing unwanted marks. The eraser on top is held strongly with a ferrule and will not loosen easily, that keeps an eraser always in hand throughout its lifespan.&lt;/p&gt;&lt;p&gt;Use or gift these pencils to use in the classroom, work, or home for anything from keeping lists, making notes, sketch first drafts, brainstorm campaign ideas, filling in answers on an exam, coloring books as a highlighter, quick sketches of diy carpentry projects, solving sudoku or crossword puzzles.&lt;/p&gt;&lt;p&gt;&lt;b&gt;Best N.2 Woodcase Pencils Supplies for You, Your Children, Students, Family, or Workmates, Order Now!!!&lt;/b&gt;&lt;/p&gt; ✓ PACK OF 8 NUMBER 2 PRESHARPENED BEGINNERS PENCILS: Emraw round sharpened pencils set contains 2 packs of 4 general no.2 hb pencils with latex-free rubber erasers top, total 8 primary size yellow preschool pencils, good for little hands\\n✓ SUPERIOR NATURAL GRIP AND FEEL: Rounded triangular wooden casing blends ergonomic design for kids small hands in mind that allows your beginner writer a firm grip to comfortably hold and practice to write, scribble or tracing for hours\\n✓ CLASSIC YELLOW BARREL WOOD-CASED PENCILS: Premium pencils made from high-quality wood for easy clean sharpening, 3.25 mm thick break-resistant graphite lead requires less sharpening, produces dark long-lasting, readable, consistent strokes\\n✓ EASILY ERASABLE - MAKES DO-OVERS A BREEZE: Unwanted marks are easy to erase, offers clean corrections without tearing the paper. Soft, non-smudge rubbers are effective to erase marks completely and will not leave any residue behind\\n✓ VERSATILE WIDE APPLICATION: Suitable for kids, boys girls, teens, adults. Perfect for students in kindergarten school exam or college, teacher in classroom and general use: workshops, corporate office, meeting, sketching, writing, drawing</td>\n",
       "    </tr>\n",
       "    <tr>\n",
       "      <th>3</th>\n",
       "      <td>B07JZJLHCF</td>\n",
       "      <td>Emraw Pre Sharpened Triangular Primary Size No 2 Jumbo Pencils for Preschoolers, Elementary Kids - Pack of 6 Fat Pencils with Bonus Sharpener</td>\n",
       "      <td>&lt;p&gt;&lt;b&gt;Emraw Pre-Sharpened #2 HB Wood Pencils - Pack of 6 Pre-Schoolers Pencils&lt;/b&gt;&lt;/p&gt;&lt;p&gt;Looking for pencils for kid, office or every day general purpose repetitive use? Tired of pencils that do not sharpen well? Disappointed having broken leads repeatedly? Or, looking for pencils that require less sharpening and lasts longer?&lt;/p&gt;&lt;p&gt;Search no further, Emraw num 2 jumbo pencils pack have you covered. You just found the best deal. You will just love them. Just the right size for pre-kindergarten toddlers. Perfect for elderly hands having difficulty grasping smaller items. Each pencil is pre-sharpened so you can literally pick straight from the box and start using. HB (no2) hardness grading with thicker leads make them perfect for most types of writing or sketching.&lt;/p&gt;&lt;p&gt;Made of high quality non-toxic cedar wood so they sharpen nicely with any quality dual-holed hand sharpener or adjustable electric sharpener (1 Sharpener Included). Rounded triangular shape offers an effortless, fatigue-free writing experience and won't roll off inclined desks or tables.&lt;/p&gt;&lt;p&gt;Big ultra-smooth graphite core does not break easily, helps kids to grip securely, write smoothly and build language and motor skills. Applying normal pressure kids can wipe away mistaken strokes without a lot of effort. The soft, non-smudge rubbers are effective to erase completely and will not leave any pink residue behind after erasing unwanted marks. The eraser on top is held strongly with a ferrule and will not loosen easily, that keeps an eraser always in hand throughout its lifespan.&lt;/p&gt;&lt;p&gt;Use the or gift these pencils to use in the classroom, work, or home for anything from keeping lists, making notes, sketch first drafts, brainstorm campaign ideas, filling in answers on an exam, coloring books as a highlighter, quick sketches of diy carpentry projects, solving sudoku or crossword puzzles.&lt;/p&gt;&lt;p&gt;&lt;b&gt;Best N.2 Woodcase Pencils Supplies for You, Your Students, Family, or Workmates, Order Now!!!&lt;/b&gt;&lt;/p&gt;</td>\n",
       "      <td>✓ PACK OF 6 NUMBER 2 PRESHARPENED BEGINNERS PENCILS: Emraw triangle sharpened pencils set contains 2 packs of 3 general no.2 hb pencils with latex-free rubber erasers top, total 6 primary size yellow preschool pencils, good for little hands\\n✓ SUPERIOR NATURAL GRIP AND FEEL: Rounded triangular wooden casing blends ergonomic design for kids small hands in mind that allows your beginner writer a firm grip and comfortably hold and practice to write, scribble or tracing for hours\\n✓ CLASSIC YELLOW BARREL WOOD-CASED PENCILS: Made from high-quality wood for easy clean sharpening, 3.25 mm thick break-resistant graphite lead requires less sharpening and produces dark long-lasting, readable, consistent strokes\\n✓ EASILY ERASABLE - MAKES DO-OVERS A BREEZE: Unwanted marks are easy to erase, offers clean corrections without tearing the paper. Soft, non-smudge rubbers are effective to erase marks completely and will not leave any residue behind\\n✓ VERSATILE WIDE APPLICATION: Suitable for kids, boys girls, teens, adults. Perfect for students in kindergarten school or college exam, teacher in classroom and general use: workshops, corporate office, meeting, sketching, writing, drawing</td>\n",
       "      <td>Emraw</td>\n",
       "      <td>Yellow</td>\n",
       "      <td>us</td>\n",
       "      <td>Emraw Pre Sharpened Triangular Primary Size No 2 Jumbo Pencils for Preschoolers, Elementary Kids - Pack of 6 Fat Pencils with Bonus Sharpener us &lt;p&gt;&lt;b&gt;Emraw Pre-Sharpened #2 HB Wood Pencils - Pack of 6 Pre-Schoolers Pencils&lt;/b&gt;&lt;/p&gt;&lt;p&gt;Looking for pencils for kid, office or every day general purpose repetitive use? Tired of pencils that do not sharpen well? Disappointed having broken leads repeatedly? Or, looking for pencils that require less sharpening and lasts longer?&lt;/p&gt;&lt;p&gt;Search no further, Emraw num 2 jumbo pencils pack have you covered. You just found the best deal. You will just love them. Just the right size for pre-kindergarten toddlers. Perfect for elderly hands having difficulty grasping smaller items. Each pencil is pre-sharpened so you can literally pick straight from the box and start using. HB (no2) hardness grading with thicker leads make them perfect for most types of writing or sketching.&lt;/p&gt;&lt;p&gt;Made of high quality non-toxic cedar wood so they sharpen nicely with any quality dual-holed hand sharpener or adjustable electric sharpener (1 Sharpener Included). Rounded triangular shape offers an effortless, fatigue-free writing experience and won't roll off inclined desks or tables.&lt;/p&gt;&lt;p&gt;Big ultra-smooth graphite core does not break easily, helps kids to grip securely, write smoothly and build language and motor skills. Applying normal pressure kids can wipe away mistaken strokes without a lot of effort. The soft, non-smudge rubbers are effective to erase completely and will not leave any pink residue behind after erasing unwanted marks. The eraser on top is held strongly with a ferrule and will not loosen easily, that keeps an eraser always in hand throughout its lifespan.&lt;/p&gt;&lt;p&gt;Use the or gift these pencils to use in the classroom, work, or home for anything from keeping lists, making notes, sketch first drafts, brainstorm campaign ideas, filling in answers on an exam, coloring books as a highlighter, quick sketches of diy carpentry projects, solving sudoku or crossword puzzles.&lt;/p&gt;&lt;p&gt;&lt;b&gt;Best N.2 Woodcase Pencils Supplies for You, Your Students, Family, or Workmates, Order Now!!!&lt;/b&gt;&lt;/p&gt; ✓ PACK OF 6 NUMBER 2 PRESHARPENED BEGINNERS PENCILS: Emraw triangle sharpened pencils set contains 2 packs of 3 general no.2 hb pencils with latex-free rubber erasers top, total 6 primary size yellow preschool pencils, good for little hands\\n✓ SUPERIOR NATURAL GRIP AND FEEL: Rounded triangular wooden casing blends ergonomic design for kids small hands in mind that allows your beginner writer a firm grip and comfortably hold and practice to write, scribble or tracing for hours\\n✓ CLASSIC YELLOW BARREL WOOD-CASED PENCILS: Made from high-quality wood for easy clean sharpening, 3.25 mm thick break-resistant graphite lead requires less sharpening and produces dark long-lasting, readable, consistent strokes\\n✓ EASILY ERASABLE - MAKES DO-OVERS A BREEZE: Unwanted marks are easy to erase, offers clean corrections without tearing the paper. Soft, non-smudge rubbers are effective to erase marks completely and will not leave any residue behind\\n✓ VERSATILE WIDE APPLICATION: Suitable for kids, boys girls, teens, adults. Perfect for students in kindergarten school or college exam, teacher in classroom and general use: workshops, corporate office, meeting, sketching, writing, drawing</td>\n",
       "    </tr>\n",
       "  </tbody>\n",
       "</table>\n",
       "</div>"
      ],
      "text/plain": [
       "   product_id  \\\n",
       "0  B0188A3QRM   \n",
       "1  B075VXJ9VG   \n",
       "2  B07G7F6JZ6   \n",
       "3  B07JZJLHCF   \n",
       "\n",
       "                                                                                                                                   product_title  \\\n",
       "0                                                                Amazon Basics Woodcased #2 Pencils, Unsharpened, HB Lead - Box of 144, Bulk Box   \n",
       "1                   BAZIC Pencil #2 HB Pencils, Latex Free Eraser, Wood Free Yellow Unsharpened Pencils for Exam School Office (12/Pack), 1-Pack   \n",
       "2                    Emraw Pre Sharpened Round Primary Size No 2 Jumbo Pencils for Preschoolers, Elementary Kids - Pack of 8 Premium Fat Pencils   \n",
       "3  Emraw Pre Sharpened Triangular Primary Size No 2 Jumbo Pencils for Preschoolers, Elementary Kids - Pack of 6 Fat Pencils with Bonus Sharpener   \n",
       "\n",
       "                                                                                                                                                                                                                                                                                                                                                                                                                                                                                                                                                                                                                                                                                                                                                                                                                                                                                                                                                                                                                                                                                                                                                                                                                                                                                                                                                                                                                                                                                                                                                                                                                                                                                                                                                                                                                                                                                                                                                                                                                                                          product_description  \\\n",
       "0                                                                                                                                                                                                                                                                                                                                                                                                                                                                                                                                                                                                                                                                                                                                                                                                                                                                                                                                                                                                                                                                                                                                                                                                                                                                                                                                                                                                                                                                                                                                                                                                                                                                                                                                                                                                                                                                                                                                                                                                                                                                               \n",
       "1                                                                                                                                                                                                                                                                                                                                                                                                                                                                                                                                                                                                                                                                                                                                                                                                                                                                                     <p><strong>BACK TO BAZIC</strong></p><p>Our goal is to provide each customer with long-lasting supplies at an affordable cost. Since 1998, we’ve delivered on this promise and will only continue to improve every year. We’ve built our brand on integrity and quality, so customers know exactly what to expect.</p> <p><strong>COMMITTED TO VALUES</strong></p><p>We are a value-driven company, guided by the principles of excellence through strong product design at low cost. Our commitment to these values is reflected in our dedication to improving current products and developing new exciting products for our consumers.</p> <p><strong>FOCUSED ON OUR MISSION</strong></p><p>Our currency is ideas. We thrive on imagination, passion and leadership. We have great products and will to continue to rise with our customer expectations.</p> <p><strong>SUCCESS BASED ON SATISFACTION</strong></p><p>Each and every product we send out, we expect our 100% customer satisfaction. While our supplies are sourced from all across the world, our success stems from individual consumer fulfillment. We create products that people want to recommend to others.</p>   \n",
       "2                     <p><b>Emraw Pre-Sharpened #2 HB Wood Pencils - Pack of 8 Pre-Schoolers Pencils</b></p><p>Looking for pencils for kid, office or every day general purpose repetitive use? Tired of pencils that do not sharpen well? Disappointed having broken leads repeatedly? Or, looking for pencils that require less sharpening and lasts longer?</p><p>Search no further, Emraw num 2 jumbo pencils pack have you covered. You just found the best deal. You will love them. Just the right size for pre-kindergarten toddlers. Perfect for elderly hands having difficulty grasping smaller items. Each pencil is pre-sharpened so you can literally pick straight from the box and start using. HB (no2) hardness grading with thicker leads make them perfect for most types of writing or sketching.</p><p>Made of high quality non-toxic cedar wood so they sharpen nicely with any quality dual-holed hand sharpener or adjustable electric sharpener, (not compatible with standard pencil sharpener). Rounded circular shape offers an effortless, fatigue-free writing experience.</p><p>Big ultra-smooth graphite core does not break easily, helps kids to grip securely, write smoothly and build language and motor skills. Applying normal pressure kids can wipe away mistaken strokes without a lot of effort. The soft, non-smudge rubbers are effective to erase completely and will not leave any pink residue behind after erasing unwanted marks. The eraser on top is held strongly with a ferrule and will not loosen easily, that keeps an eraser always in hand throughout its lifespan.</p><p>Use or gift these pencils to use in the classroom, work, or home for anything from keeping lists, making notes, sketch first drafts, brainstorm campaign ideas, filling in answers on an exam, coloring books as a highlighter, quick sketches of diy carpentry projects, solving sudoku or crossword puzzles.</p><p><b>Best N.2 Woodcase Pencils Supplies for You, Your Children, Students, Family, or Workmates, Order Now!!!</b></p>   \n",
       "3  <p><b>Emraw Pre-Sharpened #2 HB Wood Pencils - Pack of 6 Pre-Schoolers Pencils</b></p><p>Looking for pencils for kid, office or every day general purpose repetitive use? Tired of pencils that do not sharpen well? Disappointed having broken leads repeatedly? Or, looking for pencils that require less sharpening and lasts longer?</p><p>Search no further, Emraw num 2 jumbo pencils pack have you covered. You just found the best deal. You will just love them. Just the right size for pre-kindergarten toddlers. Perfect for elderly hands having difficulty grasping smaller items. Each pencil is pre-sharpened so you can literally pick straight from the box and start using. HB (no2) hardness grading with thicker leads make them perfect for most types of writing or sketching.</p><p>Made of high quality non-toxic cedar wood so they sharpen nicely with any quality dual-holed hand sharpener or adjustable electric sharpener (1 Sharpener Included). Rounded triangular shape offers an effortless, fatigue-free writing experience and won't roll off inclined desks or tables.</p><p>Big ultra-smooth graphite core does not break easily, helps kids to grip securely, write smoothly and build language and motor skills. Applying normal pressure kids can wipe away mistaken strokes without a lot of effort. The soft, non-smudge rubbers are effective to erase completely and will not leave any pink residue behind after erasing unwanted marks. The eraser on top is held strongly with a ferrule and will not loosen easily, that keeps an eraser always in hand throughout its lifespan.</p><p>Use the or gift these pencils to use in the classroom, work, or home for anything from keeping lists, making notes, sketch first drafts, brainstorm campaign ideas, filling in answers on an exam, coloring books as a highlighter, quick sketches of diy carpentry projects, solving sudoku or crossword puzzles.</p><p><b>Best N.2 Woodcase Pencils Supplies for You, Your Students, Family, or Workmates, Order Now!!!</b></p>   \n",
       "\n",
       "                                                                                                                                                                                                                                                                                                                                                                                                                                                                                                                                                                                                                                                                                                                                                                                                                                                                                                                                                                                                                                                                                                                                                                                                                           product_bullet_point  \\\n",
       "0                                                                                                                                                                                                                                                                                                                                                                                                                                                                                                                                                                                                                                                                                                                                                                                                                                                                                                    144 woodcase #2 HB pencils made from high-quality wood for clean, easy sharpening\\nStrong medium-soft lead produces long-lasting, smooth, readable strokes\\nRounded hexagonal shape with satin-smooth finish for a secure, comfortable grip\\nSoft, smudge-free, latex-free eraser secured to the end for conveniently wiping away mistakes   \n",
       "1                                                                                                                                                                                                                  &#11088; UN-SHARPENED #2 PREMIUM PENCILS. Each pack comes with 12 un-sharpened pencils. Unlike most others out there, these allow kids the simple joy of sharpening a brand new pencil for the very 1st time!\\n&#11088; CLASSIC BARREL. Made from premium-quality wood pencil is bonded with a break-resistant number two core for smooth writing as easily erased. Hexagonal shape prevents rolling and comfortable to hold.\\n&#11088; QUALITY. Pencils are #2 HB for general writing, drawing and sketching. Pencils glide smoothly over paper and is highly break resistant. Pencils include a smudge-resistant eraser top for convenience.\\n&#11088; LATEX-FREE ERASER. The smudge-less eraser is latex-free, which provides enough toughness for heavy erasures. These smudge-free erasers wipe the page clean, making corrections easy and fast.\\n&#11088; WIDE APPLICATION. Suitable for all general writing applications such as notes, letters, and you can use it for office, classroom, home and other occasions.   \n",
       "2  ✓ PACK OF 8 NUMBER 2 PRESHARPENED BEGINNERS PENCILS: Emraw round sharpened pencils set contains 2 packs of 4 general no.2 hb pencils with latex-free rubber erasers top, total 8 primary size yellow preschool pencils, good for little hands\\n✓ SUPERIOR NATURAL GRIP AND FEEL: Rounded triangular wooden casing blends ergonomic design for kids small hands in mind that allows your beginner writer a firm grip to comfortably hold and practice to write, scribble or tracing for hours\\n✓ CLASSIC YELLOW BARREL WOOD-CASED PENCILS: Premium pencils made from high-quality wood for easy clean sharpening, 3.25 mm thick break-resistant graphite lead requires less sharpening, produces dark long-lasting, readable, consistent strokes\\n✓ EASILY ERASABLE - MAKES DO-OVERS A BREEZE: Unwanted marks are easy to erase, offers clean corrections without tearing the paper. Soft, non-smudge rubbers are effective to erase marks completely and will not leave any residue behind\\n✓ VERSATILE WIDE APPLICATION: Suitable for kids, boys girls, teens, adults. Perfect for students in kindergarten school exam or college, teacher in classroom and general use: workshops, corporate office, meeting, sketching, writing, drawing   \n",
       "3           ✓ PACK OF 6 NUMBER 2 PRESHARPENED BEGINNERS PENCILS: Emraw triangle sharpened pencils set contains 2 packs of 3 general no.2 hb pencils with latex-free rubber erasers top, total 6 primary size yellow preschool pencils, good for little hands\\n✓ SUPERIOR NATURAL GRIP AND FEEL: Rounded triangular wooden casing blends ergonomic design for kids small hands in mind that allows your beginner writer a firm grip and comfortably hold and practice to write, scribble or tracing for hours\\n✓ CLASSIC YELLOW BARREL WOOD-CASED PENCILS: Made from high-quality wood for easy clean sharpening, 3.25 mm thick break-resistant graphite lead requires less sharpening and produces dark long-lasting, readable, consistent strokes\\n✓ EASILY ERASABLE - MAKES DO-OVERS A BREEZE: Unwanted marks are easy to erase, offers clean corrections without tearing the paper. Soft, non-smudge rubbers are effective to erase marks completely and will not leave any residue behind\\n✓ VERSATILE WIDE APPLICATION: Suitable for kids, boys girls, teens, adults. Perfect for students in kindergarten school or college exam, teacher in classroom and general use: workshops, corporate office, meeting, sketching, writing, drawing   \n",
       "\n",
       "    product_brand product_color_name product_locale  \\\n",
       "0   Amazon Basics             Yellow             us   \n",
       "1  BAZIC Products           12-count             us   \n",
       "2           Emraw             Yellow             us   \n",
       "3           Emraw             Yellow             us   \n",
       "\n",
       "                                                                                                                                                                                                                                                                                                                                                                                                                                                                                                                                                                                                                                                                                                                                                                                                                                                                                                                                                                                                                                                                                                                                                                                                                                                                                                                                                                                                                                                                                                                                                                                                                                                                                                                                                                                                                                                                                                                                                                                                                                                                                                                                                                                                                                                                                                                                                                                                                                                                                                                                                                                                                                                                                                                                                                                                                                                                                                                                                                                                                                                                                                                                                                                                                                                                                                                                                                                                                                                     product_input  \n",
       "0                                                                                                                                                                                                                                                                                                                                                                                                                                                                                                                                                                                                                                                                                                                                                                                                                                                                                                                                                                                                                                                                                                                                                                                                                                                                                                                                                                                                                                                                                                                                                                                                                                                                                                                                                                                                                                                                                                                                                                                                                                                                                                                                                                                                                                                                                                                                                                                                                                                                                                                                                                                                                                                                                                                                                                                                                                                                                                                                                                                                                                   Amazon Basics Woodcased #2 Pencils, Unsharpened, HB Lead - Box of 144, Bulk Box us  144 woodcase #2 HB pencils made from high-quality wood for clean, easy sharpening\\nStrong medium-soft lead produces long-lasting, smooth, readable strokes\\nRounded hexagonal shape with satin-smooth finish for a secure, comfortable grip\\nSoft, smudge-free, latex-free eraser secured to the end for conveniently wiping away mistakes  \n",
       "1                                                                                                                                                                                                                                                                                                                                                                                                                                                                                                                                                                                                                                                                                                                                                                                                                                                                                                                                                                                                                                                                                                             BAZIC Pencil #2 HB Pencils, Latex Free Eraser, Wood Free Yellow Unsharpened Pencils for Exam School Office (12/Pack), 1-Pack us <p><strong>BACK TO BAZIC</strong></p><p>Our goal is to provide each customer with long-lasting supplies at an affordable cost. Since 1998, we’ve delivered on this promise and will only continue to improve every year. We’ve built our brand on integrity and quality, so customers know exactly what to expect.</p> <p><strong>COMMITTED TO VALUES</strong></p><p>We are a value-driven company, guided by the principles of excellence through strong product design at low cost. Our commitment to these values is reflected in our dedication to improving current products and developing new exciting products for our consumers.</p> <p><strong>FOCUSED ON OUR MISSION</strong></p><p>Our currency is ideas. We thrive on imagination, passion and leadership. We have great products and will to continue to rise with our customer expectations.</p> <p><strong>SUCCESS BASED ON SATISFACTION</strong></p><p>Each and every product we send out, we expect our 100% customer satisfaction. While our supplies are sourced from all across the world, our success stems from individual consumer fulfillment. We create products that people want to recommend to others.</p> &#11088; UN-SHARPENED #2 PREMIUM PENCILS. Each pack comes with 12 un-sharpened pencils. Unlike most others out there, these allow kids the simple joy of sharpening a brand new pencil for the very 1st time!\\n&#11088; CLASSIC BARREL. Made from premium-quality wood pencil is bonded with a break-resistant number two core for smooth writing as easily erased. Hexagonal shape prevents rolling and comfortable to hold.\\n&#11088; QUALITY. Pencils are #2 HB for general writing, drawing and sketching. Pencils glide smoothly over paper and is highly break resistant. Pencils include a smudge-resistant eraser top for convenience.\\n&#11088; LATEX-FREE ERASER. The smudge-less eraser is latex-free, which provides enough toughness for heavy erasures. These smudge-free erasers wipe the page clean, making corrections easy and fast.\\n&#11088; WIDE APPLICATION. Suitable for all general writing applications such as notes, letters, and you can use it for office, classroom, home and other occasions.  \n",
       "2                              Emraw Pre Sharpened Round Primary Size No 2 Jumbo Pencils for Preschoolers, Elementary Kids - Pack of 8 Premium Fat Pencils us <p><b>Emraw Pre-Sharpened #2 HB Wood Pencils - Pack of 8 Pre-Schoolers Pencils</b></p><p>Looking for pencils for kid, office or every day general purpose repetitive use? Tired of pencils that do not sharpen well? Disappointed having broken leads repeatedly? Or, looking for pencils that require less sharpening and lasts longer?</p><p>Search no further, Emraw num 2 jumbo pencils pack have you covered. You just found the best deal. You will love them. Just the right size for pre-kindergarten toddlers. Perfect for elderly hands having difficulty grasping smaller items. Each pencil is pre-sharpened so you can literally pick straight from the box and start using. HB (no2) hardness grading with thicker leads make them perfect for most types of writing or sketching.</p><p>Made of high quality non-toxic cedar wood so they sharpen nicely with any quality dual-holed hand sharpener or adjustable electric sharpener, (not compatible with standard pencil sharpener). Rounded circular shape offers an effortless, fatigue-free writing experience.</p><p>Big ultra-smooth graphite core does not break easily, helps kids to grip securely, write smoothly and build language and motor skills. Applying normal pressure kids can wipe away mistaken strokes without a lot of effort. The soft, non-smudge rubbers are effective to erase completely and will not leave any pink residue behind after erasing unwanted marks. The eraser on top is held strongly with a ferrule and will not loosen easily, that keeps an eraser always in hand throughout its lifespan.</p><p>Use or gift these pencils to use in the classroom, work, or home for anything from keeping lists, making notes, sketch first drafts, brainstorm campaign ideas, filling in answers on an exam, coloring books as a highlighter, quick sketches of diy carpentry projects, solving sudoku or crossword puzzles.</p><p><b>Best N.2 Woodcase Pencils Supplies for You, Your Children, Students, Family, or Workmates, Order Now!!!</b></p> ✓ PACK OF 8 NUMBER 2 PRESHARPENED BEGINNERS PENCILS: Emraw round sharpened pencils set contains 2 packs of 4 general no.2 hb pencils with latex-free rubber erasers top, total 8 primary size yellow preschool pencils, good for little hands\\n✓ SUPERIOR NATURAL GRIP AND FEEL: Rounded triangular wooden casing blends ergonomic design for kids small hands in mind that allows your beginner writer a firm grip to comfortably hold and practice to write, scribble or tracing for hours\\n✓ CLASSIC YELLOW BARREL WOOD-CASED PENCILS: Premium pencils made from high-quality wood for easy clean sharpening, 3.25 mm thick break-resistant graphite lead requires less sharpening, produces dark long-lasting, readable, consistent strokes\\n✓ EASILY ERASABLE - MAKES DO-OVERS A BREEZE: Unwanted marks are easy to erase, offers clean corrections without tearing the paper. Soft, non-smudge rubbers are effective to erase marks completely and will not leave any residue behind\\n✓ VERSATILE WIDE APPLICATION: Suitable for kids, boys girls, teens, adults. Perfect for students in kindergarten school exam or college, teacher in classroom and general use: workshops, corporate office, meeting, sketching, writing, drawing  \n",
       "3  Emraw Pre Sharpened Triangular Primary Size No 2 Jumbo Pencils for Preschoolers, Elementary Kids - Pack of 6 Fat Pencils with Bonus Sharpener us <p><b>Emraw Pre-Sharpened #2 HB Wood Pencils - Pack of 6 Pre-Schoolers Pencils</b></p><p>Looking for pencils for kid, office or every day general purpose repetitive use? Tired of pencils that do not sharpen well? Disappointed having broken leads repeatedly? Or, looking for pencils that require less sharpening and lasts longer?</p><p>Search no further, Emraw num 2 jumbo pencils pack have you covered. You just found the best deal. You will just love them. Just the right size for pre-kindergarten toddlers. Perfect for elderly hands having difficulty grasping smaller items. Each pencil is pre-sharpened so you can literally pick straight from the box and start using. HB (no2) hardness grading with thicker leads make them perfect for most types of writing or sketching.</p><p>Made of high quality non-toxic cedar wood so they sharpen nicely with any quality dual-holed hand sharpener or adjustable electric sharpener (1 Sharpener Included). Rounded triangular shape offers an effortless, fatigue-free writing experience and won't roll off inclined desks or tables.</p><p>Big ultra-smooth graphite core does not break easily, helps kids to grip securely, write smoothly and build language and motor skills. Applying normal pressure kids can wipe away mistaken strokes without a lot of effort. The soft, non-smudge rubbers are effective to erase completely and will not leave any pink residue behind after erasing unwanted marks. The eraser on top is held strongly with a ferrule and will not loosen easily, that keeps an eraser always in hand throughout its lifespan.</p><p>Use the or gift these pencils to use in the classroom, work, or home for anything from keeping lists, making notes, sketch first drafts, brainstorm campaign ideas, filling in answers on an exam, coloring books as a highlighter, quick sketches of diy carpentry projects, solving sudoku or crossword puzzles.</p><p><b>Best N.2 Woodcase Pencils Supplies for You, Your Students, Family, or Workmates, Order Now!!!</b></p> ✓ PACK OF 6 NUMBER 2 PRESHARPENED BEGINNERS PENCILS: Emraw triangle sharpened pencils set contains 2 packs of 3 general no.2 hb pencils with latex-free rubber erasers top, total 6 primary size yellow preschool pencils, good for little hands\\n✓ SUPERIOR NATURAL GRIP AND FEEL: Rounded triangular wooden casing blends ergonomic design for kids small hands in mind that allows your beginner writer a firm grip and comfortably hold and practice to write, scribble or tracing for hours\\n✓ CLASSIC YELLOW BARREL WOOD-CASED PENCILS: Made from high-quality wood for easy clean sharpening, 3.25 mm thick break-resistant graphite lead requires less sharpening and produces dark long-lasting, readable, consistent strokes\\n✓ EASILY ERASABLE - MAKES DO-OVERS A BREEZE: Unwanted marks are easy to erase, offers clean corrections without tearing the paper. Soft, non-smudge rubbers are effective to erase marks completely and will not leave any residue behind\\n✓ VERSATILE WIDE APPLICATION: Suitable for kids, boys girls, teens, adults. Perfect for students in kindergarten school or college exam, teacher in classroom and general use: workshops, corporate office, meeting, sketching, writing, drawing  "
      ]
     },
     "execution_count": 12,
     "metadata": {},
     "output_type": "execute_result"
    }
   ],
   "source": [
    "prod_cat.head(4)"
   ]
  },
  {
   "cell_type": "code",
   "execution_count": 13,
   "id": "dcd0d534",
   "metadata": {
    "execution": {
     "iopub.execute_input": "2022-06-26T03:24:55.213017Z",
     "iopub.status.busy": "2022-06-26T03:24:55.212756Z",
     "iopub.status.idle": "2022-06-26T03:25:46.152643Z",
     "shell.execute_reply": "2022-06-26T03:25:46.151631Z"
    },
    "papermill": {
     "duration": 50.951965,
     "end_time": "2022-06-26T03:25:46.155177",
     "exception": false,
     "start_time": "2022-06-26T03:24:55.203212",
     "status": "completed"
    },
    "tags": []
   },
   "outputs": [],
   "source": [
    "escapes = ''.join([chr(char) for char in range(1, 32)])\n",
    "translator = str.maketrans('', '', escapes)\n",
    "prod_cat['product_input'] = prod_cat['product_input'].apply(lambda inp: inp.translate(translator))"
   ]
  },
  {
   "cell_type": "code",
   "execution_count": 14,
   "id": "79af5fc2",
   "metadata": {
    "execution": {
     "iopub.execute_input": "2022-06-26T03:25:46.174756Z",
     "iopub.status.busy": "2022-06-26T03:25:46.174449Z",
     "iopub.status.idle": "2022-06-26T03:25:46.189894Z",
     "shell.execute_reply": "2022-06-26T03:25:46.189058Z"
    },
    "papermill": {
     "duration": 0.027746,
     "end_time": "2022-06-26T03:25:46.192538",
     "exception": false,
     "start_time": "2022-06-26T03:25:46.164792",
     "status": "completed"
    },
    "tags": []
   },
   "outputs": [
    {
     "data": {
      "text/html": [
       "<div>\n",
       "<style scoped>\n",
       "    .dataframe tbody tr th:only-of-type {\n",
       "        vertical-align: middle;\n",
       "    }\n",
       "\n",
       "    .dataframe tbody tr th {\n",
       "        vertical-align: top;\n",
       "    }\n",
       "\n",
       "    .dataframe thead th {\n",
       "        text-align: right;\n",
       "    }\n",
       "</style>\n",
       "<table border=\"1\" class=\"dataframe\">\n",
       "  <thead>\n",
       "    <tr style=\"text-align: right;\">\n",
       "      <th></th>\n",
       "      <th>product_id</th>\n",
       "      <th>product_title</th>\n",
       "      <th>product_description</th>\n",
       "      <th>product_bullet_point</th>\n",
       "      <th>product_brand</th>\n",
       "      <th>product_color_name</th>\n",
       "      <th>product_locale</th>\n",
       "      <th>product_input</th>\n",
       "    </tr>\n",
       "  </thead>\n",
       "  <tbody>\n",
       "    <tr>\n",
       "      <th>0</th>\n",
       "      <td>B0188A3QRM</td>\n",
       "      <td>Amazon Basics Woodcased #2 Pencils, Unsharpened, HB Lead - Box of 144, Bulk Box</td>\n",
       "      <td></td>\n",
       "      <td>144 woodcase #2 HB pencils made from high-quality wood for clean, easy sharpening\\nStrong medium-soft lead produces long-lasting, smooth, readable strokes\\nRounded hexagonal shape with satin-smooth finish for a secure, comfortable grip\\nSoft, smudge-free, latex-free eraser secured to the end for conveniently wiping away mistakes</td>\n",
       "      <td>Amazon Basics</td>\n",
       "      <td>Yellow</td>\n",
       "      <td>us</td>\n",
       "      <td>Amazon Basics Woodcased #2 Pencils, Unsharpened, HB Lead - Box of 144, Bulk Box us  144 woodcase #2 HB pencils made from high-quality wood for clean, easy sharpeningStrong medium-soft lead produces long-lasting, smooth, readable strokesRounded hexagonal shape with satin-smooth finish for a secure, comfortable gripSoft, smudge-free, latex-free eraser secured to the end for conveniently wiping away mistakes</td>\n",
       "    </tr>\n",
       "    <tr>\n",
       "      <th>1</th>\n",
       "      <td>B075VXJ9VG</td>\n",
       "      <td>BAZIC Pencil #2 HB Pencils, Latex Free Eraser, Wood Free Yellow Unsharpened Pencils for Exam School Office (12/Pack), 1-Pack</td>\n",
       "      <td>&lt;p&gt;&lt;strong&gt;BACK TO BAZIC&lt;/strong&gt;&lt;/p&gt;&lt;p&gt;Our goal is to provide each customer with long-lasting supplies at an affordable cost. Since 1998, we’ve delivered on this promise and will only continue to improve every year. We’ve built our brand on integrity and quality, so customers know exactly what to expect.&lt;/p&gt; &lt;p&gt;&lt;strong&gt;COMMITTED TO VALUES&lt;/strong&gt;&lt;/p&gt;&lt;p&gt;We are a value-driven company, guided by the principles of excellence through strong product design at low cost. Our commitment to these values is reflected in our dedication to improving current products and developing new exciting products for our consumers.&lt;/p&gt; &lt;p&gt;&lt;strong&gt;FOCUSED ON OUR MISSION&lt;/strong&gt;&lt;/p&gt;&lt;p&gt;Our currency is ideas. We thrive on imagination, passion and leadership. We have great products and will to continue to rise with our customer expectations.&lt;/p&gt; &lt;p&gt;&lt;strong&gt;SUCCESS BASED ON SATISFACTION&lt;/strong&gt;&lt;/p&gt;&lt;p&gt;Each and every product we send out, we expect our 100% customer satisfaction. While our supplies are sourced from all across the world, our success stems from individual consumer fulfillment. We create products that people want to recommend to others.&lt;/p&gt;</td>\n",
       "      <td>&amp;#11088; UN-SHARPENED #2 PREMIUM PENCILS. Each pack comes with 12 un-sharpened pencils. Unlike most others out there, these allow kids the simple joy of sharpening a brand new pencil for the very 1st time!\\n&amp;#11088; CLASSIC BARREL. Made from premium-quality wood pencil is bonded with a break-resistant number two core for smooth writing as easily erased. Hexagonal shape prevents rolling and comfortable to hold.\\n&amp;#11088; QUALITY. Pencils are #2 HB for general writing, drawing and sketching. Pencils glide smoothly over paper and is highly break resistant. Pencils include a smudge-resistant eraser top for convenience.\\n&amp;#11088; LATEX-FREE ERASER. The smudge-less eraser is latex-free, which provides enough toughness for heavy erasures. These smudge-free erasers wipe the page clean, making corrections easy and fast.\\n&amp;#11088; WIDE APPLICATION. Suitable for all general writing applications such as notes, letters, and you can use it for office, classroom, home and other occasions.</td>\n",
       "      <td>BAZIC Products</td>\n",
       "      <td>12-count</td>\n",
       "      <td>us</td>\n",
       "      <td>BAZIC Pencil #2 HB Pencils, Latex Free Eraser, Wood Free Yellow Unsharpened Pencils for Exam School Office (12/Pack), 1-Pack us &lt;p&gt;&lt;strong&gt;BACK TO BAZIC&lt;/strong&gt;&lt;/p&gt;&lt;p&gt;Our goal is to provide each customer with long-lasting supplies at an affordable cost. Since 1998, we’ve delivered on this promise and will only continue to improve every year. We’ve built our brand on integrity and quality, so customers know exactly what to expect.&lt;/p&gt; &lt;p&gt;&lt;strong&gt;COMMITTED TO VALUES&lt;/strong&gt;&lt;/p&gt;&lt;p&gt;We are a value-driven company, guided by the principles of excellence through strong product design at low cost. Our commitment to these values is reflected in our dedication to improving current products and developing new exciting products for our consumers.&lt;/p&gt; &lt;p&gt;&lt;strong&gt;FOCUSED ON OUR MISSION&lt;/strong&gt;&lt;/p&gt;&lt;p&gt;Our currency is ideas. We thrive on imagination, passion and leadership. We have great products and will to continue to rise with our customer expectations.&lt;/p&gt; &lt;p&gt;&lt;strong&gt;SUCCESS BASED ON SATISFACTION&lt;/strong&gt;&lt;/p&gt;&lt;p&gt;Each and every product we send out, we expect our 100% customer satisfaction. While our supplies are sourced from all across the world, our success stems from individual consumer fulfillment. We create products that people want to recommend to others.&lt;/p&gt; &amp;#11088; UN-SHARPENED #2 PREMIUM PENCILS. Each pack comes with 12 un-sharpened pencils. Unlike most others out there, these allow kids the simple joy of sharpening a brand new pencil for the very 1st time!&amp;#11088; CLASSIC BARREL. Made from premium-quality wood pencil is bonded with a break-resistant number two core for smooth writing as easily erased. Hexagonal shape prevents rolling and comfortable to hold.&amp;#11088; QUALITY. Pencils are #2 HB for general writing, drawing and sketching. Pencils glide smoothly over paper and is highly break resistant. Pencils include a smudge-resistant eraser top for convenience.&amp;#11088; LATEX-FREE ERASER. The smudge-less eraser is latex-free, which provides enough toughness for heavy erasures. These smudge-free erasers wipe the page clean, making corrections easy and fast.&amp;#11088; WIDE APPLICATION. Suitable for all general writing applications such as notes, letters, and you can use it for office, classroom, home and other occasions.</td>\n",
       "    </tr>\n",
       "    <tr>\n",
       "      <th>2</th>\n",
       "      <td>B07G7F6JZ6</td>\n",
       "      <td>Emraw Pre Sharpened Round Primary Size No 2 Jumbo Pencils for Preschoolers, Elementary Kids - Pack of 8 Premium Fat Pencils</td>\n",
       "      <td>&lt;p&gt;&lt;b&gt;Emraw Pre-Sharpened #2 HB Wood Pencils - Pack of 8 Pre-Schoolers Pencils&lt;/b&gt;&lt;/p&gt;&lt;p&gt;Looking for pencils for kid, office or every day general purpose repetitive use? Tired of pencils that do not sharpen well? Disappointed having broken leads repeatedly? Or, looking for pencils that require less sharpening and lasts longer?&lt;/p&gt;&lt;p&gt;Search no further, Emraw num 2 jumbo pencils pack have you covered. You just found the best deal. You will love them. Just the right size for pre-kindergarten toddlers. Perfect for elderly hands having difficulty grasping smaller items. Each pencil is pre-sharpened so you can literally pick straight from the box and start using. HB (no2) hardness grading with thicker leads make them perfect for most types of writing or sketching.&lt;/p&gt;&lt;p&gt;Made of high quality non-toxic cedar wood so they sharpen nicely with any quality dual-holed hand sharpener or adjustable electric sharpener, (not compatible with standard pencil sharpener). Rounded circular shape offers an effortless, fatigue-free writing experience.&lt;/p&gt;&lt;p&gt;Big ultra-smooth graphite core does not break easily, helps kids to grip securely, write smoothly and build language and motor skills. Applying normal pressure kids can wipe away mistaken strokes without a lot of effort. The soft, non-smudge rubbers are effective to erase completely and will not leave any pink residue behind after erasing unwanted marks. The eraser on top is held strongly with a ferrule and will not loosen easily, that keeps an eraser always in hand throughout its lifespan.&lt;/p&gt;&lt;p&gt;Use or gift these pencils to use in the classroom, work, or home for anything from keeping lists, making notes, sketch first drafts, brainstorm campaign ideas, filling in answers on an exam, coloring books as a highlighter, quick sketches of diy carpentry projects, solving sudoku or crossword puzzles.&lt;/p&gt;&lt;p&gt;&lt;b&gt;Best N.2 Woodcase Pencils Supplies for You, Your Children, Students, Family, or Workmates, Order Now!!!&lt;/b&gt;&lt;/p&gt;</td>\n",
       "      <td>✓ PACK OF 8 NUMBER 2 PRESHARPENED BEGINNERS PENCILS: Emraw round sharpened pencils set contains 2 packs of 4 general no.2 hb pencils with latex-free rubber erasers top, total 8 primary size yellow preschool pencils, good for little hands\\n✓ SUPERIOR NATURAL GRIP AND FEEL: Rounded triangular wooden casing blends ergonomic design for kids small hands in mind that allows your beginner writer a firm grip to comfortably hold and practice to write, scribble or tracing for hours\\n✓ CLASSIC YELLOW BARREL WOOD-CASED PENCILS: Premium pencils made from high-quality wood for easy clean sharpening, 3.25 mm thick break-resistant graphite lead requires less sharpening, produces dark long-lasting, readable, consistent strokes\\n✓ EASILY ERASABLE - MAKES DO-OVERS A BREEZE: Unwanted marks are easy to erase, offers clean corrections without tearing the paper. Soft, non-smudge rubbers are effective to erase marks completely and will not leave any residue behind\\n✓ VERSATILE WIDE APPLICATION: Suitable for kids, boys girls, teens, adults. Perfect for students in kindergarten school exam or college, teacher in classroom and general use: workshops, corporate office, meeting, sketching, writing, drawing</td>\n",
       "      <td>Emraw</td>\n",
       "      <td>Yellow</td>\n",
       "      <td>us</td>\n",
       "      <td>Emraw Pre Sharpened Round Primary Size No 2 Jumbo Pencils for Preschoolers, Elementary Kids - Pack of 8 Premium Fat Pencils us &lt;p&gt;&lt;b&gt;Emraw Pre-Sharpened #2 HB Wood Pencils - Pack of 8 Pre-Schoolers Pencils&lt;/b&gt;&lt;/p&gt;&lt;p&gt;Looking for pencils for kid, office or every day general purpose repetitive use? Tired of pencils that do not sharpen well? Disappointed having broken leads repeatedly? Or, looking for pencils that require less sharpening and lasts longer?&lt;/p&gt;&lt;p&gt;Search no further, Emraw num 2 jumbo pencils pack have you covered. You just found the best deal. You will love them. Just the right size for pre-kindergarten toddlers. Perfect for elderly hands having difficulty grasping smaller items. Each pencil is pre-sharpened so you can literally pick straight from the box and start using. HB (no2) hardness grading with thicker leads make them perfect for most types of writing or sketching.&lt;/p&gt;&lt;p&gt;Made of high quality non-toxic cedar wood so they sharpen nicely with any quality dual-holed hand sharpener or adjustable electric sharpener, (not compatible with standard pencil sharpener). Rounded circular shape offers an effortless, fatigue-free writing experience.&lt;/p&gt;&lt;p&gt;Big ultra-smooth graphite core does not break easily, helps kids to grip securely, write smoothly and build language and motor skills. Applying normal pressure kids can wipe away mistaken strokes without a lot of effort. The soft, non-smudge rubbers are effective to erase completely and will not leave any pink residue behind after erasing unwanted marks. The eraser on top is held strongly with a ferrule and will not loosen easily, that keeps an eraser always in hand throughout its lifespan.&lt;/p&gt;&lt;p&gt;Use or gift these pencils to use in the classroom, work, or home for anything from keeping lists, making notes, sketch first drafts, brainstorm campaign ideas, filling in answers on an exam, coloring books as a highlighter, quick sketches of diy carpentry projects, solving sudoku or crossword puzzles.&lt;/p&gt;&lt;p&gt;&lt;b&gt;Best N.2 Woodcase Pencils Supplies for You, Your Children, Students, Family, or Workmates, Order Now!!!&lt;/b&gt;&lt;/p&gt; ✓ PACK OF 8 NUMBER 2 PRESHARPENED BEGINNERS PENCILS: Emraw round sharpened pencils set contains 2 packs of 4 general no.2 hb pencils with latex-free rubber erasers top, total 8 primary size yellow preschool pencils, good for little hands✓ SUPERIOR NATURAL GRIP AND FEEL: Rounded triangular wooden casing blends ergonomic design for kids small hands in mind that allows your beginner writer a firm grip to comfortably hold and practice to write, scribble or tracing for hours✓ CLASSIC YELLOW BARREL WOOD-CASED PENCILS: Premium pencils made from high-quality wood for easy clean sharpening, 3.25 mm thick break-resistant graphite lead requires less sharpening, produces dark long-lasting, readable, consistent strokes✓ EASILY ERASABLE - MAKES DO-OVERS A BREEZE: Unwanted marks are easy to erase, offers clean corrections without tearing the paper. Soft, non-smudge rubbers are effective to erase marks completely and will not leave any residue behind✓ VERSATILE WIDE APPLICATION: Suitable for kids, boys girls, teens, adults. Perfect for students in kindergarten school exam or college, teacher in classroom and general use: workshops, corporate office, meeting, sketching, writing, drawing</td>\n",
       "    </tr>\n",
       "    <tr>\n",
       "      <th>3</th>\n",
       "      <td>B07JZJLHCF</td>\n",
       "      <td>Emraw Pre Sharpened Triangular Primary Size No 2 Jumbo Pencils for Preschoolers, Elementary Kids - Pack of 6 Fat Pencils with Bonus Sharpener</td>\n",
       "      <td>&lt;p&gt;&lt;b&gt;Emraw Pre-Sharpened #2 HB Wood Pencils - Pack of 6 Pre-Schoolers Pencils&lt;/b&gt;&lt;/p&gt;&lt;p&gt;Looking for pencils for kid, office or every day general purpose repetitive use? Tired of pencils that do not sharpen well? Disappointed having broken leads repeatedly? Or, looking for pencils that require less sharpening and lasts longer?&lt;/p&gt;&lt;p&gt;Search no further, Emraw num 2 jumbo pencils pack have you covered. You just found the best deal. You will just love them. Just the right size for pre-kindergarten toddlers. Perfect for elderly hands having difficulty grasping smaller items. Each pencil is pre-sharpened so you can literally pick straight from the box and start using. HB (no2) hardness grading with thicker leads make them perfect for most types of writing or sketching.&lt;/p&gt;&lt;p&gt;Made of high quality non-toxic cedar wood so they sharpen nicely with any quality dual-holed hand sharpener or adjustable electric sharpener (1 Sharpener Included). Rounded triangular shape offers an effortless, fatigue-free writing experience and won't roll off inclined desks or tables.&lt;/p&gt;&lt;p&gt;Big ultra-smooth graphite core does not break easily, helps kids to grip securely, write smoothly and build language and motor skills. Applying normal pressure kids can wipe away mistaken strokes without a lot of effort. The soft, non-smudge rubbers are effective to erase completely and will not leave any pink residue behind after erasing unwanted marks. The eraser on top is held strongly with a ferrule and will not loosen easily, that keeps an eraser always in hand throughout its lifespan.&lt;/p&gt;&lt;p&gt;Use the or gift these pencils to use in the classroom, work, or home for anything from keeping lists, making notes, sketch first drafts, brainstorm campaign ideas, filling in answers on an exam, coloring books as a highlighter, quick sketches of diy carpentry projects, solving sudoku or crossword puzzles.&lt;/p&gt;&lt;p&gt;&lt;b&gt;Best N.2 Woodcase Pencils Supplies for You, Your Students, Family, or Workmates, Order Now!!!&lt;/b&gt;&lt;/p&gt;</td>\n",
       "      <td>✓ PACK OF 6 NUMBER 2 PRESHARPENED BEGINNERS PENCILS: Emraw triangle sharpened pencils set contains 2 packs of 3 general no.2 hb pencils with latex-free rubber erasers top, total 6 primary size yellow preschool pencils, good for little hands\\n✓ SUPERIOR NATURAL GRIP AND FEEL: Rounded triangular wooden casing blends ergonomic design for kids small hands in mind that allows your beginner writer a firm grip and comfortably hold and practice to write, scribble or tracing for hours\\n✓ CLASSIC YELLOW BARREL WOOD-CASED PENCILS: Made from high-quality wood for easy clean sharpening, 3.25 mm thick break-resistant graphite lead requires less sharpening and produces dark long-lasting, readable, consistent strokes\\n✓ EASILY ERASABLE - MAKES DO-OVERS A BREEZE: Unwanted marks are easy to erase, offers clean corrections without tearing the paper. Soft, non-smudge rubbers are effective to erase marks completely and will not leave any residue behind\\n✓ VERSATILE WIDE APPLICATION: Suitable for kids, boys girls, teens, adults. Perfect for students in kindergarten school or college exam, teacher in classroom and general use: workshops, corporate office, meeting, sketching, writing, drawing</td>\n",
       "      <td>Emraw</td>\n",
       "      <td>Yellow</td>\n",
       "      <td>us</td>\n",
       "      <td>Emraw Pre Sharpened Triangular Primary Size No 2 Jumbo Pencils for Preschoolers, Elementary Kids - Pack of 6 Fat Pencils with Bonus Sharpener us &lt;p&gt;&lt;b&gt;Emraw Pre-Sharpened #2 HB Wood Pencils - Pack of 6 Pre-Schoolers Pencils&lt;/b&gt;&lt;/p&gt;&lt;p&gt;Looking for pencils for kid, office or every day general purpose repetitive use? Tired of pencils that do not sharpen well? Disappointed having broken leads repeatedly? Or, looking for pencils that require less sharpening and lasts longer?&lt;/p&gt;&lt;p&gt;Search no further, Emraw num 2 jumbo pencils pack have you covered. You just found the best deal. You will just love them. Just the right size for pre-kindergarten toddlers. Perfect for elderly hands having difficulty grasping smaller items. Each pencil is pre-sharpened so you can literally pick straight from the box and start using. HB (no2) hardness grading with thicker leads make them perfect for most types of writing or sketching.&lt;/p&gt;&lt;p&gt;Made of high quality non-toxic cedar wood so they sharpen nicely with any quality dual-holed hand sharpener or adjustable electric sharpener (1 Sharpener Included). Rounded triangular shape offers an effortless, fatigue-free writing experience and won't roll off inclined desks or tables.&lt;/p&gt;&lt;p&gt;Big ultra-smooth graphite core does not break easily, helps kids to grip securely, write smoothly and build language and motor skills. Applying normal pressure kids can wipe away mistaken strokes without a lot of effort. The soft, non-smudge rubbers are effective to erase completely and will not leave any pink residue behind after erasing unwanted marks. The eraser on top is held strongly with a ferrule and will not loosen easily, that keeps an eraser always in hand throughout its lifespan.&lt;/p&gt;&lt;p&gt;Use the or gift these pencils to use in the classroom, work, or home for anything from keeping lists, making notes, sketch first drafts, brainstorm campaign ideas, filling in answers on an exam, coloring books as a highlighter, quick sketches of diy carpentry projects, solving sudoku or crossword puzzles.&lt;/p&gt;&lt;p&gt;&lt;b&gt;Best N.2 Woodcase Pencils Supplies for You, Your Students, Family, or Workmates, Order Now!!!&lt;/b&gt;&lt;/p&gt; ✓ PACK OF 6 NUMBER 2 PRESHARPENED BEGINNERS PENCILS: Emraw triangle sharpened pencils set contains 2 packs of 3 general no.2 hb pencils with latex-free rubber erasers top, total 6 primary size yellow preschool pencils, good for little hands✓ SUPERIOR NATURAL GRIP AND FEEL: Rounded triangular wooden casing blends ergonomic design for kids small hands in mind that allows your beginner writer a firm grip and comfortably hold and practice to write, scribble or tracing for hours✓ CLASSIC YELLOW BARREL WOOD-CASED PENCILS: Made from high-quality wood for easy clean sharpening, 3.25 mm thick break-resistant graphite lead requires less sharpening and produces dark long-lasting, readable, consistent strokes✓ EASILY ERASABLE - MAKES DO-OVERS A BREEZE: Unwanted marks are easy to erase, offers clean corrections without tearing the paper. Soft, non-smudge rubbers are effective to erase marks completely and will not leave any residue behind✓ VERSATILE WIDE APPLICATION: Suitable for kids, boys girls, teens, adults. Perfect for students in kindergarten school or college exam, teacher in classroom and general use: workshops, corporate office, meeting, sketching, writing, drawing</td>\n",
       "    </tr>\n",
       "    <tr>\n",
       "      <th>4</th>\n",
       "      <td>B07MGKC3DD</td>\n",
       "      <td>BIC Evolution Cased Pencil, #2 Lead, Gray Barrel, 24-Count (PGEBP241-BLK)</td>\n",
       "      <td></td>\n",
       "      <td>Premium #2 HB lead pencils with break-resistant lead and splinter-free barrels\\nDurable, long-lasting leads and erasers\\nLatex-free erasers easily erase stray marks\\nTrendy and modern gray barrels\\nPack of 24 certified non-toxic pencils ideal for home or classroom</td>\n",
       "      <td>Design House</td>\n",
       "      <td>Gray</td>\n",
       "      <td>us</td>\n",
       "      <td>BIC Evolution Cased Pencil, #2 Lead, Gray Barrel, 24-Count (PGEBP241-BLK) us  Premium #2 HB lead pencils with break-resistant lead and splinter-free barrelsDurable, long-lasting leads and erasersLatex-free erasers easily erase stray marksTrendy and modern gray barrelsPack of 24 certified non-toxic pencils ideal for home or classroom</td>\n",
       "    </tr>\n",
       "  </tbody>\n",
       "</table>\n",
       "</div>"
      ],
      "text/plain": [
       "   product_id  \\\n",
       "0  B0188A3QRM   \n",
       "1  B075VXJ9VG   \n",
       "2  B07G7F6JZ6   \n",
       "3  B07JZJLHCF   \n",
       "4  B07MGKC3DD   \n",
       "\n",
       "                                                                                                                                   product_title  \\\n",
       "0                                                                Amazon Basics Woodcased #2 Pencils, Unsharpened, HB Lead - Box of 144, Bulk Box   \n",
       "1                   BAZIC Pencil #2 HB Pencils, Latex Free Eraser, Wood Free Yellow Unsharpened Pencils for Exam School Office (12/Pack), 1-Pack   \n",
       "2                    Emraw Pre Sharpened Round Primary Size No 2 Jumbo Pencils for Preschoolers, Elementary Kids - Pack of 8 Premium Fat Pencils   \n",
       "3  Emraw Pre Sharpened Triangular Primary Size No 2 Jumbo Pencils for Preschoolers, Elementary Kids - Pack of 6 Fat Pencils with Bonus Sharpener   \n",
       "4                                                                      BIC Evolution Cased Pencil, #2 Lead, Gray Barrel, 24-Count (PGEBP241-BLK)   \n",
       "\n",
       "                                                                                                                                                                                                                                                                                                                                                                                                                                                                                                                                                                                                                                                                                                                                                                                                                                                                                                                                                                                                                                                                                                                                                                                                                                                                                                                                                                                                                                                                                                                                                                                                                                                                                                                                                                                                                                                                                                                                                                                                                                                          product_description  \\\n",
       "0                                                                                                                                                                                                                                                                                                                                                                                                                                                                                                                                                                                                                                                                                                                                                                                                                                                                                                                                                                                                                                                                                                                                                                                                                                                                                                                                                                                                                                                                                                                                                                                                                                                                                                                                                                                                                                                                                                                                                                                                                                                                               \n",
       "1                                                                                                                                                                                                                                                                                                                                                                                                                                                                                                                                                                                                                                                                                                                                                                                                                                                                                     <p><strong>BACK TO BAZIC</strong></p><p>Our goal is to provide each customer with long-lasting supplies at an affordable cost. Since 1998, we’ve delivered on this promise and will only continue to improve every year. We’ve built our brand on integrity and quality, so customers know exactly what to expect.</p> <p><strong>COMMITTED TO VALUES</strong></p><p>We are a value-driven company, guided by the principles of excellence through strong product design at low cost. Our commitment to these values is reflected in our dedication to improving current products and developing new exciting products for our consumers.</p> <p><strong>FOCUSED ON OUR MISSION</strong></p><p>Our currency is ideas. We thrive on imagination, passion and leadership. We have great products and will to continue to rise with our customer expectations.</p> <p><strong>SUCCESS BASED ON SATISFACTION</strong></p><p>Each and every product we send out, we expect our 100% customer satisfaction. While our supplies are sourced from all across the world, our success stems from individual consumer fulfillment. We create products that people want to recommend to others.</p>   \n",
       "2                     <p><b>Emraw Pre-Sharpened #2 HB Wood Pencils - Pack of 8 Pre-Schoolers Pencils</b></p><p>Looking for pencils for kid, office or every day general purpose repetitive use? Tired of pencils that do not sharpen well? Disappointed having broken leads repeatedly? Or, looking for pencils that require less sharpening and lasts longer?</p><p>Search no further, Emraw num 2 jumbo pencils pack have you covered. You just found the best deal. You will love them. Just the right size for pre-kindergarten toddlers. Perfect for elderly hands having difficulty grasping smaller items. Each pencil is pre-sharpened so you can literally pick straight from the box and start using. HB (no2) hardness grading with thicker leads make them perfect for most types of writing or sketching.</p><p>Made of high quality non-toxic cedar wood so they sharpen nicely with any quality dual-holed hand sharpener or adjustable electric sharpener, (not compatible with standard pencil sharpener). Rounded circular shape offers an effortless, fatigue-free writing experience.</p><p>Big ultra-smooth graphite core does not break easily, helps kids to grip securely, write smoothly and build language and motor skills. Applying normal pressure kids can wipe away mistaken strokes without a lot of effort. The soft, non-smudge rubbers are effective to erase completely and will not leave any pink residue behind after erasing unwanted marks. The eraser on top is held strongly with a ferrule and will not loosen easily, that keeps an eraser always in hand throughout its lifespan.</p><p>Use or gift these pencils to use in the classroom, work, or home for anything from keeping lists, making notes, sketch first drafts, brainstorm campaign ideas, filling in answers on an exam, coloring books as a highlighter, quick sketches of diy carpentry projects, solving sudoku or crossword puzzles.</p><p><b>Best N.2 Woodcase Pencils Supplies for You, Your Children, Students, Family, or Workmates, Order Now!!!</b></p>   \n",
       "3  <p><b>Emraw Pre-Sharpened #2 HB Wood Pencils - Pack of 6 Pre-Schoolers Pencils</b></p><p>Looking for pencils for kid, office or every day general purpose repetitive use? Tired of pencils that do not sharpen well? Disappointed having broken leads repeatedly? Or, looking for pencils that require less sharpening and lasts longer?</p><p>Search no further, Emraw num 2 jumbo pencils pack have you covered. You just found the best deal. You will just love them. Just the right size for pre-kindergarten toddlers. Perfect for elderly hands having difficulty grasping smaller items. Each pencil is pre-sharpened so you can literally pick straight from the box and start using. HB (no2) hardness grading with thicker leads make them perfect for most types of writing or sketching.</p><p>Made of high quality non-toxic cedar wood so they sharpen nicely with any quality dual-holed hand sharpener or adjustable electric sharpener (1 Sharpener Included). Rounded triangular shape offers an effortless, fatigue-free writing experience and won't roll off inclined desks or tables.</p><p>Big ultra-smooth graphite core does not break easily, helps kids to grip securely, write smoothly and build language and motor skills. Applying normal pressure kids can wipe away mistaken strokes without a lot of effort. The soft, non-smudge rubbers are effective to erase completely and will not leave any pink residue behind after erasing unwanted marks. The eraser on top is held strongly with a ferrule and will not loosen easily, that keeps an eraser always in hand throughout its lifespan.</p><p>Use the or gift these pencils to use in the classroom, work, or home for anything from keeping lists, making notes, sketch first drafts, brainstorm campaign ideas, filling in answers on an exam, coloring books as a highlighter, quick sketches of diy carpentry projects, solving sudoku or crossword puzzles.</p><p><b>Best N.2 Woodcase Pencils Supplies for You, Your Students, Family, or Workmates, Order Now!!!</b></p>   \n",
       "4                                                                                                                                                                                                                                                                                                                                                                                                                                                                                                                                                                                                                                                                                                                                                                                                                                                                                                                                                                                                                                                                                                                                                                                                                                                                                                                                                                                                                                                                                                                                                                                                                                                                                                                                                                                                                                                                                                                                                                                                                                                                               \n",
       "\n",
       "                                                                                                                                                                                                                                                                                                                                                                                                                                                                                                                                                                                                                                                                                                                                                                                                                                                                                                                                                                                                                                                                                                                                                                                                                           product_bullet_point  \\\n",
       "0                                                                                                                                                                                                                                                                                                                                                                                                                                                                                                                                                                                                                                                                                                                                                                                                                                                                                                    144 woodcase #2 HB pencils made from high-quality wood for clean, easy sharpening\\nStrong medium-soft lead produces long-lasting, smooth, readable strokes\\nRounded hexagonal shape with satin-smooth finish for a secure, comfortable grip\\nSoft, smudge-free, latex-free eraser secured to the end for conveniently wiping away mistakes   \n",
       "1                                                                                                                                                                                                                  &#11088; UN-SHARPENED #2 PREMIUM PENCILS. Each pack comes with 12 un-sharpened pencils. Unlike most others out there, these allow kids the simple joy of sharpening a brand new pencil for the very 1st time!\\n&#11088; CLASSIC BARREL. Made from premium-quality wood pencil is bonded with a break-resistant number two core for smooth writing as easily erased. Hexagonal shape prevents rolling and comfortable to hold.\\n&#11088; QUALITY. Pencils are #2 HB for general writing, drawing and sketching. Pencils glide smoothly over paper and is highly break resistant. Pencils include a smudge-resistant eraser top for convenience.\\n&#11088; LATEX-FREE ERASER. The smudge-less eraser is latex-free, which provides enough toughness for heavy erasures. These smudge-free erasers wipe the page clean, making corrections easy and fast.\\n&#11088; WIDE APPLICATION. Suitable for all general writing applications such as notes, letters, and you can use it for office, classroom, home and other occasions.   \n",
       "2  ✓ PACK OF 8 NUMBER 2 PRESHARPENED BEGINNERS PENCILS: Emraw round sharpened pencils set contains 2 packs of 4 general no.2 hb pencils with latex-free rubber erasers top, total 8 primary size yellow preschool pencils, good for little hands\\n✓ SUPERIOR NATURAL GRIP AND FEEL: Rounded triangular wooden casing blends ergonomic design for kids small hands in mind that allows your beginner writer a firm grip to comfortably hold and practice to write, scribble or tracing for hours\\n✓ CLASSIC YELLOW BARREL WOOD-CASED PENCILS: Premium pencils made from high-quality wood for easy clean sharpening, 3.25 mm thick break-resistant graphite lead requires less sharpening, produces dark long-lasting, readable, consistent strokes\\n✓ EASILY ERASABLE - MAKES DO-OVERS A BREEZE: Unwanted marks are easy to erase, offers clean corrections without tearing the paper. Soft, non-smudge rubbers are effective to erase marks completely and will not leave any residue behind\\n✓ VERSATILE WIDE APPLICATION: Suitable for kids, boys girls, teens, adults. Perfect for students in kindergarten school exam or college, teacher in classroom and general use: workshops, corporate office, meeting, sketching, writing, drawing   \n",
       "3           ✓ PACK OF 6 NUMBER 2 PRESHARPENED BEGINNERS PENCILS: Emraw triangle sharpened pencils set contains 2 packs of 3 general no.2 hb pencils with latex-free rubber erasers top, total 6 primary size yellow preschool pencils, good for little hands\\n✓ SUPERIOR NATURAL GRIP AND FEEL: Rounded triangular wooden casing blends ergonomic design for kids small hands in mind that allows your beginner writer a firm grip and comfortably hold and practice to write, scribble or tracing for hours\\n✓ CLASSIC YELLOW BARREL WOOD-CASED PENCILS: Made from high-quality wood for easy clean sharpening, 3.25 mm thick break-resistant graphite lead requires less sharpening and produces dark long-lasting, readable, consistent strokes\\n✓ EASILY ERASABLE - MAKES DO-OVERS A BREEZE: Unwanted marks are easy to erase, offers clean corrections without tearing the paper. Soft, non-smudge rubbers are effective to erase marks completely and will not leave any residue behind\\n✓ VERSATILE WIDE APPLICATION: Suitable for kids, boys girls, teens, adults. Perfect for students in kindergarten school or college exam, teacher in classroom and general use: workshops, corporate office, meeting, sketching, writing, drawing   \n",
       "4                                                                                                                                                                                                                                                                                                                                                                                                                                                                                                                                                                                                                                                                                                                                                                                                                                                                                                                                                                      Premium #2 HB lead pencils with break-resistant lead and splinter-free barrels\\nDurable, long-lasting leads and erasers\\nLatex-free erasers easily erase stray marks\\nTrendy and modern gray barrels\\nPack of 24 certified non-toxic pencils ideal for home or classroom   \n",
       "\n",
       "    product_brand product_color_name product_locale  \\\n",
       "0   Amazon Basics             Yellow             us   \n",
       "1  BAZIC Products           12-count             us   \n",
       "2           Emraw             Yellow             us   \n",
       "3           Emraw             Yellow             us   \n",
       "4    Design House               Gray             us   \n",
       "\n",
       "                                                                                                                                                                                                                                                                                                                                                                                                                                                                                                                                                                                                                                                                                                                                                                                                                                                                                                                                                                                                                                                                                                                                                                                                                                                                                                                                                                                                                                                                                                                                                                                                                                                                                                                                                                                                                                                                                                                                                                                                                                                                                                                                                                                                                                                                                                                                                                                                                                                                                                                                                                                                                                                                                                                                                                                                                                                                                                                                                                                                                                                                                                                                                                                                                                                                                                                                                                                                                                             product_input  \n",
       "0                                                                                                                                                                                                                                                                                                                                                                                                                                                                                                                                                                                                                                                                                                                                                                                                                                                                                                                                                                                                                                                                                                                                                                                                                                                                                                                                                                                                                                                                                                                                                                                                                                                                                                                                                                                                                                                                                                                                                                                                                                                                                                                                                                                                                                                                                                                                                                                                                                                                                                                                                                                                                                                                                                                                                                                                                                                                                                                                                                                                                                 Amazon Basics Woodcased #2 Pencils, Unsharpened, HB Lead - Box of 144, Bulk Box us  144 woodcase #2 HB pencils made from high-quality wood for clean, easy sharpeningStrong medium-soft lead produces long-lasting, smooth, readable strokesRounded hexagonal shape with satin-smooth finish for a secure, comfortable gripSoft, smudge-free, latex-free eraser secured to the end for conveniently wiping away mistakes  \n",
       "1                                                                                                                                                                                                                                                                                                                                                                                                                                                                                                                                                                                                                                                                                                                                                                                                                                                                                                                                                                                                                                                                                                             BAZIC Pencil #2 HB Pencils, Latex Free Eraser, Wood Free Yellow Unsharpened Pencils for Exam School Office (12/Pack), 1-Pack us <p><strong>BACK TO BAZIC</strong></p><p>Our goal is to provide each customer with long-lasting supplies at an affordable cost. Since 1998, we’ve delivered on this promise and will only continue to improve every year. We’ve built our brand on integrity and quality, so customers know exactly what to expect.</p> <p><strong>COMMITTED TO VALUES</strong></p><p>We are a value-driven company, guided by the principles of excellence through strong product design at low cost. Our commitment to these values is reflected in our dedication to improving current products and developing new exciting products for our consumers.</p> <p><strong>FOCUSED ON OUR MISSION</strong></p><p>Our currency is ideas. We thrive on imagination, passion and leadership. We have great products and will to continue to rise with our customer expectations.</p> <p><strong>SUCCESS BASED ON SATISFACTION</strong></p><p>Each and every product we send out, we expect our 100% customer satisfaction. While our supplies are sourced from all across the world, our success stems from individual consumer fulfillment. We create products that people want to recommend to others.</p> &#11088; UN-SHARPENED #2 PREMIUM PENCILS. Each pack comes with 12 un-sharpened pencils. Unlike most others out there, these allow kids the simple joy of sharpening a brand new pencil for the very 1st time!&#11088; CLASSIC BARREL. Made from premium-quality wood pencil is bonded with a break-resistant number two core for smooth writing as easily erased. Hexagonal shape prevents rolling and comfortable to hold.&#11088; QUALITY. Pencils are #2 HB for general writing, drawing and sketching. Pencils glide smoothly over paper and is highly break resistant. Pencils include a smudge-resistant eraser top for convenience.&#11088; LATEX-FREE ERASER. The smudge-less eraser is latex-free, which provides enough toughness for heavy erasures. These smudge-free erasers wipe the page clean, making corrections easy and fast.&#11088; WIDE APPLICATION. Suitable for all general writing applications such as notes, letters, and you can use it for office, classroom, home and other occasions.  \n",
       "2                              Emraw Pre Sharpened Round Primary Size No 2 Jumbo Pencils for Preschoolers, Elementary Kids - Pack of 8 Premium Fat Pencils us <p><b>Emraw Pre-Sharpened #2 HB Wood Pencils - Pack of 8 Pre-Schoolers Pencils</b></p><p>Looking for pencils for kid, office or every day general purpose repetitive use? Tired of pencils that do not sharpen well? Disappointed having broken leads repeatedly? Or, looking for pencils that require less sharpening and lasts longer?</p><p>Search no further, Emraw num 2 jumbo pencils pack have you covered. You just found the best deal. You will love them. Just the right size for pre-kindergarten toddlers. Perfect for elderly hands having difficulty grasping smaller items. Each pencil is pre-sharpened so you can literally pick straight from the box and start using. HB (no2) hardness grading with thicker leads make them perfect for most types of writing or sketching.</p><p>Made of high quality non-toxic cedar wood so they sharpen nicely with any quality dual-holed hand sharpener or adjustable electric sharpener, (not compatible with standard pencil sharpener). Rounded circular shape offers an effortless, fatigue-free writing experience.</p><p>Big ultra-smooth graphite core does not break easily, helps kids to grip securely, write smoothly and build language and motor skills. Applying normal pressure kids can wipe away mistaken strokes without a lot of effort. The soft, non-smudge rubbers are effective to erase completely and will not leave any pink residue behind after erasing unwanted marks. The eraser on top is held strongly with a ferrule and will not loosen easily, that keeps an eraser always in hand throughout its lifespan.</p><p>Use or gift these pencils to use in the classroom, work, or home for anything from keeping lists, making notes, sketch first drafts, brainstorm campaign ideas, filling in answers on an exam, coloring books as a highlighter, quick sketches of diy carpentry projects, solving sudoku or crossword puzzles.</p><p><b>Best N.2 Woodcase Pencils Supplies for You, Your Children, Students, Family, or Workmates, Order Now!!!</b></p> ✓ PACK OF 8 NUMBER 2 PRESHARPENED BEGINNERS PENCILS: Emraw round sharpened pencils set contains 2 packs of 4 general no.2 hb pencils with latex-free rubber erasers top, total 8 primary size yellow preschool pencils, good for little hands✓ SUPERIOR NATURAL GRIP AND FEEL: Rounded triangular wooden casing blends ergonomic design for kids small hands in mind that allows your beginner writer a firm grip to comfortably hold and practice to write, scribble or tracing for hours✓ CLASSIC YELLOW BARREL WOOD-CASED PENCILS: Premium pencils made from high-quality wood for easy clean sharpening, 3.25 mm thick break-resistant graphite lead requires less sharpening, produces dark long-lasting, readable, consistent strokes✓ EASILY ERASABLE - MAKES DO-OVERS A BREEZE: Unwanted marks are easy to erase, offers clean corrections without tearing the paper. Soft, non-smudge rubbers are effective to erase marks completely and will not leave any residue behind✓ VERSATILE WIDE APPLICATION: Suitable for kids, boys girls, teens, adults. Perfect for students in kindergarten school exam or college, teacher in classroom and general use: workshops, corporate office, meeting, sketching, writing, drawing  \n",
       "3  Emraw Pre Sharpened Triangular Primary Size No 2 Jumbo Pencils for Preschoolers, Elementary Kids - Pack of 6 Fat Pencils with Bonus Sharpener us <p><b>Emraw Pre-Sharpened #2 HB Wood Pencils - Pack of 6 Pre-Schoolers Pencils</b></p><p>Looking for pencils for kid, office or every day general purpose repetitive use? Tired of pencils that do not sharpen well? Disappointed having broken leads repeatedly? Or, looking for pencils that require less sharpening and lasts longer?</p><p>Search no further, Emraw num 2 jumbo pencils pack have you covered. You just found the best deal. You will just love them. Just the right size for pre-kindergarten toddlers. Perfect for elderly hands having difficulty grasping smaller items. Each pencil is pre-sharpened so you can literally pick straight from the box and start using. HB (no2) hardness grading with thicker leads make them perfect for most types of writing or sketching.</p><p>Made of high quality non-toxic cedar wood so they sharpen nicely with any quality dual-holed hand sharpener or adjustable electric sharpener (1 Sharpener Included). Rounded triangular shape offers an effortless, fatigue-free writing experience and won't roll off inclined desks or tables.</p><p>Big ultra-smooth graphite core does not break easily, helps kids to grip securely, write smoothly and build language and motor skills. Applying normal pressure kids can wipe away mistaken strokes without a lot of effort. The soft, non-smudge rubbers are effective to erase completely and will not leave any pink residue behind after erasing unwanted marks. The eraser on top is held strongly with a ferrule and will not loosen easily, that keeps an eraser always in hand throughout its lifespan.</p><p>Use the or gift these pencils to use in the classroom, work, or home for anything from keeping lists, making notes, sketch first drafts, brainstorm campaign ideas, filling in answers on an exam, coloring books as a highlighter, quick sketches of diy carpentry projects, solving sudoku or crossword puzzles.</p><p><b>Best N.2 Woodcase Pencils Supplies for You, Your Students, Family, or Workmates, Order Now!!!</b></p> ✓ PACK OF 6 NUMBER 2 PRESHARPENED BEGINNERS PENCILS: Emraw triangle sharpened pencils set contains 2 packs of 3 general no.2 hb pencils with latex-free rubber erasers top, total 6 primary size yellow preschool pencils, good for little hands✓ SUPERIOR NATURAL GRIP AND FEEL: Rounded triangular wooden casing blends ergonomic design for kids small hands in mind that allows your beginner writer a firm grip and comfortably hold and practice to write, scribble or tracing for hours✓ CLASSIC YELLOW BARREL WOOD-CASED PENCILS: Made from high-quality wood for easy clean sharpening, 3.25 mm thick break-resistant graphite lead requires less sharpening and produces dark long-lasting, readable, consistent strokes✓ EASILY ERASABLE - MAKES DO-OVERS A BREEZE: Unwanted marks are easy to erase, offers clean corrections without tearing the paper. Soft, non-smudge rubbers are effective to erase marks completely and will not leave any residue behind✓ VERSATILE WIDE APPLICATION: Suitable for kids, boys girls, teens, adults. Perfect for students in kindergarten school or college exam, teacher in classroom and general use: workshops, corporate office, meeting, sketching, writing, drawing  \n",
       "4                                                                                                                                                                                                                                                                                                                                                                                                                                                                                                                                                                                                                                                                                                                                                                                                                                                                                                                                                                                                                                                                                                                                                                                                                                                                                                                                                                                                                                                                                                                                                                                                                                                                                                                                                                                                                                                                                                                                                                                                                                                                                                                                                                                                                                                                                                                                                                                                                                                                                                                                                                                                                                                                                                                                                                                                                                                                                                                                                                                                                                                                                                           BIC Evolution Cased Pencil, #2 Lead, Gray Barrel, 24-Count (PGEBP241-BLK) us  Premium #2 HB lead pencils with break-resistant lead and splinter-free barrelsDurable, long-lasting leads and erasersLatex-free erasers easily erase stray marksTrendy and modern gray barrelsPack of 24 certified non-toxic pencils ideal for home or classroom  "
      ]
     },
     "execution_count": 14,
     "metadata": {},
     "output_type": "execute_result"
    }
   ],
   "source": [
    "prod_cat.head()"
   ]
  },
  {
   "cell_type": "code",
   "execution_count": 15,
   "id": "4e51a0f3",
   "metadata": {
    "execution": {
     "iopub.execute_input": "2022-06-26T03:25:46.214611Z",
     "iopub.status.busy": "2022-06-26T03:25:46.212754Z",
     "iopub.status.idle": "2022-06-26T03:25:51.248024Z",
     "shell.execute_reply": "2022-06-26T03:25:51.246921Z"
    },
    "papermill": {
     "duration": 5.048938,
     "end_time": "2022-06-26T03:25:51.251138",
     "exception": false,
     "start_time": "2022-06-26T03:25:46.202200",
     "status": "completed"
    },
    "tags": []
   },
   "outputs": [],
   "source": [
    "import re\n",
    "# as per recommendation from @freylis, compile once only\n",
    "CLEANR = re.compile('<.*?>')\n",
    "def cleanhtml(raw_html):\n",
    "  cleantext = re.sub(CLEANR, '', raw_html)\n",
    "  return cleantext\n",
    "\n",
    "prod_cat['product_input'] = prod_cat['product_input'].apply(lambda inp: cleanhtml(inp))"
   ]
  },
  {
   "cell_type": "code",
   "execution_count": 16,
   "id": "91f3731b",
   "metadata": {
    "execution": {
     "iopub.execute_input": "2022-06-26T03:25:51.291321Z",
     "iopub.status.busy": "2022-06-26T03:25:51.290460Z",
     "iopub.status.idle": "2022-06-26T03:25:51.383511Z",
     "shell.execute_reply": "2022-06-26T03:25:51.382476Z"
    },
    "papermill": {
     "duration": 0.118488,
     "end_time": "2022-06-26T03:25:51.386967",
     "exception": false,
     "start_time": "2022-06-26T03:25:51.268479",
     "status": "completed"
    },
    "tags": []
   },
   "outputs": [
    {
     "data": {
      "text/html": [
       "<div>\n",
       "<style scoped>\n",
       "    .dataframe tbody tr th:only-of-type {\n",
       "        vertical-align: middle;\n",
       "    }\n",
       "\n",
       "    .dataframe tbody tr th {\n",
       "        vertical-align: top;\n",
       "    }\n",
       "\n",
       "    .dataframe thead th {\n",
       "        text-align: right;\n",
       "    }\n",
       "</style>\n",
       "<table border=\"1\" class=\"dataframe\">\n",
       "  <thead>\n",
       "    <tr style=\"text-align: right;\">\n",
       "      <th></th>\n",
       "      <th>product_id</th>\n",
       "      <th>product_title</th>\n",
       "      <th>product_description</th>\n",
       "      <th>product_bullet_point</th>\n",
       "      <th>product_brand</th>\n",
       "      <th>product_color_name</th>\n",
       "      <th>product_locale</th>\n",
       "      <th>product_input</th>\n",
       "    </tr>\n",
       "  </thead>\n",
       "  <tbody>\n",
       "    <tr>\n",
       "      <th>0</th>\n",
       "      <td>B0188A3QRM</td>\n",
       "      <td>Amazon Basics Woodcased #2 Pencils, Unsharpened, HB Lead - Box of 144, Bulk Box</td>\n",
       "      <td></td>\n",
       "      <td>144 woodcase #2 HB pencils made from high-quality wood for clean, easy sharpening\\nStrong medium-soft lead produces long-lasting, smooth, readable strokes\\nRounded hexagonal shape with satin-smooth finish for a secure, comfortable grip\\nSoft, smudge-free, latex-free eraser secured to the end for conveniently wiping away mistakes</td>\n",
       "      <td>Amazon Basics</td>\n",
       "      <td>Yellow</td>\n",
       "      <td>us</td>\n",
       "      <td>Amazon Basics Woodcased #2 Pencils, Unsharpened, HB Lead - Box of 144, Bulk Box us  144 woodcase #2 HB pencils made from high-quality wood for clean, easy sharpeningStrong medium-soft lead produces long-lasting, smooth, readable strokesRounded hexagonal shape with satin-smooth finish for a secure, comfortable gripSoft, smudge-free, latex-free eraser secured to the end for conveniently wiping away mistakes</td>\n",
       "    </tr>\n",
       "    <tr>\n",
       "      <th>1</th>\n",
       "      <td>B075VXJ9VG</td>\n",
       "      <td>BAZIC Pencil #2 HB Pencils, Latex Free Eraser, Wood Free Yellow Unsharpened Pencils for Exam School Office (12/Pack), 1-Pack</td>\n",
       "      <td>&lt;p&gt;&lt;strong&gt;BACK TO BAZIC&lt;/strong&gt;&lt;/p&gt;&lt;p&gt;Our goal is to provide each customer with long-lasting supplies at an affordable cost. Since 1998, we’ve delivered on this promise and will only continue to improve every year. We’ve built our brand on integrity and quality, so customers know exactly what to expect.&lt;/p&gt; &lt;p&gt;&lt;strong&gt;COMMITTED TO VALUES&lt;/strong&gt;&lt;/p&gt;&lt;p&gt;We are a value-driven company, guided by the principles of excellence through strong product design at low cost. Our commitment to these values is reflected in our dedication to improving current products and developing new exciting products for our consumers.&lt;/p&gt; &lt;p&gt;&lt;strong&gt;FOCUSED ON OUR MISSION&lt;/strong&gt;&lt;/p&gt;&lt;p&gt;Our currency is ideas. We thrive on imagination, passion and leadership. We have great products and will to continue to rise with our customer expectations.&lt;/p&gt; &lt;p&gt;&lt;strong&gt;SUCCESS BASED ON SATISFACTION&lt;/strong&gt;&lt;/p&gt;&lt;p&gt;Each and every product we send out, we expect our 100% customer satisfaction. While our supplies are sourced from all across the world, our success stems from individual consumer fulfillment. We create products that people want to recommend to others.&lt;/p&gt;</td>\n",
       "      <td>&amp;#11088; UN-SHARPENED #2 PREMIUM PENCILS. Each pack comes with 12 un-sharpened pencils. Unlike most others out there, these allow kids the simple joy of sharpening a brand new pencil for the very 1st time!\\n&amp;#11088; CLASSIC BARREL. Made from premium-quality wood pencil is bonded with a break-resistant number two core for smooth writing as easily erased. Hexagonal shape prevents rolling and comfortable to hold.\\n&amp;#11088; QUALITY. Pencils are #2 HB for general writing, drawing and sketching. Pencils glide smoothly over paper and is highly break resistant. Pencils include a smudge-resistant eraser top for convenience.\\n&amp;#11088; LATEX-FREE ERASER. The smudge-less eraser is latex-free, which provides enough toughness for heavy erasures. These smudge-free erasers wipe the page clean, making corrections easy and fast.\\n&amp;#11088; WIDE APPLICATION. Suitable for all general writing applications such as notes, letters, and you can use it for office, classroom, home and other occasions.</td>\n",
       "      <td>BAZIC Products</td>\n",
       "      <td>12-count</td>\n",
       "      <td>us</td>\n",
       "      <td>BAZIC Pencil #2 HB Pencils, Latex Free Eraser, Wood Free Yellow Unsharpened Pencils for Exam School Office (12/Pack), 1-Pack us BACK TO BAZICOur goal is to provide each customer with long-lasting supplies at an affordable cost. Since 1998, we’ve delivered on this promise and will only continue to improve every year. We’ve built our brand on integrity and quality, so customers know exactly what to expect. COMMITTED TO VALUESWe are a value-driven company, guided by the principles of excellence through strong product design at low cost. Our commitment to these values is reflected in our dedication to improving current products and developing new exciting products for our consumers. FOCUSED ON OUR MISSIONOur currency is ideas. We thrive on imagination, passion and leadership. We have great products and will to continue to rise with our customer expectations. SUCCESS BASED ON SATISFACTIONEach and every product we send out, we expect our 100% customer satisfaction. While our supplies are sourced from all across the world, our success stems from individual consumer fulfillment. We create products that people want to recommend to others. &amp;#11088; UN-SHARPENED #2 PREMIUM PENCILS. Each pack comes with 12 un-sharpened pencils. Unlike most others out there, these allow kids the simple joy of sharpening a brand new pencil for the very 1st time!&amp;#11088; CLASSIC BARREL. Made from premium-quality wood pencil is bonded with a break-resistant number two core for smooth writing as easily erased. Hexagonal shape prevents rolling and comfortable to hold.&amp;#11088; QUALITY. Pencils are #2 HB for general writing, drawing and sketching. Pencils glide smoothly over paper and is highly break resistant. Pencils include a smudge-resistant eraser top for convenience.&amp;#11088; LATEX-FREE ERASER. The smudge-less eraser is latex-free, which provides enough toughness for heavy erasures. These smudge-free erasers wipe the page clean, making corrections easy and fast.&amp;#11088; WIDE APPLICATION. Suitable for all general writing applications such as notes, letters, and you can use it for office, classroom, home and other occasions.</td>\n",
       "    </tr>\n",
       "    <tr>\n",
       "      <th>2</th>\n",
       "      <td>B07G7F6JZ6</td>\n",
       "      <td>Emraw Pre Sharpened Round Primary Size No 2 Jumbo Pencils for Preschoolers, Elementary Kids - Pack of 8 Premium Fat Pencils</td>\n",
       "      <td>&lt;p&gt;&lt;b&gt;Emraw Pre-Sharpened #2 HB Wood Pencils - Pack of 8 Pre-Schoolers Pencils&lt;/b&gt;&lt;/p&gt;&lt;p&gt;Looking for pencils for kid, office or every day general purpose repetitive use? Tired of pencils that do not sharpen well? Disappointed having broken leads repeatedly? Or, looking for pencils that require less sharpening and lasts longer?&lt;/p&gt;&lt;p&gt;Search no further, Emraw num 2 jumbo pencils pack have you covered. You just found the best deal. You will love them. Just the right size for pre-kindergarten toddlers. Perfect for elderly hands having difficulty grasping smaller items. Each pencil is pre-sharpened so you can literally pick straight from the box and start using. HB (no2) hardness grading with thicker leads make them perfect for most types of writing or sketching.&lt;/p&gt;&lt;p&gt;Made of high quality non-toxic cedar wood so they sharpen nicely with any quality dual-holed hand sharpener or adjustable electric sharpener, (not compatible with standard pencil sharpener). Rounded circular shape offers an effortless, fatigue-free writing experience.&lt;/p&gt;&lt;p&gt;Big ultra-smooth graphite core does not break easily, helps kids to grip securely, write smoothly and build language and motor skills. Applying normal pressure kids can wipe away mistaken strokes without a lot of effort. The soft, non-smudge rubbers are effective to erase completely and will not leave any pink residue behind after erasing unwanted marks. The eraser on top is held strongly with a ferrule and will not loosen easily, that keeps an eraser always in hand throughout its lifespan.&lt;/p&gt;&lt;p&gt;Use or gift these pencils to use in the classroom, work, or home for anything from keeping lists, making notes, sketch first drafts, brainstorm campaign ideas, filling in answers on an exam, coloring books as a highlighter, quick sketches of diy carpentry projects, solving sudoku or crossword puzzles.&lt;/p&gt;&lt;p&gt;&lt;b&gt;Best N.2 Woodcase Pencils Supplies for You, Your Children, Students, Family, or Workmates, Order Now!!!&lt;/b&gt;&lt;/p&gt;</td>\n",
       "      <td>✓ PACK OF 8 NUMBER 2 PRESHARPENED BEGINNERS PENCILS: Emraw round sharpened pencils set contains 2 packs of 4 general no.2 hb pencils with latex-free rubber erasers top, total 8 primary size yellow preschool pencils, good for little hands\\n✓ SUPERIOR NATURAL GRIP AND FEEL: Rounded triangular wooden casing blends ergonomic design for kids small hands in mind that allows your beginner writer a firm grip to comfortably hold and practice to write, scribble or tracing for hours\\n✓ CLASSIC YELLOW BARREL WOOD-CASED PENCILS: Premium pencils made from high-quality wood for easy clean sharpening, 3.25 mm thick break-resistant graphite lead requires less sharpening, produces dark long-lasting, readable, consistent strokes\\n✓ EASILY ERASABLE - MAKES DO-OVERS A BREEZE: Unwanted marks are easy to erase, offers clean corrections without tearing the paper. Soft, non-smudge rubbers are effective to erase marks completely and will not leave any residue behind\\n✓ VERSATILE WIDE APPLICATION: Suitable for kids, boys girls, teens, adults. Perfect for students in kindergarten school exam or college, teacher in classroom and general use: workshops, corporate office, meeting, sketching, writing, drawing</td>\n",
       "      <td>Emraw</td>\n",
       "      <td>Yellow</td>\n",
       "      <td>us</td>\n",
       "      <td>Emraw Pre Sharpened Round Primary Size No 2 Jumbo Pencils for Preschoolers, Elementary Kids - Pack of 8 Premium Fat Pencils us Emraw Pre-Sharpened #2 HB Wood Pencils - Pack of 8 Pre-Schoolers PencilsLooking for pencils for kid, office or every day general purpose repetitive use? Tired of pencils that do not sharpen well? Disappointed having broken leads repeatedly? Or, looking for pencils that require less sharpening and lasts longer?Search no further, Emraw num 2 jumbo pencils pack have you covered. You just found the best deal. You will love them. Just the right size for pre-kindergarten toddlers. Perfect for elderly hands having difficulty grasping smaller items. Each pencil is pre-sharpened so you can literally pick straight from the box and start using. HB (no2) hardness grading with thicker leads make them perfect for most types of writing or sketching.Made of high quality non-toxic cedar wood so they sharpen nicely with any quality dual-holed hand sharpener or adjustable electric sharpener, (not compatible with standard pencil sharpener). Rounded circular shape offers an effortless, fatigue-free writing experience.Big ultra-smooth graphite core does not break easily, helps kids to grip securely, write smoothly and build language and motor skills. Applying normal pressure kids can wipe away mistaken strokes without a lot of effort. The soft, non-smudge rubbers are effective to erase completely and will not leave any pink residue behind after erasing unwanted marks. The eraser on top is held strongly with a ferrule and will not loosen easily, that keeps an eraser always in hand throughout its lifespan.Use or gift these pencils to use in the classroom, work, or home for anything from keeping lists, making notes, sketch first drafts, brainstorm campaign ideas, filling in answers on an exam, coloring books as a highlighter, quick sketches of diy carpentry projects, solving sudoku or crossword puzzles.Best N.2 Woodcase Pencils Supplies for You, Your Children, Students, Family, or Workmates, Order Now!!! ✓ PACK OF 8 NUMBER 2 PRESHARPENED BEGINNERS PENCILS: Emraw round sharpened pencils set contains 2 packs of 4 general no.2 hb pencils with latex-free rubber erasers top, total 8 primary size yellow preschool pencils, good for little hands✓ SUPERIOR NATURAL GRIP AND FEEL: Rounded triangular wooden casing blends ergonomic design for kids small hands in mind that allows your beginner writer a firm grip to comfortably hold and practice to write, scribble or tracing for hours✓ CLASSIC YELLOW BARREL WOOD-CASED PENCILS: Premium pencils made from high-quality wood for easy clean sharpening, 3.25 mm thick break-resistant graphite lead requires less sharpening, produces dark long-lasting, readable, consistent strokes✓ EASILY ERASABLE - MAKES DO-OVERS A BREEZE: Unwanted marks are easy to erase, offers clean corrections without tearing the paper. Soft, non-smudge rubbers are effective to erase marks completely and will not leave any residue behind✓ VERSATILE WIDE APPLICATION: Suitable for kids, boys girls, teens, adults. Perfect for students in kindergarten school exam or college, teacher in classroom and general use: workshops, corporate office, meeting, sketching, writing, drawing</td>\n",
       "    </tr>\n",
       "    <tr>\n",
       "      <th>3</th>\n",
       "      <td>B07JZJLHCF</td>\n",
       "      <td>Emraw Pre Sharpened Triangular Primary Size No 2 Jumbo Pencils for Preschoolers, Elementary Kids - Pack of 6 Fat Pencils with Bonus Sharpener</td>\n",
       "      <td>&lt;p&gt;&lt;b&gt;Emraw Pre-Sharpened #2 HB Wood Pencils - Pack of 6 Pre-Schoolers Pencils&lt;/b&gt;&lt;/p&gt;&lt;p&gt;Looking for pencils for kid, office or every day general purpose repetitive use? Tired of pencils that do not sharpen well? Disappointed having broken leads repeatedly? Or, looking for pencils that require less sharpening and lasts longer?&lt;/p&gt;&lt;p&gt;Search no further, Emraw num 2 jumbo pencils pack have you covered. You just found the best deal. You will just love them. Just the right size for pre-kindergarten toddlers. Perfect for elderly hands having difficulty grasping smaller items. Each pencil is pre-sharpened so you can literally pick straight from the box and start using. HB (no2) hardness grading with thicker leads make them perfect for most types of writing or sketching.&lt;/p&gt;&lt;p&gt;Made of high quality non-toxic cedar wood so they sharpen nicely with any quality dual-holed hand sharpener or adjustable electric sharpener (1 Sharpener Included). Rounded triangular shape offers an effortless, fatigue-free writing experience and won't roll off inclined desks or tables.&lt;/p&gt;&lt;p&gt;Big ultra-smooth graphite core does not break easily, helps kids to grip securely, write smoothly and build language and motor skills. Applying normal pressure kids can wipe away mistaken strokes without a lot of effort. The soft, non-smudge rubbers are effective to erase completely and will not leave any pink residue behind after erasing unwanted marks. The eraser on top is held strongly with a ferrule and will not loosen easily, that keeps an eraser always in hand throughout its lifespan.&lt;/p&gt;&lt;p&gt;Use the or gift these pencils to use in the classroom, work, or home for anything from keeping lists, making notes, sketch first drafts, brainstorm campaign ideas, filling in answers on an exam, coloring books as a highlighter, quick sketches of diy carpentry projects, solving sudoku or crossword puzzles.&lt;/p&gt;&lt;p&gt;&lt;b&gt;Best N.2 Woodcase Pencils Supplies for You, Your Students, Family, or Workmates, Order Now!!!&lt;/b&gt;&lt;/p&gt;</td>\n",
       "      <td>✓ PACK OF 6 NUMBER 2 PRESHARPENED BEGINNERS PENCILS: Emraw triangle sharpened pencils set contains 2 packs of 3 general no.2 hb pencils with latex-free rubber erasers top, total 6 primary size yellow preschool pencils, good for little hands\\n✓ SUPERIOR NATURAL GRIP AND FEEL: Rounded triangular wooden casing blends ergonomic design for kids small hands in mind that allows your beginner writer a firm grip and comfortably hold and practice to write, scribble or tracing for hours\\n✓ CLASSIC YELLOW BARREL WOOD-CASED PENCILS: Made from high-quality wood for easy clean sharpening, 3.25 mm thick break-resistant graphite lead requires less sharpening and produces dark long-lasting, readable, consistent strokes\\n✓ EASILY ERASABLE - MAKES DO-OVERS A BREEZE: Unwanted marks are easy to erase, offers clean corrections without tearing the paper. Soft, non-smudge rubbers are effective to erase marks completely and will not leave any residue behind\\n✓ VERSATILE WIDE APPLICATION: Suitable for kids, boys girls, teens, adults. Perfect for students in kindergarten school or college exam, teacher in classroom and general use: workshops, corporate office, meeting, sketching, writing, drawing</td>\n",
       "      <td>Emraw</td>\n",
       "      <td>Yellow</td>\n",
       "      <td>us</td>\n",
       "      <td>Emraw Pre Sharpened Triangular Primary Size No 2 Jumbo Pencils for Preschoolers, Elementary Kids - Pack of 6 Fat Pencils with Bonus Sharpener us Emraw Pre-Sharpened #2 HB Wood Pencils - Pack of 6 Pre-Schoolers PencilsLooking for pencils for kid, office or every day general purpose repetitive use? Tired of pencils that do not sharpen well? Disappointed having broken leads repeatedly? Or, looking for pencils that require less sharpening and lasts longer?Search no further, Emraw num 2 jumbo pencils pack have you covered. You just found the best deal. You will just love them. Just the right size for pre-kindergarten toddlers. Perfect for elderly hands having difficulty grasping smaller items. Each pencil is pre-sharpened so you can literally pick straight from the box and start using. HB (no2) hardness grading with thicker leads make them perfect for most types of writing or sketching.Made of high quality non-toxic cedar wood so they sharpen nicely with any quality dual-holed hand sharpener or adjustable electric sharpener (1 Sharpener Included). Rounded triangular shape offers an effortless, fatigue-free writing experience and won't roll off inclined desks or tables.Big ultra-smooth graphite core does not break easily, helps kids to grip securely, write smoothly and build language and motor skills. Applying normal pressure kids can wipe away mistaken strokes without a lot of effort. The soft, non-smudge rubbers are effective to erase completely and will not leave any pink residue behind after erasing unwanted marks. The eraser on top is held strongly with a ferrule and will not loosen easily, that keeps an eraser always in hand throughout its lifespan.Use the or gift these pencils to use in the classroom, work, or home for anything from keeping lists, making notes, sketch first drafts, brainstorm campaign ideas, filling in answers on an exam, coloring books as a highlighter, quick sketches of diy carpentry projects, solving sudoku or crossword puzzles.Best N.2 Woodcase Pencils Supplies for You, Your Students, Family, or Workmates, Order Now!!! ✓ PACK OF 6 NUMBER 2 PRESHARPENED BEGINNERS PENCILS: Emraw triangle sharpened pencils set contains 2 packs of 3 general no.2 hb pencils with latex-free rubber erasers top, total 6 primary size yellow preschool pencils, good for little hands✓ SUPERIOR NATURAL GRIP AND FEEL: Rounded triangular wooden casing blends ergonomic design for kids small hands in mind that allows your beginner writer a firm grip and comfortably hold and practice to write, scribble or tracing for hours✓ CLASSIC YELLOW BARREL WOOD-CASED PENCILS: Made from high-quality wood for easy clean sharpening, 3.25 mm thick break-resistant graphite lead requires less sharpening and produces dark long-lasting, readable, consistent strokes✓ EASILY ERASABLE - MAKES DO-OVERS A BREEZE: Unwanted marks are easy to erase, offers clean corrections without tearing the paper. Soft, non-smudge rubbers are effective to erase marks completely and will not leave any residue behind✓ VERSATILE WIDE APPLICATION: Suitable for kids, boys girls, teens, adults. Perfect for students in kindergarten school or college exam, teacher in classroom and general use: workshops, corporate office, meeting, sketching, writing, drawing</td>\n",
       "    </tr>\n",
       "    <tr>\n",
       "      <th>4</th>\n",
       "      <td>B07MGKC3DD</td>\n",
       "      <td>BIC Evolution Cased Pencil, #2 Lead, Gray Barrel, 24-Count (PGEBP241-BLK)</td>\n",
       "      <td></td>\n",
       "      <td>Premium #2 HB lead pencils with break-resistant lead and splinter-free barrels\\nDurable, long-lasting leads and erasers\\nLatex-free erasers easily erase stray marks\\nTrendy and modern gray barrels\\nPack of 24 certified non-toxic pencils ideal for home or classroom</td>\n",
       "      <td>Design House</td>\n",
       "      <td>Gray</td>\n",
       "      <td>us</td>\n",
       "      <td>BIC Evolution Cased Pencil, #2 Lead, Gray Barrel, 24-Count (PGEBP241-BLK) us  Premium #2 HB lead pencils with break-resistant lead and splinter-free barrelsDurable, long-lasting leads and erasersLatex-free erasers easily erase stray marksTrendy and modern gray barrelsPack of 24 certified non-toxic pencils ideal for home or classroom</td>\n",
       "    </tr>\n",
       "  </tbody>\n",
       "</table>\n",
       "</div>"
      ],
      "text/plain": [
       "   product_id  \\\n",
       "0  B0188A3QRM   \n",
       "1  B075VXJ9VG   \n",
       "2  B07G7F6JZ6   \n",
       "3  B07JZJLHCF   \n",
       "4  B07MGKC3DD   \n",
       "\n",
       "                                                                                                                                   product_title  \\\n",
       "0                                                                Amazon Basics Woodcased #2 Pencils, Unsharpened, HB Lead - Box of 144, Bulk Box   \n",
       "1                   BAZIC Pencil #2 HB Pencils, Latex Free Eraser, Wood Free Yellow Unsharpened Pencils for Exam School Office (12/Pack), 1-Pack   \n",
       "2                    Emraw Pre Sharpened Round Primary Size No 2 Jumbo Pencils for Preschoolers, Elementary Kids - Pack of 8 Premium Fat Pencils   \n",
       "3  Emraw Pre Sharpened Triangular Primary Size No 2 Jumbo Pencils for Preschoolers, Elementary Kids - Pack of 6 Fat Pencils with Bonus Sharpener   \n",
       "4                                                                      BIC Evolution Cased Pencil, #2 Lead, Gray Barrel, 24-Count (PGEBP241-BLK)   \n",
       "\n",
       "                                                                                                                                                                                                                                                                                                                                                                                                                                                                                                                                                                                                                                                                                                                                                                                                                                                                                                                                                                                                                                                                                                                                                                                                                                                                                                                                                                                                                                                                                                                                                                                                                                                                                                                                                                                                                                                                                                                                                                                                                                                          product_description  \\\n",
       "0                                                                                                                                                                                                                                                                                                                                                                                                                                                                                                                                                                                                                                                                                                                                                                                                                                                                                                                                                                                                                                                                                                                                                                                                                                                                                                                                                                                                                                                                                                                                                                                                                                                                                                                                                                                                                                                                                                                                                                                                                                                                               \n",
       "1                                                                                                                                                                                                                                                                                                                                                                                                                                                                                                                                                                                                                                                                                                                                                                                                                                                                                     <p><strong>BACK TO BAZIC</strong></p><p>Our goal is to provide each customer with long-lasting supplies at an affordable cost. Since 1998, we’ve delivered on this promise and will only continue to improve every year. We’ve built our brand on integrity and quality, so customers know exactly what to expect.</p> <p><strong>COMMITTED TO VALUES</strong></p><p>We are a value-driven company, guided by the principles of excellence through strong product design at low cost. Our commitment to these values is reflected in our dedication to improving current products and developing new exciting products for our consumers.</p> <p><strong>FOCUSED ON OUR MISSION</strong></p><p>Our currency is ideas. We thrive on imagination, passion and leadership. We have great products and will to continue to rise with our customer expectations.</p> <p><strong>SUCCESS BASED ON SATISFACTION</strong></p><p>Each and every product we send out, we expect our 100% customer satisfaction. While our supplies are sourced from all across the world, our success stems from individual consumer fulfillment. We create products that people want to recommend to others.</p>   \n",
       "2                     <p><b>Emraw Pre-Sharpened #2 HB Wood Pencils - Pack of 8 Pre-Schoolers Pencils</b></p><p>Looking for pencils for kid, office or every day general purpose repetitive use? Tired of pencils that do not sharpen well? Disappointed having broken leads repeatedly? Or, looking for pencils that require less sharpening and lasts longer?</p><p>Search no further, Emraw num 2 jumbo pencils pack have you covered. You just found the best deal. You will love them. Just the right size for pre-kindergarten toddlers. Perfect for elderly hands having difficulty grasping smaller items. Each pencil is pre-sharpened so you can literally pick straight from the box and start using. HB (no2) hardness grading with thicker leads make them perfect for most types of writing or sketching.</p><p>Made of high quality non-toxic cedar wood so they sharpen nicely with any quality dual-holed hand sharpener or adjustable electric sharpener, (not compatible with standard pencil sharpener). Rounded circular shape offers an effortless, fatigue-free writing experience.</p><p>Big ultra-smooth graphite core does not break easily, helps kids to grip securely, write smoothly and build language and motor skills. Applying normal pressure kids can wipe away mistaken strokes without a lot of effort. The soft, non-smudge rubbers are effective to erase completely and will not leave any pink residue behind after erasing unwanted marks. The eraser on top is held strongly with a ferrule and will not loosen easily, that keeps an eraser always in hand throughout its lifespan.</p><p>Use or gift these pencils to use in the classroom, work, or home for anything from keeping lists, making notes, sketch first drafts, brainstorm campaign ideas, filling in answers on an exam, coloring books as a highlighter, quick sketches of diy carpentry projects, solving sudoku or crossword puzzles.</p><p><b>Best N.2 Woodcase Pencils Supplies for You, Your Children, Students, Family, or Workmates, Order Now!!!</b></p>   \n",
       "3  <p><b>Emraw Pre-Sharpened #2 HB Wood Pencils - Pack of 6 Pre-Schoolers Pencils</b></p><p>Looking for pencils for kid, office or every day general purpose repetitive use? Tired of pencils that do not sharpen well? Disappointed having broken leads repeatedly? Or, looking for pencils that require less sharpening and lasts longer?</p><p>Search no further, Emraw num 2 jumbo pencils pack have you covered. You just found the best deal. You will just love them. Just the right size for pre-kindergarten toddlers. Perfect for elderly hands having difficulty grasping smaller items. Each pencil is pre-sharpened so you can literally pick straight from the box and start using. HB (no2) hardness grading with thicker leads make them perfect for most types of writing or sketching.</p><p>Made of high quality non-toxic cedar wood so they sharpen nicely with any quality dual-holed hand sharpener or adjustable electric sharpener (1 Sharpener Included). Rounded triangular shape offers an effortless, fatigue-free writing experience and won't roll off inclined desks or tables.</p><p>Big ultra-smooth graphite core does not break easily, helps kids to grip securely, write smoothly and build language and motor skills. Applying normal pressure kids can wipe away mistaken strokes without a lot of effort. The soft, non-smudge rubbers are effective to erase completely and will not leave any pink residue behind after erasing unwanted marks. The eraser on top is held strongly with a ferrule and will not loosen easily, that keeps an eraser always in hand throughout its lifespan.</p><p>Use the or gift these pencils to use in the classroom, work, or home for anything from keeping lists, making notes, sketch first drafts, brainstorm campaign ideas, filling in answers on an exam, coloring books as a highlighter, quick sketches of diy carpentry projects, solving sudoku or crossword puzzles.</p><p><b>Best N.2 Woodcase Pencils Supplies for You, Your Students, Family, or Workmates, Order Now!!!</b></p>   \n",
       "4                                                                                                                                                                                                                                                                                                                                                                                                                                                                                                                                                                                                                                                                                                                                                                                                                                                                                                                                                                                                                                                                                                                                                                                                                                                                                                                                                                                                                                                                                                                                                                                                                                                                                                                                                                                                                                                                                                                                                                                                                                                                               \n",
       "\n",
       "                                                                                                                                                                                                                                                                                                                                                                                                                                                                                                                                                                                                                                                                                                                                                                                                                                                                                                                                                                                                                                                                                                                                                                                                                           product_bullet_point  \\\n",
       "0                                                                                                                                                                                                                                                                                                                                                                                                                                                                                                                                                                                                                                                                                                                                                                                                                                                                                                    144 woodcase #2 HB pencils made from high-quality wood for clean, easy sharpening\\nStrong medium-soft lead produces long-lasting, smooth, readable strokes\\nRounded hexagonal shape with satin-smooth finish for a secure, comfortable grip\\nSoft, smudge-free, latex-free eraser secured to the end for conveniently wiping away mistakes   \n",
       "1                                                                                                                                                                                                                  &#11088; UN-SHARPENED #2 PREMIUM PENCILS. Each pack comes with 12 un-sharpened pencils. Unlike most others out there, these allow kids the simple joy of sharpening a brand new pencil for the very 1st time!\\n&#11088; CLASSIC BARREL. Made from premium-quality wood pencil is bonded with a break-resistant number two core for smooth writing as easily erased. Hexagonal shape prevents rolling and comfortable to hold.\\n&#11088; QUALITY. Pencils are #2 HB for general writing, drawing and sketching. Pencils glide smoothly over paper and is highly break resistant. Pencils include a smudge-resistant eraser top for convenience.\\n&#11088; LATEX-FREE ERASER. The smudge-less eraser is latex-free, which provides enough toughness for heavy erasures. These smudge-free erasers wipe the page clean, making corrections easy and fast.\\n&#11088; WIDE APPLICATION. Suitable for all general writing applications such as notes, letters, and you can use it for office, classroom, home and other occasions.   \n",
       "2  ✓ PACK OF 8 NUMBER 2 PRESHARPENED BEGINNERS PENCILS: Emraw round sharpened pencils set contains 2 packs of 4 general no.2 hb pencils with latex-free rubber erasers top, total 8 primary size yellow preschool pencils, good for little hands\\n✓ SUPERIOR NATURAL GRIP AND FEEL: Rounded triangular wooden casing blends ergonomic design for kids small hands in mind that allows your beginner writer a firm grip to comfortably hold and practice to write, scribble or tracing for hours\\n✓ CLASSIC YELLOW BARREL WOOD-CASED PENCILS: Premium pencils made from high-quality wood for easy clean sharpening, 3.25 mm thick break-resistant graphite lead requires less sharpening, produces dark long-lasting, readable, consistent strokes\\n✓ EASILY ERASABLE - MAKES DO-OVERS A BREEZE: Unwanted marks are easy to erase, offers clean corrections without tearing the paper. Soft, non-smudge rubbers are effective to erase marks completely and will not leave any residue behind\\n✓ VERSATILE WIDE APPLICATION: Suitable for kids, boys girls, teens, adults. Perfect for students in kindergarten school exam or college, teacher in classroom and general use: workshops, corporate office, meeting, sketching, writing, drawing   \n",
       "3           ✓ PACK OF 6 NUMBER 2 PRESHARPENED BEGINNERS PENCILS: Emraw triangle sharpened pencils set contains 2 packs of 3 general no.2 hb pencils with latex-free rubber erasers top, total 6 primary size yellow preschool pencils, good for little hands\\n✓ SUPERIOR NATURAL GRIP AND FEEL: Rounded triangular wooden casing blends ergonomic design for kids small hands in mind that allows your beginner writer a firm grip and comfortably hold and practice to write, scribble or tracing for hours\\n✓ CLASSIC YELLOW BARREL WOOD-CASED PENCILS: Made from high-quality wood for easy clean sharpening, 3.25 mm thick break-resistant graphite lead requires less sharpening and produces dark long-lasting, readable, consistent strokes\\n✓ EASILY ERASABLE - MAKES DO-OVERS A BREEZE: Unwanted marks are easy to erase, offers clean corrections without tearing the paper. Soft, non-smudge rubbers are effective to erase marks completely and will not leave any residue behind\\n✓ VERSATILE WIDE APPLICATION: Suitable for kids, boys girls, teens, adults. Perfect for students in kindergarten school or college exam, teacher in classroom and general use: workshops, corporate office, meeting, sketching, writing, drawing   \n",
       "4                                                                                                                                                                                                                                                                                                                                                                                                                                                                                                                                                                                                                                                                                                                                                                                                                                                                                                                                                                      Premium #2 HB lead pencils with break-resistant lead and splinter-free barrels\\nDurable, long-lasting leads and erasers\\nLatex-free erasers easily erase stray marks\\nTrendy and modern gray barrels\\nPack of 24 certified non-toxic pencils ideal for home or classroom   \n",
       "\n",
       "    product_brand product_color_name product_locale  \\\n",
       "0   Amazon Basics             Yellow             us   \n",
       "1  BAZIC Products           12-count             us   \n",
       "2           Emraw             Yellow             us   \n",
       "3           Emraw             Yellow             us   \n",
       "4    Design House               Gray             us   \n",
       "\n",
       "                                                                                                                                                                                                                                                                                                                                                                                                                                                                                                                                                                                                                                                                                                                                                                                                                                                                                                                                                                                                                                                                                                                                                                                                                                                                                                                                                                                                                                                                                                                                                                                                                                                                                                                                                                                                                                                                                                                                                                                                                                                                                                                                                                                                                                                                                                                                                                                                                                                                                                                                                                                                                                                                                                                                                                                                                                                                                                                                                                                                                                                                                                                                                                                                                                                                                                                                                                              product_input  \n",
       "0                                                                                                                                                                                                                                                                                                                                                                                                                                                                                                                                                                                                                                                                                                                                                                                                                                                                                                                                                                                                                                                                                                                                                                                                                                                                                                                                                                                                                                                                                                                                                                                                                                                                                                                                                                                                                                                                                                                                                                                                                                                                                                                                                                                                                                                                                                                                                                                                                                                                                                                                                                                                                                                                                                                                                                                                                                                                                                                                                                  Amazon Basics Woodcased #2 Pencils, Unsharpened, HB Lead - Box of 144, Bulk Box us  144 woodcase #2 HB pencils made from high-quality wood for clean, easy sharpeningStrong medium-soft lead produces long-lasting, smooth, readable strokesRounded hexagonal shape with satin-smooth finish for a secure, comfortable gripSoft, smudge-free, latex-free eraser secured to the end for conveniently wiping away mistakes  \n",
       "1                                                                                                                                                                                                                                                                                                                                                                                                                                                                                                                                                                                                                                                                                                                                                                                                                                                                                                                                                                                                                                                                                                                                                                          BAZIC Pencil #2 HB Pencils, Latex Free Eraser, Wood Free Yellow Unsharpened Pencils for Exam School Office (12/Pack), 1-Pack us BACK TO BAZICOur goal is to provide each customer with long-lasting supplies at an affordable cost. Since 1998, we’ve delivered on this promise and will only continue to improve every year. We’ve built our brand on integrity and quality, so customers know exactly what to expect. COMMITTED TO VALUESWe are a value-driven company, guided by the principles of excellence through strong product design at low cost. Our commitment to these values is reflected in our dedication to improving current products and developing new exciting products for our consumers. FOCUSED ON OUR MISSIONOur currency is ideas. We thrive on imagination, passion and leadership. We have great products and will to continue to rise with our customer expectations. SUCCESS BASED ON SATISFACTIONEach and every product we send out, we expect our 100% customer satisfaction. While our supplies are sourced from all across the world, our success stems from individual consumer fulfillment. We create products that people want to recommend to others. &#11088; UN-SHARPENED #2 PREMIUM PENCILS. Each pack comes with 12 un-sharpened pencils. Unlike most others out there, these allow kids the simple joy of sharpening a brand new pencil for the very 1st time!&#11088; CLASSIC BARREL. Made from premium-quality wood pencil is bonded with a break-resistant number two core for smooth writing as easily erased. Hexagonal shape prevents rolling and comfortable to hold.&#11088; QUALITY. Pencils are #2 HB for general writing, drawing and sketching. Pencils glide smoothly over paper and is highly break resistant. Pencils include a smudge-resistant eraser top for convenience.&#11088; LATEX-FREE ERASER. The smudge-less eraser is latex-free, which provides enough toughness for heavy erasures. These smudge-free erasers wipe the page clean, making corrections easy and fast.&#11088; WIDE APPLICATION. Suitable for all general writing applications such as notes, letters, and you can use it for office, classroom, home and other occasions.  \n",
       "2                              Emraw Pre Sharpened Round Primary Size No 2 Jumbo Pencils for Preschoolers, Elementary Kids - Pack of 8 Premium Fat Pencils us Emraw Pre-Sharpened #2 HB Wood Pencils - Pack of 8 Pre-Schoolers PencilsLooking for pencils for kid, office or every day general purpose repetitive use? Tired of pencils that do not sharpen well? Disappointed having broken leads repeatedly? Or, looking for pencils that require less sharpening and lasts longer?Search no further, Emraw num 2 jumbo pencils pack have you covered. You just found the best deal. You will love them. Just the right size for pre-kindergarten toddlers. Perfect for elderly hands having difficulty grasping smaller items. Each pencil is pre-sharpened so you can literally pick straight from the box and start using. HB (no2) hardness grading with thicker leads make them perfect for most types of writing or sketching.Made of high quality non-toxic cedar wood so they sharpen nicely with any quality dual-holed hand sharpener or adjustable electric sharpener, (not compatible with standard pencil sharpener). Rounded circular shape offers an effortless, fatigue-free writing experience.Big ultra-smooth graphite core does not break easily, helps kids to grip securely, write smoothly and build language and motor skills. Applying normal pressure kids can wipe away mistaken strokes without a lot of effort. The soft, non-smudge rubbers are effective to erase completely and will not leave any pink residue behind after erasing unwanted marks. The eraser on top is held strongly with a ferrule and will not loosen easily, that keeps an eraser always in hand throughout its lifespan.Use or gift these pencils to use in the classroom, work, or home for anything from keeping lists, making notes, sketch first drafts, brainstorm campaign ideas, filling in answers on an exam, coloring books as a highlighter, quick sketches of diy carpentry projects, solving sudoku or crossword puzzles.Best N.2 Woodcase Pencils Supplies for You, Your Children, Students, Family, or Workmates, Order Now!!! ✓ PACK OF 8 NUMBER 2 PRESHARPENED BEGINNERS PENCILS: Emraw round sharpened pencils set contains 2 packs of 4 general no.2 hb pencils with latex-free rubber erasers top, total 8 primary size yellow preschool pencils, good for little hands✓ SUPERIOR NATURAL GRIP AND FEEL: Rounded triangular wooden casing blends ergonomic design for kids small hands in mind that allows your beginner writer a firm grip to comfortably hold and practice to write, scribble or tracing for hours✓ CLASSIC YELLOW BARREL WOOD-CASED PENCILS: Premium pencils made from high-quality wood for easy clean sharpening, 3.25 mm thick break-resistant graphite lead requires less sharpening, produces dark long-lasting, readable, consistent strokes✓ EASILY ERASABLE - MAKES DO-OVERS A BREEZE: Unwanted marks are easy to erase, offers clean corrections without tearing the paper. Soft, non-smudge rubbers are effective to erase marks completely and will not leave any residue behind✓ VERSATILE WIDE APPLICATION: Suitable for kids, boys girls, teens, adults. Perfect for students in kindergarten school exam or college, teacher in classroom and general use: workshops, corporate office, meeting, sketching, writing, drawing  \n",
       "3  Emraw Pre Sharpened Triangular Primary Size No 2 Jumbo Pencils for Preschoolers, Elementary Kids - Pack of 6 Fat Pencils with Bonus Sharpener us Emraw Pre-Sharpened #2 HB Wood Pencils - Pack of 6 Pre-Schoolers PencilsLooking for pencils for kid, office or every day general purpose repetitive use? Tired of pencils that do not sharpen well? Disappointed having broken leads repeatedly? Or, looking for pencils that require less sharpening and lasts longer?Search no further, Emraw num 2 jumbo pencils pack have you covered. You just found the best deal. You will just love them. Just the right size for pre-kindergarten toddlers. Perfect for elderly hands having difficulty grasping smaller items. Each pencil is pre-sharpened so you can literally pick straight from the box and start using. HB (no2) hardness grading with thicker leads make them perfect for most types of writing or sketching.Made of high quality non-toxic cedar wood so they sharpen nicely with any quality dual-holed hand sharpener or adjustable electric sharpener (1 Sharpener Included). Rounded triangular shape offers an effortless, fatigue-free writing experience and won't roll off inclined desks or tables.Big ultra-smooth graphite core does not break easily, helps kids to grip securely, write smoothly and build language and motor skills. Applying normal pressure kids can wipe away mistaken strokes without a lot of effort. The soft, non-smudge rubbers are effective to erase completely and will not leave any pink residue behind after erasing unwanted marks. The eraser on top is held strongly with a ferrule and will not loosen easily, that keeps an eraser always in hand throughout its lifespan.Use the or gift these pencils to use in the classroom, work, or home for anything from keeping lists, making notes, sketch first drafts, brainstorm campaign ideas, filling in answers on an exam, coloring books as a highlighter, quick sketches of diy carpentry projects, solving sudoku or crossword puzzles.Best N.2 Woodcase Pencils Supplies for You, Your Students, Family, or Workmates, Order Now!!! ✓ PACK OF 6 NUMBER 2 PRESHARPENED BEGINNERS PENCILS: Emraw triangle sharpened pencils set contains 2 packs of 3 general no.2 hb pencils with latex-free rubber erasers top, total 6 primary size yellow preschool pencils, good for little hands✓ SUPERIOR NATURAL GRIP AND FEEL: Rounded triangular wooden casing blends ergonomic design for kids small hands in mind that allows your beginner writer a firm grip and comfortably hold and practice to write, scribble or tracing for hours✓ CLASSIC YELLOW BARREL WOOD-CASED PENCILS: Made from high-quality wood for easy clean sharpening, 3.25 mm thick break-resistant graphite lead requires less sharpening and produces dark long-lasting, readable, consistent strokes✓ EASILY ERASABLE - MAKES DO-OVERS A BREEZE: Unwanted marks are easy to erase, offers clean corrections without tearing the paper. Soft, non-smudge rubbers are effective to erase marks completely and will not leave any residue behind✓ VERSATILE WIDE APPLICATION: Suitable for kids, boys girls, teens, adults. Perfect for students in kindergarten school or college exam, teacher in classroom and general use: workshops, corporate office, meeting, sketching, writing, drawing  \n",
       "4                                                                                                                                                                                                                                                                                                                                                                                                                                                                                                                                                                                                                                                                                                                                                                                                                                                                                                                                                                                                                                                                                                                                                                                                                                                                                                                                                                                                                                                                                                                                                                                                                                                                                                                                                                                                                                                                                                                                                                                                                                                                                                                                                                                                                                                                                                                                                                                                                                                                                                                                                                                                                                                                                                                                                                                                                                                                                                                                                                                                                                            BIC Evolution Cased Pencil, #2 Lead, Gray Barrel, 24-Count (PGEBP241-BLK) us  Premium #2 HB lead pencils with break-resistant lead and splinter-free barrelsDurable, long-lasting leads and erasersLatex-free erasers easily erase stray marksTrendy and modern gray barrelsPack of 24 certified non-toxic pencils ideal for home or classroom  "
      ]
     },
     "execution_count": 16,
     "metadata": {},
     "output_type": "execute_result"
    }
   ],
   "source": [
    "prod_cat.head()"
   ]
  },
  {
   "cell_type": "code",
   "execution_count": 17,
   "id": "f9d93848",
   "metadata": {
    "execution": {
     "iopub.execute_input": "2022-06-26T03:25:51.449049Z",
     "iopub.status.busy": "2022-06-26T03:25:51.448544Z",
     "iopub.status.idle": "2022-06-26T03:25:52.931579Z",
     "shell.execute_reply": "2022-06-26T03:25:52.930580Z"
    },
    "papermill": {
     "duration": 1.521573,
     "end_time": "2022-06-26T03:25:52.933969",
     "exception": false,
     "start_time": "2022-06-26T03:25:51.412396",
     "status": "completed"
    },
    "tags": []
   },
   "outputs": [],
   "source": [
    "from sklearn.model_selection import train_test_split\n",
    "train = []\n",
    "test = []\n",
    "for local, _df in prod_cat.groupby(['product_locale']):\n",
    "    train_df, test_df = train_test_split(_df, test_size=0.3, random_state=9)\n",
    "    train.append(train_df)\n",
    "    test.append(test_df)"
   ]
  },
  {
   "cell_type": "code",
   "execution_count": 18,
   "id": "d2936426",
   "metadata": {
    "execution": {
     "iopub.execute_input": "2022-06-26T03:25:52.957528Z",
     "iopub.status.busy": "2022-06-26T03:25:52.956846Z",
     "iopub.status.idle": "2022-06-26T03:25:53.127282Z",
     "shell.execute_reply": "2022-06-26T03:25:53.126290Z"
    },
    "papermill": {
     "duration": 0.184877,
     "end_time": "2022-06-26T03:25:53.129726",
     "exception": false,
     "start_time": "2022-06-26T03:25:52.944849",
     "status": "completed"
    },
    "tags": []
   },
   "outputs": [],
   "source": [
    "train_df = pd.concat(train, ignore_index=True)\n",
    "test_df = pd.concat(test, ignore_index=True)"
   ]
  },
  {
   "cell_type": "code",
   "execution_count": 19,
   "id": "211c5c26",
   "metadata": {
    "execution": {
     "iopub.execute_input": "2022-06-26T03:25:53.152205Z",
     "iopub.status.busy": "2022-06-26T03:25:53.151864Z",
     "iopub.status.idle": "2022-06-26T03:25:53.158132Z",
     "shell.execute_reply": "2022-06-26T03:25:53.157130Z"
    },
    "papermill": {
     "duration": 0.020642,
     "end_time": "2022-06-26T03:25:53.161117",
     "exception": false,
     "start_time": "2022-06-26T03:25:53.140475",
     "status": "completed"
    },
    "tags": []
   },
   "outputs": [
    {
     "data": {
      "text/plain": [
       "((618706, 8), (265162, 8))"
      ]
     },
     "execution_count": 19,
     "metadata": {},
     "output_type": "execute_result"
    }
   ],
   "source": [
    "train_df.shape, test_df.shape"
   ]
  },
  {
   "cell_type": "code",
   "execution_count": 20,
   "id": "375ec79f",
   "metadata": {
    "execution": {
     "iopub.execute_input": "2022-06-26T03:25:53.183011Z",
     "iopub.status.busy": "2022-06-26T03:25:53.182755Z",
     "iopub.status.idle": "2022-06-26T03:26:10.905551Z",
     "shell.execute_reply": "2022-06-26T03:26:10.904672Z"
    },
    "papermill": {
     "duration": 17.73615,
     "end_time": "2022-06-26T03:26:10.907629",
     "exception": false,
     "start_time": "2022-06-26T03:25:53.171479",
     "status": "completed"
    },
    "tags": []
   },
   "outputs": [
    {
     "data": {
      "text/plain": [
       "0         None\n",
       "1         None\n",
       "2         None\n",
       "3         None\n",
       "4         None\n",
       "          ... \n",
       "265157    None\n",
       "265158    None\n",
       "265159    None\n",
       "265160    None\n",
       "265161    None\n",
       "Length: 265162, dtype: object"
      ]
     },
     "execution_count": 20,
     "metadata": {},
     "output_type": "execute_result"
    }
   ],
   "source": [
    "train_samples = []\n",
    "test_samples = []\n",
    "train_df.apply(lambda row: train_samples.append(InputExample(texts=[str(row['product_input']), str(row['product_input'])])), axis=1)\n",
    "test_df.apply(lambda row: test_samples.append(InputExample(texts=[str(row['product_input']), str(row['product_input'])], label=1.0)), axis=1)"
   ]
  },
  {
   "cell_type": "code",
   "execution_count": 21,
   "id": "46fa97e0",
   "metadata": {
    "execution": {
     "iopub.execute_input": "2022-06-26T03:26:10.930359Z",
     "iopub.status.busy": "2022-06-26T03:26:10.930047Z",
     "iopub.status.idle": "2022-06-26T03:26:11.092299Z",
     "shell.execute_reply": "2022-06-26T03:26:11.091304Z"
    },
    "papermill": {
     "duration": 0.176108,
     "end_time": "2022-06-26T03:26:11.094592",
     "exception": false,
     "start_time": "2022-06-26T03:26:10.918484",
     "status": "completed"
    },
    "tags": []
   },
   "outputs": [],
   "source": [
    "dev_evaluator = EmbeddingSimilarityEvaluator.from_input_examples(test_samples, batch_size=8, name='test-simcse')"
   ]
  },
  {
   "cell_type": "code",
   "execution_count": 22,
   "id": "6bb96360",
   "metadata": {
    "execution": {
     "iopub.execute_input": "2022-06-26T03:26:11.117227Z",
     "iopub.status.busy": "2022-06-26T03:26:11.116917Z",
     "iopub.status.idle": "2022-06-26T03:26:11.122997Z",
     "shell.execute_reply": "2022-06-26T03:26:11.122130Z"
    },
    "papermill": {
     "duration": 0.019502,
     "end_time": "2022-06-26T03:26:11.125016",
     "exception": false,
     "start_time": "2022-06-26T03:26:11.105514",
     "status": "completed"
    },
    "tags": []
   },
   "outputs": [
    {
     "data": {
      "text/plain": [
       "(618706, 265162)"
      ]
     },
     "execution_count": 22,
     "metadata": {},
     "output_type": "execute_result"
    }
   ],
   "source": [
    "len(train_samples), len(test_samples)"
   ]
  },
  {
   "cell_type": "code",
   "execution_count": null,
   "id": "d64a7fd0",
   "metadata": {
    "execution": {
     "iopub.execute_input": "2022-06-26T03:26:11.147751Z",
     "iopub.status.busy": "2022-06-26T03:26:11.146836Z"
    },
    "papermill": {
     "duration": null,
     "end_time": null,
     "exception": false,
     "start_time": "2022-06-26T03:26:11.135571",
     "status": "running"
    },
    "tags": []
   },
   "outputs": [],
   "source": [
    "import torch\n",
    "# Configure the training\n",
    "train_batch_size = 4\n",
    "num_epochs = 3\n",
    "\n",
    "# Use MultipleNegativesRankingLoss for SimCSE\n",
    "train_dataloader = DataLoader(train_samples, shuffle=True, batch_size=train_batch_size)\n",
    "train_loss = losses.MultipleNegativesRankingLoss(model)\n",
    "model_save_path = './'\n",
    "\n",
    "warmup_steps = math.ceil(len(train_dataloader) * num_epochs * 0.1) #10% of train data for warm-up\n",
    "logging.info(\"Warmup-steps: {}\".format(warmup_steps))\n",
    "\n",
    "logging.info(\"Performance before training\")\n",
    "dev_evaluator(model)\n",
    "\n",
    "# Train the model\n",
    "model.fit(train_objectives=[(train_dataloader, train_loss)],\n",
    "          evaluator=dev_evaluator,\n",
    "          epochs=num_epochs,\n",
    "          evaluation_steps=500,\n",
    "          warmup_steps=warmup_steps,\n",
    "          output_path=model_save_path,\n",
    "          save_best_model=True,\n",
    "          use_amp=torch.cuda.is_available(),\n",
    "          )"
   ]
  },
  {
   "cell_type": "code",
   "execution_count": null,
   "id": "2e8a1629",
   "metadata": {
    "execution": {
     "iopub.execute_input": "2022-06-25T17:02:57.261458Z",
     "iopub.status.busy": "2022-06-25T17:02:57.261033Z",
     "iopub.status.idle": "2022-06-25T17:02:58.486847Z",
     "shell.execute_reply": "2022-06-25T17:02:58.485815Z",
     "shell.execute_reply.started": "2022-06-25T17:02:57.261425Z"
    },
    "papermill": {
     "duration": null,
     "end_time": null,
     "exception": null,
     "start_time": null,
     "status": "pending"
    },
    "tags": []
   },
   "outputs": [],
   "source": [
    "try:\n",
    "    model.save('/kaggle/working/')\n",
    "except:\n",
    "    print(\"Trainer save stopped\")"
   ]
  },
  {
   "cell_type": "code",
   "execution_count": null,
   "id": "7c9b3096",
   "metadata": {
    "papermill": {
     "duration": null,
     "end_time": null,
     "exception": null,
     "start_time": null,
     "status": "pending"
    },
    "tags": []
   },
   "outputs": [],
   "source": []
  }
 ],
 "metadata": {
  "kernelspec": {
   "display_name": "Python 3",
   "language": "python",
   "name": "python3"
  },
  "language_info": {
   "codemirror_mode": {
    "name": "ipython",
    "version": 3
   },
   "file_extension": ".py",
   "mimetype": "text/x-python",
   "name": "python",
   "nbconvert_exporter": "python",
   "pygments_lexer": "ipython3",
   "version": "3.6.4"
  },
  "papermill": {
   "default_parameters": {},
   "duration": null,
   "end_time": null,
   "environment_variables": {},
   "exception": null,
   "input_path": "__notebook__.ipynb",
   "output_path": "__notebook__.ipynb",
   "parameters": {},
   "start_time": "2022-06-26T03:23:29.631091",
   "version": "2.3.4"
  }
 },
 "nbformat": 4,
 "nbformat_minor": 5
}
