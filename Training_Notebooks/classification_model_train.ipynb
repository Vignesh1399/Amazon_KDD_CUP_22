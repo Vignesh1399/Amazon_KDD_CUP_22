{
 "cells": [
  {
   "cell_type": "code",
   "execution_count": 1,
   "id": "75f35e8a",
   "metadata": {
    "_cell_guid": "b1076dfc-b9ad-4769-8c92-a6c4dae69d19",
    "_uuid": "8f2839f25d086af736a60e9eeb907d3b93b6e0e5",
    "execution": {
     "iopub.execute_input": "2022-05-08T12:44:42.075155Z",
     "iopub.status.busy": "2022-05-08T12:44:42.074374Z",
     "iopub.status.idle": "2022-05-08T12:44:42.099371Z",
     "shell.execute_reply": "2022-05-08T12:44:42.100080Z",
     "shell.execute_reply.started": "2022-05-08T12:39:35.029888Z"
    },
    "papermill": {
     "duration": 0.064969,
     "end_time": "2022-05-08T12:44:42.100405",
     "exception": false,
     "start_time": "2022-05-08T12:44:42.035436",
     "status": "completed"
    },
    "tags": []
   },
   "outputs": [
    {
     "name": "stdout",
     "output_type": "stream",
     "text": [
      "/kaggle/input/pointwiseclassification/classification_dataset.tsv\n",
      "/kaggle/input/pointwiseclassificationcheckpoints/checkpoint-78174/config.json\n",
      "/kaggle/input/pointwiseclassificationcheckpoints/checkpoint-78174/trainer_state.json\n",
      "/kaggle/input/pointwiseclassificationcheckpoints/checkpoint-78174/training_args.bin\n",
      "/kaggle/input/pointwiseclassificationcheckpoints/checkpoint-78174/tokenizer.json\n",
      "/kaggle/input/pointwiseclassificationcheckpoints/checkpoint-78174/tokenizer_config.json\n",
      "/kaggle/input/pointwiseclassificationcheckpoints/checkpoint-78174/pytorch_model.bin\n",
      "/kaggle/input/pointwiseclassificationcheckpoints/checkpoint-78174/scheduler.pt\n",
      "/kaggle/input/pointwiseclassificationcheckpoints/checkpoint-78174/special_tokens_map.json\n",
      "/kaggle/input/pointwiseclassificationcheckpoints/checkpoint-78174/optimizer.pt\n",
      "/kaggle/input/pointwiseclassificationcheckpoints/checkpoint-78174/vocab.txt\n",
      "/kaggle/input/pointwiseclassificationcheckpoints/checkpoint-78174/rng_state.pth\n"
     ]
    }
   ],
   "source": [
    "# This Python 3 environment comes with many helpful analytics libraries installed\n",
    "# It is defined by the kaggle/python Docker image: https://github.com/kaggle/docker-python\n",
    "# For example, here's several helpful packages to load\n",
    "\n",
    "import numpy as np # linear algebra\n",
    "import pandas as pd # data processing, CSV file I/O (e.g. pd.read_csv)\n",
    "\n",
    "# Input data files are available in the read-only \"../input/\" directory\n",
    "# For example, running this (by clicking run or pressing Shift+Enter) will list all files under the input directory\n",
    "\n",
    "import os\n",
    "for dirname, _, filenames in os.walk('/kaggle/input'):\n",
    "    for filename in filenames:\n",
    "        print(os.path.join(dirname, filename))\n",
    "\n",
    "# You can write up to 20GB to the current directory (/kaggle/working/) that gets preserved as output when you create a version using \"Save & Run All\" \n",
    "# You can also write temporary files to /kaggle/temp/, but they won't be saved outside of the current session"
   ]
  },
  {
   "cell_type": "code",
   "execution_count": 2,
   "id": "87b41808",
   "metadata": {
    "execution": {
     "iopub.execute_input": "2022-05-08T12:44:42.160286Z",
     "iopub.status.busy": "2022-05-08T12:44:42.158903Z",
     "iopub.status.idle": "2022-05-08T12:44:42.161566Z",
     "shell.execute_reply": "2022-05-08T12:44:42.161056Z",
     "shell.execute_reply.started": "2022-05-08T12:42:27.988669Z"
    },
    "papermill": {
     "duration": 0.033385,
     "end_time": "2022-05-08T12:44:42.161676",
     "exception": false,
     "start_time": "2022-05-08T12:44:42.128291",
     "status": "completed"
    },
    "tags": []
   },
   "outputs": [],
   "source": [
    "checkpoint = 'distilbert-base-multilingual-cased'"
   ]
  },
  {
   "cell_type": "code",
   "execution_count": 3,
   "id": "baf10f28",
   "metadata": {
    "execution": {
     "iopub.execute_input": "2022-05-08T12:44:42.221067Z",
     "iopub.status.busy": "2022-05-08T12:44:42.220306Z",
     "iopub.status.idle": "2022-05-08T12:44:50.834458Z",
     "shell.execute_reply": "2022-05-08T12:44:50.833626Z",
     "shell.execute_reply.started": "2022-05-08T12:21:17.676386Z"
    },
    "papermill": {
     "duration": 8.645859,
     "end_time": "2022-05-08T12:44:50.834598",
     "exception": false,
     "start_time": "2022-05-08T12:44:42.188739",
     "status": "completed"
    },
    "tags": []
   },
   "outputs": [
    {
     "name": "stdout",
     "output_type": "stream",
     "text": [
      "Requirement already satisfied: datasets in /opt/conda/lib/python3.7/site-packages (1.18.4)\r\n",
      "Requirement already satisfied: pyarrow!=4.0.0,>=3.0.0 in /opt/conda/lib/python3.7/site-packages (from datasets) (6.0.1)\r\n",
      "Requirement already satisfied: numpy>=1.17 in /opt/conda/lib/python3.7/site-packages (from datasets) (1.20.3)\r\n",
      "Requirement already satisfied: fsspec[http]>=2021.05.0 in /opt/conda/lib/python3.7/site-packages (from datasets) (2022.2.0)\r\n",
      "Requirement already satisfied: tqdm>=4.62.1 in /opt/conda/lib/python3.7/site-packages (from datasets) (4.62.3)\r\n",
      "Requirement already satisfied: xxhash in /opt/conda/lib/python3.7/site-packages (from datasets) (3.0.0)\r\n",
      "Requirement already satisfied: multiprocess in /opt/conda/lib/python3.7/site-packages (from datasets) (0.70.12.2)\r\n",
      "Requirement already satisfied: pandas in /opt/conda/lib/python3.7/site-packages (from datasets) (1.3.5)\r\n",
      "Requirement already satisfied: huggingface-hub<1.0.0,>=0.1.0 in /opt/conda/lib/python3.7/site-packages (from datasets) (0.4.0)\r\n",
      "Requirement already satisfied: packaging in /opt/conda/lib/python3.7/site-packages (from datasets) (21.3)\r\n",
      "Requirement already satisfied: importlib-metadata in /opt/conda/lib/python3.7/site-packages (from datasets) (4.11.3)\r\n",
      "Requirement already satisfied: requests>=2.19.0 in /opt/conda/lib/python3.7/site-packages (from datasets) (2.26.0)\r\n",
      "Requirement already satisfied: aiohttp in /opt/conda/lib/python3.7/site-packages (from datasets) (3.8.1)\r\n",
      "Requirement already satisfied: responses<0.19 in /opt/conda/lib/python3.7/site-packages (from datasets) (0.18.0)\r\n",
      "Requirement already satisfied: dill in /opt/conda/lib/python3.7/site-packages (from datasets) (0.3.4)\r\n",
      "Requirement already satisfied: pyyaml in /opt/conda/lib/python3.7/site-packages (from huggingface-hub<1.0.0,>=0.1.0->datasets) (6.0)\r\n",
      "Requirement already satisfied: filelock in /opt/conda/lib/python3.7/site-packages (from huggingface-hub<1.0.0,>=0.1.0->datasets) (3.6.0)\r\n",
      "Requirement already satisfied: typing-extensions>=3.7.4.3 in /opt/conda/lib/python3.7/site-packages (from huggingface-hub<1.0.0,>=0.1.0->datasets) (4.1.1)\r\n",
      "Requirement already satisfied: pyparsing!=3.0.5,>=2.0.2 in /opt/conda/lib/python3.7/site-packages (from packaging->datasets) (3.0.6)\r\n",
      "Requirement already satisfied: charset-normalizer~=2.0.0 in /opt/conda/lib/python3.7/site-packages (from requests>=2.19.0->datasets) (2.0.9)\r\n",
      "Requirement already satisfied: idna<4,>=2.5 in /opt/conda/lib/python3.7/site-packages (from requests>=2.19.0->datasets) (3.1)\r\n",
      "Requirement already satisfied: urllib3<1.27,>=1.21.1 in /opt/conda/lib/python3.7/site-packages (from requests>=2.19.0->datasets) (1.26.7)\r\n",
      "Requirement already satisfied: certifi>=2017.4.17 in /opt/conda/lib/python3.7/site-packages (from requests>=2.19.0->datasets) (2021.10.8)\r\n",
      "Requirement already satisfied: aiosignal>=1.1.2 in /opt/conda/lib/python3.7/site-packages (from aiohttp->datasets) (1.2.0)\r\n",
      "Requirement already satisfied: multidict<7.0,>=4.5 in /opt/conda/lib/python3.7/site-packages (from aiohttp->datasets) (5.2.0)\r\n",
      "Requirement already satisfied: yarl<2.0,>=1.0 in /opt/conda/lib/python3.7/site-packages (from aiohttp->datasets) (1.7.2)\r\n",
      "Requirement already satisfied: attrs>=17.3.0 in /opt/conda/lib/python3.7/site-packages (from aiohttp->datasets) (21.2.0)\r\n",
      "Requirement already satisfied: frozenlist>=1.1.1 in /opt/conda/lib/python3.7/site-packages (from aiohttp->datasets) (1.2.0)\r\n",
      "Requirement already satisfied: asynctest==0.13.0 in /opt/conda/lib/python3.7/site-packages (from aiohttp->datasets) (0.13.0)\r\n",
      "Requirement already satisfied: async-timeout<5.0,>=4.0.0a3 in /opt/conda/lib/python3.7/site-packages (from aiohttp->datasets) (4.0.1)\r\n",
      "Requirement already satisfied: zipp>=0.5 in /opt/conda/lib/python3.7/site-packages (from importlib-metadata->datasets) (3.6.0)\r\n",
      "Requirement already satisfied: python-dateutil>=2.7.3 in /opt/conda/lib/python3.7/site-packages (from pandas->datasets) (2.8.2)\r\n",
      "Requirement already satisfied: pytz>=2017.3 in /opt/conda/lib/python3.7/site-packages (from pandas->datasets) (2021.3)\r\n",
      "Requirement already satisfied: six>=1.5 in /opt/conda/lib/python3.7/site-packages (from python-dateutil>=2.7.3->pandas->datasets) (1.16.0)\r\n",
      "\u001b[33mWARNING: Running pip as the 'root' user can result in broken permissions and conflicting behaviour with the system package manager. It is recommended to use a virtual environment instead: https://pip.pypa.io/warnings/venv\u001b[0m\r\n"
     ]
    }
   ],
   "source": [
    "!pip install datasets"
   ]
  },
  {
   "cell_type": "code",
   "execution_count": 4,
   "id": "fcbe2f34",
   "metadata": {
    "execution": {
     "iopub.execute_input": "2022-05-08T12:44:50.900297Z",
     "iopub.status.busy": "2022-05-08T12:44:50.899554Z",
     "iopub.status.idle": "2022-05-08T12:45:12.690183Z",
     "shell.execute_reply": "2022-05-08T12:45:12.690967Z",
     "shell.execute_reply.started": "2022-05-08T12:39:40.875212Z"
    },
    "papermill": {
     "duration": 21.826583,
     "end_time": "2022-05-08T12:45:12.691152",
     "exception": false,
     "start_time": "2022-05-08T12:44:50.864569",
     "status": "completed"
    },
    "tags": []
   },
   "outputs": [],
   "source": [
    "classify_df = pd.read_csv('/kaggle/input/pointwiseclassification/classification_dataset.tsv', sep='\\t')\n",
    "classify_df.rename(columns={'esci_label': 'label'}, inplace=True)"
   ]
  },
  {
   "cell_type": "code",
   "execution_count": 5,
   "id": "c8d70b13",
   "metadata": {
    "execution": {
     "iopub.execute_input": "2022-05-08T12:45:12.757810Z",
     "iopub.status.busy": "2022-05-08T12:45:12.757107Z",
     "iopub.status.idle": "2022-05-08T12:45:13.976911Z",
     "shell.execute_reply": "2022-05-08T12:45:13.976353Z",
     "shell.execute_reply.started": "2022-05-08T12:40:08.045648Z"
    },
    "papermill": {
     "duration": 1.255503,
     "end_time": "2022-05-08T12:45:13.977096",
     "exception": false,
     "start_time": "2022-05-08T12:45:12.721593",
     "status": "completed"
    },
    "tags": []
   },
   "outputs": [],
   "source": [
    "from sklearn.model_selection import train_test_split\n",
    "train = []\n",
    "test = []\n",
    "for label, _df in classify_df.groupby(['label']):\n",
    "    train_df, test_df = train_test_split(_df,test_size=0.2, random_state=5)\n",
    "    train.append(train_df)\n",
    "    test.append(test_df)"
   ]
  },
  {
   "cell_type": "code",
   "execution_count": 6,
   "id": "f8e2458f",
   "metadata": {
    "execution": {
     "iopub.execute_input": "2022-05-08T12:45:14.054740Z",
     "iopub.status.busy": "2022-05-08T12:45:14.053689Z",
     "iopub.status.idle": "2022-05-08T12:45:14.089031Z",
     "shell.execute_reply": "2022-05-08T12:45:14.089459Z",
     "shell.execute_reply.started": "2022-05-08T12:40:08.515957Z"
    },
    "papermill": {
     "duration": 0.079967,
     "end_time": "2022-05-08T12:45:14.089622",
     "exception": false,
     "start_time": "2022-05-08T12:45:14.009655",
     "status": "completed"
    },
    "tags": []
   },
   "outputs": [],
   "source": [
    "train_df = pd.concat(train, ignore_index=True)\n",
    "test_df = pd.concat(test, ignore_index=True)"
   ]
  },
  {
   "cell_type": "code",
   "execution_count": 7,
   "id": "07379a11",
   "metadata": {
    "execution": {
     "iopub.execute_input": "2022-05-08T12:45:14.153309Z",
     "iopub.status.busy": "2022-05-08T12:45:14.152420Z",
     "iopub.status.idle": "2022-05-08T12:45:14.241480Z",
     "shell.execute_reply": "2022-05-08T12:45:14.241888Z",
     "shell.execute_reply.started": "2022-05-08T12:40:08.581676Z"
    },
    "papermill": {
     "duration": 0.122029,
     "end_time": "2022-05-08T12:45:14.242050",
     "exception": false,
     "start_time": "2022-05-08T12:45:14.120021",
     "status": "completed"
    },
    "tags": []
   },
   "outputs": [
    {
     "data": {
      "text/plain": [
       "exact         0.436423\n",
       "substitute    0.342778\n",
       "irrelevant    0.168927\n",
       "complement    0.051872\n",
       "Name: label, dtype: float64"
      ]
     },
     "execution_count": 7,
     "metadata": {},
     "output_type": "execute_result"
    }
   ],
   "source": [
    "train_df.label.value_counts(normalize=True)"
   ]
  },
  {
   "cell_type": "code",
   "execution_count": 8,
   "id": "79764d85",
   "metadata": {
    "execution": {
     "iopub.execute_input": "2022-05-08T12:45:14.307087Z",
     "iopub.status.busy": "2022-05-08T12:45:14.306518Z",
     "iopub.status.idle": "2022-05-08T12:45:14.310296Z",
     "shell.execute_reply": "2022-05-08T12:45:14.309878Z",
     "shell.execute_reply.started": "2022-05-08T12:40:08.677033Z"
    },
    "papermill": {
     "duration": 0.038289,
     "end_time": "2022-05-08T12:45:14.310409",
     "exception": false,
     "start_time": "2022-05-08T12:45:14.272120",
     "status": "completed"
    },
    "tags": []
   },
   "outputs": [],
   "source": [
    "pd.set_option('display.max_colwidth', None)"
   ]
  },
  {
   "cell_type": "code",
   "execution_count": 9,
   "id": "76527a89",
   "metadata": {
    "execution": {
     "iopub.execute_input": "2022-05-08T12:45:14.458510Z",
     "iopub.status.busy": "2022-05-08T12:45:14.457502Z",
     "iopub.status.idle": "2022-05-08T12:45:14.497226Z",
     "shell.execute_reply": "2022-05-08T12:45:14.497641Z",
     "shell.execute_reply.started": "2022-05-08T12:40:08.837737Z"
    },
    "papermill": {
     "duration": 0.157122,
     "end_time": "2022-05-08T12:45:14.497793",
     "exception": false,
     "start_time": "2022-05-08T12:45:14.340671",
     "status": "completed"
    },
    "tags": []
   },
   "outputs": [
    {
     "data": {
      "text/html": [
       "<div>\n",
       "<style scoped>\n",
       "    .dataframe tbody tr th:only-of-type {\n",
       "        vertical-align: middle;\n",
       "    }\n",
       "\n",
       "    .dataframe tbody tr th {\n",
       "        vertical-align: top;\n",
       "    }\n",
       "\n",
       "    .dataframe thead th {\n",
       "        text-align: right;\n",
       "    }\n",
       "</style>\n",
       "<table border=\"1\" class=\"dataframe\">\n",
       "  <thead>\n",
       "    <tr style=\"text-align: right;\">\n",
       "      <th></th>\n",
       "      <th>input</th>\n",
       "      <th>label</th>\n",
       "    </tr>\n",
       "  </thead>\n",
       "  <tbody>\n",
       "    <tr>\n",
       "      <th>554322</th>\n",
       "      <td>バックルなしベルト レディース jp [SEP] ベルト ゴムベルト レディース メンズ ゴルフベルト スポーツ カジュアル 無段階サイズ調整可能 男女兼用 大きいサイズ （ジャスグッド）JASGOOD jp JASGOOD(ジャスグッド) &lt;b&gt;【商品仕様】&lt;/b&gt;&lt;br&gt;&lt;br&gt; 素材：高弾性ゴム（幅:30mm）＋プラスチックバックル&lt;br&gt; サイズ：ベルト長さ（自然長さ）：最短60CM～最長110CM．ウェストサイズ：57ＣＭ－115ＣＭに対応.&lt;br&gt; 対応られるウェストサイズ範囲が広いですが男女兼用の軽いゴムベルトです．&lt;br&gt; &lt;br&gt; &lt;b&gt;【特徴】&lt;/b&gt;&lt;br&gt;&lt;br&gt; ①：ゴムベルトなのでしっかり伸びてウエスト楽々！ウエストを引き締めて細く見せられます。&lt;br&gt; ②：穴を気にせず、どこでも合わせて止められる.&lt;br&gt; ③：しゃがんだ時に、自転車に乗る際に　伸びてお腹への食い込みが少ないです．&lt;br&gt; ④：良く伸びて運動時（ゴルフなどをする時）、食事時楽々です&lt;br&gt; ⑤：シンプルなデザインでどんなカジュアルコーデにもフィットします．&lt;br&gt; 素材：高弾性ゴム（幅:30mm）＋プラスチックバックル　ゴムベルトなので圧迫感がなくてジャストフィットです．ぜんぜん金属の成分は含んでいませんが軽くて金属アレルギーの心配もありません．\\n無段階調節られるサイズ：調整クリップが付いているゴムベルトなのでサイズ調整がとても易いです、ベルト長さ（自然長さ）：最短60ｃｍ～最長110ｃｍ．ウェストサイズ：57ＣＭ－115ＣＭに対応られます．対応られるウェストサイズ範囲が広いですが全家族使用可能です．\\n特徴：穴を気にせず、どこでも合わせて止められる．しゃがんだ時に、自転車に乗る際に　伸びてお腹への食い込みが少ないです．\\nシンプルなデザインでどんなカジュアルコーデにもフィットします．サイズ調整易いので身持ちの女に、ダイエットしている人々にとても便利です．ズボンでもスカートでも合わせます．\\n返品について： 何か不具合状況がございましたら遠慮しないでメールにてご連絡ください。迅速に返品、返金対応いたしますのでご安心してお買い求めください。 01 ブラック</td>\n",
       "      <td>substitute</td>\n",
       "    </tr>\n",
       "    <tr>\n",
       "      <th>610808</th>\n",
       "      <td>tinted moisturizer without spf us [SEP] Perricone MD High Potency Classics: Face Finishing &amp; Firming Tinted Moisturizer Broad Spectrum SPF 30 2 Ounce us Perricone MD  REJUVENATING EFFECT - Deep hydration minimizes the look of lines and wrinkles making skin smooth and supple.\\nANTIOXIDANT FORMULA - Enriched with antioxidants to help minimize the appearance of wrinkles and imperfections giving your skin a youthful glow.\\nMOISTURIZING - Oil-free moisturizer that delivers a hint of tint with a mineral-based broad spectrum SPF 30 that isn’t too heavy or tacky.\\nNATURAL BOOSTER - Nature's most powerful antioxidant, ALA works alongside the body's own antioxidant system reducing the appearance of lines, wrinkles, and enlarged pores over time.\\nORGANIC SUPPORT - Candeia tree extract soothes and improves the appearance of damaged skin by allowing it to hold on to moisture. Brown</td>\n",
       "      <td>substitute</td>\n",
       "    </tr>\n",
       "    <tr>\n",
       "      <th>515098</th>\n",
       "      <td>camisa asimetrica mujer volante es [SEP] Vincenzo Boretti Blusa, Corte Recto, Cuello de la Camisa Gris S es Vincenzo Boretti La tela fluida con un tacto suave y agradable proporciona una sensación de ligereza al llevarla. La caída de la tela parecida a la seda le confiere una gracia especial. A través del fino entallado del corte holgado, este favorece la figura de la mujer y acentúa al mismo tiempo una silueta femenina. &lt;br/&gt;&lt;br/&gt; Los pequeños detalles hacen que esta blusa sea absolutamente versátil. A través del dobladillo redondeado y la espalda ligeramente más larga, esta se puede llevar sobre el pantalón o debajo de un jersey o un cárdigan, creando un elegante look casual. Así garantiza una apariencia llena de estilo en ocasiones formales como bodas o reuniones de negocios, así como en la vida diaria o en la oficina. &lt;br/&gt;&lt;br/&gt; La ropa de la marca Vincenzo Boretti combina la exigencia de la más alta calidad con un lenguaje de diseño claro, una simbiosis de elegancia intemporal y de la sofisticación de la elegancia moderna. Con nuestros cortes, la selección de colores y telas creamos atuendos versátiles, pero siempre fieles al estilo. Por eso, nuestra filosofía es hacer que los clientes luzcan auténticos y de primera clase, en cualquier ocasión y momento del día. &lt;br/&gt;&lt;br/&gt; diseño / corte: &lt;ul&gt; &lt;li&gt;regular-fit ( corte recto )&lt;/li&gt; &lt;li&gt;cuello de la camisa&lt;/li&gt; &lt;li&gt;manga larga&lt;/li&gt; &lt;li&gt;abotonadura&lt;/li&gt; &lt;/ul&gt; &lt;br /&gt; tela / cuidado: &lt;ul&gt; &lt;li&gt;100% viscosa&lt;/li&gt; &lt;li&gt;ciclo suave de 30°&lt;/li&gt; &lt;li&gt;no planchar a temperatura alta&lt;/li&gt; &lt;/ul&gt; La talla del artículo es algo más pequeña de lo habitual, elija una talla más grande.\\ncorte recto, abotonadura, cuello de la camisa, puños cortos, manga larga, mangas con tapeta con botones, botones de recambio, respirable\\nliso, 100% viscosa, ciclo suave de 30°/detergente suave, no planchar a temperatura alta 1-gris</td>\n",
       "      <td>substitute</td>\n",
       "    </tr>\n",
       "    <tr>\n",
       "      <th>594682</th>\n",
       "      <td>union bay mens cargo pants us [SEP] Amazon Essentials Men's Slim-fit Stretch Cargo Pant, Khaki, 42W x 32L us Amazon Essentials  Fitted through hip and thigh, with tapered leg. Sits below the waist\\nSoft, breathable cotton twill with a gentle stretch\\nButton-flap pockets at seat\\nCargo side pockets\\nAn Amazon brand Khaki Brown</td>\n",
       "      <td>substitute</td>\n",
       "    </tr>\n",
       "    <tr>\n",
       "      <th>418272</th>\n",
       "      <td>christmas gift tokens us [SEP] AttaCoin - Variety Pack - Employee Appreciation Gift - 5 Coins us AttaCoin A unique gift to show appreciation to the people in your life - Acknowledge the talents of your team with tokens highlighting what makes their contribution so special. Each high-quality metal coin has a beautiful enamel design and epoxy protective seal. Office gifts just got an upgrade! This kit comes with all 5 AttaCoin designs - Leadership, Teamwork, Effort, Mastery, and Creativity!\\nSneak a coin on to a coworker's desk as an unspoken thanks, present one to your employee of the month or use them as inspirational gifts during company meetings or team building retreats.\\nOur tokens are perfect for Bosses Day, Administrative Professionals Day, Teacher Appreciation, office Christmas parties, company and work anniversaries or promotions.\\nEach coin comes in its own plastic protective pouch which will help keep it pristine for years.\\nAppreciation is what we do - let us help you say thank you in a way they won't soon forget! 5 Coin Variety Pack</td>\n",
       "      <td>substitute</td>\n",
       "    </tr>\n",
       "  </tbody>\n",
       "</table>\n",
       "</div>"
      ],
      "text/plain": [
       "                                                                                                                                                                                                                                                                                                                                                                                                                                                                                                                                                                                                                                                                                                                                                                                                                                                                                                                                                                                                                                                                                                                                                                                                                                                                                                                                                                                                                                                                                                                                                                                                                                                                                                                                                                                                                                                                                                                                                        input  \\\n",
       "554322                                                                                                                                                                                                                                                                                                                                                                                                                                                                                                                                                                                                                                                                                                                                                                                                                                                                                                                                                                         バックルなしベルト レディース jp [SEP] ベルト ゴムベルト レディース メンズ ゴルフベルト スポーツ カジュアル 無段階サイズ調整可能 男女兼用 大きいサイズ （ジャスグッド）JASGOOD jp JASGOOD(ジャスグッド) <b>【商品仕様】</b><br><br> 素材：高弾性ゴム（幅:30mm）＋プラスチックバックル<br> サイズ：ベルト長さ（自然長さ）：最短60CM～最長110CM．ウェストサイズ：57ＣＭ－115ＣＭに対応.<br> 対応られるウェストサイズ範囲が広いですが男女兼用の軽いゴムベルトです．<br> <br> <b>【特徴】</b><br><br> ①：ゴムベルトなのでしっかり伸びてウエスト楽々！ウエストを引き締めて細く見せられます。<br> ②：穴を気にせず、どこでも合わせて止められる.<br> ③：しゃがんだ時に、自転車に乗る際に　伸びてお腹への食い込みが少ないです．<br> ④：良く伸びて運動時（ゴルフなどをする時）、食事時楽々です<br> ⑤：シンプルなデザインでどんなカジュアルコーデにもフィットします．<br> 素材：高弾性ゴム（幅:30mm）＋プラスチックバックル　ゴムベルトなので圧迫感がなくてジャストフィットです．ぜんぜん金属の成分は含んでいませんが軽くて金属アレルギーの心配もありません．\\n無段階調節られるサイズ：調整クリップが付いているゴムベルトなのでサイズ調整がとても易いです、ベルト長さ（自然長さ）：最短60ｃｍ～最長110ｃｍ．ウェストサイズ：57ＣＭ－115ＣＭに対応られます．対応られるウェストサイズ範囲が広いですが全家族使用可能です．\\n特徴：穴を気にせず、どこでも合わせて止められる．しゃがんだ時に、自転車に乗る際に　伸びてお腹への食い込みが少ないです．\\nシンプルなデザインでどんなカジュアルコーデにもフィットします．サイズ調整易いので身持ちの女に、ダイエットしている人々にとても便利です．ズボンでもスカートでも合わせます．\\n返品について： 何か不具合状況がございましたら遠慮しないでメールにてご連絡ください。迅速に返品、返金対応いたしますのでご安心してお買い求めください。 01 ブラック   \n",
       "610808                                                                                                                                                                                                                                                                                                                                                                                                                                                                                                                                                                                                                                                                                                                                                                                                                                                                                                                                                                                                                                      tinted moisturizer without spf us [SEP] Perricone MD High Potency Classics: Face Finishing & Firming Tinted Moisturizer Broad Spectrum SPF 30 2 Ounce us Perricone MD  REJUVENATING EFFECT - Deep hydration minimizes the look of lines and wrinkles making skin smooth and supple.\\nANTIOXIDANT FORMULA - Enriched with antioxidants to help minimize the appearance of wrinkles and imperfections giving your skin a youthful glow.\\nMOISTURIZING - Oil-free moisturizer that delivers a hint of tint with a mineral-based broad spectrum SPF 30 that isn’t too heavy or tacky.\\nNATURAL BOOSTER - Nature's most powerful antioxidant, ALA works alongside the body's own antioxidant system reducing the appearance of lines, wrinkles, and enlarged pores over time.\\nORGANIC SUPPORT - Candeia tree extract soothes and improves the appearance of damaged skin by allowing it to hold on to moisture. Brown   \n",
       "515098  camisa asimetrica mujer volante es [SEP] Vincenzo Boretti Blusa, Corte Recto, Cuello de la Camisa Gris S es Vincenzo Boretti La tela fluida con un tacto suave y agradable proporciona una sensación de ligereza al llevarla. La caída de la tela parecida a la seda le confiere una gracia especial. A través del fino entallado del corte holgado, este favorece la figura de la mujer y acentúa al mismo tiempo una silueta femenina. <br/><br/> Los pequeños detalles hacen que esta blusa sea absolutamente versátil. A través del dobladillo redondeado y la espalda ligeramente más larga, esta se puede llevar sobre el pantalón o debajo de un jersey o un cárdigan, creando un elegante look casual. Así garantiza una apariencia llena de estilo en ocasiones formales como bodas o reuniones de negocios, así como en la vida diaria o en la oficina. <br/><br/> La ropa de la marca Vincenzo Boretti combina la exigencia de la más alta calidad con un lenguaje de diseño claro, una simbiosis de elegancia intemporal y de la sofisticación de la elegancia moderna. Con nuestros cortes, la selección de colores y telas creamos atuendos versátiles, pero siempre fieles al estilo. Por eso, nuestra filosofía es hacer que los clientes luzcan auténticos y de primera clase, en cualquier ocasión y momento del día. <br/><br/> diseño / corte: <ul> <li>regular-fit ( corte recto )</li> <li>cuello de la camisa</li> <li>manga larga</li> <li>abotonadura</li> </ul> <br /> tela / cuidado: <ul> <li>100% viscosa</li> <li>ciclo suave de 30°</li> <li>no planchar a temperatura alta</li> </ul> La talla del artículo es algo más pequeña de lo habitual, elija una talla más grande.\\ncorte recto, abotonadura, cuello de la camisa, puños cortos, manga larga, mangas con tapeta con botones, botones de recambio, respirable\\nliso, 100% viscosa, ciclo suave de 30°/detergente suave, no planchar a temperatura alta 1-gris   \n",
       "594682                                                                                                                                                                                                                                                                                                                                                                                                                                                                                                                                                                                                                                                                                                                                                                                                                                                                                                                                                                                                                                                                                                                                                                                                                                                                                                                                                                                                                                                                                                                                                                                                                union bay mens cargo pants us [SEP] Amazon Essentials Men's Slim-fit Stretch Cargo Pant, Khaki, 42W x 32L us Amazon Essentials  Fitted through hip and thigh, with tapered leg. Sits below the waist\\nSoft, breathable cotton twill with a gentle stretch\\nButton-flap pockets at seat\\nCargo side pockets\\nAn Amazon brand Khaki Brown   \n",
       "418272                                                                                                                                                                                                                                                                                                                                                                                                                                                                                                                                                                                                                                                                                                                                                                                                                                                   christmas gift tokens us [SEP] AttaCoin - Variety Pack - Employee Appreciation Gift - 5 Coins us AttaCoin A unique gift to show appreciation to the people in your life - Acknowledge the talents of your team with tokens highlighting what makes their contribution so special. Each high-quality metal coin has a beautiful enamel design and epoxy protective seal. Office gifts just got an upgrade! This kit comes with all 5 AttaCoin designs - Leadership, Teamwork, Effort, Mastery, and Creativity!\\nSneak a coin on to a coworker's desk as an unspoken thanks, present one to your employee of the month or use them as inspirational gifts during company meetings or team building retreats.\\nOur tokens are perfect for Bosses Day, Administrative Professionals Day, Teacher Appreciation, office Christmas parties, company and work anniversaries or promotions.\\nEach coin comes in its own plastic protective pouch which will help keep it pristine for years.\\nAppreciation is what we do - let us help you say thank you in a way they won't soon forget! 5 Coin Variety Pack   \n",
       "\n",
       "             label  \n",
       "554322  substitute  \n",
       "610808  substitute  \n",
       "515098  substitute  \n",
       "594682  substitute  \n",
       "418272  substitute  "
      ]
     },
     "execution_count": 9,
     "metadata": {},
     "output_type": "execute_result"
    }
   ],
   "source": [
    "train_df[train_df['label'] == 'substitute'].sample(n=5)"
   ]
  },
  {
   "cell_type": "code",
   "execution_count": 10,
   "id": "d0c644b5",
   "metadata": {
    "execution": {
     "iopub.execute_input": "2022-05-08T12:45:14.568633Z",
     "iopub.status.busy": "2022-05-08T12:45:14.567910Z",
     "iopub.status.idle": "2022-05-08T12:45:14.570766Z",
     "shell.execute_reply": "2022-05-08T12:45:14.571176Z",
     "shell.execute_reply.started": "2022-05-08T12:40:08.970677Z"
    },
    "papermill": {
     "duration": 0.042592,
     "end_time": "2022-05-08T12:45:14.571311",
     "exception": false,
     "start_time": "2022-05-08T12:45:14.528719",
     "status": "completed"
    },
    "tags": []
   },
   "outputs": [
    {
     "data": {
      "text/html": [
       "<div>\n",
       "<style scoped>\n",
       "    .dataframe tbody tr th:only-of-type {\n",
       "        vertical-align: middle;\n",
       "    }\n",
       "\n",
       "    .dataframe tbody tr th {\n",
       "        vertical-align: top;\n",
       "    }\n",
       "\n",
       "    .dataframe thead th {\n",
       "        text-align: right;\n",
       "    }\n",
       "</style>\n",
       "<table border=\"1\" class=\"dataframe\">\n",
       "  <thead>\n",
       "    <tr style=\"text-align: right;\">\n",
       "      <th></th>\n",
       "      <th>input</th>\n",
       "      <th>label</th>\n",
       "    </tr>\n",
       "  </thead>\n",
       "  <tbody>\n",
       "    <tr>\n",
       "      <th>0</th>\n",
       "      <td>tack cleaner for horses us [SEP] Pack of 12 Tack Sponges us Hydra Sponge Pack of 12 Tack Sponges VALUE PACK of 12 Creative Hobbies Best Quality Synthetic sponges for Painting, Face Painting, Crafts, Pottery, Clay, Household Use &amp; more!\\nNEW IMPROVED FORMULA Synthetic material is soft and absorbent, finishes clay smoothly, is gentle on faces for face painting, and very absorbent.\\nShipped compressed to save space, sponges expand by rinsing in warm water or exposure to air after unpacking.\\nVERSATILE - Great for face painting, leather tack cleaning and conditioning, applying paint in household or craft projects to washing dishes.</td>\n",
       "      <td>complement</td>\n",
       "    </tr>\n",
       "    <tr>\n",
       "      <th>1</th>\n",
       "      <td>brother p-touch pt-d210 us [SEP] Khanka Hard Travel Case Replacement for Brother P-Touch PT-D210 Label Maker us khanka DISCLAIMER: Product only include Khanka brand casing. Does NOT include other products as pictured. We are NOT sponsored by other brands. Khanka Carrying Storage Organizer Case Bag Replacement for Brother P-Touch PT-D210 Label Maker fits 1/2-Inch Standard Laminated Tape\\nExtra Separate Compartment Mesh Pocket for 1/2-Inch Standard Laminated Tape\\nHand Strap For keeping your devices safe and handy,Lightweight. Packed inclued: One Case\\nMaterial: EVA Color: Black External Size:7*6.6*3.5 inch Weight: 220g Black</td>\n",
       "      <td>complement</td>\n",
       "    </tr>\n",
       "  </tbody>\n",
       "</table>\n",
       "</div>"
      ],
      "text/plain": [
       "                                                                                                                                                                                                                                                                                                                                                                                                                                                                                                                                                                                                                                                         input  \\\n",
       "0  tack cleaner for horses us [SEP] Pack of 12 Tack Sponges us Hydra Sponge Pack of 12 Tack Sponges VALUE PACK of 12 Creative Hobbies Best Quality Synthetic sponges for Painting, Face Painting, Crafts, Pottery, Clay, Household Use & more!\\nNEW IMPROVED FORMULA Synthetic material is soft and absorbent, finishes clay smoothly, is gentle on faces for face painting, and very absorbent.\\nShipped compressed to save space, sponges expand by rinsing in warm water or exposure to air after unpacking.\\nVERSATILE - Great for face painting, leather tack cleaning and conditioning, applying paint in household or craft projects to washing dishes.   \n",
       "1      brother p-touch pt-d210 us [SEP] Khanka Hard Travel Case Replacement for Brother P-Touch PT-D210 Label Maker us khanka DISCLAIMER: Product only include Khanka brand casing. Does NOT include other products as pictured. We are NOT sponsored by other brands. Khanka Carrying Storage Organizer Case Bag Replacement for Brother P-Touch PT-D210 Label Maker fits 1/2-Inch Standard Laminated Tape\\nExtra Separate Compartment Mesh Pocket for 1/2-Inch Standard Laminated Tape\\nHand Strap For keeping your devices safe and handy,Lightweight. Packed inclued: One Case\\nMaterial: EVA Color: Black External Size:7*6.6*3.5 inch Weight: 220g Black   \n",
       "\n",
       "        label  \n",
       "0  complement  \n",
       "1  complement  "
      ]
     },
     "execution_count": 10,
     "metadata": {},
     "output_type": "execute_result"
    }
   ],
   "source": [
    "train_df.head(2)"
   ]
  },
  {
   "cell_type": "code",
   "execution_count": 11,
   "id": "c5ba091a",
   "metadata": {
    "execution": {
     "iopub.execute_input": "2022-05-08T12:45:14.640520Z",
     "iopub.status.busy": "2022-05-08T12:45:14.639923Z",
     "iopub.status.idle": "2022-05-08T12:45:14.642593Z",
     "shell.execute_reply": "2022-05-08T12:45:14.642997Z",
     "shell.execute_reply.started": "2022-05-08T12:40:09.001915Z"
    },
    "papermill": {
     "duration": 0.040225,
     "end_time": "2022-05-08T12:45:14.643130",
     "exception": false,
     "start_time": "2022-05-08T12:45:14.602905",
     "status": "completed"
    },
    "tags": []
   },
   "outputs": [
    {
     "data": {
      "text/plain": [
       "(625388, 156350)"
      ]
     },
     "execution_count": 11,
     "metadata": {},
     "output_type": "execute_result"
    }
   ],
   "source": [
    "train_df.shape[0], test_df.shape[0]"
   ]
  },
  {
   "cell_type": "code",
   "execution_count": 12,
   "id": "06ddac84",
   "metadata": {
    "execution": {
     "iopub.execute_input": "2022-05-08T12:45:14.711748Z",
     "iopub.status.busy": "2022-05-08T12:45:14.711090Z",
     "iopub.status.idle": "2022-05-08T12:45:16.567009Z",
     "shell.execute_reply": "2022-05-08T12:45:16.567829Z",
     "shell.execute_reply.started": "2022-05-08T12:40:09.015615Z"
    },
    "papermill": {
     "duration": 1.89269,
     "end_time": "2022-05-08T12:45:16.568088",
     "exception": false,
     "start_time": "2022-05-08T12:45:14.675398",
     "status": "completed"
    },
    "tags": []
   },
   "outputs": [],
   "source": [
    "from datasets import ClassLabel, Value, DatasetDict, Dataset"
   ]
  },
  {
   "cell_type": "code",
   "execution_count": 13,
   "id": "646126d9",
   "metadata": {
    "execution": {
     "iopub.execute_input": "2022-05-08T12:45:16.684670Z",
     "iopub.status.busy": "2022-05-08T12:45:16.683461Z",
     "iopub.status.idle": "2022-05-08T12:45:20.382888Z",
     "shell.execute_reply": "2022-05-08T12:45:20.382352Z",
     "shell.execute_reply.started": "2022-05-08T12:40:09.026234Z"
    },
    "papermill": {
     "duration": 3.758613,
     "end_time": "2022-05-08T12:45:20.383055",
     "exception": false,
     "start_time": "2022-05-08T12:45:16.624442",
     "status": "completed"
    },
    "tags": []
   },
   "outputs": [],
   "source": [
    "dataset = DatasetDict({\n",
    "        'train': Dataset.from_pandas(train_df),\n",
    "        'test': Dataset.from_pandas(test_df),\n",
    "    }   \n",
    ")"
   ]
  },
  {
   "cell_type": "code",
   "execution_count": 14,
   "id": "a6a87a16",
   "metadata": {
    "execution": {
     "iopub.execute_input": "2022-05-08T12:45:20.452994Z",
     "iopub.status.busy": "2022-05-08T12:45:20.452038Z",
     "iopub.status.idle": "2022-05-08T12:45:20.455548Z",
     "shell.execute_reply": "2022-05-08T12:45:20.455907Z",
     "shell.execute_reply.started": "2022-05-08T12:40:12.331557Z"
    },
    "papermill": {
     "duration": 0.040638,
     "end_time": "2022-05-08T12:45:20.456061",
     "exception": false,
     "start_time": "2022-05-08T12:45:20.415423",
     "status": "completed"
    },
    "tags": []
   },
   "outputs": [
    {
     "data": {
      "text/plain": [
       "Dataset({\n",
       "    features: ['input', 'label'],\n",
       "    num_rows: 625388\n",
       "})"
      ]
     },
     "execution_count": 14,
     "metadata": {},
     "output_type": "execute_result"
    }
   ],
   "source": [
    "dataset['train']"
   ]
  },
  {
   "cell_type": "code",
   "execution_count": 15,
   "id": "887175b9",
   "metadata": {
    "execution": {
     "iopub.execute_input": "2022-05-08T12:45:20.526255Z",
     "iopub.status.busy": "2022-05-08T12:45:20.525645Z",
     "iopub.status.idle": "2022-05-08T12:45:20.528317Z",
     "shell.execute_reply": "2022-05-08T12:45:20.528711Z",
     "shell.execute_reply.started": "2022-05-08T12:40:12.339955Z"
    },
    "papermill": {
     "duration": 0.040601,
     "end_time": "2022-05-08T12:45:20.528843",
     "exception": false,
     "start_time": "2022-05-08T12:45:20.488242",
     "status": "completed"
    },
    "tags": []
   },
   "outputs": [
    {
     "data": {
      "text/plain": [
       "{'input': Value(dtype='string', id=None),\n",
       " 'label': Value(dtype='string', id=None)}"
      ]
     },
     "execution_count": 15,
     "metadata": {},
     "output_type": "execute_result"
    }
   ],
   "source": [
    "dataset['train'].features"
   ]
  },
  {
   "cell_type": "code",
   "execution_count": null,
   "id": "c0ec5d81",
   "metadata": {
    "execution": {
     "iopub.execute_input": "2022-05-08T12:40:12.353933Z",
     "iopub.status.busy": "2022-05-08T12:40:12.353093Z",
     "iopub.status.idle": "2022-05-08T12:40:12.363984Z",
     "shell.execute_reply": "2022-05-08T12:40:12.363180Z",
     "shell.execute_reply.started": "2022-05-08T12:40:12.353899Z"
    },
    "papermill": {
     "duration": 0.032189,
     "end_time": "2022-05-08T12:45:20.593606",
     "exception": false,
     "start_time": "2022-05-08T12:45:20.561417",
     "status": "completed"
    },
    "tags": []
   },
   "outputs": [],
   "source": []
  },
  {
   "cell_type": "code",
   "execution_count": 16,
   "id": "1aae12c5",
   "metadata": {
    "execution": {
     "iopub.execute_input": "2022-05-08T12:45:20.664017Z",
     "iopub.status.busy": "2022-05-08T12:45:20.663466Z",
     "iopub.status.idle": "2022-05-08T12:45:20.667263Z",
     "shell.execute_reply": "2022-05-08T12:45:20.666795Z",
     "shell.execute_reply.started": "2022-05-08T12:40:19.022329Z"
    },
    "papermill": {
     "duration": 0.040325,
     "end_time": "2022-05-08T12:45:20.667374",
     "exception": false,
     "start_time": "2022-05-08T12:45:20.627049",
     "status": "completed"
    },
    "tags": []
   },
   "outputs": [],
   "source": [
    "labels = ClassLabel(names=['irrelevant', 'exact', 'substitute', 'complement'])"
   ]
  },
  {
   "cell_type": "code",
   "execution_count": 17,
   "id": "442cdb45",
   "metadata": {
    "execution": {
     "iopub.execute_input": "2022-05-08T12:45:20.738295Z",
     "iopub.status.busy": "2022-05-08T12:45:20.737604Z",
     "iopub.status.idle": "2022-05-08T12:45:20.740401Z",
     "shell.execute_reply": "2022-05-08T12:45:20.740799Z",
     "shell.execute_reply.started": "2022-05-08T12:40:28.647637Z"
    },
    "papermill": {
     "duration": 0.040793,
     "end_time": "2022-05-08T12:45:20.740935",
     "exception": false,
     "start_time": "2022-05-08T12:45:20.700142",
     "status": "completed"
    },
    "tags": []
   },
   "outputs": [
    {
     "data": {
      "text/plain": [
       "({'input': Value(dtype='string', id=None),\n",
       "  'label': Value(dtype='string', id=None)},\n",
       " {'input': Value(dtype='string', id=None),\n",
       "  'label': Value(dtype='string', id=None)})"
      ]
     },
     "execution_count": 17,
     "metadata": {},
     "output_type": "execute_result"
    }
   ],
   "source": [
    "dataset['train'].features, dataset['test'].features"
   ]
  },
  {
   "cell_type": "code",
   "execution_count": 18,
   "id": "d6e2dfef",
   "metadata": {
    "execution": {
     "iopub.execute_input": "2022-05-08T12:45:20.811523Z",
     "iopub.status.busy": "2022-05-08T12:45:20.810842Z",
     "iopub.status.idle": "2022-05-08T12:45:30.477389Z",
     "shell.execute_reply": "2022-05-08T12:45:30.476381Z",
     "shell.execute_reply.started": "2022-05-08T12:42:56.513330Z"
    },
    "papermill": {
     "duration": 9.703541,
     "end_time": "2022-05-08T12:45:30.477540",
     "exception": false,
     "start_time": "2022-05-08T12:45:20.773999",
     "status": "completed"
    },
    "tags": []
   },
   "outputs": [
    {
     "data": {
      "application/vnd.jupyter.widget-view+json": {
       "model_id": "a0a58c2dc8794a91aeb3f06759ab1fbc",
       "version_major": 2,
       "version_minor": 0
      },
      "text/plain": [
       "Downloading:   0%|          | 0.00/29.0 [00:00<?, ?B/s]"
      ]
     },
     "metadata": {},
     "output_type": "display_data"
    },
    {
     "data": {
      "application/vnd.jupyter.widget-view+json": {
       "model_id": "ee22f94d966a4d1da658b743a032f0db",
       "version_major": 2,
       "version_minor": 0
      },
      "text/plain": [
       "Downloading:   0%|          | 0.00/466 [00:00<?, ?B/s]"
      ]
     },
     "metadata": {},
     "output_type": "display_data"
    },
    {
     "data": {
      "application/vnd.jupyter.widget-view+json": {
       "model_id": "76504b52634c43959c515245754443f2",
       "version_major": 2,
       "version_minor": 0
      },
      "text/plain": [
       "Downloading:   0%|          | 0.00/972k [00:00<?, ?B/s]"
      ]
     },
     "metadata": {},
     "output_type": "display_data"
    },
    {
     "data": {
      "application/vnd.jupyter.widget-view+json": {
       "model_id": "2a60152c5cb14215b210e2e190de33d6",
       "version_major": 2,
       "version_minor": 0
      },
      "text/plain": [
       "Downloading:   0%|          | 0.00/1.87M [00:00<?, ?B/s]"
      ]
     },
     "metadata": {},
     "output_type": "display_data"
    }
   ],
   "source": [
    "from transformers import AutoTokenizer,DataCollatorWithPadding\n",
    "tokenizer = AutoTokenizer.from_pretrained(checkpoint)"
   ]
  },
  {
   "cell_type": "code",
   "execution_count": 19,
   "id": "5be0c68d",
   "metadata": {
    "execution": {
     "iopub.execute_input": "2022-05-08T12:45:31.157324Z",
     "iopub.status.busy": "2022-05-08T12:45:30.566688Z",
     "iopub.status.idle": "2022-05-08T12:56:05.444024Z",
     "shell.execute_reply": "2022-05-08T12:56:05.443514Z",
     "shell.execute_reply.started": "2022-05-08T12:40:37.920923Z"
    },
    "papermill": {
     "duration": 634.924728,
     "end_time": "2022-05-08T12:56:05.444153",
     "exception": false,
     "start_time": "2022-05-08T12:45:30.519425",
     "status": "completed"
    },
    "tags": []
   },
   "outputs": [
    {
     "data": {
      "application/vnd.jupyter.widget-view+json": {
       "model_id": "407ccbbc96fb4abd9c9b26d4b1acdf36",
       "version_major": 2,
       "version_minor": 0
      },
      "text/plain": [
       "  0%|          | 0/626 [00:00<?, ?ba/s]"
      ]
     },
     "metadata": {},
     "output_type": "display_data"
    },
    {
     "data": {
      "application/vnd.jupyter.widget-view+json": {
       "model_id": "9a4639755cc648498315db93d0e137a0",
       "version_major": 2,
       "version_minor": 0
      },
      "text/plain": [
       "  0%|          | 0/157 [00:00<?, ?ba/s]"
      ]
     },
     "metadata": {},
     "output_type": "display_data"
    }
   ],
   "source": [
    "def tokenize_label_map(batch):\n",
    "    tokens = tokenizer(batch['input'], max_length=128, padding='max_length', truncation=True)\n",
    "    tokens['label'] = labels.str2int(batch['label'])\n",
    "    return tokens\n",
    "encoded_dataset = dataset.map(tokenize_label_map, batched=True)"
   ]
  },
  {
   "cell_type": "code",
   "execution_count": 20,
   "id": "29d2cd92",
   "metadata": {
    "execution": {
     "iopub.execute_input": "2022-05-08T12:56:05.570233Z",
     "iopub.status.busy": "2022-05-08T12:56:05.569198Z",
     "iopub.status.idle": "2022-05-08T12:56:05.583818Z",
     "shell.execute_reply": "2022-05-08T12:56:05.582908Z",
     "shell.execute_reply.started": "2022-05-08T12:40:56.794650Z"
    },
    "papermill": {
     "duration": 0.091321,
     "end_time": "2022-05-08T12:56:05.584979",
     "exception": false,
     "start_time": "2022-05-08T12:56:05.493658",
     "status": "completed"
    },
    "tags": []
   },
   "outputs": [
    {
     "data": {
      "text/plain": [
       "['input', 'label', 'input_ids', 'attention_mask']"
      ]
     },
     "execution_count": 20,
     "metadata": {},
     "output_type": "execute_result"
    }
   ],
   "source": [
    "encoded_dataset['train'].column_names"
   ]
  },
  {
   "cell_type": "code",
   "execution_count": 21,
   "id": "37558a8a",
   "metadata": {
    "execution": {
     "iopub.execute_input": "2022-05-08T12:56:05.741236Z",
     "iopub.status.busy": "2022-05-08T12:56:05.740079Z",
     "iopub.status.idle": "2022-05-08T12:56:05.751576Z",
     "shell.execute_reply": "2022-05-08T12:56:05.752069Z",
     "shell.execute_reply.started": "2022-05-08T12:23:38.630464Z"
    },
    "papermill": {
     "duration": 0.084658,
     "end_time": "2022-05-08T12:56:05.752241",
     "exception": false,
     "start_time": "2022-05-08T12:56:05.667583",
     "status": "completed"
    },
    "tags": []
   },
   "outputs": [],
   "source": [
    "tokenized_datasets = encoded_dataset#.remove_columns([\"input\"])\n",
    "tokenized_datasets = tokenized_datasets.rename_column(\"label\", \"labels\")\n",
    "tokenized_datasets.set_format(\"torch\")"
   ]
  },
  {
   "cell_type": "code",
   "execution_count": 22,
   "id": "e12f9050",
   "metadata": {
    "execution": {
     "iopub.execute_input": "2022-05-08T12:56:05.893502Z",
     "iopub.status.busy": "2022-05-08T12:56:05.892543Z",
     "iopub.status.idle": "2022-05-08T12:56:05.896073Z",
     "shell.execute_reply": "2022-05-08T12:56:05.896674Z",
     "shell.execute_reply.started": "2022-05-08T12:23:38.631789Z"
    },
    "papermill": {
     "duration": 0.076961,
     "end_time": "2022-05-08T12:56:05.896857",
     "exception": false,
     "start_time": "2022-05-08T12:56:05.819896",
     "status": "completed"
    },
    "tags": []
   },
   "outputs": [
    {
     "data": {
      "text/plain": [
       "DatasetDict({\n",
       "    train: Dataset({\n",
       "        features: ['input', 'labels', 'input_ids', 'attention_mask'],\n",
       "        num_rows: 625388\n",
       "    })\n",
       "    test: Dataset({\n",
       "        features: ['input', 'labels', 'input_ids', 'attention_mask'],\n",
       "        num_rows: 156350\n",
       "    })\n",
       "})"
      ]
     },
     "execution_count": 22,
     "metadata": {},
     "output_type": "execute_result"
    }
   ],
   "source": [
    "tokenized_datasets"
   ]
  },
  {
   "cell_type": "code",
   "execution_count": 23,
   "id": "012b96e1",
   "metadata": {
    "execution": {
     "iopub.execute_input": "2022-05-08T12:56:06.023471Z",
     "iopub.status.busy": "2022-05-08T12:56:06.022604Z",
     "iopub.status.idle": "2022-05-08T12:56:06.025725Z",
     "shell.execute_reply": "2022-05-08T12:56:06.026407Z",
     "shell.execute_reply.started": "2022-05-08T12:23:38.634182Z"
    },
    "papermill": {
     "duration": 0.070463,
     "end_time": "2022-05-08T12:56:06.026716",
     "exception": false,
     "start_time": "2022-05-08T12:56:05.956253",
     "status": "completed"
    },
    "tags": []
   },
   "outputs": [
    {
     "data": {
      "text/plain": [
       "{'input': Value(dtype='string', id=None),\n",
       " 'labels': Value(dtype='int64', id=None),\n",
       " 'input_ids': Sequence(feature=Value(dtype='int32', id=None), length=-1, id=None),\n",
       " 'attention_mask': Sequence(feature=Value(dtype='int8', id=None), length=-1, id=None)}"
      ]
     },
     "execution_count": 23,
     "metadata": {},
     "output_type": "execute_result"
    }
   ],
   "source": [
    "tokenized_datasets['test'].features"
   ]
  },
  {
   "cell_type": "code",
   "execution_count": 24,
   "id": "8e966405",
   "metadata": {
    "execution": {
     "iopub.execute_input": "2022-05-08T12:56:06.139853Z",
     "iopub.status.busy": "2022-05-08T12:56:06.139121Z",
     "iopub.status.idle": "2022-05-08T12:56:06.141692Z",
     "shell.execute_reply": "2022-05-08T12:56:06.141258Z",
     "shell.execute_reply.started": "2022-05-08T12:23:38.635919Z"
    },
    "papermill": {
     "duration": 0.053155,
     "end_time": "2022-05-08T12:56:06.141801",
     "exception": false,
     "start_time": "2022-05-08T12:56:06.088646",
     "status": "completed"
    },
    "tags": []
   },
   "outputs": [],
   "source": [
    "data_collator = DataCollatorWithPadding(tokenizer=tokenizer)"
   ]
  },
  {
   "cell_type": "code",
   "execution_count": 25,
   "id": "39ef674c",
   "metadata": {
    "execution": {
     "iopub.execute_input": "2022-05-08T12:56:06.221253Z",
     "iopub.status.busy": "2022-05-08T12:56:06.220701Z",
     "iopub.status.idle": "2022-05-08T12:56:33.257883Z",
     "shell.execute_reply": "2022-05-08T12:56:33.258317Z",
     "shell.execute_reply.started": "2022-05-08T12:36:31.218600Z"
    },
    "papermill": {
     "duration": 27.078755,
     "end_time": "2022-05-08T12:56:33.258497",
     "exception": false,
     "start_time": "2022-05-08T12:56:06.179742",
     "status": "completed"
    },
    "tags": []
   },
   "outputs": [
    {
     "data": {
      "application/vnd.jupyter.widget-view+json": {
       "model_id": "8e188e47779c4bd9a02efee88f6d33bc",
       "version_major": 2,
       "version_minor": 0
      },
      "text/plain": [
       "Downloading:   0%|          | 0.00/517M [00:00<?, ?B/s]"
      ]
     },
     "metadata": {},
     "output_type": "display_data"
    },
    {
     "name": "stderr",
     "output_type": "stream",
     "text": [
      "Some weights of the model checkpoint at distilbert-base-multilingual-cased were not used when initializing DistilBertForSequenceClassification: ['vocab_layer_norm.weight', 'vocab_layer_norm.bias', 'vocab_transform.bias', 'vocab_projector.weight', 'vocab_transform.weight', 'vocab_projector.bias']\n",
      "- This IS expected if you are initializing DistilBertForSequenceClassification from the checkpoint of a model trained on another task or with another architecture (e.g. initializing a BertForSequenceClassification model from a BertForPreTraining model).\n",
      "- This IS NOT expected if you are initializing DistilBertForSequenceClassification from the checkpoint of a model that you expect to be exactly identical (initializing a BertForSequenceClassification model from a BertForSequenceClassification model).\n",
      "Some weights of DistilBertForSequenceClassification were not initialized from the model checkpoint at distilbert-base-multilingual-cased and are newly initialized: ['classifier.weight', 'classifier.bias', 'pre_classifier.bias', 'pre_classifier.weight']\n",
      "You should probably TRAIN this model on a down-stream task to be able to use it for predictions and inference.\n"
     ]
    }
   ],
   "source": [
    "from transformers import AutoModelForSequenceClassification\n",
    "model = AutoModelForSequenceClassification.from_pretrained(checkpoint, num_labels=4)"
   ]
  },
  {
   "cell_type": "code",
   "execution_count": 26,
   "id": "8f8ff7f9",
   "metadata": {
    "execution": {
     "iopub.execute_input": "2022-05-08T12:56:33.341243Z",
     "iopub.status.busy": "2022-05-08T12:56:33.340646Z",
     "iopub.status.idle": "2022-05-08T12:56:33.345600Z",
     "shell.execute_reply": "2022-05-08T12:56:33.346150Z",
     "shell.execute_reply.started": "2022-05-08T12:31:58.424269Z"
    },
    "papermill": {
     "duration": 0.049236,
     "end_time": "2022-05-08T12:56:33.346345",
     "exception": false,
     "start_time": "2022-05-08T12:56:33.297109",
     "status": "completed"
    },
    "tags": []
   },
   "outputs": [
    {
     "name": "stdout",
     "output_type": "stream",
     "text": [
      "number of trainable parameters 135327748\n"
     ]
    }
   ],
   "source": [
    "print(f\"number of trainable parameters {sum(p.numel() for p in model.parameters() if p.requires_grad)}\")"
   ]
  },
  {
   "cell_type": "code",
   "execution_count": 27,
   "id": "6a1c0ca7",
   "metadata": {
    "execution": {
     "iopub.execute_input": "2022-05-08T12:56:33.428928Z",
     "iopub.status.busy": "2022-05-08T12:56:33.428081Z",
     "iopub.status.idle": "2022-05-08T12:56:33.429924Z",
     "shell.execute_reply": "2022-05-08T12:56:33.430373Z",
     "shell.execute_reply.started": "2022-04-26T16:33:17.485303Z"
    },
    "papermill": {
     "duration": 0.044975,
     "end_time": "2022-05-08T12:56:33.430506",
     "exception": false,
     "start_time": "2022-05-08T12:56:33.385531",
     "status": "completed"
    },
    "tags": []
   },
   "outputs": [],
   "source": [
    "from sklearn.metrics import precision_score, recall_score, accuracy_score, f1_score"
   ]
  },
  {
   "cell_type": "code",
   "execution_count": 28,
   "id": "c11ee146",
   "metadata": {
    "execution": {
     "iopub.execute_input": "2022-05-08T12:56:33.517292Z",
     "iopub.status.busy": "2022-05-08T12:56:33.516487Z",
     "iopub.status.idle": "2022-05-08T12:56:33.518502Z",
     "shell.execute_reply": "2022-05-08T12:56:33.518943Z",
     "shell.execute_reply.started": "2022-04-26T16:33:17.508172Z"
    },
    "papermill": {
     "duration": 0.047728,
     "end_time": "2022-05-08T12:56:33.519109",
     "exception": false,
     "start_time": "2022-05-08T12:56:33.471381",
     "status": "completed"
    },
    "tags": []
   },
   "outputs": [],
   "source": [
    "from sklearn.metrics import precision_score, recall_score, accuracy_score, f1_score\n",
    "import numpy as np\n",
    "def compute_metrics(eval_preds):\n",
    "    logits, labels = eval_preds\n",
    "    predictions = np.argmax(logits, axis=-1)\n",
    "    metrics_dict = {\n",
    "        'precision': precision_score(labels, predictions, average='micro'),\n",
    "        'recall': recall_score(labels, predictions, average='micro'),\n",
    "        'f1': f1_score(labels, predictions, average='micro'),\n",
    "        'accuracy': accuracy_score(labels, predictions),\n",
    "    }\n",
    "    return metrics_dict"
   ]
  },
  {
   "cell_type": "code",
   "execution_count": 29,
   "id": "556ecf4b",
   "metadata": {
    "execution": {
     "iopub.execute_input": "2022-05-08T12:56:33.607059Z",
     "iopub.status.busy": "2022-05-08T12:56:33.606377Z",
     "iopub.status.idle": "2022-05-08T12:56:38.774534Z",
     "shell.execute_reply": "2022-05-08T12:56:38.775229Z",
     "shell.execute_reply.started": "2022-04-26T16:34:16.998502Z"
    },
    "papermill": {
     "duration": 5.21528,
     "end_time": "2022-05-08T12:56:38.775430",
     "exception": false,
     "start_time": "2022-05-08T12:56:33.560150",
     "status": "completed"
    },
    "tags": []
   },
   "outputs": [
    {
     "name": "stderr",
     "output_type": "stream",
     "text": [
      "Using amp half precision backend\n"
     ]
    }
   ],
   "source": [
    "from transformers import Trainer\n",
    "from transformers import TrainingArguments\n",
    "import torch\n",
    "\n",
    "training_args = TrainingArguments(evaluation_strategy=\"epoch\", report_to=\"none\", output_dir = '/kaggle/working/', load_best_model_at_end=True, save_total_limit=2, save_strategy='epoch', logging_strategy='steps', logging_steps=50, log_level='info', log_level_replica='info', fp16=torch.cuda.is_available())\n",
    "\n",
    "trainer = Trainer(\n",
    "    model,\n",
    "    training_args,\n",
    "    train_dataset=tokenized_datasets[\"train\"],\n",
    "    eval_dataset=tokenized_datasets[\"test\"],\n",
    "    data_collator=data_collator,\n",
    "    tokenizer=tokenizer,\n",
    "    compute_metrics=compute_metrics,\n",
    ")"
   ]
  },
  {
   "cell_type": "code",
   "execution_count": 30,
   "id": "29df0048",
   "metadata": {
    "execution": {
     "iopub.execute_input": "2022-05-08T12:56:38.929267Z",
     "iopub.status.busy": "2022-05-08T12:56:38.928372Z",
     "iopub.status.idle": "2022-05-08T19:21:30.768090Z",
     "shell.execute_reply": "2022-05-08T19:21:30.767549Z",
     "shell.execute_reply.started": "2022-04-26T16:34:23.858684Z"
    },
    "papermill": {
     "duration": 23091.925404,
     "end_time": "2022-05-08T19:21:30.768245",
     "exception": false,
     "start_time": "2022-05-08T12:56:38.842841",
     "status": "completed"
    },
    "tags": []
   },
   "outputs": [
    {
     "name": "stderr",
     "output_type": "stream",
     "text": [
      "The following columns in the training set  don't have a corresponding argument in `DistilBertForSequenceClassification.forward` and have been ignored: input.\n",
      "/opt/conda/lib/python3.7/site-packages/transformers/optimization.py:309: FutureWarning: This implementation of AdamW is deprecated and will be removed in a future version. Use thePyTorch implementation torch.optim.AdamW instead, or set `no_deprecation_warning=True` to disable this warning\n",
      "  FutureWarning,\n",
      "***** Running training *****\n",
      "  Num examples = 625388\n",
      "  Num Epochs = 3\n",
      "  Instantaneous batch size per device = 8\n",
      "  Total train batch size (w. parallel, distributed & accumulation) = 8\n",
      "  Gradient Accumulation steps = 1\n",
      "  Total optimization steps = 234522\n"
     ]
    },
    {
     "data": {
      "text/html": [
       "\n",
       "    <div>\n",
       "      \n",
       "      <progress value='234522' max='234522' style='width:300px; height:20px; vertical-align: middle;'></progress>\n",
       "      [234522/234522 6:24:50, Epoch 3/3]\n",
       "    </div>\n",
       "    <table border=\"1\" class=\"dataframe\">\n",
       "  <thead>\n",
       " <tr style=\"text-align: left;\">\n",
       "      <th>Epoch</th>\n",
       "      <th>Training Loss</th>\n",
       "      <th>Validation Loss</th>\n",
       "      <th>Precision</th>\n",
       "      <th>Recall</th>\n",
       "      <th>F1</th>\n",
       "      <th>Accuracy</th>\n",
       "    </tr>\n",
       "  </thead>\n",
       "  <tbody>\n",
       "    <tr>\n",
       "      <td>1</td>\n",
       "      <td>1.149900</td>\n",
       "      <td>1.183576</td>\n",
       "      <td>0.436418</td>\n",
       "      <td>0.436418</td>\n",
       "      <td>0.436418</td>\n",
       "      <td>0.436418</td>\n",
       "    </tr>\n",
       "    <tr>\n",
       "      <td>2</td>\n",
       "      <td>1.135200</td>\n",
       "      <td>1.197492</td>\n",
       "      <td>0.436418</td>\n",
       "      <td>0.436418</td>\n",
       "      <td>0.436418</td>\n",
       "      <td>0.436418</td>\n",
       "    </tr>\n",
       "    <tr>\n",
       "      <td>3</td>\n",
       "      <td>1.157300</td>\n",
       "      <td>1.179224</td>\n",
       "      <td>0.436418</td>\n",
       "      <td>0.436418</td>\n",
       "      <td>0.436418</td>\n",
       "      <td>0.436418</td>\n",
       "    </tr>\n",
       "  </tbody>\n",
       "</table><p>"
      ],
      "text/plain": [
       "<IPython.core.display.HTML object>"
      ]
     },
     "metadata": {},
     "output_type": "display_data"
    },
    {
     "name": "stderr",
     "output_type": "stream",
     "text": [
      "/opt/conda/lib/python3.7/site-packages/transformers/trainer.py:1410: FutureWarning: Non-finite norm encountered in torch.nn.utils.clip_grad_norm_; continuing anyway. Note that the default behavior will change in a future release to error out if a non-finite total norm is encountered. At that point, setting error_if_nonfinite=false will be required to retain the old behavior.\n",
      "  args.max_grad_norm,\n",
      "The following columns in the evaluation set  don't have a corresponding argument in `DistilBertForSequenceClassification.forward` and have been ignored: input.\n",
      "***** Running Evaluation *****\n",
      "  Num examples = 156350\n",
      "  Batch size = 8\n",
      "Saving model checkpoint to /kaggle/working/checkpoint-78174\n",
      "Configuration saved in /kaggle/working/checkpoint-78174/config.json\n",
      "Model weights saved in /kaggle/working/checkpoint-78174/pytorch_model.bin\n",
      "tokenizer config file saved in /kaggle/working/checkpoint-78174/tokenizer_config.json\n",
      "Special tokens file saved in /kaggle/working/checkpoint-78174/special_tokens_map.json\n",
      "/opt/conda/lib/python3.7/site-packages/transformers/trainer.py:1410: FutureWarning: Non-finite norm encountered in torch.nn.utils.clip_grad_norm_; continuing anyway. Note that the default behavior will change in a future release to error out if a non-finite total norm is encountered. At that point, setting error_if_nonfinite=false will be required to retain the old behavior.\n",
      "  args.max_grad_norm,\n",
      "The following columns in the evaluation set  don't have a corresponding argument in `DistilBertForSequenceClassification.forward` and have been ignored: input.\n",
      "***** Running Evaluation *****\n",
      "  Num examples = 156350\n",
      "  Batch size = 8\n",
      "Saving model checkpoint to /kaggle/working/checkpoint-156348\n",
      "Configuration saved in /kaggle/working/checkpoint-156348/config.json\n",
      "Model weights saved in /kaggle/working/checkpoint-156348/pytorch_model.bin\n",
      "tokenizer config file saved in /kaggle/working/checkpoint-156348/tokenizer_config.json\n",
      "Special tokens file saved in /kaggle/working/checkpoint-156348/special_tokens_map.json\n",
      "/opt/conda/lib/python3.7/site-packages/transformers/trainer.py:1410: FutureWarning: Non-finite norm encountered in torch.nn.utils.clip_grad_norm_; continuing anyway. Note that the default behavior will change in a future release to error out if a non-finite total norm is encountered. At that point, setting error_if_nonfinite=false will be required to retain the old behavior.\n",
      "  args.max_grad_norm,\n",
      "The following columns in the evaluation set  don't have a corresponding argument in `DistilBertForSequenceClassification.forward` and have been ignored: input.\n",
      "***** Running Evaluation *****\n",
      "  Num examples = 156350\n",
      "  Batch size = 8\n",
      "Saving model checkpoint to /kaggle/working/checkpoint-234522\n",
      "Configuration saved in /kaggle/working/checkpoint-234522/config.json\n",
      "Model weights saved in /kaggle/working/checkpoint-234522/pytorch_model.bin\n",
      "tokenizer config file saved in /kaggle/working/checkpoint-234522/tokenizer_config.json\n",
      "Special tokens file saved in /kaggle/working/checkpoint-234522/special_tokens_map.json\n",
      "Deleting older checkpoint [/kaggle/working/checkpoint-78174] due to args.save_total_limit\n",
      "\n",
      "\n",
      "Training completed. Do not forget to share your model on huggingface.co/models =)\n",
      "\n",
      "\n",
      "Loading best model from /kaggle/working/checkpoint-234522 (score: 1.1792241334915161).\n"
     ]
    }
   ],
   "source": [
    "try:\n",
    "    trainer.train()\n",
    "except:\n",
    "    print(\"Training stopped\")"
   ]
  },
  {
   "cell_type": "code",
   "execution_count": 31,
   "id": "13cf9651",
   "metadata": {
    "execution": {
     "iopub.execute_input": "2022-05-08T19:21:33.668898Z",
     "iopub.status.busy": "2022-05-08T19:21:33.663804Z",
     "iopub.status.idle": "2022-05-08T19:21:35.094243Z",
     "shell.execute_reply": "2022-05-08T19:21:35.093237Z"
    },
    "papermill": {
     "duration": 1.496809,
     "end_time": "2022-05-08T19:21:35.094379",
     "exception": false,
     "start_time": "2022-05-08T19:21:33.597570",
     "status": "completed"
    },
    "tags": []
   },
   "outputs": [
    {
     "name": "stderr",
     "output_type": "stream",
     "text": [
      "Saving model checkpoint to /kaggle/working/\n",
      "Configuration saved in /kaggle/working/config.json\n",
      "Model weights saved in /kaggle/working/pytorch_model.bin\n",
      "tokenizer config file saved in /kaggle/working/tokenizer_config.json\n",
      "Special tokens file saved in /kaggle/working/special_tokens_map.json\n"
     ]
    }
   ],
   "source": [
    "try:\n",
    "    trainer.save_model('/kaggle/working/')\n",
    "except:\n",
    "    print(\"Trainer save stopped\")"
   ]
  }
 ],
 "metadata": {
  "kernelspec": {
   "display_name": "Python 3",
   "language": "python",
   "name": "python3"
  },
  "language_info": {
   "codemirror_mode": {
    "name": "ipython",
    "version": 3
   },
   "file_extension": ".py",
   "mimetype": "text/x-python",
   "name": "python",
   "nbconvert_exporter": "python",
   "pygments_lexer": "ipython3",
   "version": "3.7.12"
  },
  "papermill": {
   "default_parameters": {},
   "duration": 23824.210034,
   "end_time": "2022-05-08T19:21:38.095340",
   "environment_variables": {},
   "exception": null,
   "input_path": "__notebook__.ipynb",
   "output_path": "__notebook__.ipynb",
   "parameters": {},
   "start_time": "2022-05-08T12:44:33.885306",
   "version": "2.3.3"
  },
  "widgets": {
   "application/vnd.jupyter.widget-state+json": {
    "state": {
     "02c54d523e9e4767bd629097436f5ce5": {
      "model_module": "@jupyter-widgets/controls",
      "model_module_version": "1.5.0",
      "model_name": "DescriptionStyleModel",
      "state": {
       "_model_module": "@jupyter-widgets/controls",
       "_model_module_version": "1.5.0",
       "_model_name": "DescriptionStyleModel",
       "_view_count": null,
       "_view_module": "@jupyter-widgets/base",
       "_view_module_version": "1.2.0",
       "_view_name": "StyleView",
       "description_width": ""
      }
     },
     "02ebcdb1b35e4992b4f095f77df3e7e4": {
      "model_module": "@jupyter-widgets/base",
      "model_module_version": "1.2.0",
      "model_name": "LayoutModel",
      "state": {
       "_model_module": "@jupyter-widgets/base",
       "_model_module_version": "1.2.0",
       "_model_name": "LayoutModel",
       "_view_count": null,
       "_view_module": "@jupyter-widgets/base",
       "_view_module_version": "1.2.0",
       "_view_name": "LayoutView",
       "align_content": null,
       "align_items": null,
       "align_self": null,
       "border": null,
       "bottom": null,
       "display": null,
       "flex": null,
       "flex_flow": null,
       "grid_area": null,
       "grid_auto_columns": null,
       "grid_auto_flow": null,
       "grid_auto_rows": null,
       "grid_column": null,
       "grid_gap": null,
       "grid_row": null,
       "grid_template_areas": null,
       "grid_template_columns": null,
       "grid_template_rows": null,
       "height": null,
       "justify_content": null,
       "justify_items": null,
       "left": null,
       "margin": null,
       "max_height": null,
       "max_width": null,
       "min_height": null,
       "min_width": null,
       "object_fit": null,
       "object_position": null,
       "order": null,
       "overflow": null,
       "overflow_x": null,
       "overflow_y": null,
       "padding": null,
       "right": null,
       "top": null,
       "visibility": null,
       "width": null
      }
     },
     "0a066084c3fc49b1abfdf14c434d83d4": {
      "model_module": "@jupyter-widgets/controls",
      "model_module_version": "1.5.0",
      "model_name": "FloatProgressModel",
      "state": {
       "_dom_classes": [],
       "_model_module": "@jupyter-widgets/controls",
       "_model_module_version": "1.5.0",
       "_model_name": "FloatProgressModel",
       "_view_count": null,
       "_view_module": "@jupyter-widgets/controls",
       "_view_module_version": "1.5.0",
       "_view_name": "ProgressView",
       "bar_style": "success",
       "description": "",
       "description_tooltip": null,
       "layout": "IPY_MODEL_5b4a9946c3e349f8a878d4c89a30aa27",
       "max": 1961828.0,
       "min": 0.0,
       "orientation": "horizontal",
       "style": "IPY_MODEL_f3b19e6f6c2d4d3aa287f6db262656dc",
       "value": 1961828.0
      }
     },
     "0b97ae25549b4824b2edb9f2b738d1d6": {
      "model_module": "@jupyter-widgets/controls",
      "model_module_version": "1.5.0",
      "model_name": "HTMLModel",
      "state": {
       "_dom_classes": [],
       "_model_module": "@jupyter-widgets/controls",
       "_model_module_version": "1.5.0",
       "_model_name": "HTMLModel",
       "_view_count": null,
       "_view_module": "@jupyter-widgets/controls",
       "_view_module_version": "1.5.0",
       "_view_name": "HTMLView",
       "description": "",
       "description_tooltip": null,
       "layout": "IPY_MODEL_32ebb42342ae4e9f91b135a4f46764eb",
       "placeholder": "​",
       "style": "IPY_MODEL_10680ae73c8a475688c69d416e635425",
       "value": " 972k/972k [00:00&lt;00:00, 2.80MB/s]"
      }
     },
     "0da81c870e6b4fa3bb26863dfa9ff40b": {
      "model_module": "@jupyter-widgets/base",
      "model_module_version": "1.2.0",
      "model_name": "LayoutModel",
      "state": {
       "_model_module": "@jupyter-widgets/base",
       "_model_module_version": "1.2.0",
       "_model_name": "LayoutModel",
       "_view_count": null,
       "_view_module": "@jupyter-widgets/base",
       "_view_module_version": "1.2.0",
       "_view_name": "LayoutView",
       "align_content": null,
       "align_items": null,
       "align_self": null,
       "border": null,
       "bottom": null,
       "display": null,
       "flex": null,
       "flex_flow": null,
       "grid_area": null,
       "grid_auto_columns": null,
       "grid_auto_flow": null,
       "grid_auto_rows": null,
       "grid_column": null,
       "grid_gap": null,
       "grid_row": null,
       "grid_template_areas": null,
       "grid_template_columns": null,
       "grid_template_rows": null,
       "height": null,
       "justify_content": null,
       "justify_items": null,
       "left": null,
       "margin": null,
       "max_height": null,
       "max_width": null,
       "min_height": null,
       "min_width": null,
       "object_fit": null,
       "object_position": null,
       "order": null,
       "overflow": null,
       "overflow_x": null,
       "overflow_y": null,
       "padding": null,
       "right": null,
       "top": null,
       "visibility": null,
       "width": null
      }
     },
     "0f1c355b76fd49d1997beedae1d72087": {
      "model_module": "@jupyter-widgets/base",
      "model_module_version": "1.2.0",
      "model_name": "LayoutModel",
      "state": {
       "_model_module": "@jupyter-widgets/base",
       "_model_module_version": "1.2.0",
       "_model_name": "LayoutModel",
       "_view_count": null,
       "_view_module": "@jupyter-widgets/base",
       "_view_module_version": "1.2.0",
       "_view_name": "LayoutView",
       "align_content": null,
       "align_items": null,
       "align_self": null,
       "border": null,
       "bottom": null,
       "display": null,
       "flex": null,
       "flex_flow": null,
       "grid_area": null,
       "grid_auto_columns": null,
       "grid_auto_flow": null,
       "grid_auto_rows": null,
       "grid_column": null,
       "grid_gap": null,
       "grid_row": null,
       "grid_template_areas": null,
       "grid_template_columns": null,
       "grid_template_rows": null,
       "height": null,
       "justify_content": null,
       "justify_items": null,
       "left": null,
       "margin": null,
       "max_height": null,
       "max_width": null,
       "min_height": null,
       "min_width": null,
       "object_fit": null,
       "object_position": null,
       "order": null,
       "overflow": null,
       "overflow_x": null,
       "overflow_y": null,
       "padding": null,
       "right": null,
       "top": null,
       "visibility": null,
       "width": null
      }
     },
     "10680ae73c8a475688c69d416e635425": {
      "model_module": "@jupyter-widgets/controls",
      "model_module_version": "1.5.0",
      "model_name": "DescriptionStyleModel",
      "state": {
       "_model_module": "@jupyter-widgets/controls",
       "_model_module_version": "1.5.0",
       "_model_name": "DescriptionStyleModel",
       "_view_count": null,
       "_view_module": "@jupyter-widgets/base",
       "_view_module_version": "1.2.0",
       "_view_name": "StyleView",
       "description_width": ""
      }
     },
     "11c0f57c25274928bd814489da02b12e": {
      "model_module": "@jupyter-widgets/base",
      "model_module_version": "1.2.0",
      "model_name": "LayoutModel",
      "state": {
       "_model_module": "@jupyter-widgets/base",
       "_model_module_version": "1.2.0",
       "_model_name": "LayoutModel",
       "_view_count": null,
       "_view_module": "@jupyter-widgets/base",
       "_view_module_version": "1.2.0",
       "_view_name": "LayoutView",
       "align_content": null,
       "align_items": null,
       "align_self": null,
       "border": null,
       "bottom": null,
       "display": null,
       "flex": null,
       "flex_flow": null,
       "grid_area": null,
       "grid_auto_columns": null,
       "grid_auto_flow": null,
       "grid_auto_rows": null,
       "grid_column": null,
       "grid_gap": null,
       "grid_row": null,
       "grid_template_areas": null,
       "grid_template_columns": null,
       "grid_template_rows": null,
       "height": null,
       "justify_content": null,
       "justify_items": null,
       "left": null,
       "margin": null,
       "max_height": null,
       "max_width": null,
       "min_height": null,
       "min_width": null,
       "object_fit": null,
       "object_position": null,
       "order": null,
       "overflow": null,
       "overflow_x": null,
       "overflow_y": null,
       "padding": null,
       "right": null,
       "top": null,
       "visibility": null,
       "width": null
      }
     },
     "124bc1e483374837822cbe680c33535d": {
      "model_module": "@jupyter-widgets/controls",
      "model_module_version": "1.5.0",
      "model_name": "FloatProgressModel",
      "state": {
       "_dom_classes": [],
       "_model_module": "@jupyter-widgets/controls",
       "_model_module_version": "1.5.0",
       "_model_name": "FloatProgressModel",
       "_view_count": null,
       "_view_module": "@jupyter-widgets/controls",
       "_view_module_version": "1.5.0",
       "_view_name": "ProgressView",
       "bar_style": "success",
       "description": "",
       "description_tooltip": null,
       "layout": "IPY_MODEL_47aabc2d69324f2ca0228bd10d4eaffc",
       "max": 157.0,
       "min": 0.0,
       "orientation": "horizontal",
       "style": "IPY_MODEL_8d714fe2bc4b40f1b507301e5d79ba39",
       "value": 157.0
      }
     },
     "12f78012bbe449a49b581f9c96a0eb8b": {
      "model_module": "@jupyter-widgets/base",
      "model_module_version": "1.2.0",
      "model_name": "LayoutModel",
      "state": {
       "_model_module": "@jupyter-widgets/base",
       "_model_module_version": "1.2.0",
       "_model_name": "LayoutModel",
       "_view_count": null,
       "_view_module": "@jupyter-widgets/base",
       "_view_module_version": "1.2.0",
       "_view_name": "LayoutView",
       "align_content": null,
       "align_items": null,
       "align_self": null,
       "border": null,
       "bottom": null,
       "display": null,
       "flex": null,
       "flex_flow": null,
       "grid_area": null,
       "grid_auto_columns": null,
       "grid_auto_flow": null,
       "grid_auto_rows": null,
       "grid_column": null,
       "grid_gap": null,
       "grid_row": null,
       "grid_template_areas": null,
       "grid_template_columns": null,
       "grid_template_rows": null,
       "height": null,
       "justify_content": null,
       "justify_items": null,
       "left": null,
       "margin": null,
       "max_height": null,
       "max_width": null,
       "min_height": null,
       "min_width": null,
       "object_fit": null,
       "object_position": null,
       "order": null,
       "overflow": null,
       "overflow_x": null,
       "overflow_y": null,
       "padding": null,
       "right": null,
       "top": null,
       "visibility": null,
       "width": null
      }
     },
     "195510238e4f4910a626be6c17aa58d2": {
      "model_module": "@jupyter-widgets/base",
      "model_module_version": "1.2.0",
      "model_name": "LayoutModel",
      "state": {
       "_model_module": "@jupyter-widgets/base",
       "_model_module_version": "1.2.0",
       "_model_name": "LayoutModel",
       "_view_count": null,
       "_view_module": "@jupyter-widgets/base",
       "_view_module_version": "1.2.0",
       "_view_name": "LayoutView",
       "align_content": null,
       "align_items": null,
       "align_self": null,
       "border": null,
       "bottom": null,
       "display": null,
       "flex": null,
       "flex_flow": null,
       "grid_area": null,
       "grid_auto_columns": null,
       "grid_auto_flow": null,
       "grid_auto_rows": null,
       "grid_column": null,
       "grid_gap": null,
       "grid_row": null,
       "grid_template_areas": null,
       "grid_template_columns": null,
       "grid_template_rows": null,
       "height": null,
       "justify_content": null,
       "justify_items": null,
       "left": null,
       "margin": null,
       "max_height": null,
       "max_width": null,
       "min_height": null,
       "min_width": null,
       "object_fit": null,
       "object_position": null,
       "order": null,
       "overflow": null,
       "overflow_x": null,
       "overflow_y": null,
       "padding": null,
       "right": null,
       "top": null,
       "visibility": null,
       "width": null
      }
     },
     "1f6d83c8952f40558953642af2e1801f": {
      "model_module": "@jupyter-widgets/controls",
      "model_module_version": "1.5.0",
      "model_name": "HTMLModel",
      "state": {
       "_dom_classes": [],
       "_model_module": "@jupyter-widgets/controls",
       "_model_module_version": "1.5.0",
       "_model_name": "HTMLModel",
       "_view_count": null,
       "_view_module": "@jupyter-widgets/controls",
       "_view_module_version": "1.5.0",
       "_view_name": "HTMLView",
       "description": "",
       "description_tooltip": null,
       "layout": "IPY_MODEL_9f32eeaa3ab24426b818d6dae863de8c",
       "placeholder": "​",
       "style": "IPY_MODEL_4bd8b905a8c342278b514eed7f14c518",
       "value": " 626/626 [08:26&lt;00:00,  1.44ba/s]"
      }
     },
     "2a60152c5cb14215b210e2e190de33d6": {
      "model_module": "@jupyter-widgets/controls",
      "model_module_version": "1.5.0",
      "model_name": "HBoxModel",
      "state": {
       "_dom_classes": [],
       "_model_module": "@jupyter-widgets/controls",
       "_model_module_version": "1.5.0",
       "_model_name": "HBoxModel",
       "_view_count": null,
       "_view_module": "@jupyter-widgets/controls",
       "_view_module_version": "1.5.0",
       "_view_name": "HBoxView",
       "box_style": "",
       "children": [
        "IPY_MODEL_ee4be7d9f49246fc8ce4ef9a6adc19d1",
        "IPY_MODEL_0a066084c3fc49b1abfdf14c434d83d4",
        "IPY_MODEL_8bb6bcad51a04f8891be7993a44aed1a"
       ],
       "layout": "IPY_MODEL_b8ea2b0288864dbf8719a610363e8e71"
      }
     },
     "32ebb42342ae4e9f91b135a4f46764eb": {
      "model_module": "@jupyter-widgets/base",
      "model_module_version": "1.2.0",
      "model_name": "LayoutModel",
      "state": {
       "_model_module": "@jupyter-widgets/base",
       "_model_module_version": "1.2.0",
       "_model_name": "LayoutModel",
       "_view_count": null,
       "_view_module": "@jupyter-widgets/base",
       "_view_module_version": "1.2.0",
       "_view_name": "LayoutView",
       "align_content": null,
       "align_items": null,
       "align_self": null,
       "border": null,
       "bottom": null,
       "display": null,
       "flex": null,
       "flex_flow": null,
       "grid_area": null,
       "grid_auto_columns": null,
       "grid_auto_flow": null,
       "grid_auto_rows": null,
       "grid_column": null,
       "grid_gap": null,
       "grid_row": null,
       "grid_template_areas": null,
       "grid_template_columns": null,
       "grid_template_rows": null,
       "height": null,
       "justify_content": null,
       "justify_items": null,
       "left": null,
       "margin": null,
       "max_height": null,
       "max_width": null,
       "min_height": null,
       "min_width": null,
       "object_fit": null,
       "object_position": null,
       "order": null,
       "overflow": null,
       "overflow_x": null,
       "overflow_y": null,
       "padding": null,
       "right": null,
       "top": null,
       "visibility": null,
       "width": null
      }
     },
     "407ccbbc96fb4abd9c9b26d4b1acdf36": {
      "model_module": "@jupyter-widgets/controls",
      "model_module_version": "1.5.0",
      "model_name": "HBoxModel",
      "state": {
       "_dom_classes": [],
       "_model_module": "@jupyter-widgets/controls",
       "_model_module_version": "1.5.0",
       "_model_name": "HBoxModel",
       "_view_count": null,
       "_view_module": "@jupyter-widgets/controls",
       "_view_module_version": "1.5.0",
       "_view_name": "HBoxView",
       "box_style": "",
       "children": [
        "IPY_MODEL_cead2b3d5f65400daabd75be4d9ebe03",
        "IPY_MODEL_fbfb05daf5634e0aa5d379edeeffc4be",
        "IPY_MODEL_1f6d83c8952f40558953642af2e1801f"
       ],
       "layout": "IPY_MODEL_195510238e4f4910a626be6c17aa58d2"
      }
     },
     "40c02c717d4b437ca36e8329ad35b1e9": {
      "model_module": "@jupyter-widgets/controls",
      "model_module_version": "1.5.0",
      "model_name": "HTMLModel",
      "state": {
       "_dom_classes": [],
       "_model_module": "@jupyter-widgets/controls",
       "_model_module_version": "1.5.0",
       "_model_name": "HTMLModel",
       "_view_count": null,
       "_view_module": "@jupyter-widgets/controls",
       "_view_module_version": "1.5.0",
       "_view_name": "HTMLView",
       "description": "",
       "description_tooltip": null,
       "layout": "IPY_MODEL_ff998b5034f64b45a3222a17c6df6906",
       "placeholder": "​",
       "style": "IPY_MODEL_02c54d523e9e4767bd629097436f5ce5",
       "value": " 29.0/29.0 [00:00&lt;00:00, 1.15kB/s]"
      }
     },
     "47aabc2d69324f2ca0228bd10d4eaffc": {
      "model_module": "@jupyter-widgets/base",
      "model_module_version": "1.2.0",
      "model_name": "LayoutModel",
      "state": {
       "_model_module": "@jupyter-widgets/base",
       "_model_module_version": "1.2.0",
       "_model_name": "LayoutModel",
       "_view_count": null,
       "_view_module": "@jupyter-widgets/base",
       "_view_module_version": "1.2.0",
       "_view_name": "LayoutView",
       "align_content": null,
       "align_items": null,
       "align_self": null,
       "border": null,
       "bottom": null,
       "display": null,
       "flex": null,
       "flex_flow": null,
       "grid_area": null,
       "grid_auto_columns": null,
       "grid_auto_flow": null,
       "grid_auto_rows": null,
       "grid_column": null,
       "grid_gap": null,
       "grid_row": null,
       "grid_template_areas": null,
       "grid_template_columns": null,
       "grid_template_rows": null,
       "height": null,
       "justify_content": null,
       "justify_items": null,
       "left": null,
       "margin": null,
       "max_height": null,
       "max_width": null,
       "min_height": null,
       "min_width": null,
       "object_fit": null,
       "object_position": null,
       "order": null,
       "overflow": null,
       "overflow_x": null,
       "overflow_y": null,
       "padding": null,
       "right": null,
       "top": null,
       "visibility": null,
       "width": null
      }
     },
     "47efceaa10d141aba82e41b33e70b370": {
      "model_module": "@jupyter-widgets/controls",
      "model_module_version": "1.5.0",
      "model_name": "DescriptionStyleModel",
      "state": {
       "_model_module": "@jupyter-widgets/controls",
       "_model_module_version": "1.5.0",
       "_model_name": "DescriptionStyleModel",
       "_view_count": null,
       "_view_module": "@jupyter-widgets/base",
       "_view_module_version": "1.2.0",
       "_view_name": "StyleView",
       "description_width": ""
      }
     },
     "48c908b46eed4b88aec7f76254a5d27c": {
      "model_module": "@jupyter-widgets/controls",
      "model_module_version": "1.5.0",
      "model_name": "DescriptionStyleModel",
      "state": {
       "_model_module": "@jupyter-widgets/controls",
       "_model_module_version": "1.5.0",
       "_model_name": "DescriptionStyleModel",
       "_view_count": null,
       "_view_module": "@jupyter-widgets/base",
       "_view_module_version": "1.2.0",
       "_view_name": "StyleView",
       "description_width": ""
      }
     },
     "4bd8b905a8c342278b514eed7f14c518": {
      "model_module": "@jupyter-widgets/controls",
      "model_module_version": "1.5.0",
      "model_name": "DescriptionStyleModel",
      "state": {
       "_model_module": "@jupyter-widgets/controls",
       "_model_module_version": "1.5.0",
       "_model_name": "DescriptionStyleModel",
       "_view_count": null,
       "_view_module": "@jupyter-widgets/base",
       "_view_module_version": "1.2.0",
       "_view_name": "StyleView",
       "description_width": ""
      }
     },
     "5b4a9946c3e349f8a878d4c89a30aa27": {
      "model_module": "@jupyter-widgets/base",
      "model_module_version": "1.2.0",
      "model_name": "LayoutModel",
      "state": {
       "_model_module": "@jupyter-widgets/base",
       "_model_module_version": "1.2.0",
       "_model_name": "LayoutModel",
       "_view_count": null,
       "_view_module": "@jupyter-widgets/base",
       "_view_module_version": "1.2.0",
       "_view_name": "LayoutView",
       "align_content": null,
       "align_items": null,
       "align_self": null,
       "border": null,
       "bottom": null,
       "display": null,
       "flex": null,
       "flex_flow": null,
       "grid_area": null,
       "grid_auto_columns": null,
       "grid_auto_flow": null,
       "grid_auto_rows": null,
       "grid_column": null,
       "grid_gap": null,
       "grid_row": null,
       "grid_template_areas": null,
       "grid_template_columns": null,
       "grid_template_rows": null,
       "height": null,
       "justify_content": null,
       "justify_items": null,
       "left": null,
       "margin": null,
       "max_height": null,
       "max_width": null,
       "min_height": null,
       "min_width": null,
       "object_fit": null,
       "object_position": null,
       "order": null,
       "overflow": null,
       "overflow_x": null,
       "overflow_y": null,
       "padding": null,
       "right": null,
       "top": null,
       "visibility": null,
       "width": null
      }
     },
     "6858f55505a74c57b4c149132e992ba1": {
      "model_module": "@jupyter-widgets/controls",
      "model_module_version": "1.5.0",
      "model_name": "DescriptionStyleModel",
      "state": {
       "_model_module": "@jupyter-widgets/controls",
       "_model_module_version": "1.5.0",
       "_model_name": "DescriptionStyleModel",
       "_view_count": null,
       "_view_module": "@jupyter-widgets/base",
       "_view_module_version": "1.2.0",
       "_view_name": "StyleView",
       "description_width": ""
      }
     },
     "6bad5013872b4354b4477bc5d0673c3e": {
      "model_module": "@jupyter-widgets/controls",
      "model_module_version": "1.5.0",
      "model_name": "FloatProgressModel",
      "state": {
       "_dom_classes": [],
       "_model_module": "@jupyter-widgets/controls",
       "_model_module_version": "1.5.0",
       "_model_name": "FloatProgressModel",
       "_view_count": null,
       "_view_module": "@jupyter-widgets/controls",
       "_view_module_version": "1.5.0",
       "_view_name": "ProgressView",
       "bar_style": "success",
       "description": "",
       "description_tooltip": null,
       "layout": "IPY_MODEL_11c0f57c25274928bd814489da02b12e",
       "max": 541808922.0,
       "min": 0.0,
       "orientation": "horizontal",
       "style": "IPY_MODEL_9bca390aa470475fa9a7961a73d3aaad",
       "value": 541808922.0
      }
     },
     "6bcb12065cdf4dc1b9f959ce1a8b69a1": {
      "model_module": "@jupyter-widgets/base",
      "model_module_version": "1.2.0",
      "model_name": "LayoutModel",
      "state": {
       "_model_module": "@jupyter-widgets/base",
       "_model_module_version": "1.2.0",
       "_model_name": "LayoutModel",
       "_view_count": null,
       "_view_module": "@jupyter-widgets/base",
       "_view_module_version": "1.2.0",
       "_view_name": "LayoutView",
       "align_content": null,
       "align_items": null,
       "align_self": null,
       "border": null,
       "bottom": null,
       "display": null,
       "flex": null,
       "flex_flow": null,
       "grid_area": null,
       "grid_auto_columns": null,
       "grid_auto_flow": null,
       "grid_auto_rows": null,
       "grid_column": null,
       "grid_gap": null,
       "grid_row": null,
       "grid_template_areas": null,
       "grid_template_columns": null,
       "grid_template_rows": null,
       "height": null,
       "justify_content": null,
       "justify_items": null,
       "left": null,
       "margin": null,
       "max_height": null,
       "max_width": null,
       "min_height": null,
       "min_width": null,
       "object_fit": null,
       "object_position": null,
       "order": null,
       "overflow": null,
       "overflow_x": null,
       "overflow_y": null,
       "padding": null,
       "right": null,
       "top": null,
       "visibility": null,
       "width": null
      }
     },
     "6f7d4269c2454c558f0f8bda4ba28118": {
      "model_module": "@jupyter-widgets/base",
      "model_module_version": "1.2.0",
      "model_name": "LayoutModel",
      "state": {
       "_model_module": "@jupyter-widgets/base",
       "_model_module_version": "1.2.0",
       "_model_name": "LayoutModel",
       "_view_count": null,
       "_view_module": "@jupyter-widgets/base",
       "_view_module_version": "1.2.0",
       "_view_name": "LayoutView",
       "align_content": null,
       "align_items": null,
       "align_self": null,
       "border": null,
       "bottom": null,
       "display": null,
       "flex": null,
       "flex_flow": null,
       "grid_area": null,
       "grid_auto_columns": null,
       "grid_auto_flow": null,
       "grid_auto_rows": null,
       "grid_column": null,
       "grid_gap": null,
       "grid_row": null,
       "grid_template_areas": null,
       "grid_template_columns": null,
       "grid_template_rows": null,
       "height": null,
       "justify_content": null,
       "justify_items": null,
       "left": null,
       "margin": null,
       "max_height": null,
       "max_width": null,
       "min_height": null,
       "min_width": null,
       "object_fit": null,
       "object_position": null,
       "order": null,
       "overflow": null,
       "overflow_x": null,
       "overflow_y": null,
       "padding": null,
       "right": null,
       "top": null,
       "visibility": null,
       "width": null
      }
     },
     "700497238df14683ac49b94394f1693a": {
      "model_module": "@jupyter-widgets/controls",
      "model_module_version": "1.5.0",
      "model_name": "HTMLModel",
      "state": {
       "_dom_classes": [],
       "_model_module": "@jupyter-widgets/controls",
       "_model_module_version": "1.5.0",
       "_model_name": "HTMLModel",
       "_view_count": null,
       "_view_module": "@jupyter-widgets/controls",
       "_view_module_version": "1.5.0",
       "_view_name": "HTMLView",
       "description": "",
       "description_tooltip": null,
       "layout": "IPY_MODEL_9aee6939dd5b497f8405dde2ed70bd3f",
       "placeholder": "​",
       "style": "IPY_MODEL_eec5b3880b06410b92b74d6181806f54",
       "value": " 157/157 [02:06&lt;00:00,  1.54ba/s]"
      }
     },
     "76016688e1364e7497d3034473a987da": {
      "model_module": "@jupyter-widgets/base",
      "model_module_version": "1.2.0",
      "model_name": "LayoutModel",
      "state": {
       "_model_module": "@jupyter-widgets/base",
       "_model_module_version": "1.2.0",
       "_model_name": "LayoutModel",
       "_view_count": null,
       "_view_module": "@jupyter-widgets/base",
       "_view_module_version": "1.2.0",
       "_view_name": "LayoutView",
       "align_content": null,
       "align_items": null,
       "align_self": null,
       "border": null,
       "bottom": null,
       "display": null,
       "flex": null,
       "flex_flow": null,
       "grid_area": null,
       "grid_auto_columns": null,
       "grid_auto_flow": null,
       "grid_auto_rows": null,
       "grid_column": null,
       "grid_gap": null,
       "grid_row": null,
       "grid_template_areas": null,
       "grid_template_columns": null,
       "grid_template_rows": null,
       "height": null,
       "justify_content": null,
       "justify_items": null,
       "left": null,
       "margin": null,
       "max_height": null,
       "max_width": null,
       "min_height": null,
       "min_width": null,
       "object_fit": null,
       "object_position": null,
       "order": null,
       "overflow": null,
       "overflow_x": null,
       "overflow_y": null,
       "padding": null,
       "right": null,
       "top": null,
       "visibility": null,
       "width": null
      }
     },
     "76504b52634c43959c515245754443f2": {
      "model_module": "@jupyter-widgets/controls",
      "model_module_version": "1.5.0",
      "model_name": "HBoxModel",
      "state": {
       "_dom_classes": [],
       "_model_module": "@jupyter-widgets/controls",
       "_model_module_version": "1.5.0",
       "_model_name": "HBoxModel",
       "_view_count": null,
       "_view_module": "@jupyter-widgets/controls",
       "_view_module_version": "1.5.0",
       "_view_name": "HBoxView",
       "box_style": "",
       "children": [
        "IPY_MODEL_ca32028707ff4c4f953598c983738f39",
        "IPY_MODEL_7e5e9244388f4f76903979dfa2ce2aae",
        "IPY_MODEL_0b97ae25549b4824b2edb9f2b738d1d6"
       ],
       "layout": "IPY_MODEL_cfeae771cb45426bbd3f719687a5319e"
      }
     },
     "7e5e9244388f4f76903979dfa2ce2aae": {
      "model_module": "@jupyter-widgets/controls",
      "model_module_version": "1.5.0",
      "model_name": "FloatProgressModel",
      "state": {
       "_dom_classes": [],
       "_model_module": "@jupyter-widgets/controls",
       "_model_module_version": "1.5.0",
       "_model_name": "FloatProgressModel",
       "_view_count": null,
       "_view_module": "@jupyter-widgets/controls",
       "_view_module_version": "1.5.0",
       "_view_name": "ProgressView",
       "bar_style": "success",
       "description": "",
       "description_tooltip": null,
       "layout": "IPY_MODEL_0f1c355b76fd49d1997beedae1d72087",
       "max": 995526.0,
       "min": 0.0,
       "orientation": "horizontal",
       "style": "IPY_MODEL_f7a88df1798d4624ad61e6bd2ca10307",
       "value": 995526.0
      }
     },
     "8bb6bcad51a04f8891be7993a44aed1a": {
      "model_module": "@jupyter-widgets/controls",
      "model_module_version": "1.5.0",
      "model_name": "HTMLModel",
      "state": {
       "_dom_classes": [],
       "_model_module": "@jupyter-widgets/controls",
       "_model_module_version": "1.5.0",
       "_model_name": "HTMLModel",
       "_view_count": null,
       "_view_module": "@jupyter-widgets/controls",
       "_view_module_version": "1.5.0",
       "_view_name": "HTMLView",
       "description": "",
       "description_tooltip": null,
       "layout": "IPY_MODEL_94d67c35628b42a8bef900aed0bc6e9d",
       "placeholder": "​",
       "style": "IPY_MODEL_48c908b46eed4b88aec7f76254a5d27c",
       "value": " 1.87M/1.87M [00:00&lt;00:00, 2.64MB/s]"
      }
     },
     "8d130b96eb86410eb3d650e086d2cb8c": {
      "model_module": "@jupyter-widgets/controls",
      "model_module_version": "1.5.0",
      "model_name": "DescriptionStyleModel",
      "state": {
       "_model_module": "@jupyter-widgets/controls",
       "_model_module_version": "1.5.0",
       "_model_name": "DescriptionStyleModel",
       "_view_count": null,
       "_view_module": "@jupyter-widgets/base",
       "_view_module_version": "1.2.0",
       "_view_name": "StyleView",
       "description_width": ""
      }
     },
     "8d714fe2bc4b40f1b507301e5d79ba39": {
      "model_module": "@jupyter-widgets/controls",
      "model_module_version": "1.5.0",
      "model_name": "ProgressStyleModel",
      "state": {
       "_model_module": "@jupyter-widgets/controls",
       "_model_module_version": "1.5.0",
       "_model_name": "ProgressStyleModel",
       "_view_count": null,
       "_view_module": "@jupyter-widgets/base",
       "_view_module_version": "1.2.0",
       "_view_name": "StyleView",
       "bar_color": null,
       "description_width": ""
      }
     },
     "8e188e47779c4bd9a02efee88f6d33bc": {
      "model_module": "@jupyter-widgets/controls",
      "model_module_version": "1.5.0",
      "model_name": "HBoxModel",
      "state": {
       "_dom_classes": [],
       "_model_module": "@jupyter-widgets/controls",
       "_model_module_version": "1.5.0",
       "_model_name": "HBoxModel",
       "_view_count": null,
       "_view_module": "@jupyter-widgets/controls",
       "_view_module_version": "1.5.0",
       "_view_name": "HBoxView",
       "box_style": "",
       "children": [
        "IPY_MODEL_bd6ba989984a43feb1df3332040fdd13",
        "IPY_MODEL_6bad5013872b4354b4477bc5d0673c3e",
        "IPY_MODEL_ea56b4db9a36406181bd58ff047aa875"
       ],
       "layout": "IPY_MODEL_f4fc1636b91b4be0b853314d9a42ce5b"
      }
     },
     "90dce28267844efbb510d46e913b464f": {
      "model_module": "@jupyter-widgets/base",
      "model_module_version": "1.2.0",
      "model_name": "LayoutModel",
      "state": {
       "_model_module": "@jupyter-widgets/base",
       "_model_module_version": "1.2.0",
       "_model_name": "LayoutModel",
       "_view_count": null,
       "_view_module": "@jupyter-widgets/base",
       "_view_module_version": "1.2.0",
       "_view_name": "LayoutView",
       "align_content": null,
       "align_items": null,
       "align_self": null,
       "border": null,
       "bottom": null,
       "display": null,
       "flex": null,
       "flex_flow": null,
       "grid_area": null,
       "grid_auto_columns": null,
       "grid_auto_flow": null,
       "grid_auto_rows": null,
       "grid_column": null,
       "grid_gap": null,
       "grid_row": null,
       "grid_template_areas": null,
       "grid_template_columns": null,
       "grid_template_rows": null,
       "height": null,
       "justify_content": null,
       "justify_items": null,
       "left": null,
       "margin": null,
       "max_height": null,
       "max_width": null,
       "min_height": null,
       "min_width": null,
       "object_fit": null,
       "object_position": null,
       "order": null,
       "overflow": null,
       "overflow_x": null,
       "overflow_y": null,
       "padding": null,
       "right": null,
       "top": null,
       "visibility": null,
       "width": null
      }
     },
     "936a8e1816af4aa3874e79dd2afc6945": {
      "model_module": "@jupyter-widgets/controls",
      "model_module_version": "1.5.0",
      "model_name": "HTMLModel",
      "state": {
       "_dom_classes": [],
       "_model_module": "@jupyter-widgets/controls",
       "_model_module_version": "1.5.0",
       "_model_name": "HTMLModel",
       "_view_count": null,
       "_view_module": "@jupyter-widgets/controls",
       "_view_module_version": "1.5.0",
       "_view_name": "HTMLView",
       "description": "",
       "description_tooltip": null,
       "layout": "IPY_MODEL_0da81c870e6b4fa3bb26863dfa9ff40b",
       "placeholder": "​",
       "style": "IPY_MODEL_d65cbb8222f14d99a260733d64d6f178",
       "value": "100%"
      }
     },
     "94d67c35628b42a8bef900aed0bc6e9d": {
      "model_module": "@jupyter-widgets/base",
      "model_module_version": "1.2.0",
      "model_name": "LayoutModel",
      "state": {
       "_model_module": "@jupyter-widgets/base",
       "_model_module_version": "1.2.0",
       "_model_name": "LayoutModel",
       "_view_count": null,
       "_view_module": "@jupyter-widgets/base",
       "_view_module_version": "1.2.0",
       "_view_name": "LayoutView",
       "align_content": null,
       "align_items": null,
       "align_self": null,
       "border": null,
       "bottom": null,
       "display": null,
       "flex": null,
       "flex_flow": null,
       "grid_area": null,
       "grid_auto_columns": null,
       "grid_auto_flow": null,
       "grid_auto_rows": null,
       "grid_column": null,
       "grid_gap": null,
       "grid_row": null,
       "grid_template_areas": null,
       "grid_template_columns": null,
       "grid_template_rows": null,
       "height": null,
       "justify_content": null,
       "justify_items": null,
       "left": null,
       "margin": null,
       "max_height": null,
       "max_width": null,
       "min_height": null,
       "min_width": null,
       "object_fit": null,
       "object_position": null,
       "order": null,
       "overflow": null,
       "overflow_x": null,
       "overflow_y": null,
       "padding": null,
       "right": null,
       "top": null,
       "visibility": null,
       "width": null
      }
     },
     "99d704ee003a474e97b2fdbde3724e4c": {
      "model_module": "@jupyter-widgets/controls",
      "model_module_version": "1.5.0",
      "model_name": "DescriptionStyleModel",
      "state": {
       "_model_module": "@jupyter-widgets/controls",
       "_model_module_version": "1.5.0",
       "_model_name": "DescriptionStyleModel",
       "_view_count": null,
       "_view_module": "@jupyter-widgets/base",
       "_view_module_version": "1.2.0",
       "_view_name": "StyleView",
       "description_width": ""
      }
     },
     "9a4639755cc648498315db93d0e137a0": {
      "model_module": "@jupyter-widgets/controls",
      "model_module_version": "1.5.0",
      "model_name": "HBoxModel",
      "state": {
       "_dom_classes": [],
       "_model_module": "@jupyter-widgets/controls",
       "_model_module_version": "1.5.0",
       "_model_name": "HBoxModel",
       "_view_count": null,
       "_view_module": "@jupyter-widgets/controls",
       "_view_module_version": "1.5.0",
       "_view_name": "HBoxView",
       "box_style": "",
       "children": [
        "IPY_MODEL_936a8e1816af4aa3874e79dd2afc6945",
        "IPY_MODEL_124bc1e483374837822cbe680c33535d",
        "IPY_MODEL_700497238df14683ac49b94394f1693a"
       ],
       "layout": "IPY_MODEL_6bcb12065cdf4dc1b9f959ce1a8b69a1"
      }
     },
     "9aee6939dd5b497f8405dde2ed70bd3f": {
      "model_module": "@jupyter-widgets/base",
      "model_module_version": "1.2.0",
      "model_name": "LayoutModel",
      "state": {
       "_model_module": "@jupyter-widgets/base",
       "_model_module_version": "1.2.0",
       "_model_name": "LayoutModel",
       "_view_count": null,
       "_view_module": "@jupyter-widgets/base",
       "_view_module_version": "1.2.0",
       "_view_name": "LayoutView",
       "align_content": null,
       "align_items": null,
       "align_self": null,
       "border": null,
       "bottom": null,
       "display": null,
       "flex": null,
       "flex_flow": null,
       "grid_area": null,
       "grid_auto_columns": null,
       "grid_auto_flow": null,
       "grid_auto_rows": null,
       "grid_column": null,
       "grid_gap": null,
       "grid_row": null,
       "grid_template_areas": null,
       "grid_template_columns": null,
       "grid_template_rows": null,
       "height": null,
       "justify_content": null,
       "justify_items": null,
       "left": null,
       "margin": null,
       "max_height": null,
       "max_width": null,
       "min_height": null,
       "min_width": null,
       "object_fit": null,
       "object_position": null,
       "order": null,
       "overflow": null,
       "overflow_x": null,
       "overflow_y": null,
       "padding": null,
       "right": null,
       "top": null,
       "visibility": null,
       "width": null
      }
     },
     "9bca390aa470475fa9a7961a73d3aaad": {
      "model_module": "@jupyter-widgets/controls",
      "model_module_version": "1.5.0",
      "model_name": "ProgressStyleModel",
      "state": {
       "_model_module": "@jupyter-widgets/controls",
       "_model_module_version": "1.5.0",
       "_model_name": "ProgressStyleModel",
       "_view_count": null,
       "_view_module": "@jupyter-widgets/base",
       "_view_module_version": "1.2.0",
       "_view_name": "StyleView",
       "bar_color": null,
       "description_width": ""
      }
     },
     "9f32eeaa3ab24426b818d6dae863de8c": {
      "model_module": "@jupyter-widgets/base",
      "model_module_version": "1.2.0",
      "model_name": "LayoutModel",
      "state": {
       "_model_module": "@jupyter-widgets/base",
       "_model_module_version": "1.2.0",
       "_model_name": "LayoutModel",
       "_view_count": null,
       "_view_module": "@jupyter-widgets/base",
       "_view_module_version": "1.2.0",
       "_view_name": "LayoutView",
       "align_content": null,
       "align_items": null,
       "align_self": null,
       "border": null,
       "bottom": null,
       "display": null,
       "flex": null,
       "flex_flow": null,
       "grid_area": null,
       "grid_auto_columns": null,
       "grid_auto_flow": null,
       "grid_auto_rows": null,
       "grid_column": null,
       "grid_gap": null,
       "grid_row": null,
       "grid_template_areas": null,
       "grid_template_columns": null,
       "grid_template_rows": null,
       "height": null,
       "justify_content": null,
       "justify_items": null,
       "left": null,
       "margin": null,
       "max_height": null,
       "max_width": null,
       "min_height": null,
       "min_width": null,
       "object_fit": null,
       "object_position": null,
       "order": null,
       "overflow": null,
       "overflow_x": null,
       "overflow_y": null,
       "padding": null,
       "right": null,
       "top": null,
       "visibility": null,
       "width": null
      }
     },
     "a0a58c2dc8794a91aeb3f06759ab1fbc": {
      "model_module": "@jupyter-widgets/controls",
      "model_module_version": "1.5.0",
      "model_name": "HBoxModel",
      "state": {
       "_dom_classes": [],
       "_model_module": "@jupyter-widgets/controls",
       "_model_module_version": "1.5.0",
       "_model_name": "HBoxModel",
       "_view_count": null,
       "_view_module": "@jupyter-widgets/controls",
       "_view_module_version": "1.5.0",
       "_view_name": "HBoxView",
       "box_style": "",
       "children": [
        "IPY_MODEL_a47826f0acd64f1fa3e985e94719ca74",
        "IPY_MODEL_eb96d7337ab44035a4afdc7911355777",
        "IPY_MODEL_40c02c717d4b437ca36e8329ad35b1e9"
       ],
       "layout": "IPY_MODEL_cd9b55b7c0254e339f8ade00f0139486"
      }
     },
     "a0cfde72d7c74a31a0ff48fd2dca7516": {
      "model_module": "@jupyter-widgets/base",
      "model_module_version": "1.2.0",
      "model_name": "LayoutModel",
      "state": {
       "_model_module": "@jupyter-widgets/base",
       "_model_module_version": "1.2.0",
       "_model_name": "LayoutModel",
       "_view_count": null,
       "_view_module": "@jupyter-widgets/base",
       "_view_module_version": "1.2.0",
       "_view_name": "LayoutView",
       "align_content": null,
       "align_items": null,
       "align_self": null,
       "border": null,
       "bottom": null,
       "display": null,
       "flex": null,
       "flex_flow": null,
       "grid_area": null,
       "grid_auto_columns": null,
       "grid_auto_flow": null,
       "grid_auto_rows": null,
       "grid_column": null,
       "grid_gap": null,
       "grid_row": null,
       "grid_template_areas": null,
       "grid_template_columns": null,
       "grid_template_rows": null,
       "height": null,
       "justify_content": null,
       "justify_items": null,
       "left": null,
       "margin": null,
       "max_height": null,
       "max_width": null,
       "min_height": null,
       "min_width": null,
       "object_fit": null,
       "object_position": null,
       "order": null,
       "overflow": null,
       "overflow_x": null,
       "overflow_y": null,
       "padding": null,
       "right": null,
       "top": null,
       "visibility": null,
       "width": null
      }
     },
     "a0ee331573614f24bb3caba9cf789413": {
      "model_module": "@jupyter-widgets/controls",
      "model_module_version": "1.5.0",
      "model_name": "DescriptionStyleModel",
      "state": {
       "_model_module": "@jupyter-widgets/controls",
       "_model_module_version": "1.5.0",
       "_model_name": "DescriptionStyleModel",
       "_view_count": null,
       "_view_module": "@jupyter-widgets/base",
       "_view_module_version": "1.2.0",
       "_view_name": "StyleView",
       "description_width": ""
      }
     },
     "a163272343024049967ee74451d573cc": {
      "model_module": "@jupyter-widgets/controls",
      "model_module_version": "1.5.0",
      "model_name": "DescriptionStyleModel",
      "state": {
       "_model_module": "@jupyter-widgets/controls",
       "_model_module_version": "1.5.0",
       "_model_name": "DescriptionStyleModel",
       "_view_count": null,
       "_view_module": "@jupyter-widgets/base",
       "_view_module_version": "1.2.0",
       "_view_name": "StyleView",
       "description_width": ""
      }
     },
     "a2b75817dd88465592844f40c8c842c0": {
      "model_module": "@jupyter-widgets/controls",
      "model_module_version": "1.5.0",
      "model_name": "DescriptionStyleModel",
      "state": {
       "_model_module": "@jupyter-widgets/controls",
       "_model_module_version": "1.5.0",
       "_model_name": "DescriptionStyleModel",
       "_view_count": null,
       "_view_module": "@jupyter-widgets/base",
       "_view_module_version": "1.2.0",
       "_view_name": "StyleView",
       "description_width": ""
      }
     },
     "a47826f0acd64f1fa3e985e94719ca74": {
      "model_module": "@jupyter-widgets/controls",
      "model_module_version": "1.5.0",
      "model_name": "HTMLModel",
      "state": {
       "_dom_classes": [],
       "_model_module": "@jupyter-widgets/controls",
       "_model_module_version": "1.5.0",
       "_model_name": "HTMLModel",
       "_view_count": null,
       "_view_module": "@jupyter-widgets/controls",
       "_view_module_version": "1.5.0",
       "_view_name": "HTMLView",
       "description": "",
       "description_tooltip": null,
       "layout": "IPY_MODEL_b5f6c678959745a7be11ef5cc70ceb78",
       "placeholder": "​",
       "style": "IPY_MODEL_a2b75817dd88465592844f40c8c842c0",
       "value": "Downloading: 100%"
      }
     },
     "accde019330a464ea296fbf3104534a5": {
      "model_module": "@jupyter-widgets/base",
      "model_module_version": "1.2.0",
      "model_name": "LayoutModel",
      "state": {
       "_model_module": "@jupyter-widgets/base",
       "_model_module_version": "1.2.0",
       "_model_name": "LayoutModel",
       "_view_count": null,
       "_view_module": "@jupyter-widgets/base",
       "_view_module_version": "1.2.0",
       "_view_name": "LayoutView",
       "align_content": null,
       "align_items": null,
       "align_self": null,
       "border": null,
       "bottom": null,
       "display": null,
       "flex": null,
       "flex_flow": null,
       "grid_area": null,
       "grid_auto_columns": null,
       "grid_auto_flow": null,
       "grid_auto_rows": null,
       "grid_column": null,
       "grid_gap": null,
       "grid_row": null,
       "grid_template_areas": null,
       "grid_template_columns": null,
       "grid_template_rows": null,
       "height": null,
       "justify_content": null,
       "justify_items": null,
       "left": null,
       "margin": null,
       "max_height": null,
       "max_width": null,
       "min_height": null,
       "min_width": null,
       "object_fit": null,
       "object_position": null,
       "order": null,
       "overflow": null,
       "overflow_x": null,
       "overflow_y": null,
       "padding": null,
       "right": null,
       "top": null,
       "visibility": null,
       "width": null
      }
     },
     "ace05c95af4f4439a9d2b916604bf564": {
      "model_module": "@jupyter-widgets/controls",
      "model_module_version": "1.5.0",
      "model_name": "FloatProgressModel",
      "state": {
       "_dom_classes": [],
       "_model_module": "@jupyter-widgets/controls",
       "_model_module_version": "1.5.0",
       "_model_name": "FloatProgressModel",
       "_view_count": null,
       "_view_module": "@jupyter-widgets/controls",
       "_view_module_version": "1.5.0",
       "_view_name": "ProgressView",
       "bar_style": "success",
       "description": "",
       "description_tooltip": null,
       "layout": "IPY_MODEL_d87d27cd78664ce2a604eeba2f5fa7fe",
       "max": 466.0,
       "min": 0.0,
       "orientation": "horizontal",
       "style": "IPY_MODEL_ea006b1b41c64bcd85a0eb4c30de5285",
       "value": 466.0
      }
     },
     "b2eab20c12e340f5a1e0232a75cb74d2": {
      "model_module": "@jupyter-widgets/base",
      "model_module_version": "1.2.0",
      "model_name": "LayoutModel",
      "state": {
       "_model_module": "@jupyter-widgets/base",
       "_model_module_version": "1.2.0",
       "_model_name": "LayoutModel",
       "_view_count": null,
       "_view_module": "@jupyter-widgets/base",
       "_view_module_version": "1.2.0",
       "_view_name": "LayoutView",
       "align_content": null,
       "align_items": null,
       "align_self": null,
       "border": null,
       "bottom": null,
       "display": null,
       "flex": null,
       "flex_flow": null,
       "grid_area": null,
       "grid_auto_columns": null,
       "grid_auto_flow": null,
       "grid_auto_rows": null,
       "grid_column": null,
       "grid_gap": null,
       "grid_row": null,
       "grid_template_areas": null,
       "grid_template_columns": null,
       "grid_template_rows": null,
       "height": null,
       "justify_content": null,
       "justify_items": null,
       "left": null,
       "margin": null,
       "max_height": null,
       "max_width": null,
       "min_height": null,
       "min_width": null,
       "object_fit": null,
       "object_position": null,
       "order": null,
       "overflow": null,
       "overflow_x": null,
       "overflow_y": null,
       "padding": null,
       "right": null,
       "top": null,
       "visibility": null,
       "width": null
      }
     },
     "b5334ddb6ec54259b57e52447f31587b": {
      "model_module": "@jupyter-widgets/controls",
      "model_module_version": "1.5.0",
      "model_name": "DescriptionStyleModel",
      "state": {
       "_model_module": "@jupyter-widgets/controls",
       "_model_module_version": "1.5.0",
       "_model_name": "DescriptionStyleModel",
       "_view_count": null,
       "_view_module": "@jupyter-widgets/base",
       "_view_module_version": "1.2.0",
       "_view_name": "StyleView",
       "description_width": ""
      }
     },
     "b5f6c678959745a7be11ef5cc70ceb78": {
      "model_module": "@jupyter-widgets/base",
      "model_module_version": "1.2.0",
      "model_name": "LayoutModel",
      "state": {
       "_model_module": "@jupyter-widgets/base",
       "_model_module_version": "1.2.0",
       "_model_name": "LayoutModel",
       "_view_count": null,
       "_view_module": "@jupyter-widgets/base",
       "_view_module_version": "1.2.0",
       "_view_name": "LayoutView",
       "align_content": null,
       "align_items": null,
       "align_self": null,
       "border": null,
       "bottom": null,
       "display": null,
       "flex": null,
       "flex_flow": null,
       "grid_area": null,
       "grid_auto_columns": null,
       "grid_auto_flow": null,
       "grid_auto_rows": null,
       "grid_column": null,
       "grid_gap": null,
       "grid_row": null,
       "grid_template_areas": null,
       "grid_template_columns": null,
       "grid_template_rows": null,
       "height": null,
       "justify_content": null,
       "justify_items": null,
       "left": null,
       "margin": null,
       "max_height": null,
       "max_width": null,
       "min_height": null,
       "min_width": null,
       "object_fit": null,
       "object_position": null,
       "order": null,
       "overflow": null,
       "overflow_x": null,
       "overflow_y": null,
       "padding": null,
       "right": null,
       "top": null,
       "visibility": null,
       "width": null
      }
     },
     "b8ea2b0288864dbf8719a610363e8e71": {
      "model_module": "@jupyter-widgets/base",
      "model_module_version": "1.2.0",
      "model_name": "LayoutModel",
      "state": {
       "_model_module": "@jupyter-widgets/base",
       "_model_module_version": "1.2.0",
       "_model_name": "LayoutModel",
       "_view_count": null,
       "_view_module": "@jupyter-widgets/base",
       "_view_module_version": "1.2.0",
       "_view_name": "LayoutView",
       "align_content": null,
       "align_items": null,
       "align_self": null,
       "border": null,
       "bottom": null,
       "display": null,
       "flex": null,
       "flex_flow": null,
       "grid_area": null,
       "grid_auto_columns": null,
       "grid_auto_flow": null,
       "grid_auto_rows": null,
       "grid_column": null,
       "grid_gap": null,
       "grid_row": null,
       "grid_template_areas": null,
       "grid_template_columns": null,
       "grid_template_rows": null,
       "height": null,
       "justify_content": null,
       "justify_items": null,
       "left": null,
       "margin": null,
       "max_height": null,
       "max_width": null,
       "min_height": null,
       "min_width": null,
       "object_fit": null,
       "object_position": null,
       "order": null,
       "overflow": null,
       "overflow_x": null,
       "overflow_y": null,
       "padding": null,
       "right": null,
       "top": null,
       "visibility": null,
       "width": null
      }
     },
     "bb9a871605304fd4aa3418234a2652c8": {
      "model_module": "@jupyter-widgets/controls",
      "model_module_version": "1.5.0",
      "model_name": "ProgressStyleModel",
      "state": {
       "_model_module": "@jupyter-widgets/controls",
       "_model_module_version": "1.5.0",
       "_model_name": "ProgressStyleModel",
       "_view_count": null,
       "_view_module": "@jupyter-widgets/base",
       "_view_module_version": "1.2.0",
       "_view_name": "StyleView",
       "bar_color": null,
       "description_width": ""
      }
     },
     "bd6ba989984a43feb1df3332040fdd13": {
      "model_module": "@jupyter-widgets/controls",
      "model_module_version": "1.5.0",
      "model_name": "HTMLModel",
      "state": {
       "_dom_classes": [],
       "_model_module": "@jupyter-widgets/controls",
       "_model_module_version": "1.5.0",
       "_model_name": "HTMLModel",
       "_view_count": null,
       "_view_module": "@jupyter-widgets/controls",
       "_view_module_version": "1.5.0",
       "_view_name": "HTMLView",
       "description": "",
       "description_tooltip": null,
       "layout": "IPY_MODEL_12f78012bbe449a49b581f9c96a0eb8b",
       "placeholder": "​",
       "style": "IPY_MODEL_6858f55505a74c57b4c149132e992ba1",
       "value": "Downloading: 100%"
      }
     },
     "c86ae6aa3b2d4b1abe622bd6dd8173cb": {
      "model_module": "@jupyter-widgets/base",
      "model_module_version": "1.2.0",
      "model_name": "LayoutModel",
      "state": {
       "_model_module": "@jupyter-widgets/base",
       "_model_module_version": "1.2.0",
       "_model_name": "LayoutModel",
       "_view_count": null,
       "_view_module": "@jupyter-widgets/base",
       "_view_module_version": "1.2.0",
       "_view_name": "LayoutView",
       "align_content": null,
       "align_items": null,
       "align_self": null,
       "border": null,
       "bottom": null,
       "display": null,
       "flex": null,
       "flex_flow": null,
       "grid_area": null,
       "grid_auto_columns": null,
       "grid_auto_flow": null,
       "grid_auto_rows": null,
       "grid_column": null,
       "grid_gap": null,
       "grid_row": null,
       "grid_template_areas": null,
       "grid_template_columns": null,
       "grid_template_rows": null,
       "height": null,
       "justify_content": null,
       "justify_items": null,
       "left": null,
       "margin": null,
       "max_height": null,
       "max_width": null,
       "min_height": null,
       "min_width": null,
       "object_fit": null,
       "object_position": null,
       "order": null,
       "overflow": null,
       "overflow_x": null,
       "overflow_y": null,
       "padding": null,
       "right": null,
       "top": null,
       "visibility": null,
       "width": null
      }
     },
     "c89a8127c5d54b94a3d939cfd0d90f7f": {
      "model_module": "@jupyter-widgets/base",
      "model_module_version": "1.2.0",
      "model_name": "LayoutModel",
      "state": {
       "_model_module": "@jupyter-widgets/base",
       "_model_module_version": "1.2.0",
       "_model_name": "LayoutModel",
       "_view_count": null,
       "_view_module": "@jupyter-widgets/base",
       "_view_module_version": "1.2.0",
       "_view_name": "LayoutView",
       "align_content": null,
       "align_items": null,
       "align_self": null,
       "border": null,
       "bottom": null,
       "display": null,
       "flex": null,
       "flex_flow": null,
       "grid_area": null,
       "grid_auto_columns": null,
       "grid_auto_flow": null,
       "grid_auto_rows": null,
       "grid_column": null,
       "grid_gap": null,
       "grid_row": null,
       "grid_template_areas": null,
       "grid_template_columns": null,
       "grid_template_rows": null,
       "height": null,
       "justify_content": null,
       "justify_items": null,
       "left": null,
       "margin": null,
       "max_height": null,
       "max_width": null,
       "min_height": null,
       "min_width": null,
       "object_fit": null,
       "object_position": null,
       "order": null,
       "overflow": null,
       "overflow_x": null,
       "overflow_y": null,
       "padding": null,
       "right": null,
       "top": null,
       "visibility": null,
       "width": null
      }
     },
     "ca32028707ff4c4f953598c983738f39": {
      "model_module": "@jupyter-widgets/controls",
      "model_module_version": "1.5.0",
      "model_name": "HTMLModel",
      "state": {
       "_dom_classes": [],
       "_model_module": "@jupyter-widgets/controls",
       "_model_module_version": "1.5.0",
       "_model_name": "HTMLModel",
       "_view_count": null,
       "_view_module": "@jupyter-widgets/controls",
       "_view_module_version": "1.5.0",
       "_view_name": "HTMLView",
       "description": "",
       "description_tooltip": null,
       "layout": "IPY_MODEL_76016688e1364e7497d3034473a987da",
       "placeholder": "​",
       "style": "IPY_MODEL_99d704ee003a474e97b2fdbde3724e4c",
       "value": "Downloading: 100%"
      }
     },
     "cd9b55b7c0254e339f8ade00f0139486": {
      "model_module": "@jupyter-widgets/base",
      "model_module_version": "1.2.0",
      "model_name": "LayoutModel",
      "state": {
       "_model_module": "@jupyter-widgets/base",
       "_model_module_version": "1.2.0",
       "_model_name": "LayoutModel",
       "_view_count": null,
       "_view_module": "@jupyter-widgets/base",
       "_view_module_version": "1.2.0",
       "_view_name": "LayoutView",
       "align_content": null,
       "align_items": null,
       "align_self": null,
       "border": null,
       "bottom": null,
       "display": null,
       "flex": null,
       "flex_flow": null,
       "grid_area": null,
       "grid_auto_columns": null,
       "grid_auto_flow": null,
       "grid_auto_rows": null,
       "grid_column": null,
       "grid_gap": null,
       "grid_row": null,
       "grid_template_areas": null,
       "grid_template_columns": null,
       "grid_template_rows": null,
       "height": null,
       "justify_content": null,
       "justify_items": null,
       "left": null,
       "margin": null,
       "max_height": null,
       "max_width": null,
       "min_height": null,
       "min_width": null,
       "object_fit": null,
       "object_position": null,
       "order": null,
       "overflow": null,
       "overflow_x": null,
       "overflow_y": null,
       "padding": null,
       "right": null,
       "top": null,
       "visibility": null,
       "width": null
      }
     },
     "cead2b3d5f65400daabd75be4d9ebe03": {
      "model_module": "@jupyter-widgets/controls",
      "model_module_version": "1.5.0",
      "model_name": "HTMLModel",
      "state": {
       "_dom_classes": [],
       "_model_module": "@jupyter-widgets/controls",
       "_model_module_version": "1.5.0",
       "_model_name": "HTMLModel",
       "_view_count": null,
       "_view_module": "@jupyter-widgets/controls",
       "_view_module_version": "1.5.0",
       "_view_name": "HTMLView",
       "description": "",
       "description_tooltip": null,
       "layout": "IPY_MODEL_90dce28267844efbb510d46e913b464f",
       "placeholder": "​",
       "style": "IPY_MODEL_a0ee331573614f24bb3caba9cf789413",
       "value": "100%"
      }
     },
     "cfeae771cb45426bbd3f719687a5319e": {
      "model_module": "@jupyter-widgets/base",
      "model_module_version": "1.2.0",
      "model_name": "LayoutModel",
      "state": {
       "_model_module": "@jupyter-widgets/base",
       "_model_module_version": "1.2.0",
       "_model_name": "LayoutModel",
       "_view_count": null,
       "_view_module": "@jupyter-widgets/base",
       "_view_module_version": "1.2.0",
       "_view_name": "LayoutView",
       "align_content": null,
       "align_items": null,
       "align_self": null,
       "border": null,
       "bottom": null,
       "display": null,
       "flex": null,
       "flex_flow": null,
       "grid_area": null,
       "grid_auto_columns": null,
       "grid_auto_flow": null,
       "grid_auto_rows": null,
       "grid_column": null,
       "grid_gap": null,
       "grid_row": null,
       "grid_template_areas": null,
       "grid_template_columns": null,
       "grid_template_rows": null,
       "height": null,
       "justify_content": null,
       "justify_items": null,
       "left": null,
       "margin": null,
       "max_height": null,
       "max_width": null,
       "min_height": null,
       "min_width": null,
       "object_fit": null,
       "object_position": null,
       "order": null,
       "overflow": null,
       "overflow_x": null,
       "overflow_y": null,
       "padding": null,
       "right": null,
       "top": null,
       "visibility": null,
       "width": null
      }
     },
     "d65cbb8222f14d99a260733d64d6f178": {
      "model_module": "@jupyter-widgets/controls",
      "model_module_version": "1.5.0",
      "model_name": "DescriptionStyleModel",
      "state": {
       "_model_module": "@jupyter-widgets/controls",
       "_model_module_version": "1.5.0",
       "_model_name": "DescriptionStyleModel",
       "_view_count": null,
       "_view_module": "@jupyter-widgets/base",
       "_view_module_version": "1.2.0",
       "_view_name": "StyleView",
       "description_width": ""
      }
     },
     "d87d27cd78664ce2a604eeba2f5fa7fe": {
      "model_module": "@jupyter-widgets/base",
      "model_module_version": "1.2.0",
      "model_name": "LayoutModel",
      "state": {
       "_model_module": "@jupyter-widgets/base",
       "_model_module_version": "1.2.0",
       "_model_name": "LayoutModel",
       "_view_count": null,
       "_view_module": "@jupyter-widgets/base",
       "_view_module_version": "1.2.0",
       "_view_name": "LayoutView",
       "align_content": null,
       "align_items": null,
       "align_self": null,
       "border": null,
       "bottom": null,
       "display": null,
       "flex": null,
       "flex_flow": null,
       "grid_area": null,
       "grid_auto_columns": null,
       "grid_auto_flow": null,
       "grid_auto_rows": null,
       "grid_column": null,
       "grid_gap": null,
       "grid_row": null,
       "grid_template_areas": null,
       "grid_template_columns": null,
       "grid_template_rows": null,
       "height": null,
       "justify_content": null,
       "justify_items": null,
       "left": null,
       "margin": null,
       "max_height": null,
       "max_width": null,
       "min_height": null,
       "min_width": null,
       "object_fit": null,
       "object_position": null,
       "order": null,
       "overflow": null,
       "overflow_x": null,
       "overflow_y": null,
       "padding": null,
       "right": null,
       "top": null,
       "visibility": null,
       "width": null
      }
     },
     "e1176fd02a354fe59678890143e4b526": {
      "model_module": "@jupyter-widgets/controls",
      "model_module_version": "1.5.0",
      "model_name": "HTMLModel",
      "state": {
       "_dom_classes": [],
       "_model_module": "@jupyter-widgets/controls",
       "_model_module_version": "1.5.0",
       "_model_name": "HTMLModel",
       "_view_count": null,
       "_view_module": "@jupyter-widgets/controls",
       "_view_module_version": "1.5.0",
       "_view_name": "HTMLView",
       "description": "",
       "description_tooltip": null,
       "layout": "IPY_MODEL_6f7d4269c2454c558f0f8bda4ba28118",
       "placeholder": "​",
       "style": "IPY_MODEL_8d130b96eb86410eb3d650e086d2cb8c",
       "value": " 466/466 [00:00&lt;00:00, 15.7kB/s]"
      }
     },
     "ea006b1b41c64bcd85a0eb4c30de5285": {
      "model_module": "@jupyter-widgets/controls",
      "model_module_version": "1.5.0",
      "model_name": "ProgressStyleModel",
      "state": {
       "_model_module": "@jupyter-widgets/controls",
       "_model_module_version": "1.5.0",
       "_model_name": "ProgressStyleModel",
       "_view_count": null,
       "_view_module": "@jupyter-widgets/base",
       "_view_module_version": "1.2.0",
       "_view_name": "StyleView",
       "bar_color": null,
       "description_width": ""
      }
     },
     "ea1baf959fcb42eeb9bdd06e68457d61": {
      "model_module": "@jupyter-widgets/controls",
      "model_module_version": "1.5.0",
      "model_name": "HTMLModel",
      "state": {
       "_dom_classes": [],
       "_model_module": "@jupyter-widgets/controls",
       "_model_module_version": "1.5.0",
       "_model_name": "HTMLModel",
       "_view_count": null,
       "_view_module": "@jupyter-widgets/controls",
       "_view_module_version": "1.5.0",
       "_view_name": "HTMLView",
       "description": "",
       "description_tooltip": null,
       "layout": "IPY_MODEL_c86ae6aa3b2d4b1abe622bd6dd8173cb",
       "placeholder": "​",
       "style": "IPY_MODEL_47efceaa10d141aba82e41b33e70b370",
       "value": "Downloading: 100%"
      }
     },
     "ea56b4db9a36406181bd58ff047aa875": {
      "model_module": "@jupyter-widgets/controls",
      "model_module_version": "1.5.0",
      "model_name": "HTMLModel",
      "state": {
       "_dom_classes": [],
       "_model_module": "@jupyter-widgets/controls",
       "_model_module_version": "1.5.0",
       "_model_name": "HTMLModel",
       "_view_count": null,
       "_view_module": "@jupyter-widgets/controls",
       "_view_module_version": "1.5.0",
       "_view_name": "HTMLView",
       "description": "",
       "description_tooltip": null,
       "layout": "IPY_MODEL_a0cfde72d7c74a31a0ff48fd2dca7516",
       "placeholder": "​",
       "style": "IPY_MODEL_b5334ddb6ec54259b57e52447f31587b",
       "value": " 517M/517M [00:24&lt;00:00, 23.2MB/s]"
      }
     },
     "eb96d7337ab44035a4afdc7911355777": {
      "model_module": "@jupyter-widgets/controls",
      "model_module_version": "1.5.0",
      "model_name": "FloatProgressModel",
      "state": {
       "_dom_classes": [],
       "_model_module": "@jupyter-widgets/controls",
       "_model_module_version": "1.5.0",
       "_model_name": "FloatProgressModel",
       "_view_count": null,
       "_view_module": "@jupyter-widgets/controls",
       "_view_module_version": "1.5.0",
       "_view_name": "ProgressView",
       "bar_style": "success",
       "description": "",
       "description_tooltip": null,
       "layout": "IPY_MODEL_c89a8127c5d54b94a3d939cfd0d90f7f",
       "max": 29.0,
       "min": 0.0,
       "orientation": "horizontal",
       "style": "IPY_MODEL_bb9a871605304fd4aa3418234a2652c8",
       "value": 29.0
      }
     },
     "ecb7226ad8bd4be0979ca77fbf40b25d": {
      "model_module": "@jupyter-widgets/controls",
      "model_module_version": "1.5.0",
      "model_name": "ProgressStyleModel",
      "state": {
       "_model_module": "@jupyter-widgets/controls",
       "_model_module_version": "1.5.0",
       "_model_name": "ProgressStyleModel",
       "_view_count": null,
       "_view_module": "@jupyter-widgets/base",
       "_view_module_version": "1.2.0",
       "_view_name": "StyleView",
       "bar_color": null,
       "description_width": ""
      }
     },
     "ee22f94d966a4d1da658b743a032f0db": {
      "model_module": "@jupyter-widgets/controls",
      "model_module_version": "1.5.0",
      "model_name": "HBoxModel",
      "state": {
       "_dom_classes": [],
       "_model_module": "@jupyter-widgets/controls",
       "_model_module_version": "1.5.0",
       "_model_name": "HBoxModel",
       "_view_count": null,
       "_view_module": "@jupyter-widgets/controls",
       "_view_module_version": "1.5.0",
       "_view_name": "HBoxView",
       "box_style": "",
       "children": [
        "IPY_MODEL_ea1baf959fcb42eeb9bdd06e68457d61",
        "IPY_MODEL_ace05c95af4f4439a9d2b916604bf564",
        "IPY_MODEL_e1176fd02a354fe59678890143e4b526"
       ],
       "layout": "IPY_MODEL_accde019330a464ea296fbf3104534a5"
      }
     },
     "ee4be7d9f49246fc8ce4ef9a6adc19d1": {
      "model_module": "@jupyter-widgets/controls",
      "model_module_version": "1.5.0",
      "model_name": "HTMLModel",
      "state": {
       "_dom_classes": [],
       "_model_module": "@jupyter-widgets/controls",
       "_model_module_version": "1.5.0",
       "_model_name": "HTMLModel",
       "_view_count": null,
       "_view_module": "@jupyter-widgets/controls",
       "_view_module_version": "1.5.0",
       "_view_name": "HTMLView",
       "description": "",
       "description_tooltip": null,
       "layout": "IPY_MODEL_b2eab20c12e340f5a1e0232a75cb74d2",
       "placeholder": "​",
       "style": "IPY_MODEL_a163272343024049967ee74451d573cc",
       "value": "Downloading: 100%"
      }
     },
     "eec5b3880b06410b92b74d6181806f54": {
      "model_module": "@jupyter-widgets/controls",
      "model_module_version": "1.5.0",
      "model_name": "DescriptionStyleModel",
      "state": {
       "_model_module": "@jupyter-widgets/controls",
       "_model_module_version": "1.5.0",
       "_model_name": "DescriptionStyleModel",
       "_view_count": null,
       "_view_module": "@jupyter-widgets/base",
       "_view_module_version": "1.2.0",
       "_view_name": "StyleView",
       "description_width": ""
      }
     },
     "f3b19e6f6c2d4d3aa287f6db262656dc": {
      "model_module": "@jupyter-widgets/controls",
      "model_module_version": "1.5.0",
      "model_name": "ProgressStyleModel",
      "state": {
       "_model_module": "@jupyter-widgets/controls",
       "_model_module_version": "1.5.0",
       "_model_name": "ProgressStyleModel",
       "_view_count": null,
       "_view_module": "@jupyter-widgets/base",
       "_view_module_version": "1.2.0",
       "_view_name": "StyleView",
       "bar_color": null,
       "description_width": ""
      }
     },
     "f4fc1636b91b4be0b853314d9a42ce5b": {
      "model_module": "@jupyter-widgets/base",
      "model_module_version": "1.2.0",
      "model_name": "LayoutModel",
      "state": {
       "_model_module": "@jupyter-widgets/base",
       "_model_module_version": "1.2.0",
       "_model_name": "LayoutModel",
       "_view_count": null,
       "_view_module": "@jupyter-widgets/base",
       "_view_module_version": "1.2.0",
       "_view_name": "LayoutView",
       "align_content": null,
       "align_items": null,
       "align_self": null,
       "border": null,
       "bottom": null,
       "display": null,
       "flex": null,
       "flex_flow": null,
       "grid_area": null,
       "grid_auto_columns": null,
       "grid_auto_flow": null,
       "grid_auto_rows": null,
       "grid_column": null,
       "grid_gap": null,
       "grid_row": null,
       "grid_template_areas": null,
       "grid_template_columns": null,
       "grid_template_rows": null,
       "height": null,
       "justify_content": null,
       "justify_items": null,
       "left": null,
       "margin": null,
       "max_height": null,
       "max_width": null,
       "min_height": null,
       "min_width": null,
       "object_fit": null,
       "object_position": null,
       "order": null,
       "overflow": null,
       "overflow_x": null,
       "overflow_y": null,
       "padding": null,
       "right": null,
       "top": null,
       "visibility": null,
       "width": null
      }
     },
     "f7a88df1798d4624ad61e6bd2ca10307": {
      "model_module": "@jupyter-widgets/controls",
      "model_module_version": "1.5.0",
      "model_name": "ProgressStyleModel",
      "state": {
       "_model_module": "@jupyter-widgets/controls",
       "_model_module_version": "1.5.0",
       "_model_name": "ProgressStyleModel",
       "_view_count": null,
       "_view_module": "@jupyter-widgets/base",
       "_view_module_version": "1.2.0",
       "_view_name": "StyleView",
       "bar_color": null,
       "description_width": ""
      }
     },
     "fbfb05daf5634e0aa5d379edeeffc4be": {
      "model_module": "@jupyter-widgets/controls",
      "model_module_version": "1.5.0",
      "model_name": "FloatProgressModel",
      "state": {
       "_dom_classes": [],
       "_model_module": "@jupyter-widgets/controls",
       "_model_module_version": "1.5.0",
       "_model_name": "FloatProgressModel",
       "_view_count": null,
       "_view_module": "@jupyter-widgets/controls",
       "_view_module_version": "1.5.0",
       "_view_name": "ProgressView",
       "bar_style": "success",
       "description": "",
       "description_tooltip": null,
       "layout": "IPY_MODEL_02ebcdb1b35e4992b4f095f77df3e7e4",
       "max": 626.0,
       "min": 0.0,
       "orientation": "horizontal",
       "style": "IPY_MODEL_ecb7226ad8bd4be0979ca77fbf40b25d",
       "value": 626.0
      }
     },
     "ff998b5034f64b45a3222a17c6df6906": {
      "model_module": "@jupyter-widgets/base",
      "model_module_version": "1.2.0",
      "model_name": "LayoutModel",
      "state": {
       "_model_module": "@jupyter-widgets/base",
       "_model_module_version": "1.2.0",
       "_model_name": "LayoutModel",
       "_view_count": null,
       "_view_module": "@jupyter-widgets/base",
       "_view_module_version": "1.2.0",
       "_view_name": "LayoutView",
       "align_content": null,
       "align_items": null,
       "align_self": null,
       "border": null,
       "bottom": null,
       "display": null,
       "flex": null,
       "flex_flow": null,
       "grid_area": null,
       "grid_auto_columns": null,
       "grid_auto_flow": null,
       "grid_auto_rows": null,
       "grid_column": null,
       "grid_gap": null,
       "grid_row": null,
       "grid_template_areas": null,
       "grid_template_columns": null,
       "grid_template_rows": null,
       "height": null,
       "justify_content": null,
       "justify_items": null,
       "left": null,
       "margin": null,
       "max_height": null,
       "max_width": null,
       "min_height": null,
       "min_width": null,
       "object_fit": null,
       "object_position": null,
       "order": null,
       "overflow": null,
       "overflow_x": null,
       "overflow_y": null,
       "padding": null,
       "right": null,
       "top": null,
       "visibility": null,
       "width": null
      }
     }
    },
    "version_major": 2,
    "version_minor": 0
   }
  }
 },
 "nbformat": 4,
 "nbformat_minor": 5
}
