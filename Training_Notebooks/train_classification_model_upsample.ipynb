{
 "cells": [
  {
   "cell_type": "code",
   "execution_count": 1,
   "id": "97f5bd5a",
   "metadata": {
    "_cell_guid": "b1076dfc-b9ad-4769-8c92-a6c4dae69d19",
    "_uuid": "8f2839f25d086af736a60e9eeb907d3b93b6e0e5",
    "execution": {
     "iopub.execute_input": "2022-05-09T13:51:09.794577Z",
     "iopub.status.busy": "2022-05-09T13:51:09.793097Z",
     "iopub.status.idle": "2022-05-09T13:51:09.822636Z",
     "shell.execute_reply": "2022-05-09T13:51:09.822139Z",
     "shell.execute_reply.started": "2022-05-09T13:45:38.091148Z"
    },
    "papermill": {
     "duration": 0.061496,
     "end_time": "2022-05-09T13:51:09.822761",
     "exception": false,
     "start_time": "2022-05-09T13:51:09.761265",
     "status": "completed"
    },
    "tags": []
   },
   "outputs": [
    {
     "name": "stdout",
     "output_type": "stream",
     "text": [
      "/kaggle/input/pointwiseclassification/classification_dataset.tsv\n",
      "/kaggle/input/pointwiseclassificationcheckpoints/checkpoint-78174/config.json\n",
      "/kaggle/input/pointwiseclassificationcheckpoints/checkpoint-78174/trainer_state.json\n",
      "/kaggle/input/pointwiseclassificationcheckpoints/checkpoint-78174/training_args.bin\n",
      "/kaggle/input/pointwiseclassificationcheckpoints/checkpoint-78174/tokenizer.json\n",
      "/kaggle/input/pointwiseclassificationcheckpoints/checkpoint-78174/tokenizer_config.json\n",
      "/kaggle/input/pointwiseclassificationcheckpoints/checkpoint-78174/pytorch_model.bin\n",
      "/kaggle/input/pointwiseclassificationcheckpoints/checkpoint-78174/scheduler.pt\n",
      "/kaggle/input/pointwiseclassificationcheckpoints/checkpoint-78174/special_tokens_map.json\n",
      "/kaggle/input/pointwiseclassificationcheckpoints/checkpoint-78174/optimizer.pt\n",
      "/kaggle/input/pointwiseclassificationcheckpoints/checkpoint-78174/vocab.txt\n",
      "/kaggle/input/pointwiseclassificationcheckpoints/checkpoint-78174/rng_state.pth\n"
     ]
    }
   ],
   "source": [
    "# This Python 3 environment comes with many helpful analytics libraries installed\n",
    "# It is defined by the kaggle/python Docker image: https://github.com/kaggle/docker-python\n",
    "# For example, here's several helpful packages to load\n",
    "\n",
    "import numpy as np # linear algebra\n",
    "import pandas as pd # data processing, CSV file I/O (e.g. pd.read_csv)\n",
    "\n",
    "# Input data files are available in the read-only \"../input/\" directory\n",
    "# For example, running this (by clicking run or pressing Shift+Enter) will list all files under the input directory\n",
    "\n",
    "import os\n",
    "for dirname, _, filenames in os.walk('/kaggle/input'):\n",
    "    for filename in filenames:\n",
    "        print(os.path.join(dirname, filename))\n",
    "\n",
    "# You can write up to 20GB to the current directory (/kaggle/working/) that gets preserved as output when you create a version using \"Save & Run All\" \n",
    "# You can also write temporary files to /kaggle/temp/, but they won't be saved outside of the current session"
   ]
  },
  {
   "cell_type": "code",
   "execution_count": 2,
   "id": "c4d31f60",
   "metadata": {
    "execution": {
     "iopub.execute_input": "2022-05-09T13:51:09.881342Z",
     "iopub.status.busy": "2022-05-09T13:51:09.880679Z",
     "iopub.status.idle": "2022-05-09T13:51:09.883261Z",
     "shell.execute_reply": "2022-05-09T13:51:09.882825Z",
     "shell.execute_reply.started": "2022-05-09T13:48:42.916311Z"
    },
    "papermill": {
     "duration": 0.032778,
     "end_time": "2022-05-09T13:51:09.883371",
     "exception": false,
     "start_time": "2022-05-09T13:51:09.850593",
     "status": "completed"
    },
    "tags": []
   },
   "outputs": [],
   "source": [
    "checkpoint = 'google/electra-small-discriminator'"
   ]
  },
  {
   "cell_type": "code",
   "execution_count": 3,
   "id": "9e190ed5",
   "metadata": {
    "execution": {
     "iopub.execute_input": "2022-05-09T13:51:09.941345Z",
     "iopub.status.busy": "2022-05-09T13:51:09.940653Z",
     "iopub.status.idle": "2022-05-09T13:51:19.115975Z",
     "shell.execute_reply": "2022-05-09T13:51:19.116454Z",
     "shell.execute_reply.started": "2022-05-09T13:48:43.422486Z"
    },
    "papermill": {
     "duration": 9.205905,
     "end_time": "2022-05-09T13:51:19.116626",
     "exception": false,
     "start_time": "2022-05-09T13:51:09.910721",
     "status": "completed"
    },
    "tags": []
   },
   "outputs": [
    {
     "name": "stdout",
     "output_type": "stream",
     "text": [
      "Requirement already satisfied: datasets in /opt/conda/lib/python3.7/site-packages (1.18.4)\r\n",
      "Requirement already satisfied: xxhash in /opt/conda/lib/python3.7/site-packages (from datasets) (3.0.0)\r\n",
      "Requirement already satisfied: huggingface-hub<1.0.0,>=0.1.0 in /opt/conda/lib/python3.7/site-packages (from datasets) (0.4.0)\r\n",
      "Requirement already satisfied: pyarrow!=4.0.0,>=3.0.0 in /opt/conda/lib/python3.7/site-packages (from datasets) (6.0.1)\r\n",
      "Requirement already satisfied: aiohttp in /opt/conda/lib/python3.7/site-packages (from datasets) (3.8.1)\r\n",
      "Requirement already satisfied: pandas in /opt/conda/lib/python3.7/site-packages (from datasets) (1.3.5)\r\n",
      "Requirement already satisfied: packaging in /opt/conda/lib/python3.7/site-packages (from datasets) (21.3)\r\n",
      "Requirement already satisfied: tqdm>=4.62.1 in /opt/conda/lib/python3.7/site-packages (from datasets) (4.62.3)\r\n",
      "Requirement already satisfied: responses<0.19 in /opt/conda/lib/python3.7/site-packages (from datasets) (0.18.0)\r\n",
      "Requirement already satisfied: importlib-metadata in /opt/conda/lib/python3.7/site-packages (from datasets) (4.11.3)\r\n",
      "Requirement already satisfied: requests>=2.19.0 in /opt/conda/lib/python3.7/site-packages (from datasets) (2.26.0)\r\n",
      "Requirement already satisfied: dill in /opt/conda/lib/python3.7/site-packages (from datasets) (0.3.4)\r\n",
      "Requirement already satisfied: numpy>=1.17 in /opt/conda/lib/python3.7/site-packages (from datasets) (1.20.3)\r\n",
      "Requirement already satisfied: multiprocess in /opt/conda/lib/python3.7/site-packages (from datasets) (0.70.12.2)\r\n",
      "Requirement already satisfied: fsspec[http]>=2021.05.0 in /opt/conda/lib/python3.7/site-packages (from datasets) (2022.2.0)\r\n",
      "Requirement already satisfied: pyyaml in /opt/conda/lib/python3.7/site-packages (from huggingface-hub<1.0.0,>=0.1.0->datasets) (6.0)\r\n",
      "Requirement already satisfied: filelock in /opt/conda/lib/python3.7/site-packages (from huggingface-hub<1.0.0,>=0.1.0->datasets) (3.6.0)\r\n",
      "Requirement already satisfied: typing-extensions>=3.7.4.3 in /opt/conda/lib/python3.7/site-packages (from huggingface-hub<1.0.0,>=0.1.0->datasets) (4.1.1)\r\n",
      "Requirement already satisfied: pyparsing!=3.0.5,>=2.0.2 in /opt/conda/lib/python3.7/site-packages (from packaging->datasets) (3.0.6)\r\n",
      "Requirement already satisfied: charset-normalizer~=2.0.0 in /opt/conda/lib/python3.7/site-packages (from requests>=2.19.0->datasets) (2.0.9)\r\n",
      "Requirement already satisfied: certifi>=2017.4.17 in /opt/conda/lib/python3.7/site-packages (from requests>=2.19.0->datasets) (2021.10.8)\r\n",
      "Requirement already satisfied: idna<4,>=2.5 in /opt/conda/lib/python3.7/site-packages (from requests>=2.19.0->datasets) (3.1)\r\n",
      "Requirement already satisfied: urllib3<1.27,>=1.21.1 in /opt/conda/lib/python3.7/site-packages (from requests>=2.19.0->datasets) (1.26.7)\r\n",
      "Requirement already satisfied: aiosignal>=1.1.2 in /opt/conda/lib/python3.7/site-packages (from aiohttp->datasets) (1.2.0)\r\n",
      "Requirement already satisfied: yarl<2.0,>=1.0 in /opt/conda/lib/python3.7/site-packages (from aiohttp->datasets) (1.7.2)\r\n",
      "Requirement already satisfied: multidict<7.0,>=4.5 in /opt/conda/lib/python3.7/site-packages (from aiohttp->datasets) (5.2.0)\r\n",
      "Requirement already satisfied: attrs>=17.3.0 in /opt/conda/lib/python3.7/site-packages (from aiohttp->datasets) (21.2.0)\r\n",
      "Requirement already satisfied: asynctest==0.13.0 in /opt/conda/lib/python3.7/site-packages (from aiohttp->datasets) (0.13.0)\r\n",
      "Requirement already satisfied: frozenlist>=1.1.1 in /opt/conda/lib/python3.7/site-packages (from aiohttp->datasets) (1.2.0)\r\n",
      "Requirement already satisfied: async-timeout<5.0,>=4.0.0a3 in /opt/conda/lib/python3.7/site-packages (from aiohttp->datasets) (4.0.1)\r\n",
      "Requirement already satisfied: zipp>=0.5 in /opt/conda/lib/python3.7/site-packages (from importlib-metadata->datasets) (3.6.0)\r\n",
      "Requirement already satisfied: python-dateutil>=2.7.3 in /opt/conda/lib/python3.7/site-packages (from pandas->datasets) (2.8.2)\r\n",
      "Requirement already satisfied: pytz>=2017.3 in /opt/conda/lib/python3.7/site-packages (from pandas->datasets) (2021.3)\r\n",
      "Requirement already satisfied: six>=1.5 in /opt/conda/lib/python3.7/site-packages (from python-dateutil>=2.7.3->pandas->datasets) (1.16.0)\r\n",
      "\u001b[33mWARNING: Running pip as the 'root' user can result in broken permissions and conflicting behaviour with the system package manager. It is recommended to use a virtual environment instead: https://pip.pypa.io/warnings/venv\u001b[0m\r\n"
     ]
    }
   ],
   "source": [
    "!pip install datasets"
   ]
  },
  {
   "cell_type": "code",
   "execution_count": 4,
   "id": "a2d40150",
   "metadata": {
    "execution": {
     "iopub.execute_input": "2022-05-09T13:51:19.180566Z",
     "iopub.status.busy": "2022-05-09T13:51:19.180054Z",
     "iopub.status.idle": "2022-05-09T13:51:41.999208Z",
     "shell.execute_reply": "2022-05-09T13:51:41.999643Z",
     "shell.execute_reply.started": "2022-05-09T13:48:55.194675Z"
    },
    "papermill": {
     "duration": 22.853822,
     "end_time": "2022-05-09T13:51:41.999805",
     "exception": false,
     "start_time": "2022-05-09T13:51:19.145983",
     "status": "completed"
    },
    "tags": []
   },
   "outputs": [],
   "source": [
    "classify_df = pd.read_csv('/kaggle/input/pointwiseclassification/classification_dataset.tsv', sep='\\t')\n",
    "classify_df.rename(columns={'esci_label': 'label'}, inplace=True)"
   ]
  },
  {
   "cell_type": "code",
   "execution_count": 5,
   "id": "a85394a1",
   "metadata": {
    "execution": {
     "iopub.execute_input": "2022-05-09T13:51:42.064265Z",
     "iopub.status.busy": "2022-05-09T13:51:42.063581Z",
     "iopub.status.idle": "2022-05-09T13:51:43.249824Z",
     "shell.execute_reply": "2022-05-09T13:51:43.249356Z",
     "shell.execute_reply.started": "2022-05-09T13:49:12.220277Z"
    },
    "papermill": {
     "duration": 1.220185,
     "end_time": "2022-05-09T13:51:43.249980",
     "exception": false,
     "start_time": "2022-05-09T13:51:42.029795",
     "status": "completed"
    },
    "tags": []
   },
   "outputs": [],
   "source": [
    "from sklearn.model_selection import train_test_split\n",
    "train = []\n",
    "test = []\n",
    "for label, _df in classify_df.groupby(['label']):\n",
    "    train_df, test_df = train_test_split(_df,test_size=0.2, random_state=5)\n",
    "    train.append(train_df)\n",
    "    test.append(test_df)"
   ]
  },
  {
   "cell_type": "code",
   "execution_count": 6,
   "id": "8aab34a1",
   "metadata": {
    "execution": {
     "iopub.execute_input": "2022-05-09T13:51:43.322400Z",
     "iopub.status.busy": "2022-05-09T13:51:43.321525Z",
     "iopub.status.idle": "2022-05-09T13:51:43.355491Z",
     "shell.execute_reply": "2022-05-09T13:51:43.355855Z",
     "shell.execute_reply.started": "2022-05-09T13:49:12.850897Z"
    },
    "papermill": {
     "duration": 0.074503,
     "end_time": "2022-05-09T13:51:43.356017",
     "exception": false,
     "start_time": "2022-05-09T13:51:43.281514",
     "status": "completed"
    },
    "tags": []
   },
   "outputs": [],
   "source": [
    "train_df = pd.concat(train, ignore_index=True)\n",
    "test_df = pd.concat(test, ignore_index=True)"
   ]
  },
  {
   "cell_type": "code",
   "execution_count": 7,
   "id": "fdf0085e",
   "metadata": {
    "execution": {
     "iopub.execute_input": "2022-05-09T13:51:43.428315Z",
     "iopub.status.busy": "2022-05-09T13:51:43.427584Z",
     "iopub.status.idle": "2022-05-09T13:51:43.613446Z",
     "shell.execute_reply": "2022-05-09T13:51:43.612923Z",
     "shell.execute_reply.started": "2022-05-09T13:49:12.938464Z"
    },
    "papermill": {
     "duration": 0.227938,
     "end_time": "2022-05-09T13:51:43.613585",
     "exception": false,
     "start_time": "2022-05-09T13:51:43.385647",
     "status": "completed"
    },
    "tags": []
   },
   "outputs": [],
   "source": [
    "upsampled_train = []\n",
    "sample_frac = {'exact': 0.8, 'substitute': 1.0, 'irrelevant': 2.0, 'complement': 7.8}\n",
    "for label, _df in train_df.groupby(['label']):\n",
    "    upsampled_train.append(_df.sample(frac=sample_frac[label], replace=True, random_state=5))"
   ]
  },
  {
   "cell_type": "code",
   "execution_count": 8,
   "id": "4113a64f",
   "metadata": {
    "execution": {
     "iopub.execute_input": "2022-05-09T13:51:43.731408Z",
     "iopub.status.busy": "2022-05-09T13:51:43.730677Z",
     "iopub.status.idle": "2022-05-09T13:51:43.734415Z",
     "shell.execute_reply": "2022-05-09T13:51:43.733634Z",
     "shell.execute_reply.started": "2022-05-09T13:49:13.281571Z"
    },
    "papermill": {
     "duration": 0.088786,
     "end_time": "2022-05-09T13:51:43.734549",
     "exception": false,
     "start_time": "2022-05-09T13:51:43.645763",
     "status": "completed"
    },
    "tags": []
   },
   "outputs": [],
   "source": [
    "upsample_train_df = pd.concat(upsampled_train, ignore_index=True)"
   ]
  },
  {
   "cell_type": "code",
   "execution_count": 9,
   "id": "39a0803a",
   "metadata": {
    "execution": {
     "iopub.execute_input": "2022-05-09T13:51:43.947154Z",
     "iopub.status.busy": "2022-05-09T13:51:43.946303Z",
     "iopub.status.idle": "2022-05-09T13:51:43.963838Z",
     "shell.execute_reply": "2022-05-09T13:51:43.961265Z",
     "shell.execute_reply.started": "2022-05-09T13:49:13.413713Z"
    },
    "papermill": {
     "duration": 0.198985,
     "end_time": "2022-05-09T13:51:43.964021",
     "exception": false,
     "start_time": "2022-05-09T13:51:43.765036",
     "status": "completed"
    },
    "tags": []
   },
   "outputs": [
    {
     "data": {
      "text/plain": [
       "complement    253032\n",
       "exact         218347\n",
       "substitute    214369\n",
       "irrelevant    211290\n",
       "Name: label, dtype: int64"
      ]
     },
     "execution_count": 9,
     "metadata": {},
     "output_type": "execute_result"
    }
   ],
   "source": [
    "upsample_train_df.label.value_counts()"
   ]
  },
  {
   "cell_type": "code",
   "execution_count": 10,
   "id": "d83dfc02",
   "metadata": {
    "execution": {
     "iopub.execute_input": "2022-05-09T13:51:44.066405Z",
     "iopub.status.busy": "2022-05-09T13:51:44.064189Z",
     "iopub.status.idle": "2022-05-09T13:51:44.067263Z",
     "shell.execute_reply": "2022-05-09T13:51:44.067927Z",
     "shell.execute_reply.started": "2022-05-09T13:49:13.557047Z"
    },
    "papermill": {
     "duration": 0.057249,
     "end_time": "2022-05-09T13:51:44.068106",
     "exception": false,
     "start_time": "2022-05-09T13:51:44.010857",
     "status": "completed"
    },
    "tags": []
   },
   "outputs": [],
   "source": [
    "pd.set_option('display.max_colwidth', None)"
   ]
  },
  {
   "cell_type": "code",
   "execution_count": 11,
   "id": "f219a9df",
   "metadata": {
    "execution": {
     "iopub.execute_input": "2022-05-09T13:51:44.277535Z",
     "iopub.status.busy": "2022-05-09T13:51:44.276550Z",
     "iopub.status.idle": "2022-05-09T13:51:44.326445Z",
     "shell.execute_reply": "2022-05-09T13:51:44.327407Z",
     "shell.execute_reply.started": "2022-05-09T13:49:13.573047Z"
    },
    "papermill": {
     "duration": 0.212207,
     "end_time": "2022-05-09T13:51:44.327599",
     "exception": false,
     "start_time": "2022-05-09T13:51:44.115392",
     "status": "completed"
    },
    "tags": []
   },
   "outputs": [
    {
     "data": {
      "text/html": [
       "<div>\n",
       "<style scoped>\n",
       "    .dataframe tbody tr th:only-of-type {\n",
       "        vertical-align: middle;\n",
       "    }\n",
       "\n",
       "    .dataframe tbody tr th {\n",
       "        vertical-align: top;\n",
       "    }\n",
       "\n",
       "    .dataframe thead th {\n",
       "        text-align: right;\n",
       "    }\n",
       "</style>\n",
       "<table border=\"1\" class=\"dataframe\">\n",
       "  <thead>\n",
       "    <tr style=\"text-align: right;\">\n",
       "      <th></th>\n",
       "      <th>input</th>\n",
       "      <th>label</th>\n",
       "    </tr>\n",
       "  </thead>\n",
       "  <tbody>\n",
       "    <tr>\n",
       "      <th>568055</th>\n",
       "      <td>sew patterns for beginners us [SEP] Wrights Simplicity Learn to Sew-18, 18\" Doll Clothes us Wright's  Create accessories for you and your doll! Choose your fabrics, trace pattern template, cut fabric and sew! This 6x8. 5 inch package contains five exclusive pattern templates and three bonus projects for 18 inch dolls\\nRecommended for ages 8 and up\\nPackage Dimensions: 0.254 L x 15.493 H x 11.937 W (centimeters)\\nPackage Weight: 0.018 kilograms 18\" Doll Clothes</td>\n",
       "      <td>substitute</td>\n",
       "    </tr>\n",
       "    <tr>\n",
       "      <th>568880</th>\n",
       "      <td>primal vanilla powder us [SEP] Garden of Life Raw Organic Protein Vanilla Powder, 20 Servings: Certified Vegan, Gluten Free, Organic, Non-GMO, Plant Based Sugar Free Protein Shake with Probiotics &amp; Enzymes, 4g BCAAs, 22g Protein us Garden of Life  SMOOTH, CREAMY TEXTURE: Get 22g of muscle-building Certified Organic and Non-GMO protein made from peas and raw sprouted seeds, grains and legumes—plus 3 Billion CFU of live probiotics &amp; 13 digestive enzymes—for a delicious blender free protein smoothie\\nCOMPLETE PLANT BASED PROTEIN: Protein and BCAAs after a workout can help your body rebuild broken down muscle and reduce recovery time; Raw Organic Protein is a complete plant protein with all essential amino acids and 4g of naturally occurring BCAA\\nFOUNDATIONAL, ORGANIC FOODS: We combine the cleanest vegan proteins, including organic peas and 13 organic sprouted grains, seeds and legumes, with fat-soluble vitamins A, D, E and K, probiotics and enzymes, to help promote digestive and immune health\\nEASY TO DIGEST: Heat can denature proteins, reducing their availability to your body; Raw Organic Protein is made at low temperatures, preserving its complete amino acid integrity—with live probiotics and protein-digesting enzymes for proper absorption\\nEMPOWERING EXTRAORDINARY HEALTH - We start with what goes IN our products; whole food ingredients and rigorous standards because we believe in truly clean products you can trust. We do it because it’s the only way we know how to deliver on our promise Vanilla</td>\n",
       "      <td>substitute</td>\n",
       "    </tr>\n",
       "    <tr>\n",
       "      <th>446145</th>\n",
       "      <td>iphone xs max case jordan shoes us [SEP] ChyFS Cat iPhone Xs Max Phone Case Black Protective Case for iPhone Xs Max (2018 Release) (Basketball net) us ChyFS</td>\n",
       "      <td>substitute</td>\n",
       "    </tr>\n",
       "    <tr>\n",
       "      <th>531192</th>\n",
       "      <td>black friday drinking shirts for women funny us [SEP] CafePress Professional Coach Drinking T Shirt 100% Cotton T-Shirt Black us CafePress This standard fit short-sleeve t-shirt features a comfortable crew neck and quality construction, making it the perfect graphic tee gift for both men and women. The soft fabric looks as good as it feels, and this tee is durable for everyday wear. Our cute, funny, and unique designs are printed professionally, and make great novelty gifts for him or her, young or old. With CafePress, your satisfaction is always our promise. Buy with confidence, as we offer easy returns and exchanges and a 100% money back guarantee. CASUAL &amp; COMFORTABLE: Our Men's Value T-Shirt delivers classic comfort in a style all his own. With a traditional fit that runs true to size, at a price everyone loves, this is about to become your new favorite shirt!\\nAN EVERYDAY ESSENTIAL: Our short-sleeve crewneck T-shirts are where casual comfort meets self-expression. Wash it in comfort: ; our tees won't shrink! They're made of comfortable, heavyweight 100% preshrunk cotton. Gray colors are made of a heavyweight cotton/polyester blend. A double-needle stitched bottom and hems add extra durability, and they're tagless for added comfort.\\nPROFESSIONALLY PRINTED: Choose from several colors. Expertly printed with sharp, vivid designs, our tees are designed to show off your personality, passions and humor. Imported for final manufacture locally.\\nMADE TO LAST: Our graphic T-shirts will make a statement everywhere you go. Easily machine wash cold with like colors, inside/out, then tumble dry low.\\nIDEAL FOR YOURSELF &amp; A UNIQUE GIFT: Surprise your husband, brother, dad, grandpa, son, uncle or friend, or order one just for you! Our value T-shirts make a unique and thoughtful gift for Christmas, Father's Day and birthdays, or just because! Black</td>\n",
       "      <td>substitute</td>\n",
       "    </tr>\n",
       "    <tr>\n",
       "      <th>584568</th>\n",
       "      <td>cb &amp; two-way radios us [SEP] BaoFeng UV-5R 8W Ham Radio Walkie Talkie Dual Band 2-Way Radio with an Extra 3800mAh Battery Handheld Walkie Talkies with Baofeng Hand Mic and Programming Cable us BAOFENG The Baofeng UV-5RM is a compact HAM radio which is ideal for outdoor/indoor, home, or workplace communications. The package comes with all necessary accessories to support your communication tasks, two battery packs provide you with up to 24 hours of continual communication. Perfect choice for daily communication needs. &lt;br&gt;&lt;b&gt;Specifications:&lt;/b&gt; &lt;br&gt;150-174 MHz and 400-480 MHz (TX/RX) &lt;br&gt;Channel No.: 128 &lt;br&gt;Frequency Stability: ±2.5ppm &lt;br&gt;Operating Voltage: DC 7.4V &lt;br&gt;Dimension（W x H x D）: 100 x 52 x 32 mm &lt;br&gt;Weight: 250g （including battery, antenna） &lt;br&gt; &lt;br&gt;&lt;b&gt;Functions:&lt;/b&gt; &lt;br&gt;2. Dual-Band Display, Dual Freq. Display, Dual-Standby &lt;br&gt;3. Output Power: High /Medium /Low Power Switchable &lt;br&gt;4. Operating Voltage: DC 7.4V &lt;br&gt;5. Battery Capacity: 1800 mAh / 3800 mAh &lt;br&gt;6. Desktop charger input: 100~240V &lt;br&gt;7. 128 Channels 50 CTCSS and 104 DCS &lt;br&gt;8. CTCSS/DCS deviation: 0.5+/-0.1kHz(Wide) / 0.3+/-0.1kHz(Narrow) &lt;br&gt;9. Built-in VOX Function &lt;br&gt;10. 1750Hz Brust Tone &lt;br&gt;12. LED Flashlight &lt;br&gt;13. Large LCD Display &lt;br&gt;14. High /Low RF Power Switchable &lt;br&gt;15. 25KHz/12.5KHz Switchable &lt;br&gt;16. Emergency Alert &lt;br&gt;17. Low Battery Alert &lt;br&gt;18. Battery Saver &lt;br&gt;19. Time-out Timer &lt;br&gt;20. Keypad Lock &lt;br&gt;21. Monitor Channel &lt;br&gt;22. Channel Step: 2.5/5/6.25/10/12.5/25KHz &lt;br&gt;23. ROGER BEEP &lt;br&gt; &lt;br&gt;&lt;b&gt;Package Content&lt;/b&gt; &lt;br&gt;1 × BaoFeng UV-5RM 8W Radio &lt;br&gt;1 × 3800mAh Li-ion Battery &lt;br&gt;1 × 1800mAh Li-ion Battery &lt;br&gt;1 × Programming Cable &lt;br&gt;1 × RH-771 High Gain Antenna &lt;br&gt;1 × Original Antenna &lt;br&gt;1 × Hand Microphone &lt;br&gt;1 × Power Adapter &lt;br&gt;1 × Earpiece &lt;br&gt;1 × Belt Clip &lt;br&gt;1 × Hand Strap &lt;br&gt;1 × User's manual 【Power Output】High /Medium /Low Power Switchable, Programmable Radio Supports Keyboard or PC programming (for Outdoor /Home /Workplace use, etc.)\\n【Power Source】Rechargeable Li-ion Battery packs (Original 1800mAh + Extra 3800 mAh), Support 24 hours continual communication.\\n【Frequency Range】This equipment has been tested and found to comply with the limits for a Class B digital device, pursuant to part 15B and part 90 of the FCC Rules. FCC IDENTIFIER: 2AJGM-UV5RPRO.\\n【More Features】VOX: 0-9 gain level adjustable丨channel step: 2.5/5/6.25/10/12.5/25Khz丨voice Companding: 50 ctcss/ 104DCS coder &amp; tone searching.\\nAnliss Direct (Anliss) is the authorized BaoFeng US Distributor, all Baofeng radios we sell qualifies Baofeng's warranty, we also provide our own 30-day hassle-free return, 18-month warranty on the main unit and 12-month on the parts as well as 6-month free replacement on the battery pack. 1 Pack.</td>\n",
       "      <td>substitute</td>\n",
       "    </tr>\n",
       "  </tbody>\n",
       "</table>\n",
       "</div>"
      ],
      "text/plain": [
       "                                                                                                                                                                                                                                                                                                                                                                                                                                                                                                                                                                                                                                                                                                                                                                                                                                                                                                                                                                                                                                                                                                                                                                                                                                                                                                                                                                                                                                                                                                                                                                                                                                                                                                                                                                                                                                                                                                                                                                                                                                                                                                                                                                                                                                                                                                                                                                                                                                                                                                                                                                                                                                                                                                                                                                                                                                                                             input  \\\n",
       "568055                                                                                                                                                                                                                                                                                                                                                                                                                                                                                                                                                                                                                                                                                                                                                                                                                                                                                                                                                                                                                                                                                                                                                                                                                                                                                                                                                                                                                                                                                                                                                                                                                                                                                                                                                                                                                                                                                                                                                                                                                                                                                                                                                                                                                                                                                                                                                                                            sew patterns for beginners us [SEP] Wrights Simplicity Learn to Sew-18, 18\" Doll Clothes us Wright's  Create accessories for you and your doll! Choose your fabrics, trace pattern template, cut fabric and sew! This 6x8. 5 inch package contains five exclusive pattern templates and three bonus projects for 18 inch dolls\\nRecommended for ages 8 and up\\nPackage Dimensions: 0.254 L x 15.493 H x 11.937 W (centimeters)\\nPackage Weight: 0.018 kilograms 18\" Doll Clothes   \n",
       "568880                                                                                                                                                                                                                                                                                                                                                                                                                                                                                                                                                                                                                                                                                                                                                                                                                                                                                                                                                                                                                                                                                                                                                                                                                                                                                            primal vanilla powder us [SEP] Garden of Life Raw Organic Protein Vanilla Powder, 20 Servings: Certified Vegan, Gluten Free, Organic, Non-GMO, Plant Based Sugar Free Protein Shake with Probiotics & Enzymes, 4g BCAAs, 22g Protein us Garden of Life  SMOOTH, CREAMY TEXTURE: Get 22g of muscle-building Certified Organic and Non-GMO protein made from peas and raw sprouted seeds, grains and legumes—plus 3 Billion CFU of live probiotics & 13 digestive enzymes—for a delicious blender free protein smoothie\\nCOMPLETE PLANT BASED PROTEIN: Protein and BCAAs after a workout can help your body rebuild broken down muscle and reduce recovery time; Raw Organic Protein is a complete plant protein with all essential amino acids and 4g of naturally occurring BCAA\\nFOUNDATIONAL, ORGANIC FOODS: We combine the cleanest vegan proteins, including organic peas and 13 organic sprouted grains, seeds and legumes, with fat-soluble vitamins A, D, E and K, probiotics and enzymes, to help promote digestive and immune health\\nEASY TO DIGEST: Heat can denature proteins, reducing their availability to your body; Raw Organic Protein is made at low temperatures, preserving its complete amino acid integrity—with live probiotics and protein-digesting enzymes for proper absorption\\nEMPOWERING EXTRAORDINARY HEALTH - We start with what goes IN our products; whole food ingredients and rigorous standards because we believe in truly clean products you can trust. We do it because it’s the only way we know how to deliver on our promise Vanilla   \n",
       "446145                                                                                                                                                                                                                                                                                                                                                                                                                                                                                                                                                                                                                                                                                                                                                                                                                                                                                                                                                                                                                                                                                                                                                                                                                                                                                                                                                                                                                                                                                                                                                                                                                                                                                                                                                                                                                                                                                                                                                                                                                                                                                                                                                                                                                                                                                                                                                                                                                                                                                                                                                                                                                                                                                                                iphone xs max case jordan shoes us [SEP] ChyFS Cat iPhone Xs Max Phone Case Black Protective Case for iPhone Xs Max (2018 Release) (Basketball net) us ChyFS   \n",
       "531192                                                                                                                                                                                                                                                                                                                                                                                                                                                                                                                                                                                                                                                                                                                                                                                                                                                                                                                               black friday drinking shirts for women funny us [SEP] CafePress Professional Coach Drinking T Shirt 100% Cotton T-Shirt Black us CafePress This standard fit short-sleeve t-shirt features a comfortable crew neck and quality construction, making it the perfect graphic tee gift for both men and women. The soft fabric looks as good as it feels, and this tee is durable for everyday wear. Our cute, funny, and unique designs are printed professionally, and make great novelty gifts for him or her, young or old. With CafePress, your satisfaction is always our promise. Buy with confidence, as we offer easy returns and exchanges and a 100% money back guarantee. CASUAL & COMFORTABLE: Our Men's Value T-Shirt delivers classic comfort in a style all his own. With a traditional fit that runs true to size, at a price everyone loves, this is about to become your new favorite shirt!\\nAN EVERYDAY ESSENTIAL: Our short-sleeve crewneck T-shirts are where casual comfort meets self-expression. Wash it in comfort: ; our tees won't shrink! They're made of comfortable, heavyweight 100% preshrunk cotton. Gray colors are made of a heavyweight cotton/polyester blend. A double-needle stitched bottom and hems add extra durability, and they're tagless for added comfort.\\nPROFESSIONALLY PRINTED: Choose from several colors. Expertly printed with sharp, vivid designs, our tees are designed to show off your personality, passions and humor. Imported for final manufacture locally.\\nMADE TO LAST: Our graphic T-shirts will make a statement everywhere you go. Easily machine wash cold with like colors, inside/out, then tumble dry low.\\nIDEAL FOR YOURSELF & A UNIQUE GIFT: Surprise your husband, brother, dad, grandpa, son, uncle or friend, or order one just for you! Our value T-shirts make a unique and thoughtful gift for Christmas, Father's Day and birthdays, or just because! Black   \n",
       "584568  cb & two-way radios us [SEP] BaoFeng UV-5R 8W Ham Radio Walkie Talkie Dual Band 2-Way Radio with an Extra 3800mAh Battery Handheld Walkie Talkies with Baofeng Hand Mic and Programming Cable us BAOFENG The Baofeng UV-5RM is a compact HAM radio which is ideal for outdoor/indoor, home, or workplace communications. The package comes with all necessary accessories to support your communication tasks, two battery packs provide you with up to 24 hours of continual communication. Perfect choice for daily communication needs. <br><b>Specifications:</b> <br>150-174 MHz and 400-480 MHz (TX/RX) <br>Channel No.: 128 <br>Frequency Stability: ±2.5ppm <br>Operating Voltage: DC 7.4V <br>Dimension（W x H x D）: 100 x 52 x 32 mm <br>Weight: 250g （including battery, antenna） <br> <br><b>Functions:</b> <br>2. Dual-Band Display, Dual Freq. Display, Dual-Standby <br>3. Output Power: High /Medium /Low Power Switchable <br>4. Operating Voltage: DC 7.4V <br>5. Battery Capacity: 1800 mAh / 3800 mAh <br>6. Desktop charger input: 100~240V <br>7. 128 Channels 50 CTCSS and 104 DCS <br>8. CTCSS/DCS deviation: 0.5+/-0.1kHz(Wide) / 0.3+/-0.1kHz(Narrow) <br>9. Built-in VOX Function <br>10. 1750Hz Brust Tone <br>12. LED Flashlight <br>13. Large LCD Display <br>14. High /Low RF Power Switchable <br>15. 25KHz/12.5KHz Switchable <br>16. Emergency Alert <br>17. Low Battery Alert <br>18. Battery Saver <br>19. Time-out Timer <br>20. Keypad Lock <br>21. Monitor Channel <br>22. Channel Step: 2.5/5/6.25/10/12.5/25KHz <br>23. ROGER BEEP <br> <br><b>Package Content</b> <br>1 × BaoFeng UV-5RM 8W Radio <br>1 × 3800mAh Li-ion Battery <br>1 × 1800mAh Li-ion Battery <br>1 × Programming Cable <br>1 × RH-771 High Gain Antenna <br>1 × Original Antenna <br>1 × Hand Microphone <br>1 × Power Adapter <br>1 × Earpiece <br>1 × Belt Clip <br>1 × Hand Strap <br>1 × User's manual 【Power Output】High /Medium /Low Power Switchable, Programmable Radio Supports Keyboard or PC programming (for Outdoor /Home /Workplace use, etc.)\\n【Power Source】Rechargeable Li-ion Battery packs (Original 1800mAh + Extra 3800 mAh), Support 24 hours continual communication.\\n【Frequency Range】This equipment has been tested and found to comply with the limits for a Class B digital device, pursuant to part 15B and part 90 of the FCC Rules. FCC IDENTIFIER: 2AJGM-UV5RPRO.\\n【More Features】VOX: 0-9 gain level adjustable丨channel step: 2.5/5/6.25/10/12.5/25Khz丨voice Companding: 50 ctcss/ 104DCS coder & tone searching.\\nAnliss Direct (Anliss) is the authorized BaoFeng US Distributor, all Baofeng radios we sell qualifies Baofeng's warranty, we also provide our own 30-day hassle-free return, 18-month warranty on the main unit and 12-month on the parts as well as 6-month free replacement on the battery pack. 1 Pack.   \n",
       "\n",
       "             label  \n",
       "568055  substitute  \n",
       "568880  substitute  \n",
       "446145  substitute  \n",
       "531192  substitute  \n",
       "584568  substitute  "
      ]
     },
     "execution_count": 11,
     "metadata": {},
     "output_type": "execute_result"
    }
   ],
   "source": [
    "train_df[train_df['label'] == 'substitute'].sample(n=5)"
   ]
  },
  {
   "cell_type": "code",
   "execution_count": 12,
   "id": "34fe8631",
   "metadata": {
    "execution": {
     "iopub.execute_input": "2022-05-09T13:51:44.443433Z",
     "iopub.status.busy": "2022-05-09T13:51:44.442682Z",
     "iopub.status.idle": "2022-05-09T13:51:44.448583Z",
     "shell.execute_reply": "2022-05-09T13:51:44.449160Z",
     "shell.execute_reply.started": "2022-05-09T13:49:13.741725Z"
    },
    "papermill": {
     "duration": 0.065096,
     "end_time": "2022-05-09T13:51:44.449341",
     "exception": false,
     "start_time": "2022-05-09T13:51:44.384245",
     "status": "completed"
    },
    "tags": []
   },
   "outputs": [
    {
     "data": {
      "text/html": [
       "<div>\n",
       "<style scoped>\n",
       "    .dataframe tbody tr th:only-of-type {\n",
       "        vertical-align: middle;\n",
       "    }\n",
       "\n",
       "    .dataframe tbody tr th {\n",
       "        vertical-align: top;\n",
       "    }\n",
       "\n",
       "    .dataframe thead th {\n",
       "        text-align: right;\n",
       "    }\n",
       "</style>\n",
       "<table border=\"1\" class=\"dataframe\">\n",
       "  <thead>\n",
       "    <tr style=\"text-align: right;\">\n",
       "      <th></th>\n",
       "      <th>input</th>\n",
       "      <th>label</th>\n",
       "    </tr>\n",
       "  </thead>\n",
       "  <tbody>\n",
       "    <tr>\n",
       "      <th>0</th>\n",
       "      <td>tack cleaner for horses us [SEP] Pack of 12 Tack Sponges us Hydra Sponge Pack of 12 Tack Sponges VALUE PACK of 12 Creative Hobbies Best Quality Synthetic sponges for Painting, Face Painting, Crafts, Pottery, Clay, Household Use &amp; more!\\nNEW IMPROVED FORMULA Synthetic material is soft and absorbent, finishes clay smoothly, is gentle on faces for face painting, and very absorbent.\\nShipped compressed to save space, sponges expand by rinsing in warm water or exposure to air after unpacking.\\nVERSATILE - Great for face painting, leather tack cleaning and conditioning, applying paint in household or craft projects to washing dishes.</td>\n",
       "      <td>complement</td>\n",
       "    </tr>\n",
       "    <tr>\n",
       "      <th>1</th>\n",
       "      <td>brother p-touch pt-d210 us [SEP] Khanka Hard Travel Case Replacement for Brother P-Touch PT-D210 Label Maker us khanka DISCLAIMER: Product only include Khanka brand casing. Does NOT include other products as pictured. We are NOT sponsored by other brands. Khanka Carrying Storage Organizer Case Bag Replacement for Brother P-Touch PT-D210 Label Maker fits 1/2-Inch Standard Laminated Tape\\nExtra Separate Compartment Mesh Pocket for 1/2-Inch Standard Laminated Tape\\nHand Strap For keeping your devices safe and handy,Lightweight. Packed inclued: One Case\\nMaterial: EVA Color: Black External Size:7*6.6*3.5 inch Weight: 220g Black</td>\n",
       "      <td>complement</td>\n",
       "    </tr>\n",
       "  </tbody>\n",
       "</table>\n",
       "</div>"
      ],
      "text/plain": [
       "                                                                                                                                                                                                                                                                                                                                                                                                                                                                                                                                                                                                                                                         input  \\\n",
       "0  tack cleaner for horses us [SEP] Pack of 12 Tack Sponges us Hydra Sponge Pack of 12 Tack Sponges VALUE PACK of 12 Creative Hobbies Best Quality Synthetic sponges for Painting, Face Painting, Crafts, Pottery, Clay, Household Use & more!\\nNEW IMPROVED FORMULA Synthetic material is soft and absorbent, finishes clay smoothly, is gentle on faces for face painting, and very absorbent.\\nShipped compressed to save space, sponges expand by rinsing in warm water or exposure to air after unpacking.\\nVERSATILE - Great for face painting, leather tack cleaning and conditioning, applying paint in household or craft projects to washing dishes.   \n",
       "1      brother p-touch pt-d210 us [SEP] Khanka Hard Travel Case Replacement for Brother P-Touch PT-D210 Label Maker us khanka DISCLAIMER: Product only include Khanka brand casing. Does NOT include other products as pictured. We are NOT sponsored by other brands. Khanka Carrying Storage Organizer Case Bag Replacement for Brother P-Touch PT-D210 Label Maker fits 1/2-Inch Standard Laminated Tape\\nExtra Separate Compartment Mesh Pocket for 1/2-Inch Standard Laminated Tape\\nHand Strap For keeping your devices safe and handy,Lightweight. Packed inclued: One Case\\nMaterial: EVA Color: Black External Size:7*6.6*3.5 inch Weight: 220g Black   \n",
       "\n",
       "        label  \n",
       "0  complement  \n",
       "1  complement  "
      ]
     },
     "execution_count": 12,
     "metadata": {},
     "output_type": "execute_result"
    }
   ],
   "source": [
    "train_df.head(2)"
   ]
  },
  {
   "cell_type": "code",
   "execution_count": 13,
   "id": "00a652a6",
   "metadata": {
    "execution": {
     "iopub.execute_input": "2022-05-09T13:51:44.557975Z",
     "iopub.status.busy": "2022-05-09T13:51:44.557136Z",
     "iopub.status.idle": "2022-05-09T13:51:44.560509Z",
     "shell.execute_reply": "2022-05-09T13:51:44.558662Z",
     "shell.execute_reply.started": "2022-05-09T13:49:13.755818Z"
    },
    "papermill": {
     "duration": 0.061249,
     "end_time": "2022-05-09T13:51:44.560652",
     "exception": false,
     "start_time": "2022-05-09T13:51:44.499403",
     "status": "completed"
    },
    "tags": []
   },
   "outputs": [
    {
     "data": {
      "text/plain": [
       "(625388, 156350)"
      ]
     },
     "execution_count": 13,
     "metadata": {},
     "output_type": "execute_result"
    }
   ],
   "source": [
    "train_df.shape[0], test_df.shape[0]"
   ]
  },
  {
   "cell_type": "code",
   "execution_count": 14,
   "id": "e9de442d",
   "metadata": {
    "execution": {
     "iopub.execute_input": "2022-05-09T13:51:44.679070Z",
     "iopub.status.busy": "2022-05-09T13:51:44.671687Z",
     "iopub.status.idle": "2022-05-09T13:51:46.602868Z",
     "shell.execute_reply": "2022-05-09T13:51:46.602403Z",
     "shell.execute_reply.started": "2022-05-09T13:49:13.770095Z"
    },
    "papermill": {
     "duration": 1.990359,
     "end_time": "2022-05-09T13:51:46.603027",
     "exception": false,
     "start_time": "2022-05-09T13:51:44.612668",
     "status": "completed"
    },
    "tags": []
   },
   "outputs": [],
   "source": [
    "from datasets import ClassLabel, Value, DatasetDict, Dataset"
   ]
  },
  {
   "cell_type": "code",
   "execution_count": 15,
   "id": "51cbcf41",
   "metadata": {
    "execution": {
     "iopub.execute_input": "2022-05-09T13:51:46.679297Z",
     "iopub.status.busy": "2022-05-09T13:51:46.678329Z",
     "iopub.status.idle": "2022-05-09T13:51:50.226773Z",
     "shell.execute_reply": "2022-05-09T13:51:50.226302Z",
     "shell.execute_reply.started": "2022-05-09T13:49:13.783567Z"
    },
    "papermill": {
     "duration": 3.588688,
     "end_time": "2022-05-09T13:51:50.226923",
     "exception": false,
     "start_time": "2022-05-09T13:51:46.638235",
     "status": "completed"
    },
    "tags": []
   },
   "outputs": [],
   "source": [
    "dataset = DatasetDict({\n",
    "        'train': Dataset.from_pandas(train_df),\n",
    "        'test': Dataset.from_pandas(test_df),\n",
    "    }   \n",
    ")"
   ]
  },
  {
   "cell_type": "code",
   "execution_count": 16,
   "id": "b40201ab",
   "metadata": {
    "execution": {
     "iopub.execute_input": "2022-05-09T13:51:50.295745Z",
     "iopub.status.busy": "2022-05-09T13:51:50.295240Z",
     "iopub.status.idle": "2022-05-09T13:51:50.299653Z",
     "shell.execute_reply": "2022-05-09T13:51:50.299247Z",
     "shell.execute_reply.started": "2022-05-09T13:49:18.216256Z"
    },
    "papermill": {
     "duration": 0.040064,
     "end_time": "2022-05-09T13:51:50.299760",
     "exception": false,
     "start_time": "2022-05-09T13:51:50.259696",
     "status": "completed"
    },
    "tags": []
   },
   "outputs": [
    {
     "data": {
      "text/plain": [
       "Dataset({\n",
       "    features: ['input', 'label'],\n",
       "    num_rows: 625388\n",
       "})"
      ]
     },
     "execution_count": 16,
     "metadata": {},
     "output_type": "execute_result"
    }
   ],
   "source": [
    "dataset['train']"
   ]
  },
  {
   "cell_type": "code",
   "execution_count": 17,
   "id": "96712ed6",
   "metadata": {
    "execution": {
     "iopub.execute_input": "2022-05-09T13:51:50.368787Z",
     "iopub.status.busy": "2022-05-09T13:51:50.367716Z",
     "iopub.status.idle": "2022-05-09T13:51:50.370729Z",
     "shell.execute_reply": "2022-05-09T13:51:50.371151Z",
     "shell.execute_reply.started": "2022-05-09T13:49:18.226249Z"
    },
    "papermill": {
     "duration": 0.039822,
     "end_time": "2022-05-09T13:51:50.371270",
     "exception": false,
     "start_time": "2022-05-09T13:51:50.331448",
     "status": "completed"
    },
    "tags": []
   },
   "outputs": [
    {
     "data": {
      "text/plain": [
       "{'input': Value(dtype='string', id=None),\n",
       " 'label': Value(dtype='string', id=None)}"
      ]
     },
     "execution_count": 17,
     "metadata": {},
     "output_type": "execute_result"
    }
   ],
   "source": [
    "dataset['train'].features"
   ]
  },
  {
   "cell_type": "code",
   "execution_count": 18,
   "id": "6f91546d",
   "metadata": {
    "execution": {
     "iopub.execute_input": "2022-05-09T13:51:50.440031Z",
     "iopub.status.busy": "2022-05-09T13:51:50.438640Z",
     "iopub.status.idle": "2022-05-09T13:51:50.440815Z",
     "shell.execute_reply": "2022-05-09T13:51:50.441247Z",
     "shell.execute_reply.started": "2022-05-09T13:49:18.243655Z"
    },
    "papermill": {
     "duration": 0.038231,
     "end_time": "2022-05-09T13:51:50.441364",
     "exception": false,
     "start_time": "2022-05-09T13:51:50.403133",
     "status": "completed"
    },
    "tags": []
   },
   "outputs": [],
   "source": [
    "labels = ClassLabel(names=['irrelevant', 'exact', 'substitute', 'complement'])"
   ]
  },
  {
   "cell_type": "code",
   "execution_count": 19,
   "id": "bcff5187",
   "metadata": {
    "execution": {
     "iopub.execute_input": "2022-05-09T13:51:50.509433Z",
     "iopub.status.busy": "2022-05-09T13:51:50.508825Z",
     "iopub.status.idle": "2022-05-09T13:51:50.511635Z",
     "shell.execute_reply": "2022-05-09T13:51:50.512044Z",
     "shell.execute_reply.started": "2022-05-09T13:49:18.257288Z"
    },
    "papermill": {
     "duration": 0.039208,
     "end_time": "2022-05-09T13:51:50.512156",
     "exception": false,
     "start_time": "2022-05-09T13:51:50.472948",
     "status": "completed"
    },
    "tags": []
   },
   "outputs": [
    {
     "data": {
      "text/plain": [
       "({'input': Value(dtype='string', id=None),\n",
       "  'label': Value(dtype='string', id=None)},\n",
       " {'input': Value(dtype='string', id=None),\n",
       "  'label': Value(dtype='string', id=None)})"
      ]
     },
     "execution_count": 19,
     "metadata": {},
     "output_type": "execute_result"
    }
   ],
   "source": [
    "dataset['train'].features, dataset['test'].features"
   ]
  },
  {
   "cell_type": "code",
   "execution_count": 20,
   "id": "ae5d9388",
   "metadata": {
    "execution": {
     "iopub.execute_input": "2022-05-09T13:51:50.579994Z",
     "iopub.status.busy": "2022-05-09T13:51:50.579334Z",
     "iopub.status.idle": "2022-05-09T13:52:08.344762Z",
     "shell.execute_reply": "2022-05-09T13:52:08.344285Z",
     "shell.execute_reply.started": "2022-05-09T13:49:18.273701Z"
    },
    "papermill": {
     "duration": 17.800774,
     "end_time": "2022-05-09T13:52:08.344893",
     "exception": false,
     "start_time": "2022-05-09T13:51:50.544119",
     "status": "completed"
    },
    "tags": []
   },
   "outputs": [
    {
     "data": {
      "application/vnd.jupyter.widget-view+json": {
       "model_id": "06b65b2fca824a58a55e648782052087",
       "version_major": 2,
       "version_minor": 0
      },
      "text/plain": [
       "Downloading:   0%|          | 0.00/29.0 [00:00<?, ?B/s]"
      ]
     },
     "metadata": {},
     "output_type": "display_data"
    },
    {
     "data": {
      "application/vnd.jupyter.widget-view+json": {
       "model_id": "c995218626504d0995e83b495de1ca18",
       "version_major": 2,
       "version_minor": 0
      },
      "text/plain": [
       "Downloading:   0%|          | 0.00/665 [00:00<?, ?B/s]"
      ]
     },
     "metadata": {},
     "output_type": "display_data"
    },
    {
     "data": {
      "application/vnd.jupyter.widget-view+json": {
       "model_id": "24e1c40d6a034078bd27f676cfa978da",
       "version_major": 2,
       "version_minor": 0
      },
      "text/plain": [
       "Downloading:   0%|          | 0.00/226k [00:00<?, ?B/s]"
      ]
     },
     "metadata": {},
     "output_type": "display_data"
    },
    {
     "data": {
      "application/vnd.jupyter.widget-view+json": {
       "model_id": "b672d8f213784ac899b05522cb70585a",
       "version_major": 2,
       "version_minor": 0
      },
      "text/plain": [
       "Downloading:   0%|          | 0.00/455k [00:00<?, ?B/s]"
      ]
     },
     "metadata": {},
     "output_type": "display_data"
    }
   ],
   "source": [
    "from transformers import AutoTokenizer,DataCollatorWithPadding\n",
    "tokenizer = AutoTokenizer.from_pretrained(checkpoint)"
   ]
  },
  {
   "cell_type": "code",
   "execution_count": 21,
   "id": "bb99beac",
   "metadata": {
    "execution": {
     "iopub.execute_input": "2022-05-09T13:52:08.417064Z",
     "iopub.status.busy": "2022-05-09T13:52:08.416265Z",
     "iopub.status.idle": "2022-05-09T14:03:27.319188Z",
     "shell.execute_reply": "2022-05-09T14:03:27.318713Z",
     "shell.execute_reply.started": "2022-05-09T13:48:17.704145Z"
    },
    "papermill": {
     "duration": 678.939737,
     "end_time": "2022-05-09T14:03:27.319332",
     "exception": false,
     "start_time": "2022-05-09T13:52:08.379595",
     "status": "completed"
    },
    "tags": []
   },
   "outputs": [
    {
     "data": {
      "application/vnd.jupyter.widget-view+json": {
       "model_id": "5d8cfc17385f4cd4a3af6b2259151220",
       "version_major": 2,
       "version_minor": 0
      },
      "text/plain": [
       "  0%|          | 0/626 [00:00<?, ?ba/s]"
      ]
     },
     "metadata": {},
     "output_type": "display_data"
    },
    {
     "data": {
      "application/vnd.jupyter.widget-view+json": {
       "model_id": "a715e5fab9be43d18dbddac0d93d7879",
       "version_major": 2,
       "version_minor": 0
      },
      "text/plain": [
       "  0%|          | 0/157 [00:00<?, ?ba/s]"
      ]
     },
     "metadata": {},
     "output_type": "display_data"
    }
   ],
   "source": [
    "def tokenize_label_map(batch):\n",
    "    tokens = tokenizer(batch['input'], max_length=128, padding='max_length', truncation=True)\n",
    "    tokens['label'] = labels.str2int(batch['label'])\n",
    "    return tokens\n",
    "encoded_dataset = dataset.map(tokenize_label_map, batched=True)"
   ]
  },
  {
   "cell_type": "code",
   "execution_count": 22,
   "id": "606da1ef",
   "metadata": {
    "execution": {
     "iopub.execute_input": "2022-05-09T14:03:27.395465Z",
     "iopub.status.busy": "2022-05-09T14:03:27.394846Z",
     "iopub.status.idle": "2022-05-09T14:03:27.397434Z",
     "shell.execute_reply": "2022-05-09T14:03:27.397843Z",
     "shell.execute_reply.started": "2022-05-09T13:48:17.705279Z"
    },
    "papermill": {
     "duration": 0.043307,
     "end_time": "2022-05-09T14:03:27.397981",
     "exception": false,
     "start_time": "2022-05-09T14:03:27.354674",
     "status": "completed"
    },
    "tags": []
   },
   "outputs": [
    {
     "data": {
      "text/plain": [
       "['input', 'label', 'input_ids', 'token_type_ids', 'attention_mask']"
      ]
     },
     "execution_count": 22,
     "metadata": {},
     "output_type": "execute_result"
    }
   ],
   "source": [
    "encoded_dataset['train'].column_names"
   ]
  },
  {
   "cell_type": "code",
   "execution_count": 23,
   "id": "95db0600",
   "metadata": {
    "execution": {
     "iopub.execute_input": "2022-05-09T14:03:27.473556Z",
     "iopub.status.busy": "2022-05-09T14:03:27.472842Z",
     "iopub.status.idle": "2022-05-09T14:03:27.480760Z",
     "shell.execute_reply": "2022-05-09T14:03:27.480354Z",
     "shell.execute_reply.started": "2022-05-09T13:48:17.707250Z"
    },
    "papermill": {
     "duration": 0.047631,
     "end_time": "2022-05-09T14:03:27.480857",
     "exception": false,
     "start_time": "2022-05-09T14:03:27.433226",
     "status": "completed"
    },
    "tags": []
   },
   "outputs": [],
   "source": [
    "tokenized_datasets = encoded_dataset#.remove_columns([\"input\"])\n",
    "tokenized_datasets = tokenized_datasets.rename_column(\"label\", \"labels\")\n",
    "tokenized_datasets.set_format(\"torch\")"
   ]
  },
  {
   "cell_type": "code",
   "execution_count": 24,
   "id": "97c39586",
   "metadata": {
    "execution": {
     "iopub.execute_input": "2022-05-09T14:03:27.557307Z",
     "iopub.status.busy": "2022-05-09T14:03:27.556622Z",
     "iopub.status.idle": "2022-05-09T14:03:27.559196Z",
     "shell.execute_reply": "2022-05-09T14:03:27.559689Z",
     "shell.execute_reply.started": "2022-05-09T13:48:17.708905Z"
    },
    "papermill": {
     "duration": 0.042734,
     "end_time": "2022-05-09T14:03:27.559806",
     "exception": false,
     "start_time": "2022-05-09T14:03:27.517072",
     "status": "completed"
    },
    "tags": []
   },
   "outputs": [
    {
     "data": {
      "text/plain": [
       "DatasetDict({\n",
       "    train: Dataset({\n",
       "        features: ['input', 'labels', 'input_ids', 'token_type_ids', 'attention_mask'],\n",
       "        num_rows: 625388\n",
       "    })\n",
       "    test: Dataset({\n",
       "        features: ['input', 'labels', 'input_ids', 'token_type_ids', 'attention_mask'],\n",
       "        num_rows: 156350\n",
       "    })\n",
       "})"
      ]
     },
     "execution_count": 24,
     "metadata": {},
     "output_type": "execute_result"
    }
   ],
   "source": [
    "tokenized_datasets"
   ]
  },
  {
   "cell_type": "code",
   "execution_count": 25,
   "id": "ee8cd37d",
   "metadata": {
    "execution": {
     "iopub.execute_input": "2022-05-09T14:03:27.635749Z",
     "iopub.status.busy": "2022-05-09T14:03:27.635151Z",
     "iopub.status.idle": "2022-05-09T14:03:27.637756Z",
     "shell.execute_reply": "2022-05-09T14:03:27.638185Z",
     "shell.execute_reply.started": "2022-05-09T13:48:17.710334Z"
    },
    "papermill": {
     "duration": 0.042833,
     "end_time": "2022-05-09T14:03:27.638303",
     "exception": false,
     "start_time": "2022-05-09T14:03:27.595470",
     "status": "completed"
    },
    "tags": []
   },
   "outputs": [
    {
     "data": {
      "text/plain": [
       "{'input': Value(dtype='string', id=None),\n",
       " 'labels': Value(dtype='int64', id=None),\n",
       " 'input_ids': Sequence(feature=Value(dtype='int32', id=None), length=-1, id=None),\n",
       " 'token_type_ids': Sequence(feature=Value(dtype='int8', id=None), length=-1, id=None),\n",
       " 'attention_mask': Sequence(feature=Value(dtype='int8', id=None), length=-1, id=None)}"
      ]
     },
     "execution_count": 25,
     "metadata": {},
     "output_type": "execute_result"
    }
   ],
   "source": [
    "tokenized_datasets['test'].features"
   ]
  },
  {
   "cell_type": "code",
   "execution_count": 26,
   "id": "0b2e2dd2",
   "metadata": {
    "execution": {
     "iopub.execute_input": "2022-05-09T14:03:27.714478Z",
     "iopub.status.busy": "2022-05-09T14:03:27.713746Z",
     "iopub.status.idle": "2022-05-09T14:03:27.716106Z",
     "shell.execute_reply": "2022-05-09T14:03:27.715657Z",
     "shell.execute_reply.started": "2022-05-09T13:48:17.711502Z"
    },
    "papermill": {
     "duration": 0.041383,
     "end_time": "2022-05-09T14:03:27.716208",
     "exception": false,
     "start_time": "2022-05-09T14:03:27.674825",
     "status": "completed"
    },
    "tags": []
   },
   "outputs": [],
   "source": [
    "data_collator = DataCollatorWithPadding(tokenizer=tokenizer)"
   ]
  },
  {
   "cell_type": "code",
   "execution_count": 27,
   "id": "da6acb96",
   "metadata": {
    "execution": {
     "iopub.execute_input": "2022-05-09T14:03:27.792174Z",
     "iopub.status.busy": "2022-05-09T14:03:27.791594Z",
     "iopub.status.idle": "2022-05-09T14:03:36.743737Z",
     "shell.execute_reply": "2022-05-09T14:03:36.743256Z",
     "shell.execute_reply.started": "2022-05-09T13:48:17.713153Z"
    },
    "papermill": {
     "duration": 8.991373,
     "end_time": "2022-05-09T14:03:36.743872",
     "exception": false,
     "start_time": "2022-05-09T14:03:27.752499",
     "status": "completed"
    },
    "tags": []
   },
   "outputs": [
    {
     "data": {
      "application/vnd.jupyter.widget-view+json": {
       "model_id": "5d3352e01ea34a3e878dec3c0caf288e",
       "version_major": 2,
       "version_minor": 0
      },
      "text/plain": [
       "Downloading:   0%|          | 0.00/51.7M [00:00<?, ?B/s]"
      ]
     },
     "metadata": {},
     "output_type": "display_data"
    },
    {
     "name": "stderr",
     "output_type": "stream",
     "text": [
      "Some weights of the model checkpoint at google/electra-small-discriminator were not used when initializing ElectraForSequenceClassification: ['discriminator_predictions.dense.weight', 'discriminator_predictions.dense_prediction.bias', 'discriminator_predictions.dense.bias', 'discriminator_predictions.dense_prediction.weight']\n",
      "- This IS expected if you are initializing ElectraForSequenceClassification from the checkpoint of a model trained on another task or with another architecture (e.g. initializing a BertForSequenceClassification model from a BertForPreTraining model).\n",
      "- This IS NOT expected if you are initializing ElectraForSequenceClassification from the checkpoint of a model that you expect to be exactly identical (initializing a BertForSequenceClassification model from a BertForSequenceClassification model).\n",
      "Some weights of ElectraForSequenceClassification were not initialized from the model checkpoint at google/electra-small-discriminator and are newly initialized: ['classifier.dense.bias', 'classifier.out_proj.bias', 'classifier.out_proj.weight', 'classifier.dense.weight']\n",
      "You should probably TRAIN this model on a down-stream task to be able to use it for predictions and inference.\n"
     ]
    }
   ],
   "source": [
    "from transformers import AutoModelForSequenceClassification\n",
    "model = AutoModelForSequenceClassification.from_pretrained(checkpoint, num_labels=4)"
   ]
  },
  {
   "cell_type": "code",
   "execution_count": 28,
   "id": "89df9d54",
   "metadata": {
    "execution": {
     "iopub.execute_input": "2022-05-09T14:03:36.833290Z",
     "iopub.status.busy": "2022-05-09T14:03:36.832522Z",
     "iopub.status.idle": "2022-05-09T14:03:36.836494Z",
     "shell.execute_reply": "2022-05-09T14:03:36.836050Z"
    },
    "papermill": {
     "duration": 0.048833,
     "end_time": "2022-05-09T14:03:36.836610",
     "exception": false,
     "start_time": "2022-05-09T14:03:36.787777",
     "status": "completed"
    },
    "tags": []
   },
   "outputs": [
    {
     "name": "stdout",
     "output_type": "stream",
     "text": [
      "number of trainable parameters 13549828\n"
     ]
    }
   ],
   "source": [
    "print(f\"number of trainable parameters {sum(p.numel() for p in model.parameters() if p.requires_grad)}\")"
   ]
  },
  {
   "cell_type": "code",
   "execution_count": 29,
   "id": "1910136c",
   "metadata": {
    "execution": {
     "iopub.execute_input": "2022-05-09T14:03:36.920765Z",
     "iopub.status.busy": "2022-05-09T14:03:36.920056Z",
     "iopub.status.idle": "2022-05-09T14:03:36.922126Z",
     "shell.execute_reply": "2022-05-09T14:03:36.922498Z"
    },
    "papermill": {
     "duration": 0.045289,
     "end_time": "2022-05-09T14:03:36.922631",
     "exception": false,
     "start_time": "2022-05-09T14:03:36.877342",
     "status": "completed"
    },
    "tags": []
   },
   "outputs": [],
   "source": [
    "from sklearn.metrics import precision_score, recall_score, accuracy_score, f1_score"
   ]
  },
  {
   "cell_type": "code",
   "execution_count": 30,
   "id": "07115fa3",
   "metadata": {
    "execution": {
     "iopub.execute_input": "2022-05-09T14:03:37.009269Z",
     "iopub.status.busy": "2022-05-09T14:03:37.008480Z",
     "iopub.status.idle": "2022-05-09T14:03:37.010662Z",
     "shell.execute_reply": "2022-05-09T14:03:37.011125Z"
    },
    "papermill": {
     "duration": 0.048126,
     "end_time": "2022-05-09T14:03:37.011246",
     "exception": false,
     "start_time": "2022-05-09T14:03:36.963120",
     "status": "completed"
    },
    "tags": []
   },
   "outputs": [],
   "source": [
    "from sklearn.metrics import precision_score, recall_score, accuracy_score, f1_score\n",
    "import numpy as np\n",
    "def compute_metrics(eval_preds):\n",
    "    logits, labels = eval_preds\n",
    "    predictions = np.argmax(logits, axis=-1)\n",
    "    metrics_dict = {\n",
    "        'precision': precision_score(labels, predictions, average='micro'),\n",
    "        'recall': recall_score(labels, predictions, average='micro'),\n",
    "        'f1': f1_score(labels, predictions, average='micro'),\n",
    "        'accuracy': accuracy_score(labels, predictions),\n",
    "    }\n",
    "    return metrics_dict"
   ]
  },
  {
   "cell_type": "code",
   "execution_count": 31,
   "id": "00c19d45",
   "metadata": {
    "execution": {
     "iopub.execute_input": "2022-05-09T14:03:37.096182Z",
     "iopub.status.busy": "2022-05-09T14:03:37.095111Z",
     "iopub.status.idle": "2022-05-09T14:03:41.697231Z",
     "shell.execute_reply": "2022-05-09T14:03:41.697629Z"
    },
    "papermill": {
     "duration": 4.647374,
     "end_time": "2022-05-09T14:03:41.697782",
     "exception": false,
     "start_time": "2022-05-09T14:03:37.050408",
     "status": "completed"
    },
    "tags": []
   },
   "outputs": [
    {
     "name": "stderr",
     "output_type": "stream",
     "text": [
      "Using amp half precision backend\n"
     ]
    }
   ],
   "source": [
    "from transformers import Trainer\n",
    "from transformers import TrainingArguments\n",
    "import torch\n",
    "\n",
    "training_args = TrainingArguments(evaluation_strategy=\"epoch\", report_to=\"none\", output_dir = '/kaggle/working/', load_best_model_at_end=True, save_total_limit=2, save_strategy='epoch', logging_strategy='steps', logging_steps=50, log_level='info', log_level_replica='info', fp16=torch.cuda.is_available())\n",
    "\n",
    "trainer = Trainer(\n",
    "    model,\n",
    "    training_args,\n",
    "    train_dataset=tokenized_datasets[\"train\"],\n",
    "    eval_dataset=tokenized_datasets[\"test\"],\n",
    "    data_collator=data_collator,\n",
    "    tokenizer=tokenizer,\n",
    "    compute_metrics=compute_metrics,\n",
    ")"
   ]
  },
  {
   "cell_type": "code",
   "execution_count": 32,
   "id": "1ac94661",
   "metadata": {
    "execution": {
     "iopub.execute_input": "2022-05-09T14:03:41.780514Z",
     "iopub.status.busy": "2022-05-09T14:03:41.779632Z",
     "iopub.status.idle": "2022-05-09T18:54:28.008602Z",
     "shell.execute_reply": "2022-05-09T18:54:28.009059Z"
    },
    "papermill": {
     "duration": 17446.272684,
     "end_time": "2022-05-09T18:54:28.009234",
     "exception": false,
     "start_time": "2022-05-09T14:03:41.736550",
     "status": "completed"
    },
    "tags": []
   },
   "outputs": [
    {
     "name": "stderr",
     "output_type": "stream",
     "text": [
      "The following columns in the training set  don't have a corresponding argument in `ElectraForSequenceClassification.forward` and have been ignored: input.\n",
      "/opt/conda/lib/python3.7/site-packages/transformers/optimization.py:309: FutureWarning: This implementation of AdamW is deprecated and will be removed in a future version. Use thePyTorch implementation torch.optim.AdamW instead, or set `no_deprecation_warning=True` to disable this warning\n",
      "  FutureWarning,\n",
      "***** Running training *****\n",
      "  Num examples = 625388\n",
      "  Num Epochs = 3\n",
      "  Instantaneous batch size per device = 8\n",
      "  Total train batch size (w. parallel, distributed & accumulation) = 8\n",
      "  Gradient Accumulation steps = 1\n",
      "  Total optimization steps = 234522\n"
     ]
    },
    {
     "data": {
      "text/html": [
       "\n",
       "    <div>\n",
       "      \n",
       "      <progress value='234522' max='234522' style='width:300px; height:20px; vertical-align: middle;'></progress>\n",
       "      [234522/234522 4:50:45, Epoch 3/3]\n",
       "    </div>\n",
       "    <table border=\"1\" class=\"dataframe\">\n",
       "  <thead>\n",
       " <tr style=\"text-align: left;\">\n",
       "      <th>Epoch</th>\n",
       "      <th>Training Loss</th>\n",
       "      <th>Validation Loss</th>\n",
       "      <th>Precision</th>\n",
       "      <th>Recall</th>\n",
       "      <th>F1</th>\n",
       "      <th>Accuracy</th>\n",
       "    </tr>\n",
       "  </thead>\n",
       "  <tbody>\n",
       "    <tr>\n",
       "      <td>1</td>\n",
       "      <td>0.955900</td>\n",
       "      <td>0.972925</td>\n",
       "      <td>0.582686</td>\n",
       "      <td>0.582686</td>\n",
       "      <td>0.582686</td>\n",
       "      <td>0.582686</td>\n",
       "    </tr>\n",
       "    <tr>\n",
       "      <td>2</td>\n",
       "      <td>0.898700</td>\n",
       "      <td>0.914978</td>\n",
       "      <td>0.619367</td>\n",
       "      <td>0.619367</td>\n",
       "      <td>0.619367</td>\n",
       "      <td>0.619367</td>\n",
       "    </tr>\n",
       "    <tr>\n",
       "      <td>3</td>\n",
       "      <td>0.825100</td>\n",
       "      <td>0.888461</td>\n",
       "      <td>0.636649</td>\n",
       "      <td>0.636649</td>\n",
       "      <td>0.636649</td>\n",
       "      <td>0.636649</td>\n",
       "    </tr>\n",
       "  </tbody>\n",
       "</table><p>"
      ],
      "text/plain": [
       "<IPython.core.display.HTML object>"
      ]
     },
     "metadata": {},
     "output_type": "display_data"
    },
    {
     "name": "stderr",
     "output_type": "stream",
     "text": [
      "/opt/conda/lib/python3.7/site-packages/transformers/trainer.py:1410: FutureWarning: Non-finite norm encountered in torch.nn.utils.clip_grad_norm_; continuing anyway. Note that the default behavior will change in a future release to error out if a non-finite total norm is encountered. At that point, setting error_if_nonfinite=false will be required to retain the old behavior.\n",
      "  args.max_grad_norm,\n",
      "The following columns in the evaluation set  don't have a corresponding argument in `ElectraForSequenceClassification.forward` and have been ignored: input.\n",
      "***** Running Evaluation *****\n",
      "  Num examples = 156350\n",
      "  Batch size = 8\n",
      "Saving model checkpoint to /kaggle/working/checkpoint-78174\n",
      "Configuration saved in /kaggle/working/checkpoint-78174/config.json\n",
      "Model weights saved in /kaggle/working/checkpoint-78174/pytorch_model.bin\n",
      "tokenizer config file saved in /kaggle/working/checkpoint-78174/tokenizer_config.json\n",
      "Special tokens file saved in /kaggle/working/checkpoint-78174/special_tokens_map.json\n",
      "/opt/conda/lib/python3.7/site-packages/transformers/trainer.py:1410: FutureWarning: Non-finite norm encountered in torch.nn.utils.clip_grad_norm_; continuing anyway. Note that the default behavior will change in a future release to error out if a non-finite total norm is encountered. At that point, setting error_if_nonfinite=false will be required to retain the old behavior.\n",
      "  args.max_grad_norm,\n",
      "The following columns in the evaluation set  don't have a corresponding argument in `ElectraForSequenceClassification.forward` and have been ignored: input.\n",
      "***** Running Evaluation *****\n",
      "  Num examples = 156350\n",
      "  Batch size = 8\n",
      "Saving model checkpoint to /kaggle/working/checkpoint-156348\n",
      "Configuration saved in /kaggle/working/checkpoint-156348/config.json\n",
      "Model weights saved in /kaggle/working/checkpoint-156348/pytorch_model.bin\n",
      "tokenizer config file saved in /kaggle/working/checkpoint-156348/tokenizer_config.json\n",
      "Special tokens file saved in /kaggle/working/checkpoint-156348/special_tokens_map.json\n",
      "/opt/conda/lib/python3.7/site-packages/transformers/trainer.py:1410: FutureWarning: Non-finite norm encountered in torch.nn.utils.clip_grad_norm_; continuing anyway. Note that the default behavior will change in a future release to error out if a non-finite total norm is encountered. At that point, setting error_if_nonfinite=false will be required to retain the old behavior.\n",
      "  args.max_grad_norm,\n",
      "The following columns in the evaluation set  don't have a corresponding argument in `ElectraForSequenceClassification.forward` and have been ignored: input.\n",
      "***** Running Evaluation *****\n",
      "  Num examples = 156350\n",
      "  Batch size = 8\n",
      "Saving model checkpoint to /kaggle/working/checkpoint-234522\n",
      "Configuration saved in /kaggle/working/checkpoint-234522/config.json\n",
      "Model weights saved in /kaggle/working/checkpoint-234522/pytorch_model.bin\n",
      "tokenizer config file saved in /kaggle/working/checkpoint-234522/tokenizer_config.json\n",
      "Special tokens file saved in /kaggle/working/checkpoint-234522/special_tokens_map.json\n",
      "Deleting older checkpoint [/kaggle/working/checkpoint-78174] due to args.save_total_limit\n",
      "\n",
      "\n",
      "Training completed. Do not forget to share your model on huggingface.co/models =)\n",
      "\n",
      "\n",
      "Loading best model from /kaggle/working/checkpoint-234522 (score: 0.8884605765342712).\n"
     ]
    }
   ],
   "source": [
    "try:\n",
    "    trainer.train()\n",
    "except:\n",
    "    print(\"Training stopped\")"
   ]
  },
  {
   "cell_type": "code",
   "execution_count": 33,
   "id": "19f862a1",
   "metadata": {
    "execution": {
     "iopub.execute_input": "2022-05-09T18:54:28.142820Z",
     "iopub.status.busy": "2022-05-09T18:54:28.140837Z",
     "iopub.status.idle": "2022-05-09T18:54:28.310466Z",
     "shell.execute_reply": "2022-05-09T18:54:28.310919Z"
    },
    "papermill": {
     "duration": 0.239563,
     "end_time": "2022-05-09T18:54:28.311105",
     "exception": false,
     "start_time": "2022-05-09T18:54:28.071542",
     "status": "completed"
    },
    "tags": []
   },
   "outputs": [
    {
     "name": "stderr",
     "output_type": "stream",
     "text": [
      "Saving model checkpoint to /kaggle/working/\n",
      "Configuration saved in /kaggle/working/config.json\n",
      "Model weights saved in /kaggle/working/pytorch_model.bin\n",
      "tokenizer config file saved in /kaggle/working/tokenizer_config.json\n",
      "Special tokens file saved in /kaggle/working/special_tokens_map.json\n"
     ]
    }
   ],
   "source": [
    "try:\n",
    "    trainer.save_model('/kaggle/working/')\n",
    "except:\n",
    "    print(\"Trainer save stopped\")"
   ]
  }
 ],
 "metadata": {
  "kernelspec": {
   "display_name": "Python 3",
   "language": "python",
   "name": "python3"
  },
  "language_info": {
   "codemirror_mode": {
    "name": "ipython",
    "version": 3
   },
   "file_extension": ".py",
   "mimetype": "text/x-python",
   "name": "python",
   "nbconvert_exporter": "python",
   "pygments_lexer": "ipython3",
   "version": "3.7.12"
  },
  "papermill": {
   "default_parameters": {},
   "duration": 18209.7429,
   "end_time": "2022-05-09T18:54:31.544007",
   "environment_variables": {},
   "exception": null,
   "input_path": "__notebook__.ipynb",
   "output_path": "__notebook__.ipynb",
   "parameters": {},
   "start_time": "2022-05-09T13:51:01.801107",
   "version": "2.3.3"
  },
  "widgets": {
   "application/vnd.jupyter.widget-state+json": {
    "state": {
     "00e060ac7dab44bb959c5828e8cc3861": {
      "model_module": "@jupyter-widgets/controls",
      "model_module_version": "1.5.0",
      "model_name": "ProgressStyleModel",
      "state": {
       "_model_module": "@jupyter-widgets/controls",
       "_model_module_version": "1.5.0",
       "_model_name": "ProgressStyleModel",
       "_view_count": null,
       "_view_module": "@jupyter-widgets/base",
       "_view_module_version": "1.2.0",
       "_view_name": "StyleView",
       "bar_color": null,
       "description_width": ""
      }
     },
     "0500ac7bdf1a451a9a1e394e3e1e20f4": {
      "model_module": "@jupyter-widgets/base",
      "model_module_version": "1.2.0",
      "model_name": "LayoutModel",
      "state": {
       "_model_module": "@jupyter-widgets/base",
       "_model_module_version": "1.2.0",
       "_model_name": "LayoutModel",
       "_view_count": null,
       "_view_module": "@jupyter-widgets/base",
       "_view_module_version": "1.2.0",
       "_view_name": "LayoutView",
       "align_content": null,
       "align_items": null,
       "align_self": null,
       "border": null,
       "bottom": null,
       "display": null,
       "flex": null,
       "flex_flow": null,
       "grid_area": null,
       "grid_auto_columns": null,
       "grid_auto_flow": null,
       "grid_auto_rows": null,
       "grid_column": null,
       "grid_gap": null,
       "grid_row": null,
       "grid_template_areas": null,
       "grid_template_columns": null,
       "grid_template_rows": null,
       "height": null,
       "justify_content": null,
       "justify_items": null,
       "left": null,
       "margin": null,
       "max_height": null,
       "max_width": null,
       "min_height": null,
       "min_width": null,
       "object_fit": null,
       "object_position": null,
       "order": null,
       "overflow": null,
       "overflow_x": null,
       "overflow_y": null,
       "padding": null,
       "right": null,
       "top": null,
       "visibility": null,
       "width": null
      }
     },
     "06b65b2fca824a58a55e648782052087": {
      "model_module": "@jupyter-widgets/controls",
      "model_module_version": "1.5.0",
      "model_name": "HBoxModel",
      "state": {
       "_dom_classes": [],
       "_model_module": "@jupyter-widgets/controls",
       "_model_module_version": "1.5.0",
       "_model_name": "HBoxModel",
       "_view_count": null,
       "_view_module": "@jupyter-widgets/controls",
       "_view_module_version": "1.5.0",
       "_view_name": "HBoxView",
       "box_style": "",
       "children": [
        "IPY_MODEL_6b8bff65e9fd419a80c036493b27be96",
        "IPY_MODEL_2d7ede724fe74b7eb948f70ed0b691f5",
        "IPY_MODEL_972fd285e9c04ef59905e7cd0ca34ecd"
       ],
       "layout": "IPY_MODEL_52278b55a2f348c584a02c59ebaf158b"
      }
     },
     "0ae0ddbf3a904c28969c725e55b9bc8d": {
      "model_module": "@jupyter-widgets/controls",
      "model_module_version": "1.5.0",
      "model_name": "DescriptionStyleModel",
      "state": {
       "_model_module": "@jupyter-widgets/controls",
       "_model_module_version": "1.5.0",
       "_model_name": "DescriptionStyleModel",
       "_view_count": null,
       "_view_module": "@jupyter-widgets/base",
       "_view_module_version": "1.2.0",
       "_view_name": "StyleView",
       "description_width": ""
      }
     },
     "0c915ddd14374962993a9eff7bf8b7cb": {
      "model_module": "@jupyter-widgets/base",
      "model_module_version": "1.2.0",
      "model_name": "LayoutModel",
      "state": {
       "_model_module": "@jupyter-widgets/base",
       "_model_module_version": "1.2.0",
       "_model_name": "LayoutModel",
       "_view_count": null,
       "_view_module": "@jupyter-widgets/base",
       "_view_module_version": "1.2.0",
       "_view_name": "LayoutView",
       "align_content": null,
       "align_items": null,
       "align_self": null,
       "border": null,
       "bottom": null,
       "display": null,
       "flex": null,
       "flex_flow": null,
       "grid_area": null,
       "grid_auto_columns": null,
       "grid_auto_flow": null,
       "grid_auto_rows": null,
       "grid_column": null,
       "grid_gap": null,
       "grid_row": null,
       "grid_template_areas": null,
       "grid_template_columns": null,
       "grid_template_rows": null,
       "height": null,
       "justify_content": null,
       "justify_items": null,
       "left": null,
       "margin": null,
       "max_height": null,
       "max_width": null,
       "min_height": null,
       "min_width": null,
       "object_fit": null,
       "object_position": null,
       "order": null,
       "overflow": null,
       "overflow_x": null,
       "overflow_y": null,
       "padding": null,
       "right": null,
       "top": null,
       "visibility": null,
       "width": null
      }
     },
     "0d339c6c9c0f40e08ca9e832f5dfddc7": {
      "model_module": "@jupyter-widgets/controls",
      "model_module_version": "1.5.0",
      "model_name": "ProgressStyleModel",
      "state": {
       "_model_module": "@jupyter-widgets/controls",
       "_model_module_version": "1.5.0",
       "_model_name": "ProgressStyleModel",
       "_view_count": null,
       "_view_module": "@jupyter-widgets/base",
       "_view_module_version": "1.2.0",
       "_view_name": "StyleView",
       "bar_color": null,
       "description_width": ""
      }
     },
     "0f00113d96514e3f8d84819a7f2942d6": {
      "model_module": "@jupyter-widgets/base",
      "model_module_version": "1.2.0",
      "model_name": "LayoutModel",
      "state": {
       "_model_module": "@jupyter-widgets/base",
       "_model_module_version": "1.2.0",
       "_model_name": "LayoutModel",
       "_view_count": null,
       "_view_module": "@jupyter-widgets/base",
       "_view_module_version": "1.2.0",
       "_view_name": "LayoutView",
       "align_content": null,
       "align_items": null,
       "align_self": null,
       "border": null,
       "bottom": null,
       "display": null,
       "flex": null,
       "flex_flow": null,
       "grid_area": null,
       "grid_auto_columns": null,
       "grid_auto_flow": null,
       "grid_auto_rows": null,
       "grid_column": null,
       "grid_gap": null,
       "grid_row": null,
       "grid_template_areas": null,
       "grid_template_columns": null,
       "grid_template_rows": null,
       "height": null,
       "justify_content": null,
       "justify_items": null,
       "left": null,
       "margin": null,
       "max_height": null,
       "max_width": null,
       "min_height": null,
       "min_width": null,
       "object_fit": null,
       "object_position": null,
       "order": null,
       "overflow": null,
       "overflow_x": null,
       "overflow_y": null,
       "padding": null,
       "right": null,
       "top": null,
       "visibility": null,
       "width": null
      }
     },
     "1778d2bc72c4445d92a21c68198d6b23": {
      "model_module": "@jupyter-widgets/base",
      "model_module_version": "1.2.0",
      "model_name": "LayoutModel",
      "state": {
       "_model_module": "@jupyter-widgets/base",
       "_model_module_version": "1.2.0",
       "_model_name": "LayoutModel",
       "_view_count": null,
       "_view_module": "@jupyter-widgets/base",
       "_view_module_version": "1.2.0",
       "_view_name": "LayoutView",
       "align_content": null,
       "align_items": null,
       "align_self": null,
       "border": null,
       "bottom": null,
       "display": null,
       "flex": null,
       "flex_flow": null,
       "grid_area": null,
       "grid_auto_columns": null,
       "grid_auto_flow": null,
       "grid_auto_rows": null,
       "grid_column": null,
       "grid_gap": null,
       "grid_row": null,
       "grid_template_areas": null,
       "grid_template_columns": null,
       "grid_template_rows": null,
       "height": null,
       "justify_content": null,
       "justify_items": null,
       "left": null,
       "margin": null,
       "max_height": null,
       "max_width": null,
       "min_height": null,
       "min_width": null,
       "object_fit": null,
       "object_position": null,
       "order": null,
       "overflow": null,
       "overflow_x": null,
       "overflow_y": null,
       "padding": null,
       "right": null,
       "top": null,
       "visibility": null,
       "width": null
      }
     },
     "1786a26865ff476197e33fbad4c23c56": {
      "model_module": "@jupyter-widgets/base",
      "model_module_version": "1.2.0",
      "model_name": "LayoutModel",
      "state": {
       "_model_module": "@jupyter-widgets/base",
       "_model_module_version": "1.2.0",
       "_model_name": "LayoutModel",
       "_view_count": null,
       "_view_module": "@jupyter-widgets/base",
       "_view_module_version": "1.2.0",
       "_view_name": "LayoutView",
       "align_content": null,
       "align_items": null,
       "align_self": null,
       "border": null,
       "bottom": null,
       "display": null,
       "flex": null,
       "flex_flow": null,
       "grid_area": null,
       "grid_auto_columns": null,
       "grid_auto_flow": null,
       "grid_auto_rows": null,
       "grid_column": null,
       "grid_gap": null,
       "grid_row": null,
       "grid_template_areas": null,
       "grid_template_columns": null,
       "grid_template_rows": null,
       "height": null,
       "justify_content": null,
       "justify_items": null,
       "left": null,
       "margin": null,
       "max_height": null,
       "max_width": null,
       "min_height": null,
       "min_width": null,
       "object_fit": null,
       "object_position": null,
       "order": null,
       "overflow": null,
       "overflow_x": null,
       "overflow_y": null,
       "padding": null,
       "right": null,
       "top": null,
       "visibility": null,
       "width": null
      }
     },
     "1829fa2fc57646dfb7382a5da6c94fc9": {
      "model_module": "@jupyter-widgets/base",
      "model_module_version": "1.2.0",
      "model_name": "LayoutModel",
      "state": {
       "_model_module": "@jupyter-widgets/base",
       "_model_module_version": "1.2.0",
       "_model_name": "LayoutModel",
       "_view_count": null,
       "_view_module": "@jupyter-widgets/base",
       "_view_module_version": "1.2.0",
       "_view_name": "LayoutView",
       "align_content": null,
       "align_items": null,
       "align_self": null,
       "border": null,
       "bottom": null,
       "display": null,
       "flex": null,
       "flex_flow": null,
       "grid_area": null,
       "grid_auto_columns": null,
       "grid_auto_flow": null,
       "grid_auto_rows": null,
       "grid_column": null,
       "grid_gap": null,
       "grid_row": null,
       "grid_template_areas": null,
       "grid_template_columns": null,
       "grid_template_rows": null,
       "height": null,
       "justify_content": null,
       "justify_items": null,
       "left": null,
       "margin": null,
       "max_height": null,
       "max_width": null,
       "min_height": null,
       "min_width": null,
       "object_fit": null,
       "object_position": null,
       "order": null,
       "overflow": null,
       "overflow_x": null,
       "overflow_y": null,
       "padding": null,
       "right": null,
       "top": null,
       "visibility": null,
       "width": null
      }
     },
     "1e60dc9c937b4a16a1c113bda173f214": {
      "model_module": "@jupyter-widgets/controls",
      "model_module_version": "1.5.0",
      "model_name": "FloatProgressModel",
      "state": {
       "_dom_classes": [],
       "_model_module": "@jupyter-widgets/controls",
       "_model_module_version": "1.5.0",
       "_model_name": "FloatProgressModel",
       "_view_count": null,
       "_view_module": "@jupyter-widgets/controls",
       "_view_module_version": "1.5.0",
       "_view_name": "ProgressView",
       "bar_style": "success",
       "description": "",
       "description_tooltip": null,
       "layout": "IPY_MODEL_4a8082f8e3c847a8a51e04793cd32592",
       "max": 231508.0,
       "min": 0.0,
       "orientation": "horizontal",
       "style": "IPY_MODEL_8d3c7b0210be45f4ac3fd14d3cb63feb",
       "value": 231508.0
      }
     },
     "24e1c40d6a034078bd27f676cfa978da": {
      "model_module": "@jupyter-widgets/controls",
      "model_module_version": "1.5.0",
      "model_name": "HBoxModel",
      "state": {
       "_dom_classes": [],
       "_model_module": "@jupyter-widgets/controls",
       "_model_module_version": "1.5.0",
       "_model_name": "HBoxModel",
       "_view_count": null,
       "_view_module": "@jupyter-widgets/controls",
       "_view_module_version": "1.5.0",
       "_view_name": "HBoxView",
       "box_style": "",
       "children": [
        "IPY_MODEL_9bfe6af503ca437799cb7a2f21fd6281",
        "IPY_MODEL_1e60dc9c937b4a16a1c113bda173f214",
        "IPY_MODEL_8f2e6353d21f48d9a2aea709a02b80e3"
       ],
       "layout": "IPY_MODEL_6d874d7db3fa4c0aa1da378700fc70f1"
      }
     },
     "29f6fcd0410544c99fadd70fb6bcb04c": {
      "model_module": "@jupyter-widgets/controls",
      "model_module_version": "1.5.0",
      "model_name": "ProgressStyleModel",
      "state": {
       "_model_module": "@jupyter-widgets/controls",
       "_model_module_version": "1.5.0",
       "_model_name": "ProgressStyleModel",
       "_view_count": null,
       "_view_module": "@jupyter-widgets/base",
       "_view_module_version": "1.2.0",
       "_view_name": "StyleView",
       "bar_color": null,
       "description_width": ""
      }
     },
     "2a5fee6ad257412282c407813e836bb8": {
      "model_module": "@jupyter-widgets/controls",
      "model_module_version": "1.5.0",
      "model_name": "HTMLModel",
      "state": {
       "_dom_classes": [],
       "_model_module": "@jupyter-widgets/controls",
       "_model_module_version": "1.5.0",
       "_model_name": "HTMLModel",
       "_view_count": null,
       "_view_module": "@jupyter-widgets/controls",
       "_view_module_version": "1.5.0",
       "_view_name": "HTMLView",
       "description": "",
       "description_tooltip": null,
       "layout": "IPY_MODEL_ee950fc545f642d0a9f046778453ebb3",
       "placeholder": "​",
       "style": "IPY_MODEL_c71dbea365a5428b8338348d6d12024a",
       "value": " 626/626 [09:02&lt;00:00,  1.40ba/s]"
      }
     },
     "2b1a5f19168f47a687397b2fc19d3b3f": {
      "model_module": "@jupyter-widgets/controls",
      "model_module_version": "1.5.0",
      "model_name": "DescriptionStyleModel",
      "state": {
       "_model_module": "@jupyter-widgets/controls",
       "_model_module_version": "1.5.0",
       "_model_name": "DescriptionStyleModel",
       "_view_count": null,
       "_view_module": "@jupyter-widgets/base",
       "_view_module_version": "1.2.0",
       "_view_name": "StyleView",
       "description_width": ""
      }
     },
     "2b7ba3ea4a20421ab80ae81f0be9d614": {
      "model_module": "@jupyter-widgets/base",
      "model_module_version": "1.2.0",
      "model_name": "LayoutModel",
      "state": {
       "_model_module": "@jupyter-widgets/base",
       "_model_module_version": "1.2.0",
       "_model_name": "LayoutModel",
       "_view_count": null,
       "_view_module": "@jupyter-widgets/base",
       "_view_module_version": "1.2.0",
       "_view_name": "LayoutView",
       "align_content": null,
       "align_items": null,
       "align_self": null,
       "border": null,
       "bottom": null,
       "display": null,
       "flex": null,
       "flex_flow": null,
       "grid_area": null,
       "grid_auto_columns": null,
       "grid_auto_flow": null,
       "grid_auto_rows": null,
       "grid_column": null,
       "grid_gap": null,
       "grid_row": null,
       "grid_template_areas": null,
       "grid_template_columns": null,
       "grid_template_rows": null,
       "height": null,
       "justify_content": null,
       "justify_items": null,
       "left": null,
       "margin": null,
       "max_height": null,
       "max_width": null,
       "min_height": null,
       "min_width": null,
       "object_fit": null,
       "object_position": null,
       "order": null,
       "overflow": null,
       "overflow_x": null,
       "overflow_y": null,
       "padding": null,
       "right": null,
       "top": null,
       "visibility": null,
       "width": null
      }
     },
     "2d7ede724fe74b7eb948f70ed0b691f5": {
      "model_module": "@jupyter-widgets/controls",
      "model_module_version": "1.5.0",
      "model_name": "FloatProgressModel",
      "state": {
       "_dom_classes": [],
       "_model_module": "@jupyter-widgets/controls",
       "_model_module_version": "1.5.0",
       "_model_name": "FloatProgressModel",
       "_view_count": null,
       "_view_module": "@jupyter-widgets/controls",
       "_view_module_version": "1.5.0",
       "_view_name": "ProgressView",
       "bar_style": "success",
       "description": "",
       "description_tooltip": null,
       "layout": "IPY_MODEL_6c46423338fe41939c61282571ba07e1",
       "max": 29.0,
       "min": 0.0,
       "orientation": "horizontal",
       "style": "IPY_MODEL_5eeb99480d69463da0a6d4b05d4f08c2",
       "value": 29.0
      }
     },
     "2efc68c9faea4204b815b11a088bf694": {
      "model_module": "@jupyter-widgets/controls",
      "model_module_version": "1.5.0",
      "model_name": "HTMLModel",
      "state": {
       "_dom_classes": [],
       "_model_module": "@jupyter-widgets/controls",
       "_model_module_version": "1.5.0",
       "_model_name": "HTMLModel",
       "_view_count": null,
       "_view_module": "@jupyter-widgets/controls",
       "_view_module_version": "1.5.0",
       "_view_name": "HTMLView",
       "description": "",
       "description_tooltip": null,
       "layout": "IPY_MODEL_633bd6106fc94b9f81d1ef9c25c9427e",
       "placeholder": "​",
       "style": "IPY_MODEL_c70139cb8eab44b495d248e3d26533bb",
       "value": " 157/157 [02:14&lt;00:00,  1.46ba/s]"
      }
     },
     "33cf37da62dd44aca93010bc1e15340a": {
      "model_module": "@jupyter-widgets/base",
      "model_module_version": "1.2.0",
      "model_name": "LayoutModel",
      "state": {
       "_model_module": "@jupyter-widgets/base",
       "_model_module_version": "1.2.0",
       "_model_name": "LayoutModel",
       "_view_count": null,
       "_view_module": "@jupyter-widgets/base",
       "_view_module_version": "1.2.0",
       "_view_name": "LayoutView",
       "align_content": null,
       "align_items": null,
       "align_self": null,
       "border": null,
       "bottom": null,
       "display": null,
       "flex": null,
       "flex_flow": null,
       "grid_area": null,
       "grid_auto_columns": null,
       "grid_auto_flow": null,
       "grid_auto_rows": null,
       "grid_column": null,
       "grid_gap": null,
       "grid_row": null,
       "grid_template_areas": null,
       "grid_template_columns": null,
       "grid_template_rows": null,
       "height": null,
       "justify_content": null,
       "justify_items": null,
       "left": null,
       "margin": null,
       "max_height": null,
       "max_width": null,
       "min_height": null,
       "min_width": null,
       "object_fit": null,
       "object_position": null,
       "order": null,
       "overflow": null,
       "overflow_x": null,
       "overflow_y": null,
       "padding": null,
       "right": null,
       "top": null,
       "visibility": null,
       "width": null
      }
     },
     "3516e972aeeb4880a1c927ca93766ccc": {
      "model_module": "@jupyter-widgets/base",
      "model_module_version": "1.2.0",
      "model_name": "LayoutModel",
      "state": {
       "_model_module": "@jupyter-widgets/base",
       "_model_module_version": "1.2.0",
       "_model_name": "LayoutModel",
       "_view_count": null,
       "_view_module": "@jupyter-widgets/base",
       "_view_module_version": "1.2.0",
       "_view_name": "LayoutView",
       "align_content": null,
       "align_items": null,
       "align_self": null,
       "border": null,
       "bottom": null,
       "display": null,
       "flex": null,
       "flex_flow": null,
       "grid_area": null,
       "grid_auto_columns": null,
       "grid_auto_flow": null,
       "grid_auto_rows": null,
       "grid_column": null,
       "grid_gap": null,
       "grid_row": null,
       "grid_template_areas": null,
       "grid_template_columns": null,
       "grid_template_rows": null,
       "height": null,
       "justify_content": null,
       "justify_items": null,
       "left": null,
       "margin": null,
       "max_height": null,
       "max_width": null,
       "min_height": null,
       "min_width": null,
       "object_fit": null,
       "object_position": null,
       "order": null,
       "overflow": null,
       "overflow_x": null,
       "overflow_y": null,
       "padding": null,
       "right": null,
       "top": null,
       "visibility": null,
       "width": null
      }
     },
     "36cdbbd7b50049c89f3c0dc050a25ebb": {
      "model_module": "@jupyter-widgets/controls",
      "model_module_version": "1.5.0",
      "model_name": "HTMLModel",
      "state": {
       "_dom_classes": [],
       "_model_module": "@jupyter-widgets/controls",
       "_model_module_version": "1.5.0",
       "_model_name": "HTMLModel",
       "_view_count": null,
       "_view_module": "@jupyter-widgets/controls",
       "_view_module_version": "1.5.0",
       "_view_name": "HTMLView",
       "description": "",
       "description_tooltip": null,
       "layout": "IPY_MODEL_3516e972aeeb4880a1c927ca93766ccc",
       "placeholder": "​",
       "style": "IPY_MODEL_7a62d438968c41d29ab0939171d3895a",
       "value": "Downloading: 100%"
      }
     },
     "449192fbf7604d03a66714300be1be3e": {
      "model_module": "@jupyter-widgets/base",
      "model_module_version": "1.2.0",
      "model_name": "LayoutModel",
      "state": {
       "_model_module": "@jupyter-widgets/base",
       "_model_module_version": "1.2.0",
       "_model_name": "LayoutModel",
       "_view_count": null,
       "_view_module": "@jupyter-widgets/base",
       "_view_module_version": "1.2.0",
       "_view_name": "LayoutView",
       "align_content": null,
       "align_items": null,
       "align_self": null,
       "border": null,
       "bottom": null,
       "display": null,
       "flex": null,
       "flex_flow": null,
       "grid_area": null,
       "grid_auto_columns": null,
       "grid_auto_flow": null,
       "grid_auto_rows": null,
       "grid_column": null,
       "grid_gap": null,
       "grid_row": null,
       "grid_template_areas": null,
       "grid_template_columns": null,
       "grid_template_rows": null,
       "height": null,
       "justify_content": null,
       "justify_items": null,
       "left": null,
       "margin": null,
       "max_height": null,
       "max_width": null,
       "min_height": null,
       "min_width": null,
       "object_fit": null,
       "object_position": null,
       "order": null,
       "overflow": null,
       "overflow_x": null,
       "overflow_y": null,
       "padding": null,
       "right": null,
       "top": null,
       "visibility": null,
       "width": null
      }
     },
     "4980b0cb0d3b4e66a0a1e397261068af": {
      "model_module": "@jupyter-widgets/base",
      "model_module_version": "1.2.0",
      "model_name": "LayoutModel",
      "state": {
       "_model_module": "@jupyter-widgets/base",
       "_model_module_version": "1.2.0",
       "_model_name": "LayoutModel",
       "_view_count": null,
       "_view_module": "@jupyter-widgets/base",
       "_view_module_version": "1.2.0",
       "_view_name": "LayoutView",
       "align_content": null,
       "align_items": null,
       "align_self": null,
       "border": null,
       "bottom": null,
       "display": null,
       "flex": null,
       "flex_flow": null,
       "grid_area": null,
       "grid_auto_columns": null,
       "grid_auto_flow": null,
       "grid_auto_rows": null,
       "grid_column": null,
       "grid_gap": null,
       "grid_row": null,
       "grid_template_areas": null,
       "grid_template_columns": null,
       "grid_template_rows": null,
       "height": null,
       "justify_content": null,
       "justify_items": null,
       "left": null,
       "margin": null,
       "max_height": null,
       "max_width": null,
       "min_height": null,
       "min_width": null,
       "object_fit": null,
       "object_position": null,
       "order": null,
       "overflow": null,
       "overflow_x": null,
       "overflow_y": null,
       "padding": null,
       "right": null,
       "top": null,
       "visibility": null,
       "width": null
      }
     },
     "4a8082f8e3c847a8a51e04793cd32592": {
      "model_module": "@jupyter-widgets/base",
      "model_module_version": "1.2.0",
      "model_name": "LayoutModel",
      "state": {
       "_model_module": "@jupyter-widgets/base",
       "_model_module_version": "1.2.0",
       "_model_name": "LayoutModel",
       "_view_count": null,
       "_view_module": "@jupyter-widgets/base",
       "_view_module_version": "1.2.0",
       "_view_name": "LayoutView",
       "align_content": null,
       "align_items": null,
       "align_self": null,
       "border": null,
       "bottom": null,
       "display": null,
       "flex": null,
       "flex_flow": null,
       "grid_area": null,
       "grid_auto_columns": null,
       "grid_auto_flow": null,
       "grid_auto_rows": null,
       "grid_column": null,
       "grid_gap": null,
       "grid_row": null,
       "grid_template_areas": null,
       "grid_template_columns": null,
       "grid_template_rows": null,
       "height": null,
       "justify_content": null,
       "justify_items": null,
       "left": null,
       "margin": null,
       "max_height": null,
       "max_width": null,
       "min_height": null,
       "min_width": null,
       "object_fit": null,
       "object_position": null,
       "order": null,
       "overflow": null,
       "overflow_x": null,
       "overflow_y": null,
       "padding": null,
       "right": null,
       "top": null,
       "visibility": null,
       "width": null
      }
     },
     "4cd599cb9ab740bf809b8d3ce9ce242e": {
      "model_module": "@jupyter-widgets/controls",
      "model_module_version": "1.5.0",
      "model_name": "HTMLModel",
      "state": {
       "_dom_classes": [],
       "_model_module": "@jupyter-widgets/controls",
       "_model_module_version": "1.5.0",
       "_model_name": "HTMLModel",
       "_view_count": null,
       "_view_module": "@jupyter-widgets/controls",
       "_view_module_version": "1.5.0",
       "_view_name": "HTMLView",
       "description": "",
       "description_tooltip": null,
       "layout": "IPY_MODEL_1829fa2fc57646dfb7382a5da6c94fc9",
       "placeholder": "​",
       "style": "IPY_MODEL_5cc011b39452473a9bc0ebad8d0cf8d9",
       "value": " 455k/455k [00:00&lt;00:00, 598kB/s]"
      }
     },
     "514fa77cd02c4fc7bf6dad3499500b58": {
      "model_module": "@jupyter-widgets/controls",
      "model_module_version": "1.5.0",
      "model_name": "HTMLModel",
      "state": {
       "_dom_classes": [],
       "_model_module": "@jupyter-widgets/controls",
       "_model_module_version": "1.5.0",
       "_model_name": "HTMLModel",
       "_view_count": null,
       "_view_module": "@jupyter-widgets/controls",
       "_view_module_version": "1.5.0",
       "_view_name": "HTMLView",
       "description": "",
       "description_tooltip": null,
       "layout": "IPY_MODEL_0f00113d96514e3f8d84819a7f2942d6",
       "placeholder": "​",
       "style": "IPY_MODEL_ed5ec33d0b514f158b7901894a2dac57",
       "value": "100%"
      }
     },
     "52278b55a2f348c584a02c59ebaf158b": {
      "model_module": "@jupyter-widgets/base",
      "model_module_version": "1.2.0",
      "model_name": "LayoutModel",
      "state": {
       "_model_module": "@jupyter-widgets/base",
       "_model_module_version": "1.2.0",
       "_model_name": "LayoutModel",
       "_view_count": null,
       "_view_module": "@jupyter-widgets/base",
       "_view_module_version": "1.2.0",
       "_view_name": "LayoutView",
       "align_content": null,
       "align_items": null,
       "align_self": null,
       "border": null,
       "bottom": null,
       "display": null,
       "flex": null,
       "flex_flow": null,
       "grid_area": null,
       "grid_auto_columns": null,
       "grid_auto_flow": null,
       "grid_auto_rows": null,
       "grid_column": null,
       "grid_gap": null,
       "grid_row": null,
       "grid_template_areas": null,
       "grid_template_columns": null,
       "grid_template_rows": null,
       "height": null,
       "justify_content": null,
       "justify_items": null,
       "left": null,
       "margin": null,
       "max_height": null,
       "max_width": null,
       "min_height": null,
       "min_width": null,
       "object_fit": null,
       "object_position": null,
       "order": null,
       "overflow": null,
       "overflow_x": null,
       "overflow_y": null,
       "padding": null,
       "right": null,
       "top": null,
       "visibility": null,
       "width": null
      }
     },
     "5cc011b39452473a9bc0ebad8d0cf8d9": {
      "model_module": "@jupyter-widgets/controls",
      "model_module_version": "1.5.0",
      "model_name": "DescriptionStyleModel",
      "state": {
       "_model_module": "@jupyter-widgets/controls",
       "_model_module_version": "1.5.0",
       "_model_name": "DescriptionStyleModel",
       "_view_count": null,
       "_view_module": "@jupyter-widgets/base",
       "_view_module_version": "1.2.0",
       "_view_name": "StyleView",
       "description_width": ""
      }
     },
     "5d3352e01ea34a3e878dec3c0caf288e": {
      "model_module": "@jupyter-widgets/controls",
      "model_module_version": "1.5.0",
      "model_name": "HBoxModel",
      "state": {
       "_dom_classes": [],
       "_model_module": "@jupyter-widgets/controls",
       "_model_module_version": "1.5.0",
       "_model_name": "HBoxModel",
       "_view_count": null,
       "_view_module": "@jupyter-widgets/controls",
       "_view_module_version": "1.5.0",
       "_view_name": "HBoxView",
       "box_style": "",
       "children": [
        "IPY_MODEL_36cdbbd7b50049c89f3c0dc050a25ebb",
        "IPY_MODEL_961a9edfc7d7455da02c5c69f0ad4f4c",
        "IPY_MODEL_8f3a9d1e721e4988bf5ac0408b9be3d9"
       ],
       "layout": "IPY_MODEL_1786a26865ff476197e33fbad4c23c56"
      }
     },
     "5d8cfc17385f4cd4a3af6b2259151220": {
      "model_module": "@jupyter-widgets/controls",
      "model_module_version": "1.5.0",
      "model_name": "HBoxModel",
      "state": {
       "_dom_classes": [],
       "_model_module": "@jupyter-widgets/controls",
       "_model_module_version": "1.5.0",
       "_model_name": "HBoxModel",
       "_view_count": null,
       "_view_module": "@jupyter-widgets/controls",
       "_view_module_version": "1.5.0",
       "_view_name": "HBoxView",
       "box_style": "",
       "children": [
        "IPY_MODEL_514fa77cd02c4fc7bf6dad3499500b58",
        "IPY_MODEL_b769afcde79446129724336a04bb8609",
        "IPY_MODEL_2a5fee6ad257412282c407813e836bb8"
       ],
       "layout": "IPY_MODEL_dbbc1701cb284ec1a6feb9b8104f6def"
      }
     },
     "5eeb99480d69463da0a6d4b05d4f08c2": {
      "model_module": "@jupyter-widgets/controls",
      "model_module_version": "1.5.0",
      "model_name": "ProgressStyleModel",
      "state": {
       "_model_module": "@jupyter-widgets/controls",
       "_model_module_version": "1.5.0",
       "_model_name": "ProgressStyleModel",
       "_view_count": null,
       "_view_module": "@jupyter-widgets/base",
       "_view_module_version": "1.2.0",
       "_view_name": "StyleView",
       "bar_color": null,
       "description_width": ""
      }
     },
     "5facb541c40b476887cd22609c35edcf": {
      "model_module": "@jupyter-widgets/base",
      "model_module_version": "1.2.0",
      "model_name": "LayoutModel",
      "state": {
       "_model_module": "@jupyter-widgets/base",
       "_model_module_version": "1.2.0",
       "_model_name": "LayoutModel",
       "_view_count": null,
       "_view_module": "@jupyter-widgets/base",
       "_view_module_version": "1.2.0",
       "_view_name": "LayoutView",
       "align_content": null,
       "align_items": null,
       "align_self": null,
       "border": null,
       "bottom": null,
       "display": null,
       "flex": null,
       "flex_flow": null,
       "grid_area": null,
       "grid_auto_columns": null,
       "grid_auto_flow": null,
       "grid_auto_rows": null,
       "grid_column": null,
       "grid_gap": null,
       "grid_row": null,
       "grid_template_areas": null,
       "grid_template_columns": null,
       "grid_template_rows": null,
       "height": null,
       "justify_content": null,
       "justify_items": null,
       "left": null,
       "margin": null,
       "max_height": null,
       "max_width": null,
       "min_height": null,
       "min_width": null,
       "object_fit": null,
       "object_position": null,
       "order": null,
       "overflow": null,
       "overflow_x": null,
       "overflow_y": null,
       "padding": null,
       "right": null,
       "top": null,
       "visibility": null,
       "width": null
      }
     },
     "5fba6838537449189246b33003e619d5": {
      "model_module": "@jupyter-widgets/base",
      "model_module_version": "1.2.0",
      "model_name": "LayoutModel",
      "state": {
       "_model_module": "@jupyter-widgets/base",
       "_model_module_version": "1.2.0",
       "_model_name": "LayoutModel",
       "_view_count": null,
       "_view_module": "@jupyter-widgets/base",
       "_view_module_version": "1.2.0",
       "_view_name": "LayoutView",
       "align_content": null,
       "align_items": null,
       "align_self": null,
       "border": null,
       "bottom": null,
       "display": null,
       "flex": null,
       "flex_flow": null,
       "grid_area": null,
       "grid_auto_columns": null,
       "grid_auto_flow": null,
       "grid_auto_rows": null,
       "grid_column": null,
       "grid_gap": null,
       "grid_row": null,
       "grid_template_areas": null,
       "grid_template_columns": null,
       "grid_template_rows": null,
       "height": null,
       "justify_content": null,
       "justify_items": null,
       "left": null,
       "margin": null,
       "max_height": null,
       "max_width": null,
       "min_height": null,
       "min_width": null,
       "object_fit": null,
       "object_position": null,
       "order": null,
       "overflow": null,
       "overflow_x": null,
       "overflow_y": null,
       "padding": null,
       "right": null,
       "top": null,
       "visibility": null,
       "width": null
      }
     },
     "616f76ede49b4645a37935da3a611486": {
      "model_module": "@jupyter-widgets/controls",
      "model_module_version": "1.5.0",
      "model_name": "DescriptionStyleModel",
      "state": {
       "_model_module": "@jupyter-widgets/controls",
       "_model_module_version": "1.5.0",
       "_model_name": "DescriptionStyleModel",
       "_view_count": null,
       "_view_module": "@jupyter-widgets/base",
       "_view_module_version": "1.2.0",
       "_view_name": "StyleView",
       "description_width": ""
      }
     },
     "633bd6106fc94b9f81d1ef9c25c9427e": {
      "model_module": "@jupyter-widgets/base",
      "model_module_version": "1.2.0",
      "model_name": "LayoutModel",
      "state": {
       "_model_module": "@jupyter-widgets/base",
       "_model_module_version": "1.2.0",
       "_model_name": "LayoutModel",
       "_view_count": null,
       "_view_module": "@jupyter-widgets/base",
       "_view_module_version": "1.2.0",
       "_view_name": "LayoutView",
       "align_content": null,
       "align_items": null,
       "align_self": null,
       "border": null,
       "bottom": null,
       "display": null,
       "flex": null,
       "flex_flow": null,
       "grid_area": null,
       "grid_auto_columns": null,
       "grid_auto_flow": null,
       "grid_auto_rows": null,
       "grid_column": null,
       "grid_gap": null,
       "grid_row": null,
       "grid_template_areas": null,
       "grid_template_columns": null,
       "grid_template_rows": null,
       "height": null,
       "justify_content": null,
       "justify_items": null,
       "left": null,
       "margin": null,
       "max_height": null,
       "max_width": null,
       "min_height": null,
       "min_width": null,
       "object_fit": null,
       "object_position": null,
       "order": null,
       "overflow": null,
       "overflow_x": null,
       "overflow_y": null,
       "padding": null,
       "right": null,
       "top": null,
       "visibility": null,
       "width": null
      }
     },
     "69fc959c65934f5cb10cb1a42f1793d4": {
      "model_module": "@jupyter-widgets/base",
      "model_module_version": "1.2.0",
      "model_name": "LayoutModel",
      "state": {
       "_model_module": "@jupyter-widgets/base",
       "_model_module_version": "1.2.0",
       "_model_name": "LayoutModel",
       "_view_count": null,
       "_view_module": "@jupyter-widgets/base",
       "_view_module_version": "1.2.0",
       "_view_name": "LayoutView",
       "align_content": null,
       "align_items": null,
       "align_self": null,
       "border": null,
       "bottom": null,
       "display": null,
       "flex": null,
       "flex_flow": null,
       "grid_area": null,
       "grid_auto_columns": null,
       "grid_auto_flow": null,
       "grid_auto_rows": null,
       "grid_column": null,
       "grid_gap": null,
       "grid_row": null,
       "grid_template_areas": null,
       "grid_template_columns": null,
       "grid_template_rows": null,
       "height": null,
       "justify_content": null,
       "justify_items": null,
       "left": null,
       "margin": null,
       "max_height": null,
       "max_width": null,
       "min_height": null,
       "min_width": null,
       "object_fit": null,
       "object_position": null,
       "order": null,
       "overflow": null,
       "overflow_x": null,
       "overflow_y": null,
       "padding": null,
       "right": null,
       "top": null,
       "visibility": null,
       "width": null
      }
     },
     "6b8bff65e9fd419a80c036493b27be96": {
      "model_module": "@jupyter-widgets/controls",
      "model_module_version": "1.5.0",
      "model_name": "HTMLModel",
      "state": {
       "_dom_classes": [],
       "_model_module": "@jupyter-widgets/controls",
       "_model_module_version": "1.5.0",
       "_model_name": "HTMLModel",
       "_view_count": null,
       "_view_module": "@jupyter-widgets/controls",
       "_view_module_version": "1.5.0",
       "_view_name": "HTMLView",
       "description": "",
       "description_tooltip": null,
       "layout": "IPY_MODEL_4980b0cb0d3b4e66a0a1e397261068af",
       "placeholder": "​",
       "style": "IPY_MODEL_616f76ede49b4645a37935da3a611486",
       "value": "Downloading: 100%"
      }
     },
     "6c1cd18dea3b44f185d2108bcfb3c754": {
      "model_module": "@jupyter-widgets/controls",
      "model_module_version": "1.5.0",
      "model_name": "HTMLModel",
      "state": {
       "_dom_classes": [],
       "_model_module": "@jupyter-widgets/controls",
       "_model_module_version": "1.5.0",
       "_model_name": "HTMLModel",
       "_view_count": null,
       "_view_module": "@jupyter-widgets/controls",
       "_view_module_version": "1.5.0",
       "_view_name": "HTMLView",
       "description": "",
       "description_tooltip": null,
       "layout": "IPY_MODEL_b8b54289fc354de988d7483cf356c81e",
       "placeholder": "​",
       "style": "IPY_MODEL_eb9a49e2127946d4895af09979e1da55",
       "value": "Downloading: 100%"
      }
     },
     "6c46423338fe41939c61282571ba07e1": {
      "model_module": "@jupyter-widgets/base",
      "model_module_version": "1.2.0",
      "model_name": "LayoutModel",
      "state": {
       "_model_module": "@jupyter-widgets/base",
       "_model_module_version": "1.2.0",
       "_model_name": "LayoutModel",
       "_view_count": null,
       "_view_module": "@jupyter-widgets/base",
       "_view_module_version": "1.2.0",
       "_view_name": "LayoutView",
       "align_content": null,
       "align_items": null,
       "align_self": null,
       "border": null,
       "bottom": null,
       "display": null,
       "flex": null,
       "flex_flow": null,
       "grid_area": null,
       "grid_auto_columns": null,
       "grid_auto_flow": null,
       "grid_auto_rows": null,
       "grid_column": null,
       "grid_gap": null,
       "grid_row": null,
       "grid_template_areas": null,
       "grid_template_columns": null,
       "grid_template_rows": null,
       "height": null,
       "justify_content": null,
       "justify_items": null,
       "left": null,
       "margin": null,
       "max_height": null,
       "max_width": null,
       "min_height": null,
       "min_width": null,
       "object_fit": null,
       "object_position": null,
       "order": null,
       "overflow": null,
       "overflow_x": null,
       "overflow_y": null,
       "padding": null,
       "right": null,
       "top": null,
       "visibility": null,
       "width": null
      }
     },
     "6d874d7db3fa4c0aa1da378700fc70f1": {
      "model_module": "@jupyter-widgets/base",
      "model_module_version": "1.2.0",
      "model_name": "LayoutModel",
      "state": {
       "_model_module": "@jupyter-widgets/base",
       "_model_module_version": "1.2.0",
       "_model_name": "LayoutModel",
       "_view_count": null,
       "_view_module": "@jupyter-widgets/base",
       "_view_module_version": "1.2.0",
       "_view_name": "LayoutView",
       "align_content": null,
       "align_items": null,
       "align_self": null,
       "border": null,
       "bottom": null,
       "display": null,
       "flex": null,
       "flex_flow": null,
       "grid_area": null,
       "grid_auto_columns": null,
       "grid_auto_flow": null,
       "grid_auto_rows": null,
       "grid_column": null,
       "grid_gap": null,
       "grid_row": null,
       "grid_template_areas": null,
       "grid_template_columns": null,
       "grid_template_rows": null,
       "height": null,
       "justify_content": null,
       "justify_items": null,
       "left": null,
       "margin": null,
       "max_height": null,
       "max_width": null,
       "min_height": null,
       "min_width": null,
       "object_fit": null,
       "object_position": null,
       "order": null,
       "overflow": null,
       "overflow_x": null,
       "overflow_y": null,
       "padding": null,
       "right": null,
       "top": null,
       "visibility": null,
       "width": null
      }
     },
     "728c10cd696c486ba168635e51f0143c": {
      "model_module": "@jupyter-widgets/controls",
      "model_module_version": "1.5.0",
      "model_name": "FloatProgressModel",
      "state": {
       "_dom_classes": [],
       "_model_module": "@jupyter-widgets/controls",
       "_model_module_version": "1.5.0",
       "_model_name": "FloatProgressModel",
       "_view_count": null,
       "_view_module": "@jupyter-widgets/controls",
       "_view_module_version": "1.5.0",
       "_view_name": "ProgressView",
       "bar_style": "success",
       "description": "",
       "description_tooltip": null,
       "layout": "IPY_MODEL_8333bc724dda46d58d9a91a9019bde70",
       "max": 665.0,
       "min": 0.0,
       "orientation": "horizontal",
       "style": "IPY_MODEL_a2e8ac97dda64cf68dc264aa853ca845",
       "value": 665.0
      }
     },
     "748e86e0e91b4a04a17ce3532f377535": {
      "model_module": "@jupyter-widgets/controls",
      "model_module_version": "1.5.0",
      "model_name": "FloatProgressModel",
      "state": {
       "_dom_classes": [],
       "_model_module": "@jupyter-widgets/controls",
       "_model_module_version": "1.5.0",
       "_model_name": "FloatProgressModel",
       "_view_count": null,
       "_view_module": "@jupyter-widgets/controls",
       "_view_module_version": "1.5.0",
       "_view_name": "ProgressView",
       "bar_style": "success",
       "description": "",
       "description_tooltip": null,
       "layout": "IPY_MODEL_33cf37da62dd44aca93010bc1e15340a",
       "max": 466062.0,
       "min": 0.0,
       "orientation": "horizontal",
       "style": "IPY_MODEL_29f6fcd0410544c99fadd70fb6bcb04c",
       "value": 466062.0
      }
     },
     "7a62d438968c41d29ab0939171d3895a": {
      "model_module": "@jupyter-widgets/controls",
      "model_module_version": "1.5.0",
      "model_name": "DescriptionStyleModel",
      "state": {
       "_model_module": "@jupyter-widgets/controls",
       "_model_module_version": "1.5.0",
       "_model_name": "DescriptionStyleModel",
       "_view_count": null,
       "_view_module": "@jupyter-widgets/base",
       "_view_module_version": "1.2.0",
       "_view_name": "StyleView",
       "description_width": ""
      }
     },
     "8333bc724dda46d58d9a91a9019bde70": {
      "model_module": "@jupyter-widgets/base",
      "model_module_version": "1.2.0",
      "model_name": "LayoutModel",
      "state": {
       "_model_module": "@jupyter-widgets/base",
       "_model_module_version": "1.2.0",
       "_model_name": "LayoutModel",
       "_view_count": null,
       "_view_module": "@jupyter-widgets/base",
       "_view_module_version": "1.2.0",
       "_view_name": "LayoutView",
       "align_content": null,
       "align_items": null,
       "align_self": null,
       "border": null,
       "bottom": null,
       "display": null,
       "flex": null,
       "flex_flow": null,
       "grid_area": null,
       "grid_auto_columns": null,
       "grid_auto_flow": null,
       "grid_auto_rows": null,
       "grid_column": null,
       "grid_gap": null,
       "grid_row": null,
       "grid_template_areas": null,
       "grid_template_columns": null,
       "grid_template_rows": null,
       "height": null,
       "justify_content": null,
       "justify_items": null,
       "left": null,
       "margin": null,
       "max_height": null,
       "max_width": null,
       "min_height": null,
       "min_width": null,
       "object_fit": null,
       "object_position": null,
       "order": null,
       "overflow": null,
       "overflow_x": null,
       "overflow_y": null,
       "padding": null,
       "right": null,
       "top": null,
       "visibility": null,
       "width": null
      }
     },
     "8895e65ae8ea4eff90ec78ca3e0cf76d": {
      "model_module": "@jupyter-widgets/controls",
      "model_module_version": "1.5.0",
      "model_name": "FloatProgressModel",
      "state": {
       "_dom_classes": [],
       "_model_module": "@jupyter-widgets/controls",
       "_model_module_version": "1.5.0",
       "_model_name": "FloatProgressModel",
       "_view_count": null,
       "_view_module": "@jupyter-widgets/controls",
       "_view_module_version": "1.5.0",
       "_view_name": "ProgressView",
       "bar_style": "success",
       "description": "",
       "description_tooltip": null,
       "layout": "IPY_MODEL_935e95ba5bf34a43b5a0fa6565be5144",
       "max": 157.0,
       "min": 0.0,
       "orientation": "horizontal",
       "style": "IPY_MODEL_dbfdd05e8c124559a1b73dcde787ecc0",
       "value": 157.0
      }
     },
     "8d3c7b0210be45f4ac3fd14d3cb63feb": {
      "model_module": "@jupyter-widgets/controls",
      "model_module_version": "1.5.0",
      "model_name": "ProgressStyleModel",
      "state": {
       "_model_module": "@jupyter-widgets/controls",
       "_model_module_version": "1.5.0",
       "_model_name": "ProgressStyleModel",
       "_view_count": null,
       "_view_module": "@jupyter-widgets/base",
       "_view_module_version": "1.2.0",
       "_view_name": "StyleView",
       "bar_color": null,
       "description_width": ""
      }
     },
     "8f2e6353d21f48d9a2aea709a02b80e3": {
      "model_module": "@jupyter-widgets/controls",
      "model_module_version": "1.5.0",
      "model_name": "HTMLModel",
      "state": {
       "_dom_classes": [],
       "_model_module": "@jupyter-widgets/controls",
       "_model_module_version": "1.5.0",
       "_model_name": "HTMLModel",
       "_view_count": null,
       "_view_module": "@jupyter-widgets/controls",
       "_view_module_version": "1.5.0",
       "_view_name": "HTMLView",
       "description": "",
       "description_tooltip": null,
       "layout": "IPY_MODEL_a4a2e684a1454843b263c0047eeea55a",
       "placeholder": "​",
       "style": "IPY_MODEL_e7bbff64bbf245549f30331ca20a112b",
       "value": " 226k/226k [00:00&lt;00:00, 366kB/s]"
      }
     },
     "8f3a9d1e721e4988bf5ac0408b9be3d9": {
      "model_module": "@jupyter-widgets/controls",
      "model_module_version": "1.5.0",
      "model_name": "HTMLModel",
      "state": {
       "_dom_classes": [],
       "_model_module": "@jupyter-widgets/controls",
       "_model_module_version": "1.5.0",
       "_model_name": "HTMLModel",
       "_view_count": null,
       "_view_module": "@jupyter-widgets/controls",
       "_view_module_version": "1.5.0",
       "_view_name": "HTMLView",
       "description": "",
       "description_tooltip": null,
       "layout": "IPY_MODEL_2b7ba3ea4a20421ab80ae81f0be9d614",
       "placeholder": "​",
       "style": "IPY_MODEL_b34eecf3cf8849a1b15c949471fb7192",
       "value": " 51.7M/51.7M [00:05&lt;00:00, 12.8MB/s]"
      }
     },
     "935e95ba5bf34a43b5a0fa6565be5144": {
      "model_module": "@jupyter-widgets/base",
      "model_module_version": "1.2.0",
      "model_name": "LayoutModel",
      "state": {
       "_model_module": "@jupyter-widgets/base",
       "_model_module_version": "1.2.0",
       "_model_name": "LayoutModel",
       "_view_count": null,
       "_view_module": "@jupyter-widgets/base",
       "_view_module_version": "1.2.0",
       "_view_name": "LayoutView",
       "align_content": null,
       "align_items": null,
       "align_self": null,
       "border": null,
       "bottom": null,
       "display": null,
       "flex": null,
       "flex_flow": null,
       "grid_area": null,
       "grid_auto_columns": null,
       "grid_auto_flow": null,
       "grid_auto_rows": null,
       "grid_column": null,
       "grid_gap": null,
       "grid_row": null,
       "grid_template_areas": null,
       "grid_template_columns": null,
       "grid_template_rows": null,
       "height": null,
       "justify_content": null,
       "justify_items": null,
       "left": null,
       "margin": null,
       "max_height": null,
       "max_width": null,
       "min_height": null,
       "min_width": null,
       "object_fit": null,
       "object_position": null,
       "order": null,
       "overflow": null,
       "overflow_x": null,
       "overflow_y": null,
       "padding": null,
       "right": null,
       "top": null,
       "visibility": null,
       "width": null
      }
     },
     "961a9edfc7d7455da02c5c69f0ad4f4c": {
      "model_module": "@jupyter-widgets/controls",
      "model_module_version": "1.5.0",
      "model_name": "FloatProgressModel",
      "state": {
       "_dom_classes": [],
       "_model_module": "@jupyter-widgets/controls",
       "_model_module_version": "1.5.0",
       "_model_name": "FloatProgressModel",
       "_view_count": null,
       "_view_module": "@jupyter-widgets/controls",
       "_view_module_version": "1.5.0",
       "_view_name": "ProgressView",
       "bar_style": "success",
       "description": "",
       "description_tooltip": null,
       "layout": "IPY_MODEL_0c915ddd14374962993a9eff7bf8b7cb",
       "max": 54245363.0,
       "min": 0.0,
       "orientation": "horizontal",
       "style": "IPY_MODEL_00e060ac7dab44bb959c5828e8cc3861",
       "value": 54245363.0
      }
     },
     "972fd285e9c04ef59905e7cd0ca34ecd": {
      "model_module": "@jupyter-widgets/controls",
      "model_module_version": "1.5.0",
      "model_name": "HTMLModel",
      "state": {
       "_dom_classes": [],
       "_model_module": "@jupyter-widgets/controls",
       "_model_module_version": "1.5.0",
       "_model_name": "HTMLModel",
       "_view_count": null,
       "_view_module": "@jupyter-widgets/controls",
       "_view_module_version": "1.5.0",
       "_view_name": "HTMLView",
       "description": "",
       "description_tooltip": null,
       "layout": "IPY_MODEL_1778d2bc72c4445d92a21c68198d6b23",
       "placeholder": "​",
       "style": "IPY_MODEL_2b1a5f19168f47a687397b2fc19d3b3f",
       "value": " 29.0/29.0 [00:00&lt;00:00, 991B/s]"
      }
     },
     "97884edd4f0a40378f5191974fd7c461": {
      "model_module": "@jupyter-widgets/controls",
      "model_module_version": "1.5.0",
      "model_name": "HTMLModel",
      "state": {
       "_dom_classes": [],
       "_model_module": "@jupyter-widgets/controls",
       "_model_module_version": "1.5.0",
       "_model_name": "HTMLModel",
       "_view_count": null,
       "_view_module": "@jupyter-widgets/controls",
       "_view_module_version": "1.5.0",
       "_view_name": "HTMLView",
       "description": "",
       "description_tooltip": null,
       "layout": "IPY_MODEL_0500ac7bdf1a451a9a1e394e3e1e20f4",
       "placeholder": "​",
       "style": "IPY_MODEL_e3e3074ace5c4982b9bd0765abd866a8",
       "value": " 665/665 [00:00&lt;00:00, 22.1kB/s]"
      }
     },
     "9be1da817fd0442db0203e1573927133": {
      "model_module": "@jupyter-widgets/controls",
      "model_module_version": "1.5.0",
      "model_name": "HTMLModel",
      "state": {
       "_dom_classes": [],
       "_model_module": "@jupyter-widgets/controls",
       "_model_module_version": "1.5.0",
       "_model_name": "HTMLModel",
       "_view_count": null,
       "_view_module": "@jupyter-widgets/controls",
       "_view_module_version": "1.5.0",
       "_view_name": "HTMLView",
       "description": "",
       "description_tooltip": null,
       "layout": "IPY_MODEL_5fba6838537449189246b33003e619d5",
       "placeholder": "​",
       "style": "IPY_MODEL_0ae0ddbf3a904c28969c725e55b9bc8d",
       "value": "Downloading: 100%"
      }
     },
     "9bfe6af503ca437799cb7a2f21fd6281": {
      "model_module": "@jupyter-widgets/controls",
      "model_module_version": "1.5.0",
      "model_name": "HTMLModel",
      "state": {
       "_dom_classes": [],
       "_model_module": "@jupyter-widgets/controls",
       "_model_module_version": "1.5.0",
       "_model_name": "HTMLModel",
       "_view_count": null,
       "_view_module": "@jupyter-widgets/controls",
       "_view_module_version": "1.5.0",
       "_view_name": "HTMLView",
       "description": "",
       "description_tooltip": null,
       "layout": "IPY_MODEL_ace0e17a6d64453e85155aec36f82d38",
       "placeholder": "​",
       "style": "IPY_MODEL_ffe334d3b9de48ef82a5b9a850aeede3",
       "value": "Downloading: 100%"
      }
     },
     "a2e8ac97dda64cf68dc264aa853ca845": {
      "model_module": "@jupyter-widgets/controls",
      "model_module_version": "1.5.0",
      "model_name": "ProgressStyleModel",
      "state": {
       "_model_module": "@jupyter-widgets/controls",
       "_model_module_version": "1.5.0",
       "_model_name": "ProgressStyleModel",
       "_view_count": null,
       "_view_module": "@jupyter-widgets/base",
       "_view_module_version": "1.2.0",
       "_view_name": "StyleView",
       "bar_color": null,
       "description_width": ""
      }
     },
     "a4a2e684a1454843b263c0047eeea55a": {
      "model_module": "@jupyter-widgets/base",
      "model_module_version": "1.2.0",
      "model_name": "LayoutModel",
      "state": {
       "_model_module": "@jupyter-widgets/base",
       "_model_module_version": "1.2.0",
       "_model_name": "LayoutModel",
       "_view_count": null,
       "_view_module": "@jupyter-widgets/base",
       "_view_module_version": "1.2.0",
       "_view_name": "LayoutView",
       "align_content": null,
       "align_items": null,
       "align_self": null,
       "border": null,
       "bottom": null,
       "display": null,
       "flex": null,
       "flex_flow": null,
       "grid_area": null,
       "grid_auto_columns": null,
       "grid_auto_flow": null,
       "grid_auto_rows": null,
       "grid_column": null,
       "grid_gap": null,
       "grid_row": null,
       "grid_template_areas": null,
       "grid_template_columns": null,
       "grid_template_rows": null,
       "height": null,
       "justify_content": null,
       "justify_items": null,
       "left": null,
       "margin": null,
       "max_height": null,
       "max_width": null,
       "min_height": null,
       "min_width": null,
       "object_fit": null,
       "object_position": null,
       "order": null,
       "overflow": null,
       "overflow_x": null,
       "overflow_y": null,
       "padding": null,
       "right": null,
       "top": null,
       "visibility": null,
       "width": null
      }
     },
     "a715e5fab9be43d18dbddac0d93d7879": {
      "model_module": "@jupyter-widgets/controls",
      "model_module_version": "1.5.0",
      "model_name": "HBoxModel",
      "state": {
       "_dom_classes": [],
       "_model_module": "@jupyter-widgets/controls",
       "_model_module_version": "1.5.0",
       "_model_name": "HBoxModel",
       "_view_count": null,
       "_view_module": "@jupyter-widgets/controls",
       "_view_module_version": "1.5.0",
       "_view_name": "HBoxView",
       "box_style": "",
       "children": [
        "IPY_MODEL_f8583661b7694f7686c63a187bdb84b7",
        "IPY_MODEL_8895e65ae8ea4eff90ec78ca3e0cf76d",
        "IPY_MODEL_2efc68c9faea4204b815b11a088bf694"
       ],
       "layout": "IPY_MODEL_449192fbf7604d03a66714300be1be3e"
      }
     },
     "ace0e17a6d64453e85155aec36f82d38": {
      "model_module": "@jupyter-widgets/base",
      "model_module_version": "1.2.0",
      "model_name": "LayoutModel",
      "state": {
       "_model_module": "@jupyter-widgets/base",
       "_model_module_version": "1.2.0",
       "_model_name": "LayoutModel",
       "_view_count": null,
       "_view_module": "@jupyter-widgets/base",
       "_view_module_version": "1.2.0",
       "_view_name": "LayoutView",
       "align_content": null,
       "align_items": null,
       "align_self": null,
       "border": null,
       "bottom": null,
       "display": null,
       "flex": null,
       "flex_flow": null,
       "grid_area": null,
       "grid_auto_columns": null,
       "grid_auto_flow": null,
       "grid_auto_rows": null,
       "grid_column": null,
       "grid_gap": null,
       "grid_row": null,
       "grid_template_areas": null,
       "grid_template_columns": null,
       "grid_template_rows": null,
       "height": null,
       "justify_content": null,
       "justify_items": null,
       "left": null,
       "margin": null,
       "max_height": null,
       "max_width": null,
       "min_height": null,
       "min_width": null,
       "object_fit": null,
       "object_position": null,
       "order": null,
       "overflow": null,
       "overflow_x": null,
       "overflow_y": null,
       "padding": null,
       "right": null,
       "top": null,
       "visibility": null,
       "width": null
      }
     },
     "b34eecf3cf8849a1b15c949471fb7192": {
      "model_module": "@jupyter-widgets/controls",
      "model_module_version": "1.5.0",
      "model_name": "DescriptionStyleModel",
      "state": {
       "_model_module": "@jupyter-widgets/controls",
       "_model_module_version": "1.5.0",
       "_model_name": "DescriptionStyleModel",
       "_view_count": null,
       "_view_module": "@jupyter-widgets/base",
       "_view_module_version": "1.2.0",
       "_view_name": "StyleView",
       "description_width": ""
      }
     },
     "b672d8f213784ac899b05522cb70585a": {
      "model_module": "@jupyter-widgets/controls",
      "model_module_version": "1.5.0",
      "model_name": "HBoxModel",
      "state": {
       "_dom_classes": [],
       "_model_module": "@jupyter-widgets/controls",
       "_model_module_version": "1.5.0",
       "_model_name": "HBoxModel",
       "_view_count": null,
       "_view_module": "@jupyter-widgets/controls",
       "_view_module_version": "1.5.0",
       "_view_name": "HBoxView",
       "box_style": "",
       "children": [
        "IPY_MODEL_6c1cd18dea3b44f185d2108bcfb3c754",
        "IPY_MODEL_748e86e0e91b4a04a17ce3532f377535",
        "IPY_MODEL_4cd599cb9ab740bf809b8d3ce9ce242e"
       ],
       "layout": "IPY_MODEL_5facb541c40b476887cd22609c35edcf"
      }
     },
     "b769afcde79446129724336a04bb8609": {
      "model_module": "@jupyter-widgets/controls",
      "model_module_version": "1.5.0",
      "model_name": "FloatProgressModel",
      "state": {
       "_dom_classes": [],
       "_model_module": "@jupyter-widgets/controls",
       "_model_module_version": "1.5.0",
       "_model_name": "FloatProgressModel",
       "_view_count": null,
       "_view_module": "@jupyter-widgets/controls",
       "_view_module_version": "1.5.0",
       "_view_name": "ProgressView",
       "bar_style": "success",
       "description": "",
       "description_tooltip": null,
       "layout": "IPY_MODEL_69fc959c65934f5cb10cb1a42f1793d4",
       "max": 626.0,
       "min": 0.0,
       "orientation": "horizontal",
       "style": "IPY_MODEL_0d339c6c9c0f40e08ca9e832f5dfddc7",
       "value": 626.0
      }
     },
     "b8b54289fc354de988d7483cf356c81e": {
      "model_module": "@jupyter-widgets/base",
      "model_module_version": "1.2.0",
      "model_name": "LayoutModel",
      "state": {
       "_model_module": "@jupyter-widgets/base",
       "_model_module_version": "1.2.0",
       "_model_name": "LayoutModel",
       "_view_count": null,
       "_view_module": "@jupyter-widgets/base",
       "_view_module_version": "1.2.0",
       "_view_name": "LayoutView",
       "align_content": null,
       "align_items": null,
       "align_self": null,
       "border": null,
       "bottom": null,
       "display": null,
       "flex": null,
       "flex_flow": null,
       "grid_area": null,
       "grid_auto_columns": null,
       "grid_auto_flow": null,
       "grid_auto_rows": null,
       "grid_column": null,
       "grid_gap": null,
       "grid_row": null,
       "grid_template_areas": null,
       "grid_template_columns": null,
       "grid_template_rows": null,
       "height": null,
       "justify_content": null,
       "justify_items": null,
       "left": null,
       "margin": null,
       "max_height": null,
       "max_width": null,
       "min_height": null,
       "min_width": null,
       "object_fit": null,
       "object_position": null,
       "order": null,
       "overflow": null,
       "overflow_x": null,
       "overflow_y": null,
       "padding": null,
       "right": null,
       "top": null,
       "visibility": null,
       "width": null
      }
     },
     "c70139cb8eab44b495d248e3d26533bb": {
      "model_module": "@jupyter-widgets/controls",
      "model_module_version": "1.5.0",
      "model_name": "DescriptionStyleModel",
      "state": {
       "_model_module": "@jupyter-widgets/controls",
       "_model_module_version": "1.5.0",
       "_model_name": "DescriptionStyleModel",
       "_view_count": null,
       "_view_module": "@jupyter-widgets/base",
       "_view_module_version": "1.2.0",
       "_view_name": "StyleView",
       "description_width": ""
      }
     },
     "c71dbea365a5428b8338348d6d12024a": {
      "model_module": "@jupyter-widgets/controls",
      "model_module_version": "1.5.0",
      "model_name": "DescriptionStyleModel",
      "state": {
       "_model_module": "@jupyter-widgets/controls",
       "_model_module_version": "1.5.0",
       "_model_name": "DescriptionStyleModel",
       "_view_count": null,
       "_view_module": "@jupyter-widgets/base",
       "_view_module_version": "1.2.0",
       "_view_name": "StyleView",
       "description_width": ""
      }
     },
     "c995218626504d0995e83b495de1ca18": {
      "model_module": "@jupyter-widgets/controls",
      "model_module_version": "1.5.0",
      "model_name": "HBoxModel",
      "state": {
       "_dom_classes": [],
       "_model_module": "@jupyter-widgets/controls",
       "_model_module_version": "1.5.0",
       "_model_name": "HBoxModel",
       "_view_count": null,
       "_view_module": "@jupyter-widgets/controls",
       "_view_module_version": "1.5.0",
       "_view_name": "HBoxView",
       "box_style": "",
       "children": [
        "IPY_MODEL_9be1da817fd0442db0203e1573927133",
        "IPY_MODEL_728c10cd696c486ba168635e51f0143c",
        "IPY_MODEL_97884edd4f0a40378f5191974fd7c461"
       ],
       "layout": "IPY_MODEL_e666d8b36556453ab479281efb55655e"
      }
     },
     "d049fde9a622456db630ed78d4b425a7": {
      "model_module": "@jupyter-widgets/controls",
      "model_module_version": "1.5.0",
      "model_name": "DescriptionStyleModel",
      "state": {
       "_model_module": "@jupyter-widgets/controls",
       "_model_module_version": "1.5.0",
       "_model_name": "DescriptionStyleModel",
       "_view_count": null,
       "_view_module": "@jupyter-widgets/base",
       "_view_module_version": "1.2.0",
       "_view_name": "StyleView",
       "description_width": ""
      }
     },
     "d3ecb18ef1d34d818c3fbb50bc3b5039": {
      "model_module": "@jupyter-widgets/base",
      "model_module_version": "1.2.0",
      "model_name": "LayoutModel",
      "state": {
       "_model_module": "@jupyter-widgets/base",
       "_model_module_version": "1.2.0",
       "_model_name": "LayoutModel",
       "_view_count": null,
       "_view_module": "@jupyter-widgets/base",
       "_view_module_version": "1.2.0",
       "_view_name": "LayoutView",
       "align_content": null,
       "align_items": null,
       "align_self": null,
       "border": null,
       "bottom": null,
       "display": null,
       "flex": null,
       "flex_flow": null,
       "grid_area": null,
       "grid_auto_columns": null,
       "grid_auto_flow": null,
       "grid_auto_rows": null,
       "grid_column": null,
       "grid_gap": null,
       "grid_row": null,
       "grid_template_areas": null,
       "grid_template_columns": null,
       "grid_template_rows": null,
       "height": null,
       "justify_content": null,
       "justify_items": null,
       "left": null,
       "margin": null,
       "max_height": null,
       "max_width": null,
       "min_height": null,
       "min_width": null,
       "object_fit": null,
       "object_position": null,
       "order": null,
       "overflow": null,
       "overflow_x": null,
       "overflow_y": null,
       "padding": null,
       "right": null,
       "top": null,
       "visibility": null,
       "width": null
      }
     },
     "dbbc1701cb284ec1a6feb9b8104f6def": {
      "model_module": "@jupyter-widgets/base",
      "model_module_version": "1.2.0",
      "model_name": "LayoutModel",
      "state": {
       "_model_module": "@jupyter-widgets/base",
       "_model_module_version": "1.2.0",
       "_model_name": "LayoutModel",
       "_view_count": null,
       "_view_module": "@jupyter-widgets/base",
       "_view_module_version": "1.2.0",
       "_view_name": "LayoutView",
       "align_content": null,
       "align_items": null,
       "align_self": null,
       "border": null,
       "bottom": null,
       "display": null,
       "flex": null,
       "flex_flow": null,
       "grid_area": null,
       "grid_auto_columns": null,
       "grid_auto_flow": null,
       "grid_auto_rows": null,
       "grid_column": null,
       "grid_gap": null,
       "grid_row": null,
       "grid_template_areas": null,
       "grid_template_columns": null,
       "grid_template_rows": null,
       "height": null,
       "justify_content": null,
       "justify_items": null,
       "left": null,
       "margin": null,
       "max_height": null,
       "max_width": null,
       "min_height": null,
       "min_width": null,
       "object_fit": null,
       "object_position": null,
       "order": null,
       "overflow": null,
       "overflow_x": null,
       "overflow_y": null,
       "padding": null,
       "right": null,
       "top": null,
       "visibility": null,
       "width": null
      }
     },
     "dbfdd05e8c124559a1b73dcde787ecc0": {
      "model_module": "@jupyter-widgets/controls",
      "model_module_version": "1.5.0",
      "model_name": "ProgressStyleModel",
      "state": {
       "_model_module": "@jupyter-widgets/controls",
       "_model_module_version": "1.5.0",
       "_model_name": "ProgressStyleModel",
       "_view_count": null,
       "_view_module": "@jupyter-widgets/base",
       "_view_module_version": "1.2.0",
       "_view_name": "StyleView",
       "bar_color": null,
       "description_width": ""
      }
     },
     "e3e3074ace5c4982b9bd0765abd866a8": {
      "model_module": "@jupyter-widgets/controls",
      "model_module_version": "1.5.0",
      "model_name": "DescriptionStyleModel",
      "state": {
       "_model_module": "@jupyter-widgets/controls",
       "_model_module_version": "1.5.0",
       "_model_name": "DescriptionStyleModel",
       "_view_count": null,
       "_view_module": "@jupyter-widgets/base",
       "_view_module_version": "1.2.0",
       "_view_name": "StyleView",
       "description_width": ""
      }
     },
     "e666d8b36556453ab479281efb55655e": {
      "model_module": "@jupyter-widgets/base",
      "model_module_version": "1.2.0",
      "model_name": "LayoutModel",
      "state": {
       "_model_module": "@jupyter-widgets/base",
       "_model_module_version": "1.2.0",
       "_model_name": "LayoutModel",
       "_view_count": null,
       "_view_module": "@jupyter-widgets/base",
       "_view_module_version": "1.2.0",
       "_view_name": "LayoutView",
       "align_content": null,
       "align_items": null,
       "align_self": null,
       "border": null,
       "bottom": null,
       "display": null,
       "flex": null,
       "flex_flow": null,
       "grid_area": null,
       "grid_auto_columns": null,
       "grid_auto_flow": null,
       "grid_auto_rows": null,
       "grid_column": null,
       "grid_gap": null,
       "grid_row": null,
       "grid_template_areas": null,
       "grid_template_columns": null,
       "grid_template_rows": null,
       "height": null,
       "justify_content": null,
       "justify_items": null,
       "left": null,
       "margin": null,
       "max_height": null,
       "max_width": null,
       "min_height": null,
       "min_width": null,
       "object_fit": null,
       "object_position": null,
       "order": null,
       "overflow": null,
       "overflow_x": null,
       "overflow_y": null,
       "padding": null,
       "right": null,
       "top": null,
       "visibility": null,
       "width": null
      }
     },
     "e7bbff64bbf245549f30331ca20a112b": {
      "model_module": "@jupyter-widgets/controls",
      "model_module_version": "1.5.0",
      "model_name": "DescriptionStyleModel",
      "state": {
       "_model_module": "@jupyter-widgets/controls",
       "_model_module_version": "1.5.0",
       "_model_name": "DescriptionStyleModel",
       "_view_count": null,
       "_view_module": "@jupyter-widgets/base",
       "_view_module_version": "1.2.0",
       "_view_name": "StyleView",
       "description_width": ""
      }
     },
     "eb9a49e2127946d4895af09979e1da55": {
      "model_module": "@jupyter-widgets/controls",
      "model_module_version": "1.5.0",
      "model_name": "DescriptionStyleModel",
      "state": {
       "_model_module": "@jupyter-widgets/controls",
       "_model_module_version": "1.5.0",
       "_model_name": "DescriptionStyleModel",
       "_view_count": null,
       "_view_module": "@jupyter-widgets/base",
       "_view_module_version": "1.2.0",
       "_view_name": "StyleView",
       "description_width": ""
      }
     },
     "ed5ec33d0b514f158b7901894a2dac57": {
      "model_module": "@jupyter-widgets/controls",
      "model_module_version": "1.5.0",
      "model_name": "DescriptionStyleModel",
      "state": {
       "_model_module": "@jupyter-widgets/controls",
       "_model_module_version": "1.5.0",
       "_model_name": "DescriptionStyleModel",
       "_view_count": null,
       "_view_module": "@jupyter-widgets/base",
       "_view_module_version": "1.2.0",
       "_view_name": "StyleView",
       "description_width": ""
      }
     },
     "ee950fc545f642d0a9f046778453ebb3": {
      "model_module": "@jupyter-widgets/base",
      "model_module_version": "1.2.0",
      "model_name": "LayoutModel",
      "state": {
       "_model_module": "@jupyter-widgets/base",
       "_model_module_version": "1.2.0",
       "_model_name": "LayoutModel",
       "_view_count": null,
       "_view_module": "@jupyter-widgets/base",
       "_view_module_version": "1.2.0",
       "_view_name": "LayoutView",
       "align_content": null,
       "align_items": null,
       "align_self": null,
       "border": null,
       "bottom": null,
       "display": null,
       "flex": null,
       "flex_flow": null,
       "grid_area": null,
       "grid_auto_columns": null,
       "grid_auto_flow": null,
       "grid_auto_rows": null,
       "grid_column": null,
       "grid_gap": null,
       "grid_row": null,
       "grid_template_areas": null,
       "grid_template_columns": null,
       "grid_template_rows": null,
       "height": null,
       "justify_content": null,
       "justify_items": null,
       "left": null,
       "margin": null,
       "max_height": null,
       "max_width": null,
       "min_height": null,
       "min_width": null,
       "object_fit": null,
       "object_position": null,
       "order": null,
       "overflow": null,
       "overflow_x": null,
       "overflow_y": null,
       "padding": null,
       "right": null,
       "top": null,
       "visibility": null,
       "width": null
      }
     },
     "f8583661b7694f7686c63a187bdb84b7": {
      "model_module": "@jupyter-widgets/controls",
      "model_module_version": "1.5.0",
      "model_name": "HTMLModel",
      "state": {
       "_dom_classes": [],
       "_model_module": "@jupyter-widgets/controls",
       "_model_module_version": "1.5.0",
       "_model_name": "HTMLModel",
       "_view_count": null,
       "_view_module": "@jupyter-widgets/controls",
       "_view_module_version": "1.5.0",
       "_view_name": "HTMLView",
       "description": "",
       "description_tooltip": null,
       "layout": "IPY_MODEL_d3ecb18ef1d34d818c3fbb50bc3b5039",
       "placeholder": "​",
       "style": "IPY_MODEL_d049fde9a622456db630ed78d4b425a7",
       "value": "100%"
      }
     },
     "ffe334d3b9de48ef82a5b9a850aeede3": {
      "model_module": "@jupyter-widgets/controls",
      "model_module_version": "1.5.0",
      "model_name": "DescriptionStyleModel",
      "state": {
       "_model_module": "@jupyter-widgets/controls",
       "_model_module_version": "1.5.0",
       "_model_name": "DescriptionStyleModel",
       "_view_count": null,
       "_view_module": "@jupyter-widgets/base",
       "_view_module_version": "1.2.0",
       "_view_name": "StyleView",
       "description_width": ""
      }
     }
    },
    "version_major": 2,
    "version_minor": 0
   }
  }
 },
 "nbformat": 4,
 "nbformat_minor": 5
}
