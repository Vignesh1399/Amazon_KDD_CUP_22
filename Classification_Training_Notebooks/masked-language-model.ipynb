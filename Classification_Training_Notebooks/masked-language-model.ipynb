{
 "cells": [
  {
   "cell_type": "code",
   "execution_count": 1,
   "id": "42507993",
   "metadata": {
    "_cell_guid": "b1076dfc-b9ad-4769-8c92-a6c4dae69d19",
    "_uuid": "8f2839f25d086af736a60e9eeb907d3b93b6e0e5",
    "execution": {
     "iopub.execute_input": "2022-06-23T02:19:02.019071Z",
     "iopub.status.busy": "2022-06-23T02:19:02.017656Z",
     "iopub.status.idle": "2022-06-23T02:19:02.118291Z",
     "shell.execute_reply": "2022-06-23T02:19:02.116932Z"
    },
    "papermill": {
     "duration": 0.116229,
     "end_time": "2022-06-23T02:19:02.122294",
     "exception": false,
     "start_time": "2022-06-23T02:19:02.006065",
     "status": "completed"
    },
    "tags": []
   },
   "outputs": [
    {
     "name": "stdout",
     "output_type": "stream",
     "text": [
      "/kaggle/input/train-ranking/data/processed/public/task_1_query-product_ranking/train-v0.2.csv\n",
      "/kaggle/input/product-catalogue/data/processed/public/task_1_query-product_ranking/product_catalogue-v0.2.csv\n",
      "/kaggle/input/test-ranking-public/data/processed/public/task_1_query-product_ranking/test_public-v0.2.csv\n"
     ]
    }
   ],
   "source": [
    "# This Python 3 environment comes with many helpful analytics libraries installed\n",
    "# It is defined by the kaggle/python Docker image: https://github.com/kaggle/docker-python\n",
    "# For example, here's several helpful packages to load\n",
    "\n",
    "import numpy as np # linear algebra\n",
    "import pandas as pd # data processing, CSV file I/O (e.g. pd.read_csv)\n",
    "\n",
    "# Input data files are available in the read-only \"../input/\" directory\n",
    "# For example, running this (by clicking run or pressing Shift+Enter) will list all files under the input directory\n",
    "\n",
    "import os\n",
    "for dirname, _, filenames in os.walk('/kaggle/input'):\n",
    "    for filename in filenames:\n",
    "        print(os.path.join(dirname, filename))\n",
    "\n",
    "# You can write up to 20GB to the current directory (/kaggle/working/) that gets preserved as output when you create a version using \"Save & Run All\" \n",
    "# You can also write temporary files to /kaggle/temp/, but they won't be saved outside of the current session"
   ]
  },
  {
   "cell_type": "code",
   "execution_count": 2,
   "id": "d12372a4",
   "metadata": {
    "execution": {
     "iopub.execute_input": "2022-06-23T02:19:02.142322Z",
     "iopub.status.busy": "2022-06-23T02:19:02.141874Z",
     "iopub.status.idle": "2022-06-23T02:19:02.147621Z",
     "shell.execute_reply": "2022-06-23T02:19:02.146345Z"
    },
    "papermill": {
     "duration": 0.018169,
     "end_time": "2022-06-23T02:19:02.150457",
     "exception": false,
     "start_time": "2022-06-23T02:19:02.132288",
     "status": "completed"
    },
    "tags": []
   },
   "outputs": [],
   "source": [
    "pd.set_option('display.max_colwidth', None)\n",
    "pd.set_option('display.max_rows', 10)"
   ]
  },
  {
   "cell_type": "code",
   "execution_count": 3,
   "id": "55ff25f0",
   "metadata": {
    "execution": {
     "iopub.execute_input": "2022-06-23T02:19:02.169144Z",
     "iopub.status.busy": "2022-06-23T02:19:02.168191Z",
     "iopub.status.idle": "2022-06-23T02:19:16.018341Z",
     "shell.execute_reply": "2022-06-23T02:19:16.016672Z"
    },
    "papermill": {
     "duration": 13.862716,
     "end_time": "2022-06-23T02:19:16.021538",
     "exception": false,
     "start_time": "2022-06-23T02:19:02.158822",
     "status": "completed"
    },
    "tags": []
   },
   "outputs": [
    {
     "name": "stdout",
     "output_type": "stream",
     "text": [
      "Requirement already satisfied: datasets==2.1.0 in /opt/conda/lib/python3.7/site-packages (2.1.0)\r\n"
     ]
    },
    {
     "name": "stdout",
     "output_type": "stream",
     "text": [
      "Requirement already satisfied: aiohttp in /opt/conda/lib/python3.7/site-packages (from datasets==2.1.0) (3.8.1)\r\n",
      "Requirement already satisfied: fsspec[http]>=2021.05.0 in /opt/conda/lib/python3.7/site-packages (from datasets==2.1.0) (2022.5.0)\r\n",
      "Requirement already satisfied: requests>=2.19.0 in /opt/conda/lib/python3.7/site-packages (from datasets==2.1.0) (2.27.1)\r\n",
      "Requirement already satisfied: pyarrow>=5.0.0 in /opt/conda/lib/python3.7/site-packages (from datasets==2.1.0) (5.0.0)\r\n",
      "Requirement already satisfied: numpy>=1.17 in /opt/conda/lib/python3.7/site-packages (from datasets==2.1.0) (1.21.6)\r\n",
      "Requirement already satisfied: multiprocess in /opt/conda/lib/python3.7/site-packages (from datasets==2.1.0) (0.70.13)\r\n",
      "Requirement already satisfied: tqdm>=4.62.1 in /opt/conda/lib/python3.7/site-packages (from datasets==2.1.0) (4.64.0)\r\n",
      "Requirement already satisfied: importlib-metadata in /opt/conda/lib/python3.7/site-packages (from datasets==2.1.0) (4.11.4)\r\n",
      "Requirement already satisfied: huggingface-hub<1.0.0,>=0.1.0 in /opt/conda/lib/python3.7/site-packages (from datasets==2.1.0) (0.7.0)\r\n",
      "Requirement already satisfied: xxhash in /opt/conda/lib/python3.7/site-packages (from datasets==2.1.0) (3.0.0)\r\n",
      "Requirement already satisfied: pandas in /opt/conda/lib/python3.7/site-packages (from datasets==2.1.0) (1.3.5)\r\n",
      "Requirement already satisfied: packaging in /opt/conda/lib/python3.7/site-packages (from datasets==2.1.0) (21.3)\r\n",
      "Requirement already satisfied: responses<0.19 in /opt/conda/lib/python3.7/site-packages (from datasets==2.1.0) (0.18.0)\r\n",
      "Requirement already satisfied: dill in /opt/conda/lib/python3.7/site-packages (from datasets==2.1.0) (0.3.5.1)\r\n"
     ]
    },
    {
     "name": "stdout",
     "output_type": "stream",
     "text": [
      "Requirement already satisfied: typing-extensions>=3.7.4.3 in /opt/conda/lib/python3.7/site-packages (from huggingface-hub<1.0.0,>=0.1.0->datasets==2.1.0) (4.1.1)\r\n",
      "Requirement already satisfied: pyyaml>=5.1 in /opt/conda/lib/python3.7/site-packages (from huggingface-hub<1.0.0,>=0.1.0->datasets==2.1.0) (6.0)\r\n",
      "Requirement already satisfied: filelock in /opt/conda/lib/python3.7/site-packages (from huggingface-hub<1.0.0,>=0.1.0->datasets==2.1.0) (3.6.0)\r\n",
      "Requirement already satisfied: pyparsing!=3.0.5,>=2.0.2 in /opt/conda/lib/python3.7/site-packages (from packaging->datasets==2.1.0) (3.0.9)\r\n"
     ]
    },
    {
     "name": "stdout",
     "output_type": "stream",
     "text": [
      "Requirement already satisfied: idna<4,>=2.5 in /opt/conda/lib/python3.7/site-packages (from requests>=2.19.0->datasets==2.1.0) (3.3)\r\n",
      "Requirement already satisfied: charset-normalizer~=2.0.0 in /opt/conda/lib/python3.7/site-packages (from requests>=2.19.0->datasets==2.1.0) (2.0.12)\r\n",
      "Requirement already satisfied: certifi>=2017.4.17 in /opt/conda/lib/python3.7/site-packages (from requests>=2.19.0->datasets==2.1.0) (2022.6.15)\r\n",
      "Requirement already satisfied: urllib3<1.27,>=1.21.1 in /opt/conda/lib/python3.7/site-packages (from requests>=2.19.0->datasets==2.1.0) (1.26.9)\r\n"
     ]
    },
    {
     "name": "stdout",
     "output_type": "stream",
     "text": [
      "Requirement already satisfied: yarl<2.0,>=1.0 in /opt/conda/lib/python3.7/site-packages (from aiohttp->datasets==2.1.0) (1.7.2)\r\n",
      "Requirement already satisfied: attrs>=17.3.0 in /opt/conda/lib/python3.7/site-packages (from aiohttp->datasets==2.1.0) (21.4.0)\r\n",
      "Requirement already satisfied: multidict<7.0,>=4.5 in /opt/conda/lib/python3.7/site-packages (from aiohttp->datasets==2.1.0) (6.0.2)\r\n",
      "Requirement already satisfied: frozenlist>=1.1.1 in /opt/conda/lib/python3.7/site-packages (from aiohttp->datasets==2.1.0) (1.3.0)\r\n",
      "Requirement already satisfied: async-timeout<5.0,>=4.0.0a3 in /opt/conda/lib/python3.7/site-packages (from aiohttp->datasets==2.1.0) (4.0.2)\r\n",
      "Requirement already satisfied: aiosignal>=1.1.2 in /opt/conda/lib/python3.7/site-packages (from aiohttp->datasets==2.1.0) (1.2.0)\r\n",
      "Requirement already satisfied: asynctest==0.13.0 in /opt/conda/lib/python3.7/site-packages (from aiohttp->datasets==2.1.0) (0.13.0)\r\n"
     ]
    },
    {
     "name": "stdout",
     "output_type": "stream",
     "text": [
      "Requirement already satisfied: zipp>=0.5 in /opt/conda/lib/python3.7/site-packages (from importlib-metadata->datasets==2.1.0) (3.8.0)\r\n"
     ]
    },
    {
     "name": "stdout",
     "output_type": "stream",
     "text": [
      "Requirement already satisfied: python-dateutil>=2.7.3 in /opt/conda/lib/python3.7/site-packages (from pandas->datasets==2.1.0) (2.8.2)\r\n",
      "Requirement already satisfied: pytz>=2017.3 in /opt/conda/lib/python3.7/site-packages (from pandas->datasets==2.1.0) (2022.1)\r\n"
     ]
    },
    {
     "name": "stdout",
     "output_type": "stream",
     "text": [
      "Requirement already satisfied: six>=1.5 in /opt/conda/lib/python3.7/site-packages (from python-dateutil>=2.7.3->pandas->datasets==2.1.0) (1.16.0)\r\n"
     ]
    },
    {
     "name": "stdout",
     "output_type": "stream",
     "text": [
      "\u001b[33mWARNING: Running pip as the 'root' user can result in broken permissions and conflicting behaviour with the system package manager. It is recommended to use a virtual environment instead: https://pip.pypa.io/warnings/venv\u001b[0m\u001b[33m\r\n",
      "\u001b[0m"
     ]
    }
   ],
   "source": [
    "!pip install datasets==2.1.0"
   ]
  },
  {
   "cell_type": "code",
   "execution_count": 4,
   "id": "cf4913cc",
   "metadata": {
    "execution": {
     "iopub.execute_input": "2022-06-23T02:19:16.042349Z",
     "iopub.status.busy": "2022-06-23T02:19:16.041981Z",
     "iopub.status.idle": "2022-06-23T02:19:23.979449Z",
     "shell.execute_reply": "2022-06-23T02:19:23.978222Z"
    },
    "papermill": {
     "duration": 7.951212,
     "end_time": "2022-06-23T02:19:23.982555",
     "exception": false,
     "start_time": "2022-06-23T02:19:16.031343",
     "status": "completed"
    },
    "tags": []
   },
   "outputs": [],
   "source": [
    "from datasets import ClassLabel, Value, DatasetDict, Dataset"
   ]
  },
  {
   "cell_type": "code",
   "execution_count": 5,
   "id": "ba15b448",
   "metadata": {
    "execution": {
     "iopub.execute_input": "2022-06-23T02:19:24.003596Z",
     "iopub.status.busy": "2022-06-23T02:19:24.003009Z",
     "iopub.status.idle": "2022-06-23T02:20:01.520523Z",
     "shell.execute_reply": "2022-06-23T02:20:01.519212Z"
    },
    "papermill": {
     "duration": 37.531233,
     "end_time": "2022-06-23T02:20:01.523545",
     "exception": false,
     "start_time": "2022-06-23T02:19:23.992312",
     "status": "completed"
    },
    "tags": []
   },
   "outputs": [
    {
     "data": {
      "application/vnd.jupyter.widget-view+json": {
       "model_id": "9ea43335474b4631b7049eb8735c4ba6",
       "version_major": 2,
       "version_minor": 0
      },
      "text/plain": [
       "Downloading:   0%|          | 0.00/466 [00:00<?, ?B/s]"
      ]
     },
     "metadata": {},
     "output_type": "display_data"
    },
    {
     "data": {
      "application/vnd.jupyter.widget-view+json": {
       "model_id": "d2b315bd55af406aaccc0e993cde5fa0",
       "version_major": 2,
       "version_minor": 0
      },
      "text/plain": [
       "Downloading:   0%|          | 0.00/517M [00:00<?, ?B/s]"
      ]
     },
     "metadata": {},
     "output_type": "display_data"
    },
    {
     "data": {
      "application/vnd.jupyter.widget-view+json": {
       "model_id": "5ac90a5ebc17455ca0225e27081ea285",
       "version_major": 2,
       "version_minor": 0
      },
      "text/plain": [
       "Downloading:   0%|          | 0.00/29.0 [00:00<?, ?B/s]"
      ]
     },
     "metadata": {},
     "output_type": "display_data"
    },
    {
     "data": {
      "application/vnd.jupyter.widget-view+json": {
       "model_id": "79a4a9923d674791967c104c5863fe68",
       "version_major": 2,
       "version_minor": 0
      },
      "text/plain": [
       "Downloading:   0%|          | 0.00/972k [00:00<?, ?B/s]"
      ]
     },
     "metadata": {},
     "output_type": "display_data"
    },
    {
     "data": {
      "application/vnd.jupyter.widget-view+json": {
       "model_id": "c1493d1b6eca4d53ad3242faffa507fe",
       "version_major": 2,
       "version_minor": 0
      },
      "text/plain": [
       "Downloading:   0%|          | 0.00/1.87M [00:00<?, ?B/s]"
      ]
     },
     "metadata": {},
     "output_type": "display_data"
    }
   ],
   "source": [
    "from transformers import AutoModelForMaskedLM, AutoTokenizer\n",
    "checkpoint = \"distilbert-base-multilingual-cased\"\n",
    "model = AutoModelForMaskedLM.from_pretrained(checkpoint)\n",
    "tokenizer = AutoTokenizer.from_pretrained(checkpoint)"
   ]
  },
  {
   "cell_type": "code",
   "execution_count": 6,
   "id": "950ea58c",
   "metadata": {
    "execution": {
     "iopub.execute_input": "2022-06-23T02:20:01.974873Z",
     "iopub.status.busy": "2022-06-23T02:20:01.973617Z",
     "iopub.status.idle": "2022-06-23T02:20:28.214027Z",
     "shell.execute_reply": "2022-06-23T02:20:28.212774Z"
    },
    "papermill": {
     "duration": 26.681444,
     "end_time": "2022-06-23T02:20:28.217068",
     "exception": false,
     "start_time": "2022-06-23T02:20:01.535624",
     "status": "completed"
    },
    "tags": []
   },
   "outputs": [],
   "source": [
    "prod_cat = pd.read_csv('../input/product-catalogue/data/processed/public/task_1_query-product_ranking/product_catalogue-v0.2.csv')"
   ]
  },
  {
   "cell_type": "code",
   "execution_count": 7,
   "id": "2c5bf645",
   "metadata": {
    "execution": {
     "iopub.execute_input": "2022-06-23T02:20:28.240564Z",
     "iopub.status.busy": "2022-06-23T02:20:28.240206Z",
     "iopub.status.idle": "2022-06-23T02:20:28.265258Z",
     "shell.execute_reply": "2022-06-23T02:20:28.263794Z"
    },
    "papermill": {
     "duration": 0.040962,
     "end_time": "2022-06-23T02:20:28.269457",
     "exception": false,
     "start_time": "2022-06-23T02:20:28.228495",
     "status": "completed"
    },
    "tags": []
   },
   "outputs": [
    {
     "data": {
      "text/html": [
       "<div>\n",
       "<style scoped>\n",
       "    .dataframe tbody tr th:only-of-type {\n",
       "        vertical-align: middle;\n",
       "    }\n",
       "\n",
       "    .dataframe tbody tr th {\n",
       "        vertical-align: top;\n",
       "    }\n",
       "\n",
       "    .dataframe thead th {\n",
       "        text-align: right;\n",
       "    }\n",
       "</style>\n",
       "<table border=\"1\" class=\"dataframe\">\n",
       "  <thead>\n",
       "    <tr style=\"text-align: right;\">\n",
       "      <th></th>\n",
       "      <th>product_id</th>\n",
       "      <th>product_title</th>\n",
       "      <th>product_description</th>\n",
       "      <th>product_bullet_point</th>\n",
       "      <th>product_brand</th>\n",
       "      <th>product_color_name</th>\n",
       "      <th>product_locale</th>\n",
       "    </tr>\n",
       "  </thead>\n",
       "  <tbody>\n",
       "    <tr>\n",
       "      <th>0</th>\n",
       "      <td>B0188A3QRM</td>\n",
       "      <td>Amazon Basics Woodcased #2 Pencils, Unsharpened, HB Lead - Box of 144, Bulk Box</td>\n",
       "      <td>NaN</td>\n",
       "      <td>144 woodcase #2 HB pencils made from high-quality wood for clean, easy sharpening\\nStrong medium-soft lead produces long-lasting, smooth, readable strokes\\nRounded hexagonal shape with satin-smooth finish for a secure, comfortable grip\\nSoft, smudge-free, latex-free eraser secured to the end for conveniently wiping away mistakes</td>\n",
       "      <td>Amazon Basics</td>\n",
       "      <td>Yellow</td>\n",
       "      <td>us</td>\n",
       "    </tr>\n",
       "    <tr>\n",
       "      <th>1</th>\n",
       "      <td>B075VXJ9VG</td>\n",
       "      <td>BAZIC Pencil #2 HB Pencils, Latex Free Eraser, Wood Free Yellow Unsharpened Pencils for Exam School Office (12/Pack), 1-Pack</td>\n",
       "      <td>&lt;p&gt;&lt;strong&gt;BACK TO BAZIC&lt;/strong&gt;&lt;/p&gt;&lt;p&gt;Our goal is to provide each customer with long-lasting supplies at an affordable cost. Since 1998, we’ve delivered on this promise and will only continue to improve every year. We’ve built our brand on integrity and quality, so customers know exactly what to expect.&lt;/p&gt; &lt;p&gt;&lt;strong&gt;COMMITTED TO VALUES&lt;/strong&gt;&lt;/p&gt;&lt;p&gt;We are a value-driven company, guided by the principles of excellence through strong product design at low cost. Our commitment to these values is reflected in our dedication to improving current products and developing new exciting products for our consumers.&lt;/p&gt; &lt;p&gt;&lt;strong&gt;FOCUSED ON OUR MISSION&lt;/strong&gt;&lt;/p&gt;&lt;p&gt;Our currency is ideas. We thrive on imagination, passion and leadership. We have great products and will to continue to rise with our customer expectations.&lt;/p&gt; &lt;p&gt;&lt;strong&gt;SUCCESS BASED ON SATISFACTION&lt;/strong&gt;&lt;/p&gt;&lt;p&gt;Each and every product we send out, we expect our 100% customer satisfaction. While our supplies are sourced from all across the world, our success stems from individual consumer fulfillment. We create products that people want to recommend to others.&lt;/p&gt;</td>\n",
       "      <td>&amp;#11088; UN-SHARPENED #2 PREMIUM PENCILS. Each pack comes with 12 un-sharpened pencils. Unlike most others out there, these allow kids the simple joy of sharpening a brand new pencil for the very 1st time!\\n&amp;#11088; CLASSIC BARREL. Made from premium-quality wood pencil is bonded with a break-resistant number two core for smooth writing as easily erased. Hexagonal shape prevents rolling and comfortable to hold.\\n&amp;#11088; QUALITY. Pencils are #2 HB for general writing, drawing and sketching. Pencils glide smoothly over paper and is highly break resistant. Pencils include a smudge-resistant eraser top for convenience.\\n&amp;#11088; LATEX-FREE ERASER. The smudge-less eraser is latex-free, which provides enough toughness for heavy erasures. These smudge-free erasers wipe the page clean, making corrections easy and fast.\\n&amp;#11088; WIDE APPLICATION. Suitable for all general writing applications such as notes, letters, and you can use it for office, classroom, home and other occasions.</td>\n",
       "      <td>BAZIC Products</td>\n",
       "      <td>12-count</td>\n",
       "      <td>us</td>\n",
       "    </tr>\n",
       "    <tr>\n",
       "      <th>2</th>\n",
       "      <td>B07G7F6JZ6</td>\n",
       "      <td>Emraw Pre Sharpened Round Primary Size No 2 Jumbo Pencils for Preschoolers, Elementary Kids - Pack of 8 Premium Fat Pencils</td>\n",
       "      <td>&lt;p&gt;&lt;b&gt;Emraw Pre-Sharpened #2 HB Wood Pencils - Pack of 8 Pre-Schoolers Pencils&lt;/b&gt;&lt;/p&gt;&lt;p&gt;Looking for pencils for kid, office or every day general purpose repetitive use? Tired of pencils that do not sharpen well? Disappointed having broken leads repeatedly? Or, looking for pencils that require less sharpening and lasts longer?&lt;/p&gt;&lt;p&gt;Search no further, Emraw num 2 jumbo pencils pack have you covered. You just found the best deal. You will love them. Just the right size for pre-kindergarten toddlers. Perfect for elderly hands having difficulty grasping smaller items. Each pencil is pre-sharpened so you can literally pick straight from the box and start using. HB (no2) hardness grading with thicker leads make them perfect for most types of writing or sketching.&lt;/p&gt;&lt;p&gt;Made of high quality non-toxic cedar wood so they sharpen nicely with any quality dual-holed hand sharpener or adjustable electric sharpener, (not compatible with standard pencil sharpener). Rounded circular shape offers an effortless, fatigue-free writing experience.&lt;/p&gt;&lt;p&gt;Big ultra-smooth graphite core does not break easily, helps kids to grip securely, write smoothly and build language and motor skills. Applying normal pressure kids can wipe away mistaken strokes without a lot of effort. The soft, non-smudge rubbers are effective to erase completely and will not leave any pink residue behind after erasing unwanted marks. The eraser on top is held strongly with a ferrule and will not loosen easily, that keeps an eraser always in hand throughout its lifespan.&lt;/p&gt;&lt;p&gt;Use or gift these pencils to use in the classroom, work, or home for anything from keeping lists, making notes, sketch first drafts, brainstorm campaign ideas, filling in answers on an exam, coloring books as a highlighter, quick sketches of diy carpentry projects, solving sudoku or crossword puzzles.&lt;/p&gt;&lt;p&gt;&lt;b&gt;Best N.2 Woodcase Pencils Supplies for You, Your Children, Students, Family, or Workmates, Order Now!!!&lt;/b&gt;&lt;/p&gt;</td>\n",
       "      <td>✓ PACK OF 8 NUMBER 2 PRESHARPENED BEGINNERS PENCILS: Emraw round sharpened pencils set contains 2 packs of 4 general no.2 hb pencils with latex-free rubber erasers top, total 8 primary size yellow preschool pencils, good for little hands\\n✓ SUPERIOR NATURAL GRIP AND FEEL: Rounded triangular wooden casing blends ergonomic design for kids small hands in mind that allows your beginner writer a firm grip to comfortably hold and practice to write, scribble or tracing for hours\\n✓ CLASSIC YELLOW BARREL WOOD-CASED PENCILS: Premium pencils made from high-quality wood for easy clean sharpening, 3.25 mm thick break-resistant graphite lead requires less sharpening, produces dark long-lasting, readable, consistent strokes\\n✓ EASILY ERASABLE - MAKES DO-OVERS A BREEZE: Unwanted marks are easy to erase, offers clean corrections without tearing the paper. Soft, non-smudge rubbers are effective to erase marks completely and will not leave any residue behind\\n✓ VERSATILE WIDE APPLICATION: Suitable for kids, boys girls, teens, adults. Perfect for students in kindergarten school exam or college, teacher in classroom and general use: workshops, corporate office, meeting, sketching, writing, drawing</td>\n",
       "      <td>Emraw</td>\n",
       "      <td>Yellow</td>\n",
       "      <td>us</td>\n",
       "    </tr>\n",
       "    <tr>\n",
       "      <th>3</th>\n",
       "      <td>B07JZJLHCF</td>\n",
       "      <td>Emraw Pre Sharpened Triangular Primary Size No 2 Jumbo Pencils for Preschoolers, Elementary Kids - Pack of 6 Fat Pencils with Bonus Sharpener</td>\n",
       "      <td>&lt;p&gt;&lt;b&gt;Emraw Pre-Sharpened #2 HB Wood Pencils - Pack of 6 Pre-Schoolers Pencils&lt;/b&gt;&lt;/p&gt;&lt;p&gt;Looking for pencils for kid, office or every day general purpose repetitive use? Tired of pencils that do not sharpen well? Disappointed having broken leads repeatedly? Or, looking for pencils that require less sharpening and lasts longer?&lt;/p&gt;&lt;p&gt;Search no further, Emraw num 2 jumbo pencils pack have you covered. You just found the best deal. You will just love them. Just the right size for pre-kindergarten toddlers. Perfect for elderly hands having difficulty grasping smaller items. Each pencil is pre-sharpened so you can literally pick straight from the box and start using. HB (no2) hardness grading with thicker leads make them perfect for most types of writing or sketching.&lt;/p&gt;&lt;p&gt;Made of high quality non-toxic cedar wood so they sharpen nicely with any quality dual-holed hand sharpener or adjustable electric sharpener (1 Sharpener Included). Rounded triangular shape offers an effortless, fatigue-free writing experience and won't roll off inclined desks or tables.&lt;/p&gt;&lt;p&gt;Big ultra-smooth graphite core does not break easily, helps kids to grip securely, write smoothly and build language and motor skills. Applying normal pressure kids can wipe away mistaken strokes without a lot of effort. The soft, non-smudge rubbers are effective to erase completely and will not leave any pink residue behind after erasing unwanted marks. The eraser on top is held strongly with a ferrule and will not loosen easily, that keeps an eraser always in hand throughout its lifespan.&lt;/p&gt;&lt;p&gt;Use the or gift these pencils to use in the classroom, work, or home for anything from keeping lists, making notes, sketch first drafts, brainstorm campaign ideas, filling in answers on an exam, coloring books as a highlighter, quick sketches of diy carpentry projects, solving sudoku or crossword puzzles.&lt;/p&gt;&lt;p&gt;&lt;b&gt;Best N.2 Woodcase Pencils Supplies for You, Your Students, Family, or Workmates, Order Now!!!&lt;/b&gt;&lt;/p&gt;</td>\n",
       "      <td>✓ PACK OF 6 NUMBER 2 PRESHARPENED BEGINNERS PENCILS: Emraw triangle sharpened pencils set contains 2 packs of 3 general no.2 hb pencils with latex-free rubber erasers top, total 6 primary size yellow preschool pencils, good for little hands\\n✓ SUPERIOR NATURAL GRIP AND FEEL: Rounded triangular wooden casing blends ergonomic design for kids small hands in mind that allows your beginner writer a firm grip and comfortably hold and practice to write, scribble or tracing for hours\\n✓ CLASSIC YELLOW BARREL WOOD-CASED PENCILS: Made from high-quality wood for easy clean sharpening, 3.25 mm thick break-resistant graphite lead requires less sharpening and produces dark long-lasting, readable, consistent strokes\\n✓ EASILY ERASABLE - MAKES DO-OVERS A BREEZE: Unwanted marks are easy to erase, offers clean corrections without tearing the paper. Soft, non-smudge rubbers are effective to erase marks completely and will not leave any residue behind\\n✓ VERSATILE WIDE APPLICATION: Suitable for kids, boys girls, teens, adults. Perfect for students in kindergarten school or college exam, teacher in classroom and general use: workshops, corporate office, meeting, sketching, writing, drawing</td>\n",
       "      <td>Emraw</td>\n",
       "      <td>Yellow</td>\n",
       "      <td>us</td>\n",
       "    </tr>\n",
       "    <tr>\n",
       "      <th>4</th>\n",
       "      <td>B07MGKC3DD</td>\n",
       "      <td>BIC Evolution Cased Pencil, #2 Lead, Gray Barrel, 24-Count (PGEBP241-BLK)</td>\n",
       "      <td>NaN</td>\n",
       "      <td>Premium #2 HB lead pencils with break-resistant lead and splinter-free barrels\\nDurable, long-lasting leads and erasers\\nLatex-free erasers easily erase stray marks\\nTrendy and modern gray barrels\\nPack of 24 certified non-toxic pencils ideal for home or classroom</td>\n",
       "      <td>Design House</td>\n",
       "      <td>Gray</td>\n",
       "      <td>us</td>\n",
       "    </tr>\n",
       "  </tbody>\n",
       "</table>\n",
       "</div>"
      ],
      "text/plain": [
       "   product_id  \\\n",
       "0  B0188A3QRM   \n",
       "1  B075VXJ9VG   \n",
       "2  B07G7F6JZ6   \n",
       "3  B07JZJLHCF   \n",
       "4  B07MGKC3DD   \n",
       "\n",
       "                                                                                                                                   product_title  \\\n",
       "0                                                                Amazon Basics Woodcased #2 Pencils, Unsharpened, HB Lead - Box of 144, Bulk Box   \n",
       "1                   BAZIC Pencil #2 HB Pencils, Latex Free Eraser, Wood Free Yellow Unsharpened Pencils for Exam School Office (12/Pack), 1-Pack   \n",
       "2                    Emraw Pre Sharpened Round Primary Size No 2 Jumbo Pencils for Preschoolers, Elementary Kids - Pack of 8 Premium Fat Pencils   \n",
       "3  Emraw Pre Sharpened Triangular Primary Size No 2 Jumbo Pencils for Preschoolers, Elementary Kids - Pack of 6 Fat Pencils with Bonus Sharpener   \n",
       "4                                                                      BIC Evolution Cased Pencil, #2 Lead, Gray Barrel, 24-Count (PGEBP241-BLK)   \n",
       "\n",
       "                                                                                                                                                                                                                                                                                                                                                                                                                                                                                                                                                                                                                                                                                                                                                                                                                                                                                                                                                                                                                                                                                                                                                                                                                                                                                                                                                                                                                                                                                                                                                                                                                                                                                                                                                                                                                                                                                                                                                                                                                                                          product_description  \\\n",
       "0                                                                                                                                                                                                                                                                                                                                                                                                                                                                                                                                                                                                                                                                                                                                                                                                                                                                                                                                                                                                                                                                                                                                                                                                                                                                                                                                                                                                                                                                                                                                                                                                                                                                                                                                                                                                                                                                                                                                                                                                                                                                         NaN   \n",
       "1                                                                                                                                                                                                                                                                                                                                                                                                                                                                                                                                                                                                                                                                                                                                                                                                                                                                                     <p><strong>BACK TO BAZIC</strong></p><p>Our goal is to provide each customer with long-lasting supplies at an affordable cost. Since 1998, we’ve delivered on this promise and will only continue to improve every year. We’ve built our brand on integrity and quality, so customers know exactly what to expect.</p> <p><strong>COMMITTED TO VALUES</strong></p><p>We are a value-driven company, guided by the principles of excellence through strong product design at low cost. Our commitment to these values is reflected in our dedication to improving current products and developing new exciting products for our consumers.</p> <p><strong>FOCUSED ON OUR MISSION</strong></p><p>Our currency is ideas. We thrive on imagination, passion and leadership. We have great products and will to continue to rise with our customer expectations.</p> <p><strong>SUCCESS BASED ON SATISFACTION</strong></p><p>Each and every product we send out, we expect our 100% customer satisfaction. While our supplies are sourced from all across the world, our success stems from individual consumer fulfillment. We create products that people want to recommend to others.</p>   \n",
       "2                     <p><b>Emraw Pre-Sharpened #2 HB Wood Pencils - Pack of 8 Pre-Schoolers Pencils</b></p><p>Looking for pencils for kid, office or every day general purpose repetitive use? Tired of pencils that do not sharpen well? Disappointed having broken leads repeatedly? Or, looking for pencils that require less sharpening and lasts longer?</p><p>Search no further, Emraw num 2 jumbo pencils pack have you covered. You just found the best deal. You will love them. Just the right size for pre-kindergarten toddlers. Perfect for elderly hands having difficulty grasping smaller items. Each pencil is pre-sharpened so you can literally pick straight from the box and start using. HB (no2) hardness grading with thicker leads make them perfect for most types of writing or sketching.</p><p>Made of high quality non-toxic cedar wood so they sharpen nicely with any quality dual-holed hand sharpener or adjustable electric sharpener, (not compatible with standard pencil sharpener). Rounded circular shape offers an effortless, fatigue-free writing experience.</p><p>Big ultra-smooth graphite core does not break easily, helps kids to grip securely, write smoothly and build language and motor skills. Applying normal pressure kids can wipe away mistaken strokes without a lot of effort. The soft, non-smudge rubbers are effective to erase completely and will not leave any pink residue behind after erasing unwanted marks. The eraser on top is held strongly with a ferrule and will not loosen easily, that keeps an eraser always in hand throughout its lifespan.</p><p>Use or gift these pencils to use in the classroom, work, or home for anything from keeping lists, making notes, sketch first drafts, brainstorm campaign ideas, filling in answers on an exam, coloring books as a highlighter, quick sketches of diy carpentry projects, solving sudoku or crossword puzzles.</p><p><b>Best N.2 Woodcase Pencils Supplies for You, Your Children, Students, Family, or Workmates, Order Now!!!</b></p>   \n",
       "3  <p><b>Emraw Pre-Sharpened #2 HB Wood Pencils - Pack of 6 Pre-Schoolers Pencils</b></p><p>Looking for pencils for kid, office or every day general purpose repetitive use? Tired of pencils that do not sharpen well? Disappointed having broken leads repeatedly? Or, looking for pencils that require less sharpening and lasts longer?</p><p>Search no further, Emraw num 2 jumbo pencils pack have you covered. You just found the best deal. You will just love them. Just the right size for pre-kindergarten toddlers. Perfect for elderly hands having difficulty grasping smaller items. Each pencil is pre-sharpened so you can literally pick straight from the box and start using. HB (no2) hardness grading with thicker leads make them perfect for most types of writing or sketching.</p><p>Made of high quality non-toxic cedar wood so they sharpen nicely with any quality dual-holed hand sharpener or adjustable electric sharpener (1 Sharpener Included). Rounded triangular shape offers an effortless, fatigue-free writing experience and won't roll off inclined desks or tables.</p><p>Big ultra-smooth graphite core does not break easily, helps kids to grip securely, write smoothly and build language and motor skills. Applying normal pressure kids can wipe away mistaken strokes without a lot of effort. The soft, non-smudge rubbers are effective to erase completely and will not leave any pink residue behind after erasing unwanted marks. The eraser on top is held strongly with a ferrule and will not loosen easily, that keeps an eraser always in hand throughout its lifespan.</p><p>Use the or gift these pencils to use in the classroom, work, or home for anything from keeping lists, making notes, sketch first drafts, brainstorm campaign ideas, filling in answers on an exam, coloring books as a highlighter, quick sketches of diy carpentry projects, solving sudoku or crossword puzzles.</p><p><b>Best N.2 Woodcase Pencils Supplies for You, Your Students, Family, or Workmates, Order Now!!!</b></p>   \n",
       "4                                                                                                                                                                                                                                                                                                                                                                                                                                                                                                                                                                                                                                                                                                                                                                                                                                                                                                                                                                                                                                                                                                                                                                                                                                                                                                                                                                                                                                                                                                                                                                                                                                                                                                                                                                                                                                                                                                                                                                                                                                                                         NaN   \n",
       "\n",
       "                                                                                                                                                                                                                                                                                                                                                                                                                                                                                                                                                                                                                                                                                                                                                                                                                                                                                                                                                                                                                                                                                                                                                                                                                           product_bullet_point  \\\n",
       "0                                                                                                                                                                                                                                                                                                                                                                                                                                                                                                                                                                                                                                                                                                                                                                                                                                                                                                    144 woodcase #2 HB pencils made from high-quality wood for clean, easy sharpening\\nStrong medium-soft lead produces long-lasting, smooth, readable strokes\\nRounded hexagonal shape with satin-smooth finish for a secure, comfortable grip\\nSoft, smudge-free, latex-free eraser secured to the end for conveniently wiping away mistakes   \n",
       "1                                                                                                                                                                                                                  &#11088; UN-SHARPENED #2 PREMIUM PENCILS. Each pack comes with 12 un-sharpened pencils. Unlike most others out there, these allow kids the simple joy of sharpening a brand new pencil for the very 1st time!\\n&#11088; CLASSIC BARREL. Made from premium-quality wood pencil is bonded with a break-resistant number two core for smooth writing as easily erased. Hexagonal shape prevents rolling and comfortable to hold.\\n&#11088; QUALITY. Pencils are #2 HB for general writing, drawing and sketching. Pencils glide smoothly over paper and is highly break resistant. Pencils include a smudge-resistant eraser top for convenience.\\n&#11088; LATEX-FREE ERASER. The smudge-less eraser is latex-free, which provides enough toughness for heavy erasures. These smudge-free erasers wipe the page clean, making corrections easy and fast.\\n&#11088; WIDE APPLICATION. Suitable for all general writing applications such as notes, letters, and you can use it for office, classroom, home and other occasions.   \n",
       "2  ✓ PACK OF 8 NUMBER 2 PRESHARPENED BEGINNERS PENCILS: Emraw round sharpened pencils set contains 2 packs of 4 general no.2 hb pencils with latex-free rubber erasers top, total 8 primary size yellow preschool pencils, good for little hands\\n✓ SUPERIOR NATURAL GRIP AND FEEL: Rounded triangular wooden casing blends ergonomic design for kids small hands in mind that allows your beginner writer a firm grip to comfortably hold and practice to write, scribble or tracing for hours\\n✓ CLASSIC YELLOW BARREL WOOD-CASED PENCILS: Premium pencils made from high-quality wood for easy clean sharpening, 3.25 mm thick break-resistant graphite lead requires less sharpening, produces dark long-lasting, readable, consistent strokes\\n✓ EASILY ERASABLE - MAKES DO-OVERS A BREEZE: Unwanted marks are easy to erase, offers clean corrections without tearing the paper. Soft, non-smudge rubbers are effective to erase marks completely and will not leave any residue behind\\n✓ VERSATILE WIDE APPLICATION: Suitable for kids, boys girls, teens, adults. Perfect for students in kindergarten school exam or college, teacher in classroom and general use: workshops, corporate office, meeting, sketching, writing, drawing   \n",
       "3           ✓ PACK OF 6 NUMBER 2 PRESHARPENED BEGINNERS PENCILS: Emraw triangle sharpened pencils set contains 2 packs of 3 general no.2 hb pencils with latex-free rubber erasers top, total 6 primary size yellow preschool pencils, good for little hands\\n✓ SUPERIOR NATURAL GRIP AND FEEL: Rounded triangular wooden casing blends ergonomic design for kids small hands in mind that allows your beginner writer a firm grip and comfortably hold and practice to write, scribble or tracing for hours\\n✓ CLASSIC YELLOW BARREL WOOD-CASED PENCILS: Made from high-quality wood for easy clean sharpening, 3.25 mm thick break-resistant graphite lead requires less sharpening and produces dark long-lasting, readable, consistent strokes\\n✓ EASILY ERASABLE - MAKES DO-OVERS A BREEZE: Unwanted marks are easy to erase, offers clean corrections without tearing the paper. Soft, non-smudge rubbers are effective to erase marks completely and will not leave any residue behind\\n✓ VERSATILE WIDE APPLICATION: Suitable for kids, boys girls, teens, adults. Perfect for students in kindergarten school or college exam, teacher in classroom and general use: workshops, corporate office, meeting, sketching, writing, drawing   \n",
       "4                                                                                                                                                                                                                                                                                                                                                                                                                                                                                                                                                                                                                                                                                                                                                                                                                                                                                                                                                                      Premium #2 HB lead pencils with break-resistant lead and splinter-free barrels\\nDurable, long-lasting leads and erasers\\nLatex-free erasers easily erase stray marks\\nTrendy and modern gray barrels\\nPack of 24 certified non-toxic pencils ideal for home or classroom   \n",
       "\n",
       "    product_brand product_color_name product_locale  \n",
       "0   Amazon Basics             Yellow             us  \n",
       "1  BAZIC Products           12-count             us  \n",
       "2           Emraw             Yellow             us  \n",
       "3           Emraw             Yellow             us  \n",
       "4    Design House               Gray             us  "
      ]
     },
     "execution_count": 7,
     "metadata": {},
     "output_type": "execute_result"
    }
   ],
   "source": [
    "prod_cat.head()"
   ]
  },
  {
   "cell_type": "code",
   "execution_count": 8,
   "id": "f4010a40",
   "metadata": {
    "execution": {
     "iopub.execute_input": "2022-06-23T02:20:28.292030Z",
     "iopub.status.busy": "2022-06-23T02:20:28.291710Z",
     "iopub.status.idle": "2022-06-23T02:20:28.784094Z",
     "shell.execute_reply": "2022-06-23T02:20:28.782913Z"
    },
    "papermill": {
     "duration": 0.506675,
     "end_time": "2022-06-23T02:20:28.787046",
     "exception": false,
     "start_time": "2022-06-23T02:20:28.280371",
     "status": "completed"
    },
    "tags": []
   },
   "outputs": [
    {
     "name": "stdout",
     "output_type": "stream",
     "text": [
      "es True\n",
      "jp True\n",
      "us True\n"
     ]
    }
   ],
   "source": [
    "for locale, _df in prod_cat.groupby(['product_locale']):\n",
    "    print(locale, _df.product_id.is_unique)\n",
    "    assert _df.product_id.is_unique"
   ]
  },
  {
   "cell_type": "code",
   "execution_count": 9,
   "id": "1b72632f",
   "metadata": {
    "execution": {
     "iopub.execute_input": "2022-06-23T02:20:28.811470Z",
     "iopub.status.busy": "2022-06-23T02:20:28.811094Z",
     "iopub.status.idle": "2022-06-23T02:20:28.818538Z",
     "shell.execute_reply": "2022-06-23T02:20:28.817175Z"
    },
    "papermill": {
     "duration": 0.022496,
     "end_time": "2022-06-23T02:20:28.821007",
     "exception": false,
     "start_time": "2022-06-23T02:20:28.798511",
     "status": "completed"
    },
    "tags": []
   },
   "outputs": [],
   "source": [
    "def get_product_input(row):\n",
    "    product_columns = ['product_title', 'product_locale', 'product_description', 'product_bullet_point']\n",
    "    product_info = ''\n",
    "    for col in product_columns:\n",
    "        product_info += str(row.get(col, '')) + ' '\n",
    "    return product_info.strip()\n",
    "\n",
    "d = {'product_title': 'hi hello', 'product_locale': 'en', 'product_description': 'nike', 'product_bullet_point': 'shoes'}\n",
    "assert get_product_input(d) == 'hi hello en nike shoes'"
   ]
  },
  {
   "cell_type": "code",
   "execution_count": 10,
   "id": "11bfc22a",
   "metadata": {
    "execution": {
     "iopub.execute_input": "2022-06-23T02:20:28.843431Z",
     "iopub.status.busy": "2022-06-23T02:20:28.843126Z",
     "iopub.status.idle": "2022-06-23T02:21:05.653818Z",
     "shell.execute_reply": "2022-06-23T02:21:05.652597Z"
    },
    "papermill": {
     "duration": 36.825057,
     "end_time": "2022-06-23T02:21:05.656712",
     "exception": false,
     "start_time": "2022-06-23T02:20:28.831655",
     "status": "completed"
    },
    "tags": []
   },
   "outputs": [],
   "source": [
    "prod_cat.fillna('', inplace=True)\n",
    "prod_cat['product_input'] = prod_cat.apply(lambda row: get_product_input(row), axis=1)"
   ]
  },
  {
   "cell_type": "code",
   "execution_count": 11,
   "id": "2ce82aed",
   "metadata": {
    "execution": {
     "iopub.execute_input": "2022-06-23T02:21:05.682027Z",
     "iopub.status.busy": "2022-06-23T02:21:05.680991Z",
     "iopub.status.idle": "2022-06-23T02:21:05.699501Z",
     "shell.execute_reply": "2022-06-23T02:21:05.697987Z"
    },
    "papermill": {
     "duration": 0.036023,
     "end_time": "2022-06-23T02:21:05.704534",
     "exception": false,
     "start_time": "2022-06-23T02:21:05.668511",
     "status": "completed"
    },
    "tags": []
   },
   "outputs": [
    {
     "data": {
      "text/html": [
       "<div>\n",
       "<style scoped>\n",
       "    .dataframe tbody tr th:only-of-type {\n",
       "        vertical-align: middle;\n",
       "    }\n",
       "\n",
       "    .dataframe tbody tr th {\n",
       "        vertical-align: top;\n",
       "    }\n",
       "\n",
       "    .dataframe thead th {\n",
       "        text-align: right;\n",
       "    }\n",
       "</style>\n",
       "<table border=\"1\" class=\"dataframe\">\n",
       "  <thead>\n",
       "    <tr style=\"text-align: right;\">\n",
       "      <th></th>\n",
       "      <th>product_id</th>\n",
       "      <th>product_title</th>\n",
       "      <th>product_description</th>\n",
       "      <th>product_bullet_point</th>\n",
       "      <th>product_brand</th>\n",
       "      <th>product_color_name</th>\n",
       "      <th>product_locale</th>\n",
       "      <th>product_input</th>\n",
       "    </tr>\n",
       "  </thead>\n",
       "  <tbody>\n",
       "    <tr>\n",
       "      <th>0</th>\n",
       "      <td>B0188A3QRM</td>\n",
       "      <td>Amazon Basics Woodcased #2 Pencils, Unsharpened, HB Lead - Box of 144, Bulk Box</td>\n",
       "      <td></td>\n",
       "      <td>144 woodcase #2 HB pencils made from high-quality wood for clean, easy sharpening\\nStrong medium-soft lead produces long-lasting, smooth, readable strokes\\nRounded hexagonal shape with satin-smooth finish for a secure, comfortable grip\\nSoft, smudge-free, latex-free eraser secured to the end for conveniently wiping away mistakes</td>\n",
       "      <td>Amazon Basics</td>\n",
       "      <td>Yellow</td>\n",
       "      <td>us</td>\n",
       "      <td>Amazon Basics Woodcased #2 Pencils, Unsharpened, HB Lead - Box of 144, Bulk Box us  144 woodcase #2 HB pencils made from high-quality wood for clean, easy sharpening\\nStrong medium-soft lead produces long-lasting, smooth, readable strokes\\nRounded hexagonal shape with satin-smooth finish for a secure, comfortable grip\\nSoft, smudge-free, latex-free eraser secured to the end for conveniently wiping away mistakes</td>\n",
       "    </tr>\n",
       "    <tr>\n",
       "      <th>1</th>\n",
       "      <td>B075VXJ9VG</td>\n",
       "      <td>BAZIC Pencil #2 HB Pencils, Latex Free Eraser, Wood Free Yellow Unsharpened Pencils for Exam School Office (12/Pack), 1-Pack</td>\n",
       "      <td>&lt;p&gt;&lt;strong&gt;BACK TO BAZIC&lt;/strong&gt;&lt;/p&gt;&lt;p&gt;Our goal is to provide each customer with long-lasting supplies at an affordable cost. Since 1998, we’ve delivered on this promise and will only continue to improve every year. We’ve built our brand on integrity and quality, so customers know exactly what to expect.&lt;/p&gt; &lt;p&gt;&lt;strong&gt;COMMITTED TO VALUES&lt;/strong&gt;&lt;/p&gt;&lt;p&gt;We are a value-driven company, guided by the principles of excellence through strong product design at low cost. Our commitment to these values is reflected in our dedication to improving current products and developing new exciting products for our consumers.&lt;/p&gt; &lt;p&gt;&lt;strong&gt;FOCUSED ON OUR MISSION&lt;/strong&gt;&lt;/p&gt;&lt;p&gt;Our currency is ideas. We thrive on imagination, passion and leadership. We have great products and will to continue to rise with our customer expectations.&lt;/p&gt; &lt;p&gt;&lt;strong&gt;SUCCESS BASED ON SATISFACTION&lt;/strong&gt;&lt;/p&gt;&lt;p&gt;Each and every product we send out, we expect our 100% customer satisfaction. While our supplies are sourced from all across the world, our success stems from individual consumer fulfillment. We create products that people want to recommend to others.&lt;/p&gt;</td>\n",
       "      <td>&amp;#11088; UN-SHARPENED #2 PREMIUM PENCILS. Each pack comes with 12 un-sharpened pencils. Unlike most others out there, these allow kids the simple joy of sharpening a brand new pencil for the very 1st time!\\n&amp;#11088; CLASSIC BARREL. Made from premium-quality wood pencil is bonded with a break-resistant number two core for smooth writing as easily erased. Hexagonal shape prevents rolling and comfortable to hold.\\n&amp;#11088; QUALITY. Pencils are #2 HB for general writing, drawing and sketching. Pencils glide smoothly over paper and is highly break resistant. Pencils include a smudge-resistant eraser top for convenience.\\n&amp;#11088; LATEX-FREE ERASER. The smudge-less eraser is latex-free, which provides enough toughness for heavy erasures. These smudge-free erasers wipe the page clean, making corrections easy and fast.\\n&amp;#11088; WIDE APPLICATION. Suitable for all general writing applications such as notes, letters, and you can use it for office, classroom, home and other occasions.</td>\n",
       "      <td>BAZIC Products</td>\n",
       "      <td>12-count</td>\n",
       "      <td>us</td>\n",
       "      <td>BAZIC Pencil #2 HB Pencils, Latex Free Eraser, Wood Free Yellow Unsharpened Pencils for Exam School Office (12/Pack), 1-Pack us &lt;p&gt;&lt;strong&gt;BACK TO BAZIC&lt;/strong&gt;&lt;/p&gt;&lt;p&gt;Our goal is to provide each customer with long-lasting supplies at an affordable cost. Since 1998, we’ve delivered on this promise and will only continue to improve every year. We’ve built our brand on integrity and quality, so customers know exactly what to expect.&lt;/p&gt; &lt;p&gt;&lt;strong&gt;COMMITTED TO VALUES&lt;/strong&gt;&lt;/p&gt;&lt;p&gt;We are a value-driven company, guided by the principles of excellence through strong product design at low cost. Our commitment to these values is reflected in our dedication to improving current products and developing new exciting products for our consumers.&lt;/p&gt; &lt;p&gt;&lt;strong&gt;FOCUSED ON OUR MISSION&lt;/strong&gt;&lt;/p&gt;&lt;p&gt;Our currency is ideas. We thrive on imagination, passion and leadership. We have great products and will to continue to rise with our customer expectations.&lt;/p&gt; &lt;p&gt;&lt;strong&gt;SUCCESS BASED ON SATISFACTION&lt;/strong&gt;&lt;/p&gt;&lt;p&gt;Each and every product we send out, we expect our 100% customer satisfaction. While our supplies are sourced from all across the world, our success stems from individual consumer fulfillment. We create products that people want to recommend to others.&lt;/p&gt; &amp;#11088; UN-SHARPENED #2 PREMIUM PENCILS. Each pack comes with 12 un-sharpened pencils. Unlike most others out there, these allow kids the simple joy of sharpening a brand new pencil for the very 1st time!\\n&amp;#11088; CLASSIC BARREL. Made from premium-quality wood pencil is bonded with a break-resistant number two core for smooth writing as easily erased. Hexagonal shape prevents rolling and comfortable to hold.\\n&amp;#11088; QUALITY. Pencils are #2 HB for general writing, drawing and sketching. Pencils glide smoothly over paper and is highly break resistant. Pencils include a smudge-resistant eraser top for convenience.\\n&amp;#11088; LATEX-FREE ERASER. The smudge-less eraser is latex-free, which provides enough toughness for heavy erasures. These smudge-free erasers wipe the page clean, making corrections easy and fast.\\n&amp;#11088; WIDE APPLICATION. Suitable for all general writing applications such as notes, letters, and you can use it for office, classroom, home and other occasions.</td>\n",
       "    </tr>\n",
       "    <tr>\n",
       "      <th>2</th>\n",
       "      <td>B07G7F6JZ6</td>\n",
       "      <td>Emraw Pre Sharpened Round Primary Size No 2 Jumbo Pencils for Preschoolers, Elementary Kids - Pack of 8 Premium Fat Pencils</td>\n",
       "      <td>&lt;p&gt;&lt;b&gt;Emraw Pre-Sharpened #2 HB Wood Pencils - Pack of 8 Pre-Schoolers Pencils&lt;/b&gt;&lt;/p&gt;&lt;p&gt;Looking for pencils for kid, office or every day general purpose repetitive use? Tired of pencils that do not sharpen well? Disappointed having broken leads repeatedly? Or, looking for pencils that require less sharpening and lasts longer?&lt;/p&gt;&lt;p&gt;Search no further, Emraw num 2 jumbo pencils pack have you covered. You just found the best deal. You will love them. Just the right size for pre-kindergarten toddlers. Perfect for elderly hands having difficulty grasping smaller items. Each pencil is pre-sharpened so you can literally pick straight from the box and start using. HB (no2) hardness grading with thicker leads make them perfect for most types of writing or sketching.&lt;/p&gt;&lt;p&gt;Made of high quality non-toxic cedar wood so they sharpen nicely with any quality dual-holed hand sharpener or adjustable electric sharpener, (not compatible with standard pencil sharpener). Rounded circular shape offers an effortless, fatigue-free writing experience.&lt;/p&gt;&lt;p&gt;Big ultra-smooth graphite core does not break easily, helps kids to grip securely, write smoothly and build language and motor skills. Applying normal pressure kids can wipe away mistaken strokes without a lot of effort. The soft, non-smudge rubbers are effective to erase completely and will not leave any pink residue behind after erasing unwanted marks. The eraser on top is held strongly with a ferrule and will not loosen easily, that keeps an eraser always in hand throughout its lifespan.&lt;/p&gt;&lt;p&gt;Use or gift these pencils to use in the classroom, work, or home for anything from keeping lists, making notes, sketch first drafts, brainstorm campaign ideas, filling in answers on an exam, coloring books as a highlighter, quick sketches of diy carpentry projects, solving sudoku or crossword puzzles.&lt;/p&gt;&lt;p&gt;&lt;b&gt;Best N.2 Woodcase Pencils Supplies for You, Your Children, Students, Family, or Workmates, Order Now!!!&lt;/b&gt;&lt;/p&gt;</td>\n",
       "      <td>✓ PACK OF 8 NUMBER 2 PRESHARPENED BEGINNERS PENCILS: Emraw round sharpened pencils set contains 2 packs of 4 general no.2 hb pencils with latex-free rubber erasers top, total 8 primary size yellow preschool pencils, good for little hands\\n✓ SUPERIOR NATURAL GRIP AND FEEL: Rounded triangular wooden casing blends ergonomic design for kids small hands in mind that allows your beginner writer a firm grip to comfortably hold and practice to write, scribble or tracing for hours\\n✓ CLASSIC YELLOW BARREL WOOD-CASED PENCILS: Premium pencils made from high-quality wood for easy clean sharpening, 3.25 mm thick break-resistant graphite lead requires less sharpening, produces dark long-lasting, readable, consistent strokes\\n✓ EASILY ERASABLE - MAKES DO-OVERS A BREEZE: Unwanted marks are easy to erase, offers clean corrections without tearing the paper. Soft, non-smudge rubbers are effective to erase marks completely and will not leave any residue behind\\n✓ VERSATILE WIDE APPLICATION: Suitable for kids, boys girls, teens, adults. Perfect for students in kindergarten school exam or college, teacher in classroom and general use: workshops, corporate office, meeting, sketching, writing, drawing</td>\n",
       "      <td>Emraw</td>\n",
       "      <td>Yellow</td>\n",
       "      <td>us</td>\n",
       "      <td>Emraw Pre Sharpened Round Primary Size No 2 Jumbo Pencils for Preschoolers, Elementary Kids - Pack of 8 Premium Fat Pencils us &lt;p&gt;&lt;b&gt;Emraw Pre-Sharpened #2 HB Wood Pencils - Pack of 8 Pre-Schoolers Pencils&lt;/b&gt;&lt;/p&gt;&lt;p&gt;Looking for pencils for kid, office or every day general purpose repetitive use? Tired of pencils that do not sharpen well? Disappointed having broken leads repeatedly? Or, looking for pencils that require less sharpening and lasts longer?&lt;/p&gt;&lt;p&gt;Search no further, Emraw num 2 jumbo pencils pack have you covered. You just found the best deal. You will love them. Just the right size for pre-kindergarten toddlers. Perfect for elderly hands having difficulty grasping smaller items. Each pencil is pre-sharpened so you can literally pick straight from the box and start using. HB (no2) hardness grading with thicker leads make them perfect for most types of writing or sketching.&lt;/p&gt;&lt;p&gt;Made of high quality non-toxic cedar wood so they sharpen nicely with any quality dual-holed hand sharpener or adjustable electric sharpener, (not compatible with standard pencil sharpener). Rounded circular shape offers an effortless, fatigue-free writing experience.&lt;/p&gt;&lt;p&gt;Big ultra-smooth graphite core does not break easily, helps kids to grip securely, write smoothly and build language and motor skills. Applying normal pressure kids can wipe away mistaken strokes without a lot of effort. The soft, non-smudge rubbers are effective to erase completely and will not leave any pink residue behind after erasing unwanted marks. The eraser on top is held strongly with a ferrule and will not loosen easily, that keeps an eraser always in hand throughout its lifespan.&lt;/p&gt;&lt;p&gt;Use or gift these pencils to use in the classroom, work, or home for anything from keeping lists, making notes, sketch first drafts, brainstorm campaign ideas, filling in answers on an exam, coloring books as a highlighter, quick sketches of diy carpentry projects, solving sudoku or crossword puzzles.&lt;/p&gt;&lt;p&gt;&lt;b&gt;Best N.2 Woodcase Pencils Supplies for You, Your Children, Students, Family, or Workmates, Order Now!!!&lt;/b&gt;&lt;/p&gt; ✓ PACK OF 8 NUMBER 2 PRESHARPENED BEGINNERS PENCILS: Emraw round sharpened pencils set contains 2 packs of 4 general no.2 hb pencils with latex-free rubber erasers top, total 8 primary size yellow preschool pencils, good for little hands\\n✓ SUPERIOR NATURAL GRIP AND FEEL: Rounded triangular wooden casing blends ergonomic design for kids small hands in mind that allows your beginner writer a firm grip to comfortably hold and practice to write, scribble or tracing for hours\\n✓ CLASSIC YELLOW BARREL WOOD-CASED PENCILS: Premium pencils made from high-quality wood for easy clean sharpening, 3.25 mm thick break-resistant graphite lead requires less sharpening, produces dark long-lasting, readable, consistent strokes\\n✓ EASILY ERASABLE - MAKES DO-OVERS A BREEZE: Unwanted marks are easy to erase, offers clean corrections without tearing the paper. Soft, non-smudge rubbers are effective to erase marks completely and will not leave any residue behind\\n✓ VERSATILE WIDE APPLICATION: Suitable for kids, boys girls, teens, adults. Perfect for students in kindergarten school exam or college, teacher in classroom and general use: workshops, corporate office, meeting, sketching, writing, drawing</td>\n",
       "    </tr>\n",
       "    <tr>\n",
       "      <th>3</th>\n",
       "      <td>B07JZJLHCF</td>\n",
       "      <td>Emraw Pre Sharpened Triangular Primary Size No 2 Jumbo Pencils for Preschoolers, Elementary Kids - Pack of 6 Fat Pencils with Bonus Sharpener</td>\n",
       "      <td>&lt;p&gt;&lt;b&gt;Emraw Pre-Sharpened #2 HB Wood Pencils - Pack of 6 Pre-Schoolers Pencils&lt;/b&gt;&lt;/p&gt;&lt;p&gt;Looking for pencils for kid, office or every day general purpose repetitive use? Tired of pencils that do not sharpen well? Disappointed having broken leads repeatedly? Or, looking for pencils that require less sharpening and lasts longer?&lt;/p&gt;&lt;p&gt;Search no further, Emraw num 2 jumbo pencils pack have you covered. You just found the best deal. You will just love them. Just the right size for pre-kindergarten toddlers. Perfect for elderly hands having difficulty grasping smaller items. Each pencil is pre-sharpened so you can literally pick straight from the box and start using. HB (no2) hardness grading with thicker leads make them perfect for most types of writing or sketching.&lt;/p&gt;&lt;p&gt;Made of high quality non-toxic cedar wood so they sharpen nicely with any quality dual-holed hand sharpener or adjustable electric sharpener (1 Sharpener Included). Rounded triangular shape offers an effortless, fatigue-free writing experience and won't roll off inclined desks or tables.&lt;/p&gt;&lt;p&gt;Big ultra-smooth graphite core does not break easily, helps kids to grip securely, write smoothly and build language and motor skills. Applying normal pressure kids can wipe away mistaken strokes without a lot of effort. The soft, non-smudge rubbers are effective to erase completely and will not leave any pink residue behind after erasing unwanted marks. The eraser on top is held strongly with a ferrule and will not loosen easily, that keeps an eraser always in hand throughout its lifespan.&lt;/p&gt;&lt;p&gt;Use the or gift these pencils to use in the classroom, work, or home for anything from keeping lists, making notes, sketch first drafts, brainstorm campaign ideas, filling in answers on an exam, coloring books as a highlighter, quick sketches of diy carpentry projects, solving sudoku or crossword puzzles.&lt;/p&gt;&lt;p&gt;&lt;b&gt;Best N.2 Woodcase Pencils Supplies for You, Your Students, Family, or Workmates, Order Now!!!&lt;/b&gt;&lt;/p&gt;</td>\n",
       "      <td>✓ PACK OF 6 NUMBER 2 PRESHARPENED BEGINNERS PENCILS: Emraw triangle sharpened pencils set contains 2 packs of 3 general no.2 hb pencils with latex-free rubber erasers top, total 6 primary size yellow preschool pencils, good for little hands\\n✓ SUPERIOR NATURAL GRIP AND FEEL: Rounded triangular wooden casing blends ergonomic design for kids small hands in mind that allows your beginner writer a firm grip and comfortably hold and practice to write, scribble or tracing for hours\\n✓ CLASSIC YELLOW BARREL WOOD-CASED PENCILS: Made from high-quality wood for easy clean sharpening, 3.25 mm thick break-resistant graphite lead requires less sharpening and produces dark long-lasting, readable, consistent strokes\\n✓ EASILY ERASABLE - MAKES DO-OVERS A BREEZE: Unwanted marks are easy to erase, offers clean corrections without tearing the paper. Soft, non-smudge rubbers are effective to erase marks completely and will not leave any residue behind\\n✓ VERSATILE WIDE APPLICATION: Suitable for kids, boys girls, teens, adults. Perfect for students in kindergarten school or college exam, teacher in classroom and general use: workshops, corporate office, meeting, sketching, writing, drawing</td>\n",
       "      <td>Emraw</td>\n",
       "      <td>Yellow</td>\n",
       "      <td>us</td>\n",
       "      <td>Emraw Pre Sharpened Triangular Primary Size No 2 Jumbo Pencils for Preschoolers, Elementary Kids - Pack of 6 Fat Pencils with Bonus Sharpener us &lt;p&gt;&lt;b&gt;Emraw Pre-Sharpened #2 HB Wood Pencils - Pack of 6 Pre-Schoolers Pencils&lt;/b&gt;&lt;/p&gt;&lt;p&gt;Looking for pencils for kid, office or every day general purpose repetitive use? Tired of pencils that do not sharpen well? Disappointed having broken leads repeatedly? Or, looking for pencils that require less sharpening and lasts longer?&lt;/p&gt;&lt;p&gt;Search no further, Emraw num 2 jumbo pencils pack have you covered. You just found the best deal. You will just love them. Just the right size for pre-kindergarten toddlers. Perfect for elderly hands having difficulty grasping smaller items. Each pencil is pre-sharpened so you can literally pick straight from the box and start using. HB (no2) hardness grading with thicker leads make them perfect for most types of writing or sketching.&lt;/p&gt;&lt;p&gt;Made of high quality non-toxic cedar wood so they sharpen nicely with any quality dual-holed hand sharpener or adjustable electric sharpener (1 Sharpener Included). Rounded triangular shape offers an effortless, fatigue-free writing experience and won't roll off inclined desks or tables.&lt;/p&gt;&lt;p&gt;Big ultra-smooth graphite core does not break easily, helps kids to grip securely, write smoothly and build language and motor skills. Applying normal pressure kids can wipe away mistaken strokes without a lot of effort. The soft, non-smudge rubbers are effective to erase completely and will not leave any pink residue behind after erasing unwanted marks. The eraser on top is held strongly with a ferrule and will not loosen easily, that keeps an eraser always in hand throughout its lifespan.&lt;/p&gt;&lt;p&gt;Use the or gift these pencils to use in the classroom, work, or home for anything from keeping lists, making notes, sketch first drafts, brainstorm campaign ideas, filling in answers on an exam, coloring books as a highlighter, quick sketches of diy carpentry projects, solving sudoku or crossword puzzles.&lt;/p&gt;&lt;p&gt;&lt;b&gt;Best N.2 Woodcase Pencils Supplies for You, Your Students, Family, or Workmates, Order Now!!!&lt;/b&gt;&lt;/p&gt; ✓ PACK OF 6 NUMBER 2 PRESHARPENED BEGINNERS PENCILS: Emraw triangle sharpened pencils set contains 2 packs of 3 general no.2 hb pencils with latex-free rubber erasers top, total 6 primary size yellow preschool pencils, good for little hands\\n✓ SUPERIOR NATURAL GRIP AND FEEL: Rounded triangular wooden casing blends ergonomic design for kids small hands in mind that allows your beginner writer a firm grip and comfortably hold and practice to write, scribble or tracing for hours\\n✓ CLASSIC YELLOW BARREL WOOD-CASED PENCILS: Made from high-quality wood for easy clean sharpening, 3.25 mm thick break-resistant graphite lead requires less sharpening and produces dark long-lasting, readable, consistent strokes\\n✓ EASILY ERASABLE - MAKES DO-OVERS A BREEZE: Unwanted marks are easy to erase, offers clean corrections without tearing the paper. Soft, non-smudge rubbers are effective to erase marks completely and will not leave any residue behind\\n✓ VERSATILE WIDE APPLICATION: Suitable for kids, boys girls, teens, adults. Perfect for students in kindergarten school or college exam, teacher in classroom and general use: workshops, corporate office, meeting, sketching, writing, drawing</td>\n",
       "    </tr>\n",
       "  </tbody>\n",
       "</table>\n",
       "</div>"
      ],
      "text/plain": [
       "   product_id  \\\n",
       "0  B0188A3QRM   \n",
       "1  B075VXJ9VG   \n",
       "2  B07G7F6JZ6   \n",
       "3  B07JZJLHCF   \n",
       "\n",
       "                                                                                                                                   product_title  \\\n",
       "0                                                                Amazon Basics Woodcased #2 Pencils, Unsharpened, HB Lead - Box of 144, Bulk Box   \n",
       "1                   BAZIC Pencil #2 HB Pencils, Latex Free Eraser, Wood Free Yellow Unsharpened Pencils for Exam School Office (12/Pack), 1-Pack   \n",
       "2                    Emraw Pre Sharpened Round Primary Size No 2 Jumbo Pencils for Preschoolers, Elementary Kids - Pack of 8 Premium Fat Pencils   \n",
       "3  Emraw Pre Sharpened Triangular Primary Size No 2 Jumbo Pencils for Preschoolers, Elementary Kids - Pack of 6 Fat Pencils with Bonus Sharpener   \n",
       "\n",
       "                                                                                                                                                                                                                                                                                                                                                                                                                                                                                                                                                                                                                                                                                                                                                                                                                                                                                                                                                                                                                                                                                                                                                                                                                                                                                                                                                                                                                                                                                                                                                                                                                                                                                                                                                                                                                                                                                                                                                                                                                                                          product_description  \\\n",
       "0                                                                                                                                                                                                                                                                                                                                                                                                                                                                                                                                                                                                                                                                                                                                                                                                                                                                                                                                                                                                                                                                                                                                                                                                                                                                                                                                                                                                                                                                                                                                                                                                                                                                                                                                                                                                                                                                                                                                                                                                                                                                               \n",
       "1                                                                                                                                                                                                                                                                                                                                                                                                                                                                                                                                                                                                                                                                                                                                                                                                                                                                                     <p><strong>BACK TO BAZIC</strong></p><p>Our goal is to provide each customer with long-lasting supplies at an affordable cost. Since 1998, we’ve delivered on this promise and will only continue to improve every year. We’ve built our brand on integrity and quality, so customers know exactly what to expect.</p> <p><strong>COMMITTED TO VALUES</strong></p><p>We are a value-driven company, guided by the principles of excellence through strong product design at low cost. Our commitment to these values is reflected in our dedication to improving current products and developing new exciting products for our consumers.</p> <p><strong>FOCUSED ON OUR MISSION</strong></p><p>Our currency is ideas. We thrive on imagination, passion and leadership. We have great products and will to continue to rise with our customer expectations.</p> <p><strong>SUCCESS BASED ON SATISFACTION</strong></p><p>Each and every product we send out, we expect our 100% customer satisfaction. While our supplies are sourced from all across the world, our success stems from individual consumer fulfillment. We create products that people want to recommend to others.</p>   \n",
       "2                     <p><b>Emraw Pre-Sharpened #2 HB Wood Pencils - Pack of 8 Pre-Schoolers Pencils</b></p><p>Looking for pencils for kid, office or every day general purpose repetitive use? Tired of pencils that do not sharpen well? Disappointed having broken leads repeatedly? Or, looking for pencils that require less sharpening and lasts longer?</p><p>Search no further, Emraw num 2 jumbo pencils pack have you covered. You just found the best deal. You will love them. Just the right size for pre-kindergarten toddlers. Perfect for elderly hands having difficulty grasping smaller items. Each pencil is pre-sharpened so you can literally pick straight from the box and start using. HB (no2) hardness grading with thicker leads make them perfect for most types of writing or sketching.</p><p>Made of high quality non-toxic cedar wood so they sharpen nicely with any quality dual-holed hand sharpener or adjustable electric sharpener, (not compatible with standard pencil sharpener). Rounded circular shape offers an effortless, fatigue-free writing experience.</p><p>Big ultra-smooth graphite core does not break easily, helps kids to grip securely, write smoothly and build language and motor skills. Applying normal pressure kids can wipe away mistaken strokes without a lot of effort. The soft, non-smudge rubbers are effective to erase completely and will not leave any pink residue behind after erasing unwanted marks. The eraser on top is held strongly with a ferrule and will not loosen easily, that keeps an eraser always in hand throughout its lifespan.</p><p>Use or gift these pencils to use in the classroom, work, or home for anything from keeping lists, making notes, sketch first drafts, brainstorm campaign ideas, filling in answers on an exam, coloring books as a highlighter, quick sketches of diy carpentry projects, solving sudoku or crossword puzzles.</p><p><b>Best N.2 Woodcase Pencils Supplies for You, Your Children, Students, Family, or Workmates, Order Now!!!</b></p>   \n",
       "3  <p><b>Emraw Pre-Sharpened #2 HB Wood Pencils - Pack of 6 Pre-Schoolers Pencils</b></p><p>Looking for pencils for kid, office or every day general purpose repetitive use? Tired of pencils that do not sharpen well? Disappointed having broken leads repeatedly? Or, looking for pencils that require less sharpening and lasts longer?</p><p>Search no further, Emraw num 2 jumbo pencils pack have you covered. You just found the best deal. You will just love them. Just the right size for pre-kindergarten toddlers. Perfect for elderly hands having difficulty grasping smaller items. Each pencil is pre-sharpened so you can literally pick straight from the box and start using. HB (no2) hardness grading with thicker leads make them perfect for most types of writing or sketching.</p><p>Made of high quality non-toxic cedar wood so they sharpen nicely with any quality dual-holed hand sharpener or adjustable electric sharpener (1 Sharpener Included). Rounded triangular shape offers an effortless, fatigue-free writing experience and won't roll off inclined desks or tables.</p><p>Big ultra-smooth graphite core does not break easily, helps kids to grip securely, write smoothly and build language and motor skills. Applying normal pressure kids can wipe away mistaken strokes without a lot of effort. The soft, non-smudge rubbers are effective to erase completely and will not leave any pink residue behind after erasing unwanted marks. The eraser on top is held strongly with a ferrule and will not loosen easily, that keeps an eraser always in hand throughout its lifespan.</p><p>Use the or gift these pencils to use in the classroom, work, or home for anything from keeping lists, making notes, sketch first drafts, brainstorm campaign ideas, filling in answers on an exam, coloring books as a highlighter, quick sketches of diy carpentry projects, solving sudoku or crossword puzzles.</p><p><b>Best N.2 Woodcase Pencils Supplies for You, Your Students, Family, or Workmates, Order Now!!!</b></p>   \n",
       "\n",
       "                                                                                                                                                                                                                                                                                                                                                                                                                                                                                                                                                                                                                                                                                                                                                                                                                                                                                                                                                                                                                                                                                                                                                                                                                           product_bullet_point  \\\n",
       "0                                                                                                                                                                                                                                                                                                                                                                                                                                                                                                                                                                                                                                                                                                                                                                                                                                                                                                    144 woodcase #2 HB pencils made from high-quality wood for clean, easy sharpening\\nStrong medium-soft lead produces long-lasting, smooth, readable strokes\\nRounded hexagonal shape with satin-smooth finish for a secure, comfortable grip\\nSoft, smudge-free, latex-free eraser secured to the end for conveniently wiping away mistakes   \n",
       "1                                                                                                                                                                                                                  &#11088; UN-SHARPENED #2 PREMIUM PENCILS. Each pack comes with 12 un-sharpened pencils. Unlike most others out there, these allow kids the simple joy of sharpening a brand new pencil for the very 1st time!\\n&#11088; CLASSIC BARREL. Made from premium-quality wood pencil is bonded with a break-resistant number two core for smooth writing as easily erased. Hexagonal shape prevents rolling and comfortable to hold.\\n&#11088; QUALITY. Pencils are #2 HB for general writing, drawing and sketching. Pencils glide smoothly over paper and is highly break resistant. Pencils include a smudge-resistant eraser top for convenience.\\n&#11088; LATEX-FREE ERASER. The smudge-less eraser is latex-free, which provides enough toughness for heavy erasures. These smudge-free erasers wipe the page clean, making corrections easy and fast.\\n&#11088; WIDE APPLICATION. Suitable for all general writing applications such as notes, letters, and you can use it for office, classroom, home and other occasions.   \n",
       "2  ✓ PACK OF 8 NUMBER 2 PRESHARPENED BEGINNERS PENCILS: Emraw round sharpened pencils set contains 2 packs of 4 general no.2 hb pencils with latex-free rubber erasers top, total 8 primary size yellow preschool pencils, good for little hands\\n✓ SUPERIOR NATURAL GRIP AND FEEL: Rounded triangular wooden casing blends ergonomic design for kids small hands in mind that allows your beginner writer a firm grip to comfortably hold and practice to write, scribble or tracing for hours\\n✓ CLASSIC YELLOW BARREL WOOD-CASED PENCILS: Premium pencils made from high-quality wood for easy clean sharpening, 3.25 mm thick break-resistant graphite lead requires less sharpening, produces dark long-lasting, readable, consistent strokes\\n✓ EASILY ERASABLE - MAKES DO-OVERS A BREEZE: Unwanted marks are easy to erase, offers clean corrections without tearing the paper. Soft, non-smudge rubbers are effective to erase marks completely and will not leave any residue behind\\n✓ VERSATILE WIDE APPLICATION: Suitable for kids, boys girls, teens, adults. Perfect for students in kindergarten school exam or college, teacher in classroom and general use: workshops, corporate office, meeting, sketching, writing, drawing   \n",
       "3           ✓ PACK OF 6 NUMBER 2 PRESHARPENED BEGINNERS PENCILS: Emraw triangle sharpened pencils set contains 2 packs of 3 general no.2 hb pencils with latex-free rubber erasers top, total 6 primary size yellow preschool pencils, good for little hands\\n✓ SUPERIOR NATURAL GRIP AND FEEL: Rounded triangular wooden casing blends ergonomic design for kids small hands in mind that allows your beginner writer a firm grip and comfortably hold and practice to write, scribble or tracing for hours\\n✓ CLASSIC YELLOW BARREL WOOD-CASED PENCILS: Made from high-quality wood for easy clean sharpening, 3.25 mm thick break-resistant graphite lead requires less sharpening and produces dark long-lasting, readable, consistent strokes\\n✓ EASILY ERASABLE - MAKES DO-OVERS A BREEZE: Unwanted marks are easy to erase, offers clean corrections without tearing the paper. Soft, non-smudge rubbers are effective to erase marks completely and will not leave any residue behind\\n✓ VERSATILE WIDE APPLICATION: Suitable for kids, boys girls, teens, adults. Perfect for students in kindergarten school or college exam, teacher in classroom and general use: workshops, corporate office, meeting, sketching, writing, drawing   \n",
       "\n",
       "    product_brand product_color_name product_locale  \\\n",
       "0   Amazon Basics             Yellow             us   \n",
       "1  BAZIC Products           12-count             us   \n",
       "2           Emraw             Yellow             us   \n",
       "3           Emraw             Yellow             us   \n",
       "\n",
       "                                                                                                                                                                                                                                                                                                                                                                                                                                                                                                                                                                                                                                                                                                                                                                                                                                                                                                                                                                                                                                                                                                                                                                                                                                                                                                                                                                                                                                                                                                                                                                                                                                                                                                                                                                                                                                                                                                                                                                                                                                                                                                                                                                                                                                                                                                                                                                                                                                                                                                                                                                                                                                                                                                                                                                                                                                                                                                                                                                                                                                                                                                                                                                                                                                                                                                                                                                                                                                                     product_input  \n",
       "0                                                                                                                                                                                                                                                                                                                                                                                                                                                                                                                                                                                                                                                                                                                                                                                                                                                                                                                                                                                                                                                                                                                                                                                                                                                                                                                                                                                                                                                                                                                                                                                                                                                                                                                                                                                                                                                                                                                                                                                                                                                                                                                                                                                                                                                                                                                                                                                                                                                                                                                                                                                                                                                                                                                                                                                                                                                                                                                                                                                                                                   Amazon Basics Woodcased #2 Pencils, Unsharpened, HB Lead - Box of 144, Bulk Box us  144 woodcase #2 HB pencils made from high-quality wood for clean, easy sharpening\\nStrong medium-soft lead produces long-lasting, smooth, readable strokes\\nRounded hexagonal shape with satin-smooth finish for a secure, comfortable grip\\nSoft, smudge-free, latex-free eraser secured to the end for conveniently wiping away mistakes  \n",
       "1                                                                                                                                                                                                                                                                                                                                                                                                                                                                                                                                                                                                                                                                                                                                                                                                                                                                                                                                                                                                                                                                                                             BAZIC Pencil #2 HB Pencils, Latex Free Eraser, Wood Free Yellow Unsharpened Pencils for Exam School Office (12/Pack), 1-Pack us <p><strong>BACK TO BAZIC</strong></p><p>Our goal is to provide each customer with long-lasting supplies at an affordable cost. Since 1998, we’ve delivered on this promise and will only continue to improve every year. We’ve built our brand on integrity and quality, so customers know exactly what to expect.</p> <p><strong>COMMITTED TO VALUES</strong></p><p>We are a value-driven company, guided by the principles of excellence through strong product design at low cost. Our commitment to these values is reflected in our dedication to improving current products and developing new exciting products for our consumers.</p> <p><strong>FOCUSED ON OUR MISSION</strong></p><p>Our currency is ideas. We thrive on imagination, passion and leadership. We have great products and will to continue to rise with our customer expectations.</p> <p><strong>SUCCESS BASED ON SATISFACTION</strong></p><p>Each and every product we send out, we expect our 100% customer satisfaction. While our supplies are sourced from all across the world, our success stems from individual consumer fulfillment. We create products that people want to recommend to others.</p> &#11088; UN-SHARPENED #2 PREMIUM PENCILS. Each pack comes with 12 un-sharpened pencils. Unlike most others out there, these allow kids the simple joy of sharpening a brand new pencil for the very 1st time!\\n&#11088; CLASSIC BARREL. Made from premium-quality wood pencil is bonded with a break-resistant number two core for smooth writing as easily erased. Hexagonal shape prevents rolling and comfortable to hold.\\n&#11088; QUALITY. Pencils are #2 HB for general writing, drawing and sketching. Pencils glide smoothly over paper and is highly break resistant. Pencils include a smudge-resistant eraser top for convenience.\\n&#11088; LATEX-FREE ERASER. The smudge-less eraser is latex-free, which provides enough toughness for heavy erasures. These smudge-free erasers wipe the page clean, making corrections easy and fast.\\n&#11088; WIDE APPLICATION. Suitable for all general writing applications such as notes, letters, and you can use it for office, classroom, home and other occasions.  \n",
       "2                              Emraw Pre Sharpened Round Primary Size No 2 Jumbo Pencils for Preschoolers, Elementary Kids - Pack of 8 Premium Fat Pencils us <p><b>Emraw Pre-Sharpened #2 HB Wood Pencils - Pack of 8 Pre-Schoolers Pencils</b></p><p>Looking for pencils for kid, office or every day general purpose repetitive use? Tired of pencils that do not sharpen well? Disappointed having broken leads repeatedly? Or, looking for pencils that require less sharpening and lasts longer?</p><p>Search no further, Emraw num 2 jumbo pencils pack have you covered. You just found the best deal. You will love them. Just the right size for pre-kindergarten toddlers. Perfect for elderly hands having difficulty grasping smaller items. Each pencil is pre-sharpened so you can literally pick straight from the box and start using. HB (no2) hardness grading with thicker leads make them perfect for most types of writing or sketching.</p><p>Made of high quality non-toxic cedar wood so they sharpen nicely with any quality dual-holed hand sharpener or adjustable electric sharpener, (not compatible with standard pencil sharpener). Rounded circular shape offers an effortless, fatigue-free writing experience.</p><p>Big ultra-smooth graphite core does not break easily, helps kids to grip securely, write smoothly and build language and motor skills. Applying normal pressure kids can wipe away mistaken strokes without a lot of effort. The soft, non-smudge rubbers are effective to erase completely and will not leave any pink residue behind after erasing unwanted marks. The eraser on top is held strongly with a ferrule and will not loosen easily, that keeps an eraser always in hand throughout its lifespan.</p><p>Use or gift these pencils to use in the classroom, work, or home for anything from keeping lists, making notes, sketch first drafts, brainstorm campaign ideas, filling in answers on an exam, coloring books as a highlighter, quick sketches of diy carpentry projects, solving sudoku or crossword puzzles.</p><p><b>Best N.2 Woodcase Pencils Supplies for You, Your Children, Students, Family, or Workmates, Order Now!!!</b></p> ✓ PACK OF 8 NUMBER 2 PRESHARPENED BEGINNERS PENCILS: Emraw round sharpened pencils set contains 2 packs of 4 general no.2 hb pencils with latex-free rubber erasers top, total 8 primary size yellow preschool pencils, good for little hands\\n✓ SUPERIOR NATURAL GRIP AND FEEL: Rounded triangular wooden casing blends ergonomic design for kids small hands in mind that allows your beginner writer a firm grip to comfortably hold and practice to write, scribble or tracing for hours\\n✓ CLASSIC YELLOW BARREL WOOD-CASED PENCILS: Premium pencils made from high-quality wood for easy clean sharpening, 3.25 mm thick break-resistant graphite lead requires less sharpening, produces dark long-lasting, readable, consistent strokes\\n✓ EASILY ERASABLE - MAKES DO-OVERS A BREEZE: Unwanted marks are easy to erase, offers clean corrections without tearing the paper. Soft, non-smudge rubbers are effective to erase marks completely and will not leave any residue behind\\n✓ VERSATILE WIDE APPLICATION: Suitable for kids, boys girls, teens, adults. Perfect for students in kindergarten school exam or college, teacher in classroom and general use: workshops, corporate office, meeting, sketching, writing, drawing  \n",
       "3  Emraw Pre Sharpened Triangular Primary Size No 2 Jumbo Pencils for Preschoolers, Elementary Kids - Pack of 6 Fat Pencils with Bonus Sharpener us <p><b>Emraw Pre-Sharpened #2 HB Wood Pencils - Pack of 6 Pre-Schoolers Pencils</b></p><p>Looking for pencils for kid, office or every day general purpose repetitive use? Tired of pencils that do not sharpen well? Disappointed having broken leads repeatedly? Or, looking for pencils that require less sharpening and lasts longer?</p><p>Search no further, Emraw num 2 jumbo pencils pack have you covered. You just found the best deal. You will just love them. Just the right size for pre-kindergarten toddlers. Perfect for elderly hands having difficulty grasping smaller items. Each pencil is pre-sharpened so you can literally pick straight from the box and start using. HB (no2) hardness grading with thicker leads make them perfect for most types of writing or sketching.</p><p>Made of high quality non-toxic cedar wood so they sharpen nicely with any quality dual-holed hand sharpener or adjustable electric sharpener (1 Sharpener Included). Rounded triangular shape offers an effortless, fatigue-free writing experience and won't roll off inclined desks or tables.</p><p>Big ultra-smooth graphite core does not break easily, helps kids to grip securely, write smoothly and build language and motor skills. Applying normal pressure kids can wipe away mistaken strokes without a lot of effort. The soft, non-smudge rubbers are effective to erase completely and will not leave any pink residue behind after erasing unwanted marks. The eraser on top is held strongly with a ferrule and will not loosen easily, that keeps an eraser always in hand throughout its lifespan.</p><p>Use the or gift these pencils to use in the classroom, work, or home for anything from keeping lists, making notes, sketch first drafts, brainstorm campaign ideas, filling in answers on an exam, coloring books as a highlighter, quick sketches of diy carpentry projects, solving sudoku or crossword puzzles.</p><p><b>Best N.2 Woodcase Pencils Supplies for You, Your Students, Family, or Workmates, Order Now!!!</b></p> ✓ PACK OF 6 NUMBER 2 PRESHARPENED BEGINNERS PENCILS: Emraw triangle sharpened pencils set contains 2 packs of 3 general no.2 hb pencils with latex-free rubber erasers top, total 6 primary size yellow preschool pencils, good for little hands\\n✓ SUPERIOR NATURAL GRIP AND FEEL: Rounded triangular wooden casing blends ergonomic design for kids small hands in mind that allows your beginner writer a firm grip and comfortably hold and practice to write, scribble or tracing for hours\\n✓ CLASSIC YELLOW BARREL WOOD-CASED PENCILS: Made from high-quality wood for easy clean sharpening, 3.25 mm thick break-resistant graphite lead requires less sharpening and produces dark long-lasting, readable, consistent strokes\\n✓ EASILY ERASABLE - MAKES DO-OVERS A BREEZE: Unwanted marks are easy to erase, offers clean corrections without tearing the paper. Soft, non-smudge rubbers are effective to erase marks completely and will not leave any residue behind\\n✓ VERSATILE WIDE APPLICATION: Suitable for kids, boys girls, teens, adults. Perfect for students in kindergarten school or college exam, teacher in classroom and general use: workshops, corporate office, meeting, sketching, writing, drawing  "
      ]
     },
     "execution_count": 11,
     "metadata": {},
     "output_type": "execute_result"
    }
   ],
   "source": [
    "prod_cat.head(4)"
   ]
  },
  {
   "cell_type": "code",
   "execution_count": 12,
   "id": "a2366a23",
   "metadata": {
    "execution": {
     "iopub.execute_input": "2022-06-23T02:21:05.728701Z",
     "iopub.status.busy": "2022-06-23T02:21:05.728339Z",
     "iopub.status.idle": "2022-06-23T02:22:02.239572Z",
     "shell.execute_reply": "2022-06-23T02:22:02.238296Z"
    },
    "papermill": {
     "duration": 56.526667,
     "end_time": "2022-06-23T02:22:02.242381",
     "exception": false,
     "start_time": "2022-06-23T02:21:05.715714",
     "status": "completed"
    },
    "tags": []
   },
   "outputs": [],
   "source": [
    "escapes = ''.join([chr(char) for char in range(1, 32)])\n",
    "translator = str.maketrans('', '', escapes)\n",
    "prod_cat['product_input'] = prod_cat['product_input'].apply(lambda inp: inp.translate(translator))"
   ]
  },
  {
   "cell_type": "code",
   "execution_count": 13,
   "id": "eafaf220",
   "metadata": {
    "execution": {
     "iopub.execute_input": "2022-06-23T02:22:02.268667Z",
     "iopub.status.busy": "2022-06-23T02:22:02.268367Z",
     "iopub.status.idle": "2022-06-23T02:22:02.287881Z",
     "shell.execute_reply": "2022-06-23T02:22:02.286813Z"
    },
    "papermill": {
     "duration": 0.035112,
     "end_time": "2022-06-23T02:22:02.290931",
     "exception": false,
     "start_time": "2022-06-23T02:22:02.255819",
     "status": "completed"
    },
    "tags": []
   },
   "outputs": [
    {
     "data": {
      "text/html": [
       "<div>\n",
       "<style scoped>\n",
       "    .dataframe tbody tr th:only-of-type {\n",
       "        vertical-align: middle;\n",
       "    }\n",
       "\n",
       "    .dataframe tbody tr th {\n",
       "        vertical-align: top;\n",
       "    }\n",
       "\n",
       "    .dataframe thead th {\n",
       "        text-align: right;\n",
       "    }\n",
       "</style>\n",
       "<table border=\"1\" class=\"dataframe\">\n",
       "  <thead>\n",
       "    <tr style=\"text-align: right;\">\n",
       "      <th></th>\n",
       "      <th>product_id</th>\n",
       "      <th>product_title</th>\n",
       "      <th>product_description</th>\n",
       "      <th>product_bullet_point</th>\n",
       "      <th>product_brand</th>\n",
       "      <th>product_color_name</th>\n",
       "      <th>product_locale</th>\n",
       "      <th>product_input</th>\n",
       "    </tr>\n",
       "  </thead>\n",
       "  <tbody>\n",
       "    <tr>\n",
       "      <th>0</th>\n",
       "      <td>B0188A3QRM</td>\n",
       "      <td>Amazon Basics Woodcased #2 Pencils, Unsharpened, HB Lead - Box of 144, Bulk Box</td>\n",
       "      <td></td>\n",
       "      <td>144 woodcase #2 HB pencils made from high-quality wood for clean, easy sharpening\\nStrong medium-soft lead produces long-lasting, smooth, readable strokes\\nRounded hexagonal shape with satin-smooth finish for a secure, comfortable grip\\nSoft, smudge-free, latex-free eraser secured to the end for conveniently wiping away mistakes</td>\n",
       "      <td>Amazon Basics</td>\n",
       "      <td>Yellow</td>\n",
       "      <td>us</td>\n",
       "      <td>Amazon Basics Woodcased #2 Pencils, Unsharpened, HB Lead - Box of 144, Bulk Box us  144 woodcase #2 HB pencils made from high-quality wood for clean, easy sharpeningStrong medium-soft lead produces long-lasting, smooth, readable strokesRounded hexagonal shape with satin-smooth finish for a secure, comfortable gripSoft, smudge-free, latex-free eraser secured to the end for conveniently wiping away mistakes</td>\n",
       "    </tr>\n",
       "    <tr>\n",
       "      <th>1</th>\n",
       "      <td>B075VXJ9VG</td>\n",
       "      <td>BAZIC Pencil #2 HB Pencils, Latex Free Eraser, Wood Free Yellow Unsharpened Pencils for Exam School Office (12/Pack), 1-Pack</td>\n",
       "      <td>&lt;p&gt;&lt;strong&gt;BACK TO BAZIC&lt;/strong&gt;&lt;/p&gt;&lt;p&gt;Our goal is to provide each customer with long-lasting supplies at an affordable cost. Since 1998, we’ve delivered on this promise and will only continue to improve every year. We’ve built our brand on integrity and quality, so customers know exactly what to expect.&lt;/p&gt; &lt;p&gt;&lt;strong&gt;COMMITTED TO VALUES&lt;/strong&gt;&lt;/p&gt;&lt;p&gt;We are a value-driven company, guided by the principles of excellence through strong product design at low cost. Our commitment to these values is reflected in our dedication to improving current products and developing new exciting products for our consumers.&lt;/p&gt; &lt;p&gt;&lt;strong&gt;FOCUSED ON OUR MISSION&lt;/strong&gt;&lt;/p&gt;&lt;p&gt;Our currency is ideas. We thrive on imagination, passion and leadership. We have great products and will to continue to rise with our customer expectations.&lt;/p&gt; &lt;p&gt;&lt;strong&gt;SUCCESS BASED ON SATISFACTION&lt;/strong&gt;&lt;/p&gt;&lt;p&gt;Each and every product we send out, we expect our 100% customer satisfaction. While our supplies are sourced from all across the world, our success stems from individual consumer fulfillment. We create products that people want to recommend to others.&lt;/p&gt;</td>\n",
       "      <td>&amp;#11088; UN-SHARPENED #2 PREMIUM PENCILS. Each pack comes with 12 un-sharpened pencils. Unlike most others out there, these allow kids the simple joy of sharpening a brand new pencil for the very 1st time!\\n&amp;#11088; CLASSIC BARREL. Made from premium-quality wood pencil is bonded with a break-resistant number two core for smooth writing as easily erased. Hexagonal shape prevents rolling and comfortable to hold.\\n&amp;#11088; QUALITY. Pencils are #2 HB for general writing, drawing and sketching. Pencils glide smoothly over paper and is highly break resistant. Pencils include a smudge-resistant eraser top for convenience.\\n&amp;#11088; LATEX-FREE ERASER. The smudge-less eraser is latex-free, which provides enough toughness for heavy erasures. These smudge-free erasers wipe the page clean, making corrections easy and fast.\\n&amp;#11088; WIDE APPLICATION. Suitable for all general writing applications such as notes, letters, and you can use it for office, classroom, home and other occasions.</td>\n",
       "      <td>BAZIC Products</td>\n",
       "      <td>12-count</td>\n",
       "      <td>us</td>\n",
       "      <td>BAZIC Pencil #2 HB Pencils, Latex Free Eraser, Wood Free Yellow Unsharpened Pencils for Exam School Office (12/Pack), 1-Pack us &lt;p&gt;&lt;strong&gt;BACK TO BAZIC&lt;/strong&gt;&lt;/p&gt;&lt;p&gt;Our goal is to provide each customer with long-lasting supplies at an affordable cost. Since 1998, we’ve delivered on this promise and will only continue to improve every year. We’ve built our brand on integrity and quality, so customers know exactly what to expect.&lt;/p&gt; &lt;p&gt;&lt;strong&gt;COMMITTED TO VALUES&lt;/strong&gt;&lt;/p&gt;&lt;p&gt;We are a value-driven company, guided by the principles of excellence through strong product design at low cost. Our commitment to these values is reflected in our dedication to improving current products and developing new exciting products for our consumers.&lt;/p&gt; &lt;p&gt;&lt;strong&gt;FOCUSED ON OUR MISSION&lt;/strong&gt;&lt;/p&gt;&lt;p&gt;Our currency is ideas. We thrive on imagination, passion and leadership. We have great products and will to continue to rise with our customer expectations.&lt;/p&gt; &lt;p&gt;&lt;strong&gt;SUCCESS BASED ON SATISFACTION&lt;/strong&gt;&lt;/p&gt;&lt;p&gt;Each and every product we send out, we expect our 100% customer satisfaction. While our supplies are sourced from all across the world, our success stems from individual consumer fulfillment. We create products that people want to recommend to others.&lt;/p&gt; &amp;#11088; UN-SHARPENED #2 PREMIUM PENCILS. Each pack comes with 12 un-sharpened pencils. Unlike most others out there, these allow kids the simple joy of sharpening a brand new pencil for the very 1st time!&amp;#11088; CLASSIC BARREL. Made from premium-quality wood pencil is bonded with a break-resistant number two core for smooth writing as easily erased. Hexagonal shape prevents rolling and comfortable to hold.&amp;#11088; QUALITY. Pencils are #2 HB for general writing, drawing and sketching. Pencils glide smoothly over paper and is highly break resistant. Pencils include a smudge-resistant eraser top for convenience.&amp;#11088; LATEX-FREE ERASER. The smudge-less eraser is latex-free, which provides enough toughness for heavy erasures. These smudge-free erasers wipe the page clean, making corrections easy and fast.&amp;#11088; WIDE APPLICATION. Suitable for all general writing applications such as notes, letters, and you can use it for office, classroom, home and other occasions.</td>\n",
       "    </tr>\n",
       "    <tr>\n",
       "      <th>2</th>\n",
       "      <td>B07G7F6JZ6</td>\n",
       "      <td>Emraw Pre Sharpened Round Primary Size No 2 Jumbo Pencils for Preschoolers, Elementary Kids - Pack of 8 Premium Fat Pencils</td>\n",
       "      <td>&lt;p&gt;&lt;b&gt;Emraw Pre-Sharpened #2 HB Wood Pencils - Pack of 8 Pre-Schoolers Pencils&lt;/b&gt;&lt;/p&gt;&lt;p&gt;Looking for pencils for kid, office or every day general purpose repetitive use? Tired of pencils that do not sharpen well? Disappointed having broken leads repeatedly? Or, looking for pencils that require less sharpening and lasts longer?&lt;/p&gt;&lt;p&gt;Search no further, Emraw num 2 jumbo pencils pack have you covered. You just found the best deal. You will love them. Just the right size for pre-kindergarten toddlers. Perfect for elderly hands having difficulty grasping smaller items. Each pencil is pre-sharpened so you can literally pick straight from the box and start using. HB (no2) hardness grading with thicker leads make them perfect for most types of writing or sketching.&lt;/p&gt;&lt;p&gt;Made of high quality non-toxic cedar wood so they sharpen nicely with any quality dual-holed hand sharpener or adjustable electric sharpener, (not compatible with standard pencil sharpener). Rounded circular shape offers an effortless, fatigue-free writing experience.&lt;/p&gt;&lt;p&gt;Big ultra-smooth graphite core does not break easily, helps kids to grip securely, write smoothly and build language and motor skills. Applying normal pressure kids can wipe away mistaken strokes without a lot of effort. The soft, non-smudge rubbers are effective to erase completely and will not leave any pink residue behind after erasing unwanted marks. The eraser on top is held strongly with a ferrule and will not loosen easily, that keeps an eraser always in hand throughout its lifespan.&lt;/p&gt;&lt;p&gt;Use or gift these pencils to use in the classroom, work, or home for anything from keeping lists, making notes, sketch first drafts, brainstorm campaign ideas, filling in answers on an exam, coloring books as a highlighter, quick sketches of diy carpentry projects, solving sudoku or crossword puzzles.&lt;/p&gt;&lt;p&gt;&lt;b&gt;Best N.2 Woodcase Pencils Supplies for You, Your Children, Students, Family, or Workmates, Order Now!!!&lt;/b&gt;&lt;/p&gt;</td>\n",
       "      <td>✓ PACK OF 8 NUMBER 2 PRESHARPENED BEGINNERS PENCILS: Emraw round sharpened pencils set contains 2 packs of 4 general no.2 hb pencils with latex-free rubber erasers top, total 8 primary size yellow preschool pencils, good for little hands\\n✓ SUPERIOR NATURAL GRIP AND FEEL: Rounded triangular wooden casing blends ergonomic design for kids small hands in mind that allows your beginner writer a firm grip to comfortably hold and practice to write, scribble or tracing for hours\\n✓ CLASSIC YELLOW BARREL WOOD-CASED PENCILS: Premium pencils made from high-quality wood for easy clean sharpening, 3.25 mm thick break-resistant graphite lead requires less sharpening, produces dark long-lasting, readable, consistent strokes\\n✓ EASILY ERASABLE - MAKES DO-OVERS A BREEZE: Unwanted marks are easy to erase, offers clean corrections without tearing the paper. Soft, non-smudge rubbers are effective to erase marks completely and will not leave any residue behind\\n✓ VERSATILE WIDE APPLICATION: Suitable for kids, boys girls, teens, adults. Perfect for students in kindergarten school exam or college, teacher in classroom and general use: workshops, corporate office, meeting, sketching, writing, drawing</td>\n",
       "      <td>Emraw</td>\n",
       "      <td>Yellow</td>\n",
       "      <td>us</td>\n",
       "      <td>Emraw Pre Sharpened Round Primary Size No 2 Jumbo Pencils for Preschoolers, Elementary Kids - Pack of 8 Premium Fat Pencils us &lt;p&gt;&lt;b&gt;Emraw Pre-Sharpened #2 HB Wood Pencils - Pack of 8 Pre-Schoolers Pencils&lt;/b&gt;&lt;/p&gt;&lt;p&gt;Looking for pencils for kid, office or every day general purpose repetitive use? Tired of pencils that do not sharpen well? Disappointed having broken leads repeatedly? Or, looking for pencils that require less sharpening and lasts longer?&lt;/p&gt;&lt;p&gt;Search no further, Emraw num 2 jumbo pencils pack have you covered. You just found the best deal. You will love them. Just the right size for pre-kindergarten toddlers. Perfect for elderly hands having difficulty grasping smaller items. Each pencil is pre-sharpened so you can literally pick straight from the box and start using. HB (no2) hardness grading with thicker leads make them perfect for most types of writing or sketching.&lt;/p&gt;&lt;p&gt;Made of high quality non-toxic cedar wood so they sharpen nicely with any quality dual-holed hand sharpener or adjustable electric sharpener, (not compatible with standard pencil sharpener). Rounded circular shape offers an effortless, fatigue-free writing experience.&lt;/p&gt;&lt;p&gt;Big ultra-smooth graphite core does not break easily, helps kids to grip securely, write smoothly and build language and motor skills. Applying normal pressure kids can wipe away mistaken strokes without a lot of effort. The soft, non-smudge rubbers are effective to erase completely and will not leave any pink residue behind after erasing unwanted marks. The eraser on top is held strongly with a ferrule and will not loosen easily, that keeps an eraser always in hand throughout its lifespan.&lt;/p&gt;&lt;p&gt;Use or gift these pencils to use in the classroom, work, or home for anything from keeping lists, making notes, sketch first drafts, brainstorm campaign ideas, filling in answers on an exam, coloring books as a highlighter, quick sketches of diy carpentry projects, solving sudoku or crossword puzzles.&lt;/p&gt;&lt;p&gt;&lt;b&gt;Best N.2 Woodcase Pencils Supplies for You, Your Children, Students, Family, or Workmates, Order Now!!!&lt;/b&gt;&lt;/p&gt; ✓ PACK OF 8 NUMBER 2 PRESHARPENED BEGINNERS PENCILS: Emraw round sharpened pencils set contains 2 packs of 4 general no.2 hb pencils with latex-free rubber erasers top, total 8 primary size yellow preschool pencils, good for little hands✓ SUPERIOR NATURAL GRIP AND FEEL: Rounded triangular wooden casing blends ergonomic design for kids small hands in mind that allows your beginner writer a firm grip to comfortably hold and practice to write, scribble or tracing for hours✓ CLASSIC YELLOW BARREL WOOD-CASED PENCILS: Premium pencils made from high-quality wood for easy clean sharpening, 3.25 mm thick break-resistant graphite lead requires less sharpening, produces dark long-lasting, readable, consistent strokes✓ EASILY ERASABLE - MAKES DO-OVERS A BREEZE: Unwanted marks are easy to erase, offers clean corrections without tearing the paper. Soft, non-smudge rubbers are effective to erase marks completely and will not leave any residue behind✓ VERSATILE WIDE APPLICATION: Suitable for kids, boys girls, teens, adults. Perfect for students in kindergarten school exam or college, teacher in classroom and general use: workshops, corporate office, meeting, sketching, writing, drawing</td>\n",
       "    </tr>\n",
       "    <tr>\n",
       "      <th>3</th>\n",
       "      <td>B07JZJLHCF</td>\n",
       "      <td>Emraw Pre Sharpened Triangular Primary Size No 2 Jumbo Pencils for Preschoolers, Elementary Kids - Pack of 6 Fat Pencils with Bonus Sharpener</td>\n",
       "      <td>&lt;p&gt;&lt;b&gt;Emraw Pre-Sharpened #2 HB Wood Pencils - Pack of 6 Pre-Schoolers Pencils&lt;/b&gt;&lt;/p&gt;&lt;p&gt;Looking for pencils for kid, office or every day general purpose repetitive use? Tired of pencils that do not sharpen well? Disappointed having broken leads repeatedly? Or, looking for pencils that require less sharpening and lasts longer?&lt;/p&gt;&lt;p&gt;Search no further, Emraw num 2 jumbo pencils pack have you covered. You just found the best deal. You will just love them. Just the right size for pre-kindergarten toddlers. Perfect for elderly hands having difficulty grasping smaller items. Each pencil is pre-sharpened so you can literally pick straight from the box and start using. HB (no2) hardness grading with thicker leads make them perfect for most types of writing or sketching.&lt;/p&gt;&lt;p&gt;Made of high quality non-toxic cedar wood so they sharpen nicely with any quality dual-holed hand sharpener or adjustable electric sharpener (1 Sharpener Included). Rounded triangular shape offers an effortless, fatigue-free writing experience and won't roll off inclined desks or tables.&lt;/p&gt;&lt;p&gt;Big ultra-smooth graphite core does not break easily, helps kids to grip securely, write smoothly and build language and motor skills. Applying normal pressure kids can wipe away mistaken strokes without a lot of effort. The soft, non-smudge rubbers are effective to erase completely and will not leave any pink residue behind after erasing unwanted marks. The eraser on top is held strongly with a ferrule and will not loosen easily, that keeps an eraser always in hand throughout its lifespan.&lt;/p&gt;&lt;p&gt;Use the or gift these pencils to use in the classroom, work, or home for anything from keeping lists, making notes, sketch first drafts, brainstorm campaign ideas, filling in answers on an exam, coloring books as a highlighter, quick sketches of diy carpentry projects, solving sudoku or crossword puzzles.&lt;/p&gt;&lt;p&gt;&lt;b&gt;Best N.2 Woodcase Pencils Supplies for You, Your Students, Family, or Workmates, Order Now!!!&lt;/b&gt;&lt;/p&gt;</td>\n",
       "      <td>✓ PACK OF 6 NUMBER 2 PRESHARPENED BEGINNERS PENCILS: Emraw triangle sharpened pencils set contains 2 packs of 3 general no.2 hb pencils with latex-free rubber erasers top, total 6 primary size yellow preschool pencils, good for little hands\\n✓ SUPERIOR NATURAL GRIP AND FEEL: Rounded triangular wooden casing blends ergonomic design for kids small hands in mind that allows your beginner writer a firm grip and comfortably hold and practice to write, scribble or tracing for hours\\n✓ CLASSIC YELLOW BARREL WOOD-CASED PENCILS: Made from high-quality wood for easy clean sharpening, 3.25 mm thick break-resistant graphite lead requires less sharpening and produces dark long-lasting, readable, consistent strokes\\n✓ EASILY ERASABLE - MAKES DO-OVERS A BREEZE: Unwanted marks are easy to erase, offers clean corrections without tearing the paper. Soft, non-smudge rubbers are effective to erase marks completely and will not leave any residue behind\\n✓ VERSATILE WIDE APPLICATION: Suitable for kids, boys girls, teens, adults. Perfect for students in kindergarten school or college exam, teacher in classroom and general use: workshops, corporate office, meeting, sketching, writing, drawing</td>\n",
       "      <td>Emraw</td>\n",
       "      <td>Yellow</td>\n",
       "      <td>us</td>\n",
       "      <td>Emraw Pre Sharpened Triangular Primary Size No 2 Jumbo Pencils for Preschoolers, Elementary Kids - Pack of 6 Fat Pencils with Bonus Sharpener us &lt;p&gt;&lt;b&gt;Emraw Pre-Sharpened #2 HB Wood Pencils - Pack of 6 Pre-Schoolers Pencils&lt;/b&gt;&lt;/p&gt;&lt;p&gt;Looking for pencils for kid, office or every day general purpose repetitive use? Tired of pencils that do not sharpen well? Disappointed having broken leads repeatedly? Or, looking for pencils that require less sharpening and lasts longer?&lt;/p&gt;&lt;p&gt;Search no further, Emraw num 2 jumbo pencils pack have you covered. You just found the best deal. You will just love them. Just the right size for pre-kindergarten toddlers. Perfect for elderly hands having difficulty grasping smaller items. Each pencil is pre-sharpened so you can literally pick straight from the box and start using. HB (no2) hardness grading with thicker leads make them perfect for most types of writing or sketching.&lt;/p&gt;&lt;p&gt;Made of high quality non-toxic cedar wood so they sharpen nicely with any quality dual-holed hand sharpener or adjustable electric sharpener (1 Sharpener Included). Rounded triangular shape offers an effortless, fatigue-free writing experience and won't roll off inclined desks or tables.&lt;/p&gt;&lt;p&gt;Big ultra-smooth graphite core does not break easily, helps kids to grip securely, write smoothly and build language and motor skills. Applying normal pressure kids can wipe away mistaken strokes without a lot of effort. The soft, non-smudge rubbers are effective to erase completely and will not leave any pink residue behind after erasing unwanted marks. The eraser on top is held strongly with a ferrule and will not loosen easily, that keeps an eraser always in hand throughout its lifespan.&lt;/p&gt;&lt;p&gt;Use the or gift these pencils to use in the classroom, work, or home for anything from keeping lists, making notes, sketch first drafts, brainstorm campaign ideas, filling in answers on an exam, coloring books as a highlighter, quick sketches of diy carpentry projects, solving sudoku or crossword puzzles.&lt;/p&gt;&lt;p&gt;&lt;b&gt;Best N.2 Woodcase Pencils Supplies for You, Your Students, Family, or Workmates, Order Now!!!&lt;/b&gt;&lt;/p&gt; ✓ PACK OF 6 NUMBER 2 PRESHARPENED BEGINNERS PENCILS: Emraw triangle sharpened pencils set contains 2 packs of 3 general no.2 hb pencils with latex-free rubber erasers top, total 6 primary size yellow preschool pencils, good for little hands✓ SUPERIOR NATURAL GRIP AND FEEL: Rounded triangular wooden casing blends ergonomic design for kids small hands in mind that allows your beginner writer a firm grip and comfortably hold and practice to write, scribble or tracing for hours✓ CLASSIC YELLOW BARREL WOOD-CASED PENCILS: Made from high-quality wood for easy clean sharpening, 3.25 mm thick break-resistant graphite lead requires less sharpening and produces dark long-lasting, readable, consistent strokes✓ EASILY ERASABLE - MAKES DO-OVERS A BREEZE: Unwanted marks are easy to erase, offers clean corrections without tearing the paper. Soft, non-smudge rubbers are effective to erase marks completely and will not leave any residue behind✓ VERSATILE WIDE APPLICATION: Suitable for kids, boys girls, teens, adults. Perfect for students in kindergarten school or college exam, teacher in classroom and general use: workshops, corporate office, meeting, sketching, writing, drawing</td>\n",
       "    </tr>\n",
       "    <tr>\n",
       "      <th>4</th>\n",
       "      <td>B07MGKC3DD</td>\n",
       "      <td>BIC Evolution Cased Pencil, #2 Lead, Gray Barrel, 24-Count (PGEBP241-BLK)</td>\n",
       "      <td></td>\n",
       "      <td>Premium #2 HB lead pencils with break-resistant lead and splinter-free barrels\\nDurable, long-lasting leads and erasers\\nLatex-free erasers easily erase stray marks\\nTrendy and modern gray barrels\\nPack of 24 certified non-toxic pencils ideal for home or classroom</td>\n",
       "      <td>Design House</td>\n",
       "      <td>Gray</td>\n",
       "      <td>us</td>\n",
       "      <td>BIC Evolution Cased Pencil, #2 Lead, Gray Barrel, 24-Count (PGEBP241-BLK) us  Premium #2 HB lead pencils with break-resistant lead and splinter-free barrelsDurable, long-lasting leads and erasersLatex-free erasers easily erase stray marksTrendy and modern gray barrelsPack of 24 certified non-toxic pencils ideal for home or classroom</td>\n",
       "    </tr>\n",
       "  </tbody>\n",
       "</table>\n",
       "</div>"
      ],
      "text/plain": [
       "   product_id  \\\n",
       "0  B0188A3QRM   \n",
       "1  B075VXJ9VG   \n",
       "2  B07G7F6JZ6   \n",
       "3  B07JZJLHCF   \n",
       "4  B07MGKC3DD   \n",
       "\n",
       "                                                                                                                                   product_title  \\\n",
       "0                                                                Amazon Basics Woodcased #2 Pencils, Unsharpened, HB Lead - Box of 144, Bulk Box   \n",
       "1                   BAZIC Pencil #2 HB Pencils, Latex Free Eraser, Wood Free Yellow Unsharpened Pencils for Exam School Office (12/Pack), 1-Pack   \n",
       "2                    Emraw Pre Sharpened Round Primary Size No 2 Jumbo Pencils for Preschoolers, Elementary Kids - Pack of 8 Premium Fat Pencils   \n",
       "3  Emraw Pre Sharpened Triangular Primary Size No 2 Jumbo Pencils for Preschoolers, Elementary Kids - Pack of 6 Fat Pencils with Bonus Sharpener   \n",
       "4                                                                      BIC Evolution Cased Pencil, #2 Lead, Gray Barrel, 24-Count (PGEBP241-BLK)   \n",
       "\n",
       "                                                                                                                                                                                                                                                                                                                                                                                                                                                                                                                                                                                                                                                                                                                                                                                                                                                                                                                                                                                                                                                                                                                                                                                                                                                                                                                                                                                                                                                                                                                                                                                                                                                                                                                                                                                                                                                                                                                                                                                                                                                          product_description  \\\n",
       "0                                                                                                                                                                                                                                                                                                                                                                                                                                                                                                                                                                                                                                                                                                                                                                                                                                                                                                                                                                                                                                                                                                                                                                                                                                                                                                                                                                                                                                                                                                                                                                                                                                                                                                                                                                                                                                                                                                                                                                                                                                                                               \n",
       "1                                                                                                                                                                                                                                                                                                                                                                                                                                                                                                                                                                                                                                                                                                                                                                                                                                                                                     <p><strong>BACK TO BAZIC</strong></p><p>Our goal is to provide each customer with long-lasting supplies at an affordable cost. Since 1998, we’ve delivered on this promise and will only continue to improve every year. We’ve built our brand on integrity and quality, so customers know exactly what to expect.</p> <p><strong>COMMITTED TO VALUES</strong></p><p>We are a value-driven company, guided by the principles of excellence through strong product design at low cost. Our commitment to these values is reflected in our dedication to improving current products and developing new exciting products for our consumers.</p> <p><strong>FOCUSED ON OUR MISSION</strong></p><p>Our currency is ideas. We thrive on imagination, passion and leadership. We have great products and will to continue to rise with our customer expectations.</p> <p><strong>SUCCESS BASED ON SATISFACTION</strong></p><p>Each and every product we send out, we expect our 100% customer satisfaction. While our supplies are sourced from all across the world, our success stems from individual consumer fulfillment. We create products that people want to recommend to others.</p>   \n",
       "2                     <p><b>Emraw Pre-Sharpened #2 HB Wood Pencils - Pack of 8 Pre-Schoolers Pencils</b></p><p>Looking for pencils for kid, office or every day general purpose repetitive use? Tired of pencils that do not sharpen well? Disappointed having broken leads repeatedly? Or, looking for pencils that require less sharpening and lasts longer?</p><p>Search no further, Emraw num 2 jumbo pencils pack have you covered. You just found the best deal. You will love them. Just the right size for pre-kindergarten toddlers. Perfect for elderly hands having difficulty grasping smaller items. Each pencil is pre-sharpened so you can literally pick straight from the box and start using. HB (no2) hardness grading with thicker leads make them perfect for most types of writing or sketching.</p><p>Made of high quality non-toxic cedar wood so they sharpen nicely with any quality dual-holed hand sharpener or adjustable electric sharpener, (not compatible with standard pencil sharpener). Rounded circular shape offers an effortless, fatigue-free writing experience.</p><p>Big ultra-smooth graphite core does not break easily, helps kids to grip securely, write smoothly and build language and motor skills. Applying normal pressure kids can wipe away mistaken strokes without a lot of effort. The soft, non-smudge rubbers are effective to erase completely and will not leave any pink residue behind after erasing unwanted marks. The eraser on top is held strongly with a ferrule and will not loosen easily, that keeps an eraser always in hand throughout its lifespan.</p><p>Use or gift these pencils to use in the classroom, work, or home for anything from keeping lists, making notes, sketch first drafts, brainstorm campaign ideas, filling in answers on an exam, coloring books as a highlighter, quick sketches of diy carpentry projects, solving sudoku or crossword puzzles.</p><p><b>Best N.2 Woodcase Pencils Supplies for You, Your Children, Students, Family, or Workmates, Order Now!!!</b></p>   \n",
       "3  <p><b>Emraw Pre-Sharpened #2 HB Wood Pencils - Pack of 6 Pre-Schoolers Pencils</b></p><p>Looking for pencils for kid, office or every day general purpose repetitive use? Tired of pencils that do not sharpen well? Disappointed having broken leads repeatedly? Or, looking for pencils that require less sharpening and lasts longer?</p><p>Search no further, Emraw num 2 jumbo pencils pack have you covered. You just found the best deal. You will just love them. Just the right size for pre-kindergarten toddlers. Perfect for elderly hands having difficulty grasping smaller items. Each pencil is pre-sharpened so you can literally pick straight from the box and start using. HB (no2) hardness grading with thicker leads make them perfect for most types of writing or sketching.</p><p>Made of high quality non-toxic cedar wood so they sharpen nicely with any quality dual-holed hand sharpener or adjustable electric sharpener (1 Sharpener Included). Rounded triangular shape offers an effortless, fatigue-free writing experience and won't roll off inclined desks or tables.</p><p>Big ultra-smooth graphite core does not break easily, helps kids to grip securely, write smoothly and build language and motor skills. Applying normal pressure kids can wipe away mistaken strokes without a lot of effort. The soft, non-smudge rubbers are effective to erase completely and will not leave any pink residue behind after erasing unwanted marks. The eraser on top is held strongly with a ferrule and will not loosen easily, that keeps an eraser always in hand throughout its lifespan.</p><p>Use the or gift these pencils to use in the classroom, work, or home for anything from keeping lists, making notes, sketch first drafts, brainstorm campaign ideas, filling in answers on an exam, coloring books as a highlighter, quick sketches of diy carpentry projects, solving sudoku or crossword puzzles.</p><p><b>Best N.2 Woodcase Pencils Supplies for You, Your Students, Family, or Workmates, Order Now!!!</b></p>   \n",
       "4                                                                                                                                                                                                                                                                                                                                                                                                                                                                                                                                                                                                                                                                                                                                                                                                                                                                                                                                                                                                                                                                                                                                                                                                                                                                                                                                                                                                                                                                                                                                                                                                                                                                                                                                                                                                                                                                                                                                                                                                                                                                               \n",
       "\n",
       "                                                                                                                                                                                                                                                                                                                                                                                                                                                                                                                                                                                                                                                                                                                                                                                                                                                                                                                                                                                                                                                                                                                                                                                                                           product_bullet_point  \\\n",
       "0                                                                                                                                                                                                                                                                                                                                                                                                                                                                                                                                                                                                                                                                                                                                                                                                                                                                                                    144 woodcase #2 HB pencils made from high-quality wood for clean, easy sharpening\\nStrong medium-soft lead produces long-lasting, smooth, readable strokes\\nRounded hexagonal shape with satin-smooth finish for a secure, comfortable grip\\nSoft, smudge-free, latex-free eraser secured to the end for conveniently wiping away mistakes   \n",
       "1                                                                                                                                                                                                                  &#11088; UN-SHARPENED #2 PREMIUM PENCILS. Each pack comes with 12 un-sharpened pencils. Unlike most others out there, these allow kids the simple joy of sharpening a brand new pencil for the very 1st time!\\n&#11088; CLASSIC BARREL. Made from premium-quality wood pencil is bonded with a break-resistant number two core for smooth writing as easily erased. Hexagonal shape prevents rolling and comfortable to hold.\\n&#11088; QUALITY. Pencils are #2 HB for general writing, drawing and sketching. Pencils glide smoothly over paper and is highly break resistant. Pencils include a smudge-resistant eraser top for convenience.\\n&#11088; LATEX-FREE ERASER. The smudge-less eraser is latex-free, which provides enough toughness for heavy erasures. These smudge-free erasers wipe the page clean, making corrections easy and fast.\\n&#11088; WIDE APPLICATION. Suitable for all general writing applications such as notes, letters, and you can use it for office, classroom, home and other occasions.   \n",
       "2  ✓ PACK OF 8 NUMBER 2 PRESHARPENED BEGINNERS PENCILS: Emraw round sharpened pencils set contains 2 packs of 4 general no.2 hb pencils with latex-free rubber erasers top, total 8 primary size yellow preschool pencils, good for little hands\\n✓ SUPERIOR NATURAL GRIP AND FEEL: Rounded triangular wooden casing blends ergonomic design for kids small hands in mind that allows your beginner writer a firm grip to comfortably hold and practice to write, scribble or tracing for hours\\n✓ CLASSIC YELLOW BARREL WOOD-CASED PENCILS: Premium pencils made from high-quality wood for easy clean sharpening, 3.25 mm thick break-resistant graphite lead requires less sharpening, produces dark long-lasting, readable, consistent strokes\\n✓ EASILY ERASABLE - MAKES DO-OVERS A BREEZE: Unwanted marks are easy to erase, offers clean corrections without tearing the paper. Soft, non-smudge rubbers are effective to erase marks completely and will not leave any residue behind\\n✓ VERSATILE WIDE APPLICATION: Suitable for kids, boys girls, teens, adults. Perfect for students in kindergarten school exam or college, teacher in classroom and general use: workshops, corporate office, meeting, sketching, writing, drawing   \n",
       "3           ✓ PACK OF 6 NUMBER 2 PRESHARPENED BEGINNERS PENCILS: Emraw triangle sharpened pencils set contains 2 packs of 3 general no.2 hb pencils with latex-free rubber erasers top, total 6 primary size yellow preschool pencils, good for little hands\\n✓ SUPERIOR NATURAL GRIP AND FEEL: Rounded triangular wooden casing blends ergonomic design for kids small hands in mind that allows your beginner writer a firm grip and comfortably hold and practice to write, scribble or tracing for hours\\n✓ CLASSIC YELLOW BARREL WOOD-CASED PENCILS: Made from high-quality wood for easy clean sharpening, 3.25 mm thick break-resistant graphite lead requires less sharpening and produces dark long-lasting, readable, consistent strokes\\n✓ EASILY ERASABLE - MAKES DO-OVERS A BREEZE: Unwanted marks are easy to erase, offers clean corrections without tearing the paper. Soft, non-smudge rubbers are effective to erase marks completely and will not leave any residue behind\\n✓ VERSATILE WIDE APPLICATION: Suitable for kids, boys girls, teens, adults. Perfect for students in kindergarten school or college exam, teacher in classroom and general use: workshops, corporate office, meeting, sketching, writing, drawing   \n",
       "4                                                                                                                                                                                                                                                                                                                                                                                                                                                                                                                                                                                                                                                                                                                                                                                                                                                                                                                                                                      Premium #2 HB lead pencils with break-resistant lead and splinter-free barrels\\nDurable, long-lasting leads and erasers\\nLatex-free erasers easily erase stray marks\\nTrendy and modern gray barrels\\nPack of 24 certified non-toxic pencils ideal for home or classroom   \n",
       "\n",
       "    product_brand product_color_name product_locale  \\\n",
       "0   Amazon Basics             Yellow             us   \n",
       "1  BAZIC Products           12-count             us   \n",
       "2           Emraw             Yellow             us   \n",
       "3           Emraw             Yellow             us   \n",
       "4    Design House               Gray             us   \n",
       "\n",
       "                                                                                                                                                                                                                                                                                                                                                                                                                                                                                                                                                                                                                                                                                                                                                                                                                                                                                                                                                                                                                                                                                                                                                                                                                                                                                                                                                                                                                                                                                                                                                                                                                                                                                                                                                                                                                                                                                                                                                                                                                                                                                                                                                                                                                                                                                                                                                                                                                                                                                                                                                                                                                                                                                                                                                                                                                                                                                                                                                                                                                                                                                                                                                                                                                                                                                                                                                                                                                                             product_input  \n",
       "0                                                                                                                                                                                                                                                                                                                                                                                                                                                                                                                                                                                                                                                                                                                                                                                                                                                                                                                                                                                                                                                                                                                                                                                                                                                                                                                                                                                                                                                                                                                                                                                                                                                                                                                                                                                                                                                                                                                                                                                                                                                                                                                                                                                                                                                                                                                                                                                                                                                                                                                                                                                                                                                                                                                                                                                                                                                                                                                                                                                                                                 Amazon Basics Woodcased #2 Pencils, Unsharpened, HB Lead - Box of 144, Bulk Box us  144 woodcase #2 HB pencils made from high-quality wood for clean, easy sharpeningStrong medium-soft lead produces long-lasting, smooth, readable strokesRounded hexagonal shape with satin-smooth finish for a secure, comfortable gripSoft, smudge-free, latex-free eraser secured to the end for conveniently wiping away mistakes  \n",
       "1                                                                                                                                                                                                                                                                                                                                                                                                                                                                                                                                                                                                                                                                                                                                                                                                                                                                                                                                                                                                                                                                                                             BAZIC Pencil #2 HB Pencils, Latex Free Eraser, Wood Free Yellow Unsharpened Pencils for Exam School Office (12/Pack), 1-Pack us <p><strong>BACK TO BAZIC</strong></p><p>Our goal is to provide each customer with long-lasting supplies at an affordable cost. Since 1998, we’ve delivered on this promise and will only continue to improve every year. We’ve built our brand on integrity and quality, so customers know exactly what to expect.</p> <p><strong>COMMITTED TO VALUES</strong></p><p>We are a value-driven company, guided by the principles of excellence through strong product design at low cost. Our commitment to these values is reflected in our dedication to improving current products and developing new exciting products for our consumers.</p> <p><strong>FOCUSED ON OUR MISSION</strong></p><p>Our currency is ideas. We thrive on imagination, passion and leadership. We have great products and will to continue to rise with our customer expectations.</p> <p><strong>SUCCESS BASED ON SATISFACTION</strong></p><p>Each and every product we send out, we expect our 100% customer satisfaction. While our supplies are sourced from all across the world, our success stems from individual consumer fulfillment. We create products that people want to recommend to others.</p> &#11088; UN-SHARPENED #2 PREMIUM PENCILS. Each pack comes with 12 un-sharpened pencils. Unlike most others out there, these allow kids the simple joy of sharpening a brand new pencil for the very 1st time!&#11088; CLASSIC BARREL. Made from premium-quality wood pencil is bonded with a break-resistant number two core for smooth writing as easily erased. Hexagonal shape prevents rolling and comfortable to hold.&#11088; QUALITY. Pencils are #2 HB for general writing, drawing and sketching. Pencils glide smoothly over paper and is highly break resistant. Pencils include a smudge-resistant eraser top for convenience.&#11088; LATEX-FREE ERASER. The smudge-less eraser is latex-free, which provides enough toughness for heavy erasures. These smudge-free erasers wipe the page clean, making corrections easy and fast.&#11088; WIDE APPLICATION. Suitable for all general writing applications such as notes, letters, and you can use it for office, classroom, home and other occasions.  \n",
       "2                              Emraw Pre Sharpened Round Primary Size No 2 Jumbo Pencils for Preschoolers, Elementary Kids - Pack of 8 Premium Fat Pencils us <p><b>Emraw Pre-Sharpened #2 HB Wood Pencils - Pack of 8 Pre-Schoolers Pencils</b></p><p>Looking for pencils for kid, office or every day general purpose repetitive use? Tired of pencils that do not sharpen well? Disappointed having broken leads repeatedly? Or, looking for pencils that require less sharpening and lasts longer?</p><p>Search no further, Emraw num 2 jumbo pencils pack have you covered. You just found the best deal. You will love them. Just the right size for pre-kindergarten toddlers. Perfect for elderly hands having difficulty grasping smaller items. Each pencil is pre-sharpened so you can literally pick straight from the box and start using. HB (no2) hardness grading with thicker leads make them perfect for most types of writing or sketching.</p><p>Made of high quality non-toxic cedar wood so they sharpen nicely with any quality dual-holed hand sharpener or adjustable electric sharpener, (not compatible with standard pencil sharpener). Rounded circular shape offers an effortless, fatigue-free writing experience.</p><p>Big ultra-smooth graphite core does not break easily, helps kids to grip securely, write smoothly and build language and motor skills. Applying normal pressure kids can wipe away mistaken strokes without a lot of effort. The soft, non-smudge rubbers are effective to erase completely and will not leave any pink residue behind after erasing unwanted marks. The eraser on top is held strongly with a ferrule and will not loosen easily, that keeps an eraser always in hand throughout its lifespan.</p><p>Use or gift these pencils to use in the classroom, work, or home for anything from keeping lists, making notes, sketch first drafts, brainstorm campaign ideas, filling in answers on an exam, coloring books as a highlighter, quick sketches of diy carpentry projects, solving sudoku or crossword puzzles.</p><p><b>Best N.2 Woodcase Pencils Supplies for You, Your Children, Students, Family, or Workmates, Order Now!!!</b></p> ✓ PACK OF 8 NUMBER 2 PRESHARPENED BEGINNERS PENCILS: Emraw round sharpened pencils set contains 2 packs of 4 general no.2 hb pencils with latex-free rubber erasers top, total 8 primary size yellow preschool pencils, good for little hands✓ SUPERIOR NATURAL GRIP AND FEEL: Rounded triangular wooden casing blends ergonomic design for kids small hands in mind that allows your beginner writer a firm grip to comfortably hold and practice to write, scribble or tracing for hours✓ CLASSIC YELLOW BARREL WOOD-CASED PENCILS: Premium pencils made from high-quality wood for easy clean sharpening, 3.25 mm thick break-resistant graphite lead requires less sharpening, produces dark long-lasting, readable, consistent strokes✓ EASILY ERASABLE - MAKES DO-OVERS A BREEZE: Unwanted marks are easy to erase, offers clean corrections without tearing the paper. Soft, non-smudge rubbers are effective to erase marks completely and will not leave any residue behind✓ VERSATILE WIDE APPLICATION: Suitable for kids, boys girls, teens, adults. Perfect for students in kindergarten school exam or college, teacher in classroom and general use: workshops, corporate office, meeting, sketching, writing, drawing  \n",
       "3  Emraw Pre Sharpened Triangular Primary Size No 2 Jumbo Pencils for Preschoolers, Elementary Kids - Pack of 6 Fat Pencils with Bonus Sharpener us <p><b>Emraw Pre-Sharpened #2 HB Wood Pencils - Pack of 6 Pre-Schoolers Pencils</b></p><p>Looking for pencils for kid, office or every day general purpose repetitive use? Tired of pencils that do not sharpen well? Disappointed having broken leads repeatedly? Or, looking for pencils that require less sharpening and lasts longer?</p><p>Search no further, Emraw num 2 jumbo pencils pack have you covered. You just found the best deal. You will just love them. Just the right size for pre-kindergarten toddlers. Perfect for elderly hands having difficulty grasping smaller items. Each pencil is pre-sharpened so you can literally pick straight from the box and start using. HB (no2) hardness grading with thicker leads make them perfect for most types of writing or sketching.</p><p>Made of high quality non-toxic cedar wood so they sharpen nicely with any quality dual-holed hand sharpener or adjustable electric sharpener (1 Sharpener Included). Rounded triangular shape offers an effortless, fatigue-free writing experience and won't roll off inclined desks or tables.</p><p>Big ultra-smooth graphite core does not break easily, helps kids to grip securely, write smoothly and build language and motor skills. Applying normal pressure kids can wipe away mistaken strokes without a lot of effort. The soft, non-smudge rubbers are effective to erase completely and will not leave any pink residue behind after erasing unwanted marks. The eraser on top is held strongly with a ferrule and will not loosen easily, that keeps an eraser always in hand throughout its lifespan.</p><p>Use the or gift these pencils to use in the classroom, work, or home for anything from keeping lists, making notes, sketch first drafts, brainstorm campaign ideas, filling in answers on an exam, coloring books as a highlighter, quick sketches of diy carpentry projects, solving sudoku or crossword puzzles.</p><p><b>Best N.2 Woodcase Pencils Supplies for You, Your Students, Family, or Workmates, Order Now!!!</b></p> ✓ PACK OF 6 NUMBER 2 PRESHARPENED BEGINNERS PENCILS: Emraw triangle sharpened pencils set contains 2 packs of 3 general no.2 hb pencils with latex-free rubber erasers top, total 6 primary size yellow preschool pencils, good for little hands✓ SUPERIOR NATURAL GRIP AND FEEL: Rounded triangular wooden casing blends ergonomic design for kids small hands in mind that allows your beginner writer a firm grip and comfortably hold and practice to write, scribble or tracing for hours✓ CLASSIC YELLOW BARREL WOOD-CASED PENCILS: Made from high-quality wood for easy clean sharpening, 3.25 mm thick break-resistant graphite lead requires less sharpening and produces dark long-lasting, readable, consistent strokes✓ EASILY ERASABLE - MAKES DO-OVERS A BREEZE: Unwanted marks are easy to erase, offers clean corrections without tearing the paper. Soft, non-smudge rubbers are effective to erase marks completely and will not leave any residue behind✓ VERSATILE WIDE APPLICATION: Suitable for kids, boys girls, teens, adults. Perfect for students in kindergarten school or college exam, teacher in classroom and general use: workshops, corporate office, meeting, sketching, writing, drawing  \n",
       "4                                                                                                                                                                                                                                                                                                                                                                                                                                                                                                                                                                                                                                                                                                                                                                                                                                                                                                                                                                                                                                                                                                                                                                                                                                                                                                                                                                                                                                                                                                                                                                                                                                                                                                                                                                                                                                                                                                                                                                                                                                                                                                                                                                                                                                                                                                                                                                                                                                                                                                                                                                                                                                                                                                                                                                                                                                                                                                                                                                                                                                                                                                           BIC Evolution Cased Pencil, #2 Lead, Gray Barrel, 24-Count (PGEBP241-BLK) us  Premium #2 HB lead pencils with break-resistant lead and splinter-free barrelsDurable, long-lasting leads and erasersLatex-free erasers easily erase stray marksTrendy and modern gray barrelsPack of 24 certified non-toxic pencils ideal for home or classroom  "
      ]
     },
     "execution_count": 13,
     "metadata": {},
     "output_type": "execute_result"
    }
   ],
   "source": [
    "prod_cat.head()"
   ]
  },
  {
   "cell_type": "code",
   "execution_count": 14,
   "id": "2f309c86",
   "metadata": {
    "execution": {
     "iopub.execute_input": "2022-06-23T02:22:02.317423Z",
     "iopub.status.busy": "2022-06-23T02:22:02.317104Z",
     "iopub.status.idle": "2022-06-23T02:22:07.923163Z",
     "shell.execute_reply": "2022-06-23T02:22:07.921877Z"
    },
    "papermill": {
     "duration": 5.622583,
     "end_time": "2022-06-23T02:22:07.926165",
     "exception": false,
     "start_time": "2022-06-23T02:22:02.303582",
     "status": "completed"
    },
    "tags": []
   },
   "outputs": [],
   "source": [
    "import re\n",
    "# as per recommendation from @freylis, compile once only\n",
    "CLEANR = re.compile('<.*?>')\n",
    "def cleanhtml(raw_html):\n",
    "  cleantext = re.sub(CLEANR, '', raw_html)\n",
    "  return cleantext\n",
    "\n",
    "prod_cat['product_input'] = prod_cat['product_input'].apply(lambda inp: cleanhtml(inp))"
   ]
  },
  {
   "cell_type": "code",
   "execution_count": 15,
   "id": "4b93b8a4",
   "metadata": {
    "execution": {
     "iopub.execute_input": "2022-06-23T02:22:07.960247Z",
     "iopub.status.busy": "2022-06-23T02:22:07.959313Z",
     "iopub.status.idle": "2022-06-23T02:22:08.068251Z",
     "shell.execute_reply": "2022-06-23T02:22:08.066957Z"
    },
    "papermill": {
     "duration": 0.131374,
     "end_time": "2022-06-23T02:22:08.071999",
     "exception": false,
     "start_time": "2022-06-23T02:22:07.940625",
     "status": "completed"
    },
    "tags": []
   },
   "outputs": [
    {
     "data": {
      "text/html": [
       "<div>\n",
       "<style scoped>\n",
       "    .dataframe tbody tr th:only-of-type {\n",
       "        vertical-align: middle;\n",
       "    }\n",
       "\n",
       "    .dataframe tbody tr th {\n",
       "        vertical-align: top;\n",
       "    }\n",
       "\n",
       "    .dataframe thead th {\n",
       "        text-align: right;\n",
       "    }\n",
       "</style>\n",
       "<table border=\"1\" class=\"dataframe\">\n",
       "  <thead>\n",
       "    <tr style=\"text-align: right;\">\n",
       "      <th></th>\n",
       "      <th>product_id</th>\n",
       "      <th>product_title</th>\n",
       "      <th>product_description</th>\n",
       "      <th>product_bullet_point</th>\n",
       "      <th>product_brand</th>\n",
       "      <th>product_color_name</th>\n",
       "      <th>product_locale</th>\n",
       "      <th>product_input</th>\n",
       "    </tr>\n",
       "  </thead>\n",
       "  <tbody>\n",
       "    <tr>\n",
       "      <th>0</th>\n",
       "      <td>B0188A3QRM</td>\n",
       "      <td>Amazon Basics Woodcased #2 Pencils, Unsharpened, HB Lead - Box of 144, Bulk Box</td>\n",
       "      <td></td>\n",
       "      <td>144 woodcase #2 HB pencils made from high-quality wood for clean, easy sharpening\\nStrong medium-soft lead produces long-lasting, smooth, readable strokes\\nRounded hexagonal shape with satin-smooth finish for a secure, comfortable grip\\nSoft, smudge-free, latex-free eraser secured to the end for conveniently wiping away mistakes</td>\n",
       "      <td>Amazon Basics</td>\n",
       "      <td>Yellow</td>\n",
       "      <td>us</td>\n",
       "      <td>Amazon Basics Woodcased #2 Pencils, Unsharpened, HB Lead - Box of 144, Bulk Box us  144 woodcase #2 HB pencils made from high-quality wood for clean, easy sharpeningStrong medium-soft lead produces long-lasting, smooth, readable strokesRounded hexagonal shape with satin-smooth finish for a secure, comfortable gripSoft, smudge-free, latex-free eraser secured to the end for conveniently wiping away mistakes</td>\n",
       "    </tr>\n",
       "    <tr>\n",
       "      <th>1</th>\n",
       "      <td>B075VXJ9VG</td>\n",
       "      <td>BAZIC Pencil #2 HB Pencils, Latex Free Eraser, Wood Free Yellow Unsharpened Pencils for Exam School Office (12/Pack), 1-Pack</td>\n",
       "      <td>&lt;p&gt;&lt;strong&gt;BACK TO BAZIC&lt;/strong&gt;&lt;/p&gt;&lt;p&gt;Our goal is to provide each customer with long-lasting supplies at an affordable cost. Since 1998, we’ve delivered on this promise and will only continue to improve every year. We’ve built our brand on integrity and quality, so customers know exactly what to expect.&lt;/p&gt; &lt;p&gt;&lt;strong&gt;COMMITTED TO VALUES&lt;/strong&gt;&lt;/p&gt;&lt;p&gt;We are a value-driven company, guided by the principles of excellence through strong product design at low cost. Our commitment to these values is reflected in our dedication to improving current products and developing new exciting products for our consumers.&lt;/p&gt; &lt;p&gt;&lt;strong&gt;FOCUSED ON OUR MISSION&lt;/strong&gt;&lt;/p&gt;&lt;p&gt;Our currency is ideas. We thrive on imagination, passion and leadership. We have great products and will to continue to rise with our customer expectations.&lt;/p&gt; &lt;p&gt;&lt;strong&gt;SUCCESS BASED ON SATISFACTION&lt;/strong&gt;&lt;/p&gt;&lt;p&gt;Each and every product we send out, we expect our 100% customer satisfaction. While our supplies are sourced from all across the world, our success stems from individual consumer fulfillment. We create products that people want to recommend to others.&lt;/p&gt;</td>\n",
       "      <td>&amp;#11088; UN-SHARPENED #2 PREMIUM PENCILS. Each pack comes with 12 un-sharpened pencils. Unlike most others out there, these allow kids the simple joy of sharpening a brand new pencil for the very 1st time!\\n&amp;#11088; CLASSIC BARREL. Made from premium-quality wood pencil is bonded with a break-resistant number two core for smooth writing as easily erased. Hexagonal shape prevents rolling and comfortable to hold.\\n&amp;#11088; QUALITY. Pencils are #2 HB for general writing, drawing and sketching. Pencils glide smoothly over paper and is highly break resistant. Pencils include a smudge-resistant eraser top for convenience.\\n&amp;#11088; LATEX-FREE ERASER. The smudge-less eraser is latex-free, which provides enough toughness for heavy erasures. These smudge-free erasers wipe the page clean, making corrections easy and fast.\\n&amp;#11088; WIDE APPLICATION. Suitable for all general writing applications such as notes, letters, and you can use it for office, classroom, home and other occasions.</td>\n",
       "      <td>BAZIC Products</td>\n",
       "      <td>12-count</td>\n",
       "      <td>us</td>\n",
       "      <td>BAZIC Pencil #2 HB Pencils, Latex Free Eraser, Wood Free Yellow Unsharpened Pencils for Exam School Office (12/Pack), 1-Pack us BACK TO BAZICOur goal is to provide each customer with long-lasting supplies at an affordable cost. Since 1998, we’ve delivered on this promise and will only continue to improve every year. We’ve built our brand on integrity and quality, so customers know exactly what to expect. COMMITTED TO VALUESWe are a value-driven company, guided by the principles of excellence through strong product design at low cost. Our commitment to these values is reflected in our dedication to improving current products and developing new exciting products for our consumers. FOCUSED ON OUR MISSIONOur currency is ideas. We thrive on imagination, passion and leadership. We have great products and will to continue to rise with our customer expectations. SUCCESS BASED ON SATISFACTIONEach and every product we send out, we expect our 100% customer satisfaction. While our supplies are sourced from all across the world, our success stems from individual consumer fulfillment. We create products that people want to recommend to others. &amp;#11088; UN-SHARPENED #2 PREMIUM PENCILS. Each pack comes with 12 un-sharpened pencils. Unlike most others out there, these allow kids the simple joy of sharpening a brand new pencil for the very 1st time!&amp;#11088; CLASSIC BARREL. Made from premium-quality wood pencil is bonded with a break-resistant number two core for smooth writing as easily erased. Hexagonal shape prevents rolling and comfortable to hold.&amp;#11088; QUALITY. Pencils are #2 HB for general writing, drawing and sketching. Pencils glide smoothly over paper and is highly break resistant. Pencils include a smudge-resistant eraser top for convenience.&amp;#11088; LATEX-FREE ERASER. The smudge-less eraser is latex-free, which provides enough toughness for heavy erasures. These smudge-free erasers wipe the page clean, making corrections easy and fast.&amp;#11088; WIDE APPLICATION. Suitable for all general writing applications such as notes, letters, and you can use it for office, classroom, home and other occasions.</td>\n",
       "    </tr>\n",
       "    <tr>\n",
       "      <th>2</th>\n",
       "      <td>B07G7F6JZ6</td>\n",
       "      <td>Emraw Pre Sharpened Round Primary Size No 2 Jumbo Pencils for Preschoolers, Elementary Kids - Pack of 8 Premium Fat Pencils</td>\n",
       "      <td>&lt;p&gt;&lt;b&gt;Emraw Pre-Sharpened #2 HB Wood Pencils - Pack of 8 Pre-Schoolers Pencils&lt;/b&gt;&lt;/p&gt;&lt;p&gt;Looking for pencils for kid, office or every day general purpose repetitive use? Tired of pencils that do not sharpen well? Disappointed having broken leads repeatedly? Or, looking for pencils that require less sharpening and lasts longer?&lt;/p&gt;&lt;p&gt;Search no further, Emraw num 2 jumbo pencils pack have you covered. You just found the best deal. You will love them. Just the right size for pre-kindergarten toddlers. Perfect for elderly hands having difficulty grasping smaller items. Each pencil is pre-sharpened so you can literally pick straight from the box and start using. HB (no2) hardness grading with thicker leads make them perfect for most types of writing or sketching.&lt;/p&gt;&lt;p&gt;Made of high quality non-toxic cedar wood so they sharpen nicely with any quality dual-holed hand sharpener or adjustable electric sharpener, (not compatible with standard pencil sharpener). Rounded circular shape offers an effortless, fatigue-free writing experience.&lt;/p&gt;&lt;p&gt;Big ultra-smooth graphite core does not break easily, helps kids to grip securely, write smoothly and build language and motor skills. Applying normal pressure kids can wipe away mistaken strokes without a lot of effort. The soft, non-smudge rubbers are effective to erase completely and will not leave any pink residue behind after erasing unwanted marks. The eraser on top is held strongly with a ferrule and will not loosen easily, that keeps an eraser always in hand throughout its lifespan.&lt;/p&gt;&lt;p&gt;Use or gift these pencils to use in the classroom, work, or home for anything from keeping lists, making notes, sketch first drafts, brainstorm campaign ideas, filling in answers on an exam, coloring books as a highlighter, quick sketches of diy carpentry projects, solving sudoku or crossword puzzles.&lt;/p&gt;&lt;p&gt;&lt;b&gt;Best N.2 Woodcase Pencils Supplies for You, Your Children, Students, Family, or Workmates, Order Now!!!&lt;/b&gt;&lt;/p&gt;</td>\n",
       "      <td>✓ PACK OF 8 NUMBER 2 PRESHARPENED BEGINNERS PENCILS: Emraw round sharpened pencils set contains 2 packs of 4 general no.2 hb pencils with latex-free rubber erasers top, total 8 primary size yellow preschool pencils, good for little hands\\n✓ SUPERIOR NATURAL GRIP AND FEEL: Rounded triangular wooden casing blends ergonomic design for kids small hands in mind that allows your beginner writer a firm grip to comfortably hold and practice to write, scribble or tracing for hours\\n✓ CLASSIC YELLOW BARREL WOOD-CASED PENCILS: Premium pencils made from high-quality wood for easy clean sharpening, 3.25 mm thick break-resistant graphite lead requires less sharpening, produces dark long-lasting, readable, consistent strokes\\n✓ EASILY ERASABLE - MAKES DO-OVERS A BREEZE: Unwanted marks are easy to erase, offers clean corrections without tearing the paper. Soft, non-smudge rubbers are effective to erase marks completely and will not leave any residue behind\\n✓ VERSATILE WIDE APPLICATION: Suitable for kids, boys girls, teens, adults. Perfect for students in kindergarten school exam or college, teacher in classroom and general use: workshops, corporate office, meeting, sketching, writing, drawing</td>\n",
       "      <td>Emraw</td>\n",
       "      <td>Yellow</td>\n",
       "      <td>us</td>\n",
       "      <td>Emraw Pre Sharpened Round Primary Size No 2 Jumbo Pencils for Preschoolers, Elementary Kids - Pack of 8 Premium Fat Pencils us Emraw Pre-Sharpened #2 HB Wood Pencils - Pack of 8 Pre-Schoolers PencilsLooking for pencils for kid, office or every day general purpose repetitive use? Tired of pencils that do not sharpen well? Disappointed having broken leads repeatedly? Or, looking for pencils that require less sharpening and lasts longer?Search no further, Emraw num 2 jumbo pencils pack have you covered. You just found the best deal. You will love them. Just the right size for pre-kindergarten toddlers. Perfect for elderly hands having difficulty grasping smaller items. Each pencil is pre-sharpened so you can literally pick straight from the box and start using. HB (no2) hardness grading with thicker leads make them perfect for most types of writing or sketching.Made of high quality non-toxic cedar wood so they sharpen nicely with any quality dual-holed hand sharpener or adjustable electric sharpener, (not compatible with standard pencil sharpener). Rounded circular shape offers an effortless, fatigue-free writing experience.Big ultra-smooth graphite core does not break easily, helps kids to grip securely, write smoothly and build language and motor skills. Applying normal pressure kids can wipe away mistaken strokes without a lot of effort. The soft, non-smudge rubbers are effective to erase completely and will not leave any pink residue behind after erasing unwanted marks. The eraser on top is held strongly with a ferrule and will not loosen easily, that keeps an eraser always in hand throughout its lifespan.Use or gift these pencils to use in the classroom, work, or home for anything from keeping lists, making notes, sketch first drafts, brainstorm campaign ideas, filling in answers on an exam, coloring books as a highlighter, quick sketches of diy carpentry projects, solving sudoku or crossword puzzles.Best N.2 Woodcase Pencils Supplies for You, Your Children, Students, Family, or Workmates, Order Now!!! ✓ PACK OF 8 NUMBER 2 PRESHARPENED BEGINNERS PENCILS: Emraw round sharpened pencils set contains 2 packs of 4 general no.2 hb pencils with latex-free rubber erasers top, total 8 primary size yellow preschool pencils, good for little hands✓ SUPERIOR NATURAL GRIP AND FEEL: Rounded triangular wooden casing blends ergonomic design for kids small hands in mind that allows your beginner writer a firm grip to comfortably hold and practice to write, scribble or tracing for hours✓ CLASSIC YELLOW BARREL WOOD-CASED PENCILS: Premium pencils made from high-quality wood for easy clean sharpening, 3.25 mm thick break-resistant graphite lead requires less sharpening, produces dark long-lasting, readable, consistent strokes✓ EASILY ERASABLE - MAKES DO-OVERS A BREEZE: Unwanted marks are easy to erase, offers clean corrections without tearing the paper. Soft, non-smudge rubbers are effective to erase marks completely and will not leave any residue behind✓ VERSATILE WIDE APPLICATION: Suitable for kids, boys girls, teens, adults. Perfect for students in kindergarten school exam or college, teacher in classroom and general use: workshops, corporate office, meeting, sketching, writing, drawing</td>\n",
       "    </tr>\n",
       "    <tr>\n",
       "      <th>3</th>\n",
       "      <td>B07JZJLHCF</td>\n",
       "      <td>Emraw Pre Sharpened Triangular Primary Size No 2 Jumbo Pencils for Preschoolers, Elementary Kids - Pack of 6 Fat Pencils with Bonus Sharpener</td>\n",
       "      <td>&lt;p&gt;&lt;b&gt;Emraw Pre-Sharpened #2 HB Wood Pencils - Pack of 6 Pre-Schoolers Pencils&lt;/b&gt;&lt;/p&gt;&lt;p&gt;Looking for pencils for kid, office or every day general purpose repetitive use? Tired of pencils that do not sharpen well? Disappointed having broken leads repeatedly? Or, looking for pencils that require less sharpening and lasts longer?&lt;/p&gt;&lt;p&gt;Search no further, Emraw num 2 jumbo pencils pack have you covered. You just found the best deal. You will just love them. Just the right size for pre-kindergarten toddlers. Perfect for elderly hands having difficulty grasping smaller items. Each pencil is pre-sharpened so you can literally pick straight from the box and start using. HB (no2) hardness grading with thicker leads make them perfect for most types of writing or sketching.&lt;/p&gt;&lt;p&gt;Made of high quality non-toxic cedar wood so they sharpen nicely with any quality dual-holed hand sharpener or adjustable electric sharpener (1 Sharpener Included). Rounded triangular shape offers an effortless, fatigue-free writing experience and won't roll off inclined desks or tables.&lt;/p&gt;&lt;p&gt;Big ultra-smooth graphite core does not break easily, helps kids to grip securely, write smoothly and build language and motor skills. Applying normal pressure kids can wipe away mistaken strokes without a lot of effort. The soft, non-smudge rubbers are effective to erase completely and will not leave any pink residue behind after erasing unwanted marks. The eraser on top is held strongly with a ferrule and will not loosen easily, that keeps an eraser always in hand throughout its lifespan.&lt;/p&gt;&lt;p&gt;Use the or gift these pencils to use in the classroom, work, or home for anything from keeping lists, making notes, sketch first drafts, brainstorm campaign ideas, filling in answers on an exam, coloring books as a highlighter, quick sketches of diy carpentry projects, solving sudoku or crossword puzzles.&lt;/p&gt;&lt;p&gt;&lt;b&gt;Best N.2 Woodcase Pencils Supplies for You, Your Students, Family, or Workmates, Order Now!!!&lt;/b&gt;&lt;/p&gt;</td>\n",
       "      <td>✓ PACK OF 6 NUMBER 2 PRESHARPENED BEGINNERS PENCILS: Emraw triangle sharpened pencils set contains 2 packs of 3 general no.2 hb pencils with latex-free rubber erasers top, total 6 primary size yellow preschool pencils, good for little hands\\n✓ SUPERIOR NATURAL GRIP AND FEEL: Rounded triangular wooden casing blends ergonomic design for kids small hands in mind that allows your beginner writer a firm grip and comfortably hold and practice to write, scribble or tracing for hours\\n✓ CLASSIC YELLOW BARREL WOOD-CASED PENCILS: Made from high-quality wood for easy clean sharpening, 3.25 mm thick break-resistant graphite lead requires less sharpening and produces dark long-lasting, readable, consistent strokes\\n✓ EASILY ERASABLE - MAKES DO-OVERS A BREEZE: Unwanted marks are easy to erase, offers clean corrections without tearing the paper. Soft, non-smudge rubbers are effective to erase marks completely and will not leave any residue behind\\n✓ VERSATILE WIDE APPLICATION: Suitable for kids, boys girls, teens, adults. Perfect for students in kindergarten school or college exam, teacher in classroom and general use: workshops, corporate office, meeting, sketching, writing, drawing</td>\n",
       "      <td>Emraw</td>\n",
       "      <td>Yellow</td>\n",
       "      <td>us</td>\n",
       "      <td>Emraw Pre Sharpened Triangular Primary Size No 2 Jumbo Pencils for Preschoolers, Elementary Kids - Pack of 6 Fat Pencils with Bonus Sharpener us Emraw Pre-Sharpened #2 HB Wood Pencils - Pack of 6 Pre-Schoolers PencilsLooking for pencils for kid, office or every day general purpose repetitive use? Tired of pencils that do not sharpen well? Disappointed having broken leads repeatedly? Or, looking for pencils that require less sharpening and lasts longer?Search no further, Emraw num 2 jumbo pencils pack have you covered. You just found the best deal. You will just love them. Just the right size for pre-kindergarten toddlers. Perfect for elderly hands having difficulty grasping smaller items. Each pencil is pre-sharpened so you can literally pick straight from the box and start using. HB (no2) hardness grading with thicker leads make them perfect for most types of writing or sketching.Made of high quality non-toxic cedar wood so they sharpen nicely with any quality dual-holed hand sharpener or adjustable electric sharpener (1 Sharpener Included). Rounded triangular shape offers an effortless, fatigue-free writing experience and won't roll off inclined desks or tables.Big ultra-smooth graphite core does not break easily, helps kids to grip securely, write smoothly and build language and motor skills. Applying normal pressure kids can wipe away mistaken strokes without a lot of effort. The soft, non-smudge rubbers are effective to erase completely and will not leave any pink residue behind after erasing unwanted marks. The eraser on top is held strongly with a ferrule and will not loosen easily, that keeps an eraser always in hand throughout its lifespan.Use the or gift these pencils to use in the classroom, work, or home for anything from keeping lists, making notes, sketch first drafts, brainstorm campaign ideas, filling in answers on an exam, coloring books as a highlighter, quick sketches of diy carpentry projects, solving sudoku or crossword puzzles.Best N.2 Woodcase Pencils Supplies for You, Your Students, Family, or Workmates, Order Now!!! ✓ PACK OF 6 NUMBER 2 PRESHARPENED BEGINNERS PENCILS: Emraw triangle sharpened pencils set contains 2 packs of 3 general no.2 hb pencils with latex-free rubber erasers top, total 6 primary size yellow preschool pencils, good for little hands✓ SUPERIOR NATURAL GRIP AND FEEL: Rounded triangular wooden casing blends ergonomic design for kids small hands in mind that allows your beginner writer a firm grip and comfortably hold and practice to write, scribble or tracing for hours✓ CLASSIC YELLOW BARREL WOOD-CASED PENCILS: Made from high-quality wood for easy clean sharpening, 3.25 mm thick break-resistant graphite lead requires less sharpening and produces dark long-lasting, readable, consistent strokes✓ EASILY ERASABLE - MAKES DO-OVERS A BREEZE: Unwanted marks are easy to erase, offers clean corrections without tearing the paper. Soft, non-smudge rubbers are effective to erase marks completely and will not leave any residue behind✓ VERSATILE WIDE APPLICATION: Suitable for kids, boys girls, teens, adults. Perfect for students in kindergarten school or college exam, teacher in classroom and general use: workshops, corporate office, meeting, sketching, writing, drawing</td>\n",
       "    </tr>\n",
       "    <tr>\n",
       "      <th>4</th>\n",
       "      <td>B07MGKC3DD</td>\n",
       "      <td>BIC Evolution Cased Pencil, #2 Lead, Gray Barrel, 24-Count (PGEBP241-BLK)</td>\n",
       "      <td></td>\n",
       "      <td>Premium #2 HB lead pencils with break-resistant lead and splinter-free barrels\\nDurable, long-lasting leads and erasers\\nLatex-free erasers easily erase stray marks\\nTrendy and modern gray barrels\\nPack of 24 certified non-toxic pencils ideal for home or classroom</td>\n",
       "      <td>Design House</td>\n",
       "      <td>Gray</td>\n",
       "      <td>us</td>\n",
       "      <td>BIC Evolution Cased Pencil, #2 Lead, Gray Barrel, 24-Count (PGEBP241-BLK) us  Premium #2 HB lead pencils with break-resistant lead and splinter-free barrelsDurable, long-lasting leads and erasersLatex-free erasers easily erase stray marksTrendy and modern gray barrelsPack of 24 certified non-toxic pencils ideal for home or classroom</td>\n",
       "    </tr>\n",
       "  </tbody>\n",
       "</table>\n",
       "</div>"
      ],
      "text/plain": [
       "   product_id  \\\n",
       "0  B0188A3QRM   \n",
       "1  B075VXJ9VG   \n",
       "2  B07G7F6JZ6   \n",
       "3  B07JZJLHCF   \n",
       "4  B07MGKC3DD   \n",
       "\n",
       "                                                                                                                                   product_title  \\\n",
       "0                                                                Amazon Basics Woodcased #2 Pencils, Unsharpened, HB Lead - Box of 144, Bulk Box   \n",
       "1                   BAZIC Pencil #2 HB Pencils, Latex Free Eraser, Wood Free Yellow Unsharpened Pencils for Exam School Office (12/Pack), 1-Pack   \n",
       "2                    Emraw Pre Sharpened Round Primary Size No 2 Jumbo Pencils for Preschoolers, Elementary Kids - Pack of 8 Premium Fat Pencils   \n",
       "3  Emraw Pre Sharpened Triangular Primary Size No 2 Jumbo Pencils for Preschoolers, Elementary Kids - Pack of 6 Fat Pencils with Bonus Sharpener   \n",
       "4                                                                      BIC Evolution Cased Pencil, #2 Lead, Gray Barrel, 24-Count (PGEBP241-BLK)   \n",
       "\n",
       "                                                                                                                                                                                                                                                                                                                                                                                                                                                                                                                                                                                                                                                                                                                                                                                                                                                                                                                                                                                                                                                                                                                                                                                                                                                                                                                                                                                                                                                                                                                                                                                                                                                                                                                                                                                                                                                                                                                                                                                                                                                          product_description  \\\n",
       "0                                                                                                                                                                                                                                                                                                                                                                                                                                                                                                                                                                                                                                                                                                                                                                                                                                                                                                                                                                                                                                                                                                                                                                                                                                                                                                                                                                                                                                                                                                                                                                                                                                                                                                                                                                                                                                                                                                                                                                                                                                                                               \n",
       "1                                                                                                                                                                                                                                                                                                                                                                                                                                                                                                                                                                                                                                                                                                                                                                                                                                                                                     <p><strong>BACK TO BAZIC</strong></p><p>Our goal is to provide each customer with long-lasting supplies at an affordable cost. Since 1998, we’ve delivered on this promise and will only continue to improve every year. We’ve built our brand on integrity and quality, so customers know exactly what to expect.</p> <p><strong>COMMITTED TO VALUES</strong></p><p>We are a value-driven company, guided by the principles of excellence through strong product design at low cost. Our commitment to these values is reflected in our dedication to improving current products and developing new exciting products for our consumers.</p> <p><strong>FOCUSED ON OUR MISSION</strong></p><p>Our currency is ideas. We thrive on imagination, passion and leadership. We have great products and will to continue to rise with our customer expectations.</p> <p><strong>SUCCESS BASED ON SATISFACTION</strong></p><p>Each and every product we send out, we expect our 100% customer satisfaction. While our supplies are sourced from all across the world, our success stems from individual consumer fulfillment. We create products that people want to recommend to others.</p>   \n",
       "2                     <p><b>Emraw Pre-Sharpened #2 HB Wood Pencils - Pack of 8 Pre-Schoolers Pencils</b></p><p>Looking for pencils for kid, office or every day general purpose repetitive use? Tired of pencils that do not sharpen well? Disappointed having broken leads repeatedly? Or, looking for pencils that require less sharpening and lasts longer?</p><p>Search no further, Emraw num 2 jumbo pencils pack have you covered. You just found the best deal. You will love them. Just the right size for pre-kindergarten toddlers. Perfect for elderly hands having difficulty grasping smaller items. Each pencil is pre-sharpened so you can literally pick straight from the box and start using. HB (no2) hardness grading with thicker leads make them perfect for most types of writing or sketching.</p><p>Made of high quality non-toxic cedar wood so they sharpen nicely with any quality dual-holed hand sharpener or adjustable electric sharpener, (not compatible with standard pencil sharpener). Rounded circular shape offers an effortless, fatigue-free writing experience.</p><p>Big ultra-smooth graphite core does not break easily, helps kids to grip securely, write smoothly and build language and motor skills. Applying normal pressure kids can wipe away mistaken strokes without a lot of effort. The soft, non-smudge rubbers are effective to erase completely and will not leave any pink residue behind after erasing unwanted marks. The eraser on top is held strongly with a ferrule and will not loosen easily, that keeps an eraser always in hand throughout its lifespan.</p><p>Use or gift these pencils to use in the classroom, work, or home for anything from keeping lists, making notes, sketch first drafts, brainstorm campaign ideas, filling in answers on an exam, coloring books as a highlighter, quick sketches of diy carpentry projects, solving sudoku or crossword puzzles.</p><p><b>Best N.2 Woodcase Pencils Supplies for You, Your Children, Students, Family, or Workmates, Order Now!!!</b></p>   \n",
       "3  <p><b>Emraw Pre-Sharpened #2 HB Wood Pencils - Pack of 6 Pre-Schoolers Pencils</b></p><p>Looking for pencils for kid, office or every day general purpose repetitive use? Tired of pencils that do not sharpen well? Disappointed having broken leads repeatedly? Or, looking for pencils that require less sharpening and lasts longer?</p><p>Search no further, Emraw num 2 jumbo pencils pack have you covered. You just found the best deal. You will just love them. Just the right size for pre-kindergarten toddlers. Perfect for elderly hands having difficulty grasping smaller items. Each pencil is pre-sharpened so you can literally pick straight from the box and start using. HB (no2) hardness grading with thicker leads make them perfect for most types of writing or sketching.</p><p>Made of high quality non-toxic cedar wood so they sharpen nicely with any quality dual-holed hand sharpener or adjustable electric sharpener (1 Sharpener Included). Rounded triangular shape offers an effortless, fatigue-free writing experience and won't roll off inclined desks or tables.</p><p>Big ultra-smooth graphite core does not break easily, helps kids to grip securely, write smoothly and build language and motor skills. Applying normal pressure kids can wipe away mistaken strokes without a lot of effort. The soft, non-smudge rubbers are effective to erase completely and will not leave any pink residue behind after erasing unwanted marks. The eraser on top is held strongly with a ferrule and will not loosen easily, that keeps an eraser always in hand throughout its lifespan.</p><p>Use the or gift these pencils to use in the classroom, work, or home for anything from keeping lists, making notes, sketch first drafts, brainstorm campaign ideas, filling in answers on an exam, coloring books as a highlighter, quick sketches of diy carpentry projects, solving sudoku or crossword puzzles.</p><p><b>Best N.2 Woodcase Pencils Supplies for You, Your Students, Family, or Workmates, Order Now!!!</b></p>   \n",
       "4                                                                                                                                                                                                                                                                                                                                                                                                                                                                                                                                                                                                                                                                                                                                                                                                                                                                                                                                                                                                                                                                                                                                                                                                                                                                                                                                                                                                                                                                                                                                                                                                                                                                                                                                                                                                                                                                                                                                                                                                                                                                               \n",
       "\n",
       "                                                                                                                                                                                                                                                                                                                                                                                                                                                                                                                                                                                                                                                                                                                                                                                                                                                                                                                                                                                                                                                                                                                                                                                                                           product_bullet_point  \\\n",
       "0                                                                                                                                                                                                                                                                                                                                                                                                                                                                                                                                                                                                                                                                                                                                                                                                                                                                                                    144 woodcase #2 HB pencils made from high-quality wood for clean, easy sharpening\\nStrong medium-soft lead produces long-lasting, smooth, readable strokes\\nRounded hexagonal shape with satin-smooth finish for a secure, comfortable grip\\nSoft, smudge-free, latex-free eraser secured to the end for conveniently wiping away mistakes   \n",
       "1                                                                                                                                                                                                                  &#11088; UN-SHARPENED #2 PREMIUM PENCILS. Each pack comes with 12 un-sharpened pencils. Unlike most others out there, these allow kids the simple joy of sharpening a brand new pencil for the very 1st time!\\n&#11088; CLASSIC BARREL. Made from premium-quality wood pencil is bonded with a break-resistant number two core for smooth writing as easily erased. Hexagonal shape prevents rolling and comfortable to hold.\\n&#11088; QUALITY. Pencils are #2 HB for general writing, drawing and sketching. Pencils glide smoothly over paper and is highly break resistant. Pencils include a smudge-resistant eraser top for convenience.\\n&#11088; LATEX-FREE ERASER. The smudge-less eraser is latex-free, which provides enough toughness for heavy erasures. These smudge-free erasers wipe the page clean, making corrections easy and fast.\\n&#11088; WIDE APPLICATION. Suitable for all general writing applications such as notes, letters, and you can use it for office, classroom, home and other occasions.   \n",
       "2  ✓ PACK OF 8 NUMBER 2 PRESHARPENED BEGINNERS PENCILS: Emraw round sharpened pencils set contains 2 packs of 4 general no.2 hb pencils with latex-free rubber erasers top, total 8 primary size yellow preschool pencils, good for little hands\\n✓ SUPERIOR NATURAL GRIP AND FEEL: Rounded triangular wooden casing blends ergonomic design for kids small hands in mind that allows your beginner writer a firm grip to comfortably hold and practice to write, scribble or tracing for hours\\n✓ CLASSIC YELLOW BARREL WOOD-CASED PENCILS: Premium pencils made from high-quality wood for easy clean sharpening, 3.25 mm thick break-resistant graphite lead requires less sharpening, produces dark long-lasting, readable, consistent strokes\\n✓ EASILY ERASABLE - MAKES DO-OVERS A BREEZE: Unwanted marks are easy to erase, offers clean corrections without tearing the paper. Soft, non-smudge rubbers are effective to erase marks completely and will not leave any residue behind\\n✓ VERSATILE WIDE APPLICATION: Suitable for kids, boys girls, teens, adults. Perfect for students in kindergarten school exam or college, teacher in classroom and general use: workshops, corporate office, meeting, sketching, writing, drawing   \n",
       "3           ✓ PACK OF 6 NUMBER 2 PRESHARPENED BEGINNERS PENCILS: Emraw triangle sharpened pencils set contains 2 packs of 3 general no.2 hb pencils with latex-free rubber erasers top, total 6 primary size yellow preschool pencils, good for little hands\\n✓ SUPERIOR NATURAL GRIP AND FEEL: Rounded triangular wooden casing blends ergonomic design for kids small hands in mind that allows your beginner writer a firm grip and comfortably hold and practice to write, scribble or tracing for hours\\n✓ CLASSIC YELLOW BARREL WOOD-CASED PENCILS: Made from high-quality wood for easy clean sharpening, 3.25 mm thick break-resistant graphite lead requires less sharpening and produces dark long-lasting, readable, consistent strokes\\n✓ EASILY ERASABLE - MAKES DO-OVERS A BREEZE: Unwanted marks are easy to erase, offers clean corrections without tearing the paper. Soft, non-smudge rubbers are effective to erase marks completely and will not leave any residue behind\\n✓ VERSATILE WIDE APPLICATION: Suitable for kids, boys girls, teens, adults. Perfect for students in kindergarten school or college exam, teacher in classroom and general use: workshops, corporate office, meeting, sketching, writing, drawing   \n",
       "4                                                                                                                                                                                                                                                                                                                                                                                                                                                                                                                                                                                                                                                                                                                                                                                                                                                                                                                                                                      Premium #2 HB lead pencils with break-resistant lead and splinter-free barrels\\nDurable, long-lasting leads and erasers\\nLatex-free erasers easily erase stray marks\\nTrendy and modern gray barrels\\nPack of 24 certified non-toxic pencils ideal for home or classroom   \n",
       "\n",
       "    product_brand product_color_name product_locale  \\\n",
       "0   Amazon Basics             Yellow             us   \n",
       "1  BAZIC Products           12-count             us   \n",
       "2           Emraw             Yellow             us   \n",
       "3           Emraw             Yellow             us   \n",
       "4    Design House               Gray             us   \n",
       "\n",
       "                                                                                                                                                                                                                                                                                                                                                                                                                                                                                                                                                                                                                                                                                                                                                                                                                                                                                                                                                                                                                                                                                                                                                                                                                                                                                                                                                                                                                                                                                                                                                                                                                                                                                                                                                                                                                                                                                                                                                                                                                                                                                                                                                                                                                                                                                                                                                                                                                                                                                                                                                                                                                                                                                                                                                                                                                                                                                                                                                                                                                                                                                                                                                                                                                                                                                                                                                                              product_input  \n",
       "0                                                                                                                                                                                                                                                                                                                                                                                                                                                                                                                                                                                                                                                                                                                                                                                                                                                                                                                                                                                                                                                                                                                                                                                                                                                                                                                                                                                                                                                                                                                                                                                                                                                                                                                                                                                                                                                                                                                                                                                                                                                                                                                                                                                                                                                                                                                                                                                                                                                                                                                                                                                                                                                                                                                                                                                                                                                                                                                                                                  Amazon Basics Woodcased #2 Pencils, Unsharpened, HB Lead - Box of 144, Bulk Box us  144 woodcase #2 HB pencils made from high-quality wood for clean, easy sharpeningStrong medium-soft lead produces long-lasting, smooth, readable strokesRounded hexagonal shape with satin-smooth finish for a secure, comfortable gripSoft, smudge-free, latex-free eraser secured to the end for conveniently wiping away mistakes  \n",
       "1                                                                                                                                                                                                                                                                                                                                                                                                                                                                                                                                                                                                                                                                                                                                                                                                                                                                                                                                                                                                                                                                                                                                                                          BAZIC Pencil #2 HB Pencils, Latex Free Eraser, Wood Free Yellow Unsharpened Pencils for Exam School Office (12/Pack), 1-Pack us BACK TO BAZICOur goal is to provide each customer with long-lasting supplies at an affordable cost. Since 1998, we’ve delivered on this promise and will only continue to improve every year. We’ve built our brand on integrity and quality, so customers know exactly what to expect. COMMITTED TO VALUESWe are a value-driven company, guided by the principles of excellence through strong product design at low cost. Our commitment to these values is reflected in our dedication to improving current products and developing new exciting products for our consumers. FOCUSED ON OUR MISSIONOur currency is ideas. We thrive on imagination, passion and leadership. We have great products and will to continue to rise with our customer expectations. SUCCESS BASED ON SATISFACTIONEach and every product we send out, we expect our 100% customer satisfaction. While our supplies are sourced from all across the world, our success stems from individual consumer fulfillment. We create products that people want to recommend to others. &#11088; UN-SHARPENED #2 PREMIUM PENCILS. Each pack comes with 12 un-sharpened pencils. Unlike most others out there, these allow kids the simple joy of sharpening a brand new pencil for the very 1st time!&#11088; CLASSIC BARREL. Made from premium-quality wood pencil is bonded with a break-resistant number two core for smooth writing as easily erased. Hexagonal shape prevents rolling and comfortable to hold.&#11088; QUALITY. Pencils are #2 HB for general writing, drawing and sketching. Pencils glide smoothly over paper and is highly break resistant. Pencils include a smudge-resistant eraser top for convenience.&#11088; LATEX-FREE ERASER. The smudge-less eraser is latex-free, which provides enough toughness for heavy erasures. These smudge-free erasers wipe the page clean, making corrections easy and fast.&#11088; WIDE APPLICATION. Suitable for all general writing applications such as notes, letters, and you can use it for office, classroom, home and other occasions.  \n",
       "2                              Emraw Pre Sharpened Round Primary Size No 2 Jumbo Pencils for Preschoolers, Elementary Kids - Pack of 8 Premium Fat Pencils us Emraw Pre-Sharpened #2 HB Wood Pencils - Pack of 8 Pre-Schoolers PencilsLooking for pencils for kid, office or every day general purpose repetitive use? Tired of pencils that do not sharpen well? Disappointed having broken leads repeatedly? Or, looking for pencils that require less sharpening and lasts longer?Search no further, Emraw num 2 jumbo pencils pack have you covered. You just found the best deal. You will love them. Just the right size for pre-kindergarten toddlers. Perfect for elderly hands having difficulty grasping smaller items. Each pencil is pre-sharpened so you can literally pick straight from the box and start using. HB (no2) hardness grading with thicker leads make them perfect for most types of writing or sketching.Made of high quality non-toxic cedar wood so they sharpen nicely with any quality dual-holed hand sharpener or adjustable electric sharpener, (not compatible with standard pencil sharpener). Rounded circular shape offers an effortless, fatigue-free writing experience.Big ultra-smooth graphite core does not break easily, helps kids to grip securely, write smoothly and build language and motor skills. Applying normal pressure kids can wipe away mistaken strokes without a lot of effort. The soft, non-smudge rubbers are effective to erase completely and will not leave any pink residue behind after erasing unwanted marks. The eraser on top is held strongly with a ferrule and will not loosen easily, that keeps an eraser always in hand throughout its lifespan.Use or gift these pencils to use in the classroom, work, or home for anything from keeping lists, making notes, sketch first drafts, brainstorm campaign ideas, filling in answers on an exam, coloring books as a highlighter, quick sketches of diy carpentry projects, solving sudoku or crossword puzzles.Best N.2 Woodcase Pencils Supplies for You, Your Children, Students, Family, or Workmates, Order Now!!! ✓ PACK OF 8 NUMBER 2 PRESHARPENED BEGINNERS PENCILS: Emraw round sharpened pencils set contains 2 packs of 4 general no.2 hb pencils with latex-free rubber erasers top, total 8 primary size yellow preschool pencils, good for little hands✓ SUPERIOR NATURAL GRIP AND FEEL: Rounded triangular wooden casing blends ergonomic design for kids small hands in mind that allows your beginner writer a firm grip to comfortably hold and practice to write, scribble or tracing for hours✓ CLASSIC YELLOW BARREL WOOD-CASED PENCILS: Premium pencils made from high-quality wood for easy clean sharpening, 3.25 mm thick break-resistant graphite lead requires less sharpening, produces dark long-lasting, readable, consistent strokes✓ EASILY ERASABLE - MAKES DO-OVERS A BREEZE: Unwanted marks are easy to erase, offers clean corrections without tearing the paper. Soft, non-smudge rubbers are effective to erase marks completely and will not leave any residue behind✓ VERSATILE WIDE APPLICATION: Suitable for kids, boys girls, teens, adults. Perfect for students in kindergarten school exam or college, teacher in classroom and general use: workshops, corporate office, meeting, sketching, writing, drawing  \n",
       "3  Emraw Pre Sharpened Triangular Primary Size No 2 Jumbo Pencils for Preschoolers, Elementary Kids - Pack of 6 Fat Pencils with Bonus Sharpener us Emraw Pre-Sharpened #2 HB Wood Pencils - Pack of 6 Pre-Schoolers PencilsLooking for pencils for kid, office or every day general purpose repetitive use? Tired of pencils that do not sharpen well? Disappointed having broken leads repeatedly? Or, looking for pencils that require less sharpening and lasts longer?Search no further, Emraw num 2 jumbo pencils pack have you covered. You just found the best deal. You will just love them. Just the right size for pre-kindergarten toddlers. Perfect for elderly hands having difficulty grasping smaller items. Each pencil is pre-sharpened so you can literally pick straight from the box and start using. HB (no2) hardness grading with thicker leads make them perfect for most types of writing or sketching.Made of high quality non-toxic cedar wood so they sharpen nicely with any quality dual-holed hand sharpener or adjustable electric sharpener (1 Sharpener Included). Rounded triangular shape offers an effortless, fatigue-free writing experience and won't roll off inclined desks or tables.Big ultra-smooth graphite core does not break easily, helps kids to grip securely, write smoothly and build language and motor skills. Applying normal pressure kids can wipe away mistaken strokes without a lot of effort. The soft, non-smudge rubbers are effective to erase completely and will not leave any pink residue behind after erasing unwanted marks. The eraser on top is held strongly with a ferrule and will not loosen easily, that keeps an eraser always in hand throughout its lifespan.Use the or gift these pencils to use in the classroom, work, or home for anything from keeping lists, making notes, sketch first drafts, brainstorm campaign ideas, filling in answers on an exam, coloring books as a highlighter, quick sketches of diy carpentry projects, solving sudoku or crossword puzzles.Best N.2 Woodcase Pencils Supplies for You, Your Students, Family, or Workmates, Order Now!!! ✓ PACK OF 6 NUMBER 2 PRESHARPENED BEGINNERS PENCILS: Emraw triangle sharpened pencils set contains 2 packs of 3 general no.2 hb pencils with latex-free rubber erasers top, total 6 primary size yellow preschool pencils, good for little hands✓ SUPERIOR NATURAL GRIP AND FEEL: Rounded triangular wooden casing blends ergonomic design for kids small hands in mind that allows your beginner writer a firm grip and comfortably hold and practice to write, scribble or tracing for hours✓ CLASSIC YELLOW BARREL WOOD-CASED PENCILS: Made from high-quality wood for easy clean sharpening, 3.25 mm thick break-resistant graphite lead requires less sharpening and produces dark long-lasting, readable, consistent strokes✓ EASILY ERASABLE - MAKES DO-OVERS A BREEZE: Unwanted marks are easy to erase, offers clean corrections without tearing the paper. Soft, non-smudge rubbers are effective to erase marks completely and will not leave any residue behind✓ VERSATILE WIDE APPLICATION: Suitable for kids, boys girls, teens, adults. Perfect for students in kindergarten school or college exam, teacher in classroom and general use: workshops, corporate office, meeting, sketching, writing, drawing  \n",
       "4                                                                                                                                                                                                                                                                                                                                                                                                                                                                                                                                                                                                                                                                                                                                                                                                                                                                                                                                                                                                                                                                                                                                                                                                                                                                                                                                                                                                                                                                                                                                                                                                                                                                                                                                                                                                                                                                                                                                                                                                                                                                                                                                                                                                                                                                                                                                                                                                                                                                                                                                                                                                                                                                                                                                                                                                                                                                                                                                                                                                                                            BIC Evolution Cased Pencil, #2 Lead, Gray Barrel, 24-Count (PGEBP241-BLK) us  Premium #2 HB lead pencils with break-resistant lead and splinter-free barrelsDurable, long-lasting leads and erasersLatex-free erasers easily erase stray marksTrendy and modern gray barrelsPack of 24 certified non-toxic pencils ideal for home or classroom  "
      ]
     },
     "execution_count": 15,
     "metadata": {},
     "output_type": "execute_result"
    }
   ],
   "source": [
    "prod_cat.head()"
   ]
  },
  {
   "cell_type": "code",
   "execution_count": 16,
   "id": "5313a035",
   "metadata": {
    "execution": {
     "iopub.execute_input": "2022-06-23T02:22:08.101365Z",
     "iopub.status.busy": "2022-06-23T02:22:08.100940Z",
     "iopub.status.idle": "2022-06-23T02:22:09.934556Z",
     "shell.execute_reply": "2022-06-23T02:22:09.933220Z"
    },
    "papermill": {
     "duration": 1.852351,
     "end_time": "2022-06-23T02:22:09.938109",
     "exception": false,
     "start_time": "2022-06-23T02:22:08.085758",
     "status": "completed"
    },
    "tags": []
   },
   "outputs": [],
   "source": [
    "from sklearn.model_selection import train_test_split\n",
    "train = []\n",
    "test = []\n",
    "for local, _df in prod_cat.groupby(['product_locale']):\n",
    "    train_df, test_df = train_test_split(_df, test_size=0.3, random_state=9)\n",
    "    train.append(train_df)\n",
    "    test.append(test_df)"
   ]
  },
  {
   "cell_type": "code",
   "execution_count": 17,
   "id": "42e3fc84",
   "metadata": {
    "execution": {
     "iopub.execute_input": "2022-06-23T02:22:09.972072Z",
     "iopub.status.busy": "2022-06-23T02:22:09.971717Z",
     "iopub.status.idle": "2022-06-23T02:22:10.168057Z",
     "shell.execute_reply": "2022-06-23T02:22:10.166720Z"
    },
    "papermill": {
     "duration": 0.213328,
     "end_time": "2022-06-23T02:22:10.171141",
     "exception": false,
     "start_time": "2022-06-23T02:22:09.957813",
     "status": "completed"
    },
    "tags": []
   },
   "outputs": [],
   "source": [
    "train_df = pd.concat(train, ignore_index=True)\n",
    "test_df = pd.concat(test, ignore_index=True)"
   ]
  },
  {
   "cell_type": "code",
   "execution_count": 18,
   "id": "abc98a32",
   "metadata": {
    "execution": {
     "iopub.execute_input": "2022-06-23T02:22:10.200674Z",
     "iopub.status.busy": "2022-06-23T02:22:10.200229Z",
     "iopub.status.idle": "2022-06-23T02:22:10.208818Z",
     "shell.execute_reply": "2022-06-23T02:22:10.207498Z"
    },
    "papermill": {
     "duration": 0.026106,
     "end_time": "2022-06-23T02:22:10.211580",
     "exception": false,
     "start_time": "2022-06-23T02:22:10.185474",
     "status": "completed"
    },
    "tags": []
   },
   "outputs": [
    {
     "data": {
      "text/plain": [
       "((618706, 8), (265162, 8))"
      ]
     },
     "execution_count": 18,
     "metadata": {},
     "output_type": "execute_result"
    }
   ],
   "source": [
    "train_df.shape, test_df.shape"
   ]
  },
  {
   "cell_type": "code",
   "execution_count": 19,
   "id": "3539841a",
   "metadata": {
    "execution": {
     "iopub.execute_input": "2022-06-23T02:22:10.243015Z",
     "iopub.status.busy": "2022-06-23T02:22:10.241158Z",
     "iopub.status.idle": "2022-06-23T02:22:10.481798Z",
     "shell.execute_reply": "2022-06-23T02:22:10.480587Z"
    },
    "papermill": {
     "duration": 0.259692,
     "end_time": "2022-06-23T02:22:10.484953",
     "exception": false,
     "start_time": "2022-06-23T02:22:10.225261",
     "status": "completed"
    },
    "tags": []
   },
   "outputs": [],
   "source": [
    "train_df = train_df[['product_input']].reset_index(drop=True)\n",
    "test_df = test_df[['product_input']].reset_index(drop=True)"
   ]
  },
  {
   "cell_type": "code",
   "execution_count": 20,
   "id": "446e6f5d",
   "metadata": {
    "execution": {
     "iopub.execute_input": "2022-06-23T02:22:10.515100Z",
     "iopub.status.busy": "2022-06-23T02:22:10.514712Z",
     "iopub.status.idle": "2022-06-23T02:22:10.523082Z",
     "shell.execute_reply": "2022-06-23T02:22:10.521702Z"
    },
    "papermill": {
     "duration": 0.025992,
     "end_time": "2022-06-23T02:22:10.525839",
     "exception": false,
     "start_time": "2022-06-23T02:22:10.499847",
     "status": "completed"
    },
    "tags": []
   },
   "outputs": [
    {
     "data": {
      "text/plain": [
       "((618706, 1), (265162, 1))"
      ]
     },
     "execution_count": 20,
     "metadata": {},
     "output_type": "execute_result"
    }
   ],
   "source": [
    "train_df.shape, test_df.shape"
   ]
  },
  {
   "cell_type": "code",
   "execution_count": 21,
   "id": "b826b0fd",
   "metadata": {
    "execution": {
     "iopub.execute_input": "2022-06-23T02:22:10.554523Z",
     "iopub.status.busy": "2022-06-23T02:22:10.554146Z",
     "iopub.status.idle": "2022-06-23T02:22:13.850940Z",
     "shell.execute_reply": "2022-06-23T02:22:13.849636Z"
    },
    "papermill": {
     "duration": 3.31441,
     "end_time": "2022-06-23T02:22:13.853899",
     "exception": false,
     "start_time": "2022-06-23T02:22:10.539489",
     "status": "completed"
    },
    "tags": []
   },
   "outputs": [],
   "source": [
    "dataset = DatasetDict({\n",
    "        'train': Dataset.from_pandas(train_df),\n",
    "        'test': Dataset.from_pandas(test_df),\n",
    "    }   \n",
    ")"
   ]
  },
  {
   "cell_type": "code",
   "execution_count": 22,
   "id": "6aa37213",
   "metadata": {
    "execution": {
     "iopub.execute_input": "2022-06-23T02:22:13.884115Z",
     "iopub.status.busy": "2022-06-23T02:22:13.883733Z",
     "iopub.status.idle": "2022-06-23T02:22:13.888784Z",
     "shell.execute_reply": "2022-06-23T02:22:13.887470Z"
    },
    "papermill": {
     "duration": 0.022648,
     "end_time": "2022-06-23T02:22:13.891673",
     "exception": false,
     "start_time": "2022-06-23T02:22:13.869025",
     "status": "completed"
    },
    "tags": []
   },
   "outputs": [],
   "source": [
    "# Data collator used for language modeling. \n",
    "# Inputs are dynamically padded to the maximum length of a batch \n",
    "# if they are not all of the same length."
   ]
  },
  {
   "cell_type": "code",
   "execution_count": 23,
   "id": "ea357822",
   "metadata": {
    "execution": {
     "iopub.execute_input": "2022-06-23T02:22:13.920614Z",
     "iopub.status.busy": "2022-06-23T02:22:13.920256Z",
     "iopub.status.idle": "2022-06-23T02:22:13.926155Z",
     "shell.execute_reply": "2022-06-23T02:22:13.924823Z"
    },
    "papermill": {
     "duration": 0.023273,
     "end_time": "2022-06-23T02:22:13.928731",
     "exception": false,
     "start_time": "2022-06-23T02:22:13.905458",
     "status": "completed"
    },
    "tags": []
   },
   "outputs": [],
   "source": [
    "def tokenize(batch):\n",
    "    # truncate to max_length if length of input > max_length\n",
    "    return tokenizer(batch['product_input'], truncation=True, max_length=128, return_special_tokens_mask=True)"
   ]
  },
  {
   "cell_type": "code",
   "execution_count": 24,
   "id": "44f62ea6",
   "metadata": {
    "execution": {
     "iopub.execute_input": "2022-06-23T02:22:13.957678Z",
     "iopub.status.busy": "2022-06-23T02:22:13.957364Z",
     "iopub.status.idle": "2022-06-23T02:41:25.868697Z",
     "shell.execute_reply": "2022-06-23T02:41:25.867494Z"
    },
    "papermill": {
     "duration": 1151.92919,
     "end_time": "2022-06-23T02:41:25.871605",
     "exception": false,
     "start_time": "2022-06-23T02:22:13.942415",
     "status": "completed"
    },
    "tags": []
   },
   "outputs": [
    {
     "data": {
      "application/vnd.jupyter.widget-view+json": {
       "model_id": "27e6d87edea54e61a5d76b3d13554345",
       "version_major": 2,
       "version_minor": 0
      },
      "text/plain": [
       "  0%|          | 0/154677 [00:00<?, ?ba/s]"
      ]
     },
     "metadata": {},
     "output_type": "display_data"
    },
    {
     "data": {
      "application/vnd.jupyter.widget-view+json": {
       "model_id": "8e773a430953415c931fb04505981c6e",
       "version_major": 2,
       "version_minor": 0
      },
      "text/plain": [
       "  0%|          | 0/66291 [00:00<?, ?ba/s]"
      ]
     },
     "metadata": {},
     "output_type": "display_data"
    }
   ],
   "source": [
    "#dataset['train'] = dataset['train'].select([1,2,3,4,5,6,7,8,9,10])\n",
    "#dataset['test'] = dataset['test'].select([1,2,3,4,5,6,7,8,9,10])\n",
    "ds_mlm = dataset.map(tokenize, batched=True, batch_size=4)"
   ]
  },
  {
   "cell_type": "code",
   "execution_count": 25,
   "id": "51caffc0",
   "metadata": {
    "execution": {
     "iopub.execute_input": "2022-06-23T02:41:25.919055Z",
     "iopub.status.busy": "2022-06-23T02:41:25.918715Z",
     "iopub.status.idle": "2022-06-23T02:41:27.732655Z",
     "shell.execute_reply": "2022-06-23T02:41:27.731381Z"
    },
    "papermill": {
     "duration": 1.853256,
     "end_time": "2022-06-23T02:41:27.739309",
     "exception": false,
     "start_time": "2022-06-23T02:41:25.886053",
     "status": "completed"
    },
    "tags": []
   },
   "outputs": [],
   "source": [
    "ds_mlm = ds_mlm.remove_columns(['product_input'])"
   ]
  },
  {
   "cell_type": "code",
   "execution_count": 26,
   "id": "5b4dbd00",
   "metadata": {
    "execution": {
     "iopub.execute_input": "2022-06-23T02:41:27.791221Z",
     "iopub.status.busy": "2022-06-23T02:41:27.790897Z",
     "iopub.status.idle": "2022-06-23T02:41:27.829537Z",
     "shell.execute_reply": "2022-06-23T02:41:27.828307Z"
    },
    "papermill": {
     "duration": 0.07785,
     "end_time": "2022-06-23T02:41:27.832225",
     "exception": false,
     "start_time": "2022-06-23T02:41:27.754375",
     "status": "completed"
    },
    "tags": []
   },
   "outputs": [
    {
     "data": {
      "text/plain": [
       "DatasetDict({\n",
       "    train: Dataset({\n",
       "        features: ['input_ids', 'attention_mask', 'special_tokens_mask'],\n",
       "        num_rows: 618706\n",
       "    })\n",
       "    test: Dataset({\n",
       "        features: ['input_ids', 'attention_mask', 'special_tokens_mask'],\n",
       "        num_rows: 265162\n",
       "    })\n",
       "})"
      ]
     },
     "execution_count": 26,
     "metadata": {},
     "output_type": "execute_result"
    }
   ],
   "source": [
    "ds_mlm"
   ]
  },
  {
   "cell_type": "code",
   "execution_count": 27,
   "id": "d2686b3b",
   "metadata": {
    "execution": {
     "iopub.execute_input": "2022-06-23T02:41:27.861460Z",
     "iopub.status.busy": "2022-06-23T02:41:27.861113Z",
     "iopub.status.idle": "2022-06-23T02:41:27.888665Z",
     "shell.execute_reply": "2022-06-23T02:41:27.887560Z"
    },
    "papermill": {
     "duration": 0.044798,
     "end_time": "2022-06-23T02:41:27.891304",
     "exception": false,
     "start_time": "2022-06-23T02:41:27.846506",
     "status": "completed"
    },
    "tags": []
   },
   "outputs": [],
   "source": [
    "from transformers import DataCollatorForLanguageModeling, set_seed"
   ]
  },
  {
   "cell_type": "code",
   "execution_count": 28,
   "id": "ad822240",
   "metadata": {
    "execution": {
     "iopub.execute_input": "2022-06-23T02:41:27.920603Z",
     "iopub.status.busy": "2022-06-23T02:41:27.920207Z",
     "iopub.status.idle": "2022-06-23T02:41:27.930676Z",
     "shell.execute_reply": "2022-06-23T02:41:27.929504Z"
    },
    "papermill": {
     "duration": 0.028304,
     "end_time": "2022-06-23T02:41:27.933197",
     "exception": false,
     "start_time": "2022-06-23T02:41:27.904893",
     "status": "completed"
    },
    "tags": []
   },
   "outputs": [],
   "source": [
    "set_seed(3)\n",
    "data_collator = DataCollatorForLanguageModeling(tokenizer=tokenizer,mlm_probability=0.15)\n",
    "data_collator.return_tensors = \"pt\""
   ]
  },
  {
   "cell_type": "code",
   "execution_count": 29,
   "id": "e30a234f",
   "metadata": {
    "execution": {
     "iopub.execute_input": "2022-06-23T02:41:27.964008Z",
     "iopub.status.busy": "2022-06-23T02:41:27.962427Z",
     "iopub.status.idle": "2022-06-23T02:41:28.193518Z",
     "shell.execute_reply": "2022-06-23T02:41:28.192300Z"
    },
    "papermill": {
     "duration": 0.249421,
     "end_time": "2022-06-23T02:41:28.196480",
     "exception": false,
     "start_time": "2022-06-23T02:41:27.947059",
     "status": "completed"
    },
    "tags": []
   },
   "outputs": [],
   "source": [
    "import torch\n",
    "from transformers import AutoModelForMaskedLM\n",
    "from transformers import Trainer\n",
    "from transformers import TrainingArguments\n",
    "\n",
    "training_args = TrainingArguments(\n",
    "    output_dir = \"./\", \n",
    "    per_device_train_batch_size=4,\n",
    "    per_device_eval_batch_size=4,\n",
    "    evaluation_strategy=\"epoch\", \n",
    "    save_strategy=\"epoch\",\n",
    "    num_train_epochs=3,\n",
    "    log_level=\"info\", \n",
    "    report_to=\"none\",\n",
    "    save_total_limit=1,\n",
    "    fp16=torch.cuda.is_available(),\n",
    "    load_best_model_at_end=True\n",
    ")\n"
   ]
  },
  {
   "cell_type": "code",
   "execution_count": 30,
   "id": "401fac33",
   "metadata": {
    "execution": {
     "iopub.execute_input": "2022-06-23T02:41:28.226353Z",
     "iopub.status.busy": "2022-06-23T02:41:28.224899Z",
     "iopub.status.idle": "2022-06-23T02:41:33.955607Z",
     "shell.execute_reply": "2022-06-23T02:41:33.953951Z"
    },
    "papermill": {
     "duration": 5.748258,
     "end_time": "2022-06-23T02:41:33.959050",
     "exception": false,
     "start_time": "2022-06-23T02:41:28.210792",
     "status": "completed"
    },
    "tags": []
   },
   "outputs": [
    {
     "name": "stderr",
     "output_type": "stream",
     "text": [
      "Using amp half precision backend\n"
     ]
    }
   ],
   "source": [
    "trainer = Trainer(\n",
    "    model=model,\n",
    "    tokenizer=tokenizer,\n",
    "    args=training_args,\n",
    "    data_collator=data_collator,\n",
    "    train_dataset=ds_mlm['train'],\n",
    "    eval_dataset=ds_mlm['test'],\n",
    ")"
   ]
  },
  {
   "cell_type": "code",
   "execution_count": 31,
   "id": "91a0153b",
   "metadata": {
    "execution": {
     "iopub.execute_input": "2022-06-23T02:41:33.990062Z",
     "iopub.status.busy": "2022-06-23T02:41:33.989414Z"
    },
    "papermill": {
     "duration": null,
     "end_time": null,
     "exception": false,
     "start_time": "2022-06-23T02:41:33.974152",
     "status": "running"
    },
    "tags": []
   },
   "outputs": [
    {
     "name": "stderr",
     "output_type": "stream",
     "text": [
      "The following columns in the training set  don't have a corresponding argument in `DistilBertForMaskedLM.forward` and have been ignored: special_tokens_mask. If special_tokens_mask are not expected by `DistilBertForMaskedLM.forward`,  you can safely ignore this message.\n"
     ]
    },
    {
     "name": "stderr",
     "output_type": "stream",
     "text": [
      "/opt/conda/lib/python3.7/site-packages/transformers/optimization.py:309: FutureWarning: This implementation of AdamW is deprecated and will be removed in a future version. Use the PyTorch implementation torch.optim.AdamW instead, or set `no_deprecation_warning=True` to disable this warning\n",
      "  FutureWarning,\n",
      "***** Running training *****\n"
     ]
    },
    {
     "name": "stderr",
     "output_type": "stream",
     "text": [
      "  Num examples = 618706\n"
     ]
    },
    {
     "name": "stderr",
     "output_type": "stream",
     "text": [
      "  Num Epochs = 3\n"
     ]
    },
    {
     "name": "stderr",
     "output_type": "stream",
     "text": [
      "  Instantaneous batch size per device = 4\n"
     ]
    },
    {
     "name": "stderr",
     "output_type": "stream",
     "text": [
      "  Total train batch size (w. parallel, distributed & accumulation) = 4\n"
     ]
    },
    {
     "name": "stderr",
     "output_type": "stream",
     "text": [
      "  Gradient Accumulation steps = 1\n"
     ]
    },
    {
     "name": "stderr",
     "output_type": "stream",
     "text": [
      "  Total optimization steps = 464031\n"
     ]
    },
    {
     "data": {
      "text/html": [
       "\n",
       "    <div>\n",
       "      \n",
       "      <progress value='316464' max='464031' style='width:300px; height:20px; vertical-align: middle;'></progress>\n",
       "      [316464/464031 11:37:06 < 5:25:03, 7.57 it/s, Epoch 2.05/3]\n",
       "    </div>\n",
       "    <table border=\"1\" class=\"dataframe\">\n",
       "  <thead>\n",
       " <tr style=\"text-align: left;\">\n",
       "      <th>Epoch</th>\n",
       "      <th>Training Loss</th>\n",
       "      <th>Validation Loss</th>\n",
       "    </tr>\n",
       "  </thead>\n",
       "  <tbody>\n",
       "    <tr>\n",
       "      <td>1</td>\n",
       "      <td>2.093700</td>\n",
       "      <td>1.934545</td>\n",
       "    </tr>\n",
       "    <tr>\n",
       "      <td>2</td>\n",
       "      <td>1.863900</td>\n",
       "      <td>1.737707</td>\n",
       "    </tr>\n",
       "  </tbody>\n",
       "</table><p>"
      ],
      "text/plain": [
       "<IPython.core.display.HTML object>"
      ]
     },
     "metadata": {},
     "output_type": "display_data"
    },
    {
     "name": "stderr",
     "output_type": "stream",
     "text": [
      "The following columns in the evaluation set  don't have a corresponding argument in `DistilBertForMaskedLM.forward` and have been ignored: special_tokens_mask. If special_tokens_mask are not expected by `DistilBertForMaskedLM.forward`,  you can safely ignore this message.\n"
     ]
    },
    {
     "name": "stderr",
     "output_type": "stream",
     "text": [
      "***** Running Evaluation *****\n"
     ]
    },
    {
     "name": "stderr",
     "output_type": "stream",
     "text": [
      "  Num examples = 265162\n"
     ]
    },
    {
     "name": "stderr",
     "output_type": "stream",
     "text": [
      "  Batch size = 4\n"
     ]
    },
    {
     "name": "stderr",
     "output_type": "stream",
     "text": [
      "Saving model checkpoint to ./checkpoint-154677\n"
     ]
    },
    {
     "name": "stderr",
     "output_type": "stream",
     "text": [
      "Configuration saved in ./checkpoint-154677/config.json\n"
     ]
    },
    {
     "name": "stderr",
     "output_type": "stream",
     "text": [
      "Model weights saved in ./checkpoint-154677/pytorch_model.bin\n"
     ]
    },
    {
     "name": "stderr",
     "output_type": "stream",
     "text": [
      "tokenizer config file saved in ./checkpoint-154677/tokenizer_config.json\n"
     ]
    },
    {
     "name": "stderr",
     "output_type": "stream",
     "text": [
      "Special tokens file saved in ./checkpoint-154677/special_tokens_map.json\n"
     ]
    },
    {
     "name": "stderr",
     "output_type": "stream",
     "text": [
      "The following columns in the evaluation set  don't have a corresponding argument in `DistilBertForMaskedLM.forward` and have been ignored: special_tokens_mask. If special_tokens_mask are not expected by `DistilBertForMaskedLM.forward`,  you can safely ignore this message.\n"
     ]
    },
    {
     "name": "stderr",
     "output_type": "stream",
     "text": [
      "***** Running Evaluation *****\n"
     ]
    },
    {
     "name": "stderr",
     "output_type": "stream",
     "text": [
      "  Num examples = 265162\n"
     ]
    },
    {
     "name": "stderr",
     "output_type": "stream",
     "text": [
      "  Batch size = 4\n"
     ]
    },
    {
     "name": "stderr",
     "output_type": "stream",
     "text": [
      "Saving model checkpoint to ./checkpoint-309354\n"
     ]
    },
    {
     "name": "stderr",
     "output_type": "stream",
     "text": [
      "Configuration saved in ./checkpoint-309354/config.json\n"
     ]
    },
    {
     "name": "stderr",
     "output_type": "stream",
     "text": [
      "Model weights saved in ./checkpoint-309354/pytorch_model.bin\n"
     ]
    },
    {
     "name": "stderr",
     "output_type": "stream",
     "text": [
      "tokenizer config file saved in ./checkpoint-309354/tokenizer_config.json\n"
     ]
    },
    {
     "name": "stderr",
     "output_type": "stream",
     "text": [
      "Special tokens file saved in ./checkpoint-309354/special_tokens_map.json\n"
     ]
    }
   ],
   "source": [
    "import traceback\n",
    "try:\n",
    "    trainer.train()\n",
    "except:\n",
    "    print(traceback.format_exc())\n",
    "    print(\"Training stopped\")"
   ]
  },
  {
   "cell_type": "code",
   "execution_count": null,
   "id": "e77015c1",
   "metadata": {
    "papermill": {
     "duration": null,
     "end_time": null,
     "exception": null,
     "start_time": null,
     "status": "pending"
    },
    "tags": []
   },
   "outputs": [],
   "source": [
    "try:\n",
    "    trainer.save_model('/kaggle/working/')\n",
    "except:\n",
    "    print(\"Trainer save stopped\")"
   ]
  }
 ],
 "metadata": {
  "kernelspec": {
   "display_name": "Python 3",
   "language": "python",
   "name": "python3"
  },
  "language_info": {
   "codemirror_mode": {
    "name": "ipython",
    "version": 3
   },
   "file_extension": ".py",
   "mimetype": "text/x-python",
   "name": "python",
   "nbconvert_exporter": "python",
   "pygments_lexer": "ipython3",
   "version": "3.6.4"
  },
  "papermill": {
   "default_parameters": {},
   "duration": null,
   "end_time": null,
   "environment_variables": {},
   "exception": null,
   "input_path": "__notebook__.ipynb",
   "output_path": "__notebook__.ipynb",
   "parameters": {},
   "start_time": "2022-06-23T02:18:52.530412",
   "version": "2.3.4"
  }
 },
 "nbformat": 4,
 "nbformat_minor": 5
}