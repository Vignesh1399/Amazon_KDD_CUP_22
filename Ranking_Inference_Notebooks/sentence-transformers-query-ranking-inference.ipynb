{
 "cells": [
  {
   "cell_type": "code",
   "execution_count": 1,
   "id": "26a140c1",
   "metadata": {
    "_cell_guid": "b1076dfc-b9ad-4769-8c92-a6c4dae69d19",
    "_uuid": "8f2839f25d086af736a60e9eeb907d3b93b6e0e5",
    "execution": {
     "iopub.execute_input": "2022-06-25T06:02:41.436782Z",
     "iopub.status.busy": "2022-06-25T06:02:41.436430Z",
     "iopub.status.idle": "2022-06-25T06:02:41.563100Z",
     "shell.execute_reply": "2022-06-25T06:02:41.562272Z"
    },
    "papermill": {
     "duration": 0.154079,
     "end_time": "2022-06-25T06:02:41.565859",
     "exception": false,
     "start_time": "2022-06-25T06:02:41.411780",
     "status": "completed"
    },
    "tags": []
   },
   "outputs": [
    {
     "name": "stdout",
     "output_type": "stream",
     "text": [
      "/kaggle/input/sample-submission/sample_submission-v0.2.csv\n",
      "/kaggle/input/test-ranking-public/data/processed/public/task_1_query-product_ranking/test_public-v0.2.csv\n",
      "/kaggle/input/product-catalogue/data/processed/public/task_1_query-product_ranking/product_catalogue-v0.2.csv\n",
      "/kaggle/input/sentence-transformer-classification-model/config.json\n",
      "/kaggle/input/sentence-transformer-classification-model/__results__.html\n",
      "/kaggle/input/sentence-transformer-classification-model/README.md\n",
      "/kaggle/input/sentence-transformer-classification-model/tokenizer.json\n",
      "/kaggle/input/sentence-transformer-classification-model/tokenizer_config.json\n",
      "/kaggle/input/sentence-transformer-classification-model/sentence_bert_config.json\n",
      "/kaggle/input/sentence-transformer-classification-model/pytorch_model.bin\n",
      "/kaggle/input/sentence-transformer-classification-model/__notebook__.ipynb\n",
      "/kaggle/input/sentence-transformer-classification-model/config_sentence_transformers.json\n",
      "/kaggle/input/sentence-transformer-classification-model/modules.json\n",
      "/kaggle/input/sentence-transformer-classification-model/special_tokens_map.json\n",
      "/kaggle/input/sentence-transformer-classification-model/__output__.json\n",
      "/kaggle/input/sentence-transformer-classification-model/vocab.txt\n",
      "/kaggle/input/sentence-transformer-classification-model/custom.css\n",
      "/kaggle/input/sentence-transformer-classification-model/1_Pooling/config.json\n",
      "/kaggle/input/sentence-transformer-classification-model/eval/similarity_evaluation_test_pointwise_results.csv\n",
      "/kaggle/input/sentence-transformer-classification-model/2_Dense/config.json\n",
      "/kaggle/input/sentence-transformer-classification-model/2_Dense/pytorch_model.bin\n"
     ]
    }
   ],
   "source": [
    "# This Python 3 environment comes with many helpful analytics libraries installed\n",
    "# It is defined by the kaggle/python Docker image: https://github.com/kaggle/docker-python\n",
    "# For example, here's several helpful packages to load\n",
    "\n",
    "import numpy as np # linear algebra\n",
    "import pandas as pd # data processing, CSV file I/O (e.g. pd.read_csv)\n",
    "\n",
    "# Input data files are available in the read-only \"../input/\" directory\n",
    "# For example, running this (by clicking run or pressing Shift+Enter) will list all files under the input directory\n",
    "\n",
    "import os\n",
    "for dirname, _, filenames in os.walk('/kaggle/input'):\n",
    "    for filename in filenames:\n",
    "        print(os.path.join(dirname, filename))\n",
    "\n",
    "# You can write up to 20GB to the current directory (/kaggle/working/) that gets preserved as output when you create a version using \"Save & Run All\" \n",
    "# You can also write temporary files to /kaggle/temp/, but they won't be saved outside of the current session"
   ]
  },
  {
   "cell_type": "code",
   "execution_count": 2,
   "id": "925ab259",
   "metadata": {
    "execution": {
     "iopub.execute_input": "2022-06-25T06:02:41.611792Z",
     "iopub.status.busy": "2022-06-25T06:02:41.611584Z",
     "iopub.status.idle": "2022-06-25T06:02:41.615262Z",
     "shell.execute_reply": "2022-06-25T06:02:41.614492Z"
    },
    "papermill": {
     "duration": 0.028408,
     "end_time": "2022-06-25T06:02:41.617004",
     "exception": false,
     "start_time": "2022-06-25T06:02:41.588596",
     "status": "completed"
    },
    "tags": []
   },
   "outputs": [],
   "source": [
    "pd.set_option('display.max_rows', 100)\n",
    "pd.set_option('display.max_colwidth', None)"
   ]
  },
  {
   "cell_type": "code",
   "execution_count": 3,
   "id": "f395a00c",
   "metadata": {
    "execution": {
     "iopub.execute_input": "2022-06-25T06:02:41.662132Z",
     "iopub.status.busy": "2022-06-25T06:02:41.661743Z",
     "iopub.status.idle": "2022-06-25T06:02:41.916546Z",
     "shell.execute_reply": "2022-06-25T06:02:41.915826Z"
    },
    "papermill": {
     "duration": 0.280166,
     "end_time": "2022-06-25T06:02:41.919038",
     "exception": false,
     "start_time": "2022-06-25T06:02:41.638872",
     "status": "completed"
    },
    "tags": []
   },
   "outputs": [],
   "source": [
    "test_df = pd.read_csv('../input/test-ranking-public/data/processed/public/task_1_query-product_ranking/test_public-v0.2.csv')"
   ]
  },
  {
   "cell_type": "code",
   "execution_count": 4,
   "id": "10e7bb60",
   "metadata": {
    "execution": {
     "iopub.execute_input": "2022-06-25T06:02:41.985453Z",
     "iopub.status.busy": "2022-06-25T06:02:41.985162Z",
     "iopub.status.idle": "2022-06-25T06:03:13.340599Z",
     "shell.execute_reply": "2022-06-25T06:03:13.339840Z"
    },
    "papermill": {
     "duration": 31.401456,
     "end_time": "2022-06-25T06:03:13.343073",
     "exception": false,
     "start_time": "2022-06-25T06:02:41.941617",
     "status": "completed"
    },
    "tags": []
   },
   "outputs": [],
   "source": [
    "prod_cat = pd.read_csv('../input/product-catalogue/data/processed/public/task_1_query-product_ranking/product_catalogue-v0.2.csv')"
   ]
  },
  {
   "cell_type": "code",
   "execution_count": 5,
   "id": "bbb9a46c",
   "metadata": {
    "execution": {
     "iopub.execute_input": "2022-06-25T06:03:13.389398Z",
     "iopub.status.busy": "2022-06-25T06:03:13.389181Z",
     "iopub.status.idle": "2022-06-25T06:03:14.242318Z",
     "shell.execute_reply": "2022-06-25T06:03:14.241513Z"
    },
    "papermill": {
     "duration": 0.879508,
     "end_time": "2022-06-25T06:03:14.245054",
     "exception": false,
     "start_time": "2022-06-25T06:03:13.365546",
     "status": "completed"
    },
    "tags": []
   },
   "outputs": [
    {
     "data": {
      "text/plain": [
       "B07Q28DSYL    3\n",
       "B072J8XD3D    3\n",
       "B00P8XQPY4    3\n",
       "B07GK35P2C    3\n",
       "B00MH4QKP6    3\n",
       "             ..\n",
       "B07WKKDCPT    1\n",
       "B08KT518JX    1\n",
       "B001E1H7QY    1\n",
       "B005ACH8SU    1\n",
       "B09CNNHRQ1    1\n",
       "Name: product_id, Length: 879290, dtype: int64"
      ]
     },
     "execution_count": 5,
     "metadata": {},
     "output_type": "execute_result"
    }
   ],
   "source": [
    "prod_cat.head()\n",
    "prod_cat.product_id.value_counts()\n",
    "# repeating prod ids across 3 locales"
   ]
  },
  {
   "cell_type": "code",
   "execution_count": 6,
   "id": "d9c1d10d",
   "metadata": {
    "execution": {
     "iopub.execute_input": "2022-06-25T06:03:14.294071Z",
     "iopub.status.busy": "2022-06-25T06:03:14.293544Z",
     "iopub.status.idle": "2022-06-25T06:03:15.086591Z",
     "shell.execute_reply": "2022-06-25T06:03:15.085816Z"
    },
    "papermill": {
     "duration": 0.81907,
     "end_time": "2022-06-25T06:03:15.088772",
     "exception": false,
     "start_time": "2022-06-25T06:03:14.269702",
     "status": "completed"
    },
    "tags": []
   },
   "outputs": [],
   "source": [
    "query_prod_test = pd.merge(test_df, prod_cat, right_on=['product_id','product_locale'], left_on=['product_id', 'query_locale'], suffixes=('_test','_catlog'), how='left')"
   ]
  },
  {
   "cell_type": "code",
   "execution_count": 7,
   "id": "fda33024",
   "metadata": {
    "execution": {
     "iopub.execute_input": "2022-06-25T06:03:15.136058Z",
     "iopub.status.busy": "2022-06-25T06:03:15.135475Z",
     "iopub.status.idle": "2022-06-25T06:03:15.140313Z",
     "shell.execute_reply": "2022-06-25T06:03:15.139669Z"
    },
    "papermill": {
     "duration": 0.030332,
     "end_time": "2022-06-25T06:03:15.141945",
     "exception": false,
     "start_time": "2022-06-25T06:03:15.111613",
     "status": "completed"
    },
    "tags": []
   },
   "outputs": [],
   "source": [
    "def get_query_input(row):\n",
    "    query_info = str(row.get('query', '')) + ' ' + str(row.get('query_locale', ''))\n",
    "    return query_info.strip()\n",
    "\n",
    "d = {'query': 'hi hello',}\n",
    "assert get_query_input(d) == 'hi hello'\n",
    "d = {'query': 'hi hello', 'query_locale': 'en'}\n",
    "assert get_query_input(d) == 'hi hello en'"
   ]
  },
  {
   "cell_type": "code",
   "execution_count": 8,
   "id": "d1177314",
   "metadata": {
    "execution": {
     "iopub.execute_input": "2022-06-25T06:03:15.189379Z",
     "iopub.status.busy": "2022-06-25T06:03:15.188738Z",
     "iopub.status.idle": "2022-06-25T06:03:18.525851Z",
     "shell.execute_reply": "2022-06-25T06:03:18.525108Z"
    },
    "papermill": {
     "duration": 3.361933,
     "end_time": "2022-06-25T06:03:18.527895",
     "exception": false,
     "start_time": "2022-06-25T06:03:15.165962",
     "status": "completed"
    },
    "tags": []
   },
   "outputs": [],
   "source": [
    "query_prod_test.fillna('', inplace=True)\n",
    "query_prod_test['query_input'] = query_prod_test.apply(lambda row: get_query_input(row), axis=1)"
   ]
  },
  {
   "cell_type": "code",
   "execution_count": 9,
   "id": "05a910f9",
   "metadata": {
    "execution": {
     "iopub.execute_input": "2022-06-25T06:03:18.574646Z",
     "iopub.status.busy": "2022-06-25T06:03:18.574405Z",
     "iopub.status.idle": "2022-06-25T06:03:18.579209Z",
     "shell.execute_reply": "2022-06-25T06:03:18.578570Z"
    },
    "papermill": {
     "duration": 0.030022,
     "end_time": "2022-06-25T06:03:18.580790",
     "exception": false,
     "start_time": "2022-06-25T06:03:18.550768",
     "status": "completed"
    },
    "tags": []
   },
   "outputs": [],
   "source": [
    "def get_product_input(row):\n",
    "    product_columns = ['product_title', 'product_locale', 'product_description']\n",
    "    product_info = ''\n",
    "    for col in product_columns:\n",
    "        product_info += str(row.get(col, '')) + ' '\n",
    "    return product_info.strip()\n",
    "\n",
    "d = {'product_title': 'hi hello', 'product_locale': 'en', 'product_description': 'nike'}\n",
    "assert get_product_input(d) == 'hi hello en nike'"
   ]
  },
  {
   "cell_type": "code",
   "execution_count": 10,
   "id": "b8426d5c",
   "metadata": {
    "execution": {
     "iopub.execute_input": "2022-06-25T06:03:18.626805Z",
     "iopub.status.busy": "2022-06-25T06:03:18.626586Z",
     "iopub.status.idle": "2022-06-25T06:03:22.573135Z",
     "shell.execute_reply": "2022-06-25T06:03:22.572422Z"
    },
    "papermill": {
     "duration": 3.971908,
     "end_time": "2022-06-25T06:03:22.575139",
     "exception": false,
     "start_time": "2022-06-25T06:03:18.603231",
     "status": "completed"
    },
    "tags": []
   },
   "outputs": [],
   "source": [
    "query_prod_test['product_input'] = query_prod_test.apply(lambda row: get_product_input(row), axis=1)"
   ]
  },
  {
   "cell_type": "code",
   "execution_count": 11,
   "id": "fa2cfaca",
   "metadata": {
    "execution": {
     "iopub.execute_input": "2022-06-25T06:03:22.622309Z",
     "iopub.status.busy": "2022-06-25T06:03:22.621900Z",
     "iopub.status.idle": "2022-06-25T06:03:22.625535Z",
     "shell.execute_reply": "2022-06-25T06:03:22.624904Z"
    },
    "papermill": {
     "duration": 0.029174,
     "end_time": "2022-06-25T06:03:22.627175",
     "exception": false,
     "start_time": "2022-06-25T06:03:22.598001",
     "status": "completed"
    },
    "tags": []
   },
   "outputs": [],
   "source": [
    "scores = {'exact': 1.0, 'substitute': 0.1, 'complement': 0.01, 'irrelevant': 0.0}"
   ]
  },
  {
   "cell_type": "code",
   "execution_count": 12,
   "id": "cd310de7",
   "metadata": {
    "execution": {
     "iopub.execute_input": "2022-06-25T06:03:22.673350Z",
     "iopub.status.busy": "2022-06-25T06:03:22.672795Z",
     "iopub.status.idle": "2022-06-25T06:03:22.688794Z",
     "shell.execute_reply": "2022-06-25T06:03:22.688164Z"
    },
    "papermill": {
     "duration": 0.040328,
     "end_time": "2022-06-25T06:03:22.690404",
     "exception": false,
     "start_time": "2022-06-25T06:03:22.650076",
     "status": "completed"
    },
    "tags": []
   },
   "outputs": [
    {
     "data": {
      "text/html": [
       "<div>\n",
       "<style scoped>\n",
       "    .dataframe tbody tr th:only-of-type {\n",
       "        vertical-align: middle;\n",
       "    }\n",
       "\n",
       "    .dataframe tbody tr th {\n",
       "        vertical-align: top;\n",
       "    }\n",
       "\n",
       "    .dataframe thead th {\n",
       "        text-align: right;\n",
       "    }\n",
       "</style>\n",
       "<table border=\"1\" class=\"dataframe\">\n",
       "  <thead>\n",
       "    <tr style=\"text-align: right;\">\n",
       "      <th></th>\n",
       "      <th>query_id</th>\n",
       "      <th>query</th>\n",
       "      <th>query_locale</th>\n",
       "      <th>product_id</th>\n",
       "      <th>product_title</th>\n",
       "      <th>product_description</th>\n",
       "      <th>product_bullet_point</th>\n",
       "      <th>product_brand</th>\n",
       "      <th>product_color_name</th>\n",
       "      <th>product_locale</th>\n",
       "      <th>query_input</th>\n",
       "      <th>product_input</th>\n",
       "    </tr>\n",
       "  </thead>\n",
       "  <tbody>\n",
       "    <tr>\n",
       "      <th>0</th>\n",
       "      <td>33777</td>\n",
       "      <td>!qscreen fence without holes</td>\n",
       "      <td>us</td>\n",
       "      <td>B000HMCA7W</td>\n",
       "      <td>Tenax 60041989 Multi-Purpose Net, 3' x 50', Black</td>\n",
       "      <td></td>\n",
       "      <td>Mesh .70\"X.98\"\\nVirtually invisible\\nWill not rust or corrode\\nAvailable in black</td>\n",
       "      <td>Tenax</td>\n",
       "      <td>Black</td>\n",
       "      <td>us</td>\n",
       "      <td>!qscreen fence without holes us</td>\n",
       "      <td>Tenax 60041989 Multi-Purpose Net, 3' x 50', Black us</td>\n",
       "    </tr>\n",
       "    <tr>\n",
       "      <th>1</th>\n",
       "      <td>33777</td>\n",
       "      <td>!qscreen fence without holes</td>\n",
       "      <td>us</td>\n",
       "      <td>B0019Y6TTC</td>\n",
       "      <td>Garden Creations JB4710 Extendable Instant Fence</td>\n",
       "      <td></td>\n",
       "      <td>EXPANDABLE FLEXI-SCREEN stretch your fence to the width compatable with your home\\nESTHETIC DESIGN easily place your fence inside or outdoors, wood finish is a perfect match for interior home designs as well as porch finishes\\nPLANT DIVIDER perfect for flowerbeds, easily separate your plants while maintaining visual garden appeal\\nPORTABLE light weight design, easy to move from room to room\\nDURABLE fence stands on two wooden platforms, no digging or support needed</td>\n",
       "      <td>Creation's Garden Natural Products, Inc</td>\n",
       "      <td>Brown</td>\n",
       "      <td>us</td>\n",
       "      <td>!qscreen fence without holes us</td>\n",
       "      <td>Garden Creations JB4710 Extendable Instant Fence us</td>\n",
       "    </tr>\n",
       "    <tr>\n",
       "      <th>2</th>\n",
       "      <td>33777</td>\n",
       "      <td>!qscreen fence without holes</td>\n",
       "      <td>us</td>\n",
       "      <td>B001OJXVKW</td>\n",
       "      <td>Windscreen4less Heavy Duty Privacy Screen Fence in Color Solid Black 6' x 50' Brass Grommets 150 GSM - Customized</td>\n",
       "      <td></td>\n",
       "      <td>Product measures exactly 50' long x 5'8\" tall, perfect fit for a fence that’s 6 ft tall.\\nConstructed of new high density material- polyethylene, allows maximum air to go through.\\nPrevents harmful UV sun lights from damaging for up to 90%, and fabric has a 2.5” enforced binding, so it’s able to hold up even in extreme weather condition.\\n2 grommets on each side of fabric to ensure strength, and it’s easy to install.\\nHas a 3 Year Limited Warranty under normal usage and weather.</td>\n",
       "      <td>Windscreen4less</td>\n",
       "      <td>Black</td>\n",
       "      <td>us</td>\n",
       "      <td>!qscreen fence without holes us</td>\n",
       "      <td>Windscreen4less Heavy Duty Privacy Screen Fence in Color Solid Black 6' x 50' Brass Grommets 150 GSM - Customized us</td>\n",
       "    </tr>\n",
       "    <tr>\n",
       "      <th>3</th>\n",
       "      <td>33777</td>\n",
       "      <td>!qscreen fence without holes</td>\n",
       "      <td>us</td>\n",
       "      <td>B0030E1WLE</td>\n",
       "      <td>Richell Freestanding Pet Gate, Large, Origami White</td>\n",
       "      <td></td>\n",
       "      <td>Freestanding gate with side panels for safely confining pets\\nNo installation necessary; adjustable width from 39.8 to 71.3 inches\\nWide base prevents tipping; rubber feet protect floors; folds for storing\\nLow enough for people to stride over; beautiful hardwood finish. Made from Rubberwood\\nMeasures 39.8 to 71.3 by 17.7 by 20.1 inches. 1.25 inch space between wire slats, Wire is 7 gage or 0.144 inch</td>\n",
       "      <td>Richell</td>\n",
       "      <td>Origami White</td>\n",
       "      <td>us</td>\n",
       "      <td>!qscreen fence without holes us</td>\n",
       "      <td>Richell Freestanding Pet Gate, Large, Origami White us</td>\n",
       "    </tr>\n",
       "    <tr>\n",
       "      <th>4</th>\n",
       "      <td>33777</td>\n",
       "      <td>!qscreen fence without holes</td>\n",
       "      <td>us</td>\n",
       "      <td>B003VNKLIY</td>\n",
       "      <td>Regalo 192-Inch Super Wide Adjustable Baby Gate and Play Yard, 4-In-1, Bonus Kit, Includes 4 Pack of Wall Mounts</td>\n",
       "      <td></td>\n",
       "      <td>SUPERWIDE: Fits opens up to 192 inches wide and stands 28 inches tall\\n2-IN-1: Can convert from a super-wide gate to an 8-panel play yard. No tools require, quick and easy. Includes 4 pack of wall mounts\\nCONFIGURABLE: Each panel can be adjusted to fit almost any opening. Great for wide spaces, angled openings, hallway, doorway, bottom of stairs or barrier. Folds flat for storage.Wipes clean\\nDURABLE AND CONVENIENT: The all steel design is durable and convenient with a walk-through door\\nSAFETY: Designed with a walk-through door with safety locking feature. Wall mounted for added security and protection. Meets all current safety standards. For children up to 24 months and great for pets too</td>\n",
       "      <td>Regalo</td>\n",
       "      <td>White</td>\n",
       "      <td>us</td>\n",
       "      <td>!qscreen fence without holes us</td>\n",
       "      <td>Regalo 192-Inch Super Wide Adjustable Baby Gate and Play Yard, 4-In-1, Bonus Kit, Includes 4 Pack of Wall Mounts us</td>\n",
       "    </tr>\n",
       "  </tbody>\n",
       "</table>\n",
       "</div>"
      ],
      "text/plain": [
       "   query_id                         query query_locale  product_id  \\\n",
       "0     33777  !qscreen fence without holes           us  B000HMCA7W   \n",
       "1     33777  !qscreen fence without holes           us  B0019Y6TTC   \n",
       "2     33777  !qscreen fence without holes           us  B001OJXVKW   \n",
       "3     33777  !qscreen fence without holes           us  B0030E1WLE   \n",
       "4     33777  !qscreen fence without holes           us  B003VNKLIY   \n",
       "\n",
       "                                                                                                       product_title  \\\n",
       "0                                                                  Tenax 60041989 Multi-Purpose Net, 3' x 50', Black   \n",
       "1                                                                   Garden Creations JB4710 Extendable Instant Fence   \n",
       "2  Windscreen4less Heavy Duty Privacy Screen Fence in Color Solid Black 6' x 50' Brass Grommets 150 GSM - Customized   \n",
       "3                                                                Richell Freestanding Pet Gate, Large, Origami White   \n",
       "4   Regalo 192-Inch Super Wide Adjustable Baby Gate and Play Yard, 4-In-1, Bonus Kit, Includes 4 Pack of Wall Mounts   \n",
       "\n",
       "  product_description  \\\n",
       "0                       \n",
       "1                       \n",
       "2                       \n",
       "3                       \n",
       "4                       \n",
       "\n",
       "                                                                                                                                                                                                                                                                                                                                                                                                                                                                                                                                                                                                                                                                                                          product_bullet_point  \\\n",
       "0                                                                                                                                                                                                                                                                                                                                                                                                                                                                                                                                                                                                                                            Mesh .70\"X.98\"\\nVirtually invisible\\nWill not rust or corrode\\nAvailable in black   \n",
       "1                                                                                                                                                                                                                                        EXPANDABLE FLEXI-SCREEN stretch your fence to the width compatable with your home\\nESTHETIC DESIGN easily place your fence inside or outdoors, wood finish is a perfect match for interior home designs as well as porch finishes\\nPLANT DIVIDER perfect for flowerbeds, easily separate your plants while maintaining visual garden appeal\\nPORTABLE light weight design, easy to move from room to room\\nDURABLE fence stands on two wooden platforms, no digging or support needed   \n",
       "2                                                                                                                                                                                                                          Product measures exactly 50' long x 5'8\" tall, perfect fit for a fence that’s 6 ft tall.\\nConstructed of new high density material- polyethylene, allows maximum air to go through.\\nPrevents harmful UV sun lights from damaging for up to 90%, and fabric has a 2.5” enforced binding, so it’s able to hold up even in extreme weather condition.\\n2 grommets on each side of fabric to ensure strength, and it’s easy to install.\\nHas a 3 Year Limited Warranty under normal usage and weather.   \n",
       "3                                                                                                                                                                                                                                                                                                         Freestanding gate with side panels for safely confining pets\\nNo installation necessary; adjustable width from 39.8 to 71.3 inches\\nWide base prevents tipping; rubber feet protect floors; folds for storing\\nLow enough for people to stride over; beautiful hardwood finish. Made from Rubberwood\\nMeasures 39.8 to 71.3 by 17.7 by 20.1 inches. 1.25 inch space between wire slats, Wire is 7 gage or 0.144 inch   \n",
       "4  SUPERWIDE: Fits opens up to 192 inches wide and stands 28 inches tall\\n2-IN-1: Can convert from a super-wide gate to an 8-panel play yard. No tools require, quick and easy. Includes 4 pack of wall mounts\\nCONFIGURABLE: Each panel can be adjusted to fit almost any opening. Great for wide spaces, angled openings, hallway, doorway, bottom of stairs or barrier. Folds flat for storage.Wipes clean\\nDURABLE AND CONVENIENT: The all steel design is durable and convenient with a walk-through door\\nSAFETY: Designed with a walk-through door with safety locking feature. Wall mounted for added security and protection. Meets all current safety standards. For children up to 24 months and great for pets too   \n",
       "\n",
       "                             product_brand product_color_name product_locale  \\\n",
       "0                                    Tenax              Black             us   \n",
       "1  Creation's Garden Natural Products, Inc              Brown             us   \n",
       "2                          Windscreen4less              Black             us   \n",
       "3                                  Richell      Origami White             us   \n",
       "4                                   Regalo              White             us   \n",
       "\n",
       "                       query_input  \\\n",
       "0  !qscreen fence without holes us   \n",
       "1  !qscreen fence without holes us   \n",
       "2  !qscreen fence without holes us   \n",
       "3  !qscreen fence without holes us   \n",
       "4  !qscreen fence without holes us   \n",
       "\n",
       "                                                                                                          product_input  \n",
       "0                                                                  Tenax 60041989 Multi-Purpose Net, 3' x 50', Black us  \n",
       "1                                                                   Garden Creations JB4710 Extendable Instant Fence us  \n",
       "2  Windscreen4less Heavy Duty Privacy Screen Fence in Color Solid Black 6' x 50' Brass Grommets 150 GSM - Customized us  \n",
       "3                                                                Richell Freestanding Pet Gate, Large, Origami White us  \n",
       "4   Regalo 192-Inch Super Wide Adjustable Baby Gate and Play Yard, 4-In-1, Bonus Kit, Includes 4 Pack of Wall Mounts us  "
      ]
     },
     "execution_count": 12,
     "metadata": {},
     "output_type": "execute_result"
    }
   ],
   "source": [
    "query_prod_test.head()"
   ]
  },
  {
   "cell_type": "code",
   "execution_count": 13,
   "id": "8f4d5df2",
   "metadata": {
    "execution": {
     "iopub.execute_input": "2022-06-25T06:03:22.737312Z",
     "iopub.status.busy": "2022-06-25T06:03:22.736769Z",
     "iopub.status.idle": "2022-06-25T06:03:37.255858Z",
     "shell.execute_reply": "2022-06-25T06:03:37.255014Z"
    },
    "papermill": {
     "duration": 14.544597,
     "end_time": "2022-06-25T06:03:37.257949",
     "exception": false,
     "start_time": "2022-06-25T06:03:22.713352",
     "status": "completed"
    },
    "tags": []
   },
   "outputs": [
    {
     "name": "stdout",
     "output_type": "stream",
     "text": [
      "Collecting sentence-transformers\r\n",
      "  Downloading sentence-transformers-2.2.1.tar.gz (84 kB)\r\n",
      "\u001b[2K     \u001b[90m━━━━━━━━━━━━━━━━━━━━━━━━━━━━━━━━━━━━━━━\u001b[0m \u001b[32m84.0/84.0 KB\u001b[0m \u001b[31m290.9 kB/s\u001b[0m eta \u001b[36m0:00:00\u001b[0m\r\n",
      "\u001b[?25h  Preparing metadata (setup.py) ... \u001b[?25l-\b \bdone\r\n",
      "\u001b[?25hRequirement already satisfied: transformers<5.0.0,>=4.6.0 in /opt/conda/lib/python3.7/site-packages (from sentence-transformers) (4.18.0)\r\n",
      "Requirement already satisfied: tqdm in /opt/conda/lib/python3.7/site-packages (from sentence-transformers) (4.63.0)\r\n",
      "Requirement already satisfied: torch>=1.6.0 in /opt/conda/lib/python3.7/site-packages (from sentence-transformers) (1.9.1)\r\n",
      "Requirement already satisfied: torchvision in /opt/conda/lib/python3.7/site-packages (from sentence-transformers) (0.10.1)\r\n",
      "Requirement already satisfied: numpy in /opt/conda/lib/python3.7/site-packages (from sentence-transformers) (1.21.6)\r\n",
      "Requirement already satisfied: scikit-learn in /opt/conda/lib/python3.7/site-packages (from sentence-transformers) (1.0.2)\r\n",
      "Requirement already satisfied: scipy in /opt/conda/lib/python3.7/site-packages (from sentence-transformers) (1.7.3)\r\n",
      "Requirement already satisfied: nltk in /opt/conda/lib/python3.7/site-packages (from sentence-transformers) (3.2.4)\r\n",
      "Requirement already satisfied: sentencepiece in /opt/conda/lib/python3.7/site-packages (from sentence-transformers) (0.1.96)\r\n",
      "Collecting huggingface-hub>=0.8.1\r\n",
      "  Downloading huggingface_hub-0.8.1-py3-none-any.whl (101 kB)\r\n",
      "\u001b[2K     \u001b[90m━━━━━━━━━━━━━━━━━━━━━━━━━━━━━━━━━━━━━━━\u001b[0m \u001b[32m101.5/101.5 KB\u001b[0m \u001b[31m1.1 MB/s\u001b[0m eta \u001b[36m0:00:00\u001b[0m\r\n",
      "\u001b[?25hRequirement already satisfied: packaging>=20.9 in /opt/conda/lib/python3.7/site-packages (from huggingface-hub>=0.8.1->sentence-transformers) (21.3)\r\n",
      "Requirement already satisfied: pyyaml>=5.1 in /opt/conda/lib/python3.7/site-packages (from huggingface-hub>=0.8.1->sentence-transformers) (6.0)\r\n",
      "Requirement already satisfied: importlib-metadata in /opt/conda/lib/python3.7/site-packages (from huggingface-hub>=0.8.1->sentence-transformers) (4.11.3)\r\n",
      "Requirement already satisfied: typing-extensions>=3.7.4.3 in /opt/conda/lib/python3.7/site-packages (from huggingface-hub>=0.8.1->sentence-transformers) (4.2.0)\r\n",
      "Requirement already satisfied: requests in /opt/conda/lib/python3.7/site-packages (from huggingface-hub>=0.8.1->sentence-transformers) (2.27.1)\r\n",
      "Requirement already satisfied: filelock in /opt/conda/lib/python3.7/site-packages (from huggingface-hub>=0.8.1->sentence-transformers) (3.6.0)\r\n",
      "Requirement already satisfied: regex!=2019.12.17 in /opt/conda/lib/python3.7/site-packages (from transformers<5.0.0,>=4.6.0->sentence-transformers) (2021.11.10)\r\n",
      "Requirement already satisfied: sacremoses in /opt/conda/lib/python3.7/site-packages (from transformers<5.0.0,>=4.6.0->sentence-transformers) (0.0.49)\r\n",
      "Requirement already satisfied: tokenizers!=0.11.3,<0.13,>=0.11.1 in /opt/conda/lib/python3.7/site-packages (from transformers<5.0.0,>=4.6.0->sentence-transformers) (0.12.1)\r\n",
      "Requirement already satisfied: six in /opt/conda/lib/python3.7/site-packages (from nltk->sentence-transformers) (1.16.0)\r\n",
      "Requirement already satisfied: threadpoolctl>=2.0.0 in /opt/conda/lib/python3.7/site-packages (from scikit-learn->sentence-transformers) (3.1.0)\r\n",
      "Requirement already satisfied: joblib>=0.11 in /opt/conda/lib/python3.7/site-packages (from scikit-learn->sentence-transformers) (1.0.1)\r\n",
      "Requirement already satisfied: pillow>=5.3.0 in /opt/conda/lib/python3.7/site-packages (from torchvision->sentence-transformers) (9.0.1)\r\n",
      "Requirement already satisfied: pyparsing!=3.0.5,>=2.0.2 in /opt/conda/lib/python3.7/site-packages (from packaging>=20.9->huggingface-hub>=0.8.1->sentence-transformers) (3.0.7)\r\n",
      "Requirement already satisfied: zipp>=0.5 in /opt/conda/lib/python3.7/site-packages (from importlib-metadata->huggingface-hub>=0.8.1->sentence-transformers) (3.7.0)\r\n",
      "Requirement already satisfied: charset-normalizer~=2.0.0 in /opt/conda/lib/python3.7/site-packages (from requests->huggingface-hub>=0.8.1->sentence-transformers) (2.0.12)\r\n",
      "Requirement already satisfied: urllib3<1.27,>=1.21.1 in /opt/conda/lib/python3.7/site-packages (from requests->huggingface-hub>=0.8.1->sentence-transformers) (1.26.8)\r\n",
      "Requirement already satisfied: idna<4,>=2.5 in /opt/conda/lib/python3.7/site-packages (from requests->huggingface-hub>=0.8.1->sentence-transformers) (3.3)\r\n",
      "Requirement already satisfied: certifi>=2017.4.17 in /opt/conda/lib/python3.7/site-packages (from requests->huggingface-hub>=0.8.1->sentence-transformers) (2021.10.8)\r\n",
      "Requirement already satisfied: click in /opt/conda/lib/python3.7/site-packages (from sacremoses->transformers<5.0.0,>=4.6.0->sentence-transformers) (8.0.4)\r\n",
      "Building wheels for collected packages: sentence-transformers\r\n",
      "  Building wheel for sentence-transformers (setup.py) ... \u001b[?25l-\b \b\\\b \bdone\r\n",
      "\u001b[?25h  Created wheel for sentence-transformers: filename=sentence_transformers-2.2.1-py3-none-any.whl size=125774 sha256=7cf3aed7eef75283e341120833a9e8b44be458e7da849cc2bfbd7ebe9e4d65d3\r\n",
      "  Stored in directory: /root/.cache/pip/wheels/58/27/2f/708b4f002c226e57b6243769da345c650633175c7634f93365\r\n",
      "Successfully built sentence-transformers\r\n",
      "Installing collected packages: huggingface-hub, sentence-transformers\r\n",
      "  Attempting uninstall: huggingface-hub\r\n",
      "    Found existing installation: huggingface-hub 0.5.1\r\n",
      "    Uninstalling huggingface-hub-0.5.1:\r\n",
      "      Successfully uninstalled huggingface-hub-0.5.1\r\n",
      "\u001b[31mERROR: pip's dependency resolver does not currently take into account all the packages that are installed. This behaviour is the source of the following dependency conflicts.\r\n",
      "cached-path 1.1.2 requires huggingface-hub<0.6.0,>=0.0.12, but you have huggingface-hub 0.8.1 which is incompatible.\u001b[0m\u001b[31m\r\n",
      "\u001b[0mSuccessfully installed huggingface-hub-0.8.1 sentence-transformers-2.2.1\r\n",
      "\u001b[33mWARNING: Running pip as the 'root' user can result in broken permissions and conflicting behaviour with the system package manager. It is recommended to use a virtual environment instead: https://pip.pypa.io/warnings/venv\u001b[0m\u001b[33m\r\n",
      "\u001b[0m"
     ]
    }
   ],
   "source": [
    "!pip install -U sentence-transformers"
   ]
  },
  {
   "cell_type": "code",
   "execution_count": 14,
   "id": "7e0b8b37",
   "metadata": {
    "execution": {
     "iopub.execute_input": "2022-06-25T06:03:37.323313Z",
     "iopub.status.busy": "2022-06-25T06:03:37.323085Z",
     "iopub.status.idle": "2022-06-25T06:03:41.400200Z",
     "shell.execute_reply": "2022-06-25T06:03:41.399346Z"
    },
    "papermill": {
     "duration": 4.112116,
     "end_time": "2022-06-25T06:03:41.402515",
     "exception": false,
     "start_time": "2022-06-25T06:03:37.290399",
     "status": "completed"
    },
    "tags": []
   },
   "outputs": [],
   "source": [
    "from sentence_transformers import SentenceTransformer, util"
   ]
  },
  {
   "cell_type": "code",
   "execution_count": 15,
   "id": "037377e6",
   "metadata": {
    "execution": {
     "iopub.execute_input": "2022-06-25T06:03:41.476229Z",
     "iopub.status.busy": "2022-06-25T06:03:41.475555Z",
     "iopub.status.idle": "2022-06-25T06:03:49.278601Z",
     "shell.execute_reply": "2022-06-25T06:03:49.277838Z"
    },
    "papermill": {
     "duration": 7.841555,
     "end_time": "2022-06-25T06:03:49.280588",
     "exception": false,
     "start_time": "2022-06-25T06:03:41.439033",
     "status": "completed"
    },
    "tags": []
   },
   "outputs": [],
   "source": [
    "model = SentenceTransformer('../input/sentence-transformer-classification-model')"
   ]
  },
  {
   "cell_type": "code",
   "execution_count": 16,
   "id": "eefa8331",
   "metadata": {
    "execution": {
     "iopub.execute_input": "2022-06-25T06:03:49.345790Z",
     "iopub.status.busy": "2022-06-25T06:03:49.345568Z",
     "iopub.status.idle": "2022-06-25T06:03:49.381596Z",
     "shell.execute_reply": "2022-06-25T06:03:49.380933Z"
    },
    "papermill": {
     "duration": 0.069731,
     "end_time": "2022-06-25T06:03:49.383218",
     "exception": false,
     "start_time": "2022-06-25T06:03:49.313487",
     "status": "completed"
    },
    "tags": []
   },
   "outputs": [],
   "source": [
    "query_input_list = query_prod_test['query_input'].to_list()\n",
    "product_input_list = query_prod_test['product_input'].to_list()"
   ]
  },
  {
   "cell_type": "code",
   "execution_count": 17,
   "id": "43e4d10e",
   "metadata": {
    "execution": {
     "iopub.execute_input": "2022-06-25T06:03:49.447847Z",
     "iopub.status.busy": "2022-06-25T06:03:49.447650Z",
     "iopub.status.idle": "2022-06-25T06:08:46.895067Z",
     "shell.execute_reply": "2022-06-25T06:08:46.894312Z"
    },
    "papermill": {
     "duration": 297.483017,
     "end_time": "2022-06-25T06:08:46.897442",
     "exception": false,
     "start_time": "2022-06-25T06:03:49.414425",
     "status": "completed"
    },
    "tags": []
   },
   "outputs": [
    {
     "data": {
      "application/vnd.jupyter.widget-view+json": {
       "model_id": "19ec92c26b734c9f9bf6d950be45248f",
       "version_major": 2,
       "version_minor": 0
      },
      "text/plain": [
       "Batches:   0%|          | 0/5244 [00:00<?, ?it/s]"
      ]
     },
     "metadata": {},
     "output_type": "display_data"
    },
    {
     "data": {
      "application/vnd.jupyter.widget-view+json": {
       "model_id": "5a86715bf16b4669abe30ca784bf57be",
       "version_major": 2,
       "version_minor": 0
      },
      "text/plain": [
       "Batches:   0%|          | 0/5244 [00:00<?, ?it/s]"
      ]
     },
     "metadata": {},
     "output_type": "display_data"
    }
   ],
   "source": [
    "embeddings_query = model.encode(query_input_list, convert_to_tensor=True)\n",
    "embeddings_prod = model.encode(product_input_list, convert_to_tensor=True)"
   ]
  },
  {
   "cell_type": "code",
   "execution_count": 18,
   "id": "164b265e",
   "metadata": {
    "execution": {
     "iopub.execute_input": "2022-06-25T06:08:46.978772Z",
     "iopub.status.busy": "2022-06-25T06:08:46.978113Z",
     "iopub.status.idle": "2022-06-25T06:08:46.997080Z",
     "shell.execute_reply": "2022-06-25T06:08:46.994098Z"
    },
    "papermill": {
     "duration": 0.069556,
     "end_time": "2022-06-25T06:08:46.999751",
     "exception": false,
     "start_time": "2022-06-25T06:08:46.930195",
     "status": "completed"
    },
    "tags": []
   },
   "outputs": [],
   "source": [
    "cosine_scores = util.pairwise_cos_sim(embeddings_query, embeddings_prod)"
   ]
  },
  {
   "cell_type": "code",
   "execution_count": 19,
   "id": "51b32f1e",
   "metadata": {
    "execution": {
     "iopub.execute_input": "2022-06-25T06:08:47.128367Z",
     "iopub.status.busy": "2022-06-25T06:08:47.127969Z",
     "iopub.status.idle": "2022-06-25T06:08:47.134348Z",
     "shell.execute_reply": "2022-06-25T06:08:47.133339Z"
    },
    "papermill": {
     "duration": 0.062695,
     "end_time": "2022-06-25T06:08:47.138441",
     "exception": false,
     "start_time": "2022-06-25T06:08:47.075746",
     "status": "completed"
    },
    "tags": []
   },
   "outputs": [
    {
     "data": {
      "text/plain": [
       "torch.Size([167799])"
      ]
     },
     "execution_count": 19,
     "metadata": {},
     "output_type": "execute_result"
    }
   ],
   "source": [
    "cosine_scores.shape"
   ]
  },
  {
   "cell_type": "code",
   "execution_count": 20,
   "id": "cfe49ef0",
   "metadata": {
    "execution": {
     "iopub.execute_input": "2022-06-25T06:08:47.247726Z",
     "iopub.status.busy": "2022-06-25T06:08:47.247377Z",
     "iopub.status.idle": "2022-06-25T06:08:47.296981Z",
     "shell.execute_reply": "2022-06-25T06:08:47.296225Z"
    },
    "papermill": {
     "duration": 0.10615,
     "end_time": "2022-06-25T06:08:47.299275",
     "exception": false,
     "start_time": "2022-06-25T06:08:47.193125",
     "status": "completed"
    },
    "tags": []
   },
   "outputs": [],
   "source": [
    "query_prod_test['score'] = cosine_scores.tolist()"
   ]
  },
  {
   "cell_type": "code",
   "execution_count": 21,
   "id": "7be27da5",
   "metadata": {
    "execution": {
     "iopub.execute_input": "2022-06-25T06:08:47.408371Z",
     "iopub.status.busy": "2022-06-25T06:08:47.408009Z",
     "iopub.status.idle": "2022-06-25T06:08:47.435103Z",
     "shell.execute_reply": "2022-06-25T06:08:47.434251Z"
    },
    "papermill": {
     "duration": 0.0838,
     "end_time": "2022-06-25T06:08:47.437320",
     "exception": false,
     "start_time": "2022-06-25T06:08:47.353520",
     "status": "completed"
    },
    "tags": []
   },
   "outputs": [
    {
     "data": {
      "text/html": [
       "<div>\n",
       "<style scoped>\n",
       "    .dataframe tbody tr th:only-of-type {\n",
       "        vertical-align: middle;\n",
       "    }\n",
       "\n",
       "    .dataframe tbody tr th {\n",
       "        vertical-align: top;\n",
       "    }\n",
       "\n",
       "    .dataframe thead th {\n",
       "        text-align: right;\n",
       "    }\n",
       "</style>\n",
       "<table border=\"1\" class=\"dataframe\">\n",
       "  <thead>\n",
       "    <tr style=\"text-align: right;\">\n",
       "      <th></th>\n",
       "      <th>query_id</th>\n",
       "      <th>query</th>\n",
       "      <th>query_locale</th>\n",
       "      <th>product_id</th>\n",
       "      <th>product_title</th>\n",
       "      <th>product_description</th>\n",
       "      <th>product_bullet_point</th>\n",
       "      <th>product_brand</th>\n",
       "      <th>product_color_name</th>\n",
       "      <th>product_locale</th>\n",
       "      <th>query_input</th>\n",
       "      <th>product_input</th>\n",
       "      <th>score</th>\n",
       "    </tr>\n",
       "  </thead>\n",
       "  <tbody>\n",
       "    <tr>\n",
       "      <th>0</th>\n",
       "      <td>33777</td>\n",
       "      <td>!qscreen fence without holes</td>\n",
       "      <td>us</td>\n",
       "      <td>B000HMCA7W</td>\n",
       "      <td>Tenax 60041989 Multi-Purpose Net, 3' x 50', Black</td>\n",
       "      <td></td>\n",
       "      <td>Mesh .70\"X.98\"\\nVirtually invisible\\nWill not rust or corrode\\nAvailable in black</td>\n",
       "      <td>Tenax</td>\n",
       "      <td>Black</td>\n",
       "      <td>us</td>\n",
       "      <td>!qscreen fence without holes us</td>\n",
       "      <td>Tenax 60041989 Multi-Purpose Net, 3' x 50', Black us</td>\n",
       "      <td>0.308208</td>\n",
       "    </tr>\n",
       "    <tr>\n",
       "      <th>1</th>\n",
       "      <td>33777</td>\n",
       "      <td>!qscreen fence without holes</td>\n",
       "      <td>us</td>\n",
       "      <td>B0019Y6TTC</td>\n",
       "      <td>Garden Creations JB4710 Extendable Instant Fence</td>\n",
       "      <td></td>\n",
       "      <td>EXPANDABLE FLEXI-SCREEN stretch your fence to the width compatable with your home\\nESTHETIC DESIGN easily place your fence inside or outdoors, wood finish is a perfect match for interior home designs as well as porch finishes\\nPLANT DIVIDER perfect for flowerbeds, easily separate your plants while maintaining visual garden appeal\\nPORTABLE light weight design, easy to move from room to room\\nDURABLE fence stands on two wooden platforms, no digging or support needed</td>\n",
       "      <td>Creation's Garden Natural Products, Inc</td>\n",
       "      <td>Brown</td>\n",
       "      <td>us</td>\n",
       "      <td>!qscreen fence without holes us</td>\n",
       "      <td>Garden Creations JB4710 Extendable Instant Fence us</td>\n",
       "      <td>0.436759</td>\n",
       "    </tr>\n",
       "    <tr>\n",
       "      <th>2</th>\n",
       "      <td>33777</td>\n",
       "      <td>!qscreen fence without holes</td>\n",
       "      <td>us</td>\n",
       "      <td>B001OJXVKW</td>\n",
       "      <td>Windscreen4less Heavy Duty Privacy Screen Fence in Color Solid Black 6' x 50' Brass Grommets 150 GSM - Customized</td>\n",
       "      <td></td>\n",
       "      <td>Product measures exactly 50' long x 5'8\" tall, perfect fit for a fence that’s 6 ft tall.\\nConstructed of new high density material- polyethylene, allows maximum air to go through.\\nPrevents harmful UV sun lights from damaging for up to 90%, and fabric has a 2.5” enforced binding, so it’s able to hold up even in extreme weather condition.\\n2 grommets on each side of fabric to ensure strength, and it’s easy to install.\\nHas a 3 Year Limited Warranty under normal usage and weather.</td>\n",
       "      <td>Windscreen4less</td>\n",
       "      <td>Black</td>\n",
       "      <td>us</td>\n",
       "      <td>!qscreen fence without holes us</td>\n",
       "      <td>Windscreen4less Heavy Duty Privacy Screen Fence in Color Solid Black 6' x 50' Brass Grommets 150 GSM - Customized us</td>\n",
       "      <td>0.397781</td>\n",
       "    </tr>\n",
       "    <tr>\n",
       "      <th>3</th>\n",
       "      <td>33777</td>\n",
       "      <td>!qscreen fence without holes</td>\n",
       "      <td>us</td>\n",
       "      <td>B0030E1WLE</td>\n",
       "      <td>Richell Freestanding Pet Gate, Large, Origami White</td>\n",
       "      <td></td>\n",
       "      <td>Freestanding gate with side panels for safely confining pets\\nNo installation necessary; adjustable width from 39.8 to 71.3 inches\\nWide base prevents tipping; rubber feet protect floors; folds for storing\\nLow enough for people to stride over; beautiful hardwood finish. Made from Rubberwood\\nMeasures 39.8 to 71.3 by 17.7 by 20.1 inches. 1.25 inch space between wire slats, Wire is 7 gage or 0.144 inch</td>\n",
       "      <td>Richell</td>\n",
       "      <td>Origami White</td>\n",
       "      <td>us</td>\n",
       "      <td>!qscreen fence without holes us</td>\n",
       "      <td>Richell Freestanding Pet Gate, Large, Origami White us</td>\n",
       "      <td>0.440367</td>\n",
       "    </tr>\n",
       "    <tr>\n",
       "      <th>4</th>\n",
       "      <td>33777</td>\n",
       "      <td>!qscreen fence without holes</td>\n",
       "      <td>us</td>\n",
       "      <td>B003VNKLIY</td>\n",
       "      <td>Regalo 192-Inch Super Wide Adjustable Baby Gate and Play Yard, 4-In-1, Bonus Kit, Includes 4 Pack of Wall Mounts</td>\n",
       "      <td></td>\n",
       "      <td>SUPERWIDE: Fits opens up to 192 inches wide and stands 28 inches tall\\n2-IN-1: Can convert from a super-wide gate to an 8-panel play yard. No tools require, quick and easy. Includes 4 pack of wall mounts\\nCONFIGURABLE: Each panel can be adjusted to fit almost any opening. Great for wide spaces, angled openings, hallway, doorway, bottom of stairs or barrier. Folds flat for storage.Wipes clean\\nDURABLE AND CONVENIENT: The all steel design is durable and convenient with a walk-through door\\nSAFETY: Designed with a walk-through door with safety locking feature. Wall mounted for added security and protection. Meets all current safety standards. For children up to 24 months and great for pets too</td>\n",
       "      <td>Regalo</td>\n",
       "      <td>White</td>\n",
       "      <td>us</td>\n",
       "      <td>!qscreen fence without holes us</td>\n",
       "      <td>Regalo 192-Inch Super Wide Adjustable Baby Gate and Play Yard, 4-In-1, Bonus Kit, Includes 4 Pack of Wall Mounts us</td>\n",
       "      <td>0.360977</td>\n",
       "    </tr>\n",
       "  </tbody>\n",
       "</table>\n",
       "</div>"
      ],
      "text/plain": [
       "   query_id                         query query_locale  product_id  \\\n",
       "0     33777  !qscreen fence without holes           us  B000HMCA7W   \n",
       "1     33777  !qscreen fence without holes           us  B0019Y6TTC   \n",
       "2     33777  !qscreen fence without holes           us  B001OJXVKW   \n",
       "3     33777  !qscreen fence without holes           us  B0030E1WLE   \n",
       "4     33777  !qscreen fence without holes           us  B003VNKLIY   \n",
       "\n",
       "                                                                                                       product_title  \\\n",
       "0                                                                  Tenax 60041989 Multi-Purpose Net, 3' x 50', Black   \n",
       "1                                                                   Garden Creations JB4710 Extendable Instant Fence   \n",
       "2  Windscreen4less Heavy Duty Privacy Screen Fence in Color Solid Black 6' x 50' Brass Grommets 150 GSM - Customized   \n",
       "3                                                                Richell Freestanding Pet Gate, Large, Origami White   \n",
       "4   Regalo 192-Inch Super Wide Adjustable Baby Gate and Play Yard, 4-In-1, Bonus Kit, Includes 4 Pack of Wall Mounts   \n",
       "\n",
       "  product_description  \\\n",
       "0                       \n",
       "1                       \n",
       "2                       \n",
       "3                       \n",
       "4                       \n",
       "\n",
       "                                                                                                                                                                                                                                                                                                                                                                                                                                                                                                                                                                                                                                                                                                          product_bullet_point  \\\n",
       "0                                                                                                                                                                                                                                                                                                                                                                                                                                                                                                                                                                                                                                            Mesh .70\"X.98\"\\nVirtually invisible\\nWill not rust or corrode\\nAvailable in black   \n",
       "1                                                                                                                                                                                                                                        EXPANDABLE FLEXI-SCREEN stretch your fence to the width compatable with your home\\nESTHETIC DESIGN easily place your fence inside or outdoors, wood finish is a perfect match for interior home designs as well as porch finishes\\nPLANT DIVIDER perfect for flowerbeds, easily separate your plants while maintaining visual garden appeal\\nPORTABLE light weight design, easy to move from room to room\\nDURABLE fence stands on two wooden platforms, no digging or support needed   \n",
       "2                                                                                                                                                                                                                          Product measures exactly 50' long x 5'8\" tall, perfect fit for a fence that’s 6 ft tall.\\nConstructed of new high density material- polyethylene, allows maximum air to go through.\\nPrevents harmful UV sun lights from damaging for up to 90%, and fabric has a 2.5” enforced binding, so it’s able to hold up even in extreme weather condition.\\n2 grommets on each side of fabric to ensure strength, and it’s easy to install.\\nHas a 3 Year Limited Warranty under normal usage and weather.   \n",
       "3                                                                                                                                                                                                                                                                                                         Freestanding gate with side panels for safely confining pets\\nNo installation necessary; adjustable width from 39.8 to 71.3 inches\\nWide base prevents tipping; rubber feet protect floors; folds for storing\\nLow enough for people to stride over; beautiful hardwood finish. Made from Rubberwood\\nMeasures 39.8 to 71.3 by 17.7 by 20.1 inches. 1.25 inch space between wire slats, Wire is 7 gage or 0.144 inch   \n",
       "4  SUPERWIDE: Fits opens up to 192 inches wide and stands 28 inches tall\\n2-IN-1: Can convert from a super-wide gate to an 8-panel play yard. No tools require, quick and easy. Includes 4 pack of wall mounts\\nCONFIGURABLE: Each panel can be adjusted to fit almost any opening. Great for wide spaces, angled openings, hallway, doorway, bottom of stairs or barrier. Folds flat for storage.Wipes clean\\nDURABLE AND CONVENIENT: The all steel design is durable and convenient with a walk-through door\\nSAFETY: Designed with a walk-through door with safety locking feature. Wall mounted for added security and protection. Meets all current safety standards. For children up to 24 months and great for pets too   \n",
       "\n",
       "                             product_brand product_color_name product_locale  \\\n",
       "0                                    Tenax              Black             us   \n",
       "1  Creation's Garden Natural Products, Inc              Brown             us   \n",
       "2                          Windscreen4less              Black             us   \n",
       "3                                  Richell      Origami White             us   \n",
       "4                                   Regalo              White             us   \n",
       "\n",
       "                       query_input  \\\n",
       "0  !qscreen fence without holes us   \n",
       "1  !qscreen fence without holes us   \n",
       "2  !qscreen fence without holes us   \n",
       "3  !qscreen fence without holes us   \n",
       "4  !qscreen fence without holes us   \n",
       "\n",
       "                                                                                                          product_input  \\\n",
       "0                                                                  Tenax 60041989 Multi-Purpose Net, 3' x 50', Black us   \n",
       "1                                                                   Garden Creations JB4710 Extendable Instant Fence us   \n",
       "2  Windscreen4less Heavy Duty Privacy Screen Fence in Color Solid Black 6' x 50' Brass Grommets 150 GSM - Customized us   \n",
       "3                                                                Richell Freestanding Pet Gate, Large, Origami White us   \n",
       "4   Regalo 192-Inch Super Wide Adjustable Baby Gate and Play Yard, 4-In-1, Bonus Kit, Includes 4 Pack of Wall Mounts us   \n",
       "\n",
       "      score  \n",
       "0  0.308208  \n",
       "1  0.436759  \n",
       "2  0.397781  \n",
       "3  0.440367  \n",
       "4  0.360977  "
      ]
     },
     "execution_count": 21,
     "metadata": {},
     "output_type": "execute_result"
    }
   ],
   "source": [
    "query_prod_test.head()"
   ]
  },
  {
   "cell_type": "code",
   "execution_count": 22,
   "id": "5cc712c0",
   "metadata": {
    "execution": {
     "iopub.execute_input": "2022-06-25T06:08:47.552285Z",
     "iopub.status.busy": "2022-06-25T06:08:47.552033Z",
     "iopub.status.idle": "2022-06-25T06:08:53.553180Z",
     "shell.execute_reply": "2022-06-25T06:08:53.552466Z"
    },
    "papermill": {
     "duration": 6.059755,
     "end_time": "2022-06-25T06:08:53.555432",
     "exception": false,
     "start_time": "2022-06-25T06:08:47.495677",
     "status": "completed"
    },
    "tags": []
   },
   "outputs": [],
   "source": [
    "output = []\n",
    "for query_id, _df in query_prod_test.groupby(['query_id']):\n",
    "    output.append(_df.sort_values(by='score', ascending=False)[['query_id', 'query_locale', 'product_id', 'product_locale']])"
   ]
  },
  {
   "cell_type": "code",
   "execution_count": 23,
   "id": "6b98eaa4",
   "metadata": {
    "execution": {
     "iopub.execute_input": "2022-06-25T06:08:53.625334Z",
     "iopub.status.busy": "2022-06-25T06:08:53.625119Z",
     "iopub.status.idle": "2022-06-25T06:08:54.712365Z",
     "shell.execute_reply": "2022-06-25T06:08:54.711645Z"
    },
    "papermill": {
     "duration": 1.123883,
     "end_time": "2022-06-25T06:08:54.714853",
     "exception": false,
     "start_time": "2022-06-25T06:08:53.590970",
     "status": "completed"
    },
    "tags": []
   },
   "outputs": [],
   "source": [
    "output_df = pd.concat(output, ignore_index=True)"
   ]
  },
  {
   "cell_type": "code",
   "execution_count": 24,
   "id": "9b91b8ca",
   "metadata": {
    "execution": {
     "iopub.execute_input": "2022-06-25T06:08:54.785536Z",
     "iopub.status.busy": "2022-06-25T06:08:54.785311Z",
     "iopub.status.idle": "2022-06-25T06:08:54.789981Z",
     "shell.execute_reply": "2022-06-25T06:08:54.789339Z"
    },
    "papermill": {
     "duration": 0.041655,
     "end_time": "2022-06-25T06:08:54.791655",
     "exception": false,
     "start_time": "2022-06-25T06:08:54.750000",
     "status": "completed"
    },
    "tags": []
   },
   "outputs": [
    {
     "data": {
      "text/plain": [
       "(167799, 4)"
      ]
     },
     "execution_count": 24,
     "metadata": {},
     "output_type": "execute_result"
    }
   ],
   "source": [
    "output_df.shape"
   ]
  },
  {
   "cell_type": "code",
   "execution_count": 25,
   "id": "ade4e92a",
   "metadata": {
    "execution": {
     "iopub.execute_input": "2022-06-25T06:08:54.863120Z",
     "iopub.status.busy": "2022-06-25T06:08:54.862442Z",
     "iopub.status.idle": "2022-06-25T06:08:55.217773Z",
     "shell.execute_reply": "2022-06-25T06:08:55.217036Z"
    },
    "papermill": {
     "duration": 0.393705,
     "end_time": "2022-06-25T06:08:55.219875",
     "exception": false,
     "start_time": "2022-06-25T06:08:54.826170",
     "status": "completed"
    },
    "tags": []
   },
   "outputs": [],
   "source": [
    "output_df.to_csv('./output_sentence_transformers_baseline.csv', index=False)"
   ]
  },
  {
   "cell_type": "code",
   "execution_count": null,
   "id": "0a1a5a7e",
   "metadata": {
    "papermill": {
     "duration": 0.033958,
     "end_time": "2022-06-25T06:08:55.287716",
     "exception": false,
     "start_time": "2022-06-25T06:08:55.253758",
     "status": "completed"
    },
    "tags": []
   },
   "outputs": [],
   "source": []
  }
 ],
 "metadata": {
  "kernelspec": {
   "display_name": "Python 3",
   "language": "python",
   "name": "python3"
  },
  "language_info": {
   "codemirror_mode": {
    "name": "ipython",
    "version": 3
   },
   "file_extension": ".py",
   "mimetype": "text/x-python",
   "name": "python",
   "nbconvert_exporter": "python",
   "pygments_lexer": "ipython3",
   "version": "3.7.12"
  },
  "papermill": {
   "default_parameters": {},
   "duration": 385.03571,
   "end_time": "2022-06-25T06:08:57.647899",
   "environment_variables": {},
   "exception": null,
   "input_path": "__notebook__.ipynb",
   "output_path": "__notebook__.ipynb",
   "parameters": {},
   "start_time": "2022-06-25T06:02:32.612189",
   "version": "2.3.4"
  },
  "widgets": {
   "application/vnd.jupyter.widget-state+json": {
    "state": {
     "0e753371076f441aa27f8b1444b5ae30": {
      "model_module": "@jupyter-widgets/controls",
      "model_module_version": "1.5.0",
      "model_name": "ProgressStyleModel",
      "state": {
       "_model_module": "@jupyter-widgets/controls",
       "_model_module_version": "1.5.0",
       "_model_name": "ProgressStyleModel",
       "_view_count": null,
       "_view_module": "@jupyter-widgets/base",
       "_view_module_version": "1.2.0",
       "_view_name": "StyleView",
       "bar_color": null,
       "description_width": ""
      }
     },
     "159666c62cac4f9490817f7d065af316": {
      "model_module": "@jupyter-widgets/controls",
      "model_module_version": "1.5.0",
      "model_name": "FloatProgressModel",
      "state": {
       "_dom_classes": [],
       "_model_module": "@jupyter-widgets/controls",
       "_model_module_version": "1.5.0",
       "_model_name": "FloatProgressModel",
       "_view_count": null,
       "_view_module": "@jupyter-widgets/controls",
       "_view_module_version": "1.5.0",
       "_view_name": "ProgressView",
       "bar_style": "success",
       "description": "",
       "description_tooltip": null,
       "layout": "IPY_MODEL_65d7fb521a594fb1a24c80ff9d0f58f5",
       "max": 5244.0,
       "min": 0.0,
       "orientation": "horizontal",
       "style": "IPY_MODEL_5e749e7ffac14647891307cc3775240b",
       "value": 5244.0
      }
     },
     "19ec92c26b734c9f9bf6d950be45248f": {
      "model_module": "@jupyter-widgets/controls",
      "model_module_version": "1.5.0",
      "model_name": "HBoxModel",
      "state": {
       "_dom_classes": [],
       "_model_module": "@jupyter-widgets/controls",
       "_model_module_version": "1.5.0",
       "_model_name": "HBoxModel",
       "_view_count": null,
       "_view_module": "@jupyter-widgets/controls",
       "_view_module_version": "1.5.0",
       "_view_name": "HBoxView",
       "box_style": "",
       "children": [
        "IPY_MODEL_d34a3847b3954268bd61492ec749aa2e",
        "IPY_MODEL_159666c62cac4f9490817f7d065af316",
        "IPY_MODEL_6b13f61f36af4fd3bc818d8afcd7bd15"
       ],
       "layout": "IPY_MODEL_d3dc4652728d4ad382dde0776130dde1"
      }
     },
     "1a5fb6cf67c84983ae43153fb479b748": {
      "model_module": "@jupyter-widgets/base",
      "model_module_version": "1.2.0",
      "model_name": "LayoutModel",
      "state": {
       "_model_module": "@jupyter-widgets/base",
       "_model_module_version": "1.2.0",
       "_model_name": "LayoutModel",
       "_view_count": null,
       "_view_module": "@jupyter-widgets/base",
       "_view_module_version": "1.2.0",
       "_view_name": "LayoutView",
       "align_content": null,
       "align_items": null,
       "align_self": null,
       "border": null,
       "bottom": null,
       "display": null,
       "flex": null,
       "flex_flow": null,
       "grid_area": null,
       "grid_auto_columns": null,
       "grid_auto_flow": null,
       "grid_auto_rows": null,
       "grid_column": null,
       "grid_gap": null,
       "grid_row": null,
       "grid_template_areas": null,
       "grid_template_columns": null,
       "grid_template_rows": null,
       "height": null,
       "justify_content": null,
       "justify_items": null,
       "left": null,
       "margin": null,
       "max_height": null,
       "max_width": null,
       "min_height": null,
       "min_width": null,
       "object_fit": null,
       "object_position": null,
       "order": null,
       "overflow": null,
       "overflow_x": null,
       "overflow_y": null,
       "padding": null,
       "right": null,
       "top": null,
       "visibility": null,
       "width": null
      }
     },
     "327e859f5c644bfd9008fcb8bd3bdfdb": {
      "model_module": "@jupyter-widgets/controls",
      "model_module_version": "1.5.0",
      "model_name": "DescriptionStyleModel",
      "state": {
       "_model_module": "@jupyter-widgets/controls",
       "_model_module_version": "1.5.0",
       "_model_name": "DescriptionStyleModel",
       "_view_count": null,
       "_view_module": "@jupyter-widgets/base",
       "_view_module_version": "1.2.0",
       "_view_name": "StyleView",
       "description_width": ""
      }
     },
     "42ad848410bd4ea3a46c9b6b6180afd9": {
      "model_module": "@jupyter-widgets/base",
      "model_module_version": "1.2.0",
      "model_name": "LayoutModel",
      "state": {
       "_model_module": "@jupyter-widgets/base",
       "_model_module_version": "1.2.0",
       "_model_name": "LayoutModel",
       "_view_count": null,
       "_view_module": "@jupyter-widgets/base",
       "_view_module_version": "1.2.0",
       "_view_name": "LayoutView",
       "align_content": null,
       "align_items": null,
       "align_self": null,
       "border": null,
       "bottom": null,
       "display": null,
       "flex": null,
       "flex_flow": null,
       "grid_area": null,
       "grid_auto_columns": null,
       "grid_auto_flow": null,
       "grid_auto_rows": null,
       "grid_column": null,
       "grid_gap": null,
       "grid_row": null,
       "grid_template_areas": null,
       "grid_template_columns": null,
       "grid_template_rows": null,
       "height": null,
       "justify_content": null,
       "justify_items": null,
       "left": null,
       "margin": null,
       "max_height": null,
       "max_width": null,
       "min_height": null,
       "min_width": null,
       "object_fit": null,
       "object_position": null,
       "order": null,
       "overflow": null,
       "overflow_x": null,
       "overflow_y": null,
       "padding": null,
       "right": null,
       "top": null,
       "visibility": null,
       "width": null
      }
     },
     "47bdb606583045bc9c2e68b6466646af": {
      "model_module": "@jupyter-widgets/base",
      "model_module_version": "1.2.0",
      "model_name": "LayoutModel",
      "state": {
       "_model_module": "@jupyter-widgets/base",
       "_model_module_version": "1.2.0",
       "_model_name": "LayoutModel",
       "_view_count": null,
       "_view_module": "@jupyter-widgets/base",
       "_view_module_version": "1.2.0",
       "_view_name": "LayoutView",
       "align_content": null,
       "align_items": null,
       "align_self": null,
       "border": null,
       "bottom": null,
       "display": null,
       "flex": null,
       "flex_flow": null,
       "grid_area": null,
       "grid_auto_columns": null,
       "grid_auto_flow": null,
       "grid_auto_rows": null,
       "grid_column": null,
       "grid_gap": null,
       "grid_row": null,
       "grid_template_areas": null,
       "grid_template_columns": null,
       "grid_template_rows": null,
       "height": null,
       "justify_content": null,
       "justify_items": null,
       "left": null,
       "margin": null,
       "max_height": null,
       "max_width": null,
       "min_height": null,
       "min_width": null,
       "object_fit": null,
       "object_position": null,
       "order": null,
       "overflow": null,
       "overflow_x": null,
       "overflow_y": null,
       "padding": null,
       "right": null,
       "top": null,
       "visibility": null,
       "width": null
      }
     },
     "48d3474b4c1f44419ab39b5c46b9278c": {
      "model_module": "@jupyter-widgets/base",
      "model_module_version": "1.2.0",
      "model_name": "LayoutModel",
      "state": {
       "_model_module": "@jupyter-widgets/base",
       "_model_module_version": "1.2.0",
       "_model_name": "LayoutModel",
       "_view_count": null,
       "_view_module": "@jupyter-widgets/base",
       "_view_module_version": "1.2.0",
       "_view_name": "LayoutView",
       "align_content": null,
       "align_items": null,
       "align_self": null,
       "border": null,
       "bottom": null,
       "display": null,
       "flex": null,
       "flex_flow": null,
       "grid_area": null,
       "grid_auto_columns": null,
       "grid_auto_flow": null,
       "grid_auto_rows": null,
       "grid_column": null,
       "grid_gap": null,
       "grid_row": null,
       "grid_template_areas": null,
       "grid_template_columns": null,
       "grid_template_rows": null,
       "height": null,
       "justify_content": null,
       "justify_items": null,
       "left": null,
       "margin": null,
       "max_height": null,
       "max_width": null,
       "min_height": null,
       "min_width": null,
       "object_fit": null,
       "object_position": null,
       "order": null,
       "overflow": null,
       "overflow_x": null,
       "overflow_y": null,
       "padding": null,
       "right": null,
       "top": null,
       "visibility": null,
       "width": null
      }
     },
     "4edfb9df8962428b9877308e6748a398": {
      "model_module": "@jupyter-widgets/controls",
      "model_module_version": "1.5.0",
      "model_name": "HTMLModel",
      "state": {
       "_dom_classes": [],
       "_model_module": "@jupyter-widgets/controls",
       "_model_module_version": "1.5.0",
       "_model_name": "HTMLModel",
       "_view_count": null,
       "_view_module": "@jupyter-widgets/controls",
       "_view_module_version": "1.5.0",
       "_view_name": "HTMLView",
       "description": "",
       "description_tooltip": null,
       "layout": "IPY_MODEL_6d02e0a2f1624fe4b636aa838d13c8d0",
       "placeholder": "​",
       "style": "IPY_MODEL_6c62f72891b54f548c618e7476bd71b8",
       "value": "Batches: 100%"
      }
     },
     "4fe2b7af1f9744c1a0e7afaaa762a9b5": {
      "model_module": "@jupyter-widgets/controls",
      "model_module_version": "1.5.0",
      "model_name": "DescriptionStyleModel",
      "state": {
       "_model_module": "@jupyter-widgets/controls",
       "_model_module_version": "1.5.0",
       "_model_name": "DescriptionStyleModel",
       "_view_count": null,
       "_view_module": "@jupyter-widgets/base",
       "_view_module_version": "1.2.0",
       "_view_name": "StyleView",
       "description_width": ""
      }
     },
     "5a86715bf16b4669abe30ca784bf57be": {
      "model_module": "@jupyter-widgets/controls",
      "model_module_version": "1.5.0",
      "model_name": "HBoxModel",
      "state": {
       "_dom_classes": [],
       "_model_module": "@jupyter-widgets/controls",
       "_model_module_version": "1.5.0",
       "_model_name": "HBoxModel",
       "_view_count": null,
       "_view_module": "@jupyter-widgets/controls",
       "_view_module_version": "1.5.0",
       "_view_name": "HBoxView",
       "box_style": "",
       "children": [
        "IPY_MODEL_4edfb9df8962428b9877308e6748a398",
        "IPY_MODEL_adea374a8c6d48e1a8c25aeeb5bff3e1",
        "IPY_MODEL_d71755d323b8435380c224005bdbb508"
       ],
       "layout": "IPY_MODEL_48d3474b4c1f44419ab39b5c46b9278c"
      }
     },
     "5bb6dcb75be94773b16029e17174f542": {
      "model_module": "@jupyter-widgets/controls",
      "model_module_version": "1.5.0",
      "model_name": "DescriptionStyleModel",
      "state": {
       "_model_module": "@jupyter-widgets/controls",
       "_model_module_version": "1.5.0",
       "_model_name": "DescriptionStyleModel",
       "_view_count": null,
       "_view_module": "@jupyter-widgets/base",
       "_view_module_version": "1.2.0",
       "_view_name": "StyleView",
       "description_width": ""
      }
     },
     "5e749e7ffac14647891307cc3775240b": {
      "model_module": "@jupyter-widgets/controls",
      "model_module_version": "1.5.0",
      "model_name": "ProgressStyleModel",
      "state": {
       "_model_module": "@jupyter-widgets/controls",
       "_model_module_version": "1.5.0",
       "_model_name": "ProgressStyleModel",
       "_view_count": null,
       "_view_module": "@jupyter-widgets/base",
       "_view_module_version": "1.2.0",
       "_view_name": "StyleView",
       "bar_color": null,
       "description_width": ""
      }
     },
     "65d7fb521a594fb1a24c80ff9d0f58f5": {
      "model_module": "@jupyter-widgets/base",
      "model_module_version": "1.2.0",
      "model_name": "LayoutModel",
      "state": {
       "_model_module": "@jupyter-widgets/base",
       "_model_module_version": "1.2.0",
       "_model_name": "LayoutModel",
       "_view_count": null,
       "_view_module": "@jupyter-widgets/base",
       "_view_module_version": "1.2.0",
       "_view_name": "LayoutView",
       "align_content": null,
       "align_items": null,
       "align_self": null,
       "border": null,
       "bottom": null,
       "display": null,
       "flex": null,
       "flex_flow": null,
       "grid_area": null,
       "grid_auto_columns": null,
       "grid_auto_flow": null,
       "grid_auto_rows": null,
       "grid_column": null,
       "grid_gap": null,
       "grid_row": null,
       "grid_template_areas": null,
       "grid_template_columns": null,
       "grid_template_rows": null,
       "height": null,
       "justify_content": null,
       "justify_items": null,
       "left": null,
       "margin": null,
       "max_height": null,
       "max_width": null,
       "min_height": null,
       "min_width": null,
       "object_fit": null,
       "object_position": null,
       "order": null,
       "overflow": null,
       "overflow_x": null,
       "overflow_y": null,
       "padding": null,
       "right": null,
       "top": null,
       "visibility": null,
       "width": null
      }
     },
     "6b13f61f36af4fd3bc818d8afcd7bd15": {
      "model_module": "@jupyter-widgets/controls",
      "model_module_version": "1.5.0",
      "model_name": "HTMLModel",
      "state": {
       "_dom_classes": [],
       "_model_module": "@jupyter-widgets/controls",
       "_model_module_version": "1.5.0",
       "_model_name": "HTMLModel",
       "_view_count": null,
       "_view_module": "@jupyter-widgets/controls",
       "_view_module_version": "1.5.0",
       "_view_name": "HTMLView",
       "description": "",
       "description_tooltip": null,
       "layout": "IPY_MODEL_1a5fb6cf67c84983ae43153fb479b748",
       "placeholder": "​",
       "style": "IPY_MODEL_5bb6dcb75be94773b16029e17174f542",
       "value": " 5244/5244 [00:41&lt;00:00, 149.78it/s]"
      }
     },
     "6c62f72891b54f548c618e7476bd71b8": {
      "model_module": "@jupyter-widgets/controls",
      "model_module_version": "1.5.0",
      "model_name": "DescriptionStyleModel",
      "state": {
       "_model_module": "@jupyter-widgets/controls",
       "_model_module_version": "1.5.0",
       "_model_name": "DescriptionStyleModel",
       "_view_count": null,
       "_view_module": "@jupyter-widgets/base",
       "_view_module_version": "1.2.0",
       "_view_name": "StyleView",
       "description_width": ""
      }
     },
     "6d02e0a2f1624fe4b636aa838d13c8d0": {
      "model_module": "@jupyter-widgets/base",
      "model_module_version": "1.2.0",
      "model_name": "LayoutModel",
      "state": {
       "_model_module": "@jupyter-widgets/base",
       "_model_module_version": "1.2.0",
       "_model_name": "LayoutModel",
       "_view_count": null,
       "_view_module": "@jupyter-widgets/base",
       "_view_module_version": "1.2.0",
       "_view_name": "LayoutView",
       "align_content": null,
       "align_items": null,
       "align_self": null,
       "border": null,
       "bottom": null,
       "display": null,
       "flex": null,
       "flex_flow": null,
       "grid_area": null,
       "grid_auto_columns": null,
       "grid_auto_flow": null,
       "grid_auto_rows": null,
       "grid_column": null,
       "grid_gap": null,
       "grid_row": null,
       "grid_template_areas": null,
       "grid_template_columns": null,
       "grid_template_rows": null,
       "height": null,
       "justify_content": null,
       "justify_items": null,
       "left": null,
       "margin": null,
       "max_height": null,
       "max_width": null,
       "min_height": null,
       "min_width": null,
       "object_fit": null,
       "object_position": null,
       "order": null,
       "overflow": null,
       "overflow_x": null,
       "overflow_y": null,
       "padding": null,
       "right": null,
       "top": null,
       "visibility": null,
       "width": null
      }
     },
     "adea374a8c6d48e1a8c25aeeb5bff3e1": {
      "model_module": "@jupyter-widgets/controls",
      "model_module_version": "1.5.0",
      "model_name": "FloatProgressModel",
      "state": {
       "_dom_classes": [],
       "_model_module": "@jupyter-widgets/controls",
       "_model_module_version": "1.5.0",
       "_model_name": "FloatProgressModel",
       "_view_count": null,
       "_view_module": "@jupyter-widgets/controls",
       "_view_module_version": "1.5.0",
       "_view_name": "ProgressView",
       "bar_style": "success",
       "description": "",
       "description_tooltip": null,
       "layout": "IPY_MODEL_47bdb606583045bc9c2e68b6466646af",
       "max": 5244.0,
       "min": 0.0,
       "orientation": "horizontal",
       "style": "IPY_MODEL_0e753371076f441aa27f8b1444b5ae30",
       "value": 5244.0
      }
     },
     "c3e05ff224ad4142938d378776aa1ed9": {
      "model_module": "@jupyter-widgets/base",
      "model_module_version": "1.2.0",
      "model_name": "LayoutModel",
      "state": {
       "_model_module": "@jupyter-widgets/base",
       "_model_module_version": "1.2.0",
       "_model_name": "LayoutModel",
       "_view_count": null,
       "_view_module": "@jupyter-widgets/base",
       "_view_module_version": "1.2.0",
       "_view_name": "LayoutView",
       "align_content": null,
       "align_items": null,
       "align_self": null,
       "border": null,
       "bottom": null,
       "display": null,
       "flex": null,
       "flex_flow": null,
       "grid_area": null,
       "grid_auto_columns": null,
       "grid_auto_flow": null,
       "grid_auto_rows": null,
       "grid_column": null,
       "grid_gap": null,
       "grid_row": null,
       "grid_template_areas": null,
       "grid_template_columns": null,
       "grid_template_rows": null,
       "height": null,
       "justify_content": null,
       "justify_items": null,
       "left": null,
       "margin": null,
       "max_height": null,
       "max_width": null,
       "min_height": null,
       "min_width": null,
       "object_fit": null,
       "object_position": null,
       "order": null,
       "overflow": null,
       "overflow_x": null,
       "overflow_y": null,
       "padding": null,
       "right": null,
       "top": null,
       "visibility": null,
       "width": null
      }
     },
     "d34a3847b3954268bd61492ec749aa2e": {
      "model_module": "@jupyter-widgets/controls",
      "model_module_version": "1.5.0",
      "model_name": "HTMLModel",
      "state": {
       "_dom_classes": [],
       "_model_module": "@jupyter-widgets/controls",
       "_model_module_version": "1.5.0",
       "_model_name": "HTMLModel",
       "_view_count": null,
       "_view_module": "@jupyter-widgets/controls",
       "_view_module_version": "1.5.0",
       "_view_name": "HTMLView",
       "description": "",
       "description_tooltip": null,
       "layout": "IPY_MODEL_42ad848410bd4ea3a46c9b6b6180afd9",
       "placeholder": "​",
       "style": "IPY_MODEL_4fe2b7af1f9744c1a0e7afaaa762a9b5",
       "value": "Batches: 100%"
      }
     },
     "d3dc4652728d4ad382dde0776130dde1": {
      "model_module": "@jupyter-widgets/base",
      "model_module_version": "1.2.0",
      "model_name": "LayoutModel",
      "state": {
       "_model_module": "@jupyter-widgets/base",
       "_model_module_version": "1.2.0",
       "_model_name": "LayoutModel",
       "_view_count": null,
       "_view_module": "@jupyter-widgets/base",
       "_view_module_version": "1.2.0",
       "_view_name": "LayoutView",
       "align_content": null,
       "align_items": null,
       "align_self": null,
       "border": null,
       "bottom": null,
       "display": null,
       "flex": null,
       "flex_flow": null,
       "grid_area": null,
       "grid_auto_columns": null,
       "grid_auto_flow": null,
       "grid_auto_rows": null,
       "grid_column": null,
       "grid_gap": null,
       "grid_row": null,
       "grid_template_areas": null,
       "grid_template_columns": null,
       "grid_template_rows": null,
       "height": null,
       "justify_content": null,
       "justify_items": null,
       "left": null,
       "margin": null,
       "max_height": null,
       "max_width": null,
       "min_height": null,
       "min_width": null,
       "object_fit": null,
       "object_position": null,
       "order": null,
       "overflow": null,
       "overflow_x": null,
       "overflow_y": null,
       "padding": null,
       "right": null,
       "top": null,
       "visibility": null,
       "width": null
      }
     },
     "d71755d323b8435380c224005bdbb508": {
      "model_module": "@jupyter-widgets/controls",
      "model_module_version": "1.5.0",
      "model_name": "HTMLModel",
      "state": {
       "_dom_classes": [],
       "_model_module": "@jupyter-widgets/controls",
       "_model_module_version": "1.5.0",
       "_model_name": "HTMLModel",
       "_view_count": null,
       "_view_module": "@jupyter-widgets/controls",
       "_view_module_version": "1.5.0",
       "_view_name": "HTMLView",
       "description": "",
       "description_tooltip": null,
       "layout": "IPY_MODEL_c3e05ff224ad4142938d378776aa1ed9",
       "placeholder": "​",
       "style": "IPY_MODEL_327e859f5c644bfd9008fcb8bd3bdfdb",
       "value": " 5244/5244 [04:06&lt;00:00, 133.28it/s]"
      }
     }
    },
    "version_major": 2,
    "version_minor": 0
   }
  }
 },
 "nbformat": 4,
 "nbformat_minor": 5
}
