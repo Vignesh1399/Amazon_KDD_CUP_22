{
 "cells": [
  {
   "cell_type": "code",
   "execution_count": 1,
   "id": "4aa9250c",
   "metadata": {
    "_cell_guid": "b1076dfc-b9ad-4769-8c92-a6c4dae69d19",
    "_uuid": "8f2839f25d086af736a60e9eeb907d3b93b6e0e5",
    "execution": {
     "iopub.execute_input": "2022-05-30T15:49:10.495384Z",
     "iopub.status.busy": "2022-05-30T15:49:10.494519Z",
     "iopub.status.idle": "2022-05-30T15:49:10.569895Z",
     "shell.execute_reply": "2022-05-30T15:49:10.569206Z"
    },
    "papermill": {
     "duration": 0.117188,
     "end_time": "2022-05-30T15:49:10.571902",
     "exception": false,
     "start_time": "2022-05-30T15:49:10.454714",
     "status": "completed"
    },
    "tags": []
   },
   "outputs": [
    {
     "name": "stdout",
     "output_type": "stream",
     "text": [
      "/kaggle/input/sample-submission/sample_submission-v0.2.csv\n",
      "/kaggle/input/rankingmodelsentencetransformers/config.json\n",
      "/kaggle/input/rankingmodelsentencetransformers/training_args.bin\n",
      "/kaggle/input/rankingmodelsentencetransformers/tokenizer.json\n",
      "/kaggle/input/rankingmodelsentencetransformers/tokenizer_config.json\n",
      "/kaggle/input/rankingmodelsentencetransformers/pytorch_model.bin\n",
      "/kaggle/input/rankingmodelsentencetransformers/special_tokens_map.json\n",
      "/kaggle/input/rankingmodelsentencetransformers/vocab.txt\n",
      "/kaggle/input/product-catalogue/data/processed/public/task_1_query-product_ranking/product_catalogue-v0.2.csv\n",
      "/kaggle/input/test-ranking-public/data/processed/public/task_1_query-product_ranking/test_public-v0.2.csv\n"
     ]
    }
   ],
   "source": [
    "# This Python 3 environment comes with many helpful analytics libraries installed\n",
    "# It is defined by the kaggle/python Docker image: https://github.com/kaggle/docker-python\n",
    "# For example, here's several helpful packages to load\n",
    "\n",
    "import numpy as np # linear algebra\n",
    "import pandas as pd # data processing, CSV file I/O (e.g. pd.read_csv)\n",
    "\n",
    "# Input data files are available in the read-only \"../input/\" directory\n",
    "# For example, running this (by clicking run or pressing Shift+Enter) will list all files under the input directory\n",
    "\n",
    "import os\n",
    "for dirname, _, filenames in os.walk('/kaggle/input'):\n",
    "    for filename in filenames:\n",
    "        print(os.path.join(dirname, filename))\n",
    "\n",
    "# You can write up to 20GB to the current directory (/kaggle/working/) that gets preserved as output when you create a version using \"Save & Run All\" \n",
    "# You can also write temporary files to /kaggle/temp/, but they won't be saved outside of the current session"
   ]
  },
  {
   "cell_type": "code",
   "execution_count": 2,
   "id": "ebdb91e6",
   "metadata": {
    "execution": {
     "iopub.execute_input": "2022-05-30T15:49:10.649292Z",
     "iopub.status.busy": "2022-05-30T15:49:10.648938Z",
     "iopub.status.idle": "2022-05-30T15:49:23.180378Z",
     "shell.execute_reply": "2022-05-30T15:49:23.179383Z"
    },
    "papermill": {
     "duration": 12.573501,
     "end_time": "2022-05-30T15:49:23.184777",
     "exception": false,
     "start_time": "2022-05-30T15:49:10.611276",
     "status": "completed"
    },
    "tags": []
   },
   "outputs": [
    {
     "name": "stdout",
     "output_type": "stream",
     "text": [
      "Collecting datasets==2.1.0\r\n",
      "  Downloading datasets-2.1.0-py3-none-any.whl (325 kB)\r\n",
      "\u001b[2K     \u001b[90m━━━━━━━━━━━━━━━━━━━━━━━━━━━━━━━━━━━━━━━\u001b[0m \u001b[32m325.4/325.4 KB\u001b[0m \u001b[31m1.5 MB/s\u001b[0m eta \u001b[36m0:00:00\u001b[0m\r\n",
      "\u001b[?25hRequirement already satisfied: fsspec[http]>=2021.05.0 in /opt/conda/lib/python3.7/site-packages (from datasets==2.1.0) (2022.3.0)\r\n",
      "Requirement already satisfied: aiohttp in /opt/conda/lib/python3.7/site-packages (from datasets==2.1.0) (3.8.1)\r\n",
      "Requirement already satisfied: pyarrow>=5.0.0 in /opt/conda/lib/python3.7/site-packages (from datasets==2.1.0) (7.0.0)\r\n",
      "Requirement already satisfied: requests>=2.19.0 in /opt/conda/lib/python3.7/site-packages (from datasets==2.1.0) (2.27.1)\r\n",
      "Collecting responses<0.19\r\n",
      "  Downloading responses-0.18.0-py3-none-any.whl (38 kB)\r\n",
      "Requirement already satisfied: importlib-metadata in /opt/conda/lib/python3.7/site-packages (from datasets==2.1.0) (4.11.3)\r\n",
      "Requirement already satisfied: tqdm>=4.62.1 in /opt/conda/lib/python3.7/site-packages (from datasets==2.1.0) (4.63.0)\r\n",
      "Requirement already satisfied: dill in /opt/conda/lib/python3.7/site-packages (from datasets==2.1.0) (0.3.4)\r\n",
      "Collecting xxhash\r\n",
      "  Downloading xxhash-3.0.0-cp37-cp37m-manylinux_2_17_x86_64.manylinux2014_x86_64.whl (212 kB)\r\n",
      "\u001b[2K     \u001b[90m━━━━━━━━━━━━━━━━━━━━━━━━━━━━━━━━━━━━━━━\u001b[0m \u001b[32m212.2/212.2 KB\u001b[0m \u001b[31m9.0 MB/s\u001b[0m eta \u001b[36m0:00:00\u001b[0m\r\n",
      "\u001b[?25hRequirement already satisfied: huggingface-hub<1.0.0,>=0.1.0 in /opt/conda/lib/python3.7/site-packages (from datasets==2.1.0) (0.5.1)\r\n",
      "Requirement already satisfied: pandas in /opt/conda/lib/python3.7/site-packages (from datasets==2.1.0) (1.3.5)\r\n",
      "Requirement already satisfied: numpy>=1.17 in /opt/conda/lib/python3.7/site-packages (from datasets==2.1.0) (1.21.6)\r\n",
      "Requirement already satisfied: packaging in /opt/conda/lib/python3.7/site-packages (from datasets==2.1.0) (21.3)\r\n",
      "Requirement already satisfied: multiprocess in /opt/conda/lib/python3.7/site-packages (from datasets==2.1.0) (0.70.12.2)\r\n",
      "Requirement already satisfied: filelock in /opt/conda/lib/python3.7/site-packages (from huggingface-hub<1.0.0,>=0.1.0->datasets==2.1.0) (3.6.0)\r\n",
      "Requirement already satisfied: typing-extensions>=3.7.4.3 in /opt/conda/lib/python3.7/site-packages (from huggingface-hub<1.0.0,>=0.1.0->datasets==2.1.0) (4.2.0)\r\n",
      "Requirement already satisfied: pyyaml in /opt/conda/lib/python3.7/site-packages (from huggingface-hub<1.0.0,>=0.1.0->datasets==2.1.0) (6.0)\r\n",
      "Requirement already satisfied: pyparsing!=3.0.5,>=2.0.2 in /opt/conda/lib/python3.7/site-packages (from packaging->datasets==2.1.0) (3.0.7)\r\n",
      "Requirement already satisfied: certifi>=2017.4.17 in /opt/conda/lib/python3.7/site-packages (from requests>=2.19.0->datasets==2.1.0) (2021.10.8)\r\n",
      "Requirement already satisfied: idna<4,>=2.5 in /opt/conda/lib/python3.7/site-packages (from requests>=2.19.0->datasets==2.1.0) (3.3)\r\n",
      "Requirement already satisfied: urllib3<1.27,>=1.21.1 in /opt/conda/lib/python3.7/site-packages (from requests>=2.19.0->datasets==2.1.0) (1.26.8)\r\n",
      "Requirement already satisfied: charset-normalizer~=2.0.0 in /opt/conda/lib/python3.7/site-packages (from requests>=2.19.0->datasets==2.1.0) (2.0.12)\r\n",
      "Requirement already satisfied: aiosignal>=1.1.2 in /opt/conda/lib/python3.7/site-packages (from aiohttp->datasets==2.1.0) (1.2.0)\r\n",
      "Requirement already satisfied: attrs>=17.3.0 in /opt/conda/lib/python3.7/site-packages (from aiohttp->datasets==2.1.0) (21.4.0)\r\n",
      "Requirement already satisfied: multidict<7.0,>=4.5 in /opt/conda/lib/python3.7/site-packages (from aiohttp->datasets==2.1.0) (6.0.2)\r\n",
      "Requirement already satisfied: frozenlist>=1.1.1 in /opt/conda/lib/python3.7/site-packages (from aiohttp->datasets==2.1.0) (1.3.0)\r\n",
      "Requirement already satisfied: yarl<2.0,>=1.0 in /opt/conda/lib/python3.7/site-packages (from aiohttp->datasets==2.1.0) (1.7.2)\r\n",
      "Requirement already satisfied: async-timeout<5.0,>=4.0.0a3 in /opt/conda/lib/python3.7/site-packages (from aiohttp->datasets==2.1.0) (4.0.2)\r\n",
      "Requirement already satisfied: asynctest==0.13.0 in /opt/conda/lib/python3.7/site-packages (from aiohttp->datasets==2.1.0) (0.13.0)\r\n",
      "Requirement already satisfied: zipp>=0.5 in /opt/conda/lib/python3.7/site-packages (from importlib-metadata->datasets==2.1.0) (3.7.0)\r\n",
      "Requirement already satisfied: python-dateutil>=2.7.3 in /opt/conda/lib/python3.7/site-packages (from pandas->datasets==2.1.0) (2.8.2)\r\n",
      "Requirement already satisfied: pytz>=2017.3 in /opt/conda/lib/python3.7/site-packages (from pandas->datasets==2.1.0) (2021.3)\r\n",
      "Requirement already satisfied: six>=1.5 in /opt/conda/lib/python3.7/site-packages (from python-dateutil>=2.7.3->pandas->datasets==2.1.0) (1.16.0)\r\n",
      "Installing collected packages: xxhash, responses, datasets\r\n",
      "Successfully installed datasets-2.1.0 responses-0.18.0 xxhash-3.0.0\r\n",
      "\u001b[33mWARNING: Running pip as the 'root' user can result in broken permissions and conflicting behaviour with the system package manager. It is recommended to use a virtual environment instead: https://pip.pypa.io/warnings/venv\u001b[0m\u001b[33m\r\n",
      "\u001b[0m"
     ]
    }
   ],
   "source": [
    "!pip install datasets==2.1.0"
   ]
  },
  {
   "cell_type": "code",
   "execution_count": 3,
   "id": "fad5d8cc",
   "metadata": {
    "execution": {
     "iopub.execute_input": "2022-05-30T15:49:23.528461Z",
     "iopub.status.busy": "2022-05-30T15:49:23.528098Z",
     "iopub.status.idle": "2022-05-30T15:49:23.532428Z",
     "shell.execute_reply": "2022-05-30T15:49:23.531779Z"
    },
    "papermill": {
     "duration": 0.188098,
     "end_time": "2022-05-30T15:49:23.536073",
     "exception": false,
     "start_time": "2022-05-30T15:49:23.347975",
     "status": "completed"
    },
    "tags": []
   },
   "outputs": [],
   "source": [
    "pd.set_option('display.max_rows', 100)"
   ]
  },
  {
   "cell_type": "code",
   "execution_count": 4,
   "id": "6ef04cb7",
   "metadata": {
    "execution": {
     "iopub.execute_input": "2022-05-30T15:49:23.678221Z",
     "iopub.status.busy": "2022-05-30T15:49:23.677919Z",
     "iopub.status.idle": "2022-05-30T15:49:30.472499Z",
     "shell.execute_reply": "2022-05-30T15:49:30.471607Z"
    },
    "papermill": {
     "duration": 6.868165,
     "end_time": "2022-05-30T15:49:30.474621",
     "exception": false,
     "start_time": "2022-05-30T15:49:23.606456",
     "status": "completed"
    },
    "tags": []
   },
   "outputs": [],
   "source": [
    "from datasets import ClassLabel, Value, DatasetDict, Dataset"
   ]
  },
  {
   "cell_type": "code",
   "execution_count": 5,
   "id": "6f6a1033",
   "metadata": {
    "execution": {
     "iopub.execute_input": "2022-05-30T15:49:30.562585Z",
     "iopub.status.busy": "2022-05-30T15:49:30.562348Z",
     "iopub.status.idle": "2022-05-30T15:49:37.407473Z",
     "shell.execute_reply": "2022-05-30T15:49:37.406724Z"
    },
    "papermill": {
     "duration": 6.891475,
     "end_time": "2022-05-30T15:49:37.409548",
     "exception": false,
     "start_time": "2022-05-30T15:49:30.518073",
     "status": "completed"
    },
    "tags": []
   },
   "outputs": [],
   "source": [
    "from transformers import AutoModelForSequenceClassification, AutoTokenizer\n",
    "checkpoint = '../input/rankingmodelsentencetransformers'\n",
    "model = AutoModelForSequenceClassification.from_pretrained(checkpoint, num_labels=50)\n",
    "tokenizer = AutoTokenizer.from_pretrained(checkpoint)"
   ]
  },
  {
   "cell_type": "code",
   "execution_count": 6,
   "id": "2da38bdb",
   "metadata": {
    "execution": {
     "iopub.execute_input": "2022-05-30T15:49:37.499908Z",
     "iopub.status.busy": "2022-05-30T15:49:37.499653Z",
     "iopub.status.idle": "2022-05-30T15:49:40.605647Z",
     "shell.execute_reply": "2022-05-30T15:49:40.604847Z"
    },
    "papermill": {
     "duration": 3.154162,
     "end_time": "2022-05-30T15:49:40.608015",
     "exception": false,
     "start_time": "2022-05-30T15:49:37.453853",
     "status": "completed"
    },
    "tags": []
   },
   "outputs": [],
   "source": [
    "from transformers import pipeline"
   ]
  },
  {
   "cell_type": "code",
   "execution_count": 7,
   "id": "75b981ec",
   "metadata": {
    "execution": {
     "iopub.execute_input": "2022-05-30T15:49:40.703633Z",
     "iopub.status.busy": "2022-05-30T15:49:40.702928Z",
     "iopub.status.idle": "2022-05-30T15:49:40.970258Z",
     "shell.execute_reply": "2022-05-30T15:49:40.969384Z"
    },
    "papermill": {
     "duration": 0.317617,
     "end_time": "2022-05-30T15:49:40.972445",
     "exception": false,
     "start_time": "2022-05-30T15:49:40.654828",
     "status": "completed"
    },
    "tags": []
   },
   "outputs": [],
   "source": [
    "test_df = pd.read_csv('../input/test-ranking-public/data/processed/public/task_1_query-product_ranking/test_public-v0.2.csv')"
   ]
  },
  {
   "cell_type": "code",
   "execution_count": 8,
   "id": "1f5a4c7b",
   "metadata": {
    "execution": {
     "iopub.execute_input": "2022-05-30T15:49:41.073577Z",
     "iopub.status.busy": "2022-05-30T15:49:41.072841Z",
     "iopub.status.idle": "2022-05-30T15:49:41.090157Z",
     "shell.execute_reply": "2022-05-30T15:49:41.089268Z"
    },
    "papermill": {
     "duration": 0.070648,
     "end_time": "2022-05-30T15:49:41.093010",
     "exception": false,
     "start_time": "2022-05-30T15:49:41.022362",
     "status": "completed"
    },
    "tags": []
   },
   "outputs": [
    {
     "data": {
      "text/html": [
       "<div>\n",
       "<style scoped>\n",
       "    .dataframe tbody tr th:only-of-type {\n",
       "        vertical-align: middle;\n",
       "    }\n",
       "\n",
       "    .dataframe tbody tr th {\n",
       "        vertical-align: top;\n",
       "    }\n",
       "\n",
       "    .dataframe thead th {\n",
       "        text-align: right;\n",
       "    }\n",
       "</style>\n",
       "<table border=\"1\" class=\"dataframe\">\n",
       "  <thead>\n",
       "    <tr style=\"text-align: right;\">\n",
       "      <th></th>\n",
       "      <th>query_id</th>\n",
       "      <th>query</th>\n",
       "      <th>query_locale</th>\n",
       "      <th>product_id</th>\n",
       "    </tr>\n",
       "  </thead>\n",
       "  <tbody>\n",
       "    <tr>\n",
       "      <th>0</th>\n",
       "      <td>33777</td>\n",
       "      <td>!qscreen fence without holes</td>\n",
       "      <td>us</td>\n",
       "      <td>B000HMCA7W</td>\n",
       "    </tr>\n",
       "    <tr>\n",
       "      <th>1</th>\n",
       "      <td>33777</td>\n",
       "      <td>!qscreen fence without holes</td>\n",
       "      <td>us</td>\n",
       "      <td>B0019Y6TTC</td>\n",
       "    </tr>\n",
       "    <tr>\n",
       "      <th>2</th>\n",
       "      <td>33777</td>\n",
       "      <td>!qscreen fence without holes</td>\n",
       "      <td>us</td>\n",
       "      <td>B001OJXVKW</td>\n",
       "    </tr>\n",
       "    <tr>\n",
       "      <th>3</th>\n",
       "      <td>33777</td>\n",
       "      <td>!qscreen fence without holes</td>\n",
       "      <td>us</td>\n",
       "      <td>B0030E1WLE</td>\n",
       "    </tr>\n",
       "    <tr>\n",
       "      <th>4</th>\n",
       "      <td>33777</td>\n",
       "      <td>!qscreen fence without holes</td>\n",
       "      <td>us</td>\n",
       "      <td>B003VNKLIY</td>\n",
       "    </tr>\n",
       "  </tbody>\n",
       "</table>\n",
       "</div>"
      ],
      "text/plain": [
       "   query_id                         query query_locale  product_id\n",
       "0     33777  !qscreen fence without holes           us  B000HMCA7W\n",
       "1     33777  !qscreen fence without holes           us  B0019Y6TTC\n",
       "2     33777  !qscreen fence without holes           us  B001OJXVKW\n",
       "3     33777  !qscreen fence without holes           us  B0030E1WLE\n",
       "4     33777  !qscreen fence without holes           us  B003VNKLIY"
      ]
     },
     "execution_count": 8,
     "metadata": {},
     "output_type": "execute_result"
    }
   ],
   "source": [
    "test_df.head()"
   ]
  },
  {
   "cell_type": "code",
   "execution_count": 9,
   "id": "7d123b81",
   "metadata": {
    "execution": {
     "iopub.execute_input": "2022-05-30T15:49:41.193567Z",
     "iopub.status.busy": "2022-05-30T15:49:41.193309Z",
     "iopub.status.idle": "2022-05-30T15:49:50.265166Z",
     "shell.execute_reply": "2022-05-30T15:49:50.264415Z"
    },
    "papermill": {
     "duration": 9.124521,
     "end_time": "2022-05-30T15:49:50.267209",
     "exception": false,
     "start_time": "2022-05-30T15:49:41.142688",
     "status": "completed"
    },
    "tags": []
   },
   "outputs": [],
   "source": [
    "query_prod = {}\n",
    "for index, row in test_df.iterrows():\n",
    "    query_id = str(row['query_id'])\n",
    "    query_locale = str(row['query_locale'])\n",
    "    if query_id not in query_prod.keys():\n",
    "        query_prod[query_id] = {}\n",
    "    if query_locale not in query_prod[query_id].keys():\n",
    "        query_prod[query_id][query_locale] = set()\n",
    "    query_prod[query_id][query_locale].add(str(row['product_id']))"
   ]
  },
  {
   "cell_type": "code",
   "execution_count": 10,
   "id": "524420ae",
   "metadata": {
    "execution": {
     "iopub.execute_input": "2022-05-30T15:49:50.356814Z",
     "iopub.status.busy": "2022-05-30T15:49:50.356565Z",
     "iopub.status.idle": "2022-05-30T15:50:18.047102Z",
     "shell.execute_reply": "2022-05-30T15:50:18.046348Z"
    },
    "papermill": {
     "duration": 27.738457,
     "end_time": "2022-05-30T15:50:18.049946",
     "exception": false,
     "start_time": "2022-05-30T15:49:50.311489",
     "status": "completed"
    },
    "tags": []
   },
   "outputs": [],
   "source": [
    "prod_cat = pd.read_csv('../input/product-catalogue/data/processed/public/task_1_query-product_ranking/product_catalogue-v0.2.csv')"
   ]
  },
  {
   "cell_type": "code",
   "execution_count": 11,
   "id": "23edb12d",
   "metadata": {
    "execution": {
     "iopub.execute_input": "2022-05-30T15:50:18.194957Z",
     "iopub.status.busy": "2022-05-30T15:50:18.194559Z",
     "iopub.status.idle": "2022-05-30T15:50:19.077141Z",
     "shell.execute_reply": "2022-05-30T15:50:19.076383Z"
    },
    "papermill": {
     "duration": 0.957254,
     "end_time": "2022-05-30T15:50:19.079401",
     "exception": false,
     "start_time": "2022-05-30T15:50:18.122147",
     "status": "completed"
    },
    "tags": []
   },
   "outputs": [],
   "source": [
    "query_prod_test = pd.merge(test_df, prod_cat, right_on=['product_id','product_locale'], left_on=['product_id', 'query_locale'], suffixes=('_test','_catlog'), how='left')"
   ]
  },
  {
   "cell_type": "code",
   "execution_count": 12,
   "id": "a55e86ca",
   "metadata": {
    "execution": {
     "iopub.execute_input": "2022-05-30T15:50:19.167978Z",
     "iopub.status.busy": "2022-05-30T15:50:19.166684Z",
     "iopub.status.idle": "2022-05-30T15:50:19.173179Z",
     "shell.execute_reply": "2022-05-30T15:50:19.172537Z"
    },
    "papermill": {
     "duration": 0.052269,
     "end_time": "2022-05-30T15:50:19.174823",
     "exception": false,
     "start_time": "2022-05-30T15:50:19.122554",
     "status": "completed"
    },
    "tags": []
   },
   "outputs": [],
   "source": [
    "def get_query_input(row):\n",
    "    query_info = str(row.get('query', '')) + ' ' + str(row.get('query_locale', ''))\n",
    "    return query_info.strip()\n",
    "\n",
    "d = {'query': 'hi hello',}\n",
    "assert get_query_input(d) == 'hi hello'\n",
    "d = {'query': 'hi hello', 'query_locale': 'en'}\n",
    "assert get_query_input(d) == 'hi hello en'"
   ]
  },
  {
   "cell_type": "code",
   "execution_count": 13,
   "id": "c1f8d44e",
   "metadata": {
    "execution": {
     "iopub.execute_input": "2022-05-30T15:50:19.272614Z",
     "iopub.status.busy": "2022-05-30T15:50:19.272096Z",
     "iopub.status.idle": "2022-05-30T15:50:22.422750Z",
     "shell.execute_reply": "2022-05-30T15:50:22.421992Z"
    },
    "papermill": {
     "duration": 3.205399,
     "end_time": "2022-05-30T15:50:22.425068",
     "exception": false,
     "start_time": "2022-05-30T15:50:19.219669",
     "status": "completed"
    },
    "tags": []
   },
   "outputs": [],
   "source": [
    "query_prod_test.fillna('', inplace=True)\n",
    "query_prod_test['query_input'] = query_prod_test.apply(lambda row: get_query_input(row), axis=1)"
   ]
  },
  {
   "cell_type": "code",
   "execution_count": 14,
   "id": "8f3f43cb",
   "metadata": {
    "execution": {
     "iopub.execute_input": "2022-05-30T15:50:22.513728Z",
     "iopub.status.busy": "2022-05-30T15:50:22.513480Z",
     "iopub.status.idle": "2022-05-30T15:50:22.518405Z",
     "shell.execute_reply": "2022-05-30T15:50:22.517685Z"
    },
    "papermill": {
     "duration": 0.051883,
     "end_time": "2022-05-30T15:50:22.520273",
     "exception": false,
     "start_time": "2022-05-30T15:50:22.468390",
     "status": "completed"
    },
    "tags": []
   },
   "outputs": [],
   "source": [
    "def get_product_input(row):\n",
    "    product_columns = ['product_title', 'product_locale', 'product_description']\n",
    "    product_info = ''\n",
    "    for col in product_columns:\n",
    "        product_info += str(row.get(col, '')) + ' '\n",
    "    return product_info.strip()\n",
    "\n",
    "d = {'product_title': 'hi hello', 'product_locale': 'en', 'product_description': 'nike'}\n",
    "assert get_product_input(d) == 'hi hello en nike'"
   ]
  },
  {
   "cell_type": "code",
   "execution_count": 15,
   "id": "9a5b2130",
   "metadata": {
    "execution": {
     "iopub.execute_input": "2022-05-30T15:50:22.607915Z",
     "iopub.status.busy": "2022-05-30T15:50:22.607679Z",
     "iopub.status.idle": "2022-05-30T15:50:26.572738Z",
     "shell.execute_reply": "2022-05-30T15:50:26.571995Z"
    },
    "papermill": {
     "duration": 4.01137,
     "end_time": "2022-05-30T15:50:26.574823",
     "exception": false,
     "start_time": "2022-05-30T15:50:22.563453",
     "status": "completed"
    },
    "tags": []
   },
   "outputs": [],
   "source": [
    "query_prod_test['product_input'] = query_prod_test.apply(lambda row: get_product_input(row), axis=1)"
   ]
  },
  {
   "cell_type": "code",
   "execution_count": 16,
   "id": "839c030a",
   "metadata": {
    "execution": {
     "iopub.execute_input": "2022-05-30T15:50:26.662658Z",
     "iopub.status.busy": "2022-05-30T15:50:26.662108Z",
     "iopub.status.idle": "2022-05-30T15:50:26.665839Z",
     "shell.execute_reply": "2022-05-30T15:50:26.665187Z"
    },
    "papermill": {
     "duration": 0.049624,
     "end_time": "2022-05-30T15:50:26.667525",
     "exception": false,
     "start_time": "2022-05-30T15:50:26.617901",
     "status": "completed"
    },
    "tags": []
   },
   "outputs": [],
   "source": [
    "scores = {'exact': 1.0, 'substitute': 0.1, 'complement': 0.01, 'irrelevant': 0.0}"
   ]
  },
  {
   "cell_type": "code",
   "execution_count": 17,
   "id": "205a9575",
   "metadata": {
    "execution": {
     "iopub.execute_input": "2022-05-30T15:50:26.754681Z",
     "iopub.status.busy": "2022-05-30T15:50:26.754084Z",
     "iopub.status.idle": "2022-05-30T15:50:26.768500Z",
     "shell.execute_reply": "2022-05-30T15:50:26.767843Z"
    },
    "papermill": {
     "duration": 0.060318,
     "end_time": "2022-05-30T15:50:26.770573",
     "exception": false,
     "start_time": "2022-05-30T15:50:26.710255",
     "status": "completed"
    },
    "tags": []
   },
   "outputs": [
    {
     "data": {
      "text/html": [
       "<div>\n",
       "<style scoped>\n",
       "    .dataframe tbody tr th:only-of-type {\n",
       "        vertical-align: middle;\n",
       "    }\n",
       "\n",
       "    .dataframe tbody tr th {\n",
       "        vertical-align: top;\n",
       "    }\n",
       "\n",
       "    .dataframe thead th {\n",
       "        text-align: right;\n",
       "    }\n",
       "</style>\n",
       "<table border=\"1\" class=\"dataframe\">\n",
       "  <thead>\n",
       "    <tr style=\"text-align: right;\">\n",
       "      <th></th>\n",
       "      <th>query_id</th>\n",
       "      <th>query</th>\n",
       "      <th>query_locale</th>\n",
       "      <th>product_id</th>\n",
       "      <th>product_title</th>\n",
       "      <th>product_description</th>\n",
       "      <th>product_bullet_point</th>\n",
       "      <th>product_brand</th>\n",
       "      <th>product_color_name</th>\n",
       "      <th>product_locale</th>\n",
       "      <th>query_input</th>\n",
       "      <th>product_input</th>\n",
       "    </tr>\n",
       "  </thead>\n",
       "  <tbody>\n",
       "    <tr>\n",
       "      <th>0</th>\n",
       "      <td>33777</td>\n",
       "      <td>!qscreen fence without holes</td>\n",
       "      <td>us</td>\n",
       "      <td>B000HMCA7W</td>\n",
       "      <td>Tenax 60041989 Multi-Purpose Net, 3' x 50', Black</td>\n",
       "      <td></td>\n",
       "      <td>Mesh .70\"X.98\"\\nVirtually invisible\\nWill not ...</td>\n",
       "      <td>Tenax</td>\n",
       "      <td>Black</td>\n",
       "      <td>us</td>\n",
       "      <td>!qscreen fence without holes us</td>\n",
       "      <td>Tenax 60041989 Multi-Purpose Net, 3' x 50', Bl...</td>\n",
       "    </tr>\n",
       "    <tr>\n",
       "      <th>1</th>\n",
       "      <td>33777</td>\n",
       "      <td>!qscreen fence without holes</td>\n",
       "      <td>us</td>\n",
       "      <td>B0019Y6TTC</td>\n",
       "      <td>Garden Creations JB4710 Extendable Instant Fence</td>\n",
       "      <td></td>\n",
       "      <td>EXPANDABLE FLEXI-SCREEN stretch your fence to ...</td>\n",
       "      <td>Creation's Garden Natural Products, Inc</td>\n",
       "      <td>Brown</td>\n",
       "      <td>us</td>\n",
       "      <td>!qscreen fence without holes us</td>\n",
       "      <td>Garden Creations JB4710 Extendable Instant Fen...</td>\n",
       "    </tr>\n",
       "    <tr>\n",
       "      <th>2</th>\n",
       "      <td>33777</td>\n",
       "      <td>!qscreen fence without holes</td>\n",
       "      <td>us</td>\n",
       "      <td>B001OJXVKW</td>\n",
       "      <td>Windscreen4less Heavy Duty Privacy Screen Fenc...</td>\n",
       "      <td></td>\n",
       "      <td>Product measures exactly 50' long x 5'8\" tall,...</td>\n",
       "      <td>Windscreen4less</td>\n",
       "      <td>Black</td>\n",
       "      <td>us</td>\n",
       "      <td>!qscreen fence without holes us</td>\n",
       "      <td>Windscreen4less Heavy Duty Privacy Screen Fenc...</td>\n",
       "    </tr>\n",
       "    <tr>\n",
       "      <th>3</th>\n",
       "      <td>33777</td>\n",
       "      <td>!qscreen fence without holes</td>\n",
       "      <td>us</td>\n",
       "      <td>B0030E1WLE</td>\n",
       "      <td>Richell Freestanding Pet Gate, Large, Origami ...</td>\n",
       "      <td></td>\n",
       "      <td>Freestanding gate with side panels for safely ...</td>\n",
       "      <td>Richell</td>\n",
       "      <td>Origami White</td>\n",
       "      <td>us</td>\n",
       "      <td>!qscreen fence without holes us</td>\n",
       "      <td>Richell Freestanding Pet Gate, Large, Origami ...</td>\n",
       "    </tr>\n",
       "    <tr>\n",
       "      <th>4</th>\n",
       "      <td>33777</td>\n",
       "      <td>!qscreen fence without holes</td>\n",
       "      <td>us</td>\n",
       "      <td>B003VNKLIY</td>\n",
       "      <td>Regalo 192-Inch Super Wide Adjustable Baby Gat...</td>\n",
       "      <td></td>\n",
       "      <td>SUPERWIDE: Fits opens up to 192 inches wide an...</td>\n",
       "      <td>Regalo</td>\n",
       "      <td>White</td>\n",
       "      <td>us</td>\n",
       "      <td>!qscreen fence without holes us</td>\n",
       "      <td>Regalo 192-Inch Super Wide Adjustable Baby Gat...</td>\n",
       "    </tr>\n",
       "  </tbody>\n",
       "</table>\n",
       "</div>"
      ],
      "text/plain": [
       "   query_id                         query query_locale  product_id  \\\n",
       "0     33777  !qscreen fence without holes           us  B000HMCA7W   \n",
       "1     33777  !qscreen fence without holes           us  B0019Y6TTC   \n",
       "2     33777  !qscreen fence without holes           us  B001OJXVKW   \n",
       "3     33777  !qscreen fence without holes           us  B0030E1WLE   \n",
       "4     33777  !qscreen fence without holes           us  B003VNKLIY   \n",
       "\n",
       "                                       product_title product_description  \\\n",
       "0  Tenax 60041989 Multi-Purpose Net, 3' x 50', Black                       \n",
       "1   Garden Creations JB4710 Extendable Instant Fence                       \n",
       "2  Windscreen4less Heavy Duty Privacy Screen Fenc...                       \n",
       "3  Richell Freestanding Pet Gate, Large, Origami ...                       \n",
       "4  Regalo 192-Inch Super Wide Adjustable Baby Gat...                       \n",
       "\n",
       "                                product_bullet_point  \\\n",
       "0  Mesh .70\"X.98\"\\nVirtually invisible\\nWill not ...   \n",
       "1  EXPANDABLE FLEXI-SCREEN stretch your fence to ...   \n",
       "2  Product measures exactly 50' long x 5'8\" tall,...   \n",
       "3  Freestanding gate with side panels for safely ...   \n",
       "4  SUPERWIDE: Fits opens up to 192 inches wide an...   \n",
       "\n",
       "                             product_brand product_color_name product_locale  \\\n",
       "0                                    Tenax              Black             us   \n",
       "1  Creation's Garden Natural Products, Inc              Brown             us   \n",
       "2                          Windscreen4less              Black             us   \n",
       "3                                  Richell      Origami White             us   \n",
       "4                                   Regalo              White             us   \n",
       "\n",
       "                       query_input  \\\n",
       "0  !qscreen fence without holes us   \n",
       "1  !qscreen fence without holes us   \n",
       "2  !qscreen fence without holes us   \n",
       "3  !qscreen fence without holes us   \n",
       "4  !qscreen fence without holes us   \n",
       "\n",
       "                                       product_input  \n",
       "0  Tenax 60041989 Multi-Purpose Net, 3' x 50', Bl...  \n",
       "1  Garden Creations JB4710 Extendable Instant Fen...  \n",
       "2  Windscreen4less Heavy Duty Privacy Screen Fenc...  \n",
       "3  Richell Freestanding Pet Gate, Large, Origami ...  \n",
       "4  Regalo 192-Inch Super Wide Adjustable Baby Gat...  "
      ]
     },
     "execution_count": 17,
     "metadata": {},
     "output_type": "execute_result"
    }
   ],
   "source": [
    "query_prod_test.head()"
   ]
  },
  {
   "cell_type": "code",
   "execution_count": 18,
   "id": "94a9d1e1",
   "metadata": {
    "execution": {
     "iopub.execute_input": "2022-05-30T15:50:26.871531Z",
     "iopub.status.busy": "2022-05-30T15:50:26.871255Z",
     "iopub.status.idle": "2022-05-30T15:50:37.839441Z",
     "shell.execute_reply": "2022-05-30T15:50:37.838707Z"
    },
    "papermill": {
     "duration": 11.020947,
     "end_time": "2022-05-30T15:50:37.841520",
     "exception": false,
     "start_time": "2022-05-30T15:50:26.820573",
     "status": "completed"
    },
    "tags": []
   },
   "outputs": [],
   "source": [
    "\n",
    "test = []\n",
    "for (query_id, query_locale), __df in query_prod_test.groupby(['query_id', 'query_locale']):\n",
    "    if __df.shape[0] < 50:\n",
    "        extra_df = __df.sample(frac=(50//__df.shape[0]) + 1.0, replace=True, random_state=17)\n",
    "    test.append(__df.sample(n=min(50, __df.shape[0]), random_state=17))\n",
    "    if __df.shape[0] < 50:\n",
    "        test.append(extra_df.sample(n=50-__df.shape[0], random_state=17))"
   ]
  },
  {
   "cell_type": "code",
   "execution_count": 19,
   "id": "0a4311f9",
   "metadata": {
    "execution": {
     "iopub.execute_input": "2022-05-30T15:50:37.930835Z",
     "iopub.status.busy": "2022-05-30T15:50:37.930593Z",
     "iopub.status.idle": "2022-05-30T15:50:40.688538Z",
     "shell.execute_reply": "2022-05-30T15:50:40.687811Z"
    },
    "papermill": {
     "duration": 2.804643,
     "end_time": "2022-05-30T15:50:40.690564",
     "exception": false,
     "start_time": "2022-05-30T15:50:37.885921",
     "status": "completed"
    },
    "tags": []
   },
   "outputs": [],
   "source": [
    "final_test_df = pd.concat(test, ignore_index=True)"
   ]
  },
  {
   "cell_type": "code",
   "execution_count": 20,
   "id": "67934d83",
   "metadata": {
    "execution": {
     "iopub.execute_input": "2022-05-30T15:50:40.780022Z",
     "iopub.status.busy": "2022-05-30T15:50:40.779777Z",
     "iopub.status.idle": "2022-05-30T15:50:41.032014Z",
     "shell.execute_reply": "2022-05-30T15:50:41.031186Z"
    },
    "papermill": {
     "duration": 0.299295,
     "end_time": "2022-05-30T15:50:41.034291",
     "exception": false,
     "start_time": "2022-05-30T15:50:40.734996",
     "status": "completed"
    },
    "tags": []
   },
   "outputs": [],
   "source": [
    "for (query_id, query_locale), __df in final_test_df.groupby(['query_id', 'query_locale']):\n",
    "    assert len(__df) == 50, (query_id, query_locale)"
   ]
  },
  {
   "cell_type": "code",
   "execution_count": 21,
   "id": "9b34283e",
   "metadata": {
    "execution": {
     "iopub.execute_input": "2022-05-30T15:50:41.136229Z",
     "iopub.status.busy": "2022-05-30T15:50:41.135510Z",
     "iopub.status.idle": "2022-05-30T15:50:41.152796Z",
     "shell.execute_reply": "2022-05-30T15:50:41.152008Z"
    },
    "papermill": {
     "duration": 0.070454,
     "end_time": "2022-05-30T15:50:41.154748",
     "exception": false,
     "start_time": "2022-05-30T15:50:41.084294",
     "status": "completed"
    },
    "tags": []
   },
   "outputs": [
    {
     "data": {
      "text/html": [
       "<div>\n",
       "<style scoped>\n",
       "    .dataframe tbody tr th:only-of-type {\n",
       "        vertical-align: middle;\n",
       "    }\n",
       "\n",
       "    .dataframe tbody tr th {\n",
       "        vertical-align: top;\n",
       "    }\n",
       "\n",
       "    .dataframe thead th {\n",
       "        text-align: right;\n",
       "    }\n",
       "</style>\n",
       "<table border=\"1\" class=\"dataframe\">\n",
       "  <thead>\n",
       "    <tr style=\"text-align: right;\">\n",
       "      <th></th>\n",
       "      <th>query_id</th>\n",
       "      <th>query</th>\n",
       "      <th>query_locale</th>\n",
       "      <th>product_id</th>\n",
       "      <th>product_title</th>\n",
       "      <th>product_description</th>\n",
       "      <th>product_bullet_point</th>\n",
       "      <th>product_brand</th>\n",
       "      <th>product_color_name</th>\n",
       "      <th>product_locale</th>\n",
       "      <th>query_input</th>\n",
       "      <th>product_input</th>\n",
       "    </tr>\n",
       "  </thead>\n",
       "  <tbody>\n",
       "    <tr>\n",
       "      <th>0</th>\n",
       "      <td>33777</td>\n",
       "      <td>!qscreen fence without holes</td>\n",
       "      <td>us</td>\n",
       "      <td>B07MFP4PPQ</td>\n",
       "      <td>Sunnyglade 6 feet x 50 feet Privacy Screen Fen...</td>\n",
       "      <td></td>\n",
       "      <td>Privacy Solution: Most economical way for priv...</td>\n",
       "      <td>Sunnyglade</td>\n",
       "      <td>Green</td>\n",
       "      <td>us</td>\n",
       "      <td>!qscreen fence without holes us</td>\n",
       "      <td>Sunnyglade 6 feet x 50 feet Privacy Screen Fen...</td>\n",
       "    </tr>\n",
       "    <tr>\n",
       "      <th>1</th>\n",
       "      <td>33777</td>\n",
       "      <td>!qscreen fence without holes</td>\n",
       "      <td>us</td>\n",
       "      <td>B01ESSA9VO</td>\n",
       "      <td>Flux Phenom Magnetic Screen Door - Retractable...</td>\n",
       "      <td>The Flux Phenom magnetic screen door is made f...</td>\n",
       "      <td>🔨Installs in an Instant: Our magnetic door scr...</td>\n",
       "      <td>Flux Phenom</td>\n",
       "      <td>Black</td>\n",
       "      <td>us</td>\n",
       "      <td>!qscreen fence without holes us</td>\n",
       "      <td>Flux Phenom Magnetic Screen Door - Retractable...</td>\n",
       "    </tr>\n",
       "  </tbody>\n",
       "</table>\n",
       "</div>"
      ],
      "text/plain": [
       "   query_id                         query query_locale  product_id  \\\n",
       "0     33777  !qscreen fence without holes           us  B07MFP4PPQ   \n",
       "1     33777  !qscreen fence without holes           us  B01ESSA9VO   \n",
       "\n",
       "                                       product_title  \\\n",
       "0  Sunnyglade 6 feet x 50 feet Privacy Screen Fen...   \n",
       "1  Flux Phenom Magnetic Screen Door - Retractable...   \n",
       "\n",
       "                                 product_description  \\\n",
       "0                                                      \n",
       "1  The Flux Phenom magnetic screen door is made f...   \n",
       "\n",
       "                                product_bullet_point product_brand  \\\n",
       "0  Privacy Solution: Most economical way for priv...    Sunnyglade   \n",
       "1  🔨Installs in an Instant: Our magnetic door scr...   Flux Phenom   \n",
       "\n",
       "  product_color_name product_locale                      query_input  \\\n",
       "0              Green             us  !qscreen fence without holes us   \n",
       "1              Black             us  !qscreen fence without holes us   \n",
       "\n",
       "                                       product_input  \n",
       "0  Sunnyglade 6 feet x 50 feet Privacy Screen Fen...  \n",
       "1  Flux Phenom Magnetic Screen Door - Retractable...  "
      ]
     },
     "execution_count": 21,
     "metadata": {},
     "output_type": "execute_result"
    }
   ],
   "source": [
    "final_test_df.head(2)"
   ]
  },
  {
   "cell_type": "code",
   "execution_count": 22,
   "id": "5bd5c6fd",
   "metadata": {
    "execution": {
     "iopub.execute_input": "2022-05-30T15:50:41.258342Z",
     "iopub.status.busy": "2022-05-30T15:50:41.258039Z",
     "iopub.status.idle": "2022-05-30T15:50:41.265684Z",
     "shell.execute_reply": "2022-05-30T15:50:41.264906Z"
    },
    "papermill": {
     "duration": 0.061645,
     "end_time": "2022-05-30T15:50:41.267495",
     "exception": false,
     "start_time": "2022-05-30T15:50:41.205850",
     "status": "completed"
    },
    "tags": []
   },
   "outputs": [],
   "source": [
    "# convert to query_input [SEP] prod_input1 [SEP] prod_input2 ... [SEP] prod_inputn\n",
    "def ranking_format(df):\n",
    "    train = {}\n",
    "    train['input'] = []\n",
    "    train['prod_ids'] = []\n",
    "    train['query_id'] = []\n",
    "    train['query_locale'] = []\n",
    "    for (query, query_locale), _df in df.groupby(['query_input', 'query_locale']):\n",
    "        input_str = query + '[SEP] '\n",
    "        inputs = _df.product_input.to_list()\n",
    "        ids = _df.product_id.to_list()\n",
    "        for i in inputs:\n",
    "            input_str += i + ' [SEP] '\n",
    "        train['input'].append(input_str.strip())\n",
    "        train['prod_ids'].append(ids)\n",
    "        train['query_id'].append(_df.query_id.to_list()[0])\n",
    "        train['query_locale'].append(query_locale)\n",
    "    return pd.DataFrame.from_dict(train,orient='index').transpose()"
   ]
  },
  {
   "cell_type": "code",
   "execution_count": 23,
   "id": "10b21558",
   "metadata": {
    "execution": {
     "iopub.execute_input": "2022-05-30T15:50:41.367882Z",
     "iopub.status.busy": "2022-05-30T15:50:41.367610Z",
     "iopub.status.idle": "2022-05-30T15:50:43.669013Z",
     "shell.execute_reply": "2022-05-30T15:50:43.668294Z"
    },
    "papermill": {
     "duration": 2.352986,
     "end_time": "2022-05-30T15:50:43.671031",
     "exception": false,
     "start_time": "2022-05-30T15:50:41.318045",
     "status": "completed"
    },
    "tags": []
   },
   "outputs": [],
   "source": [
    "compr_test_df = ranking_format(final_test_df)"
   ]
  },
  {
   "cell_type": "code",
   "execution_count": 24,
   "id": "d5c03b4f",
   "metadata": {
    "execution": {
     "iopub.execute_input": "2022-05-30T15:50:43.762990Z",
     "iopub.status.busy": "2022-05-30T15:50:43.762744Z",
     "iopub.status.idle": "2022-05-30T15:50:43.776082Z",
     "shell.execute_reply": "2022-05-30T15:50:43.775437Z"
    },
    "papermill": {
     "duration": 0.061671,
     "end_time": "2022-05-30T15:50:43.778208",
     "exception": false,
     "start_time": "2022-05-30T15:50:43.716537",
     "status": "completed"
    },
    "tags": []
   },
   "outputs": [
    {
     "data": {
      "text/html": [
       "<div>\n",
       "<style scoped>\n",
       "    .dataframe tbody tr th:only-of-type {\n",
       "        vertical-align: middle;\n",
       "    }\n",
       "\n",
       "    .dataframe tbody tr th {\n",
       "        vertical-align: top;\n",
       "    }\n",
       "\n",
       "    .dataframe thead th {\n",
       "        text-align: right;\n",
       "    }\n",
       "</style>\n",
       "<table border=\"1\" class=\"dataframe\">\n",
       "  <thead>\n",
       "    <tr style=\"text-align: right;\">\n",
       "      <th></th>\n",
       "      <th>input</th>\n",
       "      <th>prod_ids</th>\n",
       "      <th>query_id</th>\n",
       "      <th>query_locale</th>\n",
       "    </tr>\n",
       "  </thead>\n",
       "  <tbody>\n",
       "    <tr>\n",
       "      <th>0</th>\n",
       "      <td>!qscreen fence without holes us[SEP] Sunnyglad...</td>\n",
       "      <td>[B07MFP4PPQ, B01ESSA9VO, B018JYCBWI, B07D7TBSG...</td>\n",
       "      <td>33777</td>\n",
       "      <td>us</td>\n",
       "    </tr>\n",
       "    <tr>\n",
       "      <th>1</th>\n",
       "      <td>#1 rated resveratrol supplement without tea le...</td>\n",
       "      <td>[B08J1ZDJTY, B07B1247Q6, B01N3LZY3O, B08N2XFKX...</td>\n",
       "      <td>33778</td>\n",
       "      <td>us</td>\n",
       "    </tr>\n",
       "    <tr>\n",
       "      <th>2</th>\n",
       "      <td>#10 envelopes without security tint us[SEP] Qu...</td>\n",
       "      <td>[B08P2FWYKG, B074M9XL6R, B06VVLD2GL, B08TRNHQW...</td>\n",
       "      <td>33779</td>\n",
       "      <td>us</td>\n",
       "    </tr>\n",
       "    <tr>\n",
       "      <th>3</th>\n",
       "      <td>#10 standard no tint no window not self seal u...</td>\n",
       "      <td>[B0797ZRR13, B0186D2JGK, B00W3OBU3C, B07C28VWV...</td>\n",
       "      <td>33780</td>\n",
       "      <td>us</td>\n",
       "    </tr>\n",
       "    <tr>\n",
       "      <th>4</th>\n",
       "      <td>$100 things that are not electronics us[SEP] 2...</td>\n",
       "      <td>[B08L37T43T, B083S3ZXDF, B07XG6Y847, B007XVYPS...</td>\n",
       "      <td>33781</td>\n",
       "      <td>us</td>\n",
       "    </tr>\n",
       "  </tbody>\n",
       "</table>\n",
       "</div>"
      ],
      "text/plain": [
       "                                               input  \\\n",
       "0  !qscreen fence without holes us[SEP] Sunnyglad...   \n",
       "1  #1 rated resveratrol supplement without tea le...   \n",
       "2  #10 envelopes without security tint us[SEP] Qu...   \n",
       "3  #10 standard no tint no window not self seal u...   \n",
       "4  $100 things that are not electronics us[SEP] 2...   \n",
       "\n",
       "                                            prod_ids query_id query_locale  \n",
       "0  [B07MFP4PPQ, B01ESSA9VO, B018JYCBWI, B07D7TBSG...    33777           us  \n",
       "1  [B08J1ZDJTY, B07B1247Q6, B01N3LZY3O, B08N2XFKX...    33778           us  \n",
       "2  [B08P2FWYKG, B074M9XL6R, B06VVLD2GL, B08TRNHQW...    33779           us  \n",
       "3  [B0797ZRR13, B0186D2JGK, B00W3OBU3C, B07C28VWV...    33780           us  \n",
       "4  [B08L37T43T, B083S3ZXDF, B07XG6Y847, B007XVYPS...    33781           us  "
      ]
     },
     "execution_count": 24,
     "metadata": {},
     "output_type": "execute_result"
    }
   ],
   "source": [
    "compr_test_df.head()"
   ]
  },
  {
   "cell_type": "code",
   "execution_count": 25,
   "id": "dfb9a541",
   "metadata": {
    "execution": {
     "iopub.execute_input": "2022-05-30T15:50:43.869426Z",
     "iopub.status.busy": "2022-05-30T15:50:43.868805Z",
     "iopub.status.idle": "2022-05-30T15:50:43.873572Z",
     "shell.execute_reply": "2022-05-30T15:50:43.872921Z"
    },
    "papermill": {
     "duration": 0.052581,
     "end_time": "2022-05-30T15:50:43.875362",
     "exception": false,
     "start_time": "2022-05-30T15:50:43.822781",
     "status": "completed"
    },
    "tags": []
   },
   "outputs": [
    {
     "data": {
      "text/plain": [
       "(7246, 4)"
      ]
     },
     "execution_count": 25,
     "metadata": {},
     "output_type": "execute_result"
    }
   ],
   "source": [
    "compr_test_df.shape"
   ]
  },
  {
   "cell_type": "code",
   "execution_count": 26,
   "id": "7649dfeb",
   "metadata": {
    "execution": {
     "iopub.execute_input": "2022-05-30T15:50:43.969460Z",
     "iopub.status.busy": "2022-05-30T15:50:43.969215Z",
     "iopub.status.idle": "2022-05-30T15:50:44.584504Z",
     "shell.execute_reply": "2022-05-30T15:50:44.583768Z"
    },
    "papermill": {
     "duration": 0.666423,
     "end_time": "2022-05-30T15:50:44.586690",
     "exception": false,
     "start_time": "2022-05-30T15:50:43.920267",
     "status": "completed"
    },
    "tags": []
   },
   "outputs": [],
   "source": [
    "import ast\n",
    "compr_test_df['prod_ids'] = compr_test_df['prod_ids'].apply(lambda ids: ast.literal_eval(str(ids)))"
   ]
  },
  {
   "cell_type": "code",
   "execution_count": 27,
   "id": "65eea3c0",
   "metadata": {
    "execution": {
     "iopub.execute_input": "2022-05-30T15:50:44.679173Z",
     "iopub.status.busy": "2022-05-30T15:50:44.678397Z",
     "iopub.status.idle": "2022-05-30T15:50:44.696725Z",
     "shell.execute_reply": "2022-05-30T15:50:44.695992Z"
    },
    "papermill": {
     "duration": 0.066338,
     "end_time": "2022-05-30T15:50:44.698495",
     "exception": false,
     "start_time": "2022-05-30T15:50:44.632157",
     "status": "completed"
    },
    "tags": []
   },
   "outputs": [
    {
     "name": "stdout",
     "output_type": "stream",
     "text": [
      "<class 'pandas.core.frame.DataFrame'>\n",
      "RangeIndex: 7246 entries, 0 to 7245\n",
      "Data columns (total 4 columns):\n",
      " #   Column        Non-Null Count  Dtype \n",
      "---  ------        --------------  ----- \n",
      " 0   input         7246 non-null   object\n",
      " 1   prod_ids      7246 non-null   object\n",
      " 2   query_id      7246 non-null   object\n",
      " 3   query_locale  7246 non-null   object\n",
      "dtypes: object(4)\n",
      "memory usage: 226.6+ KB\n"
     ]
    }
   ],
   "source": [
    "compr_test_df.info()"
   ]
  },
  {
   "cell_type": "code",
   "execution_count": 28,
   "id": "54ba4a13",
   "metadata": {
    "execution": {
     "iopub.execute_input": "2022-05-30T15:50:44.791222Z",
     "iopub.status.busy": "2022-05-30T15:50:44.790596Z",
     "iopub.status.idle": "2022-05-30T15:50:44.803878Z",
     "shell.execute_reply": "2022-05-30T15:50:44.803193Z"
    },
    "papermill": {
     "duration": 0.061848,
     "end_time": "2022-05-30T15:50:44.805846",
     "exception": false,
     "start_time": "2022-05-30T15:50:44.743998",
     "status": "completed"
    },
    "tags": []
   },
   "outputs": [
    {
     "data": {
      "text/html": [
       "<div>\n",
       "<style scoped>\n",
       "    .dataframe tbody tr th:only-of-type {\n",
       "        vertical-align: middle;\n",
       "    }\n",
       "\n",
       "    .dataframe tbody tr th {\n",
       "        vertical-align: top;\n",
       "    }\n",
       "\n",
       "    .dataframe thead th {\n",
       "        text-align: right;\n",
       "    }\n",
       "</style>\n",
       "<table border=\"1\" class=\"dataframe\">\n",
       "  <thead>\n",
       "    <tr style=\"text-align: right;\">\n",
       "      <th></th>\n",
       "      <th>input</th>\n",
       "      <th>prod_ids</th>\n",
       "      <th>query_id</th>\n",
       "      <th>query_locale</th>\n",
       "    </tr>\n",
       "  </thead>\n",
       "  <tbody>\n",
       "    <tr>\n",
       "      <th>0</th>\n",
       "      <td>!qscreen fence without holes us[SEP] Sunnyglad...</td>\n",
       "      <td>[B07MFP4PPQ, B01ESSA9VO, B018JYCBWI, B07D7TBSG...</td>\n",
       "      <td>33777</td>\n",
       "      <td>us</td>\n",
       "    </tr>\n",
       "    <tr>\n",
       "      <th>1</th>\n",
       "      <td>#1 rated resveratrol supplement without tea le...</td>\n",
       "      <td>[B08J1ZDJTY, B07B1247Q6, B01N3LZY3O, B08N2XFKX...</td>\n",
       "      <td>33778</td>\n",
       "      <td>us</td>\n",
       "    </tr>\n",
       "    <tr>\n",
       "      <th>2</th>\n",
       "      <td>#10 envelopes without security tint us[SEP] Qu...</td>\n",
       "      <td>[B08P2FWYKG, B074M9XL6R, B06VVLD2GL, B08TRNHQW...</td>\n",
       "      <td>33779</td>\n",
       "      <td>us</td>\n",
       "    </tr>\n",
       "    <tr>\n",
       "      <th>3</th>\n",
       "      <td>#10 standard no tint no window not self seal u...</td>\n",
       "      <td>[B0797ZRR13, B0186D2JGK, B00W3OBU3C, B07C28VWV...</td>\n",
       "      <td>33780</td>\n",
       "      <td>us</td>\n",
       "    </tr>\n",
       "    <tr>\n",
       "      <th>4</th>\n",
       "      <td>$100 things that are not electronics us[SEP] 2...</td>\n",
       "      <td>[B08L37T43T, B083S3ZXDF, B07XG6Y847, B007XVYPS...</td>\n",
       "      <td>33781</td>\n",
       "      <td>us</td>\n",
       "    </tr>\n",
       "  </tbody>\n",
       "</table>\n",
       "</div>"
      ],
      "text/plain": [
       "                                               input  \\\n",
       "0  !qscreen fence without holes us[SEP] Sunnyglad...   \n",
       "1  #1 rated resveratrol supplement without tea le...   \n",
       "2  #10 envelopes without security tint us[SEP] Qu...   \n",
       "3  #10 standard no tint no window not self seal u...   \n",
       "4  $100 things that are not electronics us[SEP] 2...   \n",
       "\n",
       "                                            prod_ids query_id query_locale  \n",
       "0  [B07MFP4PPQ, B01ESSA9VO, B018JYCBWI, B07D7TBSG...    33777           us  \n",
       "1  [B08J1ZDJTY, B07B1247Q6, B01N3LZY3O, B08N2XFKX...    33778           us  \n",
       "2  [B08P2FWYKG, B074M9XL6R, B06VVLD2GL, B08TRNHQW...    33779           us  \n",
       "3  [B0797ZRR13, B0186D2JGK, B00W3OBU3C, B07C28VWV...    33780           us  \n",
       "4  [B08L37T43T, B083S3ZXDF, B07XG6Y847, B007XVYPS...    33781           us  "
      ]
     },
     "execution_count": 28,
     "metadata": {},
     "output_type": "execute_result"
    }
   ],
   "source": [
    "compr_test_df.head()"
   ]
  },
  {
   "cell_type": "code",
   "execution_count": 29,
   "id": "0d583bdc",
   "metadata": {
    "execution": {
     "iopub.execute_input": "2022-05-30T15:50:44.900632Z",
     "iopub.status.busy": "2022-05-30T15:50:44.900205Z",
     "iopub.status.idle": "2022-05-30T15:50:45.244379Z",
     "shell.execute_reply": "2022-05-30T15:50:45.243485Z"
    },
    "papermill": {
     "duration": 0.393766,
     "end_time": "2022-05-30T15:50:45.246726",
     "exception": false,
     "start_time": "2022-05-30T15:50:44.852960",
     "status": "completed"
    },
    "tags": []
   },
   "outputs": [],
   "source": [
    "for index, row in compr_test_df.iterrows():\n",
    "    assert len(row['prod_ids']) == 50, index"
   ]
  },
  {
   "cell_type": "code",
   "execution_count": 30,
   "id": "740b7a9b",
   "metadata": {
    "execution": {
     "iopub.execute_input": "2022-05-30T15:50:45.351459Z",
     "iopub.status.busy": "2022-05-30T15:50:45.351174Z",
     "iopub.status.idle": "2022-05-30T15:50:50.901382Z",
     "shell.execute_reply": "2022-05-30T15:50:50.900475Z"
    },
    "papermill": {
     "duration": 5.604742,
     "end_time": "2022-05-30T15:50:50.904122",
     "exception": false,
     "start_time": "2022-05-30T15:50:45.299380",
     "status": "completed"
    },
    "tags": []
   },
   "outputs": [
    {
     "name": "stdout",
     "output_type": "stream",
     "text": [
      "0\n"
     ]
    }
   ],
   "source": [
    "from transformers import pipeline\n",
    "import torch\n",
    "device = 0 if torch.cuda.is_available() else -1\n",
    "print(device)\n",
    "pipe = pipeline(\"text-classification\", model=model, tokenizer=tokenizer, device=device)"
   ]
  },
  {
   "cell_type": "code",
   "execution_count": 31,
   "id": "f1522111",
   "metadata": {
    "execution": {
     "iopub.execute_input": "2022-05-30T15:50:51.090057Z",
     "iopub.status.busy": "2022-05-30T15:50:51.089709Z",
     "iopub.status.idle": "2022-05-30T15:54:58.938711Z",
     "shell.execute_reply": "2022-05-30T15:54:58.937839Z"
    },
    "papermill": {
     "duration": 247.948986,
     "end_time": "2022-05-30T15:54:58.940672",
     "exception": false,
     "start_time": "2022-05-30T15:50:50.991686",
     "status": "completed"
    },
    "tags": []
   },
   "outputs": [
    {
     "name": "stdout",
     "output_type": "stream",
     "text": [
      "------------------------------\n",
      "Streaming batch_size=8\n"
     ]
    },
    {
     "data": {
      "application/vnd.jupyter.widget-view+json": {
       "model_id": "d0a7fad3c13d4a11bced7fdbba1e935e",
       "version_major": 2,
       "version_minor": 0
      },
      "text/plain": [
       "  0%|          | 0/7246 [00:00<?, ?it/s]"
      ]
     },
     "metadata": {},
     "output_type": "display_data"
    }
   ],
   "source": [
    "from transformers import pipeline\n",
    "from torch.utils.data import Dataset\n",
    "from tqdm.auto import tqdm\n",
    "\n",
    "sample = compr_test_df.reset_index(drop=True)\n",
    "\n",
    "class MyDataset(Dataset):\n",
    "    def __init__(self, df):\n",
    "        super(Dataset).__init__()\n",
    "        self.df = df\n",
    "        \n",
    "    def __len__(self):\n",
    "        return len(self.df)\n",
    "\n",
    "    def __getitem__(self, i):\n",
    "        return self.df.iloc[i, self.df.columns.get_loc(\"input\")]\n",
    "\n",
    "dataset = MyDataset(sample)\n",
    "preds = []\n",
    "\n",
    "for batch_size in [8]:\n",
    "    print(\"-\" * 30)\n",
    "    print(f\"Streaming batch_size={batch_size}\")\n",
    "    for out in tqdm(pipe(dataset, batch_size=batch_size, truncation=True,return_all_scores=True), total=len(dataset)):\n",
    "        preds.append(out)"
   ]
  },
  {
   "cell_type": "code",
   "execution_count": 32,
   "id": "62d7c4ea",
   "metadata": {
    "execution": {
     "iopub.execute_input": "2022-05-30T15:54:59.042224Z",
     "iopub.status.busy": "2022-05-30T15:54:59.041540Z",
     "iopub.status.idle": "2022-05-30T15:54:59.222913Z",
     "shell.execute_reply": "2022-05-30T15:54:59.222178Z"
    },
    "papermill": {
     "duration": 0.233424,
     "end_time": "2022-05-30T15:54:59.225266",
     "exception": false,
     "start_time": "2022-05-30T15:54:58.991842",
     "status": "completed"
    },
    "tags": []
   },
   "outputs": [],
   "source": [
    "final_preds = []\n",
    "len_preds = 50\n",
    "for pred in preds:\n",
    "    cur_pred = []\n",
    "    for i, output in enumerate(pred):\n",
    "        cur_pred.append((i, output['score']))\n",
    "    cur_pred = sorted(cur_pred, key=lambda x: x[1], reverse=True)\n",
    "    assert len(cur_pred) == len_preds\n",
    "    final_preds.append(cur_pred)"
   ]
  },
  {
   "cell_type": "code",
   "execution_count": 33,
   "id": "5447326e",
   "metadata": {
    "execution": {
     "iopub.execute_input": "2022-05-30T15:54:59.321012Z",
     "iopub.status.busy": "2022-05-30T15:54:59.320312Z",
     "iopub.status.idle": "2022-05-30T15:54:59.325451Z",
     "shell.execute_reply": "2022-05-30T15:54:59.324776Z"
    },
    "papermill": {
     "duration": 0.054626,
     "end_time": "2022-05-30T15:54:59.327255",
     "exception": false,
     "start_time": "2022-05-30T15:54:59.272629",
     "status": "completed"
    },
    "tags": []
   },
   "outputs": [
    {
     "data": {
      "text/plain": [
       "(167799, 4)"
      ]
     },
     "execution_count": 33,
     "metadata": {},
     "output_type": "execute_result"
    }
   ],
   "source": [
    "test_df.shape"
   ]
  },
  {
   "cell_type": "code",
   "execution_count": 34,
   "id": "138f0e7f",
   "metadata": {
    "execution": {
     "iopub.execute_input": "2022-05-30T15:54:59.423784Z",
     "iopub.status.busy": "2022-05-30T15:54:59.423106Z",
     "iopub.status.idle": "2022-05-30T15:54:59.428093Z",
     "shell.execute_reply": "2022-05-30T15:54:59.427408Z"
    },
    "papermill": {
     "duration": 0.055131,
     "end_time": "2022-05-30T15:54:59.429759",
     "exception": false,
     "start_time": "2022-05-30T15:54:59.374628",
     "status": "completed"
    },
    "tags": []
   },
   "outputs": [],
   "source": [
    "sample = compr_test_df.reset_index(drop=True)\n",
    "sample.reset_index(drop=True, inplace=True)"
   ]
  },
  {
   "cell_type": "code",
   "execution_count": 35,
   "id": "400def81",
   "metadata": {
    "execution": {
     "iopub.execute_input": "2022-05-30T15:54:59.526681Z",
     "iopub.status.busy": "2022-05-30T15:54:59.526167Z",
     "iopub.status.idle": "2022-05-30T15:54:59.539660Z",
     "shell.execute_reply": "2022-05-30T15:54:59.538983Z"
    },
    "papermill": {
     "duration": 0.064616,
     "end_time": "2022-05-30T15:54:59.541645",
     "exception": false,
     "start_time": "2022-05-30T15:54:59.477029",
     "status": "completed"
    },
    "tags": []
   },
   "outputs": [
    {
     "data": {
      "text/html": [
       "<div>\n",
       "<style scoped>\n",
       "    .dataframe tbody tr th:only-of-type {\n",
       "        vertical-align: middle;\n",
       "    }\n",
       "\n",
       "    .dataframe tbody tr th {\n",
       "        vertical-align: top;\n",
       "    }\n",
       "\n",
       "    .dataframe thead th {\n",
       "        text-align: right;\n",
       "    }\n",
       "</style>\n",
       "<table border=\"1\" class=\"dataframe\">\n",
       "  <thead>\n",
       "    <tr style=\"text-align: right;\">\n",
       "      <th></th>\n",
       "      <th>input</th>\n",
       "      <th>prod_ids</th>\n",
       "      <th>query_id</th>\n",
       "      <th>query_locale</th>\n",
       "    </tr>\n",
       "  </thead>\n",
       "  <tbody>\n",
       "    <tr>\n",
       "      <th>0</th>\n",
       "      <td>!qscreen fence without holes us[SEP] Sunnyglad...</td>\n",
       "      <td>[B07MFP4PPQ, B01ESSA9VO, B018JYCBWI, B07D7TBSG...</td>\n",
       "      <td>33777</td>\n",
       "      <td>us</td>\n",
       "    </tr>\n",
       "    <tr>\n",
       "      <th>1</th>\n",
       "      <td>#1 rated resveratrol supplement without tea le...</td>\n",
       "      <td>[B08J1ZDJTY, B07B1247Q6, B01N3LZY3O, B08N2XFKX...</td>\n",
       "      <td>33778</td>\n",
       "      <td>us</td>\n",
       "    </tr>\n",
       "    <tr>\n",
       "      <th>2</th>\n",
       "      <td>#10 envelopes without security tint us[SEP] Qu...</td>\n",
       "      <td>[B08P2FWYKG, B074M9XL6R, B06VVLD2GL, B08TRNHQW...</td>\n",
       "      <td>33779</td>\n",
       "      <td>us</td>\n",
       "    </tr>\n",
       "    <tr>\n",
       "      <th>3</th>\n",
       "      <td>#10 standard no tint no window not self seal u...</td>\n",
       "      <td>[B0797ZRR13, B0186D2JGK, B00W3OBU3C, B07C28VWV...</td>\n",
       "      <td>33780</td>\n",
       "      <td>us</td>\n",
       "    </tr>\n",
       "    <tr>\n",
       "      <th>4</th>\n",
       "      <td>$100 things that are not electronics us[SEP] 2...</td>\n",
       "      <td>[B08L37T43T, B083S3ZXDF, B07XG6Y847, B007XVYPS...</td>\n",
       "      <td>33781</td>\n",
       "      <td>us</td>\n",
       "    </tr>\n",
       "  </tbody>\n",
       "</table>\n",
       "</div>"
      ],
      "text/plain": [
       "                                               input  \\\n",
       "0  !qscreen fence without holes us[SEP] Sunnyglad...   \n",
       "1  #1 rated resveratrol supplement without tea le...   \n",
       "2  #10 envelopes without security tint us[SEP] Qu...   \n",
       "3  #10 standard no tint no window not self seal u...   \n",
       "4  $100 things that are not electronics us[SEP] 2...   \n",
       "\n",
       "                                            prod_ids query_id query_locale  \n",
       "0  [B07MFP4PPQ, B01ESSA9VO, B018JYCBWI, B07D7TBSG...    33777           us  \n",
       "1  [B08J1ZDJTY, B07B1247Q6, B01N3LZY3O, B08N2XFKX...    33778           us  \n",
       "2  [B08P2FWYKG, B074M9XL6R, B06VVLD2GL, B08TRNHQW...    33779           us  \n",
       "3  [B0797ZRR13, B0186D2JGK, B00W3OBU3C, B07C28VWV...    33780           us  \n",
       "4  [B08L37T43T, B083S3ZXDF, B07XG6Y847, B007XVYPS...    33781           us  "
      ]
     },
     "execution_count": 35,
     "metadata": {},
     "output_type": "execute_result"
    }
   ],
   "source": [
    "sample.head()"
   ]
  },
  {
   "cell_type": "code",
   "execution_count": 36,
   "id": "d4d09ccb",
   "metadata": {
    "execution": {
     "iopub.execute_input": "2022-05-30T15:54:59.639383Z",
     "iopub.status.busy": "2022-05-30T15:54:59.638837Z",
     "iopub.status.idle": "2022-05-30T15:55:10.907913Z",
     "shell.execute_reply": "2022-05-30T15:55:10.907183Z"
    },
    "papermill": {
     "duration": 11.321179,
     "end_time": "2022-05-30T15:55:10.910382",
     "exception": false,
     "start_time": "2022-05-30T15:54:59.589203",
     "status": "completed"
    },
    "tags": []
   },
   "outputs": [],
   "source": [
    "output = {}\n",
    "output['product_id'] = []\n",
    "output['query_id'] = []\n",
    "for index, row in sample.iterrows():\n",
    "    for pred in final_preds[index]:\n",
    "        #print(row['prod_ids'])\n",
    "        #print(pred)\n",
    "        #break\n",
    "        assert len(row['prod_ids']) == len(final_preds[index]), index \n",
    "        if row['prod_ids'][pred[0]] in query_prod[str(row['query_id'])][str(row['query_locale'])]:\n",
    "            output['query_id'].append(str(row['query_id']))\n",
    "            output['product_id'].append(row['prod_ids'][pred[0]])\n",
    "            query_prod[str(row['query_id'])][str(row['query_locale'])].remove(row['prod_ids'][pred[0]])\n",
    "    for prod in query_prod[str(row['query_id'])][str(row['query_locale'])]:\n",
    "        output['query_id'].append(str(row['query_id']))\n",
    "        output['product_id'].append(prod)"
   ]
  },
  {
   "cell_type": "code",
   "execution_count": 37,
   "id": "6fb07941",
   "metadata": {
    "execution": {
     "iopub.execute_input": "2022-05-30T15:55:11.010281Z",
     "iopub.status.busy": "2022-05-30T15:55:11.009987Z",
     "iopub.status.idle": "2022-05-30T15:55:11.015974Z",
     "shell.execute_reply": "2022-05-30T15:55:11.015310Z"
    },
    "papermill": {
     "duration": 0.058552,
     "end_time": "2022-05-30T15:55:11.018074",
     "exception": false,
     "start_time": "2022-05-30T15:55:10.959522",
     "status": "completed"
    },
    "tags": []
   },
   "outputs": [
    {
     "data": {
      "text/plain": [
       "50"
      ]
     },
     "execution_count": 37,
     "metadata": {},
     "output_type": "execute_result"
    }
   ],
   "source": [
    "len(sample.iloc[4239]['prod_ids'])"
   ]
  },
  {
   "cell_type": "code",
   "execution_count": 38,
   "id": "3767a8e1",
   "metadata": {
    "execution": {
     "iopub.execute_input": "2022-05-30T15:55:11.124699Z",
     "iopub.status.busy": "2022-05-30T15:55:11.124409Z",
     "iopub.status.idle": "2022-05-30T15:55:18.035599Z",
     "shell.execute_reply": "2022-05-30T15:55:18.034520Z"
    },
    "papermill": {
     "duration": 6.965199,
     "end_time": "2022-05-30T15:55:18.038021",
     "exception": false,
     "start_time": "2022-05-30T15:55:11.072822",
     "status": "completed"
    },
    "tags": []
   },
   "outputs": [],
   "source": [
    "output_df = pd.DataFrame.from_dict(output,orient='index').transpose()"
   ]
  },
  {
   "cell_type": "code",
   "execution_count": 39,
   "id": "d65fc298",
   "metadata": {
    "execution": {
     "iopub.execute_input": "2022-05-30T15:55:18.136025Z",
     "iopub.status.busy": "2022-05-30T15:55:18.135781Z",
     "iopub.status.idle": "2022-05-30T15:55:18.459051Z",
     "shell.execute_reply": "2022-05-30T15:55:18.458322Z"
    },
    "papermill": {
     "duration": 0.374467,
     "end_time": "2022-05-30T15:55:18.461242",
     "exception": false,
     "start_time": "2022-05-30T15:55:18.086775",
     "status": "completed"
    },
    "tags": []
   },
   "outputs": [],
   "source": [
    "total = 0\n",
    "for index, row in sample.iterrows():\n",
    "    total += len(set(row['prod_ids']))"
   ]
  },
  {
   "cell_type": "code",
   "execution_count": 40,
   "id": "5c08052e",
   "metadata": {
    "execution": {
     "iopub.execute_input": "2022-05-30T15:55:18.559062Z",
     "iopub.status.busy": "2022-05-30T15:55:18.558458Z",
     "iopub.status.idle": "2022-05-30T15:55:18.566512Z",
     "shell.execute_reply": "2022-05-30T15:55:18.565853Z"
    },
    "papermill": {
     "duration": 0.059139,
     "end_time": "2022-05-30T15:55:18.568522",
     "exception": false,
     "start_time": "2022-05-30T15:55:18.509383",
     "status": "completed"
    },
    "tags": []
   },
   "outputs": [
    {
     "data": {
      "text/html": [
       "<div>\n",
       "<style scoped>\n",
       "    .dataframe tbody tr th:only-of-type {\n",
       "        vertical-align: middle;\n",
       "    }\n",
       "\n",
       "    .dataframe tbody tr th {\n",
       "        vertical-align: top;\n",
       "    }\n",
       "\n",
       "    .dataframe thead th {\n",
       "        text-align: right;\n",
       "    }\n",
       "</style>\n",
       "<table border=\"1\" class=\"dataframe\">\n",
       "  <thead>\n",
       "    <tr style=\"text-align: right;\">\n",
       "      <th></th>\n",
       "      <th>product_id</th>\n",
       "      <th>query_id</th>\n",
       "    </tr>\n",
       "  </thead>\n",
       "  <tbody>\n",
       "    <tr>\n",
       "      <th>0</th>\n",
       "      <td>B078RHZTVK</td>\n",
       "      <td>33777</td>\n",
       "    </tr>\n",
       "    <tr>\n",
       "      <th>1</th>\n",
       "      <td>B07R3TNQDM</td>\n",
       "      <td>33777</td>\n",
       "    </tr>\n",
       "    <tr>\n",
       "      <th>2</th>\n",
       "      <td>B01N4AMZ8Y</td>\n",
       "      <td>33777</td>\n",
       "    </tr>\n",
       "    <tr>\n",
       "      <th>3</th>\n",
       "      <td>B072M34RQC</td>\n",
       "      <td>33777</td>\n",
       "    </tr>\n",
       "    <tr>\n",
       "      <th>4</th>\n",
       "      <td>B0079GH6J6</td>\n",
       "      <td>33777</td>\n",
       "    </tr>\n",
       "  </tbody>\n",
       "</table>\n",
       "</div>"
      ],
      "text/plain": [
       "   product_id query_id\n",
       "0  B078RHZTVK    33777\n",
       "1  B07R3TNQDM    33777\n",
       "2  B01N4AMZ8Y    33777\n",
       "3  B072M34RQC    33777\n",
       "4  B0079GH6J6    33777"
      ]
     },
     "execution_count": 40,
     "metadata": {},
     "output_type": "execute_result"
    }
   ],
   "source": [
    "output_df.head()"
   ]
  },
  {
   "cell_type": "code",
   "execution_count": 41,
   "id": "d1a24d2c",
   "metadata": {
    "execution": {
     "iopub.execute_input": "2022-05-30T15:55:18.666507Z",
     "iopub.status.busy": "2022-05-30T15:55:18.666274Z",
     "iopub.status.idle": "2022-05-30T15:55:18.960678Z",
     "shell.execute_reply": "2022-05-30T15:55:18.959927Z"
    },
    "papermill": {
     "duration": 0.345711,
     "end_time": "2022-05-30T15:55:18.962815",
     "exception": false,
     "start_time": "2022-05-30T15:55:18.617104",
     "status": "completed"
    },
    "tags": []
   },
   "outputs": [],
   "source": [
    "output_df.to_csv('./output.csv', index=False)"
   ]
  },
  {
   "cell_type": "code",
   "execution_count": 42,
   "id": "0ae31d7c",
   "metadata": {
    "execution": {
     "iopub.execute_input": "2022-05-30T15:55:19.062399Z",
     "iopub.status.busy": "2022-05-30T15:55:19.062121Z",
     "iopub.status.idle": "2022-05-30T15:55:19.066926Z",
     "shell.execute_reply": "2022-05-30T15:55:19.066276Z"
    },
    "papermill": {
     "duration": 0.056641,
     "end_time": "2022-05-30T15:55:19.068954",
     "exception": false,
     "start_time": "2022-05-30T15:55:19.012313",
     "status": "completed"
    },
    "tags": []
   },
   "outputs": [
    {
     "data": {
      "text/plain": [
       "(167799, 2)"
      ]
     },
     "execution_count": 42,
     "metadata": {},
     "output_type": "execute_result"
    }
   ],
   "source": [
    "output_df.shape"
   ]
  },
  {
   "cell_type": "code",
   "execution_count": 43,
   "id": "7d6d8c9b",
   "metadata": {
    "execution": {
     "iopub.execute_input": "2022-05-30T15:55:19.167153Z",
     "iopub.status.busy": "2022-05-30T15:55:19.166592Z",
     "iopub.status.idle": "2022-05-30T15:55:19.171545Z",
     "shell.execute_reply": "2022-05-30T15:55:19.170895Z"
    },
    "papermill": {
     "duration": 0.056045,
     "end_time": "2022-05-30T15:55:19.173327",
     "exception": false,
     "start_time": "2022-05-30T15:55:19.117282",
     "status": "completed"
    },
    "tags": []
   },
   "outputs": [
    {
     "data": {
      "text/plain": [
       "(167799, 4)"
      ]
     },
     "execution_count": 43,
     "metadata": {},
     "output_type": "execute_result"
    }
   ],
   "source": [
    "test_df.shape"
   ]
  },
  {
   "cell_type": "code",
   "execution_count": null,
   "id": "f38fe40f",
   "metadata": {
    "papermill": {
     "duration": 0.04919,
     "end_time": "2022-05-30T15:55:19.271836",
     "exception": false,
     "start_time": "2022-05-30T15:55:19.222646",
     "status": "completed"
    },
    "tags": []
   },
   "outputs": [],
   "source": []
  }
 ],
 "metadata": {
  "kernelspec": {
   "display_name": "Python 3",
   "language": "python",
   "name": "python3"
  },
  "language_info": {
   "codemirror_mode": {
    "name": "ipython",
    "version": 3
   },
   "file_extension": ".py",
   "mimetype": "text/x-python",
   "name": "python",
   "nbconvert_exporter": "python",
   "pygments_lexer": "ipython3",
   "version": "3.7.12"
  },
  "papermill": {
   "default_parameters": {},
   "duration": 380.558605,
   "end_time": "2022-05-30T15:55:22.618195",
   "environment_variables": {},
   "exception": null,
   "input_path": "__notebook__.ipynb",
   "output_path": "__notebook__.ipynb",
   "parameters": {},
   "start_time": "2022-05-30T15:49:02.059590",
   "version": "2.3.4"
  },
  "widgets": {
   "application/vnd.jupyter.widget-state+json": {
    "state": {
     "3cf8cf43f23648a3ac327d19a9e49117": {
      "model_module": "@jupyter-widgets/controls",
      "model_module_version": "1.5.0",
      "model_name": "FloatProgressModel",
      "state": {
       "_dom_classes": [],
       "_model_module": "@jupyter-widgets/controls",
       "_model_module_version": "1.5.0",
       "_model_name": "FloatProgressModel",
       "_view_count": null,
       "_view_module": "@jupyter-widgets/controls",
       "_view_module_version": "1.5.0",
       "_view_name": "ProgressView",
       "bar_style": "success",
       "description": "",
       "description_tooltip": null,
       "layout": "IPY_MODEL_53a19f712ac04a90a9ec5aa043623c49",
       "max": 7246.0,
       "min": 0.0,
       "orientation": "horizontal",
       "style": "IPY_MODEL_69a3b7582fd64a16849316dd2fe61130",
       "value": 7246.0
      }
     },
     "3ec095b9fa934193ba927b6aad86405e": {
      "model_module": "@jupyter-widgets/controls",
      "model_module_version": "1.5.0",
      "model_name": "DescriptionStyleModel",
      "state": {
       "_model_module": "@jupyter-widgets/controls",
       "_model_module_version": "1.5.0",
       "_model_name": "DescriptionStyleModel",
       "_view_count": null,
       "_view_module": "@jupyter-widgets/base",
       "_view_module_version": "1.2.0",
       "_view_name": "StyleView",
       "description_width": ""
      }
     },
     "3faa8c5ddbe94f1c8c29bc2493d1d5eb": {
      "model_module": "@jupyter-widgets/controls",
      "model_module_version": "1.5.0",
      "model_name": "HTMLModel",
      "state": {
       "_dom_classes": [],
       "_model_module": "@jupyter-widgets/controls",
       "_model_module_version": "1.5.0",
       "_model_name": "HTMLModel",
       "_view_count": null,
       "_view_module": "@jupyter-widgets/controls",
       "_view_module_version": "1.5.0",
       "_view_name": "HTMLView",
       "description": "",
       "description_tooltip": null,
       "layout": "IPY_MODEL_f516b6f29a4f4a548a02a1ca8a3752fb",
       "placeholder": "​",
       "style": "IPY_MODEL_c91dc90fc38d40d2b4b7461abd7fd869",
       "value": "100%"
      }
     },
     "483ad2216bef4ef8a3d78dc6d4fe45dc": {
      "model_module": "@jupyter-widgets/base",
      "model_module_version": "1.2.0",
      "model_name": "LayoutModel",
      "state": {
       "_model_module": "@jupyter-widgets/base",
       "_model_module_version": "1.2.0",
       "_model_name": "LayoutModel",
       "_view_count": null,
       "_view_module": "@jupyter-widgets/base",
       "_view_module_version": "1.2.0",
       "_view_name": "LayoutView",
       "align_content": null,
       "align_items": null,
       "align_self": null,
       "border": null,
       "bottom": null,
       "display": null,
       "flex": null,
       "flex_flow": null,
       "grid_area": null,
       "grid_auto_columns": null,
       "grid_auto_flow": null,
       "grid_auto_rows": null,
       "grid_column": null,
       "grid_gap": null,
       "grid_row": null,
       "grid_template_areas": null,
       "grid_template_columns": null,
       "grid_template_rows": null,
       "height": null,
       "justify_content": null,
       "justify_items": null,
       "left": null,
       "margin": null,
       "max_height": null,
       "max_width": null,
       "min_height": null,
       "min_width": null,
       "object_fit": null,
       "object_position": null,
       "order": null,
       "overflow": null,
       "overflow_x": null,
       "overflow_y": null,
       "padding": null,
       "right": null,
       "top": null,
       "visibility": null,
       "width": null
      }
     },
     "53a19f712ac04a90a9ec5aa043623c49": {
      "model_module": "@jupyter-widgets/base",
      "model_module_version": "1.2.0",
      "model_name": "LayoutModel",
      "state": {
       "_model_module": "@jupyter-widgets/base",
       "_model_module_version": "1.2.0",
       "_model_name": "LayoutModel",
       "_view_count": null,
       "_view_module": "@jupyter-widgets/base",
       "_view_module_version": "1.2.0",
       "_view_name": "LayoutView",
       "align_content": null,
       "align_items": null,
       "align_self": null,
       "border": null,
       "bottom": null,
       "display": null,
       "flex": null,
       "flex_flow": null,
       "grid_area": null,
       "grid_auto_columns": null,
       "grid_auto_flow": null,
       "grid_auto_rows": null,
       "grid_column": null,
       "grid_gap": null,
       "grid_row": null,
       "grid_template_areas": null,
       "grid_template_columns": null,
       "grid_template_rows": null,
       "height": null,
       "justify_content": null,
       "justify_items": null,
       "left": null,
       "margin": null,
       "max_height": null,
       "max_width": null,
       "min_height": null,
       "min_width": null,
       "object_fit": null,
       "object_position": null,
       "order": null,
       "overflow": null,
       "overflow_x": null,
       "overflow_y": null,
       "padding": null,
       "right": null,
       "top": null,
       "visibility": null,
       "width": null
      }
     },
     "69a3b7582fd64a16849316dd2fe61130": {
      "model_module": "@jupyter-widgets/controls",
      "model_module_version": "1.5.0",
      "model_name": "ProgressStyleModel",
      "state": {
       "_model_module": "@jupyter-widgets/controls",
       "_model_module_version": "1.5.0",
       "_model_name": "ProgressStyleModel",
       "_view_count": null,
       "_view_module": "@jupyter-widgets/base",
       "_view_module_version": "1.2.0",
       "_view_name": "StyleView",
       "bar_color": null,
       "description_width": ""
      }
     },
     "7e71246e046c4a34bcf9739f46de227b": {
      "model_module": "@jupyter-widgets/controls",
      "model_module_version": "1.5.0",
      "model_name": "HTMLModel",
      "state": {
       "_dom_classes": [],
       "_model_module": "@jupyter-widgets/controls",
       "_model_module_version": "1.5.0",
       "_model_name": "HTMLModel",
       "_view_count": null,
       "_view_module": "@jupyter-widgets/controls",
       "_view_module_version": "1.5.0",
       "_view_name": "HTMLView",
       "description": "",
       "description_tooltip": null,
       "layout": "IPY_MODEL_483ad2216bef4ef8a3d78dc6d4fe45dc",
       "placeholder": "​",
       "style": "IPY_MODEL_3ec095b9fa934193ba927b6aad86405e",
       "value": " 7246/7246 [04:07&lt;00:00, 34.63it/s]"
      }
     },
     "c91dc90fc38d40d2b4b7461abd7fd869": {
      "model_module": "@jupyter-widgets/controls",
      "model_module_version": "1.5.0",
      "model_name": "DescriptionStyleModel",
      "state": {
       "_model_module": "@jupyter-widgets/controls",
       "_model_module_version": "1.5.0",
       "_model_name": "DescriptionStyleModel",
       "_view_count": null,
       "_view_module": "@jupyter-widgets/base",
       "_view_module_version": "1.2.0",
       "_view_name": "StyleView",
       "description_width": ""
      }
     },
     "d0a7fad3c13d4a11bced7fdbba1e935e": {
      "model_module": "@jupyter-widgets/controls",
      "model_module_version": "1.5.0",
      "model_name": "HBoxModel",
      "state": {
       "_dom_classes": [],
       "_model_module": "@jupyter-widgets/controls",
       "_model_module_version": "1.5.0",
       "_model_name": "HBoxModel",
       "_view_count": null,
       "_view_module": "@jupyter-widgets/controls",
       "_view_module_version": "1.5.0",
       "_view_name": "HBoxView",
       "box_style": "",
       "children": [
        "IPY_MODEL_3faa8c5ddbe94f1c8c29bc2493d1d5eb",
        "IPY_MODEL_3cf8cf43f23648a3ac327d19a9e49117",
        "IPY_MODEL_7e71246e046c4a34bcf9739f46de227b"
       ],
       "layout": "IPY_MODEL_d35929484c174580b277eb68d07b5a97"
      }
     },
     "d35929484c174580b277eb68d07b5a97": {
      "model_module": "@jupyter-widgets/base",
      "model_module_version": "1.2.0",
      "model_name": "LayoutModel",
      "state": {
       "_model_module": "@jupyter-widgets/base",
       "_model_module_version": "1.2.0",
       "_model_name": "LayoutModel",
       "_view_count": null,
       "_view_module": "@jupyter-widgets/base",
       "_view_module_version": "1.2.0",
       "_view_name": "LayoutView",
       "align_content": null,
       "align_items": null,
       "align_self": null,
       "border": null,
       "bottom": null,
       "display": null,
       "flex": null,
       "flex_flow": null,
       "grid_area": null,
       "grid_auto_columns": null,
       "grid_auto_flow": null,
       "grid_auto_rows": null,
       "grid_column": null,
       "grid_gap": null,
       "grid_row": null,
       "grid_template_areas": null,
       "grid_template_columns": null,
       "grid_template_rows": null,
       "height": null,
       "justify_content": null,
       "justify_items": null,
       "left": null,
       "margin": null,
       "max_height": null,
       "max_width": null,
       "min_height": null,
       "min_width": null,
       "object_fit": null,
       "object_position": null,
       "order": null,
       "overflow": null,
       "overflow_x": null,
       "overflow_y": null,
       "padding": null,
       "right": null,
       "top": null,
       "visibility": null,
       "width": null
      }
     },
     "f516b6f29a4f4a548a02a1ca8a3752fb": {
      "model_module": "@jupyter-widgets/base",
      "model_module_version": "1.2.0",
      "model_name": "LayoutModel",
      "state": {
       "_model_module": "@jupyter-widgets/base",
       "_model_module_version": "1.2.0",
       "_model_name": "LayoutModel",
       "_view_count": null,
       "_view_module": "@jupyter-widgets/base",
       "_view_module_version": "1.2.0",
       "_view_name": "LayoutView",
       "align_content": null,
       "align_items": null,
       "align_self": null,
       "border": null,
       "bottom": null,
       "display": null,
       "flex": null,
       "flex_flow": null,
       "grid_area": null,
       "grid_auto_columns": null,
       "grid_auto_flow": null,
       "grid_auto_rows": null,
       "grid_column": null,
       "grid_gap": null,
       "grid_row": null,
       "grid_template_areas": null,
       "grid_template_columns": null,
       "grid_template_rows": null,
       "height": null,
       "justify_content": null,
       "justify_items": null,
       "left": null,
       "margin": null,
       "max_height": null,
       "max_width": null,
       "min_height": null,
       "min_width": null,
       "object_fit": null,
       "object_position": null,
       "order": null,
       "overflow": null,
       "overflow_x": null,
       "overflow_y": null,
       "padding": null,
       "right": null,
       "top": null,
       "visibility": null,
       "width": null
      }
     }
    },
    "version_major": 2,
    "version_minor": 0
   }
  }
 },
 "nbformat": 4,
 "nbformat_minor": 5
}
